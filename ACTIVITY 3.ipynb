{
 "cells": [
  {
   "cell_type": "code",
   "execution_count": 1,
   "id": "6d8740e4-8a3c-4b73-80cd-135ae71c4ad2",
   "metadata": {},
   "outputs": [
    {
     "name": "stdout",
     "output_type": "stream",
     "text": [
      "Defaulting to user installation because normal site-packages is not writeable\n",
      "Requirement already satisfied: numpy in c:\\users\\lab4-studentpc34\\appdata\\local\\packages\\pythonsoftwarefoundation.python.3.13_qbz5n2kfra8p0\\localcache\\local-packages\\python313\\site-packages (2.2.2)\n",
      "Note: you may need to restart the kernel to use updated packages.\n"
     ]
    },
    {
     "name": "stderr",
     "output_type": "stream",
     "text": [
      "\n",
      "[notice] A new release of pip is available: 24.3.1 -> 25.0.1\n",
      "[notice] To update, run: C:\\Users\\LAB4-StudentPC34\\AppData\\Local\\Microsoft\\WindowsApps\\PythonSoftwareFoundation.Python.3.13_qbz5n2kfra8p0\\python.exe -m pip install --upgrade pip\n"
     ]
    }
   ],
   "source": [
    "pip install numpy"
   ]
  },
  {
   "cell_type": "code",
   "execution_count": 2,
   "id": "101b4dbe-4620-4552-a615-4dcfe127077c",
   "metadata": {},
   "outputs": [
    {
     "name": "stdout",
     "output_type": "stream",
     "text": [
      "Defaulting to user installation because normal site-packages is not writeable\n",
      "Requirement already satisfied: seaborn in c:\\users\\lab4-studentpc34\\appdata\\local\\packages\\pythonsoftwarefoundation.python.3.13_qbz5n2kfra8p0\\localcache\\local-packages\\python313\\site-packages (0.13.2)\n",
      "Requirement already satisfied: numpy!=1.24.0,>=1.20 in c:\\users\\lab4-studentpc34\\appdata\\local\\packages\\pythonsoftwarefoundation.python.3.13_qbz5n2kfra8p0\\localcache\\local-packages\\python313\\site-packages (from seaborn) (2.2.2)\n",
      "Requirement already satisfied: pandas>=1.2 in c:\\users\\lab4-studentpc34\\appdata\\local\\packages\\pythonsoftwarefoundation.python.3.13_qbz5n2kfra8p0\\localcache\\local-packages\\python313\\site-packages (from seaborn) (2.2.3)\n",
      "Requirement already satisfied: matplotlib!=3.6.1,>=3.4 in c:\\users\\lab4-studentpc34\\appdata\\local\\packages\\pythonsoftwarefoundation.python.3.13_qbz5n2kfra8p0\\localcache\\local-packages\\python313\\site-packages (from seaborn) (3.10.0)\n",
      "Requirement already satisfied: contourpy>=1.0.1 in c:\\users\\lab4-studentpc34\\appdata\\local\\packages\\pythonsoftwarefoundation.python.3.13_qbz5n2kfra8p0\\localcache\\local-packages\\python313\\site-packages (from matplotlib!=3.6.1,>=3.4->seaborn) (1.3.1)\n",
      "Requirement already satisfied: cycler>=0.10 in c:\\users\\lab4-studentpc34\\appdata\\local\\packages\\pythonsoftwarefoundation.python.3.13_qbz5n2kfra8p0\\localcache\\local-packages\\python313\\site-packages (from matplotlib!=3.6.1,>=3.4->seaborn) (0.12.1)\n",
      "Requirement already satisfied: fonttools>=4.22.0 in c:\\users\\lab4-studentpc34\\appdata\\local\\packages\\pythonsoftwarefoundation.python.3.13_qbz5n2kfra8p0\\localcache\\local-packages\\python313\\site-packages (from matplotlib!=3.6.1,>=3.4->seaborn) (4.55.3)\n",
      "Requirement already satisfied: kiwisolver>=1.3.1 in c:\\users\\lab4-studentpc34\\appdata\\local\\packages\\pythonsoftwarefoundation.python.3.13_qbz5n2kfra8p0\\localcache\\local-packages\\python313\\site-packages (from matplotlib!=3.6.1,>=3.4->seaborn) (1.4.8)\n",
      "Requirement already satisfied: packaging>=20.0 in c:\\users\\lab4-studentpc34\\appdata\\local\\packages\\pythonsoftwarefoundation.python.3.13_qbz5n2kfra8p0\\localcache\\local-packages\\python313\\site-packages (from matplotlib!=3.6.1,>=3.4->seaborn) (24.2)\n",
      "Requirement already satisfied: pillow>=8 in c:\\users\\lab4-studentpc34\\appdata\\local\\packages\\pythonsoftwarefoundation.python.3.13_qbz5n2kfra8p0\\localcache\\local-packages\\python313\\site-packages (from matplotlib!=3.6.1,>=3.4->seaborn) (11.1.0)\n",
      "Requirement already satisfied: pyparsing>=2.3.1 in c:\\users\\lab4-studentpc34\\appdata\\local\\packages\\pythonsoftwarefoundation.python.3.13_qbz5n2kfra8p0\\localcache\\local-packages\\python313\\site-packages (from matplotlib!=3.6.1,>=3.4->seaborn) (3.2.1)\n",
      "Requirement already satisfied: python-dateutil>=2.7 in c:\\users\\lab4-studentpc34\\appdata\\local\\packages\\pythonsoftwarefoundation.python.3.13_qbz5n2kfra8p0\\localcache\\local-packages\\python313\\site-packages (from matplotlib!=3.6.1,>=3.4->seaborn) (2.9.0.post0)\n",
      "Requirement already satisfied: pytz>=2020.1 in c:\\users\\lab4-studentpc34\\appdata\\local\\packages\\pythonsoftwarefoundation.python.3.13_qbz5n2kfra8p0\\localcache\\local-packages\\python313\\site-packages (from pandas>=1.2->seaborn) (2024.2)\n",
      "Requirement already satisfied: tzdata>=2022.7 in c:\\users\\lab4-studentpc34\\appdata\\local\\packages\\pythonsoftwarefoundation.python.3.13_qbz5n2kfra8p0\\localcache\\local-packages\\python313\\site-packages (from pandas>=1.2->seaborn) (2024.2)\n",
      "Requirement already satisfied: six>=1.5 in c:\\users\\lab4-studentpc34\\appdata\\local\\packages\\pythonsoftwarefoundation.python.3.13_qbz5n2kfra8p0\\localcache\\local-packages\\python313\\site-packages (from python-dateutil>=2.7->matplotlib!=3.6.1,>=3.4->seaborn) (1.17.0)\n",
      "Note: you may need to restart the kernel to use updated packages.\n"
     ]
    },
    {
     "name": "stderr",
     "output_type": "stream",
     "text": [
      "\n",
      "[notice] A new release of pip is available: 24.3.1 -> 25.0.1\n",
      "[notice] To update, run: C:\\Users\\LAB4-StudentPC34\\AppData\\Local\\Microsoft\\WindowsApps\\PythonSoftwareFoundation.Python.3.13_qbz5n2kfra8p0\\python.exe -m pip install --upgrade pip\n"
     ]
    }
   ],
   "source": [
    "pip install seaborn"
   ]
  },
  {
   "cell_type": "code",
   "execution_count": 3,
   "id": "13ccc7e7-9f1d-463c-baa5-9ed10366b8d5",
   "metadata": {},
   "outputs": [
    {
     "name": "stdout",
     "output_type": "stream",
     "text": [
      "Defaulting to user installation because normal site-packages is not writeable\n",
      "Requirement already satisfied: matplotlib in c:\\users\\lab4-studentpc34\\appdata\\local\\packages\\pythonsoftwarefoundation.python.3.13_qbz5n2kfra8p0\\localcache\\local-packages\\python313\\site-packages (3.10.0)\n",
      "Requirement already satisfied: contourpy>=1.0.1 in c:\\users\\lab4-studentpc34\\appdata\\local\\packages\\pythonsoftwarefoundation.python.3.13_qbz5n2kfra8p0\\localcache\\local-packages\\python313\\site-packages (from matplotlib) (1.3.1)\n",
      "Requirement already satisfied: cycler>=0.10 in c:\\users\\lab4-studentpc34\\appdata\\local\\packages\\pythonsoftwarefoundation.python.3.13_qbz5n2kfra8p0\\localcache\\local-packages\\python313\\site-packages (from matplotlib) (0.12.1)\n",
      "Requirement already satisfied: fonttools>=4.22.0 in c:\\users\\lab4-studentpc34\\appdata\\local\\packages\\pythonsoftwarefoundation.python.3.13_qbz5n2kfra8p0\\localcache\\local-packages\\python313\\site-packages (from matplotlib) (4.55.3)\n",
      "Requirement already satisfied: kiwisolver>=1.3.1 in c:\\users\\lab4-studentpc34\\appdata\\local\\packages\\pythonsoftwarefoundation.python.3.13_qbz5n2kfra8p0\\localcache\\local-packages\\python313\\site-packages (from matplotlib) (1.4.8)\n",
      "Requirement already satisfied: numpy>=1.23 in c:\\users\\lab4-studentpc34\\appdata\\local\\packages\\pythonsoftwarefoundation.python.3.13_qbz5n2kfra8p0\\localcache\\local-packages\\python313\\site-packages (from matplotlib) (2.2.2)\n",
      "Requirement already satisfied: packaging>=20.0 in c:\\users\\lab4-studentpc34\\appdata\\local\\packages\\pythonsoftwarefoundation.python.3.13_qbz5n2kfra8p0\\localcache\\local-packages\\python313\\site-packages (from matplotlib) (24.2)\n",
      "Requirement already satisfied: pillow>=8 in c:\\users\\lab4-studentpc34\\appdata\\local\\packages\\pythonsoftwarefoundation.python.3.13_qbz5n2kfra8p0\\localcache\\local-packages\\python313\\site-packages (from matplotlib) (11.1.0)\n",
      "Requirement already satisfied: pyparsing>=2.3.1 in c:\\users\\lab4-studentpc34\\appdata\\local\\packages\\pythonsoftwarefoundation.python.3.13_qbz5n2kfra8p0\\localcache\\local-packages\\python313\\site-packages (from matplotlib) (3.2.1)\n",
      "Requirement already satisfied: python-dateutil>=2.7 in c:\\users\\lab4-studentpc34\\appdata\\local\\packages\\pythonsoftwarefoundation.python.3.13_qbz5n2kfra8p0\\localcache\\local-packages\\python313\\site-packages (from matplotlib) (2.9.0.post0)\n",
      "Requirement already satisfied: six>=1.5 in c:\\users\\lab4-studentpc34\\appdata\\local\\packages\\pythonsoftwarefoundation.python.3.13_qbz5n2kfra8p0\\localcache\\local-packages\\python313\\site-packages (from python-dateutil>=2.7->matplotlib) (1.17.0)\n",
      "Note: you may need to restart the kernel to use updated packages.\n"
     ]
    },
    {
     "name": "stderr",
     "output_type": "stream",
     "text": [
      "\n",
      "[notice] A new release of pip is available: 24.3.1 -> 25.0.1\n",
      "[notice] To update, run: C:\\Users\\LAB4-StudentPC34\\AppData\\Local\\Microsoft\\WindowsApps\\PythonSoftwareFoundation.Python.3.13_qbz5n2kfra8p0\\python.exe -m pip install --upgrade pip\n"
     ]
    }
   ],
   "source": [
    "pip install matplotlib"
   ]
  },
  {
   "cell_type": "code",
   "execution_count": 4,
   "id": "478f4b8a-71ed-4dec-9bb0-36fe9172ac7b",
   "metadata": {},
   "outputs": [
    {
     "name": "stdout",
     "output_type": "stream",
     "text": [
      "Defaulting to user installation because normal site-packages is not writeable\n",
      "Requirement already satisfied: pandas in c:\\users\\lab4-studentpc34\\appdata\\local\\packages\\pythonsoftwarefoundation.python.3.13_qbz5n2kfra8p0\\localcache\\local-packages\\python313\\site-packages (2.2.3)\n",
      "Requirement already satisfied: numpy>=1.26.0 in c:\\users\\lab4-studentpc34\\appdata\\local\\packages\\pythonsoftwarefoundation.python.3.13_qbz5n2kfra8p0\\localcache\\local-packages\\python313\\site-packages (from pandas) (2.2.2)\n",
      "Requirement already satisfied: python-dateutil>=2.8.2 in c:\\users\\lab4-studentpc34\\appdata\\local\\packages\\pythonsoftwarefoundation.python.3.13_qbz5n2kfra8p0\\localcache\\local-packages\\python313\\site-packages (from pandas) (2.9.0.post0)\n",
      "Requirement already satisfied: pytz>=2020.1 in c:\\users\\lab4-studentpc34\\appdata\\local\\packages\\pythonsoftwarefoundation.python.3.13_qbz5n2kfra8p0\\localcache\\local-packages\\python313\\site-packages (from pandas) (2024.2)\n",
      "Requirement already satisfied: tzdata>=2022.7 in c:\\users\\lab4-studentpc34\\appdata\\local\\packages\\pythonsoftwarefoundation.python.3.13_qbz5n2kfra8p0\\localcache\\local-packages\\python313\\site-packages (from pandas) (2024.2)\n",
      "Requirement already satisfied: six>=1.5 in c:\\users\\lab4-studentpc34\\appdata\\local\\packages\\pythonsoftwarefoundation.python.3.13_qbz5n2kfra8p0\\localcache\\local-packages\\python313\\site-packages (from python-dateutil>=2.8.2->pandas) (1.17.0)\n",
      "Note: you may need to restart the kernel to use updated packages.\n"
     ]
    },
    {
     "name": "stderr",
     "output_type": "stream",
     "text": [
      "\n",
      "[notice] A new release of pip is available: 24.3.1 -> 25.0.1\n",
      "[notice] To update, run: C:\\Users\\LAB4-StudentPC34\\AppData\\Local\\Microsoft\\WindowsApps\\PythonSoftwareFoundation.Python.3.13_qbz5n2kfra8p0\\python.exe -m pip install --upgrade pip\n"
     ]
    }
   ],
   "source": [
    "pip install pandas"
   ]
  },
  {
   "cell_type": "code",
   "execution_count": null,
   "id": "72f53ed3-26b4-4b38-98b4-db2524a436cd",
   "metadata": {},
   "outputs": [],
   "source": [
    "import numpy as np\n",
    "import pandas as pd\n",
    "import seaborn as sns\n",
    "import matplotlib.pyplot as plt\n",
    "import warnings"
   ]
  },
  {
   "cell_type": "code",
   "execution_count": null,
   "id": "e4818e65-17af-4fcf-8996-3de40286793c",
   "metadata": {},
   "outputs": [],
   "source": [
    "accidents = pd.read_csv('datasets\\\\accident_data.csv')"
   ]
  },
  {
   "cell_type": "code",
   "execution_count": null,
   "id": "8ef7ad26-7f1b-40d5-99d3-3b5933af0366",
   "metadata": {},
   "outputs": [],
   "source": [
    "accidents.info()"
   ]
  },
  {
   "cell_type": "code",
   "execution_count": null,
   "id": "6dd82f64-4dc8-4709-b652-39490f081e09",
   "metadata": {},
   "outputs": [],
   "source": [
    "accidents.describe(include='all')"
   ]
  },
  {
   "cell_type": "code",
   "execution_count": null,
   "id": "51a35cb7-857d-4440-9053-01c7f6d82305",
   "metadata": {},
   "outputs": [],
   "source": [
    "accidents.isnull().sum()"
   ]
  },
  {
   "cell_type": "code",
   "execution_count": null,
   "id": "24aa2aaf-519b-40c2-a1c1-971196984748",
   "metadata": {},
   "outputs": [],
   "source": [
    "accidents['Latitude'] = accidents['Latitude'].fillna(accidents['Latitude'].mode()[0])"
   ]
  },
  {
   "cell_type": "code",
   "execution_count": null,
   "id": "9638d3d0-a048-46f8-8421-6104af15704f",
   "metadata": {},
   "outputs": [],
   "source": [
    "accidents.isnull().sum()\n"
   ]
  },
  {
   "cell_type": "code",
   "execution_count": null,
   "id": "6745659e-7932-44b5-998d-a379ffc9741e",
   "metadata": {},
   "outputs": [],
   "source": [
    "accidents['Longitude'] = accidents['Longitude'].fillna(accidents['Longitude'].mode()[0])"
   ]
  },
  {
   "cell_type": "code",
   "execution_count": null,
   "id": "6219b8d4-8abf-42e7-bd0d-641e7e9eb419",
   "metadata": {},
   "outputs": [],
   "source": [
    "accidents.isnull().sum()"
   ]
  },
  {
   "cell_type": "code",
   "execution_count": null,
   "id": "3fb04c38-cb28-4316-a4b7-54716ad0eb4d",
   "metadata": {},
   "outputs": [],
   "source": [
    "accidents['Road_Surface_Conditions'] = accidents['Road_Surface_Conditions'].fillna(accidents['Road_Surface_Conditions'].mode()[0])"
   ]
  },
  {
   "cell_type": "code",
   "execution_count": null,
   "id": "a5d5f5e5-d9dc-4cca-9a55-e904962d2794",
   "metadata": {},
   "outputs": [],
   "source": [
    "accidents.isnull().sum()"
   ]
  },
  {
   "cell_type": "code",
   "execution_count": null,
   "id": "e8a9dc36-bd3e-4976-85ee-4898795baece",
   "metadata": {},
   "outputs": [],
   "source": [
    "accidents['Urban_or_Rural_Area'] = accidents['Urban_or_Rural_Area'].fillna(accidents['Urban_or_Rural_Area'].mode()[0])"
   ]
  },
  {
   "cell_type": "code",
   "execution_count": null,
   "id": "4b2ae2b0-0090-4195-aa87-ec249b83bd26",
   "metadata": {},
   "outputs": [],
   "source": [
    "accidents.isnull().sum()"
   ]
  },
  {
   "cell_type": "code",
   "execution_count": null,
   "id": "1c8d46e9-f05b-48cd-b3cb-4884bc4f1b72",
   "metadata": {},
   "outputs": [],
   "source": [
    "accidents['Road_Type'] = accidents['Road_Type'].fillna(\"unknown\")"
   ]
  },
  {
   "cell_type": "code",
   "execution_count": null,
   "id": "58a9e308-d5ec-4ec0-bc76-84cf93138c0c",
   "metadata": {},
   "outputs": [],
   "source": [
    "accidents.isnull().sum()"
   ]
  },
  {
   "cell_type": "code",
   "execution_count": null,
   "id": "89d30e66-768e-4bb7-8ef9-b18d7b592feb",
   "metadata": {},
   "outputs": [],
   "source": [
    "accidents['Weather_Conditions'] = accidents['Weather_Conditions'].fillna(\"unaccounted\")"
   ]
  },
  {
   "cell_type": "code",
   "execution_count": null,
   "id": "738dc8b3-8634-493f-bfa6-3ac33c514c3a",
   "metadata": {},
   "outputs": [],
   "source": [
    "accidents.isnull().sum()"
   ]
  },
  {
   "cell_type": "markdown",
   "id": "c094aaf5-ae8e-4ef9-a95e-c2ed0ab65414",
   "metadata": {},
   "source": [
    "<h1>filling up null values"
   ]
  },
  {
   "cell_type": "code",
   "execution_count": null,
   "id": "589675af-9f99-4eed-8c5b-4a20a4b45888",
   "metadata": {},
   "outputs": [],
   "source": [
    "accidents.dtypes"
   ]
  },
  {
   "cell_type": "code",
   "execution_count": null,
   "id": "6bc0939c-c1af-49ef-b661-3c1c7e7597e7",
   "metadata": {},
   "outputs": [],
   "source": [
    "accidents['Accident Date'] = pd.to_datetime(accidents['Accident Date'], dayfirst = True, errors = 'coerce')"
   ]
  },
  {
   "cell_type": "code",
   "execution_count": null,
   "id": "fd237368-fcac-4c7d-94d1-dacd798c27c3",
   "metadata": {},
   "outputs": [],
   "source": [
    "accidents"
   ]
  },
  {
   "cell_type": "code",
   "execution_count": null,
   "id": "98bd390c-f7a5-4db7-be4b-4d518e903095",
   "metadata": {
    "scrolled": true
   },
   "outputs": [],
   "source": [
    "accidents.info()"
   ]
  },
  {
   "cell_type": "code",
   "execution_count": null,
   "id": "2f2bbb9f-fe73-47c1-8f2c-4092f01ec51f",
   "metadata": {
    "scrolled": true
   },
   "outputs": [],
   "source": [
    "accidents.info()"
   ]
  },
  {
   "cell_type": "code",
   "execution_count": null,
   "id": "27f0241d-fe8f-4d48-8ba9-ec162e967681",
   "metadata": {},
   "outputs": [],
   "source": [
    "accidents['Index'] = accidents['Index'].astype('category')"
   ]
  },
  {
   "cell_type": "code",
   "execution_count": null,
   "id": "1d599fa5-01e1-4a4e-9ea6-f8a387b3e12a",
   "metadata": {},
   "outputs": [],
   "source": [
    "accidents['Accident_Severity'] = accidents['Accident_Severity'].astype('category')"
   ]
  },
  {
   "cell_type": "code",
   "execution_count": null,
   "id": "dbf9cf51-f46a-415c-bc43-dbc15ae87217",
   "metadata": {},
   "outputs": [],
   "source": [
    "accidents['Light_Conditions'] = accidents['Light_Conditions'].astype('category')"
   ]
  },
  {
   "cell_type": "code",
   "execution_count": null,
   "id": "1e968294-604c-4b42-b4b3-951b9fe27276",
   "metadata": {},
   "outputs": [],
   "source": [
    "accidents['District Area'] = accidents['District Area'].astype('category')"
   ]
  },
  {
   "cell_type": "code",
   "execution_count": null,
   "id": "ec158d26-2ed4-40fe-9276-3b1d7a04651b",
   "metadata": {},
   "outputs": [],
   "source": [
    "accidents['Road_Surface_Conditions'] = accidents['Road_Surface_Conditions'].astype('category')"
   ]
  },
  {
   "cell_type": "code",
   "execution_count": null,
   "id": "dd1e0425-f167-42a4-933a-f7d6c352f392",
   "metadata": {},
   "outputs": [],
   "source": [
    "accidents['Road_Type'] = accidents['Road_Type'].astype('category')"
   ]
  },
  {
   "cell_type": "code",
   "execution_count": null,
   "id": "57ae2b05-7a49-4268-b0df-2313189867da",
   "metadata": {},
   "outputs": [],
   "source": [
    "accidents['Urban_or_Rural_Area'] = accidents['Urban_or_Rural_Area'].astype('category')"
   ]
  },
  {
   "cell_type": "code",
   "execution_count": null,
   "id": "b79aaa15-4605-4cef-ad7f-36b9bacf4db3",
   "metadata": {},
   "outputs": [],
   "source": [
    "accidents['Weather_Conditions'] = accidents['Weather_Conditions'].astype('category')"
   ]
  },
  {
   "cell_type": "code",
   "execution_count": null,
   "id": "f1042d05-529a-49dc-b364-0c635b369cea",
   "metadata": {},
   "outputs": [],
   "source": [
    "accidents['Vehicle_Type'] = accidents['Vehicle_Type'].astype('category')"
   ]
  },
  {
   "cell_type": "code",
   "execution_count": null,
   "id": "91d7e242-96df-4a1f-86c8-a9ed236de08d",
   "metadata": {},
   "outputs": [],
   "source": [
    "accidents.info()"
   ]
  },
  {
   "cell_type": "code",
   "execution_count": null,
   "id": "6682652e-5cef-488e-844b-045e36305323",
   "metadata": {},
   "outputs": [],
   "source": [
    "accidents['Year'] = accidents['Accident Date'].dt.year"
   ]
  },
  {
   "cell_type": "code",
   "execution_count": null,
   "id": "ab2177a3-76f8-4e84-a511-e42a6dbe2a85",
   "metadata": {},
   "outputs": [],
   "source": [
    "accidents['Year'] = accidents['Accident Date'].dt.year\n",
    "accidents['Month'] = accidents['Accident Date'].dt.month\n",
    "accidents['Day'] = accidents['Accident Date'].dt.day\n",
    "accidents['DayOfWeek'] = accidents['Accident Date'].dt.dayofweek"
   ]
  },
  {
   "cell_type": "code",
   "execution_count": null,
   "id": "711c90a3-f237-4f12-94f4-5733f0b86ba5",
   "metadata": {},
   "outputs": [],
   "source": [
    "accidents.isnull().sum()"
   ]
  },
  {
   "cell_type": "code",
   "execution_count": null,
   "id": "1799277a-49bf-4712-82dd-90658932cc3d",
   "metadata": {},
   "outputs": [],
   "source": [
    "accidents['Accident Date'] = accidents['Accident Date'].fillna(\"Accident Date\")\n",
    "accidents['Year'] = accidents['Year'].fillna(\"Year\")\n",
    "accidents['Month'] = accidents['Month'].fillna(\"Month\")\n",
    "accidents['Day'] = accidents['Day'].fillna(\"Day\")\n",
    "accidents['DayOfWeek'] = accidents['DayOfWeek'].fillna(\"DayOfWeek\")\n",
    "\n"
   ]
  },
  {
   "cell_type": "code",
   "execution_count": null,
   "id": "7c33577e-1db9-4220-8ef6-2cac96e4f77c",
   "metadata": {},
   "outputs": [],
   "source": [
    "accidents.isnull().sum()"
   ]
  },
  {
   "cell_type": "markdown",
   "id": "22343faf-9029-4d1c-b562-9e3c516a8e27",
   "metadata": {},
   "source": [
    "<h1>INSIGHT 1. number or accidents in year 2019</h1>"
   ]
  },
  {
   "cell_type": "code",
   "execution_count": null,
   "id": "c097865d-1591-4ad6-9ebe-efb2f68047c5",
   "metadata": {},
   "outputs": [],
   "source": [
    "df_2019 = accidents[accidents['Year'] == 2019]\n"
   ]
  },
  {
   "cell_type": "code",
   "execution_count": null,
   "id": "e8396532-9c39-4523-a015-3e920c5a68fc",
   "metadata": {},
   "outputs": [],
   "source": [
    "df_2019"
   ]
  },
  {
   "cell_type": "code",
   "execution_count": null,
   "id": "5b51a9f5-31cf-45be-8a56-753af98539a8",
   "metadata": {},
   "outputs": [],
   "source": [
    "accidents['Year'] == 2019"
   ]
  },
  {
   "cell_type": "code",
   "execution_count": null,
   "id": "e9305d75-7fc1-4ee1-be0f-d40eb408d28a",
   "metadata": {},
   "outputs": [],
   "source": []
  },
  {
   "cell_type": "markdown",
   "id": "a260c660-0510-4b71-9c91-8e4ff0965709",
   "metadata": {},
   "source": [
    "<h1>INSIGHT 2. Accidents with rainy conditions </h1>"
   ]
  },
  {
   "cell_type": "code",
   "execution_count": null,
   "id": "955edfdf-31fb-4596-ae29-d9611966efbf",
   "metadata": {},
   "outputs": [],
   "source": [
    "df_rainy = accidents[accidents['Weather_Conditions'] == 'Rain']\n"
   ]
  },
  {
   "cell_type": "code",
   "execution_count": null,
   "id": "98e20af3-8935-4b24-b273-cbb31b61840c",
   "metadata": {},
   "outputs": [],
   "source": [
    "df_rainy"
   ]
  },
  {
   "cell_type": "code",
   "execution_count": null,
   "id": "acd418d9-28c9-4cfe-8b24-6d5d467bc742",
   "metadata": {},
   "outputs": [],
   "source": []
  },
  {
   "cell_type": "code",
   "execution_count": null,
   "id": "2675e1e2-21fc-4f86-a972-ac6acd41c50b",
   "metadata": {},
   "outputs": [],
   "source": [
    "df_daylight = accidents[accidents['Light_Conditions'] == 'Daylight']\n"
   ]
  },
  {
   "cell_type": "code",
   "execution_count": null,
   "id": "cf668a56-1c29-4d2d-b093-aa689a731b3a",
   "metadata": {},
   "outputs": [],
   "source": [
    "df_daylight"
   ]
  },
  {
   "cell_type": "code",
   "execution_count": null,
   "id": "6db4e838-f419-4c28-a2e0-0839e1f9a89f",
   "metadata": {},
   "outputs": [],
   "source": []
  },
  {
   "cell_type": "raw",
   "id": "1b86aab1-0561-44c0-bd90-3bdf2ed75645",
   "metadata": {},
   "source": [
    "incidents in dry road surface condition"
   ]
  },
  {
   "cell_type": "code",
   "execution_count": null,
   "id": "0770491e-6af7-48f6-ad19-d57e61e48350",
   "metadata": {},
   "outputs": [],
   "source": [
    "df_dry_roads = accidents[accidents['Road_Surface_Conditions'] == 'Dry']\n"
   ]
  },
  {
   "cell_type": "code",
   "execution_count": null,
   "id": "1addbef1-15ee-48a4-88bb-a1a8fc96a6e4",
   "metadata": {},
   "outputs": [],
   "source": [
    "df_dry_roads"
   ]
  },
  {
   "cell_type": "code",
   "execution_count": null,
   "id": "69673f51-0994-401e-9d70-7b4c75f5810b",
   "metadata": {},
   "outputs": [],
   "source": []
  },
  {
   "cell_type": "code",
   "execution_count": null,
   "id": "05474bfa-a9eb-41b7-bc5e-879248b5d1a3",
   "metadata": {},
   "outputs": [],
   "source": [
    "\n",
    "\n"
   ]
  },
  {
   "cell_type": "markdown",
   "id": "fddd87b4-523d-4be2-8d2b-f7a07045b873",
   "metadata": {},
   "source": [
    "<h1>INSIGHT 3. Most common vehicle type in accidents?</h3>\n",
    "\n",
    "<h5>Cars are involved in the majority of accidents.</h5>"
   ]
  },
  {
   "cell_type": "code",
   "execution_count": null,
   "id": "40641b14-b859-4589-8cc3-9042380f07b0",
   "metadata": {},
   "outputs": [],
   "source": [
    "vehicle_counts = accidents[\"Vehicle_Type\"].value_counts()"
   ]
  },
  {
   "cell_type": "code",
   "execution_count": null,
   "id": "4ee63a6a-ddfc-4cc5-aae5-bbf54ab66d95",
   "metadata": {},
   "outputs": [],
   "source": [
    "vehicle_counts"
   ]
  },
  {
   "cell_type": "code",
   "execution_count": null,
   "id": "d47db1fb-7753-4b29-b276-8addc740683f",
   "metadata": {},
   "outputs": [],
   "source": [
    "vehicle = vehicle_counts.idxmax()"
   ]
  },
  {
   "cell_type": "code",
   "execution_count": null,
   "id": "cd3af48b-4fbf-4efa-92a4-6e0911a28339",
   "metadata": {},
   "outputs": [],
   "source": [
    "vehicle"
   ]
  },
  {
   "cell_type": "code",
   "execution_count": null,
   "id": "99dc1cc4-809f-4c2b-bb54-954a2410a031",
   "metadata": {},
   "outputs": [],
   "source": []
  },
  {
   "cell_type": "markdown",
   "id": "06be2295-68db-4f38-8e22-1133e7eefed1",
   "metadata": {},
   "source": [
    "<h1>INSIGHT 4.\n",
    "Most common accident severity type in accidents?\n",
    "\n",
    "<h5>The most common accident severity level is Slight.</h3>"
   ]
  },
  {
   "cell_type": "code",
   "execution_count": null,
   "id": "63ff7411-6e50-4ff2-82a9-133fdffd47d6",
   "metadata": {},
   "outputs": [],
   "source": [
    "severity_counts = accidents[\"Accident_Severity\"].value_counts()"
   ]
  },
  {
   "cell_type": "code",
   "execution_count": null,
   "id": "99276040-feec-4205-b4bf-b79f9396a58c",
   "metadata": {},
   "outputs": [],
   "source": [
    "severity_counts"
   ]
  },
  {
   "cell_type": "code",
   "execution_count": null,
   "id": "5183f995-ed55-4f4a-9900-17215fc3e7c7",
   "metadata": {},
   "outputs": [],
   "source": [
    "severity = severity_counts.idxmax()"
   ]
  },
  {
   "cell_type": "code",
   "execution_count": null,
   "id": "0a6cca0f-f7aa-4b1c-bc30-0db31c9ec6bb",
   "metadata": {},
   "outputs": [],
   "source": [
    "severity"
   ]
  },
  {
   "cell_type": "code",
   "execution_count": null,
   "id": "cc70d007-9a56-403d-a0c5-20d2d1330b21",
   "metadata": {},
   "outputs": [],
   "source": []
  },
  {
   "cell_type": "markdown",
   "id": "9d8ecb7b-f0ad-4ed2-8972-4bf264ed5fec",
   "metadata": {},
   "source": [
    "<h1>INSIGHT 5. what district area has the highest accidents?\n",
    "\n",
    "<h5>Birmingham records the highest number of accidents.</h3>"
   ]
  },
  {
   "cell_type": "code",
   "execution_count": null,
   "id": "64d938d3-5d22-4e7b-8f1c-4864f6843886",
   "metadata": {},
   "outputs": [],
   "source": [
    "district_counts = accidents[\"District Area\"].value_counts()"
   ]
  },
  {
   "cell_type": "code",
   "execution_count": null,
   "id": "80561dab-564f-4994-b089-b747861270ab",
   "metadata": {},
   "outputs": [],
   "source": [
    "district_counts"
   ]
  },
  {
   "cell_type": "code",
   "execution_count": null,
   "id": "92b64b97-34d3-4147-b529-7aaf1fccad5f",
   "metadata": {},
   "outputs": [],
   "source": [
    "district = district_counts.idxmax()"
   ]
  },
  {
   "cell_type": "code",
   "execution_count": null,
   "id": "79d85f80-c173-42e2-b1f2-6311ee262870",
   "metadata": {},
   "outputs": [],
   "source": [
    "district"
   ]
  },
  {
   "cell_type": "code",
   "execution_count": null,
   "id": "75855e59-2718-4568-bf47-73609e3ddb41",
   "metadata": {},
   "outputs": [],
   "source": []
  },
  {
   "cell_type": "markdown",
   "id": "e8f318a2-91bb-48a1-ab26-695a5f53dd47",
   "metadata": {},
   "source": [
    "<h1>INSIGHT 6. on what type of road has the highest number of accidents occur?\n",
    "\n",
    "<h5>A significant number of accidents take place on Single carriageway roads.</h5>"
   ]
  },
  {
   "cell_type": "code",
   "execution_count": null,
   "id": "cc8e96da-45b6-4d41-92d1-75710bb649b6",
   "metadata": {},
   "outputs": [],
   "source": [
    "road_type_counts = accidents[\"Road_Type\"].value_counts()"
   ]
  },
  {
   "cell_type": "code",
   "execution_count": null,
   "id": "b51d759c-dbea-401f-a3c3-1345d24d2f28",
   "metadata": {},
   "outputs": [],
   "source": [
    "road_type_counts"
   ]
  },
  {
   "cell_type": "code",
   "execution_count": null,
   "id": "71a883dd-208e-4136-91ca-71c1d66a0a54",
   "metadata": {},
   "outputs": [],
   "source": [
    "road_type = road_type_counts.idxmax()"
   ]
  },
  {
   "cell_type": "code",
   "execution_count": null,
   "id": "25f84506-cc01-4ce9-a8d5-93265cf7c5fe",
   "metadata": {},
   "outputs": [],
   "source": [
    "road_type"
   ]
  },
  {
   "cell_type": "code",
   "execution_count": null,
   "id": "a8a971a9-d8d8-4f75-b804-2c58f01afde5",
   "metadata": {},
   "outputs": [],
   "source": []
  },
  {
   "cell_type": "markdown",
   "id": "7f301981-2ed4-4cb9-a886-e11b13fe78a3",
   "metadata": {},
   "source": [
    "<h1>INSIGHT 7. most common weather conditions during accidents?</h1>\n",
    "\n",
    "<h5>The most frequent weather condition during accidents is clear skies with no strong winds.</h5>"
   ]
  },
  {
   "cell_type": "code",
   "execution_count": 99,
   "id": "b9e93e88-90cf-4d18-8bc4-bde67699c3cd",
   "metadata": {},
   "outputs": [],
   "source": [
    "weather_counts = accidents[\"Weather_Conditions\"].value_counts()"
   ]
  },
  {
   "cell_type": "code",
   "execution_count": 100,
   "id": "213fe2d7-7eb7-435b-8a13-1d06aeadc800",
   "metadata": {},
   "outputs": [
    {
     "data": {
      "text/plain": [
       "Weather_Conditions\n",
       "Fine no high winds       520885\n",
       "Raining no high winds     79696\n",
       "Other                     17150\n",
       "unaccounted               14128\n",
       "Raining + high winds       9615\n",
       "Fine + high winds          8554\n",
       "Snowing no high winds      6238\n",
       "Fog or mist                3528\n",
       "Snowing + high winds        885\n",
       "Name: count, dtype: int64"
      ]
     },
     "execution_count": 100,
     "metadata": {},
     "output_type": "execute_result"
    }
   ],
   "source": [
    "weather_counts"
   ]
  },
  {
   "cell_type": "code",
   "execution_count": 101,
   "id": "cb3e9d81-ed92-4af4-aae0-eac336983ee4",
   "metadata": {},
   "outputs": [],
   "source": [
    "weather = weather_counts.idxmax()"
   ]
  },
  {
   "cell_type": "code",
   "execution_count": 102,
   "id": "dccc00cb-3f59-4ef7-9c84-9dc8018d8685",
   "metadata": {},
   "outputs": [
    {
     "data": {
      "text/plain": [
       "'Fine no high winds'"
      ]
     },
     "execution_count": 102,
     "metadata": {},
     "output_type": "execute_result"
    }
   ],
   "source": [
    "weather"
   ]
  },
  {
   "cell_type": "code",
   "execution_count": null,
   "id": "de5e9ddd-9d08-413c-a25b-d4db068a2c9f",
   "metadata": {},
   "outputs": [],
   "source": []
  },
  {
   "cell_type": "markdown",
   "id": "16f48608-3920-47ba-914b-15b84e8911a2",
   "metadata": {},
   "source": [
    "<h1>INSIGHT 8. most accidents happen in?</h1>\n",
    "\n",
    "<h5>Accidents are more prevalent in Urban areas.</h5>"
   ]
  },
  {
   "cell_type": "code",
   "execution_count": 103,
   "id": "ade821a7-b3d3-40fd-a22c-a96fd99ef765",
   "metadata": {},
   "outputs": [],
   "source": [
    "urban_rural = accidents[\"Urban_or_Rural_Area\"].value_counts()"
   ]
  },
  {
   "cell_type": "code",
   "execution_count": 104,
   "id": "3ef92d0e-d665-4a39-b4cf-25ea7d9e1047",
   "metadata": {},
   "outputs": [
    {
     "data": {
      "text/plain": [
       "Urban_or_Rural_Area\n",
       "Urban          421678\n",
       "Rural          238990\n",
       "Unallocated        11\n",
       "Name: count, dtype: int64"
      ]
     },
     "execution_count": 104,
     "metadata": {},
     "output_type": "execute_result"
    }
   ],
   "source": [
    "urban_rural"
   ]
  },
  {
   "cell_type": "code",
   "execution_count": 105,
   "id": "46f77c7c-7abb-4aa4-9ffc-e61e2d1060ab",
   "metadata": {},
   "outputs": [],
   "source": [
    "urban_or_rural = urban_rural.idxmax()"
   ]
  },
  {
   "cell_type": "code",
   "execution_count": 106,
   "id": "61a86d56-7128-4c82-a1de-0b42a73c2195",
   "metadata": {},
   "outputs": [
    {
     "data": {
      "text/plain": [
       "'Urban'"
      ]
     },
     "execution_count": 106,
     "metadata": {},
     "output_type": "execute_result"
    }
   ],
   "source": [
    "urban_or_rural"
   ]
  },
  {
   "cell_type": "code",
   "execution_count": null,
   "id": "eab19933-456f-4354-b438-d5922e572447",
   "metadata": {},
   "outputs": [],
   "source": []
  },
  {
   "cell_type": "markdown",
   "id": "7285354c-fda6-4e12-9e86-f7126aea522c",
   "metadata": {},
   "source": [
    "<h1>INSIGHT 9. Average number of casualties per accident</h1>\n",
    "\n",
    "<h5>average number of casualties per accident is  1.35</h5>"
   ]
  },
  {
   "cell_type": "code",
   "execution_count": 107,
   "id": "b0d217a3-5ef3-4e89-b3f2-cedb40751529",
   "metadata": {},
   "outputs": [],
   "source": [
    "avg_casualties = accidents[\"Number_of_Casualties\"].mean()"
   ]
  },
  {
   "cell_type": "code",
   "execution_count": 108,
   "id": "10822110-1694-4ff8-84e5-3be2f1bbfacc",
   "metadata": {},
   "outputs": [
    {
     "data": {
      "text/plain": [
       "np.float64(1.357040257068864)"
      ]
     },
     "execution_count": 108,
     "metadata": {},
     "output_type": "execute_result"
    }
   ],
   "source": [
    "avg_casualties"
   ]
  },
  {
   "cell_type": "code",
   "execution_count": null,
   "id": "ee99e871-e9c0-4514-bdcd-c5cd91404ebe",
   "metadata": {},
   "outputs": [],
   "source": []
  },
  {
   "cell_type": "markdown",
   "id": "9b272c82-987d-4813-a351-59431e38d464",
   "metadata": {},
   "source": [
    "<h1>INSIGHT 10. most common light condition happens in?</h1>\n",
    "\n",
    "<h5>The most common lighting condition during accidents is Daylight.</h5>"
   ]
  },
  {
   "cell_type": "code",
   "execution_count": 109,
   "id": "a5209dcf-6ed8-4126-96b7-8d8b86c7bf15",
   "metadata": {},
   "outputs": [],
   "source": [
    "light_conditions = accidents[\"Light_Conditions\"].value_counts()"
   ]
  },
  {
   "cell_type": "code",
   "execution_count": 110,
   "id": "9804feaa-08e5-4d35-8f67-6f8c2f9f8074",
   "metadata": {},
   "outputs": [
    {
     "data": {
      "text/plain": [
       "Light_Conditions\n",
       "Daylight                       484880\n",
       "Darkness - lights lit          129335\n",
       "Darkness - no lighting          37437\n",
       "Darkness - lighting unknown      6484\n",
       "Darkness - lights unlit          2543\n",
       "Name: count, dtype: int64"
      ]
     },
     "execution_count": 110,
     "metadata": {},
     "output_type": "execute_result"
    }
   ],
   "source": [
    "light_conditions"
   ]
  },
  {
   "cell_type": "code",
   "execution_count": 111,
   "id": "57348559-f461-4747-b3cc-20f6cf98b675",
   "metadata": {},
   "outputs": [],
   "source": [
    "light = light_conditions.idxmax()"
   ]
  },
  {
   "cell_type": "code",
   "execution_count": 112,
   "id": "ade21238-63f2-429e-b5a1-e5c0075303ef",
   "metadata": {},
   "outputs": [
    {
     "data": {
      "text/plain": [
       "'Daylight'"
      ]
     },
     "execution_count": 112,
     "metadata": {},
     "output_type": "execute_result"
    }
   ],
   "source": [
    "light"
   ]
  },
  {
   "cell_type": "code",
   "execution_count": null,
   "id": "27764187-f2f9-4ff8-8e2b-0e08a90bc684",
   "metadata": {},
   "outputs": [],
   "source": []
  },
  {
   "cell_type": "markdown",
   "id": "76c2eb81-6e2f-4562-8c16-acc1342a2fd9",
   "metadata": {},
   "source": [
    "<h1>INSIGHT 11. highest avg of casualties</h1>\n",
    "\n",
    "<h5>the highest average casualties is Rural.</h5>"
   ]
  },
  {
   "cell_type": "code",
   "execution_count": 113,
   "id": "5980925a-ffb1-4739-aa5f-d40ac2b7caa5",
   "metadata": {},
   "outputs": [
    {
     "name": "stderr",
     "output_type": "stream",
     "text": [
      "C:\\Users\\LAB4-StudentPC34\\AppData\\Local\\Temp\\ipykernel_9244\\3301290915.py:1: FutureWarning: The default of observed=False is deprecated and will be changed to True in a future version of pandas. Pass observed=False to retain current behavior or observed=True to adopt the future default and silence this warning.\n",
      "  highest_avg_casualties = accidents.groupby('Urban_or_Rural_Area')['Number_of_Casualties'].mean()\n"
     ]
    }
   ],
   "source": [
    "highest_avg_casualties = accidents.groupby('Urban_or_Rural_Area')['Number_of_Casualties'].mean()\n"
   ]
  },
  {
   "cell_type": "code",
   "execution_count": 114,
   "id": "4c62c649-cf04-4ee2-ad4a-4ff69900487f",
   "metadata": {},
   "outputs": [
    {
     "data": {
      "text/plain": [
       "Urban_or_Rural_Area\n",
       "Rural          1.479204\n",
       "Unallocated    1.181818\n",
       "Urban          1.287807\n",
       "Name: Number_of_Casualties, dtype: float64"
      ]
     },
     "execution_count": 114,
     "metadata": {},
     "output_type": "execute_result"
    }
   ],
   "source": [
    "highest_avg_casualties"
   ]
  },
  {
   "cell_type": "code",
   "execution_count": 115,
   "id": "5964c3e5-4ad0-4cf6-afc2-f2e82f35b86a",
   "metadata": {},
   "outputs": [],
   "source": [
    "highest = highest_avg_casualties.idxmax()"
   ]
  },
  {
   "cell_type": "code",
   "execution_count": 116,
   "id": "a3947686-a6d8-4c6f-9172-8b603191ba52",
   "metadata": {},
   "outputs": [
    {
     "data": {
      "text/plain": [
       "'Rural'"
      ]
     },
     "execution_count": 116,
     "metadata": {},
     "output_type": "execute_result"
    }
   ],
   "source": [
    "highest"
   ]
  },
  {
   "cell_type": "code",
   "execution_count": null,
   "id": "01e5d719-c055-4f82-93b3-f02d08e9ff2c",
   "metadata": {},
   "outputs": [],
   "source": []
  },
  {
   "cell_type": "markdown",
   "id": "43b36ce0-e163-4e4c-8d7c-03c1fcfcbf31",
   "metadata": {},
   "source": [
    "<h1>INSIGHT 12. avg number of vehicles involved in accidents</h1>\n",
    "\n",
    "<h5>he average number of vehicles involved in an accident is 1.83.</h5>"
   ]
  },
  {
   "cell_type": "code",
   "execution_count": 117,
   "id": "c8e4161a-cb58-4ba7-a688-c5b60d71bf18",
   "metadata": {},
   "outputs": [],
   "source": [
    "vehicles = accidents[\"Number_of_Vehicles\"].mean()"
   ]
  },
  {
   "cell_type": "code",
   "execution_count": 118,
   "id": "0b738cc1-beea-46cd-b5f3-6a2e6b24a1d2",
   "metadata": {},
   "outputs": [
    {
     "data": {
      "text/plain": [
       "np.float64(1.8312554205597575)"
      ]
     },
     "execution_count": 118,
     "metadata": {},
     "output_type": "execute_result"
    }
   ],
   "source": [
    "vehicles"
   ]
  },
  {
   "cell_type": "code",
   "execution_count": null,
   "id": "12ef74da-916b-4e32-8426-191078e2be1c",
   "metadata": {},
   "outputs": [],
   "source": []
  },
  {
   "cell_type": "markdown",
   "id": "df7a0283-db8f-43ff-a281-f451859484c5",
   "metadata": {},
   "source": [
    "<h1>INSIGHTS 13. vehicle type w the least accidents</h1>\n",
    "\n",
    "<H5>the vehicle with the least accidents is the ridden horse</H5>"
   ]
  },
  {
   "cell_type": "code",
   "execution_count": 119,
   "id": "3791af2b-9136-4040-b332-3919119a39ed",
   "metadata": {},
   "outputs": [],
   "source": [
    "least_vehicle = accidents['Vehicle_Type'].value_counts()"
   ]
  },
  {
   "cell_type": "code",
   "execution_count": 120,
   "id": "5cd1478b-0a9a-4b6e-b49a-7ad91a032f3a",
   "metadata": {},
   "outputs": [
    {
     "data": {
      "text/plain": [
       "Vehicle_Type\n",
       "Car                                      497992\n",
       "Van / Goods 3.5 tonnes mgw or under       34160\n",
       "Bus or coach (17 or more pass seats)      25878\n",
       "Motorcycle over 500cc                     25657\n",
       "Goods 7.5 tonnes mgw and over             17307\n",
       "Motorcycle 125cc and under                15269\n",
       "Taxi/Private hire car                     13294\n",
       "Motorcycle over 125cc and up to 500cc      7656\n",
       "Motorcycle 50cc and under                  7603\n",
       "Goods over 3.5t. and under 7.5t            6096\n",
       "Other vehicle                              5637\n",
       "Minibus (8 - 16 passenger seats)           1976\n",
       "Agricultural vehicle                       1947\n",
       "Pedal cycle                                 197\n",
       "Data missing or out of range                  6\n",
       "Ridden horse                                  4\n",
       "Name: count, dtype: int64"
      ]
     },
     "execution_count": 120,
     "metadata": {},
     "output_type": "execute_result"
    }
   ],
   "source": [
    "least_vehicle"
   ]
  },
  {
   "cell_type": "code",
   "execution_count": 121,
   "id": "67bb1c4a-2ccd-4cdb-bfc9-5892a491923c",
   "metadata": {},
   "outputs": [],
   "source": [
    "vehicle = vehicle_counts.idxmin()"
   ]
  },
  {
   "cell_type": "code",
   "execution_count": 122,
   "id": "7368bfdd-b8ca-4eb0-865a-f30468f0b42f",
   "metadata": {},
   "outputs": [
    {
     "data": {
      "text/plain": [
       "'Ridden horse'"
      ]
     },
     "execution_count": 122,
     "metadata": {},
     "output_type": "execute_result"
    }
   ],
   "source": [
    "vehicle"
   ]
  },
  {
   "cell_type": "markdown",
   "id": "349c13ce-a705-42e2-ba35-0fd579ef7f91",
   "metadata": {},
   "source": [
    "<H1>INSIGHT 14. the vehicle type with the highest casualty rate </H1>"
   ]
  },
  {
   "cell_type": "code",
   "execution_count": 123,
   "id": "6d041f23-5c90-4536-bfda-5f6fc6a5a312",
   "metadata": {},
   "outputs": [
    {
     "name": "stderr",
     "output_type": "stream",
     "text": [
      "C:\\Users\\LAB4-StudentPC34\\AppData\\Local\\Temp\\ipykernel_9244\\3567246894.py:1: FutureWarning: The default of observed=False is deprecated and will be changed to True in a future version of pandas. Pass observed=False to retain current behavior or observed=True to adopt the future default and silence this warning.\n",
      "  vehicle_heighest_casualties = accidents.groupby(\"Vehicle_Type\")[\"Number_of_Casualties\"].mean().idxmax()\n"
     ]
    }
   ],
   "source": [
    "vehicle_heighest_casualties = accidents.groupby(\"Vehicle_Type\")[\"Number_of_Casualties\"].mean().idxmax()"
   ]
  },
  {
   "cell_type": "code",
   "execution_count": 124,
   "id": "58147e2b-d78a-4ebf-ad33-42ae4c2ae873",
   "metadata": {},
   "outputs": [
    {
     "data": {
      "text/plain": [
       "'Data missing or out of range'"
      ]
     },
     "execution_count": 124,
     "metadata": {},
     "output_type": "execute_result"
    }
   ],
   "source": [
    "vehicle_heighest_casualties"
   ]
  },
  {
   "cell_type": "code",
   "execution_count": null,
   "id": "f755163e-d606-4248-b9f3-a76dd3e2e0e1",
   "metadata": {},
   "outputs": [],
   "source": []
  },
  {
   "cell_type": "markdown",
   "id": "93b1a0f8-9367-45f1-a3f2-2812f793776b",
   "metadata": {},
   "source": [
    "<h1>INSIGHT 15. region with the highest percentage of severe accidents</h1>"
   ]
  },
  {
   "cell_type": "code",
   "execution_count": 125,
   "id": "3531a891-84c4-45a5-8f65-13c40065ad6b",
   "metadata": {},
   "outputs": [],
   "source": [
    "severe_accidents = accidents[accidents[\"Accident_Severity\"] == \"Severe\"]"
   ]
  },
  {
   "cell_type": "code",
   "execution_count": 126,
   "id": "508bd3a0-c558-475e-974a-c280cc3e80cf",
   "metadata": {},
   "outputs": [],
   "source": [
    "region = severe_accidents['District Area'].value_counts().idxmax()"
   ]
  },
  {
   "cell_type": "code",
   "execution_count": 133,
   "id": "b52668ab-960d-4c30-ab8d-d60c9fba5c7d",
   "metadata": {},
   "outputs": [
    {
     "data": {
      "text/plain": [
       "'York'"
      ]
     },
     "execution_count": 133,
     "metadata": {},
     "output_type": "execute_result"
    }
   ],
   "source": [
    "region"
   ]
  },
  {
   "cell_type": "markdown",
   "id": "f5e35533-c084-4bb6-95ca-11879b2c5df2",
   "metadata": {},
   "source": [
    "<h1>INSIGHT 16. wet and icy roads show higher casualty rates</h1>"
   ]
  },
  {
   "cell_type": "code",
   "execution_count": 134,
   "id": "fb4f1bfb-9583-4c33-9586-5bb150f7b552",
   "metadata": {},
   "outputs": [
    {
     "name": "stderr",
     "output_type": "stream",
     "text": [
      "C:\\Users\\LAB4-StudentPC34\\AppData\\Local\\Temp\\ipykernel_9244\\1552962360.py:1: FutureWarning: The default of observed=False is deprecated and will be changed to True in a future version of pandas. Pass observed=False to retain current behavior or observed=True to adopt the future default and silence this warning.\n",
      "  accidents_urban_rural = accidents.groupby(['Urban_or_Rural_Area', 'Accident_Severity']).size().unstack()\n"
     ]
    }
   ],
   "source": [
    "accidents_urban_rural = accidents.groupby(['Urban_or_Rural_Area', 'Accident_Severity']).size().unstack()"
   ]
  },
  {
   "cell_type": "code",
   "execution_count": 148,
   "id": "c0ace1f1-355e-4a6a-9f59-182b2bd5ea1a",
   "metadata": {},
   "outputs": [
    {
     "data": {
      "text/html": [
       "<div>\n",
       "<style scoped>\n",
       "    .dataframe tbody tr th:only-of-type {\n",
       "        vertical-align: middle;\n",
       "    }\n",
       "\n",
       "    .dataframe tbody tr th {\n",
       "        vertical-align: top;\n",
       "    }\n",
       "\n",
       "    .dataframe thead th {\n",
       "        text-align: right;\n",
       "    }\n",
       "</style>\n",
       "<table border=\"1\" class=\"dataframe\">\n",
       "  <thead>\n",
       "    <tr style=\"text-align: right;\">\n",
       "      <th>Accident_Severity</th>\n",
       "      <th>Fatal</th>\n",
       "      <th>Serious</th>\n",
       "      <th>Slight</th>\n",
       "    </tr>\n",
       "    <tr>\n",
       "      <th>Urban_or_Rural_Area</th>\n",
       "      <th></th>\n",
       "      <th></th>\n",
       "      <th></th>\n",
       "    </tr>\n",
       "  </thead>\n",
       "  <tbody>\n",
       "    <tr>\n",
       "      <th>Rural</th>\n",
       "      <td>5601</td>\n",
       "      <td>37312</td>\n",
       "      <td>196077</td>\n",
       "    </tr>\n",
       "    <tr>\n",
       "      <th>Unallocated</th>\n",
       "      <td>0</td>\n",
       "      <td>1</td>\n",
       "      <td>10</td>\n",
       "    </tr>\n",
       "    <tr>\n",
       "      <th>Urban</th>\n",
       "      <td>3060</td>\n",
       "      <td>50904</td>\n",
       "      <td>367714</td>\n",
       "    </tr>\n",
       "  </tbody>\n",
       "</table>\n",
       "</div>"
      ],
      "text/plain": [
       "Accident_Severity    Fatal  Serious  Slight\n",
       "Urban_or_Rural_Area                        \n",
       "Rural                 5601    37312  196077\n",
       "Unallocated              0        1      10\n",
       "Urban                 3060    50904  367714"
      ]
     },
     "execution_count": 148,
     "metadata": {},
     "output_type": "execute_result"
    }
   ],
   "source": [
    "accidents_urban_rural"
   ]
  },
  {
   "cell_type": "code",
   "execution_count": null,
   "id": "b68fb510-11df-414a-9845-011b1bd54202",
   "metadata": {},
   "outputs": [],
   "source": []
  },
  {
   "cell_type": "code",
   "execution_count": 150,
   "id": "a3231b73-a12b-4a2e-be96-7d24de4be5de",
   "metadata": {},
   "outputs": [],
   "source": [
    "corr_matrix = accidents[['Number_of_Vehicles', 'Number_of_Casualties']].corr()"
   ]
  },
  {
   "cell_type": "code",
   "execution_count": 152,
   "id": "abf5681e-20de-46e7-8f14-c89c06ba2042",
   "metadata": {},
   "outputs": [
    {
     "data": {
      "text/html": [
       "<div>\n",
       "<style scoped>\n",
       "    .dataframe tbody tr th:only-of-type {\n",
       "        vertical-align: middle;\n",
       "    }\n",
       "\n",
       "    .dataframe tbody tr th {\n",
       "        vertical-align: top;\n",
       "    }\n",
       "\n",
       "    .dataframe thead th {\n",
       "        text-align: right;\n",
       "    }\n",
       "</style>\n",
       "<table border=\"1\" class=\"dataframe\">\n",
       "  <thead>\n",
       "    <tr style=\"text-align: right;\">\n",
       "      <th></th>\n",
       "      <th>Number_of_Vehicles</th>\n",
       "      <th>Number_of_Casualties</th>\n",
       "    </tr>\n",
       "  </thead>\n",
       "  <tbody>\n",
       "    <tr>\n",
       "      <th>Number_of_Vehicles</th>\n",
       "      <td>1.000000</td>\n",
       "      <td>0.228889</td>\n",
       "    </tr>\n",
       "    <tr>\n",
       "      <th>Number_of_Casualties</th>\n",
       "      <td>0.228889</td>\n",
       "      <td>1.000000</td>\n",
       "    </tr>\n",
       "  </tbody>\n",
       "</table>\n",
       "</div>"
      ],
      "text/plain": [
       "                      Number_of_Vehicles  Number_of_Casualties\n",
       "Number_of_Vehicles              1.000000              0.228889\n",
       "Number_of_Casualties            0.228889              1.000000"
      ]
     },
     "execution_count": 152,
     "metadata": {},
     "output_type": "execute_result"
    }
   ],
   "source": [
    "corr_matrix"
   ]
  },
  {
   "cell_type": "code",
   "execution_count": null,
   "id": "363fd61c-7525-4dc3-9e00-7763fbaa3d22",
   "metadata": {},
   "outputs": [],
   "source": []
  },
  {
   "cell_type": "code",
   "execution_count": null,
   "id": "f875604b-207b-4346-88fe-704edf517658",
   "metadata": {},
   "outputs": [],
   "source": []
  },
  {
   "cell_type": "markdown",
   "id": "5769807f-cd08-4314-8143-e3340bdd6ff8",
   "metadata": {},
   "source": [
    "<h1> INSIGHT 17. road surface condition with the highest average casuaties per accident</h1>"
   ]
  },
  {
   "cell_type": "code",
   "execution_count": 128,
   "id": "c0139ed8-7ce1-4f62-ad22-9a62a9a09973",
   "metadata": {},
   "outputs": [
    {
     "name": "stderr",
     "output_type": "stream",
     "text": [
      "C:\\Users\\LAB4-StudentPC34\\AppData\\Local\\Temp\\ipykernel_9244\\2625124578.py:1: FutureWarning: The default of observed=False is deprecated and will be changed to True in a future version of pandas. Pass observed=False to retain current behavior or observed=True to adopt the future default and silence this warning.\n",
      "  road = accidents.groupby(\"Road_Surface_Conditions\")[\"Number_of_Casualties\"].mean().idxmax()\n"
     ]
    }
   ],
   "source": [
    "road = accidents.groupby(\"Road_Surface_Conditions\")[\"Number_of_Casualties\"].mean().idxmax()"
   ]
  },
  {
   "cell_type": "code",
   "execution_count": 129,
   "id": "baf08a13-3f26-46b0-ae24-2916b922a6a1",
   "metadata": {},
   "outputs": [
    {
     "data": {
      "text/plain": [
       "'Flood over 3cm. deep'"
      ]
     },
     "execution_count": 129,
     "metadata": {},
     "output_type": "execute_result"
    }
   ],
   "source": [
    "road"
   ]
  },
  {
   "cell_type": "code",
   "execution_count": null,
   "id": "259aaa80-715e-4a63-a8e4-9f3487771f11",
   "metadata": {},
   "outputs": [],
   "source": []
  },
  {
   "cell_type": "markdown",
   "id": "3bb3c936-97c2-4e11-92ed-dace9175956d",
   "metadata": {},
   "source": [
    "<h1> INSIGHT 18. accident per month</h1>"
   ]
  },
  {
   "cell_type": "code",
   "execution_count": 131,
   "id": "e93dcdec-855a-455e-8882-26176e6e1740",
   "metadata": {},
   "outputs": [],
   "source": [
    "accident_per_month = accidents['Month'].value_counts()"
   ]
  },
  {
   "cell_type": "code",
   "execution_count": 132,
   "id": "cf1321a6-3cd5-4895-b8e8-eb3a61e34c9c",
   "metadata": {},
   "outputs": [
    {
     "data": {
      "text/plain": [
       "Month\n",
       "Month    395672\n",
       "11.0      24240\n",
       "12.0      24156\n",
       "10.0      23962\n",
       "7.0       22939\n",
       "9.0       22558\n",
       "2.0       22264\n",
       "6.0       22196\n",
       "3.0       21824\n",
       "5.0       21723\n",
       "8.0       21106\n",
       "4.0       19787\n",
       "1.0       18252\n",
       "Name: count, dtype: int64"
      ]
     },
     "execution_count": 132,
     "metadata": {},
     "output_type": "execute_result"
    }
   ],
   "source": [
    "accident_per_month"
   ]
  },
  {
   "cell_type": "code",
   "execution_count": null,
   "id": "da36d43b-44c3-46b4-aeb2-a7c86bf92622",
   "metadata": {},
   "outputs": [],
   "source": []
  }
 ],
 "metadata": {
  "kernelspec": {
   "display_name": "Python 3 (ipykernel)",
   "language": "python",
   "name": "python3"
  },
  "language_info": {
   "codemirror_mode": {
    "name": "ipython",
    "version": 3
   },
   "file_extension": ".py",
   "mimetype": "text/x-python",
   "name": "python",
   "nbconvert_exporter": "python",
   "pygments_lexer": "ipython3",
   "version": "3.13.2"
  }
 },
 "nbformat": 4,
 "nbformat_minor": 5
}
