{
 "cells": [
  {
   "cell_type": "code",
   "execution_count": 1,
   "id": "6d8740e4-8a3c-4b73-80cd-135ae71c4ad2",
   "metadata": {},
   "outputs": [
    {
     "name": "stdout",
     "output_type": "stream",
     "text": [
      "Defaulting to user installation because normal site-packages is not writeable\n",
      "Requirement already satisfied: numpy in c:\\users\\lab4-studentpc34\\appdata\\local\\packages\\pythonsoftwarefoundation.python.3.13_qbz5n2kfra8p0\\localcache\\local-packages\\python313\\site-packages (2.2.2)\n",
      "Note: you may need to restart the kernel to use updated packages.\n"
     ]
    },
    {
     "name": "stderr",
     "output_type": "stream",
     "text": [
      "\n",
      "[notice] A new release of pip is available: 24.3.1 -> 25.0.1\n",
      "[notice] To update, run: C:\\Users\\LAB4-StudentPC34\\AppData\\Local\\Microsoft\\WindowsApps\\PythonSoftwareFoundation.Python.3.13_qbz5n2kfra8p0\\python.exe -m pip install --upgrade pip\n"
     ]
    }
   ],
   "source": [
    "pip install numpy"
   ]
  },
  {
   "cell_type": "code",
   "execution_count": 2,
   "id": "101b4dbe-4620-4552-a615-4dcfe127077c",
   "metadata": {},
   "outputs": [
    {
     "name": "stdout",
     "output_type": "stream",
     "text": [
      "Defaulting to user installation because normal site-packages is not writeableNote: you may need to restart the kernel to use updated packages.\n"
     ]
    },
    {
     "name": "stderr",
     "output_type": "stream",
     "text": [
      "\n",
      "[notice] A new release of pip is available: 24.3.1 -> 25.0.1\n",
      "[notice] To update, run: C:\\Users\\LAB4-StudentPC34\\AppData\\Local\\Microsoft\\WindowsApps\\PythonSoftwareFoundation.Python.3.13_qbz5n2kfra8p0\\python.exe -m pip install --upgrade pip\n"
     ]
    },
    {
     "name": "stdout",
     "output_type": "stream",
     "text": [
      "\n",
      "Requirement already satisfied: seaborn in c:\\users\\lab4-studentpc34\\appdata\\local\\packages\\pythonsoftwarefoundation.python.3.13_qbz5n2kfra8p0\\localcache\\local-packages\\python313\\site-packages (0.13.2)\n",
      "Requirement already satisfied: numpy!=1.24.0,>=1.20 in c:\\users\\lab4-studentpc34\\appdata\\local\\packages\\pythonsoftwarefoundation.python.3.13_qbz5n2kfra8p0\\localcache\\local-packages\\python313\\site-packages (from seaborn) (2.2.2)\n",
      "Requirement already satisfied: pandas>=1.2 in c:\\users\\lab4-studentpc34\\appdata\\local\\packages\\pythonsoftwarefoundation.python.3.13_qbz5n2kfra8p0\\localcache\\local-packages\\python313\\site-packages (from seaborn) (2.2.3)\n",
      "Requirement already satisfied: matplotlib!=3.6.1,>=3.4 in c:\\users\\lab4-studentpc34\\appdata\\local\\packages\\pythonsoftwarefoundation.python.3.13_qbz5n2kfra8p0\\localcache\\local-packages\\python313\\site-packages (from seaborn) (3.10.0)\n",
      "Requirement already satisfied: contourpy>=1.0.1 in c:\\users\\lab4-studentpc34\\appdata\\local\\packages\\pythonsoftwarefoundation.python.3.13_qbz5n2kfra8p0\\localcache\\local-packages\\python313\\site-packages (from matplotlib!=3.6.1,>=3.4->seaborn) (1.3.1)\n",
      "Requirement already satisfied: cycler>=0.10 in c:\\users\\lab4-studentpc34\\appdata\\local\\packages\\pythonsoftwarefoundation.python.3.13_qbz5n2kfra8p0\\localcache\\local-packages\\python313\\site-packages (from matplotlib!=3.6.1,>=3.4->seaborn) (0.12.1)\n",
      "Requirement already satisfied: fonttools>=4.22.0 in c:\\users\\lab4-studentpc34\\appdata\\local\\packages\\pythonsoftwarefoundation.python.3.13_qbz5n2kfra8p0\\localcache\\local-packages\\python313\\site-packages (from matplotlib!=3.6.1,>=3.4->seaborn) (4.55.3)\n",
      "Requirement already satisfied: kiwisolver>=1.3.1 in c:\\users\\lab4-studentpc34\\appdata\\local\\packages\\pythonsoftwarefoundation.python.3.13_qbz5n2kfra8p0\\localcache\\local-packages\\python313\\site-packages (from matplotlib!=3.6.1,>=3.4->seaborn) (1.4.8)\n",
      "Requirement already satisfied: packaging>=20.0 in c:\\users\\lab4-studentpc34\\appdata\\local\\packages\\pythonsoftwarefoundation.python.3.13_qbz5n2kfra8p0\\localcache\\local-packages\\python313\\site-packages (from matplotlib!=3.6.1,>=3.4->seaborn) (24.2)\n",
      "Requirement already satisfied: pillow>=8 in c:\\users\\lab4-studentpc34\\appdata\\local\\packages\\pythonsoftwarefoundation.python.3.13_qbz5n2kfra8p0\\localcache\\local-packages\\python313\\site-packages (from matplotlib!=3.6.1,>=3.4->seaborn) (11.1.0)\n",
      "Requirement already satisfied: pyparsing>=2.3.1 in c:\\users\\lab4-studentpc34\\appdata\\local\\packages\\pythonsoftwarefoundation.python.3.13_qbz5n2kfra8p0\\localcache\\local-packages\\python313\\site-packages (from matplotlib!=3.6.1,>=3.4->seaborn) (3.2.1)\n",
      "Requirement already satisfied: python-dateutil>=2.7 in c:\\users\\lab4-studentpc34\\appdata\\local\\packages\\pythonsoftwarefoundation.python.3.13_qbz5n2kfra8p0\\localcache\\local-packages\\python313\\site-packages (from matplotlib!=3.6.1,>=3.4->seaborn) (2.9.0.post0)\n",
      "Requirement already satisfied: pytz>=2020.1 in c:\\users\\lab4-studentpc34\\appdata\\local\\packages\\pythonsoftwarefoundation.python.3.13_qbz5n2kfra8p0\\localcache\\local-packages\\python313\\site-packages (from pandas>=1.2->seaborn) (2024.2)\n",
      "Requirement already satisfied: tzdata>=2022.7 in c:\\users\\lab4-studentpc34\\appdata\\local\\packages\\pythonsoftwarefoundation.python.3.13_qbz5n2kfra8p0\\localcache\\local-packages\\python313\\site-packages (from pandas>=1.2->seaborn) (2024.2)\n",
      "Requirement already satisfied: six>=1.5 in c:\\users\\lab4-studentpc34\\appdata\\local\\packages\\pythonsoftwarefoundation.python.3.13_qbz5n2kfra8p0\\localcache\\local-packages\\python313\\site-packages (from python-dateutil>=2.7->matplotlib!=3.6.1,>=3.4->seaborn) (1.17.0)\n"
     ]
    }
   ],
   "source": [
    "pip install seaborn"
   ]
  },
  {
   "cell_type": "code",
   "execution_count": 3,
   "id": "13ccc7e7-9f1d-463c-baa5-9ed10366b8d5",
   "metadata": {},
   "outputs": [
    {
     "name": "stdout",
     "output_type": "stream",
     "text": [
      "Defaulting to user installation because normal site-packages is not writeable\n",
      "Requirement already satisfied: matplotlib in c:\\users\\lab4-studentpc34\\appdata\\local\\packages\\pythonsoftwarefoundation.python.3.13_qbz5n2kfra8p0\\localcache\\local-packages\\python313\\site-packages (3.10.0)\n",
      "Requirement already satisfied: contourpy>=1.0.1 in c:\\users\\lab4-studentpc34\\appdata\\local\\packages\\pythonsoftwarefoundation.python.3.13_qbz5n2kfra8p0\\localcache\\local-packages\\python313\\site-packages (from matplotlib) (1.3.1)\n",
      "Requirement already satisfied: cycler>=0.10 in c:\\users\\lab4-studentpc34\\appdata\\local\\packages\\pythonsoftwarefoundation.python.3.13_qbz5n2kfra8p0\\localcache\\local-packages\\python313\\site-packages (from matplotlib) (0.12.1)\n",
      "Requirement already satisfied: fonttools>=4.22.0 in c:\\users\\lab4-studentpc34\\appdata\\local\\packages\\pythonsoftwarefoundation.python.3.13_qbz5n2kfra8p0\\localcache\\local-packages\\python313\\site-packages (from matplotlib) (4.55.3)\n",
      "Requirement already satisfied: kiwisolver>=1.3.1 in c:\\users\\lab4-studentpc34\\appdata\\local\\packages\\pythonsoftwarefoundation.python.3.13_qbz5n2kfra8p0\\localcache\\local-packages\\python313\\site-packages (from matplotlib) (1.4.8)\n",
      "Requirement already satisfied: numpy>=1.23 in c:\\users\\lab4-studentpc34\\appdata\\local\\packages\\pythonsoftwarefoundation.python.3.13_qbz5n2kfra8p0\\localcache\\local-packages\\python313\\site-packages (from matplotlib) (2.2.2)\n",
      "Requirement already satisfied: packaging>=20.0 in c:\\users\\lab4-studentpc34\\appdata\\local\\packages\\pythonsoftwarefoundation.python.3.13_qbz5n2kfra8p0\\localcache\\local-packages\\python313\\site-packages (from matplotlib) (24.2)\n",
      "Requirement already satisfied: pillow>=8 in c:\\users\\lab4-studentpc34\\appdata\\local\\packages\\pythonsoftwarefoundation.python.3.13_qbz5n2kfra8p0\\localcache\\local-packages\\python313\\site-packages (from matplotlib) (11.1.0)\n",
      "Requirement already satisfied: pyparsing>=2.3.1 in c:\\users\\lab4-studentpc34\\appdata\\local\\packages\\pythonsoftwarefoundation.python.3.13_qbz5n2kfra8p0\\localcache\\local-packages\\python313\\site-packages (from matplotlib) (3.2.1)\n",
      "Requirement already satisfied: python-dateutil>=2.7 in c:\\users\\lab4-studentpc34\\appdata\\local\\packages\\pythonsoftwarefoundation.python.3.13_qbz5n2kfra8p0\\localcache\\local-packages\\python313\\site-packages (from matplotlib) (2.9.0.post0)\n",
      "Requirement already satisfied: six>=1.5 in c:\\users\\lab4-studentpc34\\appdata\\local\\packages\\pythonsoftwarefoundation.python.3.13_qbz5n2kfra8p0\\localcache\\local-packages\\python313\\site-packages (from python-dateutil>=2.7->matplotlib) (1.17.0)\n",
      "Note: you may need to restart the kernel to use updated packages.\n"
     ]
    },
    {
     "name": "stderr",
     "output_type": "stream",
     "text": [
      "\n",
      "[notice] A new release of pip is available: 24.3.1 -> 25.0.1\n",
      "[notice] To update, run: C:\\Users\\LAB4-StudentPC34\\AppData\\Local\\Microsoft\\WindowsApps\\PythonSoftwareFoundation.Python.3.13_qbz5n2kfra8p0\\python.exe -m pip install --upgrade pip\n"
     ]
    }
   ],
   "source": [
    "pip install matplotlib"
   ]
  },
  {
   "cell_type": "code",
   "execution_count": 4,
   "id": "478f4b8a-71ed-4dec-9bb0-36fe9172ac7b",
   "metadata": {},
   "outputs": [
    {
     "name": "stdout",
     "output_type": "stream",
     "text": [
      "Defaulting to user installation because normal site-packages is not writeable\n",
      "Requirement already satisfied: pandas in c:\\users\\lab4-studentpc34\\appdata\\local\\packages\\pythonsoftwarefoundation.python.3.13_qbz5n2kfra8p0\\localcache\\local-packages\\python313\\site-packages (2.2.3)\n",
      "Requirement already satisfied: numpy>=1.26.0 in c:\\users\\lab4-studentpc34\\appdata\\local\\packages\\pythonsoftwarefoundation.python.3.13_qbz5n2kfra8p0\\localcache\\local-packages\\python313\\site-packages (from pandas) (2.2.2)\n",
      "Requirement already satisfied: python-dateutil>=2.8.2 in c:\\users\\lab4-studentpc34\\appdata\\local\\packages\\pythonsoftwarefoundation.python.3.13_qbz5n2kfra8p0\\localcache\\local-packages\\python313\\site-packages (from pandas) (2.9.0.post0)\n",
      "Requirement already satisfied: pytz>=2020.1 in c:\\users\\lab4-studentpc34\\appdata\\local\\packages\\pythonsoftwarefoundation.python.3.13_qbz5n2kfra8p0\\localcache\\local-packages\\python313\\site-packages (from pandas) (2024.2)\n",
      "Requirement already satisfied: tzdata>=2022.7 in c:\\users\\lab4-studentpc34\\appdata\\local\\packages\\pythonsoftwarefoundation.python.3.13_qbz5n2kfra8p0\\localcache\\local-packages\\python313\\site-packages (from pandas) (2024.2)\n",
      "Requirement already satisfied: six>=1.5 in c:\\users\\lab4-studentpc34\\appdata\\local\\packages\\pythonsoftwarefoundation.python.3.13_qbz5n2kfra8p0\\localcache\\local-packages\\python313\\site-packages (from python-dateutil>=2.8.2->pandas) (1.17.0)\n",
      "Note: you may need to restart the kernel to use updated packages.\n"
     ]
    },
    {
     "name": "stderr",
     "output_type": "stream",
     "text": [
      "\n",
      "[notice] A new release of pip is available: 24.3.1 -> 25.0.1\n",
      "[notice] To update, run: C:\\Users\\LAB4-StudentPC34\\AppData\\Local\\Microsoft\\WindowsApps\\PythonSoftwareFoundation.Python.3.13_qbz5n2kfra8p0\\python.exe -m pip install --upgrade pip\n"
     ]
    }
   ],
   "source": [
    "pip install pandas"
   ]
  },
  {
   "cell_type": "code",
   "execution_count": 5,
   "id": "72f53ed3-26b4-4b38-98b4-db2524a436cd",
   "metadata": {},
   "outputs": [],
   "source": [
    "import numpy as np\n",
    "import pandas as pd\n",
    "import seaborn as sns\n",
    "import matplotlib.pyplot as plt\n",
    "import warnings"
   ]
  },
  {
   "cell_type": "code",
   "execution_count": 6,
   "id": "e4818e65-17af-4fcf-8996-3de40286793c",
   "metadata": {},
   "outputs": [],
   "source": [
    "accidents = pd.read_csv('datasets\\\\accident_data.csv')"
   ]
  },
  {
   "cell_type": "code",
   "execution_count": 7,
   "id": "8ef7ad26-7f1b-40d5-99d3-3b5933af0366",
   "metadata": {},
   "outputs": [
    {
     "name": "stdout",
     "output_type": "stream",
     "text": [
      "<class 'pandas.core.frame.DataFrame'>\n",
      "RangeIndex: 660679 entries, 0 to 660678\n",
      "Data columns (total 14 columns):\n",
      " #   Column                   Non-Null Count   Dtype  \n",
      "---  ------                   --------------   -----  \n",
      " 0   Index                    660679 non-null  object \n",
      " 1   Accident_Severity        660679 non-null  object \n",
      " 2   Accident Date            660679 non-null  object \n",
      " 3   Latitude                 660654 non-null  float64\n",
      " 4   Light_Conditions         660679 non-null  object \n",
      " 5   District Area            660679 non-null  object \n",
      " 6   Longitude                660653 non-null  float64\n",
      " 7   Number_of_Casualties     660679 non-null  int64  \n",
      " 8   Number_of_Vehicles       660679 non-null  int64  \n",
      " 9   Road_Surface_Conditions  659953 non-null  object \n",
      " 10  Road_Type                656159 non-null  object \n",
      " 11  Urban_or_Rural_Area      660664 non-null  object \n",
      " 12  Weather_Conditions       646551 non-null  object \n",
      " 13  Vehicle_Type             660679 non-null  object \n",
      "dtypes: float64(2), int64(2), object(10)\n",
      "memory usage: 70.6+ MB\n"
     ]
    }
   ],
   "source": [
    "accidents.info()"
   ]
  },
  {
   "cell_type": "code",
   "execution_count": 8,
   "id": "6dd82f64-4dc8-4709-b652-39490f081e09",
   "metadata": {},
   "outputs": [
    {
     "data": {
      "text/html": [
       "<div>\n",
       "<style scoped>\n",
       "    .dataframe tbody tr th:only-of-type {\n",
       "        vertical-align: middle;\n",
       "    }\n",
       "\n",
       "    .dataframe tbody tr th {\n",
       "        vertical-align: top;\n",
       "    }\n",
       "\n",
       "    .dataframe thead th {\n",
       "        text-align: right;\n",
       "    }\n",
       "</style>\n",
       "<table border=\"1\" class=\"dataframe\">\n",
       "  <thead>\n",
       "    <tr style=\"text-align: right;\">\n",
       "      <th></th>\n",
       "      <th>Index</th>\n",
       "      <th>Accident_Severity</th>\n",
       "      <th>Accident Date</th>\n",
       "      <th>Latitude</th>\n",
       "      <th>Light_Conditions</th>\n",
       "      <th>District Area</th>\n",
       "      <th>Longitude</th>\n",
       "      <th>Number_of_Casualties</th>\n",
       "      <th>Number_of_Vehicles</th>\n",
       "      <th>Road_Surface_Conditions</th>\n",
       "      <th>Road_Type</th>\n",
       "      <th>Urban_or_Rural_Area</th>\n",
       "      <th>Weather_Conditions</th>\n",
       "      <th>Vehicle_Type</th>\n",
       "    </tr>\n",
       "  </thead>\n",
       "  <tbody>\n",
       "    <tr>\n",
       "      <th>count</th>\n",
       "      <td>660679</td>\n",
       "      <td>660679</td>\n",
       "      <td>660679</td>\n",
       "      <td>660654.000000</td>\n",
       "      <td>660679</td>\n",
       "      <td>660679</td>\n",
       "      <td>660653.000000</td>\n",
       "      <td>660679.000000</td>\n",
       "      <td>660679.000000</td>\n",
       "      <td>659953</td>\n",
       "      <td>656159</td>\n",
       "      <td>660664</td>\n",
       "      <td>646551</td>\n",
       "      <td>660679</td>\n",
       "    </tr>\n",
       "    <tr>\n",
       "      <th>unique</th>\n",
       "      <td>421020</td>\n",
       "      <td>3</td>\n",
       "      <td>1461</td>\n",
       "      <td>NaN</td>\n",
       "      <td>5</td>\n",
       "      <td>422</td>\n",
       "      <td>NaN</td>\n",
       "      <td>NaN</td>\n",
       "      <td>NaN</td>\n",
       "      <td>5</td>\n",
       "      <td>5</td>\n",
       "      <td>3</td>\n",
       "      <td>8</td>\n",
       "      <td>16</td>\n",
       "    </tr>\n",
       "    <tr>\n",
       "      <th>top</th>\n",
       "      <td>2.01E+12</td>\n",
       "      <td>Slight</td>\n",
       "      <td>30-11-2019</td>\n",
       "      <td>NaN</td>\n",
       "      <td>Daylight</td>\n",
       "      <td>Birmingham</td>\n",
       "      <td>NaN</td>\n",
       "      <td>NaN</td>\n",
       "      <td>NaN</td>\n",
       "      <td>Dry</td>\n",
       "      <td>Single carriageway</td>\n",
       "      <td>Urban</td>\n",
       "      <td>Fine no high winds</td>\n",
       "      <td>Car</td>\n",
       "    </tr>\n",
       "    <tr>\n",
       "      <th>freq</th>\n",
       "      <td>239478</td>\n",
       "      <td>563801</td>\n",
       "      <td>704</td>\n",
       "      <td>NaN</td>\n",
       "      <td>484880</td>\n",
       "      <td>13491</td>\n",
       "      <td>NaN</td>\n",
       "      <td>NaN</td>\n",
       "      <td>NaN</td>\n",
       "      <td>447821</td>\n",
       "      <td>492143</td>\n",
       "      <td>421663</td>\n",
       "      <td>520885</td>\n",
       "      <td>497992</td>\n",
       "    </tr>\n",
       "    <tr>\n",
       "      <th>mean</th>\n",
       "      <td>NaN</td>\n",
       "      <td>NaN</td>\n",
       "      <td>NaN</td>\n",
       "      <td>52.553866</td>\n",
       "      <td>NaN</td>\n",
       "      <td>NaN</td>\n",
       "      <td>-1.431210</td>\n",
       "      <td>1.357040</td>\n",
       "      <td>1.831255</td>\n",
       "      <td>NaN</td>\n",
       "      <td>NaN</td>\n",
       "      <td>NaN</td>\n",
       "      <td>NaN</td>\n",
       "      <td>NaN</td>\n",
       "    </tr>\n",
       "    <tr>\n",
       "      <th>std</th>\n",
       "      <td>NaN</td>\n",
       "      <td>NaN</td>\n",
       "      <td>NaN</td>\n",
       "      <td>1.406922</td>\n",
       "      <td>NaN</td>\n",
       "      <td>NaN</td>\n",
       "      <td>1.383330</td>\n",
       "      <td>0.824847</td>\n",
       "      <td>0.715269</td>\n",
       "      <td>NaN</td>\n",
       "      <td>NaN</td>\n",
       "      <td>NaN</td>\n",
       "      <td>NaN</td>\n",
       "      <td>NaN</td>\n",
       "    </tr>\n",
       "    <tr>\n",
       "      <th>min</th>\n",
       "      <td>NaN</td>\n",
       "      <td>NaN</td>\n",
       "      <td>NaN</td>\n",
       "      <td>49.914430</td>\n",
       "      <td>NaN</td>\n",
       "      <td>NaN</td>\n",
       "      <td>-7.516225</td>\n",
       "      <td>1.000000</td>\n",
       "      <td>1.000000</td>\n",
       "      <td>NaN</td>\n",
       "      <td>NaN</td>\n",
       "      <td>NaN</td>\n",
       "      <td>NaN</td>\n",
       "      <td>NaN</td>\n",
       "    </tr>\n",
       "    <tr>\n",
       "      <th>25%</th>\n",
       "      <td>NaN</td>\n",
       "      <td>NaN</td>\n",
       "      <td>NaN</td>\n",
       "      <td>51.490690</td>\n",
       "      <td>NaN</td>\n",
       "      <td>NaN</td>\n",
       "      <td>-2.332291</td>\n",
       "      <td>1.000000</td>\n",
       "      <td>1.000000</td>\n",
       "      <td>NaN</td>\n",
       "      <td>NaN</td>\n",
       "      <td>NaN</td>\n",
       "      <td>NaN</td>\n",
       "      <td>NaN</td>\n",
       "    </tr>\n",
       "    <tr>\n",
       "      <th>50%</th>\n",
       "      <td>NaN</td>\n",
       "      <td>NaN</td>\n",
       "      <td>NaN</td>\n",
       "      <td>52.315641</td>\n",
       "      <td>NaN</td>\n",
       "      <td>NaN</td>\n",
       "      <td>-1.411667</td>\n",
       "      <td>1.000000</td>\n",
       "      <td>2.000000</td>\n",
       "      <td>NaN</td>\n",
       "      <td>NaN</td>\n",
       "      <td>NaN</td>\n",
       "      <td>NaN</td>\n",
       "      <td>NaN</td>\n",
       "    </tr>\n",
       "    <tr>\n",
       "      <th>75%</th>\n",
       "      <td>NaN</td>\n",
       "      <td>NaN</td>\n",
       "      <td>NaN</td>\n",
       "      <td>53.453452</td>\n",
       "      <td>NaN</td>\n",
       "      <td>NaN</td>\n",
       "      <td>-0.232869</td>\n",
       "      <td>1.000000</td>\n",
       "      <td>2.000000</td>\n",
       "      <td>NaN</td>\n",
       "      <td>NaN</td>\n",
       "      <td>NaN</td>\n",
       "      <td>NaN</td>\n",
       "      <td>NaN</td>\n",
       "    </tr>\n",
       "    <tr>\n",
       "      <th>max</th>\n",
       "      <td>NaN</td>\n",
       "      <td>NaN</td>\n",
       "      <td>NaN</td>\n",
       "      <td>60.757544</td>\n",
       "      <td>NaN</td>\n",
       "      <td>NaN</td>\n",
       "      <td>1.762010</td>\n",
       "      <td>68.000000</td>\n",
       "      <td>32.000000</td>\n",
       "      <td>NaN</td>\n",
       "      <td>NaN</td>\n",
       "      <td>NaN</td>\n",
       "      <td>NaN</td>\n",
       "      <td>NaN</td>\n",
       "    </tr>\n",
       "  </tbody>\n",
       "</table>\n",
       "</div>"
      ],
      "text/plain": [
       "           Index Accident_Severity Accident Date       Latitude  \\\n",
       "count     660679            660679        660679  660654.000000   \n",
       "unique    421020                 3          1461            NaN   \n",
       "top     2.01E+12            Slight    30-11-2019            NaN   \n",
       "freq      239478            563801           704            NaN   \n",
       "mean         NaN               NaN           NaN      52.553866   \n",
       "std          NaN               NaN           NaN       1.406922   \n",
       "min          NaN               NaN           NaN      49.914430   \n",
       "25%          NaN               NaN           NaN      51.490690   \n",
       "50%          NaN               NaN           NaN      52.315641   \n",
       "75%          NaN               NaN           NaN      53.453452   \n",
       "max          NaN               NaN           NaN      60.757544   \n",
       "\n",
       "       Light_Conditions District Area      Longitude  Number_of_Casualties  \\\n",
       "count            660679        660679  660653.000000         660679.000000   \n",
       "unique                5           422            NaN                   NaN   \n",
       "top            Daylight    Birmingham            NaN                   NaN   \n",
       "freq             484880         13491            NaN                   NaN   \n",
       "mean                NaN           NaN      -1.431210              1.357040   \n",
       "std                 NaN           NaN       1.383330              0.824847   \n",
       "min                 NaN           NaN      -7.516225              1.000000   \n",
       "25%                 NaN           NaN      -2.332291              1.000000   \n",
       "50%                 NaN           NaN      -1.411667              1.000000   \n",
       "75%                 NaN           NaN      -0.232869              1.000000   \n",
       "max                 NaN           NaN       1.762010             68.000000   \n",
       "\n",
       "        Number_of_Vehicles Road_Surface_Conditions           Road_Type  \\\n",
       "count        660679.000000                  659953              656159   \n",
       "unique                 NaN                       5                   5   \n",
       "top                    NaN                     Dry  Single carriageway   \n",
       "freq                   NaN                  447821              492143   \n",
       "mean              1.831255                     NaN                 NaN   \n",
       "std               0.715269                     NaN                 NaN   \n",
       "min               1.000000                     NaN                 NaN   \n",
       "25%               1.000000                     NaN                 NaN   \n",
       "50%               2.000000                     NaN                 NaN   \n",
       "75%               2.000000                     NaN                 NaN   \n",
       "max              32.000000                     NaN                 NaN   \n",
       "\n",
       "       Urban_or_Rural_Area  Weather_Conditions Vehicle_Type  \n",
       "count               660664              646551       660679  \n",
       "unique                   3                   8           16  \n",
       "top                  Urban  Fine no high winds          Car  \n",
       "freq                421663              520885       497992  \n",
       "mean                   NaN                 NaN          NaN  \n",
       "std                    NaN                 NaN          NaN  \n",
       "min                    NaN                 NaN          NaN  \n",
       "25%                    NaN                 NaN          NaN  \n",
       "50%                    NaN                 NaN          NaN  \n",
       "75%                    NaN                 NaN          NaN  \n",
       "max                    NaN                 NaN          NaN  "
      ]
     },
     "execution_count": 8,
     "metadata": {},
     "output_type": "execute_result"
    }
   ],
   "source": [
    "accidents.describe(include='all')"
   ]
  },
  {
   "cell_type": "code",
   "execution_count": 9,
   "id": "51a35cb7-857d-4440-9053-01c7f6d82305",
   "metadata": {},
   "outputs": [
    {
     "data": {
      "text/plain": [
       "Index                          0\n",
       "Accident_Severity              0\n",
       "Accident Date                  0\n",
       "Latitude                      25\n",
       "Light_Conditions               0\n",
       "District Area                  0\n",
       "Longitude                     26\n",
       "Number_of_Casualties           0\n",
       "Number_of_Vehicles             0\n",
       "Road_Surface_Conditions      726\n",
       "Road_Type                   4520\n",
       "Urban_or_Rural_Area           15\n",
       "Weather_Conditions         14128\n",
       "Vehicle_Type                   0\n",
       "dtype: int64"
      ]
     },
     "execution_count": 9,
     "metadata": {},
     "output_type": "execute_result"
    }
   ],
   "source": [
    "accidents.isnull().sum()"
   ]
  },
  {
   "cell_type": "code",
   "execution_count": 10,
   "id": "24aa2aaf-519b-40c2-a1c1-971196984748",
   "metadata": {},
   "outputs": [],
   "source": [
    "accidents['Latitude'] = accidents['Latitude'].fillna(accidents['Latitude'].mode()[0])"
   ]
  },
  {
   "cell_type": "code",
   "execution_count": 11,
   "id": "9638d3d0-a048-46f8-8421-6104af15704f",
   "metadata": {},
   "outputs": [
    {
     "data": {
      "text/plain": [
       "Index                          0\n",
       "Accident_Severity              0\n",
       "Accident Date                  0\n",
       "Latitude                       0\n",
       "Light_Conditions               0\n",
       "District Area                  0\n",
       "Longitude                     26\n",
       "Number_of_Casualties           0\n",
       "Number_of_Vehicles             0\n",
       "Road_Surface_Conditions      726\n",
       "Road_Type                   4520\n",
       "Urban_or_Rural_Area           15\n",
       "Weather_Conditions         14128\n",
       "Vehicle_Type                   0\n",
       "dtype: int64"
      ]
     },
     "execution_count": 11,
     "metadata": {},
     "output_type": "execute_result"
    }
   ],
   "source": [
    "accidents.isnull().sum()\n"
   ]
  },
  {
   "cell_type": "code",
   "execution_count": 12,
   "id": "6745659e-7932-44b5-998d-a379ffc9741e",
   "metadata": {},
   "outputs": [],
   "source": [
    "accidents['Longitude'] = accidents['Longitude'].fillna(accidents['Longitude'].mode()[0])"
   ]
  },
  {
   "cell_type": "code",
   "execution_count": 13,
   "id": "6219b8d4-8abf-42e7-bd0d-641e7e9eb419",
   "metadata": {},
   "outputs": [
    {
     "data": {
      "text/plain": [
       "Index                          0\n",
       "Accident_Severity              0\n",
       "Accident Date                  0\n",
       "Latitude                       0\n",
       "Light_Conditions               0\n",
       "District Area                  0\n",
       "Longitude                      0\n",
       "Number_of_Casualties           0\n",
       "Number_of_Vehicles             0\n",
       "Road_Surface_Conditions      726\n",
       "Road_Type                   4520\n",
       "Urban_or_Rural_Area           15\n",
       "Weather_Conditions         14128\n",
       "Vehicle_Type                   0\n",
       "dtype: int64"
      ]
     },
     "execution_count": 13,
     "metadata": {},
     "output_type": "execute_result"
    }
   ],
   "source": [
    "accidents.isnull().sum()"
   ]
  },
  {
   "cell_type": "code",
   "execution_count": 14,
   "id": "3fb04c38-cb28-4316-a4b7-54716ad0eb4d",
   "metadata": {},
   "outputs": [],
   "source": [
    "accidents['Road_Surface_Conditions'] = accidents['Road_Surface_Conditions'].fillna(accidents['Road_Surface_Conditions'].mode()[0])"
   ]
  },
  {
   "cell_type": "code",
   "execution_count": 15,
   "id": "a5d5f5e5-d9dc-4cca-9a55-e904962d2794",
   "metadata": {},
   "outputs": [
    {
     "data": {
      "text/plain": [
       "Index                          0\n",
       "Accident_Severity              0\n",
       "Accident Date                  0\n",
       "Latitude                       0\n",
       "Light_Conditions               0\n",
       "District Area                  0\n",
       "Longitude                      0\n",
       "Number_of_Casualties           0\n",
       "Number_of_Vehicles             0\n",
       "Road_Surface_Conditions        0\n",
       "Road_Type                   4520\n",
       "Urban_or_Rural_Area           15\n",
       "Weather_Conditions         14128\n",
       "Vehicle_Type                   0\n",
       "dtype: int64"
      ]
     },
     "execution_count": 15,
     "metadata": {},
     "output_type": "execute_result"
    }
   ],
   "source": [
    "accidents.isnull().sum()"
   ]
  },
  {
   "cell_type": "code",
   "execution_count": 16,
   "id": "e8a9dc36-bd3e-4976-85ee-4898795baece",
   "metadata": {},
   "outputs": [],
   "source": [
    "accidents['Urban_or_Rural_Area'] = accidents['Urban_or_Rural_Area'].fillna(accidents['Urban_or_Rural_Area'].mode()[0])"
   ]
  },
  {
   "cell_type": "code",
   "execution_count": 17,
   "id": "4b2ae2b0-0090-4195-aa87-ec249b83bd26",
   "metadata": {},
   "outputs": [
    {
     "data": {
      "text/plain": [
       "Index                          0\n",
       "Accident_Severity              0\n",
       "Accident Date                  0\n",
       "Latitude                       0\n",
       "Light_Conditions               0\n",
       "District Area                  0\n",
       "Longitude                      0\n",
       "Number_of_Casualties           0\n",
       "Number_of_Vehicles             0\n",
       "Road_Surface_Conditions        0\n",
       "Road_Type                   4520\n",
       "Urban_or_Rural_Area            0\n",
       "Weather_Conditions         14128\n",
       "Vehicle_Type                   0\n",
       "dtype: int64"
      ]
     },
     "execution_count": 17,
     "metadata": {},
     "output_type": "execute_result"
    }
   ],
   "source": [
    "accidents.isnull().sum()"
   ]
  },
  {
   "cell_type": "code",
   "execution_count": 18,
   "id": "1c8d46e9-f05b-48cd-b3cb-4884bc4f1b72",
   "metadata": {},
   "outputs": [],
   "source": [
    "accidents['Road_Type'] = accidents['Road_Type'].fillna(\"unknown\")"
   ]
  },
  {
   "cell_type": "code",
   "execution_count": 19,
   "id": "58a9e308-d5ec-4ec0-bc76-84cf93138c0c",
   "metadata": {},
   "outputs": [
    {
     "data": {
      "text/plain": [
       "Index                          0\n",
       "Accident_Severity              0\n",
       "Accident Date                  0\n",
       "Latitude                       0\n",
       "Light_Conditions               0\n",
       "District Area                  0\n",
       "Longitude                      0\n",
       "Number_of_Casualties           0\n",
       "Number_of_Vehicles             0\n",
       "Road_Surface_Conditions        0\n",
       "Road_Type                      0\n",
       "Urban_or_Rural_Area            0\n",
       "Weather_Conditions         14128\n",
       "Vehicle_Type                   0\n",
       "dtype: int64"
      ]
     },
     "execution_count": 19,
     "metadata": {},
     "output_type": "execute_result"
    }
   ],
   "source": [
    "accidents.isnull().sum()"
   ]
  },
  {
   "cell_type": "code",
   "execution_count": 20,
   "id": "89d30e66-768e-4bb7-8ef9-b18d7b592feb",
   "metadata": {},
   "outputs": [],
   "source": [
    "accidents['Weather_Conditions'] = accidents['Weather_Conditions'].fillna(\"unaccounted\")"
   ]
  },
  {
   "cell_type": "code",
   "execution_count": 21,
   "id": "738dc8b3-8634-493f-bfa6-3ac33c514c3a",
   "metadata": {},
   "outputs": [
    {
     "data": {
      "text/plain": [
       "Index                      0\n",
       "Accident_Severity          0\n",
       "Accident Date              0\n",
       "Latitude                   0\n",
       "Light_Conditions           0\n",
       "District Area              0\n",
       "Longitude                  0\n",
       "Number_of_Casualties       0\n",
       "Number_of_Vehicles         0\n",
       "Road_Surface_Conditions    0\n",
       "Road_Type                  0\n",
       "Urban_or_Rural_Area        0\n",
       "Weather_Conditions         0\n",
       "Vehicle_Type               0\n",
       "dtype: int64"
      ]
     },
     "execution_count": 21,
     "metadata": {},
     "output_type": "execute_result"
    }
   ],
   "source": [
    "accidents.isnull().sum()"
   ]
  },
  {
   "cell_type": "markdown",
   "id": "c094aaf5-ae8e-4ef9-a95e-c2ed0ab65414",
   "metadata": {},
   "source": [
    "<h1>filling up null values"
   ]
  },
  {
   "cell_type": "code",
   "execution_count": 22,
   "id": "589675af-9f99-4eed-8c5b-4a20a4b45888",
   "metadata": {},
   "outputs": [
    {
     "data": {
      "text/plain": [
       "Index                       object\n",
       "Accident_Severity           object\n",
       "Accident Date               object\n",
       "Latitude                   float64\n",
       "Light_Conditions            object\n",
       "District Area               object\n",
       "Longitude                  float64\n",
       "Number_of_Casualties         int64\n",
       "Number_of_Vehicles           int64\n",
       "Road_Surface_Conditions     object\n",
       "Road_Type                   object\n",
       "Urban_or_Rural_Area         object\n",
       "Weather_Conditions          object\n",
       "Vehicle_Type                object\n",
       "dtype: object"
      ]
     },
     "execution_count": 22,
     "metadata": {},
     "output_type": "execute_result"
    }
   ],
   "source": [
    "accidents.dtypes"
   ]
  },
  {
   "cell_type": "code",
   "execution_count": 23,
   "id": "6bc0939c-c1af-49ef-b661-3c1c7e7597e7",
   "metadata": {},
   "outputs": [],
   "source": [
    "accidents['Accident Date'] = pd.to_datetime(accidents['Accident Date'], dayfirst = True, errors = 'coerce')\n",
    "accidents[\"Year\"] = accidents['Accident Date'].dt.year\n",
    "accidents[\"Month\"] = accidents['Accident Date'].dt.month\n",
    "accidents[\"Day\"] = accidents['Accident Date'].dt.day\n",
    "accidents[\"DayOfWeek\"] = accidents['Accident Date'].dt.dayofweek"
   ]
  },
  {
   "cell_type": "code",
   "execution_count": 24,
   "id": "fd237368-fcac-4c7d-94d1-dacd798c27c3",
   "metadata": {},
   "outputs": [
    {
     "data": {
      "text/html": [
       "<div>\n",
       "<style scoped>\n",
       "    .dataframe tbody tr th:only-of-type {\n",
       "        vertical-align: middle;\n",
       "    }\n",
       "\n",
       "    .dataframe tbody tr th {\n",
       "        vertical-align: top;\n",
       "    }\n",
       "\n",
       "    .dataframe thead th {\n",
       "        text-align: right;\n",
       "    }\n",
       "</style>\n",
       "<table border=\"1\" class=\"dataframe\">\n",
       "  <thead>\n",
       "    <tr style=\"text-align: right;\">\n",
       "      <th></th>\n",
       "      <th>Index</th>\n",
       "      <th>Accident_Severity</th>\n",
       "      <th>Accident Date</th>\n",
       "      <th>Latitude</th>\n",
       "      <th>Light_Conditions</th>\n",
       "      <th>District Area</th>\n",
       "      <th>Longitude</th>\n",
       "      <th>Number_of_Casualties</th>\n",
       "      <th>Number_of_Vehicles</th>\n",
       "      <th>Road_Surface_Conditions</th>\n",
       "      <th>Road_Type</th>\n",
       "      <th>Urban_or_Rural_Area</th>\n",
       "      <th>Weather_Conditions</th>\n",
       "      <th>Vehicle_Type</th>\n",
       "      <th>Year</th>\n",
       "      <th>Month</th>\n",
       "      <th>Day</th>\n",
       "      <th>DayOfWeek</th>\n",
       "    </tr>\n",
       "  </thead>\n",
       "  <tbody>\n",
       "    <tr>\n",
       "      <th>0</th>\n",
       "      <td>200701BS64157</td>\n",
       "      <td>Serious</td>\n",
       "      <td>2019-06-05</td>\n",
       "      <td>51.506187</td>\n",
       "      <td>Darkness - lights lit</td>\n",
       "      <td>Kensington and Chelsea</td>\n",
       "      <td>-0.209082</td>\n",
       "      <td>1</td>\n",
       "      <td>2</td>\n",
       "      <td>Dry</td>\n",
       "      <td>Single carriageway</td>\n",
       "      <td>Urban</td>\n",
       "      <td>Fine no high winds</td>\n",
       "      <td>Car</td>\n",
       "      <td>2019.0</td>\n",
       "      <td>6.0</td>\n",
       "      <td>5.0</td>\n",
       "      <td>2.0</td>\n",
       "    </tr>\n",
       "    <tr>\n",
       "      <th>1</th>\n",
       "      <td>200701BS65737</td>\n",
       "      <td>Serious</td>\n",
       "      <td>2019-07-02</td>\n",
       "      <td>51.495029</td>\n",
       "      <td>Daylight</td>\n",
       "      <td>Kensington and Chelsea</td>\n",
       "      <td>-0.173647</td>\n",
       "      <td>1</td>\n",
       "      <td>2</td>\n",
       "      <td>Wet or damp</td>\n",
       "      <td>Single carriageway</td>\n",
       "      <td>Urban</td>\n",
       "      <td>Raining no high winds</td>\n",
       "      <td>Car</td>\n",
       "      <td>2019.0</td>\n",
       "      <td>7.0</td>\n",
       "      <td>2.0</td>\n",
       "      <td>1.0</td>\n",
       "    </tr>\n",
       "    <tr>\n",
       "      <th>2</th>\n",
       "      <td>200701BS66127</td>\n",
       "      <td>Serious</td>\n",
       "      <td>NaT</td>\n",
       "      <td>51.517715</td>\n",
       "      <td>Darkness - lighting unknown</td>\n",
       "      <td>Kensington and Chelsea</td>\n",
       "      <td>-0.210215</td>\n",
       "      <td>1</td>\n",
       "      <td>3</td>\n",
       "      <td>Dry</td>\n",
       "      <td>unknown</td>\n",
       "      <td>Urban</td>\n",
       "      <td>unaccounted</td>\n",
       "      <td>Taxi/Private hire car</td>\n",
       "      <td>NaN</td>\n",
       "      <td>NaN</td>\n",
       "      <td>NaN</td>\n",
       "      <td>NaN</td>\n",
       "    </tr>\n",
       "    <tr>\n",
       "      <th>3</th>\n",
       "      <td>200701BS66128</td>\n",
       "      <td>Serious</td>\n",
       "      <td>NaT</td>\n",
       "      <td>51.495478</td>\n",
       "      <td>Daylight</td>\n",
       "      <td>Kensington and Chelsea</td>\n",
       "      <td>-0.202731</td>\n",
       "      <td>1</td>\n",
       "      <td>4</td>\n",
       "      <td>Dry</td>\n",
       "      <td>Single carriageway</td>\n",
       "      <td>Urban</td>\n",
       "      <td>Fine no high winds</td>\n",
       "      <td>Bus or coach (17 or more pass seats)</td>\n",
       "      <td>NaN</td>\n",
       "      <td>NaN</td>\n",
       "      <td>NaN</td>\n",
       "      <td>NaN</td>\n",
       "    </tr>\n",
       "    <tr>\n",
       "      <th>4</th>\n",
       "      <td>200701BS66837</td>\n",
       "      <td>Slight</td>\n",
       "      <td>2019-09-03</td>\n",
       "      <td>51.488576</td>\n",
       "      <td>Darkness - lights lit</td>\n",
       "      <td>Kensington and Chelsea</td>\n",
       "      <td>-0.192487</td>\n",
       "      <td>1</td>\n",
       "      <td>2</td>\n",
       "      <td>Dry</td>\n",
       "      <td>unknown</td>\n",
       "      <td>Urban</td>\n",
       "      <td>unaccounted</td>\n",
       "      <td>Other vehicle</td>\n",
       "      <td>2019.0</td>\n",
       "      <td>9.0</td>\n",
       "      <td>3.0</td>\n",
       "      <td>1.0</td>\n",
       "    </tr>\n",
       "    <tr>\n",
       "      <th>...</th>\n",
       "      <td>...</td>\n",
       "      <td>...</td>\n",
       "      <td>...</td>\n",
       "      <td>...</td>\n",
       "      <td>...</td>\n",
       "      <td>...</td>\n",
       "      <td>...</td>\n",
       "      <td>...</td>\n",
       "      <td>...</td>\n",
       "      <td>...</td>\n",
       "      <td>...</td>\n",
       "      <td>...</td>\n",
       "      <td>...</td>\n",
       "      <td>...</td>\n",
       "      <td>...</td>\n",
       "      <td>...</td>\n",
       "      <td>...</td>\n",
       "      <td>...</td>\n",
       "    </tr>\n",
       "    <tr>\n",
       "      <th>660674</th>\n",
       "      <td>201091NM01760</td>\n",
       "      <td>Slight</td>\n",
       "      <td>NaT</td>\n",
       "      <td>57.374005</td>\n",
       "      <td>Daylight</td>\n",
       "      <td>Highland</td>\n",
       "      <td>-3.467828</td>\n",
       "      <td>2</td>\n",
       "      <td>1</td>\n",
       "      <td>Dry</td>\n",
       "      <td>Single carriageway</td>\n",
       "      <td>Rural</td>\n",
       "      <td>Fine no high winds</td>\n",
       "      <td>Car</td>\n",
       "      <td>NaN</td>\n",
       "      <td>NaN</td>\n",
       "      <td>NaN</td>\n",
       "      <td>NaN</td>\n",
       "    </tr>\n",
       "    <tr>\n",
       "      <th>660675</th>\n",
       "      <td>201091NM01881</td>\n",
       "      <td>Slight</td>\n",
       "      <td>NaT</td>\n",
       "      <td>57.232273</td>\n",
       "      <td>Darkness - no lighting</td>\n",
       "      <td>Highland</td>\n",
       "      <td>-3.809281</td>\n",
       "      <td>1</td>\n",
       "      <td>1</td>\n",
       "      <td>Frost or ice</td>\n",
       "      <td>Single carriageway</td>\n",
       "      <td>Rural</td>\n",
       "      <td>Fine no high winds</td>\n",
       "      <td>Car</td>\n",
       "      <td>NaN</td>\n",
       "      <td>NaN</td>\n",
       "      <td>NaN</td>\n",
       "      <td>NaN</td>\n",
       "    </tr>\n",
       "    <tr>\n",
       "      <th>660676</th>\n",
       "      <td>201091NM01935</td>\n",
       "      <td>Slight</td>\n",
       "      <td>NaT</td>\n",
       "      <td>57.585044</td>\n",
       "      <td>Daylight</td>\n",
       "      <td>Highland</td>\n",
       "      <td>-3.862727</td>\n",
       "      <td>1</td>\n",
       "      <td>3</td>\n",
       "      <td>Frost or ice</td>\n",
       "      <td>Single carriageway</td>\n",
       "      <td>Rural</td>\n",
       "      <td>Fine no high winds</td>\n",
       "      <td>Car</td>\n",
       "      <td>NaN</td>\n",
       "      <td>NaN</td>\n",
       "      <td>NaN</td>\n",
       "      <td>NaN</td>\n",
       "    </tr>\n",
       "    <tr>\n",
       "      <th>660677</th>\n",
       "      <td>201091NM01964</td>\n",
       "      <td>Serious</td>\n",
       "      <td>NaT</td>\n",
       "      <td>57.214898</td>\n",
       "      <td>Darkness - no lighting</td>\n",
       "      <td>Highland</td>\n",
       "      <td>-3.823997</td>\n",
       "      <td>1</td>\n",
       "      <td>2</td>\n",
       "      <td>Wet or damp</td>\n",
       "      <td>Single carriageway</td>\n",
       "      <td>Rural</td>\n",
       "      <td>Fine no high winds</td>\n",
       "      <td>Motorcycle over 500cc</td>\n",
       "      <td>NaN</td>\n",
       "      <td>NaN</td>\n",
       "      <td>NaN</td>\n",
       "      <td>NaN</td>\n",
       "    </tr>\n",
       "    <tr>\n",
       "      <th>660678</th>\n",
       "      <td>201091NM02142</td>\n",
       "      <td>Serious</td>\n",
       "      <td>NaT</td>\n",
       "      <td>57.575210</td>\n",
       "      <td>Daylight</td>\n",
       "      <td>Highland</td>\n",
       "      <td>-3.895673</td>\n",
       "      <td>1</td>\n",
       "      <td>1</td>\n",
       "      <td>Wet or damp</td>\n",
       "      <td>Dual carriageway</td>\n",
       "      <td>Rural</td>\n",
       "      <td>Snowing no high winds</td>\n",
       "      <td>Car</td>\n",
       "      <td>NaN</td>\n",
       "      <td>NaN</td>\n",
       "      <td>NaN</td>\n",
       "      <td>NaN</td>\n",
       "    </tr>\n",
       "  </tbody>\n",
       "</table>\n",
       "<p>660679 rows × 18 columns</p>\n",
       "</div>"
      ],
      "text/plain": [
       "                Index Accident_Severity Accident Date   Latitude  \\\n",
       "0       200701BS64157           Serious    2019-06-05  51.506187   \n",
       "1       200701BS65737           Serious    2019-07-02  51.495029   \n",
       "2       200701BS66127           Serious           NaT  51.517715   \n",
       "3       200701BS66128           Serious           NaT  51.495478   \n",
       "4       200701BS66837            Slight    2019-09-03  51.488576   \n",
       "...               ...               ...           ...        ...   \n",
       "660674  201091NM01760            Slight           NaT  57.374005   \n",
       "660675  201091NM01881            Slight           NaT  57.232273   \n",
       "660676  201091NM01935            Slight           NaT  57.585044   \n",
       "660677  201091NM01964           Serious           NaT  57.214898   \n",
       "660678  201091NM02142           Serious           NaT  57.575210   \n",
       "\n",
       "                   Light_Conditions           District Area  Longitude  \\\n",
       "0             Darkness - lights lit  Kensington and Chelsea  -0.209082   \n",
       "1                          Daylight  Kensington and Chelsea  -0.173647   \n",
       "2       Darkness - lighting unknown  Kensington and Chelsea  -0.210215   \n",
       "3                          Daylight  Kensington and Chelsea  -0.202731   \n",
       "4             Darkness - lights lit  Kensington and Chelsea  -0.192487   \n",
       "...                             ...                     ...        ...   \n",
       "660674                     Daylight                Highland  -3.467828   \n",
       "660675       Darkness - no lighting                Highland  -3.809281   \n",
       "660676                     Daylight                Highland  -3.862727   \n",
       "660677       Darkness - no lighting                Highland  -3.823997   \n",
       "660678                     Daylight                Highland  -3.895673   \n",
       "\n",
       "        Number_of_Casualties  Number_of_Vehicles Road_Surface_Conditions  \\\n",
       "0                          1                   2                     Dry   \n",
       "1                          1                   2             Wet or damp   \n",
       "2                          1                   3                     Dry   \n",
       "3                          1                   4                     Dry   \n",
       "4                          1                   2                     Dry   \n",
       "...                      ...                 ...                     ...   \n",
       "660674                     2                   1                     Dry   \n",
       "660675                     1                   1            Frost or ice   \n",
       "660676                     1                   3            Frost or ice   \n",
       "660677                     1                   2             Wet or damp   \n",
       "660678                     1                   1             Wet or damp   \n",
       "\n",
       "                 Road_Type Urban_or_Rural_Area     Weather_Conditions  \\\n",
       "0       Single carriageway               Urban     Fine no high winds   \n",
       "1       Single carriageway               Urban  Raining no high winds   \n",
       "2                  unknown               Urban            unaccounted   \n",
       "3       Single carriageway               Urban     Fine no high winds   \n",
       "4                  unknown               Urban            unaccounted   \n",
       "...                    ...                 ...                    ...   \n",
       "660674  Single carriageway               Rural     Fine no high winds   \n",
       "660675  Single carriageway               Rural     Fine no high winds   \n",
       "660676  Single carriageway               Rural     Fine no high winds   \n",
       "660677  Single carriageway               Rural     Fine no high winds   \n",
       "660678    Dual carriageway               Rural  Snowing no high winds   \n",
       "\n",
       "                                Vehicle_Type    Year  Month  Day  DayOfWeek  \n",
       "0                                        Car  2019.0    6.0  5.0        2.0  \n",
       "1                                        Car  2019.0    7.0  2.0        1.0  \n",
       "2                      Taxi/Private hire car     NaN    NaN  NaN        NaN  \n",
       "3       Bus or coach (17 or more pass seats)     NaN    NaN  NaN        NaN  \n",
       "4                              Other vehicle  2019.0    9.0  3.0        1.0  \n",
       "...                                      ...     ...    ...  ...        ...  \n",
       "660674                                   Car     NaN    NaN  NaN        NaN  \n",
       "660675                                   Car     NaN    NaN  NaN        NaN  \n",
       "660676                                   Car     NaN    NaN  NaN        NaN  \n",
       "660677                 Motorcycle over 500cc     NaN    NaN  NaN        NaN  \n",
       "660678                                   Car     NaN    NaN  NaN        NaN  \n",
       "\n",
       "[660679 rows x 18 columns]"
      ]
     },
     "execution_count": 24,
     "metadata": {},
     "output_type": "execute_result"
    }
   ],
   "source": [
    "accidents"
   ]
  },
  {
   "cell_type": "code",
   "execution_count": 25,
   "id": "98bd390c-f7a5-4db7-be4b-4d518e903095",
   "metadata": {
    "scrolled": true
   },
   "outputs": [
    {
     "name": "stdout",
     "output_type": "stream",
     "text": [
      "<class 'pandas.core.frame.DataFrame'>\n",
      "RangeIndex: 660679 entries, 0 to 660678\n",
      "Data columns (total 18 columns):\n",
      " #   Column                   Non-Null Count   Dtype         \n",
      "---  ------                   --------------   -----         \n",
      " 0   Index                    660679 non-null  object        \n",
      " 1   Accident_Severity        660679 non-null  object        \n",
      " 2   Accident Date            265007 non-null  datetime64[ns]\n",
      " 3   Latitude                 660679 non-null  float64       \n",
      " 4   Light_Conditions         660679 non-null  object        \n",
      " 5   District Area            660679 non-null  object        \n",
      " 6   Longitude                660679 non-null  float64       \n",
      " 7   Number_of_Casualties     660679 non-null  int64         \n",
      " 8   Number_of_Vehicles       660679 non-null  int64         \n",
      " 9   Road_Surface_Conditions  660679 non-null  object        \n",
      " 10  Road_Type                660679 non-null  object        \n",
      " 11  Urban_or_Rural_Area      660679 non-null  object        \n",
      " 12  Weather_Conditions       660679 non-null  object        \n",
      " 13  Vehicle_Type             660679 non-null  object        \n",
      " 14  Year                     265007 non-null  float64       \n",
      " 15  Month                    265007 non-null  float64       \n",
      " 16  Day                      265007 non-null  float64       \n",
      " 17  DayOfWeek                265007 non-null  float64       \n",
      "dtypes: datetime64[ns](1), float64(6), int64(2), object(9)\n",
      "memory usage: 90.7+ MB\n"
     ]
    }
   ],
   "source": [
    "accidents.info()"
   ]
  },
  {
   "cell_type": "code",
   "execution_count": 26,
   "id": "2f2bbb9f-fe73-47c1-8f2c-4092f01ec51f",
   "metadata": {
    "scrolled": true
   },
   "outputs": [
    {
     "name": "stdout",
     "output_type": "stream",
     "text": [
      "<class 'pandas.core.frame.DataFrame'>\n",
      "RangeIndex: 660679 entries, 0 to 660678\n",
      "Data columns (total 18 columns):\n",
      " #   Column                   Non-Null Count   Dtype         \n",
      "---  ------                   --------------   -----         \n",
      " 0   Index                    660679 non-null  object        \n",
      " 1   Accident_Severity        660679 non-null  object        \n",
      " 2   Accident Date            265007 non-null  datetime64[ns]\n",
      " 3   Latitude                 660679 non-null  float64       \n",
      " 4   Light_Conditions         660679 non-null  object        \n",
      " 5   District Area            660679 non-null  object        \n",
      " 6   Longitude                660679 non-null  float64       \n",
      " 7   Number_of_Casualties     660679 non-null  int64         \n",
      " 8   Number_of_Vehicles       660679 non-null  int64         \n",
      " 9   Road_Surface_Conditions  660679 non-null  object        \n",
      " 10  Road_Type                660679 non-null  object        \n",
      " 11  Urban_or_Rural_Area      660679 non-null  object        \n",
      " 12  Weather_Conditions       660679 non-null  object        \n",
      " 13  Vehicle_Type             660679 non-null  object        \n",
      " 14  Year                     265007 non-null  float64       \n",
      " 15  Month                    265007 non-null  float64       \n",
      " 16  Day                      265007 non-null  float64       \n",
      " 17  DayOfWeek                265007 non-null  float64       \n",
      "dtypes: datetime64[ns](1), float64(6), int64(2), object(9)\n",
      "memory usage: 90.7+ MB\n"
     ]
    }
   ],
   "source": [
    "accidents.info()"
   ]
  },
  {
   "cell_type": "code",
   "execution_count": 27,
   "id": "27f0241d-fe8f-4d48-8ba9-ec162e967681",
   "metadata": {},
   "outputs": [],
   "source": [
    "accidents['Index'] = accidents['Index'].astype('category')"
   ]
  },
  {
   "cell_type": "code",
   "execution_count": 28,
   "id": "1d599fa5-01e1-4a4e-9ea6-f8a387b3e12a",
   "metadata": {},
   "outputs": [],
   "source": [
    "accidents['Accident_Severity'] = accidents['Accident_Severity'].astype('category')"
   ]
  },
  {
   "cell_type": "code",
   "execution_count": 29,
   "id": "dbf9cf51-f46a-415c-bc43-dbc15ae87217",
   "metadata": {},
   "outputs": [],
   "source": [
    "accidents['Light_Conditions'] = accidents['Light_Conditions'].astype('category')"
   ]
  },
  {
   "cell_type": "code",
   "execution_count": 30,
   "id": "1e968294-604c-4b42-b4b3-951b9fe27276",
   "metadata": {},
   "outputs": [],
   "source": [
    "accidents['District Area'] = accidents['District Area'].astype('category')"
   ]
  },
  {
   "cell_type": "code",
   "execution_count": 31,
   "id": "ec158d26-2ed4-40fe-9276-3b1d7a04651b",
   "metadata": {},
   "outputs": [],
   "source": [
    "accidents['Road_Surface_Conditions'] = accidents['Road_Surface_Conditions'].astype('category')"
   ]
  },
  {
   "cell_type": "code",
   "execution_count": 32,
   "id": "dd1e0425-f167-42a4-933a-f7d6c352f392",
   "metadata": {},
   "outputs": [],
   "source": [
    "accidents['Road_Type'] = accidents['Road_Type'].astype('category')"
   ]
  },
  {
   "cell_type": "code",
   "execution_count": 33,
   "id": "57ae2b05-7a49-4268-b0df-2313189867da",
   "metadata": {},
   "outputs": [],
   "source": [
    "accidents['Urban_or_Rural_Area'] = accidents['Urban_or_Rural_Area'].astype('category')"
   ]
  },
  {
   "cell_type": "code",
   "execution_count": 34,
   "id": "b79aaa15-4605-4cef-ad7f-36b9bacf4db3",
   "metadata": {},
   "outputs": [],
   "source": [
    "accidents['Weather_Conditions'] = accidents['Weather_Conditions'].astype('category')"
   ]
  },
  {
   "cell_type": "code",
   "execution_count": 35,
   "id": "f1042d05-529a-49dc-b364-0c635b369cea",
   "metadata": {},
   "outputs": [],
   "source": [
    "accidents['Vehicle_Type'] = accidents['Vehicle_Type'].astype('category')"
   ]
  },
  {
   "cell_type": "code",
   "execution_count": 36,
   "id": "91d7e242-96df-4a1f-86c8-a9ed236de08d",
   "metadata": {},
   "outputs": [
    {
     "name": "stdout",
     "output_type": "stream",
     "text": [
      "<class 'pandas.core.frame.DataFrame'>\n",
      "RangeIndex: 660679 entries, 0 to 660678\n",
      "Data columns (total 18 columns):\n",
      " #   Column                   Non-Null Count   Dtype         \n",
      "---  ------                   --------------   -----         \n",
      " 0   Index                    660679 non-null  category      \n",
      " 1   Accident_Severity        660679 non-null  category      \n",
      " 2   Accident Date            265007 non-null  datetime64[ns]\n",
      " 3   Latitude                 660679 non-null  float64       \n",
      " 4   Light_Conditions         660679 non-null  category      \n",
      " 5   District Area            660679 non-null  category      \n",
      " 6   Longitude                660679 non-null  float64       \n",
      " 7   Number_of_Casualties     660679 non-null  int64         \n",
      " 8   Number_of_Vehicles       660679 non-null  int64         \n",
      " 9   Road_Surface_Conditions  660679 non-null  category      \n",
      " 10  Road_Type                660679 non-null  category      \n",
      " 11  Urban_or_Rural_Area      660679 non-null  category      \n",
      " 12  Weather_Conditions       660679 non-null  category      \n",
      " 13  Vehicle_Type             660679 non-null  category      \n",
      " 14  Year                     265007 non-null  float64       \n",
      " 15  Month                    265007 non-null  float64       \n",
      " 16  Day                      265007 non-null  float64       \n",
      " 17  DayOfWeek                265007 non-null  float64       \n",
      "dtypes: category(9), datetime64[ns](1), float64(6), int64(2)\n",
      "memory usage: 72.9 MB\n"
     ]
    }
   ],
   "source": [
    "accidents.info()"
   ]
  },
  {
   "cell_type": "code",
   "execution_count": 37,
   "id": "711c90a3-f237-4f12-94f4-5733f0b86ba5",
   "metadata": {},
   "outputs": [
    {
     "data": {
      "text/plain": [
       "Index                           0\n",
       "Accident_Severity               0\n",
       "Accident Date              395672\n",
       "Latitude                        0\n",
       "Light_Conditions                0\n",
       "District Area                   0\n",
       "Longitude                       0\n",
       "Number_of_Casualties            0\n",
       "Number_of_Vehicles              0\n",
       "Road_Surface_Conditions         0\n",
       "Road_Type                       0\n",
       "Urban_or_Rural_Area             0\n",
       "Weather_Conditions              0\n",
       "Vehicle_Type                    0\n",
       "Year                       395672\n",
       "Month                      395672\n",
       "Day                        395672\n",
       "DayOfWeek                  395672\n",
       "dtype: int64"
      ]
     },
     "execution_count": 37,
     "metadata": {},
     "output_type": "execute_result"
    }
   ],
   "source": [
    "accidents.isnull().sum()"
   ]
  },
  {
   "cell_type": "code",
   "execution_count": 38,
   "id": "1799277a-49bf-4712-82dd-90658932cc3d",
   "metadata": {},
   "outputs": [],
   "source": [
    "accidents['Accident Date'] = accidents['Accident Date'].fillna(\"Accident Date\")\n",
    "accidents['Year'] = accidents['Year'].fillna(\"Year\")\n",
    "accidents['Month'] = accidents['Month'].fillna(\"Month\")\n",
    "accidents['Day'] = accidents['Day'].fillna(\"Day\")\n",
    "accidents['DayOfWeek'] = accidents['DayOfWeek'].fillna(\"DayOfWeek\")\n",
    "\n"
   ]
  },
  {
   "cell_type": "code",
   "execution_count": 39,
   "id": "7c33577e-1db9-4220-8ef6-2cac96e4f77c",
   "metadata": {},
   "outputs": [
    {
     "data": {
      "text/plain": [
       "Index                      0\n",
       "Accident_Severity          0\n",
       "Accident Date              0\n",
       "Latitude                   0\n",
       "Light_Conditions           0\n",
       "District Area              0\n",
       "Longitude                  0\n",
       "Number_of_Casualties       0\n",
       "Number_of_Vehicles         0\n",
       "Road_Surface_Conditions    0\n",
       "Road_Type                  0\n",
       "Urban_or_Rural_Area        0\n",
       "Weather_Conditions         0\n",
       "Vehicle_Type               0\n",
       "Year                       0\n",
       "Month                      0\n",
       "Day                        0\n",
       "DayOfWeek                  0\n",
       "dtype: int64"
      ]
     },
     "execution_count": 39,
     "metadata": {},
     "output_type": "execute_result"
    }
   ],
   "source": [
    "accidents.isnull().sum()"
   ]
  },
  {
   "cell_type": "code",
   "execution_count": null,
   "id": "5fbfdc9a-8744-40e8-b3ba-3b12d411caa3",
   "metadata": {},
   "outputs": [],
   "source": []
  },
  {
   "cell_type": "code",
   "execution_count": 40,
   "id": "0f6df74e-af69-4345-854f-94f9e6ed6947",
   "metadata": {},
   "outputs": [],
   "source": [
    "#accident_per_year = accidents['Year'].value_counts().sort_index()\n",
    "#accident_per_month = accidents['Month'].value_counts().sort_index()\n",
    "\n",
    "#accident_per_year.plot(kind='bar')\n",
    "#plt.title('Accident per year')\n",
    "#plt.xlabel('Year')\n",
    "#plt.ylabel('Number of Accidents')\n",
    "#plt.show()\n",
    "\n",
    "\n",
    "month_names = {\n",
    "    1: 'January', 2: 'February', 3: 'March', 4: 'April', 5: 'May', 6: 'June', 7: 'July' , 8: 'August', 9: 'September', 10:'October', 11: 'November', 12:'December'}"
   ]
  },
  {
   "cell_type": "markdown",
   "id": "ecd78872-d794-43db-86c2-8967ab200b26",
   "metadata": {},
   "source": [
    "<h1>LINE PLOT</h1>"
   ]
  },
  {
   "cell_type": "code",
   "execution_count": 41,
   "id": "b819df38-eae9-4256-ab7b-bf1351b3fc20",
   "metadata": {},
   "outputs": [
    {
     "name": "stderr",
     "output_type": "stream",
     "text": [
      "C:\\Users\\LAB4-StudentPC34\\AppData\\Local\\Temp\\ipykernel_18068\\3466995792.py:1: FutureWarning: The default of observed=False is deprecated and will be changed to True in a future version of pandas. Pass observed=False to retain current behavior or observed=True to adopt the future default and silence this warning.\n",
      "  year_area = accidents.groupby(['District Area', 'Year']).size().reset_index(name = 'Accident_Count')\n"
     ]
    },
    {
     "ename": "TypeError",
     "evalue": "'<' not supported between instances of 'str' and 'float'",
     "output_type": "error",
     "traceback": [
      "\u001b[1;31m---------------------------------------------------------------------------\u001b[0m",
      "\u001b[1;31mTypeError\u001b[0m                                 Traceback (most recent call last)",
      "Cell \u001b[1;32mIn[41], line 1\u001b[0m\n\u001b[1;32m----> 1\u001b[0m year_area \u001b[38;5;241m=\u001b[39m \u001b[43maccidents\u001b[49m\u001b[38;5;241;43m.\u001b[39;49m\u001b[43mgroupby\u001b[49m\u001b[43m(\u001b[49m\u001b[43m[\u001b[49m\u001b[38;5;124;43m'\u001b[39;49m\u001b[38;5;124;43mDistrict Area\u001b[39;49m\u001b[38;5;124;43m'\u001b[39;49m\u001b[43m,\u001b[49m\u001b[43m \u001b[49m\u001b[38;5;124;43m'\u001b[39;49m\u001b[38;5;124;43mYear\u001b[39;49m\u001b[38;5;124;43m'\u001b[39;49m\u001b[43m]\u001b[49m\u001b[43m)\u001b[49m\u001b[38;5;241;43m.\u001b[39;49m\u001b[43msize\u001b[49m\u001b[43m(\u001b[49m\u001b[43m)\u001b[49m\u001b[38;5;241m.\u001b[39mreset_index(name \u001b[38;5;241m=\u001b[39m \u001b[38;5;124m'\u001b[39m\u001b[38;5;124mAccident_Count\u001b[39m\u001b[38;5;124m'\u001b[39m)\n\u001b[0;32m      3\u001b[0m easy_df \u001b[38;5;241m=\u001b[39m year_area\u001b[38;5;241m.\u001b[39mpivot(index\u001b[38;5;241m=\u001b[39m\u001b[38;5;124m'\u001b[39m\u001b[38;5;124mYear\u001b[39m\u001b[38;5;124m'\u001b[39m, columns\u001b[38;5;241m=\u001b[39m\u001b[38;5;124m'\u001b[39m\u001b[38;5;124mDistrict Area\u001b[39m\u001b[38;5;124m'\u001b[39m , values\u001b[38;5;241m=\u001b[39m\u001b[38;5;124m'\u001b[39m\u001b[38;5;124mAccident_Count\u001b[39m\u001b[38;5;124m'\u001b[39m)\n\u001b[0;32m      5\u001b[0m plt\u001b[38;5;241m.\u001b[39mplot(easy_df\u001b[38;5;241m.\u001b[39mindex, easy_df[\u001b[38;5;124m'\u001b[39m\u001b[38;5;124mAberdeen City\u001b[39m\u001b[38;5;124m'\u001b[39m], label\u001b[38;5;241m=\u001b[39m\u001b[38;5;124m'\u001b[39m\u001b[38;5;124mAberdeen City\u001b[39m\u001b[38;5;124m'\u001b[39m, marker\u001b[38;5;241m=\u001b[39m\u001b[38;5;124m'\u001b[39m\u001b[38;5;124mo\u001b[39m\u001b[38;5;124m'\u001b[39m)\n",
      "File \u001b[1;32m~\\AppData\\Local\\Packages\\PythonSoftwareFoundation.Python.3.13_qbz5n2kfra8p0\\LocalCache\\local-packages\\Python313\\site-packages\\pandas\\core\\groupby\\groupby.py:3075\u001b[0m, in \u001b[0;36mGroupBy.size\u001b[1;34m(self)\u001b[0m\n\u001b[0;32m   3064\u001b[0m     result \u001b[38;5;241m=\u001b[39m result\u001b[38;5;241m.\u001b[39mconvert_dtypes(\n\u001b[0;32m   3065\u001b[0m         infer_objects\u001b[38;5;241m=\u001b[39m\u001b[38;5;28;01mFalse\u001b[39;00m,\n\u001b[0;32m   3066\u001b[0m         convert_string\u001b[38;5;241m=\u001b[39m\u001b[38;5;28;01mFalse\u001b[39;00m,\n\u001b[1;32m   (...)\u001b[0m\n\u001b[0;32m   3069\u001b[0m         dtype_backend\u001b[38;5;241m=\u001b[39mdtype_backend,\n\u001b[0;32m   3070\u001b[0m     )\n\u001b[0;32m   3072\u001b[0m \u001b[38;5;28;01mwith\u001b[39;00m com\u001b[38;5;241m.\u001b[39mtemp_setattr(\u001b[38;5;28mself\u001b[39m, \u001b[38;5;124m\"\u001b[39m\u001b[38;5;124mas_index\u001b[39m\u001b[38;5;124m\"\u001b[39m, \u001b[38;5;28;01mTrue\u001b[39;00m):\n\u001b[0;32m   3073\u001b[0m     \u001b[38;5;66;03m# size already has the desired behavior in GH#49519, but this makes the\u001b[39;00m\n\u001b[0;32m   3074\u001b[0m     \u001b[38;5;66;03m# as_index=False path of _reindex_output fail on categorical groupers.\u001b[39;00m\n\u001b[1;32m-> 3075\u001b[0m     result \u001b[38;5;241m=\u001b[39m \u001b[38;5;28;43mself\u001b[39;49m\u001b[38;5;241;43m.\u001b[39;49m\u001b[43m_reindex_output\u001b[49m\u001b[43m(\u001b[49m\u001b[43mresult\u001b[49m\u001b[43m,\u001b[49m\u001b[43m \u001b[49m\u001b[43mfill_value\u001b[49m\u001b[38;5;241;43m=\u001b[39;49m\u001b[38;5;241;43m0\u001b[39;49m\u001b[43m)\u001b[49m\n\u001b[0;32m   3076\u001b[0m \u001b[38;5;28;01mif\u001b[39;00m \u001b[38;5;129;01mnot\u001b[39;00m \u001b[38;5;28mself\u001b[39m\u001b[38;5;241m.\u001b[39mas_index:\n\u001b[0;32m   3077\u001b[0m     \u001b[38;5;66;03m# error: Incompatible types in assignment (expression has\u001b[39;00m\n\u001b[0;32m   3078\u001b[0m     \u001b[38;5;66;03m# type \"DataFrame\", variable has type \"Series\")\u001b[39;00m\n\u001b[0;32m   3079\u001b[0m     result \u001b[38;5;241m=\u001b[39m result\u001b[38;5;241m.\u001b[39mrename(\u001b[38;5;124m\"\u001b[39m\u001b[38;5;124msize\u001b[39m\u001b[38;5;124m\"\u001b[39m)\u001b[38;5;241m.\u001b[39mreset_index()  \u001b[38;5;66;03m# type: ignore[assignment]\u001b[39;00m\n",
      "File \u001b[1;32m~\\AppData\\Local\\Packages\\PythonSoftwareFoundation.Python.3.13_qbz5n2kfra8p0\\LocalCache\\local-packages\\Python313\\site-packages\\pandas\\core\\groupby\\groupby.py:5622\u001b[0m, in \u001b[0;36mGroupBy._reindex_output\u001b[1;34m(self, output, fill_value, qs)\u001b[0m\n\u001b[0;32m   5620\u001b[0m index \u001b[38;5;241m=\u001b[39m MultiIndex\u001b[38;5;241m.\u001b[39mfrom_product(levels_list, names\u001b[38;5;241m=\u001b[39mnames)\n\u001b[0;32m   5621\u001b[0m \u001b[38;5;28;01mif\u001b[39;00m \u001b[38;5;28mself\u001b[39m\u001b[38;5;241m.\u001b[39msort:\n\u001b[1;32m-> 5622\u001b[0m     index \u001b[38;5;241m=\u001b[39m \u001b[43mindex\u001b[49m\u001b[38;5;241;43m.\u001b[39;49m\u001b[43msort_values\u001b[49m\u001b[43m(\u001b[49m\u001b[43m)\u001b[49m\n\u001b[0;32m   5624\u001b[0m \u001b[38;5;28;01mif\u001b[39;00m \u001b[38;5;28mself\u001b[39m\u001b[38;5;241m.\u001b[39mas_index:\n\u001b[0;32m   5625\u001b[0m     \u001b[38;5;66;03m# Always holds for SeriesGroupBy unless GH#36507 is implemented\u001b[39;00m\n\u001b[0;32m   5626\u001b[0m     d \u001b[38;5;241m=\u001b[39m {\n\u001b[0;32m   5627\u001b[0m         \u001b[38;5;28mself\u001b[39m\u001b[38;5;241m.\u001b[39mobj\u001b[38;5;241m.\u001b[39m_get_axis_name(\u001b[38;5;28mself\u001b[39m\u001b[38;5;241m.\u001b[39maxis): index,\n\u001b[0;32m   5628\u001b[0m         \u001b[38;5;124m\"\u001b[39m\u001b[38;5;124mcopy\u001b[39m\u001b[38;5;124m\"\u001b[39m: \u001b[38;5;28;01mFalse\u001b[39;00m,\n\u001b[0;32m   5629\u001b[0m         \u001b[38;5;124m\"\u001b[39m\u001b[38;5;124mfill_value\u001b[39m\u001b[38;5;124m\"\u001b[39m: fill_value,\n\u001b[0;32m   5630\u001b[0m     }\n",
      "File \u001b[1;32m~\\AppData\\Local\\Packages\\PythonSoftwareFoundation.Python.3.13_qbz5n2kfra8p0\\LocalCache\\local-packages\\Python313\\site-packages\\pandas\\util\\_decorators.py:333\u001b[0m, in \u001b[0;36mdeprecate_nonkeyword_arguments.<locals>.decorate.<locals>.wrapper\u001b[1;34m(*args, **kwargs)\u001b[0m\n\u001b[0;32m    327\u001b[0m \u001b[38;5;28;01mif\u001b[39;00m \u001b[38;5;28mlen\u001b[39m(args) \u001b[38;5;241m>\u001b[39m num_allow_args:\n\u001b[0;32m    328\u001b[0m     warnings\u001b[38;5;241m.\u001b[39mwarn(\n\u001b[0;32m    329\u001b[0m         msg\u001b[38;5;241m.\u001b[39mformat(arguments\u001b[38;5;241m=\u001b[39m_format_argument_list(allow_args)),\n\u001b[0;32m    330\u001b[0m         \u001b[38;5;167;01mFutureWarning\u001b[39;00m,\n\u001b[0;32m    331\u001b[0m         stacklevel\u001b[38;5;241m=\u001b[39mfind_stack_level(),\n\u001b[0;32m    332\u001b[0m     )\n\u001b[1;32m--> 333\u001b[0m \u001b[38;5;28;01mreturn\u001b[39;00m \u001b[43mfunc\u001b[49m\u001b[43m(\u001b[49m\u001b[38;5;241;43m*\u001b[39;49m\u001b[43margs\u001b[49m\u001b[43m,\u001b[49m\u001b[43m \u001b[49m\u001b[38;5;241;43m*\u001b[39;49m\u001b[38;5;241;43m*\u001b[39;49m\u001b[43mkwargs\u001b[49m\u001b[43m)\u001b[49m\n",
      "File \u001b[1;32m~\\AppData\\Local\\Packages\\PythonSoftwareFoundation.Python.3.13_qbz5n2kfra8p0\\LocalCache\\local-packages\\Python313\\site-packages\\pandas\\core\\indexes\\base.py:5937\u001b[0m, in \u001b[0;36mIndex.sort_values\u001b[1;34m(self, return_indexer, ascending, na_position, key)\u001b[0m\n\u001b[0;32m   5935\u001b[0m \u001b[38;5;28;01melse\u001b[39;00m:\n\u001b[0;32m   5936\u001b[0m     idx \u001b[38;5;241m=\u001b[39m cast(Index, ensure_key_mapped(\u001b[38;5;28mself\u001b[39m, key))\n\u001b[1;32m-> 5937\u001b[0m     _as \u001b[38;5;241m=\u001b[39m \u001b[43midx\u001b[49m\u001b[38;5;241;43m.\u001b[39;49m\u001b[43margsort\u001b[49m\u001b[43m(\u001b[49m\u001b[43mna_position\u001b[49m\u001b[38;5;241;43m=\u001b[39;49m\u001b[43mna_position\u001b[49m\u001b[43m)\u001b[49m\n\u001b[0;32m   5938\u001b[0m     \u001b[38;5;28;01mif\u001b[39;00m \u001b[38;5;129;01mnot\u001b[39;00m ascending:\n\u001b[0;32m   5939\u001b[0m         _as \u001b[38;5;241m=\u001b[39m _as[::\u001b[38;5;241m-\u001b[39m\u001b[38;5;241m1\u001b[39m]\n",
      "File \u001b[1;32m~\\AppData\\Local\\Packages\\PythonSoftwareFoundation.Python.3.13_qbz5n2kfra8p0\\LocalCache\\local-packages\\Python313\\site-packages\\pandas\\core\\indexes\\multi.py:2333\u001b[0m, in \u001b[0;36mMultiIndex.argsort\u001b[1;34m(self, na_position, *args, **kwargs)\u001b[0m\n\u001b[0;32m   2330\u001b[0m \u001b[38;5;28;01mdef\u001b[39;00m\u001b[38;5;250m \u001b[39m\u001b[38;5;21margsort\u001b[39m(\n\u001b[0;32m   2331\u001b[0m     \u001b[38;5;28mself\u001b[39m, \u001b[38;5;241m*\u001b[39margs, na_position: \u001b[38;5;28mstr\u001b[39m \u001b[38;5;241m=\u001b[39m \u001b[38;5;124m\"\u001b[39m\u001b[38;5;124mlast\u001b[39m\u001b[38;5;124m\"\u001b[39m, \u001b[38;5;241m*\u001b[39m\u001b[38;5;241m*\u001b[39mkwargs\n\u001b[0;32m   2332\u001b[0m ) \u001b[38;5;241m-\u001b[39m\u001b[38;5;241m>\u001b[39m npt\u001b[38;5;241m.\u001b[39mNDArray[np\u001b[38;5;241m.\u001b[39mintp]:\n\u001b[1;32m-> 2333\u001b[0m     target \u001b[38;5;241m=\u001b[39m \u001b[38;5;28;43mself\u001b[39;49m\u001b[38;5;241;43m.\u001b[39;49m\u001b[43m_sort_levels_monotonic\u001b[49m\u001b[43m(\u001b[49m\u001b[43mraise_if_incomparable\u001b[49m\u001b[38;5;241;43m=\u001b[39;49m\u001b[38;5;28;43;01mTrue\u001b[39;49;00m\u001b[43m)\u001b[49m\n\u001b[0;32m   2334\u001b[0m     keys \u001b[38;5;241m=\u001b[39m [lev\u001b[38;5;241m.\u001b[39mcodes \u001b[38;5;28;01mfor\u001b[39;00m lev \u001b[38;5;129;01min\u001b[39;00m target\u001b[38;5;241m.\u001b[39m_get_codes_for_sorting()]\n\u001b[0;32m   2335\u001b[0m     \u001b[38;5;28;01mreturn\u001b[39;00m lexsort_indexer(keys, na_position\u001b[38;5;241m=\u001b[39mna_position, codes_given\u001b[38;5;241m=\u001b[39m\u001b[38;5;28;01mTrue\u001b[39;00m)\n",
      "File \u001b[1;32m~\\AppData\\Local\\Packages\\PythonSoftwareFoundation.Python.3.13_qbz5n2kfra8p0\\LocalCache\\local-packages\\Python313\\site-packages\\pandas\\core\\indexes\\multi.py:2060\u001b[0m, in \u001b[0;36mMultiIndex._sort_levels_monotonic\u001b[1;34m(self, raise_if_incomparable)\u001b[0m\n\u001b[0;32m   2057\u001b[0m \u001b[38;5;28;01mif\u001b[39;00m \u001b[38;5;129;01mnot\u001b[39;00m lev\u001b[38;5;241m.\u001b[39mis_monotonic_increasing:\n\u001b[0;32m   2058\u001b[0m     \u001b[38;5;28;01mtry\u001b[39;00m:\n\u001b[0;32m   2059\u001b[0m         \u001b[38;5;66;03m# indexer to reorder the levels\u001b[39;00m\n\u001b[1;32m-> 2060\u001b[0m         indexer \u001b[38;5;241m=\u001b[39m \u001b[43mlev\u001b[49m\u001b[38;5;241;43m.\u001b[39;49m\u001b[43margsort\u001b[49m\u001b[43m(\u001b[49m\u001b[43m)\u001b[49m\n\u001b[0;32m   2061\u001b[0m     \u001b[38;5;28;01mexcept\u001b[39;00m \u001b[38;5;167;01mTypeError\u001b[39;00m:\n\u001b[0;32m   2062\u001b[0m         \u001b[38;5;28;01mif\u001b[39;00m raise_if_incomparable:\n",
      "File \u001b[1;32m~\\AppData\\Local\\Packages\\PythonSoftwareFoundation.Python.3.13_qbz5n2kfra8p0\\LocalCache\\local-packages\\Python313\\site-packages\\pandas\\core\\indexes\\base.py:6053\u001b[0m, in \u001b[0;36mIndex.argsort\u001b[1;34m(self, *args, **kwargs)\u001b[0m\n\u001b[0;32m   6017\u001b[0m \u001b[38;5;250m\u001b[39m\u001b[38;5;124;03m\"\"\"\u001b[39;00m\n\u001b[0;32m   6018\u001b[0m \u001b[38;5;124;03mReturn the integer indices that would sort the index.\u001b[39;00m\n\u001b[0;32m   6019\u001b[0m \n\u001b[1;32m   (...)\u001b[0m\n\u001b[0;32m   6049\u001b[0m \u001b[38;5;124;03mIndex(['a', 'b', 'c', 'd'], dtype='object')\u001b[39;00m\n\u001b[0;32m   6050\u001b[0m \u001b[38;5;124;03m\"\"\"\u001b[39;00m\n\u001b[0;32m   6051\u001b[0m \u001b[38;5;66;03m# This works for either ndarray or EA, is overridden\u001b[39;00m\n\u001b[0;32m   6052\u001b[0m \u001b[38;5;66;03m#  by RangeIndex, MultIIndex\u001b[39;00m\n\u001b[1;32m-> 6053\u001b[0m \u001b[38;5;28;01mreturn\u001b[39;00m \u001b[38;5;28;43mself\u001b[39;49m\u001b[38;5;241;43m.\u001b[39;49m\u001b[43m_data\u001b[49m\u001b[38;5;241;43m.\u001b[39;49m\u001b[43margsort\u001b[49m\u001b[43m(\u001b[49m\u001b[38;5;241;43m*\u001b[39;49m\u001b[43margs\u001b[49m\u001b[43m,\u001b[49m\u001b[43m \u001b[49m\u001b[38;5;241;43m*\u001b[39;49m\u001b[38;5;241;43m*\u001b[39;49m\u001b[43mkwargs\u001b[49m\u001b[43m)\u001b[49m\n",
      "\u001b[1;31mTypeError\u001b[0m: '<' not supported between instances of 'str' and 'float'"
     ]
    }
   ],
   "source": [
    "year_area = accidents.groupby(['District Area', 'Year']).size().reset_index(name = 'Accident_Count')\n",
    "\n",
    "easy_df = year_area.pivot(index='Year', columns='District Area' , values='Accident_Count')\n",
    "\n",
    "plt.plot(easy_df.index, easy_df['Aberdeen City'], label='Aberdeen City', marker='o')\n",
    "\n",
    "\n",
    "year_area.plot(kind='bar')\n",
    "\n",
    "plt.legend\n",
    "plt.show()"
   ]
  },
  {
   "cell_type": "code",
   "execution_count": null,
   "id": "fb72dd32-3463-4763-8b1a-61b500331095",
   "metadata": {},
   "outputs": [],
   "source": []
  },
  {
   "cell_type": "code",
   "execution_count": null,
   "id": "7e5ec653-3f07-4c20-b999-2cea23a73579",
   "metadata": {},
   "outputs": [],
   "source": [
    "cas_veh = accidents.groupby(['Accident_Severity', 'Vehicle_Type']).size().unstack()\n",
    "\n",
    "sns.heatmap(cas_veh , cmap = 'Wistia')\n",
    "plt.show()"
   ]
  },
  {
   "cell_type": "markdown",
   "id": "22343faf-9029-4d1c-b562-9e3c516a8e27",
   "metadata": {},
   "source": [
    "<h1>INSIGHT 1. number or accidents in year 2019</h1>"
   ]
  },
  {
   "cell_type": "code",
   "execution_count": null,
   "id": "c097865d-1591-4ad6-9ebe-efb2f68047c5",
   "metadata": {},
   "outputs": [],
   "source": [
    "df_2019 = accidents[accidents['Year'] == 2019]\n"
   ]
  },
  {
   "cell_type": "code",
   "execution_count": null,
   "id": "e8396532-9c39-4523-a015-3e920c5a68fc",
   "metadata": {
    "scrolled": true
   },
   "outputs": [],
   "source": [
    "df_2019"
   ]
  },
  {
   "cell_type": "code",
   "execution_count": null,
   "id": "5b51a9f5-31cf-45be-8a56-753af98539a8",
   "metadata": {},
   "outputs": [],
   "source": [
    "accidents['Year'] == 2019"
   ]
  },
  {
   "cell_type": "code",
   "execution_count": null,
   "id": "e9305d75-7fc1-4ee1-be0f-d40eb408d28a",
   "metadata": {},
   "outputs": [],
   "source": [
    "accident_per_year = accidents['Year'].value_counts()\n",
    "\n",
    "\n",
    "accident_per_year.plot(kind='bar')\n",
    "plt.title('Accident per year')\n",
    "plt.xlabel('Year')\n",
    "plt.ylabel('Number of Accidents')\n",
    "plt.show()\n"
   ]
  },
  {
   "cell_type": "code",
   "execution_count": null,
   "id": "1c67eb0d-9ed4-4225-9290-dac516c32c58",
   "metadata": {},
   "outputs": [],
   "source": [
    "plt.figure(figsize=(10, 5))\n",
    "plt.xticks(ticks=range(12), labels=['Jan', 'Feb', 'Mar', 'Apr', 'May', 'Jun', 'Jul', 'Aug', 'Sep', 'Oct', 'Nov', 'Dec'])\n",
    "plt.xlabel(\"Month\")\n",
    "plt.ylabel(\"Number of Accidents\")\n",
    "plt.title(\"Number of Accidents per Month in 2019\")\n",
    "plt.show()"
   ]
  },
  {
   "cell_type": "code",
   "execution_count": null,
   "id": "4b3ed6b2-020c-43bd-a421-9f0d100036cf",
   "metadata": {},
   "outputs": [],
   "source": [
    "df_2019 = accidents[accidents['Year'] == 2019]\n",
    "accident_per_month_2019 = df_2019['Month'].value_counts().sort_index()\n",
    "\n",
    "# Plot accidents per month in 2019\n",
    "plt.figure(figsize=(10, 5))\n",
    "plt.bar(accident_per_month_2019.index - 1, accident_per_month_2019.values)  # Adjusting for months 1-12\n",
    "plt.xticks(ticks=range(12), labels=['Jan', 'Feb', 'Mar', 'Apr', 'May', 'Jun', 'Jul', 'Aug', 'Sep', 'Oct', 'Nov', 'Dec'])\n",
    "plt.xlabel(\"Month\")\n",
    "plt.ylabel(\"Number of Accidents\")\n",
    "plt.title(\"Number of Accidents per Month in 2019\")\n",
    "plt.show()\n",
    "\n",
    "# # Grouping accidents by 'District Area' and 'Year'\n",
    "# year_area = accidents.groupby(['District Area', 'Year']).size().reset_index(name='Accident_Count')\n",
    "\n",
    "# # Pivot the data to create a table where 'Year' is the index and 'District Area' is the columns\n",
    "easy_df = year_area.pivot(index='Year', columns='District Area', values='Accident_Count')\n",
    "\n",
    "# # Plot accidents by District Area over the years\n",
    "plt.figure(figsize=(10, 6))\n",
    "for district in easy_df.columns:\n",
    "    plt.plot(easy_df.index, easy_df['Aberdeen City'], label=district, marker='o')\n",
    "\n",
    "plt.title(\"Accidents by District Area and Year\")\n",
    "plt.xlabel(\"Year\")\n",
    "plt.ylabel(\"Number of Accidents\")\n",
    "plt.legend()\n",
    "plt.show()\n",
    "\n",
    "# Optionally, you can create a bar plot to show the same data\n",
    "year_area_pivot = year_area.pivot_table\n"
   ]
  },
  {
   "cell_type": "markdown",
   "id": "a260c660-0510-4b71-9c91-8e4ff0965709",
   "metadata": {},
   "source": [
    "<h1>INSIGHT 2. Accidents with rainy conditions </h1>"
   ]
  },
  {
   "cell_type": "code",
   "execution_count": null,
   "id": "955edfdf-31fb-4596-ae29-d9611966efbf",
   "metadata": {},
   "outputs": [],
   "source": [
    "df_rainy = accidents[accidents['Weather_Conditions'] == 'Rain']\n"
   ]
  },
  {
   "cell_type": "code",
   "execution_count": null,
   "id": "98e20af3-8935-4b24-b273-cbb31b61840c",
   "metadata": {
    "scrolled": true
   },
   "outputs": [],
   "source": [
    "df_rainy"
   ]
  },
  {
   "cell_type": "code",
   "execution_count": null,
   "id": "4ee42d50-1fb0-4065-9391-01a8269ff7e1",
   "metadata": {},
   "outputs": [],
   "source": [
    "rainy_accidents = accidents[accidents['Weather_Conditions'] == 'Rain']\n",
    "plt.title('Accidents During Rainy Conditions')\n",
    "plt.xlabel('Weather Condition')\n",
    "plt.ylabel('Number of Accidents')\n",
    "plt.show()\n",
    "\n"
   ]
  },
  {
   "cell_type": "code",
   "execution_count": null,
   "id": "cd86ac60-c6f9-48ab-abe3-c72959200de4",
   "metadata": {},
   "outputs": [],
   "source": []
  },
  {
   "cell_type": "code",
   "execution_count": null,
   "id": "2675e1e2-21fc-4f86-a972-ac6acd41c50b",
   "metadata": {},
   "outputs": [],
   "source": [
    "df_daylight = accidents[accidents['Light_Conditions'] == 'Daylight']\n"
   ]
  },
  {
   "cell_type": "code",
   "execution_count": null,
   "id": "cf668a56-1c29-4d2d-b093-aa689a731b3a",
   "metadata": {},
   "outputs": [],
   "source": [
    "df_daylight"
   ]
  },
  {
   "cell_type": "code",
   "execution_count": null,
   "id": "81eb06e6-3cbc-4c8e-8690-5cd03dfde884",
   "metadata": {},
   "outputs": [],
   "source": [
    "# df_daylight = accidents['df_daylight'].value_counts()\n",
    "# df_daylight.plot(kind='bar')\n",
    "# plt.title('Accidents in daylight')\n",
    "# plt.xlabel('Light_Conditions')\n",
    "# plt.ylabel('Number_of_Casualties')\n",
    "# plt.show()"
   ]
  },
  {
   "cell_type": "code",
   "execution_count": null,
   "id": "6db4e838-f419-4c28-a2e0-0839e1f9a89f",
   "metadata": {},
   "outputs": [],
   "source": []
  },
  {
   "cell_type": "raw",
   "id": "1b86aab1-0561-44c0-bd90-3bdf2ed75645",
   "metadata": {},
   "source": [
    "incidents in dry road surface condition"
   ]
  },
  {
   "cell_type": "code",
   "execution_count": null,
   "id": "0770491e-6af7-48f6-ad19-d57e61e48350",
   "metadata": {},
   "outputs": [],
   "source": [
    "df_dry_roads = accidents[accidents['Road_Surface_Conditions'] == 'Dry']\n"
   ]
  },
  {
   "cell_type": "code",
   "execution_count": null,
   "id": "1addbef1-15ee-48a4-88bb-a1a8fc96a6e4",
   "metadata": {},
   "outputs": [],
   "source": [
    "df_dry_roads"
   ]
  },
  {
   "cell_type": "code",
   "execution_count": null,
   "id": "69673f51-0994-401e-9d70-7b4c75f5810b",
   "metadata": {},
   "outputs": [],
   "source": [
    "df_dry_roads = accidents.groupby('Road_Surface_Conditions')['Number_of_Casualties'].sum()\n",
    "df_dry_roads.plot(kind='bar')\n",
    "plt.title('Accidents in dry roads')\n",
    "plt.xlabel('Road_Surface_Conditions')\n",
    "plt.ylabel('Number_of_Casualties')\n",
    "plt.show()"
   ]
  },
  {
   "cell_type": "code",
   "execution_count": null,
   "id": "05474bfa-a9eb-41b7-bc5e-879248b5d1a3",
   "metadata": {},
   "outputs": [],
   "source": [
    "\n",
    "\n"
   ]
  },
  {
   "cell_type": "markdown",
   "id": "fddd87b4-523d-4be2-8d2b-f7a07045b873",
   "metadata": {},
   "source": [
    "<h1>INSIGHT 3. Most common vehicle type in accidents?</h3>\n",
    "\n",
    "<h5>Cars are involved in the majority of accidents.</h5>"
   ]
  },
  {
   "cell_type": "code",
   "execution_count": null,
   "id": "40641b14-b859-4589-8cc3-9042380f07b0",
   "metadata": {},
   "outputs": [],
   "source": [
    "vehicle_counts = accidents[\"Vehicle_Type\"].value_counts()"
   ]
  },
  {
   "cell_type": "code",
   "execution_count": null,
   "id": "4ee63a6a-ddfc-4cc5-aae5-bbf54ab66d95",
   "metadata": {},
   "outputs": [],
   "source": [
    "vehicle_counts"
   ]
  },
  {
   "cell_type": "code",
   "execution_count": null,
   "id": "d47db1fb-7753-4b29-b276-8addc740683f",
   "metadata": {},
   "outputs": [],
   "source": [
    "vehicle = vehicle_counts.idxmax()"
   ]
  },
  {
   "cell_type": "code",
   "execution_count": null,
   "id": "cd3af48b-4fbf-4efa-92a4-6e0911a28339",
   "metadata": {},
   "outputs": [],
   "source": [
    "vehicle"
   ]
  },
  {
   "cell_type": "code",
   "execution_count": null,
   "id": "566f917a-b032-4257-9961-a8259a336ec2",
   "metadata": {},
   "outputs": [],
   "source": [
    "vehicle_counts = accidents[\"Vehicle_Type\"].value_counts().head(10)\n",
    "plt.figure(figsize=(10, 5))\n",
    "sns.barplot(y=vehicle_counts.index, x=vehicle_counts.values)\n",
    "plt.xlabel(\"Number of Accidents\")\n",
    "plt.ylabel(\"Vehicle Type\")\n",
    "plt.title(\"Most Common Vehicle Types Involved in Accidents\")\n",
    "plt.show()\n",
    "\n"
   ]
  },
  {
   "cell_type": "code",
   "execution_count": null,
   "id": "99dc1cc4-809f-4c2b-bb54-954a2410a031",
   "metadata": {},
   "outputs": [],
   "source": []
  },
  {
   "cell_type": "markdown",
   "id": "06be2295-68db-4f38-8e22-1133e7eefed1",
   "metadata": {},
   "source": [
    "<h1>INSIGHT 4.\n",
    "Most common accident severity type in accidents?\n",
    "\n",
    "<h5>The most common accident severity level is Slight.</h3>"
   ]
  },
  {
   "cell_type": "code",
   "execution_count": null,
   "id": "63ff7411-6e50-4ff2-82a9-133fdffd47d6",
   "metadata": {},
   "outputs": [],
   "source": [
    "severity_counts = accidents[\"Accident_Severity\"].value_counts()"
   ]
  },
  {
   "cell_type": "code",
   "execution_count": null,
   "id": "99276040-feec-4205-b4bf-b79f9396a58c",
   "metadata": {},
   "outputs": [],
   "source": [
    "severity_counts"
   ]
  },
  {
   "cell_type": "code",
   "execution_count": null,
   "id": "5183f995-ed55-4f4a-9900-17215fc3e7c7",
   "metadata": {},
   "outputs": [],
   "source": [
    "severity = severity_counts.idxmax()"
   ]
  },
  {
   "cell_type": "code",
   "execution_count": null,
   "id": "0a6cca0f-f7aa-4b1c-bc30-0db31c9ec6bb",
   "metadata": {},
   "outputs": [],
   "source": [
    "severity"
   ]
  },
  {
   "cell_type": "code",
   "execution_count": null,
   "id": "cc70d007-9a56-403d-a0c5-20d2d1330b21",
   "metadata": {},
   "outputs": [],
   "source": [
    "severity_counts = accidents[\"Accident_Severity\"].value_counts()\n",
    "sns.barplot(x=severity_counts.index, y=severity_counts.values)\n",
    "plt.xlabel(\"Accident Severity\")\n",
    "plt.ylabel(\"Number of Accidents\")\n",
    "plt.title(\"Most Common Accident Severity Type\")\n",
    "plt.show()\n"
   ]
  },
  {
   "cell_type": "code",
   "execution_count": null,
   "id": "68269397-df9e-49e4-874e-ed4a44a444fe",
   "metadata": {},
   "outputs": [],
   "source": [
    "severity_counts = accidents[\"Accident_Severity\"].value_counts()\n",
    "\n",
    "\n",
    "sns.scatterplot(x=severity_counts.index, y=severity_counts.values, s=100, color='blue', marker='o')\n",
    "\n",
    "plt.xlabel(\"Accident Severity\")\n",
    "plt.ylabel(\"Number of Accidents\")\n",
    "plt.title(\"Most Common Accident Severity Type\")\n",
    "plt.show()\n"
   ]
  },
  {
   "cell_type": "code",
   "execution_count": null,
   "id": "f20b9ad3-f5a9-4383-9ae5-a67ae8f2395a",
   "metadata": {},
   "outputs": [],
   "source": []
  },
  {
   "cell_type": "markdown",
   "id": "9d8ecb7b-f0ad-4ed2-8972-4bf264ed5fec",
   "metadata": {},
   "source": [
    "<h1>INSIGHT 5. what district area has the highest accidents?\n",
    "\n",
    "<h5>Birmingham records the highest number of accidents.</h3>"
   ]
  },
  {
   "cell_type": "code",
   "execution_count": null,
   "id": "64d938d3-5d22-4e7b-8f1c-4864f6843886",
   "metadata": {},
   "outputs": [],
   "source": [
    "district_counts = accidents[\"District Area\"].value_counts()"
   ]
  },
  {
   "cell_type": "code",
   "execution_count": null,
   "id": "80561dab-564f-4994-b089-b747861270ab",
   "metadata": {},
   "outputs": [],
   "source": [
    "district_counts"
   ]
  },
  {
   "cell_type": "code",
   "execution_count": null,
   "id": "92b64b97-34d3-4147-b529-7aaf1fccad5f",
   "metadata": {},
   "outputs": [],
   "source": [
    "district = district_counts.idxmax()"
   ]
  },
  {
   "cell_type": "code",
   "execution_count": null,
   "id": "79d85f80-c173-42e2-b1f2-6311ee262870",
   "metadata": {},
   "outputs": [],
   "source": [
    "district"
   ]
  },
  {
   "cell_type": "code",
   "execution_count": null,
   "id": "75855e59-2718-4568-bf47-73609e3ddb41",
   "metadata": {},
   "outputs": [],
   "source": [
    "district_counts = accidents[\"District Area\"].value_counts()\n",
    "\n",
    "plt.figure(figsize=(20, 5))\n",
    "sns.scatterplot(x=district_counts.index, y=district_counts.values, s=100, color='green', marker='o')\n",
    "\n",
    "plt.xlabel(\"District Area\")\n",
    "plt.ylabel(\"Number of Accidents\")\n",
    "plt.title(\"Accidents per District Area\")\n",
    "plt.show()\n"
   ]
  },
  {
   "cell_type": "code",
   "execution_count": null,
   "id": "4581ab5e-4f4b-4c47-8236-c0dc79b7903e",
   "metadata": {},
   "outputs": [],
   "source": []
  },
  {
   "cell_type": "markdown",
   "id": "e8f318a2-91bb-48a1-ab26-695a5f53dd47",
   "metadata": {},
   "source": [
    "<h1>INSIGHT 6. on what type of road has the highest number of accidents occur?\n",
    "\n",
    "<h5>A significant number of accidents take place on Single carriageway roads.</h5>"
   ]
  },
  {
   "cell_type": "code",
   "execution_count": null,
   "id": "cc8e96da-45b6-4d41-92d1-75710bb649b6",
   "metadata": {},
   "outputs": [],
   "source": [
    "road_type_counts = accidents[\"Road_Type\"].value_counts()"
   ]
  },
  {
   "cell_type": "code",
   "execution_count": null,
   "id": "b51d759c-dbea-401f-a3c3-1345d24d2f28",
   "metadata": {},
   "outputs": [],
   "source": [
    "road_type_counts"
   ]
  },
  {
   "cell_type": "code",
   "execution_count": null,
   "id": "71a883dd-208e-4136-91ca-71c1d66a0a54",
   "metadata": {},
   "outputs": [],
   "source": [
    "road_type = road_type_counts.idxmax()"
   ]
  },
  {
   "cell_type": "code",
   "execution_count": null,
   "id": "25f84506-cc01-4ce9-a8d5-93265cf7c5fe",
   "metadata": {},
   "outputs": [],
   "source": [
    "road_type"
   ]
  },
  {
   "cell_type": "code",
   "execution_count": null,
   "id": "a8a971a9-d8d8-4f75-b804-2c58f01afde5",
   "metadata": {},
   "outputs": [],
   "source": [
    "road_type_counts = accidents[\"Road_Type\"].value_counts()\n",
    "\n",
    "plt.figure(figsize=(10, 5))\n",
    "sns.lineplot(x=road_type_counts.index, y=road_type_counts.values, marker='o', color='purple')\n",
    "\n",
    "plt.xlabel(\"Road Type\")\n",
    "plt.ylabel(\"Number of Accidents\")\n",
    "plt.title(\"Accidents by Road Type\")\n",
    "plt.xticks(rotation=45)  \n",
    "plt.show()\n"
   ]
  },
  {
   "cell_type": "markdown",
   "id": "7f301981-2ed4-4cb9-a886-e11b13fe78a3",
   "metadata": {},
   "source": [
    "<h1>INSIGHT 7. most common weather conditions during accidents?</h1>\n",
    "\n",
    "<h5>The most frequent weather condition during accidents is clear skies with no strong winds.</h5>"
   ]
  },
  {
   "cell_type": "code",
   "execution_count": null,
   "id": "b9e93e88-90cf-4d18-8bc4-bde67699c3cd",
   "metadata": {},
   "outputs": [],
   "source": [
    "weather_counts = accidents[\"Weather_Conditions\"].value_counts()"
   ]
  },
  {
   "cell_type": "code",
   "execution_count": null,
   "id": "213fe2d7-7eb7-435b-8a13-1d06aeadc800",
   "metadata": {},
   "outputs": [],
   "source": [
    "weather_counts"
   ]
  },
  {
   "cell_type": "code",
   "execution_count": null,
   "id": "cb3e9d81-ed92-4af4-aae0-eac336983ee4",
   "metadata": {},
   "outputs": [],
   "source": [
    "weather = weather_counts.idxmax()"
   ]
  },
  {
   "cell_type": "code",
   "execution_count": null,
   "id": "dccc00cb-3f59-4ef7-9c84-9dc8018d8685",
   "metadata": {},
   "outputs": [],
   "source": [
    "weather"
   ]
  },
  {
   "cell_type": "code",
   "execution_count": null,
   "id": "79ef7c16-0611-47c1-8995-770e4c38eee9",
   "metadata": {},
   "outputs": [],
   "source": [
    "weather_counts = accidents[\"Weather_Conditions\"].value_counts()\n",
    "\n",
    "\n",
    "weather_counts_df = pd.DataFrame(weather_counts).reset_index()\n",
    "weather_counts_df.columns = ['Weather_Condition', 'Number_of_Accidents']\n",
    "\n",
    "heatmap_data = weather_counts_df.set_index('Weather_Condition').T\n",
    "\n",
    "# Create a heatmap\n",
    "plt.figure(figsize=(10, 2))\n",
    "sns.heatmap(heatmap_data, annot=True, cmap='Blues', cbar_kws={'label': 'Number of Accidents'}, fmt='d')\n",
    "\n",
    "plt.title(\"Heatmap of Accidents by Weather Conditions\")\n",
    "plt.show()\n"
   ]
  },
  {
   "cell_type": "code",
   "execution_count": null,
   "id": "de5e9ddd-9d08-413c-a25b-d4db068a2c9f",
   "metadata": {},
   "outputs": [],
   "source": [
    "# weather = accidents.groupby('Weather_Conditions')['Number_of_Casualties'].sum().reset_index()\n",
    "# sns.barplot(x=accidents.index, y=accidents.values)\n",
    "# x = weather['Number_of_Casualties']\n",
    "# y = weather['Weather_Conditions']\n",
    "# plt.bar(x,y)\n",
    "# plt.show()"
   ]
  },
  {
   "cell_type": "markdown",
   "id": "16f48608-3920-47ba-914b-15b84e8911a2",
   "metadata": {},
   "source": [
    "<h1>INSIGHT 8. most accidents happen in?</h1>\n",
    "\n",
    "<h5>Accidents are more prevalent in Urban areas.</h5>"
   ]
  },
  {
   "cell_type": "code",
   "execution_count": null,
   "id": "ade821a7-b3d3-40fd-a22c-a96fd99ef765",
   "metadata": {},
   "outputs": [],
   "source": [
    "urban_rural = accidents[\"Urban_or_Rural_Area\"].value_counts()"
   ]
  },
  {
   "cell_type": "code",
   "execution_count": null,
   "id": "3ef92d0e-d665-4a39-b4cf-25ea7d9e1047",
   "metadata": {},
   "outputs": [],
   "source": [
    "urban_rural"
   ]
  },
  {
   "cell_type": "code",
   "execution_count": null,
   "id": "46f77c7c-7abb-4aa4-9ffc-e61e2d1060ab",
   "metadata": {},
   "outputs": [],
   "source": [
    "urban_or_rural = urban_rural.idxmax()"
   ]
  },
  {
   "cell_type": "code",
   "execution_count": null,
   "id": "61a86d56-7128-4c82-a1de-0b42a73c2195",
   "metadata": {},
   "outputs": [],
   "source": [
    "urban_or_rural"
   ]
  },
  {
   "cell_type": "code",
   "execution_count": null,
   "id": "eab19933-456f-4354-b438-d5922e572447",
   "metadata": {},
   "outputs": [],
   "source": [
    "plt.figure(figsize=(8, 5))\n",
    "sns.countplot(data=accidents, x='Urban_or_Rural_Area', palette='dark')\n",
    "plt.title('Accidents in Urban vs Rural Areas')\n",
    "plt.xlabel('Area Type')\n",
    "plt.ylabel('Number of Accidents')\n",
    "plt.show()"
   ]
  },
  {
   "cell_type": "markdown",
   "id": "7285354c-fda6-4e12-9e86-f7126aea522c",
   "metadata": {},
   "source": [
    "<h1>INSIGHT 9. Average number of casualties per accident</h1>\n",
    "\n",
    "<h5>average number of casualties per accident is  1.35</h5>"
   ]
  },
  {
   "cell_type": "code",
   "execution_count": null,
   "id": "b0d217a3-5ef3-4e89-b3f2-cedb40751529",
   "metadata": {},
   "outputs": [],
   "source": [
    "avg_casualties = accidents[\"Number_of_Casualties\"].mean()"
   ]
  },
  {
   "cell_type": "code",
   "execution_count": null,
   "id": "10822110-1694-4ff8-84e5-3be2f1bbfacc",
   "metadata": {},
   "outputs": [],
   "source": [
    "avg_casualties"
   ]
  },
  {
   "cell_type": "code",
   "execution_count": null,
   "id": "ee99e871-e9c0-4514-bdcd-c5cd91404ebe",
   "metadata": {},
   "outputs": [],
   "source": [
    "avg_casualties = accidents['Number_of_Casualties'].mean()\n",
    "plt.figure(figsize=(6, 4))\n",
    "plt.scatter(['Average Casualties'], [avg_casualties], color='lightcoral')\n",
    "plt.title('Average Number of Casualties per Accident')\n",
    "plt.ylabel('Average Casualties')\n",
    "plt.show()\n"
   ]
  },
  {
   "cell_type": "markdown",
   "id": "9b272c82-987d-4813-a351-59431e38d464",
   "metadata": {},
   "source": [
    "<h1>INSIGHT 10. most common light condition happens in?</h1>\n",
    "\n",
    "<h5>The most common lighting condition during accidents is Daylight.</h5>"
   ]
  },
  {
   "cell_type": "code",
   "execution_count": null,
   "id": "a5209dcf-6ed8-4126-96b7-8d8b86c7bf15",
   "metadata": {},
   "outputs": [],
   "source": [
    "light_conditions = accidents[\"Light_Conditions\"].value_counts()"
   ]
  },
  {
   "cell_type": "code",
   "execution_count": null,
   "id": "9804feaa-08e5-4d35-8f67-6f8c2f9f8074",
   "metadata": {},
   "outputs": [],
   "source": [
    "light_conditions"
   ]
  },
  {
   "cell_type": "code",
   "execution_count": null,
   "id": "57348559-f461-4747-b3cc-20f6cf98b675",
   "metadata": {},
   "outputs": [],
   "source": [
    "light = light_conditions.idxmax()"
   ]
  },
  {
   "cell_type": "code",
   "execution_count": null,
   "id": "ade21238-63f2-429e-b5a1-e5c0075303ef",
   "metadata": {},
   "outputs": [],
   "source": [
    "light"
   ]
  },
  {
   "cell_type": "code",
   "execution_count": null,
   "id": "27764187-f2f9-4ff8-8e2b-0e08a90bc684",
   "metadata": {},
   "outputs": [],
   "source": [
    "plt.figure(figsize=(8, 5))\n",
    "sns.countplot(data=accidents, x='Light_Conditions', palette='autumn')\n",
    "plt.title('Number of Accidents by Light Conditions')\n",
    "plt.xlabel('Light Conditions')\n",
    "plt.ylabel('Number of Accidents')\n",
    "plt.xticks(rotation=45)\n",
    "plt.show()"
   ]
  },
  {
   "cell_type": "markdown",
   "id": "76c2eb81-6e2f-4562-8c16-acc1342a2fd9",
   "metadata": {},
   "source": [
    "<h1>INSIGHT 11. highest avg of casualties</h1>\n",
    "\n",
    "<h5>the highest average casualties is Rural.</h5>"
   ]
  },
  {
   "cell_type": "code",
   "execution_count": null,
   "id": "5980925a-ffb1-4739-aa5f-d40ac2b7caa5",
   "metadata": {},
   "outputs": [],
   "source": [
    "highest_avg_casualties = accidents.groupby('Urban_or_Rural_Area')['Number_of_Casualties'].mean()\n"
   ]
  },
  {
   "cell_type": "code",
   "execution_count": null,
   "id": "4c62c649-cf04-4ee2-ad4a-4ff69900487f",
   "metadata": {},
   "outputs": [],
   "source": [
    "highest_avg_casualties"
   ]
  },
  {
   "cell_type": "code",
   "execution_count": null,
   "id": "5964c3e5-4ad0-4cf6-afc2-f2e82f35b86a",
   "metadata": {},
   "outputs": [],
   "source": [
    "highest = highest_avg_casualties.idxmax()"
   ]
  },
  {
   "cell_type": "code",
   "execution_count": null,
   "id": "a3947686-a6d8-4c6f-9172-8b603191ba52",
   "metadata": {},
   "outputs": [],
   "source": [
    "highest"
   ]
  },
  {
   "cell_type": "code",
   "execution_count": null,
   "id": "01e5d719-c055-4f82-93b3-f02d08e9ff2c",
   "metadata": {},
   "outputs": [],
   "source": [
    "avg_casualties_area = accidents.groupby('Urban_or_Rural_Area')['Number_of_Casualties'].mean().sort_values()\n",
    "plt.figure(figsize=(8, 5))\n",
    "avg_casualties_area.plot(kind='bar', color='salmon')\n",
    "plt.title('Average Casualties by Area Type')\n",
    "plt.xlabel('Area Type')\n",
    "plt.ylabel('Average Number of Casualties')\n",
    "plt.show()"
   ]
  },
  {
   "cell_type": "markdown",
   "id": "43b36ce0-e163-4e4c-8d7c-03c1fcfcbf31",
   "metadata": {},
   "source": [
    "<h1>INSIGHT 12. avg number of vehicles involved in accidents</h1>\n",
    "\n",
    "<h5>he average number of vehicles involved in an accident is 1.83.</h5>"
   ]
  },
  {
   "cell_type": "code",
   "execution_count": null,
   "id": "c8e4161a-cb58-4ba7-a688-c5b60d71bf18",
   "metadata": {},
   "outputs": [],
   "source": [
    "vehicles = accidents[\"Number_of_Vehicles\"].mean()"
   ]
  },
  {
   "cell_type": "code",
   "execution_count": null,
   "id": "0b738cc1-beea-46cd-b5f3-6a2e6b24a1d2",
   "metadata": {},
   "outputs": [],
   "source": [
    "vehicles"
   ]
  },
  {
   "cell_type": "code",
   "execution_count": null,
   "id": "12ef74da-916b-4e32-8426-191078e2be1c",
   "metadata": {},
   "outputs": [],
   "source": [
    "avg_vehicles = accidents['Number_of_Vehicles'].mean()\n",
    "plt.figure(figsize=(6, 4))\n",
    "plt.bar(['Average Vehicles'], [avg_vehicles], color='lightgreen')\n",
    "plt.title('Average Number of Vehicles Involved in Accidents')\n",
    "plt.ylabel('Average Vehicles')\n",
    "plt.show()"
   ]
  },
  {
   "cell_type": "markdown",
   "id": "df7a0283-db8f-43ff-a281-f451859484c5",
   "metadata": {},
   "source": [
    "<h1>INSIGHTS 13. vehicle type w the least accidents</h1>\n",
    "\n",
    "<H5>the vehicle with the least accidents is the ridden horse</H5>"
   ]
  },
  {
   "cell_type": "code",
   "execution_count": null,
   "id": "3791af2b-9136-4040-b332-3919119a39ed",
   "metadata": {},
   "outputs": [],
   "source": [
    "least_vehicle = accidents['Vehicle_Type'].value_counts()"
   ]
  },
  {
   "cell_type": "code",
   "execution_count": null,
   "id": "5cd1478b-0a9a-4b6e-b49a-7ad91a032f3a",
   "metadata": {},
   "outputs": [],
   "source": [
    "least_vehicle"
   ]
  },
  {
   "cell_type": "code",
   "execution_count": null,
   "id": "67bb1c4a-2ccd-4cdb-bfc9-5892a491923c",
   "metadata": {},
   "outputs": [],
   "source": [
    "vehicle = vehicle_counts.idxmin()"
   ]
  },
  {
   "cell_type": "code",
   "execution_count": null,
   "id": "7368bfdd-b8ca-4eb0-865a-f30468f0b42f",
   "metadata": {},
   "outputs": [],
   "source": [
    "vehicle"
   ]
  },
  {
   "cell_type": "code",
   "execution_count": null,
   "id": "820606aa-f9cc-4f84-a3e7-53741cd6ed74",
   "metadata": {},
   "outputs": [],
   "source": [
    "least_vehicle_type = accidents['Vehicle_Type'].value_counts().idxmin()\n",
    "vehicle_counts = accidents['Vehicle_Type'].value_counts()\n",
    "plt.figure(figsize=(15, 6))\n",
    "vehicle_counts.plot(kind='bar', color='slateblue')\n",
    "plt.title('Number of Accidents by Vehicle Type')\n",
    "plt.xlabel('Vehicle Type')\n",
    "plt.ylabel('Number of Accidents')\n",
    "plt.xticks(rotation=45)\n",
    "plt.show()\n"
   ]
  },
  {
   "cell_type": "markdown",
   "id": "349c13ce-a705-42e2-ba35-0fd579ef7f91",
   "metadata": {},
   "source": [
    "<H1>INSIGHT 14. the vehicle type with the highest casualty rate </H1>"
   ]
  },
  {
   "cell_type": "code",
   "execution_count": null,
   "id": "6d041f23-5c90-4536-bfda-5f6fc6a5a312",
   "metadata": {},
   "outputs": [],
   "source": [
    "vehicle_heighest_casualties = accidents.groupby(\"Vehicle_Type\")[\"Number_of_Casualties\"].mean().idxmax()"
   ]
  },
  {
   "cell_type": "code",
   "execution_count": null,
   "id": "58147e2b-d78a-4ebf-ad33-42ae4c2ae873",
   "metadata": {},
   "outputs": [],
   "source": [
    "vehicle_heighest_casualties"
   ]
  },
  {
   "cell_type": "code",
   "execution_count": null,
   "id": "f755163e-d606-4248-b9f3-a76dd3e2e0e1",
   "metadata": {},
   "outputs": [],
   "source": [
    "vehicle_highest_casualties = accidents.groupby('Vehicle_Type')['Number_of_Casualties'].mean().sort_values()\n",
    "plt.figure(figsize=(10, 6))\n",
    "vehicle_highest_casualties.plot(kind='bar', color='darkred')\n",
    "plt.title('Average Casualties by Vehicle Type')\n",
    "plt.xlabel('Vehicle Type')\n",
    "plt.ylabel('Average Number of Casualties')\n",
    "plt.xticks(rotation=45)\n",
    "plt.show()\n"
   ]
  },
  {
   "cell_type": "markdown",
   "id": "93b1a0f8-9367-45f1-a3f2-2812f793776b",
   "metadata": {},
   "source": [
    "<h1>INSIGHT 15. region with the highest percentage of severe accidents</h1>"
   ]
  },
  {
   "cell_type": "code",
   "execution_count": null,
   "id": "3531a891-84c4-45a5-8f65-13c40065ad6b",
   "metadata": {},
   "outputs": [],
   "source": [
    "severe_accidents = accidents[accidents[\"Accident_Severity\"] == \"Severe\"]"
   ]
  },
  {
   "cell_type": "code",
   "execution_count": null,
   "id": "508bd3a0-c558-475e-974a-c280cc3e80cf",
   "metadata": {},
   "outputs": [],
   "source": [
    "region = severe_accidents['District Area'].value_counts().idxmax()"
   ]
  },
  {
   "cell_type": "code",
   "execution_count": null,
   "id": "b52668ab-960d-4c30-ab8d-d60c9fba5c7d",
   "metadata": {},
   "outputs": [],
   "source": [
    "region"
   ]
  },
  {
   "cell_type": "code",
   "execution_count": null,
   "id": "fb3ae67e-9a4d-4980-9526-6d0a333e0599",
   "metadata": {},
   "outputs": [],
   "source": [
    "severe_accidents = accidents[accidents['Accident_Severity'] == 'Severe']\n",
    "region = severe_accidents['District Area'].value_counts()\n",
    "\n",
    "region.plot(kind='line', color='orange')\n",
    "plt.title('Regions with Highest Severe Accidents')\n",
    "plt.xlabel('District Area')\n",
    "plt.ylabel('Number of Severe Accidents')\n",
    "plt.show()\n"
   ]
  },
  {
   "cell_type": "markdown",
   "id": "f5e35533-c084-4bb6-95ca-11879b2c5df2",
   "metadata": {},
   "source": [
    "<h1>INSIGHT 16. wet and icy roads show higher casualty rates</h1>"
   ]
  },
  {
   "cell_type": "code",
   "execution_count": null,
   "id": "fb4f1bfb-9583-4c33-9586-5bb150f7b552",
   "metadata": {},
   "outputs": [],
   "source": [
    "accidents_urban_rural = accidents.groupby(['Urban_or_Rural_Area', 'Accident_Severity']).size().unstack()"
   ]
  },
  {
   "cell_type": "code",
   "execution_count": null,
   "id": "c0ace1f1-355e-4a6a-9f59-182b2bd5ea1a",
   "metadata": {},
   "outputs": [],
   "source": [
    "accidents_urban_rural"
   ]
  },
  {
   "cell_type": "code",
   "execution_count": null,
   "id": "b68fb510-11df-414a-9845-011b1bd54202",
   "metadata": {},
   "outputs": [],
   "source": [
    "accidents_urban_rural = accidents.groupby(['Urban_or_Rural_Area', 'Accident_Severity']).size().unstack()\n",
    "plt.figure(figsize=(10, 6))\n",
    "sns.heatmap(accidents_urban_rural, annot=True, fmt='d', cmap='Blues')\n",
    "plt.title('Accident Severity by Urban and Rural Areas')\n",
    "plt.xlabel('Accident Severity')\n",
    "plt.ylabel('Area Type')\n",
    "plt.show()"
   ]
  },
  {
   "cell_type": "code",
   "execution_count": null,
   "id": "a3231b73-a12b-4a2e-be96-7d24de4be5de",
   "metadata": {},
   "outputs": [],
   "source": [
    "corr_matrix = accidents[['Number_of_Vehicles', 'Number_of_Casualties']].corr()"
   ]
  },
  {
   "cell_type": "code",
   "execution_count": null,
   "id": "abf5681e-20de-46e7-8f14-c89c06ba2042",
   "metadata": {},
   "outputs": [],
   "source": [
    "corr_matrix"
   ]
  },
  {
   "cell_type": "code",
   "execution_count": null,
   "id": "363fd61c-7525-4dc3-9e00-7763fbaa3d22",
   "metadata": {},
   "outputs": [],
   "source": [
    "plt.figure(figsize=(8, 6))\n",
    "corr_matrix = accidents[['Number_of_Vehicles', 'Number_of_Casualties']].corr()\n",
    "sns.heatmap(corr_matrix, annot=True, cmap='coolwarm')\n",
    "plt.title('Correlation between Number of Vehicles and Casualties')\n",
    "plt.show()"
   ]
  },
  {
   "cell_type": "code",
   "execution_count": null,
   "id": "f875604b-207b-4346-88fe-704edf517658",
   "metadata": {},
   "outputs": [],
   "source": []
  },
  {
   "cell_type": "markdown",
   "id": "5769807f-cd08-4314-8143-e3340bdd6ff8",
   "metadata": {},
   "source": [
    "<h1> INSIGHT 17. road surface condition with the highest average casuaties per accident</h1>"
   ]
  },
  {
   "cell_type": "code",
   "execution_count": null,
   "id": "c0139ed8-7ce1-4f62-ad22-9a62a9a09973",
   "metadata": {},
   "outputs": [],
   "source": [
    "road = accidents.groupby(\"Road_Surface_Conditions\")[\"Number_of_Casualties\"].mean().idxmax()"
   ]
  },
  {
   "cell_type": "code",
   "execution_count": null,
   "id": "baf08a13-3f26-46b0-ae24-2916b922a6a1",
   "metadata": {},
   "outputs": [],
   "source": [
    "road"
   ]
  },
  {
   "cell_type": "code",
   "execution_count": null,
   "id": "259aaa80-715e-4a63-a8e4-9f3487771f11",
   "metadata": {},
   "outputs": [],
   "source": [
    "road_avg_casualties = accidents.groupby('Road_Surface_Conditions')['Number_of_Casualties'].mean().sort_values()\n",
    "plt.figure(figsize=(10, 6))\n",
    "road_avg_casualties.plot(kind='barh', color='crimson')\n",
    "plt.title('Average Casualties by Road Surface Condition')\n",
    "plt.xlabel('Average Casualties')\n",
    "plt.ylabel('Road Surface Condition')\n",
    "plt.show()\n"
   ]
  },
  {
   "cell_type": "markdown",
   "id": "3bb3c936-97c2-4e11-92ed-dace9175956d",
   "metadata": {},
   "source": [
    "<h1> INSIGHT 18. accident per month</h1>"
   ]
  },
  {
   "cell_type": "code",
   "execution_count": null,
   "id": "e93dcdec-855a-455e-8882-26176e6e1740",
   "metadata": {},
   "outputs": [],
   "source": [
    "accident_per_month = accidents['Month'].value_counts()"
   ]
  },
  {
   "cell_type": "code",
   "execution_count": null,
   "id": "cf1321a6-3cd5-4895-b8e8-eb3a61e34c9c",
   "metadata": {},
   "outputs": [],
   "source": [
    "accident_per_month"
   ]
  },
  {
   "cell_type": "code",
   "execution_count": null,
   "id": "da36d43b-44c3-46b4-aeb2-a7c86bf92622",
   "metadata": {},
   "outputs": [],
   "source": [
    "plt.figure(figsize=(10, 6))\n",
    "month_names = {\n",
    "    1: 'January', 2: 'February', 3: 'March', 4: 'April', 5: 'May', 6: 'June', 7: 'July' , 8: 'August', 9: 'September', 10:'October', 11: 'November', 12:'December'}\n",
    "sns.countplot(data=accidents, x='Month', palette='plasma')\n",
    "plt.title('Accidents per Month')\n",
    "plt.xlabel('Month')\n",
    "plt.ylabel('Number of Accidents')\n",
    "plt.xticks(rotation=45)\n",
    "plt.show()"
   ]
  },
  {
   "cell_type": "code",
   "execution_count": null,
   "id": "50c6b737-097f-4dc7-babe-8a71d8c4a4a7",
   "metadata": {},
   "outputs": [],
   "source": []
  },
  {
   "cell_type": "code",
   "execution_count": null,
   "id": "b735d7af-d270-46d9-8d56-254480d7ecf8",
   "metadata": {},
   "outputs": [],
   "source": []
  },
  {
   "cell_type": "code",
   "execution_count": null,
   "id": "81416614-04cc-4cde-84f6-628a9a7c0fba",
   "metadata": {},
   "outputs": [],
   "source": []
  },
  {
   "cell_type": "code",
   "execution_count": null,
   "id": "84c32bb4-150a-4544-91b5-8e1a510e5133",
   "metadata": {},
   "outputs": [],
   "source": []
  },
  {
   "cell_type": "code",
   "execution_count": null,
   "id": "e422e7db-96e8-4e94-a3de-054abf792dab",
   "metadata": {},
   "outputs": [],
   "source": []
  }
 ],
 "metadata": {
  "kernelspec": {
   "display_name": "Python 3 (ipykernel)",
   "language": "python",
   "name": "python3"
  },
  "language_info": {
   "codemirror_mode": {
    "name": "ipython",
    "version": 3
   },
   "file_extension": ".py",
   "mimetype": "text/x-python",
   "name": "python",
   "nbconvert_exporter": "python",
   "pygments_lexer": "ipython3",
   "version": "3.13.2"
  }
 },
 "nbformat": 4,
 "nbformat_minor": 5
}
