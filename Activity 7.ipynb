{
 "cells": [
  {
   "cell_type": "code",
   "execution_count": 1,
   "id": "3bbba4c2-91db-4a4d-8541-04bbce017e89",
   "metadata": {},
   "outputs": [],
   "source": [
    "import numpy as np\n",
    "import pandas as pd \n",
    "import seaborn as sns \n",
    "import matplotlib.pyplot as plt \n",
    "import warnings \n",
    "warnings.filterwarnings('ignore')"
   ]
  },
  {
   "cell_type": "code",
   "execution_count": 2,
   "id": "ac1026fe-5868-4148-b33c-b07cfc4a2048",
   "metadata": {},
   "outputs": [
    {
     "name": "stdout",
     "output_type": "stream",
     "text": [
      "Defaulting to user installation because normal site-packages is not writeable\n",
      "Collecting folium\n",
      "  Downloading folium-0.19.5-py2.py3-none-any.whl.metadata (4.1 kB)\n",
      "Collecting branca>=0.6.0 (from folium)\n",
      "  Downloading branca-0.8.1-py3-none-any.whl.metadata (1.5 kB)\n",
      "Requirement already satisfied: jinja2>=2.9 in c:\\users\\cathe\\appdata\\local\\packages\\pythonsoftwarefoundation.python.3.13_qbz5n2kfra8p0\\localcache\\local-packages\\python313\\site-packages (from folium) (3.1.6)\n",
      "Requirement already satisfied: numpy in c:\\users\\cathe\\appdata\\local\\packages\\pythonsoftwarefoundation.python.3.13_qbz5n2kfra8p0\\localcache\\local-packages\\python313\\site-packages (from folium) (2.2.4)\n",
      "Requirement already satisfied: requests in c:\\users\\cathe\\appdata\\local\\packages\\pythonsoftwarefoundation.python.3.13_qbz5n2kfra8p0\\localcache\\local-packages\\python313\\site-packages (from folium) (2.32.3)\n",
      "Collecting xyzservices (from folium)\n",
      "  Downloading xyzservices-2025.1.0-py3-none-any.whl.metadata (4.3 kB)\n",
      "Requirement already satisfied: MarkupSafe>=2.0 in c:\\users\\cathe\\appdata\\local\\packages\\pythonsoftwarefoundation.python.3.13_qbz5n2kfra8p0\\localcache\\local-packages\\python313\\site-packages (from jinja2>=2.9->folium) (3.0.2)\n",
      "Requirement already satisfied: charset-normalizer<4,>=2 in c:\\users\\cathe\\appdata\\local\\packages\\pythonsoftwarefoundation.python.3.13_qbz5n2kfra8p0\\localcache\\local-packages\\python313\\site-packages (from requests->folium) (3.4.1)\n",
      "Requirement already satisfied: idna<4,>=2.5 in c:\\users\\cathe\\appdata\\local\\packages\\pythonsoftwarefoundation.python.3.13_qbz5n2kfra8p0\\localcache\\local-packages\\python313\\site-packages (from requests->folium) (3.10)\n",
      "Requirement already satisfied: urllib3<3,>=1.21.1 in c:\\users\\cathe\\appdata\\local\\packages\\pythonsoftwarefoundation.python.3.13_qbz5n2kfra8p0\\localcache\\local-packages\\python313\\site-packages (from requests->folium) (2.3.0)\n",
      "Requirement already satisfied: certifi>=2017.4.17 in c:\\users\\cathe\\appdata\\local\\packages\\pythonsoftwarefoundation.python.3.13_qbz5n2kfra8p0\\localcache\\local-packages\\python313\\site-packages (from requests->folium) (2025.1.31)\n",
      "Downloading folium-0.19.5-py2.py3-none-any.whl (110 kB)\n",
      "Downloading branca-0.8.1-py3-none-any.whl (26 kB)\n",
      "Downloading xyzservices-2025.1.0-py3-none-any.whl (88 kB)\n",
      "Installing collected packages: xyzservices, branca, folium\n",
      "Successfully installed branca-0.8.1 folium-0.19.5 xyzservices-2025.1.0\n",
      "Note: you may need to restart the kernel to use updated packages.\n"
     ]
    }
   ],
   "source": [
    "pip install folium"
   ]
  },
  {
   "cell_type": "code",
   "execution_count": 3,
   "id": "89b70c1e-c8be-4f6f-b95a-958a31b2655a",
   "metadata": {},
   "outputs": [],
   "source": [
    "\n",
    "\n",
    "# Load the dataset with the correct encoding\n",
    "df = pd.read_csv('datasets\\\\Global_terrorist.csv', encoding='ISO-8859-1')\n",
    "\n"
   ]
  },
  {
   "cell_type": "code",
   "execution_count": 4,
   "id": "b54d601b-0b95-4902-b301-786fbd02cb3e",
   "metadata": {},
   "outputs": [
    {
     "data": {
      "text/html": [
       "<div>\n",
       "<style scoped>\n",
       "    .dataframe tbody tr th:only-of-type {\n",
       "        vertical-align: middle;\n",
       "    }\n",
       "\n",
       "    .dataframe tbody tr th {\n",
       "        vertical-align: top;\n",
       "    }\n",
       "\n",
       "    .dataframe thead th {\n",
       "        text-align: right;\n",
       "    }\n",
       "</style>\n",
       "<table border=\"1\" class=\"dataframe\">\n",
       "  <thead>\n",
       "    <tr style=\"text-align: right;\">\n",
       "      <th></th>\n",
       "      <th>eventid</th>\n",
       "      <th>iyear</th>\n",
       "      <th>imonth</th>\n",
       "      <th>iday</th>\n",
       "      <th>approxdate</th>\n",
       "      <th>extended</th>\n",
       "      <th>resolution</th>\n",
       "      <th>country</th>\n",
       "      <th>country_txt</th>\n",
       "      <th>region</th>\n",
       "      <th>...</th>\n",
       "      <th>addnotes</th>\n",
       "      <th>scite1</th>\n",
       "      <th>scite2</th>\n",
       "      <th>scite3</th>\n",
       "      <th>dbsource</th>\n",
       "      <th>INT_LOG</th>\n",
       "      <th>INT_IDEO</th>\n",
       "      <th>INT_MISC</th>\n",
       "      <th>INT_ANY</th>\n",
       "      <th>related</th>\n",
       "    </tr>\n",
       "  </thead>\n",
       "  <tbody>\n",
       "    <tr>\n",
       "      <th>0</th>\n",
       "      <td>197000000001</td>\n",
       "      <td>1970</td>\n",
       "      <td>7</td>\n",
       "      <td>2</td>\n",
       "      <td>NaN</td>\n",
       "      <td>0</td>\n",
       "      <td>NaN</td>\n",
       "      <td>58</td>\n",
       "      <td>Dominican Republic</td>\n",
       "      <td>2</td>\n",
       "      <td>...</td>\n",
       "      <td>NaN</td>\n",
       "      <td>NaN</td>\n",
       "      <td>NaN</td>\n",
       "      <td>NaN</td>\n",
       "      <td>PGIS</td>\n",
       "      <td>0</td>\n",
       "      <td>0</td>\n",
       "      <td>0</td>\n",
       "      <td>0</td>\n",
       "      <td>NaN</td>\n",
       "    </tr>\n",
       "    <tr>\n",
       "      <th>1</th>\n",
       "      <td>197000000002</td>\n",
       "      <td>1970</td>\n",
       "      <td>0</td>\n",
       "      <td>0</td>\n",
       "      <td>NaN</td>\n",
       "      <td>0</td>\n",
       "      <td>NaN</td>\n",
       "      <td>130</td>\n",
       "      <td>Mexico</td>\n",
       "      <td>1</td>\n",
       "      <td>...</td>\n",
       "      <td>NaN</td>\n",
       "      <td>NaN</td>\n",
       "      <td>NaN</td>\n",
       "      <td>NaN</td>\n",
       "      <td>PGIS</td>\n",
       "      <td>0</td>\n",
       "      <td>1</td>\n",
       "      <td>1</td>\n",
       "      <td>1</td>\n",
       "      <td>NaN</td>\n",
       "    </tr>\n",
       "    <tr>\n",
       "      <th>2</th>\n",
       "      <td>197001000001</td>\n",
       "      <td>1970</td>\n",
       "      <td>1</td>\n",
       "      <td>0</td>\n",
       "      <td>NaN</td>\n",
       "      <td>0</td>\n",
       "      <td>NaN</td>\n",
       "      <td>160</td>\n",
       "      <td>Philippines</td>\n",
       "      <td>5</td>\n",
       "      <td>...</td>\n",
       "      <td>NaN</td>\n",
       "      <td>NaN</td>\n",
       "      <td>NaN</td>\n",
       "      <td>NaN</td>\n",
       "      <td>PGIS</td>\n",
       "      <td>-9</td>\n",
       "      <td>-9</td>\n",
       "      <td>1</td>\n",
       "      <td>1</td>\n",
       "      <td>NaN</td>\n",
       "    </tr>\n",
       "    <tr>\n",
       "      <th>3</th>\n",
       "      <td>197001000002</td>\n",
       "      <td>1970</td>\n",
       "      <td>1</td>\n",
       "      <td>0</td>\n",
       "      <td>NaN</td>\n",
       "      <td>0</td>\n",
       "      <td>NaN</td>\n",
       "      <td>78</td>\n",
       "      <td>Greece</td>\n",
       "      <td>8</td>\n",
       "      <td>...</td>\n",
       "      <td>NaN</td>\n",
       "      <td>NaN</td>\n",
       "      <td>NaN</td>\n",
       "      <td>NaN</td>\n",
       "      <td>PGIS</td>\n",
       "      <td>-9</td>\n",
       "      <td>-9</td>\n",
       "      <td>1</td>\n",
       "      <td>1</td>\n",
       "      <td>NaN</td>\n",
       "    </tr>\n",
       "    <tr>\n",
       "      <th>4</th>\n",
       "      <td>197001000003</td>\n",
       "      <td>1970</td>\n",
       "      <td>1</td>\n",
       "      <td>0</td>\n",
       "      <td>NaN</td>\n",
       "      <td>0</td>\n",
       "      <td>NaN</td>\n",
       "      <td>101</td>\n",
       "      <td>Japan</td>\n",
       "      <td>4</td>\n",
       "      <td>...</td>\n",
       "      <td>NaN</td>\n",
       "      <td>NaN</td>\n",
       "      <td>NaN</td>\n",
       "      <td>NaN</td>\n",
       "      <td>PGIS</td>\n",
       "      <td>-9</td>\n",
       "      <td>-9</td>\n",
       "      <td>1</td>\n",
       "      <td>1</td>\n",
       "      <td>NaN</td>\n",
       "    </tr>\n",
       "    <tr>\n",
       "      <th>...</th>\n",
       "      <td>...</td>\n",
       "      <td>...</td>\n",
       "      <td>...</td>\n",
       "      <td>...</td>\n",
       "      <td>...</td>\n",
       "      <td>...</td>\n",
       "      <td>...</td>\n",
       "      <td>...</td>\n",
       "      <td>...</td>\n",
       "      <td>...</td>\n",
       "      <td>...</td>\n",
       "      <td>...</td>\n",
       "      <td>...</td>\n",
       "      <td>...</td>\n",
       "      <td>...</td>\n",
       "      <td>...</td>\n",
       "      <td>...</td>\n",
       "      <td>...</td>\n",
       "      <td>...</td>\n",
       "      <td>...</td>\n",
       "      <td>...</td>\n",
       "    </tr>\n",
       "    <tr>\n",
       "      <th>181686</th>\n",
       "      <td>201712310022</td>\n",
       "      <td>2017</td>\n",
       "      <td>12</td>\n",
       "      <td>31</td>\n",
       "      <td>NaN</td>\n",
       "      <td>0</td>\n",
       "      <td>NaN</td>\n",
       "      <td>182</td>\n",
       "      <td>Somalia</td>\n",
       "      <td>11</td>\n",
       "      <td>...</td>\n",
       "      <td>NaN</td>\n",
       "      <td>\"Somalia: Al-Shabaab Militants Attack Army Che...</td>\n",
       "      <td>\"Highlights: Somalia Daily Media Highlights 2 ...</td>\n",
       "      <td>\"Highlights: Somalia Daily Media Highlights 1 ...</td>\n",
       "      <td>START Primary Collection</td>\n",
       "      <td>0</td>\n",
       "      <td>0</td>\n",
       "      <td>0</td>\n",
       "      <td>0</td>\n",
       "      <td>NaN</td>\n",
       "    </tr>\n",
       "    <tr>\n",
       "      <th>181687</th>\n",
       "      <td>201712310029</td>\n",
       "      <td>2017</td>\n",
       "      <td>12</td>\n",
       "      <td>31</td>\n",
       "      <td>NaN</td>\n",
       "      <td>0</td>\n",
       "      <td>NaN</td>\n",
       "      <td>200</td>\n",
       "      <td>Syria</td>\n",
       "      <td>10</td>\n",
       "      <td>...</td>\n",
       "      <td>NaN</td>\n",
       "      <td>\"Putin's 'victory' in Syria has turned into a ...</td>\n",
       "      <td>\"Two Russian soldiers killed at Hmeymim base i...</td>\n",
       "      <td>\"Two Russian servicemen killed in Syria mortar...</td>\n",
       "      <td>START Primary Collection</td>\n",
       "      <td>-9</td>\n",
       "      <td>-9</td>\n",
       "      <td>1</td>\n",
       "      <td>1</td>\n",
       "      <td>NaN</td>\n",
       "    </tr>\n",
       "    <tr>\n",
       "      <th>181688</th>\n",
       "      <td>201712310030</td>\n",
       "      <td>2017</td>\n",
       "      <td>12</td>\n",
       "      <td>31</td>\n",
       "      <td>NaN</td>\n",
       "      <td>0</td>\n",
       "      <td>NaN</td>\n",
       "      <td>160</td>\n",
       "      <td>Philippines</td>\n",
       "      <td>5</td>\n",
       "      <td>...</td>\n",
       "      <td>NaN</td>\n",
       "      <td>\"Maguindanao clashes trap tribe members,\" Phil...</td>\n",
       "      <td>NaN</td>\n",
       "      <td>NaN</td>\n",
       "      <td>START Primary Collection</td>\n",
       "      <td>0</td>\n",
       "      <td>0</td>\n",
       "      <td>0</td>\n",
       "      <td>0</td>\n",
       "      <td>NaN</td>\n",
       "    </tr>\n",
       "    <tr>\n",
       "      <th>181689</th>\n",
       "      <td>201712310031</td>\n",
       "      <td>2017</td>\n",
       "      <td>12</td>\n",
       "      <td>31</td>\n",
       "      <td>NaN</td>\n",
       "      <td>0</td>\n",
       "      <td>NaN</td>\n",
       "      <td>92</td>\n",
       "      <td>India</td>\n",
       "      <td>6</td>\n",
       "      <td>...</td>\n",
       "      <td>NaN</td>\n",
       "      <td>\"Trader escapes grenade attack in Imphal,\" Bus...</td>\n",
       "      <td>NaN</td>\n",
       "      <td>NaN</td>\n",
       "      <td>START Primary Collection</td>\n",
       "      <td>-9</td>\n",
       "      <td>-9</td>\n",
       "      <td>0</td>\n",
       "      <td>-9</td>\n",
       "      <td>NaN</td>\n",
       "    </tr>\n",
       "    <tr>\n",
       "      <th>181690</th>\n",
       "      <td>201712310032</td>\n",
       "      <td>2017</td>\n",
       "      <td>12</td>\n",
       "      <td>31</td>\n",
       "      <td>NaN</td>\n",
       "      <td>0</td>\n",
       "      <td>NaN</td>\n",
       "      <td>160</td>\n",
       "      <td>Philippines</td>\n",
       "      <td>5</td>\n",
       "      <td>...</td>\n",
       "      <td>NaN</td>\n",
       "      <td>\"Security tightened in Cotabato following IED ...</td>\n",
       "      <td>\"Security tightened in Cotabato City,\" Manila ...</td>\n",
       "      <td>NaN</td>\n",
       "      <td>START Primary Collection</td>\n",
       "      <td>-9</td>\n",
       "      <td>-9</td>\n",
       "      <td>0</td>\n",
       "      <td>-9</td>\n",
       "      <td>NaN</td>\n",
       "    </tr>\n",
       "  </tbody>\n",
       "</table>\n",
       "<p>181691 rows × 135 columns</p>\n",
       "</div>"
      ],
      "text/plain": [
       "             eventid  iyear  imonth  iday approxdate  extended resolution  \\\n",
       "0       197000000001   1970       7     2        NaN         0        NaN   \n",
       "1       197000000002   1970       0     0        NaN         0        NaN   \n",
       "2       197001000001   1970       1     0        NaN         0        NaN   \n",
       "3       197001000002   1970       1     0        NaN         0        NaN   \n",
       "4       197001000003   1970       1     0        NaN         0        NaN   \n",
       "...              ...    ...     ...   ...        ...       ...        ...   \n",
       "181686  201712310022   2017      12    31        NaN         0        NaN   \n",
       "181687  201712310029   2017      12    31        NaN         0        NaN   \n",
       "181688  201712310030   2017      12    31        NaN         0        NaN   \n",
       "181689  201712310031   2017      12    31        NaN         0        NaN   \n",
       "181690  201712310032   2017      12    31        NaN         0        NaN   \n",
       "\n",
       "        country         country_txt  region  ... addnotes  \\\n",
       "0            58  Dominican Republic       2  ...      NaN   \n",
       "1           130              Mexico       1  ...      NaN   \n",
       "2           160         Philippines       5  ...      NaN   \n",
       "3            78              Greece       8  ...      NaN   \n",
       "4           101               Japan       4  ...      NaN   \n",
       "...         ...                 ...     ...  ...      ...   \n",
       "181686      182             Somalia      11  ...      NaN   \n",
       "181687      200               Syria      10  ...      NaN   \n",
       "181688      160         Philippines       5  ...      NaN   \n",
       "181689       92               India       6  ...      NaN   \n",
       "181690      160         Philippines       5  ...      NaN   \n",
       "\n",
       "                                                   scite1  \\\n",
       "0                                                     NaN   \n",
       "1                                                     NaN   \n",
       "2                                                     NaN   \n",
       "3                                                     NaN   \n",
       "4                                                     NaN   \n",
       "...                                                   ...   \n",
       "181686  \"Somalia: Al-Shabaab Militants Attack Army Che...   \n",
       "181687  \"Putin's 'victory' in Syria has turned into a ...   \n",
       "181688  \"Maguindanao clashes trap tribe members,\" Phil...   \n",
       "181689  \"Trader escapes grenade attack in Imphal,\" Bus...   \n",
       "181690  \"Security tightened in Cotabato following IED ...   \n",
       "\n",
       "                                                   scite2  \\\n",
       "0                                                     NaN   \n",
       "1                                                     NaN   \n",
       "2                                                     NaN   \n",
       "3                                                     NaN   \n",
       "4                                                     NaN   \n",
       "...                                                   ...   \n",
       "181686  \"Highlights: Somalia Daily Media Highlights 2 ...   \n",
       "181687  \"Two Russian soldiers killed at Hmeymim base i...   \n",
       "181688                                                NaN   \n",
       "181689                                                NaN   \n",
       "181690  \"Security tightened in Cotabato City,\" Manila ...   \n",
       "\n",
       "                                                   scite3  \\\n",
       "0                                                     NaN   \n",
       "1                                                     NaN   \n",
       "2                                                     NaN   \n",
       "3                                                     NaN   \n",
       "4                                                     NaN   \n",
       "...                                                   ...   \n",
       "181686  \"Highlights: Somalia Daily Media Highlights 1 ...   \n",
       "181687  \"Two Russian servicemen killed in Syria mortar...   \n",
       "181688                                                NaN   \n",
       "181689                                                NaN   \n",
       "181690                                                NaN   \n",
       "\n",
       "                        dbsource  INT_LOG  INT_IDEO INT_MISC INT_ANY  related  \n",
       "0                           PGIS        0         0        0       0      NaN  \n",
       "1                           PGIS        0         1        1       1      NaN  \n",
       "2                           PGIS       -9        -9        1       1      NaN  \n",
       "3                           PGIS       -9        -9        1       1      NaN  \n",
       "4                           PGIS       -9        -9        1       1      NaN  \n",
       "...                          ...      ...       ...      ...     ...      ...  \n",
       "181686  START Primary Collection        0         0        0       0      NaN  \n",
       "181687  START Primary Collection       -9        -9        1       1      NaN  \n",
       "181688  START Primary Collection        0         0        0       0      NaN  \n",
       "181689  START Primary Collection       -9        -9        0      -9      NaN  \n",
       "181690  START Primary Collection       -9        -9        0      -9      NaN  \n",
       "\n",
       "[181691 rows x 135 columns]"
      ]
     },
     "execution_count": 4,
     "metadata": {},
     "output_type": "execute_result"
    }
   ],
   "source": [
    "df"
   ]
  },
  {
   "cell_type": "code",
   "execution_count": 5,
   "id": "14d29d04-a42a-40fe-89a4-ecd9960469b5",
   "metadata": {},
   "outputs": [
    {
     "data": {
      "text/plain": [
       "Index(['eventid', 'iyear', 'imonth', 'iday', 'approxdate', 'extended',\n",
       "       'resolution', 'country', 'country_txt', 'region',\n",
       "       ...\n",
       "       'addnotes', 'scite1', 'scite2', 'scite3', 'dbsource', 'INT_LOG',\n",
       "       'INT_IDEO', 'INT_MISC', 'INT_ANY', 'related'],\n",
       "      dtype='object', length=135)"
      ]
     },
     "execution_count": 5,
     "metadata": {},
     "output_type": "execute_result"
    }
   ],
   "source": [
    "df.columns"
   ]
  },
  {
   "cell_type": "code",
   "execution_count": 6,
   "id": "ce25b7f1-72ae-49ae-8544-1364a2722296",
   "metadata": {},
   "outputs": [
    {
     "data": {
      "text/plain": [
       "0         False\n",
       "1         False\n",
       "2         False\n",
       "3         False\n",
       "4         False\n",
       "          ...  \n",
       "181686    False\n",
       "181687     True\n",
       "181688    False\n",
       "181689    False\n",
       "181690    False\n",
       "Name: region_txt, Length: 181691, dtype: bool"
      ]
     },
     "execution_count": 6,
     "metadata": {},
     "output_type": "execute_result"
    }
   ],
   "source": [
    "df['region_txt'] == 'Middle East & North Africa'"
   ]
  },
  {
   "cell_type": "markdown",
   "id": "2e3bcad1-d70f-4866-92c5-12eeff5ede1f",
   "metadata": {},
   "source": [
    "<h1>Filtering Data</h1>"
   ]
  },
  {
   "cell_type": "code",
   "execution_count": 7,
   "id": "7945c58b-888f-42e7-8944-0137805f2f0d",
   "metadata": {},
   "outputs": [],
   "source": [
    "filter1 = df[df['region_txt'] == 'Middle East & North Africa']\n"
   ]
  },
  {
   "cell_type": "code",
   "execution_count": 8,
   "id": "90efff64-7d24-4573-bd6d-fa0e4157ed1c",
   "metadata": {},
   "outputs": [],
   "source": [
    "filter2 = filter1[filter1['attacktype1_txt'] == 'Bombing/Explosion']\n"
   ]
  },
  {
   "cell_type": "code",
   "execution_count": 9,
   "id": "57777a7e-2929-44d7-a158-b71aa61c564d",
   "metadata": {},
   "outputs": [],
   "source": [
    "filter3 = filter2[filter2['nkill'] >= 10]\n"
   ]
  },
  {
   "cell_type": "code",
   "execution_count": 10,
   "id": "35b258df-c356-4d00-b498-cac2ec1f2c11",
   "metadata": {},
   "outputs": [],
   "source": [
    "filter4 = filter3[filter3['iyear'] >= 2000]"
   ]
  },
  {
   "cell_type": "markdown",
   "id": "74fe39bf-bed8-41a1-92ff-0e7944631fc5",
   "metadata": {},
   "source": [
    "<h1>Data aggregation</h1>"
   ]
  },
  {
   "cell_type": "code",
   "execution_count": 11,
   "id": "b98e8874-56c1-41d8-b799-1f582bd992c6",
   "metadata": {},
   "outputs": [],
   "source": [
    "ME_terror = filter4.groupby(['longitude', 'latitude']).size().reset_index(name='incident_count')"
   ]
  },
  {
   "cell_type": "code",
   "execution_count": 12,
   "id": "1ece940b-64ac-4018-bf6c-5dbb9e29a32c",
   "metadata": {},
   "outputs": [
    {
     "data": {
      "text/html": [
       "<div>\n",
       "<style scoped>\n",
       "    .dataframe tbody tr th:only-of-type {\n",
       "        vertical-align: middle;\n",
       "    }\n",
       "\n",
       "    .dataframe tbody tr th {\n",
       "        vertical-align: top;\n",
       "    }\n",
       "\n",
       "    .dataframe thead th {\n",
       "        text-align: right;\n",
       "    }\n",
       "</style>\n",
       "<table border=\"1\" class=\"dataframe\">\n",
       "  <thead>\n",
       "    <tr style=\"text-align: right;\">\n",
       "      <th></th>\n",
       "      <th>longitude</th>\n",
       "      <th>latitude</th>\n",
       "      <th>incident_count</th>\n",
       "    </tr>\n",
       "  </thead>\n",
       "  <tbody>\n",
       "    <tr>\n",
       "      <th>0</th>\n",
       "      <td>-8.000000</td>\n",
       "      <td>31.633333</td>\n",
       "      <td>1</td>\n",
       "    </tr>\n",
       "    <tr>\n",
       "      <th>1</th>\n",
       "      <td>-7.610000</td>\n",
       "      <td>33.590000</td>\n",
       "      <td>1</td>\n",
       "    </tr>\n",
       "    <tr>\n",
       "      <th>2</th>\n",
       "      <td>0.138188</td>\n",
       "      <td>35.391899</td>\n",
       "      <td>1</td>\n",
       "    </tr>\n",
       "    <tr>\n",
       "      <th>3</th>\n",
       "      <td>1.988153</td>\n",
       "      <td>36.072919</td>\n",
       "      <td>1</td>\n",
       "    </tr>\n",
       "    <tr>\n",
       "      <th>4</th>\n",
       "      <td>2.344489</td>\n",
       "      <td>36.526708</td>\n",
       "      <td>1</td>\n",
       "    </tr>\n",
       "    <tr>\n",
       "      <th>...</th>\n",
       "      <td>...</td>\n",
       "      <td>...</td>\n",
       "      <td>...</td>\n",
       "    </tr>\n",
       "    <tr>\n",
       "      <th>517</th>\n",
       "      <td>50.004524</td>\n",
       "      <td>26.554785</td>\n",
       "      <td>1</td>\n",
       "    </tr>\n",
       "    <tr>\n",
       "      <th>518</th>\n",
       "      <td>51.405190</td>\n",
       "      <td>35.724533</td>\n",
       "      <td>1</td>\n",
       "    </tr>\n",
       "    <tr>\n",
       "      <th>519</th>\n",
       "      <td>52.583610</td>\n",
       "      <td>29.591325</td>\n",
       "      <td>1</td>\n",
       "    </tr>\n",
       "    <tr>\n",
       "      <th>520</th>\n",
       "      <td>60.862701</td>\n",
       "      <td>29.483576</td>\n",
       "      <td>3</td>\n",
       "    </tr>\n",
       "    <tr>\n",
       "      <th>521</th>\n",
       "      <td>61.753754</td>\n",
       "      <td>26.079255</td>\n",
       "      <td>1</td>\n",
       "    </tr>\n",
       "  </tbody>\n",
       "</table>\n",
       "<p>522 rows × 3 columns</p>\n",
       "</div>"
      ],
      "text/plain": [
       "     longitude   latitude  incident_count\n",
       "0    -8.000000  31.633333               1\n",
       "1    -7.610000  33.590000               1\n",
       "2     0.138188  35.391899               1\n",
       "3     1.988153  36.072919               1\n",
       "4     2.344489  36.526708               1\n",
       "..         ...        ...             ...\n",
       "517  50.004524  26.554785               1\n",
       "518  51.405190  35.724533               1\n",
       "519  52.583610  29.591325               1\n",
       "520  60.862701  29.483576               3\n",
       "521  61.753754  26.079255               1\n",
       "\n",
       "[522 rows x 3 columns]"
      ]
     },
     "execution_count": 12,
     "metadata": {},
     "output_type": "execute_result"
    }
   ],
   "source": [
    "ME_terror"
   ]
  },
  {
   "cell_type": "markdown",
   "id": "0b2649ca-57b1-4214-80da-76088cc787f2",
   "metadata": {},
   "source": [
    "<h1> Visualization of GeoSpatial using FOLIUM</h1>"
   ]
  },
  {
   "cell_type": "code",
   "execution_count": 13,
   "id": "ed2cee0f-6a04-4337-bfb8-ec441112bf53",
   "metadata": {},
   "outputs": [],
   "source": [
    "import folium\n",
    "from folium.plugins import HeatMap"
   ]
  },
  {
   "cell_type": "code",
   "execution_count": 14,
   "id": "6c87afe9-509c-4e2d-a898-803708d9381f",
   "metadata": {},
   "outputs": [],
   "source": [
    "heat_df = ME_terror[['longitude', 'latitude', 'incident_count']].values.tolist()"
   ]
  },
  {
   "cell_type": "code",
   "execution_count": 15,
   "id": "6783b8d7-b2f2-4860-a039-878eac6945fa",
   "metadata": {},
   "outputs": [],
   "source": [
    "my_map = folium.Map(location = [30,40], zoom_start = 4)"
   ]
  },
  {
   "cell_type": "code",
   "execution_count": 16,
   "id": "7252ee12-417b-41a6-82de-58ed5067ce11",
   "metadata": {},
   "outputs": [
    {
     "data": {
      "text/plain": [
       "<folium.plugins.heat_map.HeatMap at 0x26c78920830>"
      ]
     },
     "execution_count": 16,
     "metadata": {},
     "output_type": "execute_result"
    }
   ],
   "source": [
    "HeatMap(heat_df).add_to(my_map)"
   ]
  },
  {
   "cell_type": "code",
   "execution_count": 17,
   "id": "ca8bc50b-8a69-4575-9877-c4caf7a853b0",
   "metadata": {},
   "outputs": [
    {
     "data": {
      "text/html": [
       "<div style=\"width:100%;\"><div style=\"position:relative;width:100%;height:0;padding-bottom:60%;\"><span style=\"color:#565656\">Make this Notebook Trusted to load map: File -> Trust Notebook</span><iframe srcdoc=\"&lt;!DOCTYPE html&gt;\n",
       "&lt;html&gt;\n",
       "&lt;head&gt;\n",
       "    \n",
       "    &lt;meta http-equiv=&quot;content-type&quot; content=&quot;text/html; charset=UTF-8&quot; /&gt;\n",
       "    \n",
       "        &lt;script&gt;\n",
       "            L_NO_TOUCH = false;\n",
       "            L_DISABLE_3D = false;\n",
       "        &lt;/script&gt;\n",
       "    \n",
       "    &lt;style&gt;html, body {width: 100%;height: 100%;margin: 0;padding: 0;}&lt;/style&gt;\n",
       "    &lt;style&gt;#map {position:absolute;top:0;bottom:0;right:0;left:0;}&lt;/style&gt;\n",
       "    &lt;script src=&quot;https://cdn.jsdelivr.net/npm/leaflet@1.9.3/dist/leaflet.js&quot;&gt;&lt;/script&gt;\n",
       "    &lt;script src=&quot;https://code.jquery.com/jquery-3.7.1.min.js&quot;&gt;&lt;/script&gt;\n",
       "    &lt;script src=&quot;https://cdn.jsdelivr.net/npm/bootstrap@5.2.2/dist/js/bootstrap.bundle.min.js&quot;&gt;&lt;/script&gt;\n",
       "    &lt;script src=&quot;https://cdnjs.cloudflare.com/ajax/libs/Leaflet.awesome-markers/2.0.2/leaflet.awesome-markers.js&quot;&gt;&lt;/script&gt;\n",
       "    &lt;link rel=&quot;stylesheet&quot; href=&quot;https://cdn.jsdelivr.net/npm/leaflet@1.9.3/dist/leaflet.css&quot;/&gt;\n",
       "    &lt;link rel=&quot;stylesheet&quot; href=&quot;https://cdn.jsdelivr.net/npm/bootstrap@5.2.2/dist/css/bootstrap.min.css&quot;/&gt;\n",
       "    &lt;link rel=&quot;stylesheet&quot; href=&quot;https://netdna.bootstrapcdn.com/bootstrap/3.0.0/css/bootstrap-glyphicons.css&quot;/&gt;\n",
       "    &lt;link rel=&quot;stylesheet&quot; href=&quot;https://cdn.jsdelivr.net/npm/@fortawesome/fontawesome-free@6.2.0/css/all.min.css&quot;/&gt;\n",
       "    &lt;link rel=&quot;stylesheet&quot; href=&quot;https://cdnjs.cloudflare.com/ajax/libs/Leaflet.awesome-markers/2.0.2/leaflet.awesome-markers.css&quot;/&gt;\n",
       "    &lt;link rel=&quot;stylesheet&quot; href=&quot;https://cdn.jsdelivr.net/gh/python-visualization/folium/folium/templates/leaflet.awesome.rotate.min.css&quot;/&gt;\n",
       "    \n",
       "            &lt;meta name=&quot;viewport&quot; content=&quot;width=device-width,\n",
       "                initial-scale=1.0, maximum-scale=1.0, user-scalable=no&quot; /&gt;\n",
       "            &lt;style&gt;\n",
       "                #map_e3f891ea55ba8df1617456e6d9fb0862 {\n",
       "                    position: relative;\n",
       "                    width: 100.0%;\n",
       "                    height: 100.0%;\n",
       "                    left: 0.0%;\n",
       "                    top: 0.0%;\n",
       "                }\n",
       "                .leaflet-container { font-size: 1rem; }\n",
       "            &lt;/style&gt;\n",
       "        \n",
       "    &lt;script src=&quot;https://cdn.jsdelivr.net/gh/python-visualization/folium@main/folium/templates/leaflet_heat.min.js&quot;&gt;&lt;/script&gt;\n",
       "&lt;/head&gt;\n",
       "&lt;body&gt;\n",
       "    \n",
       "    \n",
       "            &lt;div class=&quot;folium-map&quot; id=&quot;map_e3f891ea55ba8df1617456e6d9fb0862&quot; &gt;&lt;/div&gt;\n",
       "        \n",
       "&lt;/body&gt;\n",
       "&lt;script&gt;\n",
       "    \n",
       "    \n",
       "            var map_e3f891ea55ba8df1617456e6d9fb0862 = L.map(\n",
       "                &quot;map_e3f891ea55ba8df1617456e6d9fb0862&quot;,\n",
       "                {\n",
       "                    center: [30.0, 40.0],\n",
       "                    crs: L.CRS.EPSG3857,\n",
       "                    ...{\n",
       "  &quot;zoom&quot;: 4,\n",
       "  &quot;zoomControl&quot;: true,\n",
       "  &quot;preferCanvas&quot;: false,\n",
       "}\n",
       "\n",
       "                }\n",
       "            );\n",
       "\n",
       "            \n",
       "\n",
       "        \n",
       "    \n",
       "            var tile_layer_27e886586ccd82257c9527a75220770f = L.tileLayer(\n",
       "                &quot;https://tile.openstreetmap.org/{z}/{x}/{y}.png&quot;,\n",
       "                {\n",
       "  &quot;minZoom&quot;: 0,\n",
       "  &quot;maxZoom&quot;: 19,\n",
       "  &quot;maxNativeZoom&quot;: 19,\n",
       "  &quot;noWrap&quot;: false,\n",
       "  &quot;attribution&quot;: &quot;\\u0026copy; \\u003ca href=\\&quot;https://www.openstreetmap.org/copyright\\&quot;\\u003eOpenStreetMap\\u003c/a\\u003e contributors&quot;,\n",
       "  &quot;subdomains&quot;: &quot;abc&quot;,\n",
       "  &quot;detectRetina&quot;: false,\n",
       "  &quot;tms&quot;: false,\n",
       "  &quot;opacity&quot;: 1,\n",
       "}\n",
       "\n",
       "            );\n",
       "        \n",
       "    \n",
       "            tile_layer_27e886586ccd82257c9527a75220770f.addTo(map_e3f891ea55ba8df1617456e6d9fb0862);\n",
       "        \n",
       "    \n",
       "            var heat_map_8dc80952dcf3e0c02eb4fb912380fa28 = L.heatLayer(\n",
       "                [[-8.0, 31.633333, 1.0], [-7.61, 33.59, 1.0], [0.138188, 35.391899, 1.0], [1.988153, 36.072919, 1.0], [2.344489, 36.526708, 1.0], [2.81464, 36.46298, 1.0], [3.055413, 36.763763, 3.0], [3.153934, 36.56522, 1.0], [3.594444, 36.562222, 2.0], [3.670848, 36.72398, 2.0], [3.809529, 36.672703, 1.0], [3.891396, 36.919552, 1.0], [3.902, 36.37489, 2.0], [4.049834, 36.716365, 1.0], [4.096944, 34.680833, 1.0], [4.462888, 36.077754, 1.0], [5.60722, 36.28611, 1.0], [5.751706, 36.813267, 1.0], [5.893085, 35.59901, 1.0], [6.166667, 35.55, 1.0], [6.83876, 36.673926, 1.0], [6.900388, 36.866618, 1.0], [7.146648, 35.43811, 1.0], [10.184214, 36.811427, 1.0], [10.855024, 33.819136, 1.0], [12.691492, 32.063988, 1.0], [12.9, 32.8, 1.0], [13.189067, 32.867867, 4.0], [14.622688, 32.407892, 1.0], [15.256008, 31.448914, 1.0], [15.724736, 31.395836, 1.0], [16.586681, 31.197586, 2.0], [20.151144, 32.069286, 7.0], [20.268871, 32.094952, 1.0], [20.451099, 32.42202, 1.0], [22.241188, 32.762238, 2.0], [27.969925, 27.058452, 1.0], [28.689863, 41.106178, 10.0], [29.696268, 30.762296, 1.0], [29.899403, 31.19829, 1.0], [30.999529, 30.787678, 1.0], [31.185192, 30.022924, 1.0], [31.334314, 30.084629, 2.0], [31.337257, 29.831976, 1.0], [31.379664, 31.039309, 1.0], [32.76754, 39.930771, 3.0], [32.805613, 39.798509, 1.0], [33.008587, 31.016779, 1.0], [33.617577, 30.608472, 1.0], [33.638188, 31.080795, 1.0], [33.644714, 30.699335, 1.0], [33.800865, 31.126646, 5.0], [34.076081, 30.886219, 1.0], [34.110425, 31.211645, 1.0], [34.117065, 31.212225, 3.0], [34.173178, 30.169854, 1.0], [34.24128, 31.250196, 1.0], [34.247173, 30.99614, 1.0], [34.329886, 27.915557, 1.0], [34.513634, 28.509136, 1.0], [34.665169, 31.821444, 1.0], [34.791725, 31.970541, 1.0], [34.811886, 32.08297, 3.0], [34.851529, 32.332612, 1.0], [34.854663, 32.325073, 1.0], [34.899447, 29.490095, 1.0], [34.975094, 32.473605, 1.0], [34.990615, 32.793921, 6.0], [35.137217, 32.161864, 1.0], [35.182465, 32.581387, 1.0], [35.2034, 31.771599, 9.0], [35.482597, 38.720489, 1.0], [35.489986, 33.861984, 2.0], [35.498738, 33.843471, 2.0], [35.503513, 33.888523, 3.0], [35.79232, 35.528404, 3.0], [35.825796, 33.126944, 1.0], [35.829319, 33.280891, 1.0], [35.830744, 34.438062, 2.0], [35.830837, 34.438094, 2.0], [35.854032, 34.443955, 1.0], [35.886443, 34.896351, 2.0], [35.886553, 34.896112, 1.0], [35.886652, 34.895928, 2.0], [35.927155, 35.361572, 4.0], [35.933331, 31.950001, 3.0], [35.970169, 32.835648, 1.0], [36.026836, 32.711067, 1.0], [36.056892, 32.674366, 1.0], [36.076488, 32.962402, 1.0], [36.080795, 33.436207, 1.0], [36.103756, 32.622334, 3.0], [36.11203, 33.622993, 1.0], [36.135868, 35.688751, 1.0], [36.156742, 32.834137, 1.0], [36.255295, 34.715336, 1.0], [36.268508, 33.484396, 1.0], [36.292084, 33.515244, 34.0], [36.295208, 33.435532, 1.0], [36.3064, 33.5111, 1.0], [36.314327, 33.60722, 1.0], [36.315278, 32.568889, 1.0], [36.319939, 35.813396, 1.0], [36.33012, 35.413296, 1.0], [36.334499, 33.446476, 6.0], [36.345111, 35.290483, 1.0], [36.346882, 33.488998, 4.0], [36.368763, 33.561504, 2.0], [36.377289, 33.484444, 1.0], [36.388622, 33.755295, 1.0], [36.392296, 33.527649, 1.0], [36.398428, 32.696985, 1.0], [36.525666, 35.713863, 1.0], [36.565708, 36.264221, 3.0], [36.567642, 32.709763, 1.0], [36.581963, 34.951523, 1.0], [36.609917, 35.813972, 2.0], [36.631451, 35.928802, 5.0], [36.633333, 35.933333, 1.0], [36.6519, 35.925894, 1.0], [36.660312, 36.313854, 1.0], [36.671186, 35.855245, 1.0], [36.673443, 36.01313, 1.0], [36.675259, 35.647797, 2.0], [36.677223, 35.990086, 1.0], [36.689156, 36.310444, 3.0], [36.690445, 33.6432, 1.0], [36.704647, 35.982761, 2.0], [36.722824, 34.717705, 21.0], [36.75523, 33.611455, 1.0], [36.760738, 35.129181, 2.0], [36.769512, 36.213078, 1.0], [36.770164, 34.097931, 1.0], [36.804665, 35.868511, 1.0], [36.888889, 35.068056, 1.0], [36.993607, 36.377281, 1.0], [36.998383, 35.993954, 1.0], [37.012653, 36.362663, 1.0], [37.01833, 34.814651, 1.0], [37.020739, 35.135796, 1.0], [37.041111, 36.521944, 1.0], [37.046791, 34.722992, 1.0], [37.046921, 36.585438, 2.0], [37.049343, 36.115444, 1.0], [37.051506, 35.012791, 1.0], [37.076237, 36.618584, 2.0], [37.085297, 36.278435, 1.0], [37.085353, 36.630637, 1.0], [37.09436, 36.472965, 1.0], [37.103072, 35.73494, 1.0], [37.14352, 36.201721, 44.0], [37.160027, 36.2065, 1.0], [37.163826, 36.216213, 1.0], [37.197102, 36.482582, 1.0], [37.203342, 36.266701, 1.0], [37.211583, 35.188786, 1.0], [37.212777, 36.658461, 1.0], [37.244217, 34.227745, 4.0], [37.285795, 36.1789, 1.0], [37.3075, 36.039722, 1.0], [37.324997, 34.834274, 1.0], [37.37315, 37.067631, 2.0], [37.430546, 35.405506, 2.0], [37.442127, 36.432888, 1.0], [37.499214, 35.781292, 1.0], [37.512276, 36.366199, 2.0], [37.583084, 36.186638, 1.0], [37.627222, 36.445278, 1.0], [37.951031, 36.52915, 1.0], [38.011127, 36.81863, 2.0], [38.041325, 35.96545, 1.0], [38.293671, 34.558525, 2.0], [38.301998, 36.58749, 1.0], [38.350204, 36.886497, 1.0], [38.426399, 36.975594, 1.0], [38.659325, 33.325054, 1.0], [38.863895, 36.38588, 1.0], [38.922878, 33.433811, 1.0], [38.946732, 36.695915, 1.0], [38.999399, 35.958808, 1.0], [39.009563, 35.951523, 2.0], [39.027969, 32.74815, 1.0], [39.967896, 33.668545, 1.0], [40.138737, 35.333061, 5.0], [40.170828, 35.283155, 1.0], [40.170864, 35.283094, 1.0], [40.184376, 37.922218, 1.0], [40.284444, 33.038056, 1.0], [40.288158, 33.036022, 3.0], [40.308863, 35.28798, 1.0], [40.37056, 36.657269, 1.0], [40.452624, 31.945864, 1.0], [40.455212, 35.015778, 1.0], [40.575726, 34.857777, 1.0], [40.669575, 35.464344, 1.0], [40.740627, 36.503593, 14.0], [40.748056, 36.554444, 1.0], [40.902176, 35.964956, 1.0], [41.09998, 34.41688, 1.0], [41.227345, 37.05336, 3.0], [41.29466, 36.06028, 1.0], [41.572376, 34.154213, 1.0], [41.591599, 36.183247, 1.0], [41.59673, 36.749678, 1.0], [41.687168, 36.202354, 1.0], [41.860499, 36.322392, 1.0], [41.861473, 36.319386, 4.0], [41.8625, 36.3144, 1.0], [41.863909, 36.322256, 1.0], [41.864167, 36.3225, 2.0], [41.893338, 34.405209, 1.0], [41.8934, 37.3402, 1.0], [41.905622, 34.474993, 1.0], [41.919647, 32.559761, 4.0], [41.920773, 34.477619, 1.0], [41.921997, 32.537552, 1.0], [41.985275, 34.367733, 2.0], [42.071414, 36.807907, 1.0], [42.078573, 36.804388, 1.0], [42.093945, 36.803982, 1.0], [42.185474, 37.332346, 1.0], [42.21035, 36.318344, 1.0], [42.216667, 33.7, 1.0], [42.216667, 36.3825, 1.0], [42.216808, 36.592364, 1.0], [42.224158, 36.187306, 1.0], [42.236244, 36.229574, 2.0], [42.251461, 36.902183, 1.0], [42.265556, 36.349444, 1.0], [42.360344, 34.085258, 1.0], [42.37254, 34.160587, 10.0], [42.375995, 36.50589, 1.0], [42.385468, 34.092655, 2.0], [42.393838, 35.442745, 1.0], [42.411853, 36.289417, 1.0], [42.421604, 34.006023, 1.0], [42.438267, 33.802006, 1.0], [42.438282, 36.500431, 1.0], [42.442936, 33.792582, 1.0], [42.448875, 36.376823, 20.0], [42.451435, 36.374029, 1.0], [42.469444, 35.881389, 1.0], [42.497272, 34.192039, 1.0], [42.526051, 18.223461, 1.0], [42.528929, 34.266661, 1.0], [42.536385, 33.864799, 10.0], [42.542435, 33.907707, 2.0], [42.553495, 33.8456, 1.0], [42.564484, 35.944855, 2.0], [42.594834, 33.982013, 2.0], [42.602535, 36.76321, 1.0], [42.618965, 33.592064, 2.0], [42.670578, 36.469528, 2.0], [42.709427, 37.474477, 1.0], [42.723026, 35.569427, 3.0], [42.728694, 35.574122, 1.0], [42.730889, 35.563069, 1.0], [42.738479, 36.513023, 1.0], [42.749943, 36.206371, 2.0], [42.826424, 33.644765, 1.0], [42.830044, 36.283566, 1.0], [42.832081, 33.633896, 6.0], [42.833867, 36.626314, 1.0], [42.842224, 36.508533, 1.0], [42.8425, 36.237222, 1.0], [42.849487, 33.393642, 1.0], [42.882414, 16.19005, 1.0], [42.972851, 14.781294, 1.0], [43.041111, 36.214444, 1.0], [43.058433, 35.904295, 1.0], [43.065456, 36.068785, 1.0], [43.098385, 33.522137, 1.0], [43.105652, 36.228695, 2.0], [43.114769, 35.415855, 2.0], [43.12946, 35.758367, 1.0], [43.137222, 36.341501, 1.0], [43.14357, 36.354145, 72.0], [43.158421, 36.434563, 4.0], [43.19765, 36.207593, 1.0], [43.224907, 33.469318, 1.0], [43.240556, 35.48727, 1.0], [43.256512, 36.632677, 1.0], [43.26757, 33.448437, 1.0], [43.275142, 33.489437, 1.0], [43.280434, 35.700397, 1.0], [43.281158, 33.435279, 1.0], [43.294178, 35.79813, 2.0], [43.295662, 33.420948, 63.0], [43.29578, 33.449772, 1.0], [43.298471, 33.419822, 1.0], [43.29924, 35.7131, 1.0], [43.3, 33.416667, 2.0], [43.311566, 33.431899, 1.0], [43.327589, 33.468018, 1.0], [43.336533, 36.359535, 1.0], [43.340736, 33.447155, 1.0], [43.342042, 36.451707, 1.0], [43.351059, 36.447495, 1.0], [43.356161, 35.009102, 1.0], [43.362682, 35.771057, 1.0], [43.370753, 35.023304, 1.0], [43.372253, 33.453312, 1.0], [43.375203, 35.1782, 1.0], [43.377435, 35.172505, 1.0], [43.37751, 36.274412, 1.0], [43.389652, 35.827229, 1.0], [43.392872, 33.456459, 3.0], [43.4225, 35.136112, 1.0], [43.455254, 33.414598, 1.0], [43.473259, 33.683266, 8.0], [43.483738, 34.533753, 2.0], [43.485533, 34.54906, 1.0], [43.490958, 32.565084, 1.0], [43.491413, 34.92485, 13.0], [43.496511, 34.943422, 1.0], [43.49686, 35.005104, 2.0], [43.501463, 34.92832, 1.0], [43.515133, 34.834415, 4.0], [43.516361, 32.472147, 1.0], [43.550642, 34.675551, 1.0], [43.587631, 33.382431, 2.0], [43.588966, 35.768353, 2.0], [43.593756, 35.797443, 1.0], [43.599369, 17.060139, 1.0], [43.623861, 33.41735, 1.0], [43.627508, 13.413319, 1.0], [43.631421, 35.631498, 1.0], [43.632833, 35.03415, 1.0], [43.637531, 13.413117, 1.0], [43.646389, 35.0325, 1.0], [43.668377, 34.621521, 19.0], [43.673306, 37.294346, 1.0], [43.697075, 34.705948, 1.0], [43.7, 34.644722, 1.0], [43.706276, 33.397812, 5.0], [43.710224, 33.412674, 1.0], [43.719736, 34.992645, 1.0], [43.724945, 34.582001, 1.0], [43.74522, 34.365089, 1.0], [43.762409, 16.917494, 1.0], [43.76318, 34.373264, 1.0], [43.764167, 34.369167, 1.0], [43.780811, 35.326122, 1.0], [43.78092, 33.312738, 1.0], [43.783333, 33.35, 1.0], [43.784199, 33.349159, 23.0], [43.791004, 34.458889, 2.0], [43.800671, 34.194717, 1.0], [43.804871, 33.417362, 1.0], [43.807106, 34.925064, 1.0], [43.808772, 34.8962, 1.0], [43.809004, 34.925074, 1.0], [43.812777, 34.896537, 1.0], [43.821672, 33.34077, 1.0], [43.839542, 33.255924, 1.0], [43.845054, 33.354051, 1.0], [43.852592, 34.2901, 1.0], [43.863106, 33.163559, 8.0], [43.873311, 34.198803, 1.0], [43.890713, 34.208416, 13.0], [43.891302, 33.375365, 1.0], [43.895811, 34.10729, 1.0], [43.905515, 34.166004, 1.0], [43.911865, 33.403057, 12.0], [43.916641, 33.380455, 1.0], [43.943679, 35.329201, 1.0], [43.946356, 33.278425, 1.0], [43.95, 15.666667, 1.0], [43.969894, 33.440707, 1.0], [44.004623, 36.192589, 6.0], [44.007145, 32.604393, 13.0], [44.010392, 13.574698, 1.0], [44.010626, 32.598736, 1.0], [44.024105, 13.586484, 8.0], [44.025452, 33.247181, 3.0], [44.038208, 33.31065, 9.0], [44.041046, 37.370458, 1.0], [44.044637, 39.916839, 1.0], [44.066633, 33.997998, 1.0], [44.070145, 35.672932, 1.0], [44.148235, 34.010471, 7.0], [44.157433, 33.460819, 1.0], [44.165426, 13.967151, 1.0], [44.211895, 15.325443, 20.0], [44.218292, 34.057114, 1.0], [44.220455, 32.867008, 2.0], [44.235478, 33.509269, 1.0], [44.247406, 33.835629, 2.0], [44.251266, 33.540672, 12.0], [44.254719, 33.07835, 1.0], [44.271331, 13.272575, 1.0], [44.274292, 33.530734, 1.0], [44.275486, 35.244621, 2.0], [44.281016, 32.874886, 1.0], [44.289352, 32.777344, 12.0], [44.319487, 33.287345, 4.0], [44.329933, 35.303047, 1.0], [44.330818, 32.000596, 4.0], [44.341637, 32.887157, 5.0], [44.345453, 33.428314, 1.0], [44.354839, 33.057991, 7.0], [44.357658, 33.401699, 1.0], [44.361595, 32.982933, 2.0], [44.365334, 33.542351, 1.0], [44.369362, 33.117836, 1.0], [44.371773, 33.303566, 393.0], [44.375465, 35.45211, 28.0], [44.381317, 33.669689, 1.0], [44.382034, 35.435909, 1.0], [44.393494, 33.470512, 1.0], [44.396337, 35.46979, 2.0], [44.396591, 33.758388, 1.0], [44.399648, 32.032916, 4.0], [44.4, 33.3, 1.0], [44.408998, 16.199874, 1.0], [44.415733, 33.548306, 2.0], [44.416637, 32.469238, 27.0], [44.419117, 33.642502, 1.0], [44.474802, 15.316891, 1.0], [44.48682, 34.900948, 1.0], [44.493661, 33.271403, 1.0], [44.50972, 33.784248, 2.0], [44.515556, 34.565, 1.0], [44.522125, 33.848618, 14.0], [44.537865, 34.275066, 1.0], [44.540277, 37.408323, 1.0], [44.540776, 33.223114, 1.0], [44.547424, 33.573486, 1.0], [44.548457, 34.055354, 1.0], [44.572428, 33.617965, 1.0], [44.57696, 37.303442, 1.0], [44.584492, 33.100529, 1.0], [44.584908, 34.726269, 1.0], [44.599672, 33.555773, 1.0], [44.621667, 33.771944, 1.0], [44.623825, 33.74324, 27.0], [44.624748, 33.770897, 1.0], [44.62513, 34.881348, 8.0], [44.662151, 34.790665, 1.0], [44.666667, 13.733333, 1.0], [44.679516, 33.716995, 2.0], [44.702866, 33.375759, 4.0], [44.733454, 13.703256, 1.0], [44.73357, 13.702663, 1.0], [44.758297, 13.206995, 1.0], [44.770956, 32.925266, 1.0], [44.772064, 33.926586, 2.0], [44.776897, 16.165407, 1.0], [44.779564, 32.929936, 1.0], [44.793889, 15.8275, 1.0], [44.796085, 33.693409, 1.0], [44.82, 34.04, 1.0], [44.837418, 14.413989, 2.0], [44.843678, 12.743795, 1.0], [44.846416, 12.825647, 12.0], [44.852594, 14.515319, 1.0], [44.854084, 33.879803, 1.0], [44.880882, 13.063399, 2.0], [44.883283, 13.057842, 1.0], [44.890266, 12.760069, 1.0], [44.892578, 33.794651, 1.0], [44.918747, 32.325195, 2.0], [44.921111, 33.918611, 1.0], [44.921906, 33.953167, 12.0], [44.923775, 31.98958, 2.0], [44.93409, 34.430836, 1.0], [44.981911, 12.867085, 6.0], [45.003342, 34.125729, 2.0], [45.027071, 12.832581, 1.0], [45.05196, 34.100723, 1.0], [45.06299, 32.910708, 1.0], [45.067169, 33.695694, 1.0], [45.067425, 33.693947, 7.0], [45.077846, 32.901872, 1.0], [45.081879, 15.416983, 2.0], [45.083422, 33.699554, 1.0], [45.129864, 34.147392, 1.0], [45.136952, 34.240378, 1.0], [45.14945, 33.773349, 1.0], [45.149451, 33.773349, 1.0], [45.163567, 34.271034, 4.0], [45.244948, 13.834537, 1.0], [45.277092, 31.300213, 2.0], [45.287222, 33.8625, 1.0], [45.307838, 13.219398, 3.0], [45.324871, 15.45639, 3.0], [45.383274, 34.347343, 5.0], [45.385571, 13.129726, 3.0], [45.449807, 15.515888, 1.0], [45.467466, 13.962564, 1.0], [45.478097, 16.249994, 1.0], [45.545616, 33.744999, 2.0], [45.558479, 13.985013, 1.0], [45.69648, 13.357599, 3.0], [45.722417, 36.7652, 1.0], [45.787139, 15.566652, 1.0], [45.829453, 32.533287, 4.0], [45.861207, 31.135535, 1.0], [45.863647, 13.887403, 4.0], [45.881134, 15.113846, 1.0], [45.883691, 31.113592, 1.0], [46.001341, 15.189627, 1.0], [46.261452, 31.044371, 4.0], [46.714581, 24.64732, 4.0], [46.81062, 30.652376, 1.0], [47.145203, 31.848217, 2.0], [47.233333, 16.133333, 1.0], [47.447216, 14.326655, 2.0], [47.714458, 30.376924, 1.0], [47.778095, 30.510054, 11.0], [47.94912, 29.347702, 1.0], [48.357219, 15.141161, 1.0], [48.45438, 15.840202, 1.0], [48.636382, 15.921257, 1.0], [49.12458, 14.54397, 8.0], [49.133333, 14.533333, 1.0], [49.146743, 14.881758, 1.0], [50.004524, 26.554785, 1.0], [51.40519, 35.724533, 1.0], [52.58361, 29.591325, 1.0], [60.862701, 29.483576, 3.0], [61.753754, 26.079255, 1.0]],\n",
       "                {\n",
       "  &quot;minOpacity&quot;: 0.5,\n",
       "  &quot;maxZoom&quot;: 18,\n",
       "  &quot;radius&quot;: 25,\n",
       "  &quot;blur&quot;: 15,\n",
       "}\n",
       "            );\n",
       "        \n",
       "    \n",
       "            heat_map_8dc80952dcf3e0c02eb4fb912380fa28.addTo(map_e3f891ea55ba8df1617456e6d9fb0862);\n",
       "        \n",
       "&lt;/script&gt;\n",
       "&lt;/html&gt;\" style=\"position:absolute;width:100%;height:100%;left:0;top:0;border:none !important;\" allowfullscreen webkitallowfullscreen mozallowfullscreen></iframe></div></div>"
      ],
      "text/plain": [
       "<folium.folium.Map at 0x26c78398830>"
      ]
     },
     "execution_count": 17,
     "metadata": {},
     "output_type": "execute_result"
    }
   ],
   "source": [
    "my_map"
   ]
  },
  {
   "cell_type": "code",
   "execution_count": null,
   "id": "fbcc8b3d-7977-4600-a94e-458fe5f34298",
   "metadata": {},
   "outputs": [],
   "source": []
  },
  {
   "cell_type": "code",
   "execution_count": null,
   "id": "31ca4d60-41b3-43fe-b4eb-af6259e371fd",
   "metadata": {},
   "outputs": [],
   "source": []
  },
  {
   "cell_type": "code",
   "execution_count": 18,
   "id": "1fa669b2-6ab0-4ada-84af-01ac7acfb4bc",
   "metadata": {},
   "outputs": [
    {
     "data": {
      "text/plain": [
       "0         False\n",
       "1         False\n",
       "2         False\n",
       "3         False\n",
       "4         False\n",
       "          ...  \n",
       "181686    False\n",
       "181687    False\n",
       "181688    False\n",
       "181689    False\n",
       "181690    False\n",
       "Name: region_txt, Length: 181691, dtype: bool"
      ]
     },
     "execution_count": 18,
     "metadata": {},
     "output_type": "execute_result"
    }
   ],
   "source": [
    "df['region_txt'] == 'North America & South America'"
   ]
  },
  {
   "cell_type": "code",
   "execution_count": 19,
   "id": "be7b4502-fd5a-46ee-b027-6f6be5d35a79",
   "metadata": {},
   "outputs": [],
   "source": [
    "filter1 = df[df['region_txt'] == 'North America & North America']\n"
   ]
  },
  {
   "cell_type": "code",
   "execution_count": 20,
   "id": "73bd5e94-fd46-4ed7-8cd1-585e1fe40ebd",
   "metadata": {},
   "outputs": [],
   "source": [
    "filter2 = filter1[filter1['attacktype1_txt'] == 'Facilty/Infrastructure Attack']"
   ]
  },
  {
   "cell_type": "code",
   "execution_count": 21,
   "id": "b9f6e7a2-22c8-4855-b887-5162b7acff10",
   "metadata": {},
   "outputs": [],
   "source": [
    "filter3 = filter2[filter2['nkill'] >= 10]"
   ]
  },
  {
   "cell_type": "code",
   "execution_count": 22,
   "id": "b2cbce2a-2417-4dfe-aee9-6249f9ad12bb",
   "metadata": {},
   "outputs": [],
   "source": [
    "filter4 = filter3[filter3['iyear'] >= 2000]"
   ]
  },
  {
   "cell_type": "code",
   "execution_count": null,
   "id": "4e730f9a-a4e6-4448-9e61-9e5147b7c8ab",
   "metadata": {},
   "outputs": [],
   "source": []
  },
  {
   "cell_type": "code",
   "execution_count": 23,
   "id": "533fbae5-2eb9-48a4-b9cb-20331920e372",
   "metadata": {},
   "outputs": [],
   "source": [
    "heat = filter4.groupby(['longitude', 'latitude']).size().reset_index(name='incident_count')"
   ]
  },
  {
   "cell_type": "code",
   "execution_count": 24,
   "id": "a0fef41c-f5cb-40e0-a524-a1679eb19882",
   "metadata": {},
   "outputs": [
    {
     "data": {
      "text/html": [
       "<div>\n",
       "<style scoped>\n",
       "    .dataframe tbody tr th:only-of-type {\n",
       "        vertical-align: middle;\n",
       "    }\n",
       "\n",
       "    .dataframe tbody tr th {\n",
       "        vertical-align: top;\n",
       "    }\n",
       "\n",
       "    .dataframe thead th {\n",
       "        text-align: right;\n",
       "    }\n",
       "</style>\n",
       "<table border=\"1\" class=\"dataframe\">\n",
       "  <thead>\n",
       "    <tr style=\"text-align: right;\">\n",
       "      <th></th>\n",
       "      <th>longitude</th>\n",
       "      <th>latitude</th>\n",
       "      <th>incident_count</th>\n",
       "    </tr>\n",
       "  </thead>\n",
       "  <tbody>\n",
       "  </tbody>\n",
       "</table>\n",
       "</div>"
      ],
      "text/plain": [
       "Empty DataFrame\n",
       "Columns: [longitude, latitude, incident_count]\n",
       "Index: []"
      ]
     },
     "execution_count": 24,
     "metadata": {},
     "output_type": "execute_result"
    }
   ],
   "source": [
    "heat\n"
   ]
  },
  {
   "cell_type": "code",
   "execution_count": null,
   "id": "66e41704-909a-400c-aee6-19b634badb20",
   "metadata": {},
   "outputs": [],
   "source": []
  },
  {
   "cell_type": "code",
   "execution_count": 25,
   "id": "bffde4c3-3c51-40f1-8fad-4176ef4e4687",
   "metadata": {},
   "outputs": [
    {
     "data": {
      "text/html": [
       "<div style=\"width:100%;\"><div style=\"position:relative;width:100%;height:0;padding-bottom:60%;\"><span style=\"color:#565656\">Make this Notebook Trusted to load map: File -> Trust Notebook</span><iframe srcdoc=\"&lt;!DOCTYPE html&gt;\n",
       "&lt;html&gt;\n",
       "&lt;head&gt;\n",
       "    \n",
       "    &lt;meta http-equiv=&quot;content-type&quot; content=&quot;text/html; charset=UTF-8&quot; /&gt;\n",
       "    \n",
       "        &lt;script&gt;\n",
       "            L_NO_TOUCH = false;\n",
       "            L_DISABLE_3D = false;\n",
       "        &lt;/script&gt;\n",
       "    \n",
       "    &lt;style&gt;html, body {width: 100%;height: 100%;margin: 0;padding: 0;}&lt;/style&gt;\n",
       "    &lt;style&gt;#map {position:absolute;top:0;bottom:0;right:0;left:0;}&lt;/style&gt;\n",
       "    &lt;script src=&quot;https://cdn.jsdelivr.net/npm/leaflet@1.9.3/dist/leaflet.js&quot;&gt;&lt;/script&gt;\n",
       "    &lt;script src=&quot;https://code.jquery.com/jquery-3.7.1.min.js&quot;&gt;&lt;/script&gt;\n",
       "    &lt;script src=&quot;https://cdn.jsdelivr.net/npm/bootstrap@5.2.2/dist/js/bootstrap.bundle.min.js&quot;&gt;&lt;/script&gt;\n",
       "    &lt;script src=&quot;https://cdnjs.cloudflare.com/ajax/libs/Leaflet.awesome-markers/2.0.2/leaflet.awesome-markers.js&quot;&gt;&lt;/script&gt;\n",
       "    &lt;link rel=&quot;stylesheet&quot; href=&quot;https://cdn.jsdelivr.net/npm/leaflet@1.9.3/dist/leaflet.css&quot;/&gt;\n",
       "    &lt;link rel=&quot;stylesheet&quot; href=&quot;https://cdn.jsdelivr.net/npm/bootstrap@5.2.2/dist/css/bootstrap.min.css&quot;/&gt;\n",
       "    &lt;link rel=&quot;stylesheet&quot; href=&quot;https://netdna.bootstrapcdn.com/bootstrap/3.0.0/css/bootstrap-glyphicons.css&quot;/&gt;\n",
       "    &lt;link rel=&quot;stylesheet&quot; href=&quot;https://cdn.jsdelivr.net/npm/@fortawesome/fontawesome-free@6.2.0/css/all.min.css&quot;/&gt;\n",
       "    &lt;link rel=&quot;stylesheet&quot; href=&quot;https://cdnjs.cloudflare.com/ajax/libs/Leaflet.awesome-markers/2.0.2/leaflet.awesome-markers.css&quot;/&gt;\n",
       "    &lt;link rel=&quot;stylesheet&quot; href=&quot;https://cdn.jsdelivr.net/gh/python-visualization/folium/folium/templates/leaflet.awesome.rotate.min.css&quot;/&gt;\n",
       "    \n",
       "            &lt;meta name=&quot;viewport&quot; content=&quot;width=device-width,\n",
       "                initial-scale=1.0, maximum-scale=1.0, user-scalable=no&quot; /&gt;\n",
       "            &lt;style&gt;\n",
       "                #map_7c8d6c7b7aef3c428255925a6badfa25 {\n",
       "                    position: relative;\n",
       "                    width: 100.0%;\n",
       "                    height: 100.0%;\n",
       "                    left: 0.0%;\n",
       "                    top: 0.0%;\n",
       "                }\n",
       "                .leaflet-container { font-size: 1rem; }\n",
       "            &lt;/style&gt;\n",
       "        \n",
       "    &lt;script src=&quot;https://cdn.jsdelivr.net/gh/python-visualization/folium@main/folium/templates/leaflet_heat.min.js&quot;&gt;&lt;/script&gt;\n",
       "&lt;/head&gt;\n",
       "&lt;body&gt;\n",
       "    \n",
       "    \n",
       "            &lt;div class=&quot;folium-map&quot; id=&quot;map_7c8d6c7b7aef3c428255925a6badfa25&quot; &gt;&lt;/div&gt;\n",
       "        \n",
       "&lt;/body&gt;\n",
       "&lt;script&gt;\n",
       "    \n",
       "    \n",
       "            var map_7c8d6c7b7aef3c428255925a6badfa25 = L.map(\n",
       "                &quot;map_7c8d6c7b7aef3c428255925a6badfa25&quot;,\n",
       "                {\n",
       "                    center: [30.0, 40.0],\n",
       "                    crs: L.CRS.EPSG3857,\n",
       "                    ...{\n",
       "  &quot;zoom&quot;: 4,\n",
       "  &quot;zoomControl&quot;: true,\n",
       "  &quot;preferCanvas&quot;: false,\n",
       "}\n",
       "\n",
       "                }\n",
       "            );\n",
       "\n",
       "            \n",
       "\n",
       "        \n",
       "    \n",
       "            var tile_layer_36d2872e1550faacc764bb88dd54d314 = L.tileLayer(\n",
       "                &quot;https://tile.openstreetmap.org/{z}/{x}/{y}.png&quot;,\n",
       "                {\n",
       "  &quot;minZoom&quot;: 0,\n",
       "  &quot;maxZoom&quot;: 19,\n",
       "  &quot;maxNativeZoom&quot;: 19,\n",
       "  &quot;noWrap&quot;: false,\n",
       "  &quot;attribution&quot;: &quot;\\u0026copy; \\u003ca href=\\&quot;https://www.openstreetmap.org/copyright\\&quot;\\u003eOpenStreetMap\\u003c/a\\u003e contributors&quot;,\n",
       "  &quot;subdomains&quot;: &quot;abc&quot;,\n",
       "  &quot;detectRetina&quot;: false,\n",
       "  &quot;tms&quot;: false,\n",
       "  &quot;opacity&quot;: 1,\n",
       "}\n",
       "\n",
       "            );\n",
       "        \n",
       "    \n",
       "            tile_layer_36d2872e1550faacc764bb88dd54d314.addTo(map_7c8d6c7b7aef3c428255925a6badfa25);\n",
       "        \n",
       "    \n",
       "            var heat_map_7d90b1f6313b26c7bdeb653a2f4b45a2 = L.heatLayer(\n",
       "                [[12.533136, 47.922339, 1.0], [12.640356, 44.118781, 1.0], [12.683549, 43.458797, 1.0], [12.714722, 44.207778, 1.0], [12.725161, 43.494482, 1.0], [12.735371, 43.511569, 1.0], [12.741025, 43.505749, 1.0], [12.743795, 44.843678, 1.0], [12.751054, 44.880714, 1.0], [12.752948, 44.881515, 1.0], [12.754318, 44.860942, 1.0], [12.760069, 44.890266, 8.0], [12.765967, 43.5174, 2.0], [12.768056, 44.84549, 1.0], [12.775551, 45.032369, 1.0], [12.78173, 44.986984, 1.0], [12.783454, 45.033404, 1.0], [12.799184, 45.036427, 1.0], [12.799745, 45.033788, 1.0], [12.8, 45.033333, 4.0], [12.800212, 45.033313, 1.0], [12.80095, 45.03352, 3.0], [12.814073, 44.728992, 1.0], [12.819482, 44.820607, 1.0], [12.825647, 44.846416, 276.0], [12.825748, 44.79438, 5.0], [12.828622, 44.796322, 1.0], [12.832581, 45.027071, 1.0], [12.834629, 44.921983, 1.0], [12.83672, 44.922062, 3.0], [12.838674, 44.868883, 2.0], [12.846425, 44.978569, 1.0], [12.849057, 44.972015, 2.0], [12.852693, 44.894836, 1.0], [12.853328, 44.972282, 1.0], [12.853567, 44.972876, 1.0], [12.867085, 44.981911, 86.0], [12.870799, 45.046499, 2.0], [12.873418, 44.906765, 2.0], [12.875104, 45.011261, 1.0], [12.884247, 44.972015, 1.0], [12.889457, 44.971794, 2.0], [12.890127, 44.985323, 1.0], [12.890629, 44.976627, 1.0], [12.890805, 44.988212, 2.0], [12.900677, 44.972241, 1.0], [12.914286, 45.010881, 1.0], [12.915171, 44.976379, 1.0], [12.9426, 43.411678, 1.0], [12.99372, 44.919445, 3.0], [12.997533, 44.974079, 1.0], [13.0076, 44.4645, 1.0], [13.04967, 44.883064, 1.0], [13.05, 44.883333, 3.0], [13.054929, 44.87801, 1.0], [13.055403, 44.862393, 1.0], [13.057677, 44.883764, 1.0], [13.057841, 44.883283, 2.0], [13.057842, 44.883283, 2.0], [13.05966, 44.88462, 1.0], [13.062222, 44.881389, 1.0], [13.062995, 44.430099, 1.0], [13.063399, 44.880882, 61.0], [13.075403, 44.904707, 1.0], [13.077372, 44.909767, 2.0], [13.097786, 44.192369, 1.0], [13.119546, 45.350285, 1.0], [13.129023, 45.020269, 1.0], [13.129726, 45.385571, 82.0], [13.133196, 44.839911, 1.0], [13.139245, 44.920768, 5.0], [13.143678, 44.845333, 1.0], [13.148959, 44.850549, 1.0], [13.148959, 44.85055, 23.0], [13.151046, 43.738775, 1.0], [13.154376, 44.850826, 1.0], [13.160563, 43.73093, 1.0], [13.168248, 43.742406, 1.0], [13.168529, 44.827717, 1.0], [13.168694, 43.741907, 1.0], [13.170047, 43.732746, 1.0], [13.178143, 44.632399, 8.0], [13.17824, 44.76678, 1.0], [13.180692, 44.30418, 3.0], [13.181362, 43.728558, 1.0], [13.185451, 44.18408, 1.0], [13.186468, 44.705687, 1.0], [13.206995, 44.758297, 4.0], [13.212723, 44.12413, 1.0], [13.213208, 44.872799, 1.0], [13.219398, 45.307838, 22.0], [13.233611, 44.119444, 1.0], [13.245877, 43.779088, 1.0], [13.272575, 44.271331, 1.0], [13.28469, 44.22565, 1.0], [13.290569, 44.260556, 1.0], [13.293056, 45.295, 1.0], [13.311045, 43.230998, 1.0], [13.313952, 43.621595, 1.0], [13.319617, 43.25563, 7.0], [13.32022, 43.275402, 1.0], [13.323393, 43.21091, 1.0], [13.327381, 43.271273, 1.0], [13.332529, 44.092531, 1.0], [13.333333, 45.383333, 1.0], [13.340718, 45.297108, 3.0], [13.349295, 43.952524, 1.0], [13.351021, 44.506941, 1.0], [13.35541, 44.195911, 2.0], [13.357599, 45.69648, 21.0], [13.363772, 43.623522, 1.0], [13.369068, 44.490955, 2.0], [13.374256, 44.754753, 1.0], [13.378242, 44.30352, 1.0], [13.381146, 43.639068, 1.0], [13.387688, 44.194593, 1.0], [13.409174, 43.389283, 1.0], [13.411003, 43.627374, 2.0], [13.412932, 43.630114, 1.0], [13.413117, 43.637531, 10.0], [13.413146, 43.637596, 1.0], [13.413319, 43.627508, 1.0], [13.416416, 43.646876, 2.0], [13.417151, 43.729536, 1.0], [13.41988, 43.818522, 1.0], [13.426763, 44.224837, 1.0], [13.430066, 44.825984, 1.0], [13.432827, 43.993898, 1.0], [13.432837, 43.689155, 1.0], [13.43604, 44.819663, 1.0], [13.466615, 44.866638, 1.0], [13.466616, 44.866638, 2.0], [13.466667, 44.99, 3.0], [13.468156, 43.870591, 1.0], [13.469692, 43.814493, 1.0], [13.475452, 46.468833, 1.0], [13.475898, 45.005579, 1.0], [13.476929, 44.015492, 1.0], [13.489751, 43.860317, 1.0], [13.5, 43.966667, 1.0], [13.500195, 43.803875, 1.0], [13.515, 44.051667, 2.0], [13.51507, 44.051651, 1.0], [13.51633, 46.711048, 2.0], [13.516667, 44.866667, 1.0], [13.518333, 44.866111, 1.0], [13.519842, 46.714822, 4.0], [13.519865, 46.711736, 1.0], [13.520237, 46.712001, 1.0], [13.52192, 46.711593, 3.0], [13.521941, 46.711571, 1.0], [13.529408, 43.949863, 1.0], [13.530505, 44.852623, 1.0], [13.532532, 44.849667, 12.0], [13.534493, 44.033469, 1.0], [13.540947, 44.028306, 1.0], [13.548424, 44.052176, 1.0], [13.55139, 46.968449, 1.0], [13.552249, 43.969786, 1.0], [13.554123, 43.963087, 1.0], [13.555278, 43.962778, 1.0], [13.555918, 44.016965, 1.0], [13.560833, 46.156389, 2.0], [13.563019, 43.997702, 1.0], [13.564492, 44.030692, 1.0], [13.566667, 44.033333, 1.0], [13.56966, 44.014629, 1.0], [13.573504, 44.018877, 1.0], [13.573616, 44.017416, 1.0], [13.574698, 44.010392, 2.0], [13.577589, 44.017799, 3.0], [13.57836, 44.018173, 1.0], [13.578889, 44.021944, 4.0], [13.578971, 44.022031, 2.0], [13.581665, 44.018209, 1.0], [13.582964, 44.016325, 2.0], [13.584444, 43.6675, 1.0], [13.584512, 44.018015, 1.0], [13.584997, 44.11499, 1.0], [13.586484, 44.024105, 248.0], [13.599058, 43.88771, 1.0], [13.606114, 43.927647, 1.0], [13.611111, 43.932778, 1.0], [13.612778, 43.707778, 1.0], [13.621111, 44.7025, 1.0], [13.622716, 44.047975, 1.0], [13.627303, 46.059752, 1.0], [13.628164, 46.056441, 1.0], [13.629832, 46.050444, 1.0], [13.629895, 43.964956, 1.0], [13.631207, 44.010738, 1.0], [13.633352, 46.056552, 1.0], [13.634341, 46.056321, 13.0], [13.634345, 46.057038, 1.0], [13.634756, 46.057217, 1.0], [13.635472, 43.317189, 1.0], [13.640649, 46.057005, 1.0], [13.647127, 46.099982, 1.0], [13.657844, 45.8434, 2.0], [13.657935, 45.84272, 2.0], [13.659076, 46.030868, 1.0], [13.663726, 45.910676, 1.0], [13.674095, 46.133053, 1.0], [13.681905, 44.13692, 2.0], [13.683741, 46.081752, 14.0], [13.692874, 44.731295, 1.0], [13.693253, 44.726623, 1.0], [13.693602, 44.342472, 1.0], [13.696667, 44.730833, 5.0], [13.700834, 44.731569, 3.0], [13.701179, 44.733438, 1.0], [13.702663, 44.73357, 50.0], [13.702912, 44.742819, 1.0], [13.703256, 44.733454, 2.0], [13.705788, 43.289405, 1.0], [13.708098, 46.028087, 1.0], [13.71123, 44.721627, 1.0], [13.713333, 46.011944, 1.0], [13.714057, 44.723055, 1.0], [13.716706, 44.096954, 1.0], [13.718074, 44.755474, 1.0], [13.718985, 44.734337, 1.0], [13.721175, 46.759322, 1.0], [13.726045, 46.106443, 1.0], [13.731754, 43.72051, 1.0], [13.733333, 44.666667, 1.0], [13.738878, 44.666221, 1.0], [13.741654, 45.687587, 1.0], [13.745574, 45.686371, 1.0], [13.752071, 46.519192, 2.0], [13.757184, 44.138802, 1.0], [13.762068, 44.140316, 3.0], [13.764453, 45.808896, 1.0], [13.770527, 46.010265, 1.0], [13.77475, 43.882725, 1.0], [13.798281, 44.752841, 2.0], [13.79985, 45.886147, 2.0], [13.800991, 45.88572, 1.0], [13.801155, 45.88591, 1.0], [13.803955, 44.777243, 1.0], [13.804983, 44.775642, 10.0], [13.808743, 44.778686, 1.0], [13.810242, 43.24831, 2.0], [13.810833, 43.698056, 1.0], [13.810876, 44.77428, 1.0], [13.811761, 43.253821, 1.0], [13.817117, 44.684195, 1.0], [13.819448, 45.936384, 1.0], [13.820762, 43.267241, 1.0], [13.826605, 44.690594, 2.0], [13.828187, 44.709964, 1.0], [13.831926, 45.244199, 1.0], [13.834537, 45.244948, 1.0], [13.838205, 45.836225, 1.0], [13.843083, 44.173806, 1.0], [13.843289, 44.759748, 2.0], [13.843297, 45.731849, 1.0], [13.850661, 44.70184, 1.0], [13.850692, 44.702789, 1.0], [13.850725, 46.201563, 1.0], [13.850969, 46.203859, 1.0], [13.851414, 45.790558, 1.0], [13.853995, 44.761865, 1.0], [13.854657, 44.763746, 2.0], [13.861944, 45.201389, 1.0], [13.866199, 45.221763, 1.0], [13.879274, 45.869519, 3.0], [13.882908, 45.86904, 1.0], [13.882909, 45.866875, 1.0], [13.88331, 45.866682, 1.0], [13.883333, 45.866667, 5.0], [13.883349, 45.866662, 1.0], [13.887227, 46.237402, 1.0], [13.887403, 45.863647, 37.0], [13.88908, 45.870951, 1.0], [13.890458, 45.873434, 1.0], [13.891751, 44.776546, 1.0], [13.892411, 45.883171, 1.0], [13.900345, 44.750501, 1.0], [13.903266, 44.746556, 1.0], [13.907408, 44.768858, 1.0], [13.918042, 44.14386, 1.0], [13.92413, 44.145917, 1.0], [13.92891, 46.079328, 2.0], [13.928919, 46.079398, 2.0], [13.92892, 46.079399, 3.0], [13.930818, 46.079908, 1.0], [13.932036, 46.083254, 4.0], [13.933002, 46.083264, 2.0], [13.933333, 46.083333, 2.0], [13.933373, 46.083331, 1.0], [13.933555, 46.082678, 1.0], [13.943889, 45.673611, 1.0], [13.948923, 44.400687, 1.0], [13.949126, 43.991414, 1.0], [13.95, 44.183333, 1.0], [13.96179, 44.173213, 1.0], [13.962564, 45.467466, 1.0], [13.96294, 45.465015, 1.0], [13.963175, 45.516596, 1.0], [13.964295, 45.465207, 1.0], [13.96452, 44.174958, 1.0], [13.965421, 44.163712, 1.0], [13.966641, 44.166748, 3.0], [13.966667, 44.166667, 4.0], [13.966953, 44.002258, 8.0], [13.967149, 44.165426, 1.0], [13.967151, 44.165426, 1.0], [13.967379, 43.999631, 1.0], [13.967402, 44.174461, 2.0], [13.968149, 44.172335, 1.0], [13.968475, 44.172876, 1.0], [13.968555, 44.167544, 1.0], [13.969145, 44.170161, 1.0], [13.969167, 43.996667, 1.0], [13.969923, 45.902591, 1.0], [13.970996, 46.456956, 1.0], [13.971229, 43.995879, 1.0], [13.971688, 44.149478, 1.0], [13.971749, 44.166662, 1.0], [13.972093, 44.162534, 1.0], [13.972208, 44.182901, 1.0], [13.975, 46.458333, 1.0], [13.975963, 44.155413, 1.0], [13.978683, 45.429204, 2.0], [13.978889, 44.1525, 1.0], [13.980025, 48.189154, 5.0], [13.980492, 45.572119, 1.0], [13.980886, 45.422295, 1.0], [13.985013, 45.558479, 43.0], [13.988915, 45.5771, 4.0], [13.990227, 48.18108, 7.0], [13.993311, 46.697793, 1.0], [13.996881, 48.184644, 1.0], [13.996908, 48.184603, 1.0], [14.000416, 43.467974, 1.0], [14.002145, 46.722083, 2.0], [14.012213, 45.565498, 1.0], [14.012778, 45.566111, 1.0], [14.027351, 44.176772, 2.0], [14.029532, 45.392178, 1.0], [14.030273, 44.175923, 1.0], [14.030833, 43.627778, 1.0], [14.0375, 47.8381, 1.0], [14.0475, 45.381111, 1.0], [14.047778, 44.681389, 1.0], [14.05, 47.9, 1.0], [14.058333, 46.913056, 1.0], [14.059331, 46.914684, 1.0], [14.059366, 46.913369, 1.0], [14.060864, 46.915799, 1.0], [14.060983, 46.915399, 1.0], [14.061252, 46.914978, 3.0], [14.061389, 45.490833, 1.0], [14.061524, 46.914952, 1.0], [14.061619, 46.914966, 6.0], [14.061641, 46.914921, 1.0], [14.061665, 46.914907, 1.0], [14.062312, 46.918716, 1.0], [14.068985, 45.420895, 1.0], [14.074127, 44.498986, 1.0], [14.079444, 44.185556, 1.0], [14.080272, 44.685976, 1.0], [14.086318, 44.667973, 2.0], [14.086839, 44.671391, 1.0], [14.087952, 44.672423, 1.0], [14.09207, 44.173076, 1.0], [14.096621, 43.850355, 1.0], [14.09998, 48.717017, 1.0], [14.100722, 44.472029, 1.0], [14.103292, 45.446247, 1.0], [14.105556, 45.448056, 1.0], [14.105986, 45.448038, 1.0], [14.109373, 45.3196, 1.0], [14.111254, 45.464143, 1.0], [14.116, 44.0824, 1.0], [14.118597, 44.747829, 1.0], [14.126421, 44.198133, 1.0], [14.137693, 44.249267, 1.0], [14.137917, 44.246682, 1.0], [14.141572, 44.247902, 4.0], [14.141902, 44.244261, 1.0], [14.158611, 45.472778, 1.0], [14.162459, 44.819548, 1.0], [14.162848, 43.943714, 1.0], [14.181738, 43.988298, 1.0], [14.188971, 44.002315, 1.0], [14.19209, 45.774124, 1.0], [14.198056, 44.545556, 1.0], [14.200123, 43.322248, 1.0], [14.208576, 45.816908, 1.0], [14.213233, 44.560995, 1.0], [14.221949, 44.39045, 1.0], [14.223866, 47.082782, 1.0], [14.227044, 44.585492, 1.0], [14.240425, 45.477476, 1.0], [14.242465, 45.435457, 1.0], [14.244081, 45.489462, 1.0], [14.259168, 45.398157, 1.0], [14.263454, 47.575022, 1.0], [14.264205, 47.584663, 1.0], [14.268147, 46.909001, 1.0], [14.279772, 47.575336, 6.0], [14.283402, 48.433456, 1.0], [14.285182, 46.865603, 1.0], [14.288558, 46.856585, 1.0], [14.296666, 44.378569, 2.0], [14.296701, 44.381912, 1.0], [14.299835, 45.219672, 2.0], [14.306435, 44.079295, 7.0], [14.309823, 46.937905, 1.0], [14.324062, 45.498185, 1.0], [14.324183, 45.437298, 1.0], [14.325599, 45.430784, 1.0], [14.326655, 47.447216, 13.0], [14.327778, 44.906407, 1.0], [14.327928, 44.90665, 1.0], [14.33, 46.872778, 2.0], [14.33094, 44.887487, 1.0], [14.336243, 44.905128, 1.0], [14.349548, 45.452971, 1.0], [14.354522, 47.075779, 3.0], [14.356796, 45.022288, 1.0], [14.358866, 45.449806, 15.0], [14.358866, 45.449807, 3.0], [14.358986, 45.449806, 1.0], [14.360191, 45.444517, 1.0], [14.360278, 47.341944, 1.0], [14.361522, 45.447464, 1.0], [14.362981, 48.982171, 1.0], [14.365944, 45.450998, 1.0], [14.370834, 45.452757, 1.0], [14.377873, 46.837394, 1.0], [14.38252, 47.399537, 2.0], [14.386797, 45.452757, 1.0], [14.4, 47.93333, 1.0], [14.413875, 44.835632, 1.0], [14.413989, 44.837418, 35.0], [14.416667, 44.833333, 1.0], [14.426534, 44.84359, 1.0], [14.427033, 46.150619, 1.0], [14.4277, 46.15147, 1.0], [14.4296, 46.151047, 1.0], [14.43, 44.84, 1.0], [14.451214, 48.214763, 1.0], [14.46184, 47.278858, 1.0], [14.471514, 47.276312, 1.0], [14.473611, 43.948056, 1.0], [14.474749, 49.03429, 4.0], [14.483333, 46.416667, 2.0], [14.48382, 44.482153, 4.0], [14.484444, 45.929722, 1.0], [14.515319, 44.852594, 1.0], [14.52073, 49.15211, 1.0], [14.521675, 43.324637, 1.0], [14.52618, 46.844932, 5.0], [14.529338, 46.830488, 1.0], [14.529744, 46.82955, 2.0], [14.531103, 46.839623, 1.0], [14.531174, 46.839874, 1.0], [14.533289, 49.133343, 1.0], [14.533328, 49.133252, 1.0], [14.533333, 49.133333, 1.0], [14.533581, 46.807541, 1.0], [14.534514, 46.835261, 1.0], [14.536129, 46.833235, 1.0], [14.536183, 46.833056, 1.0], [14.536231, 46.834175, 1.0], [14.536389, 46.833056, 13.0], [14.536445, 46.833107, 1.0], [14.536472, 46.83322, 1.0], [14.536555, 46.833254, 1.0], [14.537065, 46.833113, 1.0], [14.538259, 46.828594, 1.0], [14.543932, 46.831747, 1.0], [14.54397, 49.12458, 100.0], [14.545545, 44.408735, 1.0], [14.547845, 44.403863, 2.0], [14.549689, 44.397799, 2.0], [14.55, 44.401667, 2.0], [14.550006, 44.401665, 1.0], [14.563333, 46.831667, 1.0], [14.578761, 44.780412, 1.0], [14.597842, 44.386803, 13.0], [14.598417, 44.373166, 1.0], [14.631344, 45.366609, 1.0], [14.636647, 43.057395, 1.0], [14.652778, 45.350833, 1.0], [14.665977, 47.143753, 1.0], [14.681553, 48.851287, 1.0], [14.68825, 49.395949, 1.0], [14.691211, 46.933789, 3.0], [14.708049, 46.384954, 1.0], [14.716448, 44.245849, 2.0], [14.717407, 46.518236, 1.0], [14.719504, 46.868266, 12.0], [14.719534, 44.247902, 3.0], [14.722234, 47.042761, 1.0], [14.734767, 48.800512, 1.0], [14.735377, 46.527424, 1.0], [14.739842, 46.517463, 1.0], [14.745667, 46.521177, 2.0], [14.745667, 46.55139, 1.0], [14.748323, 46.515255, 1.0], [14.751362, 45.688132, 1.0], [14.753515, 49.583228, 1.0], [14.753635, 46.515255, 1.0], [14.753635, 46.515684, 1.0], [14.754606, 46.51627, 1.0], [14.75463, 46.516262, 19.0], [14.756594, 45.731583, 1.0], [14.762732, 49.605728, 13.0], [14.769764, 49.374268, 10.0], [14.776111, 49.366111, 1.0], [14.776124, 49.366132, 1.0], [14.78114, 43.174336, 1.0], [14.781294, 42.972851, 29.0], [14.790797, 42.970765, 1.0], [14.794084, 46.517783, 1.0], [14.795047, 44.293609, 1.0], [14.795338, 44.290723, 1.0], [14.795403, 44.290528, 1.0], [14.795998, 44.291952, 2.0], [14.797479, 45.718707, 1.0], [14.797532, 45.719031, 1.0], [14.797618, 45.718941, 1.0], [14.797765, 44.292176, 1.0], [14.798176, 45.717361, 2.0], [14.798351, 45.719041, 1.0], [14.799103, 44.557996, 1.0], [14.800556, 45.718889, 1.0], [14.801955, 42.951214, 1.0], [14.802222, 42.951111, 2.0], [14.806614, 43.019494, 1.0], [14.833366, 43.227895, 1.0], [14.835939, 44.107913, 1.0], [14.835957, 43.067672, 1.0], [14.848483, 44.139098, 1.0], [14.87719, 48.927175, 1.0], [14.881758, 49.146743, 1.0], [14.881843, 46.749953, 4.0], [14.899366, 44.120492, 1.0], [14.901685, 43.206875, 2.0], [14.902683, 49.995874, 1.0], [14.931029, 45.503647, 2.0], [14.998608, 47.863247, 1.0], [15.00141, 45.855728, 1.0], [15.02438, 43.136959, 1.0], [15.031944, 45.828056, 1.0], [15.031965, 45.82837, 2.0], [15.052266, 45.835899, 1.0], [15.055278, 45.156667, 1.0], [15.058531, 43.128853, 1.0], [15.064521, 43.71908, 1.0], [15.068499, 45.851715, 1.0], [15.071613, 43.012262, 1.0], [15.075436, 43.740577, 1.0], [15.080921, 45.858916, 1.0], [15.104359, 48.330005, 1.0], [15.113846, 45.881134, 1.0], [15.11806, 48.33139, 1.0], [15.136053, 44.297629, 1.0], [15.136114, 44.023181, 1.0], [15.136726, 43.379341, 1.0], [15.141161, 48.357219, 1.0], [15.154778, 45.995721, 1.0], [15.156833, 45.925386, 1.0], [15.1703, 46.0272, 3.0], [15.1703, 46.0274, 1.0], [15.176541, 44.081017, 3.0], [15.185168, 44.493661, 1.0], [15.186607, 44.156904, 1.0], [15.187829, 46.032674, 1.0], [15.189627, 46.001341, 1.0], [15.19, 46.733611, 2.0], [15.19, 46.7338, 1.0], [15.219678, 48.983316, 1.0], [15.223084, 43.193356, 1.0], [15.225852, 44.254398, 1.0], [15.235331, 44.334139, 1.0], [15.249762, 49.587039, 1.0], [15.25, 46.95, 1.0], [15.253696, 44.467944, 1.0], [15.266667, 43.716667, 1.0], [15.274008, 43.142265, 1.0], [15.293501, 44.470643, 1.0], [15.295577, 43.039715, 1.0], [15.305307, 43.01949, 6.0], [15.30538, 43.016109, 1.0], [15.316891, 44.474802, 6.0], [15.32, 42.929167, 1.0], [15.325443, 44.211895, 424.0], [15.325556, 45.276111, 1.0], [15.334664, 45.116261, 1.0], [15.338147, 48.454428, 1.0], [15.346487, 45.119325, 3.0], [15.348074, 45.165024, 1.0], [15.355708, 44.480438, 1.0], [15.361789, 44.19735, 1.0], [15.364572, 44.048877, 1.0], [15.36672, 43.833311, 1.0], [15.379444, 46.900833, 1.0], [15.379844, 44.286605, 1.0], [15.380494, 44.333763, 1.0], [15.3875, 44.836667, 1.0], [15.391668, 44.279964, 1.0], [15.395432, 45.433531, 2.0], [15.398305, 45.454547, 1.0], [15.4, 44.8, 1.0], [15.406189, 45.101881, 1.0], [15.40723, 45.090344, 1.0], [15.410185, 44.140969, 1.0], [15.411051, 48.060789, 1.0], [15.413965, 45.95049, 1.0], [15.416036, 45.191317, 1.0], [15.41667, 48.53333, 1.0], [15.416983, 45.081879, 3.0], [15.417692, 45.447271, 1.0], [15.418803, 45.502087, 1.0], [15.423729, 45.456926, 1.0], [15.42607, 44.222012, 1.0], [15.432864, 44.181696, 1.0], [15.434043, 45.48023, 1.0], [15.441432, 44.983419, 1.0], [15.441952, 44.243157, 2.0], [15.443308, 45.025316, 1.0], [15.447841, 45.017147, 1.0], [15.44799, 45.41048, 1.0], [15.448232, 44.219215, 1.0], [15.448272, 45.31064, 1.0], [15.449164, 44.291123, 2.0], [15.449317, 44.129521, 1.0], [15.449888, 45.018688, 11.0], [15.45, 45.333333, 2.0], [15.450212, 45.019599, 1.0], [15.450314, 45.01981, 3.0], [15.450319, 45.019018, 1.0], [15.450333, 45.019821, 7.0], [15.450918, 45.019948, 1.0], [15.451382, 45.019772, 2.0], [15.452762, 45.31698, 1.0], [15.455484, 44.377978, 1.0], [15.45639, 45.324871, 59.0], [15.45641, 45.018612, 1.0], [15.456658, 45.014709, 1.0], [15.458333, 45.386389, 2.0], [15.459284, 45.429539, 2.0], [15.45939, 45.023548, 1.0], [15.459802, 45.42778, 2.0], [15.460342, 45.323692, 1.0], [15.460565, 45.481312, 1.0], [15.462475, 45.323565, 1.0], [15.463611, 45.322802, 1.0], [15.464361, 45.325646, 1.0], [15.464952, 45.322811, 1.0], [15.46591, 45.293941, 3.0], [15.466342, 45.324741, 2.0], [15.46667, 44.95, 1.0], [15.46844, 43.545888, 1.0], [15.469211, 45.320816, 1.0], [15.469516, 45.320427, 1.0], [15.470031, 45.322857, 2.0], [15.470031, 45.322858, 1.0], [15.470053, 45.322776, 1.0], [15.472255, 45.319517, 1.0], [15.473889, 45.366667, 1.0], [15.474157, 45.385584, 1.0], [15.477795, 45.551209, 1.0], [15.479939, 44.220679, 1.0], [15.482072, 44.222742, 1.0], [15.48346, 45.330163, 1.0], [15.488754, 43.763244, 1.0], [15.491946, 45.351998, 1.0], [15.493057, 45.464645, 1.0], [15.498594, 44.087134, 1.0], [15.5, 44.083333, 2.0], [15.500716, 44.087541, 1.0], [15.502404, 45.449854, 10.0], [15.503956, 45.4091, 2.0], [15.504667, 45.460956, 2.0], [15.506389, 44.060278, 1.0], [15.506619, 45.433531, 1.0], [15.506945, 48.34395, 1.0], [15.507387, 48.343821, 1.0], [15.5104, 43.27163, 1.0], [15.511777, 45.402452, 1.0], [15.511819, 43.903221, 1.0], [15.51204, 45.449935, 1.0], [15.51588, 45.449806, 1.0], [15.515888, 45.449806, 16.0], [15.515888, 45.449807, 7.0], [15.516118, 45.459809, 5.0], [15.516216, 45.449806, 1.0], [15.517205, 45.439024, 2.0], [15.517205, 45.460567, 1.0], [15.519852, 45.441799, 1.0], [15.522498, 45.460567, 1.0], [15.52596, 45.580441, 1.0], [15.529223, 45.464719, 1.0], [15.530437, 45.447264, 1.0], [15.53573, 45.419798, 1.0], [15.538618, 45.432851, 1.0], [15.544499, 49.350063, 1.0], [15.54535, 45.40037, 1.0], [15.545556, 45.3925, 1.0], [15.545736, 49.349714, 1.0], [15.554965, 48.1728, 4.0], [15.558889, 44.970278, 1.0], [15.559512, 44.971462, 1.0], [15.559544, 45.485716, 1.0], [15.566652, 45.787139, 1.0], [15.56667, 49.23333, 1.0], [15.571617, 45.791185, 1.0], [15.574141, 45.805646, 1.0], [15.575871, 43.903036, 1.0], [15.584342, 44.518664, 1.0], [15.585038, 44.028631, 1.0], [15.59442, 44.98981, 1.0], [15.59883, 45.038763, 1.0], [15.612456, 48.952117, 1.0], [15.61454, 44.596579, 3.0], [15.61629, 44.564576, 1.0], [15.616667, 45.3, 4.0], [15.617298, 46.011052, 1.0], [15.620833, 44.1935, 1.0], [15.623037, 45.466003, 1.0], [15.625556, 44.058611, 1.0], [15.628584, 44.587434, 1.0], [15.633333, 44.583333, 2.0], [15.635556, 44.323889, 7.0], [15.644197, 45.466003, 2.0], [15.64466, 44.190141, 1.0], [15.649785, 44.56722, 1.0], [15.658833, 43.947798, 3.0], [15.659191, 43.946539, 1.0], [15.65985, 43.94434, 1.0], [15.661021, 43.951568, 1.0], [15.661043, 43.947366, 1.0], [15.661751, 43.947233, 1.0], [15.661761, 43.947233, 1.0], [15.66182, 43.961711, 1.0], [15.662876, 43.945765, 2.0], [15.663055, 43.94577, 1.0], [15.664708, 43.943921, 1.0], [15.666667, 43.95, 5.0], [15.667495, 43.950701, 1.0], [15.672163, 43.945709, 1.0], [15.677824, 43.905995, 1.0], [15.684167, 43.942222, 1.0], [15.685347, 43.946264, 1.0], [15.686525, 43.597214, 4.0], [15.689959, 43.600014, 1.0], [15.693056, 44.205278, 1.0], [15.695, 43.5975, 1.0], [15.696749, 43.650512, 1.0], [15.700747, 43.603514, 1.0], [15.701667, 48.273737, 1.0], [15.709722, 44.788611, 1.0], [15.712621, 44.502373, 1.0], [15.715656, 43.999977, 1.0], [15.723243, 42.997228, 1.0], [15.731798, 44.519237, 1.0], [15.734395, 45.773805, 1.0], [15.744461, 44.071824, 1.0], [15.746905, 44.52498, 1.0], [15.749972, 44.499986, 5.0], [15.75, 44.083333, 1.0], [15.761267, 44.721147, 1.0], [15.771811, 48.313383, 1.0], [15.772919, 44.487827, 1.0], [15.793696, 44.319674, 1.0], [15.798056, 46.081667, 1.0], [15.798159, 48.385419, 1.0], [15.799444, 44.246389, 4.0], [15.812506, 44.389915, 1.0], [15.814514, 44.281133, 1.0], [15.819648, 45.084788, 1.0], [15.823405, 44.038661, 1.0], [15.8275, 44.793889, 1.0], [15.833638, 44.829639, 1.0], [15.839565, 48.455301, 2.0], [15.840202, 48.45438, 23.0], [15.840556, 48.455556, 1.0], [15.840986, 48.48377, 1.0], [15.841379, 48.45814, 1.0], [15.842201, 48.455792, 1.0], [15.847138, 48.483698, 1.0], [15.85, 46.083333, 1.0], [15.850014, 46.08332, 1.0], [15.862624, 43.042614, 1.0], [15.872621, 48.629935, 1.0], [15.890018, 48.430252, 2.0], [15.914915, 48.650745, 20.0], [15.916585, 48.73332, 1.0], [15.921257, 48.636382, 4.0], [15.927823, 48.605691, 1.0], [15.931111, 48.748056, 1.0], [15.940011, 48.789753, 30.0], [15.941039, 48.780092, 4.0], [15.942183, 48.77721, 1.0], [15.942513, 48.782017, 1.0], [15.944438, 48.788861, 1.0], [15.9486, 48.750902, 1.0], [15.954903, 43.78367, 1.0], [15.958611, 43.780833, 1.0], [15.959517, 48.331755, 1.0], [15.964205, 48.78252, 7.0], [15.965333, 49.000313, 1.0], [15.966742, 48.783333, 3.0], [15.986928, 48.775742, 1.0], [15.99449, 48.847664, 1.0], [16.0, 48.5, 6.0], [16.005641, 43.1925, 1.0], [16.012156, 43.210502, 1.0], [16.030962, 48.996393, 1.0], [16.032999, 44.766691, 2.0], [16.033225, 44.766555, 1.0], [16.033333, 44.766667, 1.0], [16.04081, 48.342746, 1.0], [16.05, 49.0, 2.0], [16.050214, 49.000045, 1.0], [16.050223, 49.000389, 1.0], [16.051672, 49.002955, 1.0], [16.051911, 48.999411, 1.0], [16.062678, 43.297575, 1.0], [16.0681, 44.797, 1.0], [16.0766, 43.3414, 1.0], [16.083333, 46.4, 1.0], [16.088413, 44.524008, 1.0], [16.095871, 44.566657, 1.0], [16.103876, 43.277464, 1.0], [16.107723, 44.680109, 1.0], [16.118063, 43.329466, 3.0], [16.122346, 43.329649, 1.0], [16.13138, 43.942963, 1.0], [16.133333, 47.233333, 2.0], [16.135376, 44.711612, 1.0], [16.136157, 47.233939, 1.0], [16.139008, 47.831483, 1.0], [16.146248, 43.943766, 1.0], [16.146947, 43.48065, 3.0], [16.165216, 44.776911, 1.0], [16.165407, 44.776897, 8.0], [16.179182, 44.039065, 1.0], [16.1825, 44.626111, 4.0], [16.182744, 44.626633, 1.0], [16.19005, 42.882414, 1.0], [16.199874, 44.408998, 1.0], [16.231231, 44.592186, 1.0], [16.234289, 43.97843, 1.0], [16.249994, 45.478097, 6.0], [16.256921, 43.943679, 6.0], [16.268784, 44.646519, 2.0], [16.278967, 44.49901, 1.0], [16.282222, 43.745833, 1.0], [16.286969, 44.638967, 1.0], [16.288709, 44.643532, 1.0], [16.320473, 42.812401, 1.0], [16.321999, 42.814075, 6.0], [16.356323, 44.091938, 4.0], [16.356479, 45.051568, 1.0], [16.358661, 43.930314, 1.0], [16.3675, 43.718056, 1.0], [16.376508, 44.08674, 1.0], [16.3785, 43.724238, 1.0], [16.402103, 43.05595, 3.0], [16.405528, 43.065087, 1.0], [16.408573, 44.404358, 1.0], [16.41489, 43.10772, 1.0], [16.431822, 45.602888, 1.0], [16.451439, 42.904686, 1.0], [16.462132, 48.959195, 2.0], [16.477935, 43.090605, 1.0], [16.524263, 42.967896, 8.0], [16.529372, 43.013416, 2.0], [16.529444, 42.9675, 1.0], [16.546944, 42.979444, 1.0], [16.552261, 42.953253, 1.0], [16.559956, 45.691624, 1.0], [16.576572, 43.093524, 1.0], [16.576665, 42.920508, 1.0], [16.579604, 42.914226, 1.0], [16.596515, 42.939034, 1.0], [16.597222, 45.524167, 1.0], [16.601688, 42.94059, 8.0], [16.627672, 47.164875, 1.0], [16.666667, 49.5, 2.0], [16.691499, 42.942709, 1.0], [16.714702, 44.875403, 1.0], [16.74667, 43.217305, 1.0], [16.755931, 45.721743, 1.0], [16.756517, 43.240785, 1.0], [16.756625, 43.230939, 1.0], [16.759295, 43.184751, 1.0], [16.76068, 43.212107, 1.0], [16.762467, 43.22816, 1.0], [16.764359, 43.252999, 1.0], [16.764902, 49.255337, 2.0], [16.770578, 43.150917, 1.0], [16.784282, 45.29986, 1.0], [16.790182, 45.299386, 4.0], [16.800006, 43.149996, 2.0], [16.800296, 43.150341, 1.0], [16.801231, 43.150663, 1.0], [16.821774, 49.425954, 1.0], [16.847653, 43.943679, 1.0], [16.851862, 43.93115, 1.0], [16.859748, 43.942137, 1.0], [16.866667, 43.366667, 1.0], [16.870425, 43.429688, 1.0], [16.876176, 43.806503, 1.0], [16.882694, 42.559745, 1.0], [16.883873, 42.562349, 1.0], [16.88653, 48.019128, 1.0], [16.887294, 42.565977, 5.0], [16.887823, 43.442872, 1.0], [16.888231, 49.074737, 1.0], [16.8884, 44.2738, 1.0], [16.889167, 42.561111, 10.0], [16.889214, 42.57228, 1.0], [16.889287, 42.570656, 1.0], [16.889303, 42.570655, 1.0], [16.889359, 42.570567, 6.0], [16.889379, 42.570553, 1.0], [16.889586, 42.560818, 1.0], [16.88981, 43.807983, 5.0], [16.890726, 42.567442, 1.0], [16.89135, 43.798758, 1.0], [16.892213, 42.56892, 3.0], [16.893194, 42.57526, 10.0], [16.893259, 43.799374, 1.0], [16.893793, 43.803213, 1.0], [16.893833, 43.802702, 1.0], [16.902568, 49.328913, 1.0], [16.902582, 49.36381, 1.0], [16.90866, 43.258941, 1.0], [16.909167, 43.262222, 1.0], [16.909684, 49.370842, 1.0], [16.909684, 49.403801, 3.0], [16.914939, 49.366207, 1.0], [16.917494, 43.762409, 11.0], [16.920195, 49.360771, 1.0], [16.920195, 49.370842, 1.0], [16.92545, 49.388237, 1.0], [16.930413, 49.365314, 1.0], [16.930413, 49.365315, 1.0], [16.930414, 49.365314, 1.0], [16.930414, 49.365315, 16.0], [16.930652, 49.365731, 2.0], [16.930705, 49.348869, 1.0], [16.931188, 43.78258, 1.0], [16.931354, 49.365315, 3.0], [16.934746, 43.76484, 4.0], [16.934858, 47.015415, 2.0], [16.94322, 43.76532, 1.0], [16.950972, 43.748249, 1.0], [16.957799, 49.378127, 2.0], [16.961956, 43.743219, 1.0], [16.965937, 43.795875, 1.0], [16.968555, 42.830765, 1.0], [17.008906, 45.808609, 1.0], [17.015158, 43.684155, 2.0], [17.022622, 45.795565, 1.0], [17.027995, 43.033777, 2.0], [17.028705, 43.668967, 1.0], [17.038014, 43.048585, 1.0], [17.04146, 44.107291, 1.0], [17.041539, 44.107291, 1.0], [17.057623, 43.970781, 1.0], [17.057837, 47.090457, 1.0], [17.060139, 43.599369, 1.0], [17.062902, 43.597833, 1.0], [17.073056, 43.800625, 1.0], [17.088291, 49.403801, 2.0], [17.104506, 43.024997, 1.0], [17.15, 42.5, 1.0], [17.1667, 43.200001, 1.0], [17.25564, 42.727309, 2.0], [17.27073, 43.217068, 1.0], [17.2901, 49.920451, 1.0], [17.294844, 42.695584, 1.0], [17.30236, 43.394223, 1.0], [17.325259, 43.701293, 1.0], [17.341714, 43.131141, 1.0], [17.345785, 44.618122, 1.0], [17.447464, 44.718525, 1.0], [17.453164, 44.720597, 1.0], [17.465111, 42.757008, 2.0], [17.468393, 42.707611, 1.0], [17.475135, 42.707611, 6.0], [17.489233, 47.104439, 2.0], [17.489364, 47.644028, 1.0], [17.490911, 44.131759, 1.0], [17.545372, 44.222498, 1.0], [17.554939, 44.232357, 34.0], [17.562997, 43.455986, 1.0], [17.565604, 44.228944, 7.0], [17.56582, 44.229171, 1.0], [17.565821, 44.229172, 1.0], [17.567896, 44.233563, 1.0], [17.577538, 43.324637, 2.0], [17.651777, 43.526192, 9.0], [17.658138, 45.261024, 1.0], [17.665621, 45.250109, 1.0], [17.667165, 44.250822, 1.0], [17.700589, 43.604145, 1.0], [17.884025, 43.326599, 1.0], [17.916769, 43.361625, 1.0], [18.20109, 42.631306, 1.0], [18.223461, 42.526051, 3.0], [18.23429, 42.657574, 1.0], [18.284561, 45.511309, 1.0], [18.300925, 42.795899, 1.0], [18.314753, 42.725163, 8.0], [18.350015, 45.509294, 1.0], [18.350639, 45.602164, 1.0], [18.351466, 45.600711, 4.0], [18.520277, 45.69972, 5.0], [18.64233, 43.012665, 1.0], [19.022474, 42.812886, 1.0], [19.049376, 42.868178, 1.0], [19.096906, 42.863788, 4.0], [19.118069, 42.86235, 1.0], [19.981443, 42.601597, 2.0], [20.596272, 41.053352, 1.0], [20.796099, 23.851735, 1.0], [20.960376, 40.046593, 1.0], [21.117419, 24.732631, 1.0], [21.276647, 40.400121, 1.0], [21.416667, 39.816667, 1.0], [21.422512, 39.826209, 1.0], [21.437273, 40.512714, 2.0], [21.503571, 39.179195, 1.0], [21.523558, 41.919647, 1.0], [21.525071, 39.165189, 1.0], [21.538912, 39.143925, 1.0], [21.543155, 39.174905, 5.0], [21.543257, 39.176184, 1.0], [21.543333, 39.172778, 1.0], [21.957183, 50.754611, 1.0], [22.690351, 5.562919, 3.0], [22.755438, 46.209155, 1.0], [22.784648, 5.52271, 1.0], [22.785, 5.52278, 1.0], [23.099944, 46.204834, 1.0], [23.382073, 22.313837, 1.0], [23.540869, 45.508899, 1.0], [24.08554, 38.063286, 1.0], [24.088088, 32.901032, 1.0], [24.088856, 32.899651, 1.0], [24.088938, 32.899829, 3.0], [24.089097, 38.063963, 2.0], [24.089354, 32.898328, 1.0], [24.14996, 47.300525, 1.0], [24.153336, 47.301217, 1.0], [24.183333, 23.283333, 1.0], [24.187631, 23.283384, 1.0], [24.199687, 23.283779, 1.0], [24.289061, 9.465237, 1.0], [24.406897, 32.918875, 1.0], [24.460197, 39.599033, 1.0], [24.464374, 46.266591, 1.0], [24.465375, 54.366353, 1.0], [24.490743, 54.396166, 1.0], [24.518454, 44.397907, 1.0], [24.545564, 27.173532, 1.0], [24.553989, 9.484227, 1.0], [24.572153, 46.669675, 1.0], [24.593432, 46.757546, 1.0], [24.611645, 32.904158, 1.0], [24.633333, 46.716667, 2.0], [24.633451, 46.716711, 1.0], [24.64732, 46.714581, 22.0], [24.649938, 46.708172, 1.0], [24.713552, 46.675296, 1.0], [24.840398, 39.320624, 1.0], [24.932325, 14.618659, 1.0], [24.957888, 10.177193, 1.0], [24.95945, 46.703021, 1.0], [24.964324, 10.177832, 2.0], [24.965556, 10.18, 1.0], [24.978548, 32.87582, 1.0], [25.118305, 51.323335, 1.0], [25.142301, 10.142317, 1.0], [25.185573, 55.303363, 1.0], [25.239444, 56.360556, 1.0], [25.262051, 51.594317, 1.0], [25.290067, 32.552236, 1.0], [25.29161, 51.530437, 1.0], [25.2919, 60.643, 1.0], [25.291944, 60.643056, 2.0], [25.303589, 51.471283, 1.0], [25.389026, 61.138411, 1.0], [25.403051, 49.589794, 3.0], [25.412173, 56.25297, 1.0], [25.71468, 32.717499, 1.0], [25.925376, 49.66834, 1.0], [25.930001, 14.43498, 1.0], [25.9303, 14.44002, 1.0], [25.932228, 49.664617, 1.0], [25.950713, 30.705307, 1.0], [25.999999, 50.616685, 1.0], [26.0, 50.616667, 1.0], [26.004934, 48.81395, 1.0], [26.0316, 50.5129, 1.0], [26.047953, 32.240407, 2.0], [26.048795, 32.240311, 1.0], [26.064339, 50.50405, 1.0], [26.066562, 32.221662, 1.0], [26.079255, 61.753754, 1.0], [26.099184, 50.485253, 1.0], [26.111301, 50.480589, 1.0], [26.113889, 50.481667, 2.0], [26.118904, 50.502213, 7.0], [26.123784, 50.469588, 2.0], [26.12382, 50.469628, 1.0], [26.123898, 50.469706, 1.0], [26.128364, 61.517983, 1.0], [26.13, 50.555, 1.0], [26.133815, 50.566872, 1.0], [26.134092, 50.598011, 1.0], [26.135452, 50.614212, 2.0], [26.135555, 50.600174, 4.0], [26.13883, 50.477737, 1.0], [26.139048, 50.527792, 1.0], [26.143757, 50.604046, 8.0], [26.144948, 14.735157, 1.0], [26.146751, 50.525586, 1.0], [26.147871, 50.498844, 2.0], [26.150199, 50.582401, 1.0], [26.154981, 32.716012, 1.0], [26.154994, 32.716429, 1.0], [26.155061, 32.716012, 1.0], [26.155191, 50.482517, 1.0], [26.168217, 50.571804, 1.0], [26.169081, 50.614277, 19.0], [26.173237, 50.550972, 2.0], [26.184725, 50.467002, 2.0], [26.185217, 50.529086, 1.0], [26.185306, 50.503483, 1.0], [26.188889, 50.55, 1.0], [26.191792, 50.484642, 4.0], [26.200018, 50.463268, 3.0], [26.204552, 50.534554, 2.0], [26.206879, 50.556702, 2.0], [26.209757, 50.505797, 1.0], [26.210108, 50.564011, 1.0], [26.210377, 50.46233, 8.0], [26.210929, 50.448907, 1.0], [26.213229, 50.527792, 1.0], [26.214488, 50.584754, 1.0], [26.214625, 50.520413, 1.0], [26.21552, 50.512394, 1.0], [26.215823, 50.44972, 1.0], [26.216667, 50.583333, 1.0], [26.217001, 50.587414, 23.0], [26.217348, 50.504264, 1.0], [26.218399, 50.195902, 4.0], [26.218794, 50.533783, 2.0], [26.21912, 50.464478, 8.0], [26.220964, 32.058755, 1.0], [26.222639, 50.516018, 5.0], [26.223519, 60.750488, 2.0], [26.223698, 50.536629, 9.0], [26.226559, 50.54591, 1.0], [26.226565, 50.545907, 1.0], [26.230654, 50.528118, 1.0], [26.231722, 50.509521, 4.0], [26.253864, 50.613705, 3.0], [26.270635, 50.640739, 1.0], [26.278256, 32.058934, 1.0], [26.28323, 50.631496, 6.0], [26.284889, 50.144043, 1.0], [26.3351, 17.228331, 1.0], [26.336408, 43.967329, 1.0], [26.428604, 50.066521, 6.0], [26.431641, 11.849474, 2.0], [26.486044, 8.757165, 4.0], [26.489327, 50.00923, 1.0], [26.49151, 50.008725, 1.0], [26.504875, 8.478095, 1.0], [26.50495, 50.016159, 1.0], [26.524322, 8.491639, 1.0], [26.554785, 50.004524, 17.0], [26.556, 49.996, 1.0], [26.558523, 31.695478, 1.0], [26.559551, 31.69428, 1.0], [26.56114, 50.007, 1.0], [26.561832, 12.880869, 7.0], [26.573522, 50.038563, 1.0], [26.576492, 49.998236, 1.0], [26.577352, 50.075286, 1.0], [26.577736, 50.075257, 1.0], [26.58367, 49.980703, 1.0], [26.583956, 49.984697, 1.0], [26.585137, 49.976431, 1.0], [26.587351, 49.984146, 20.0], [26.594172, 49.977173, 1.0], [26.633478, 61.257183, 1.0], [26.756038, 14.023506, 1.0], [26.9174, 61.00202, 1.0], [26.986397, 14.411571, 1.0], [27.022867, 14.441218, 34.0], [27.038727, 14.426197, 1.0], [27.058452, 27.969925, 1.0], [27.059822, 27.972298, 1.0], [27.128868, 61.67565, 1.0], [27.153611, -13.203333, 1.0], [27.181122, 31.179426, 2.0], [27.198889, 60.684349, 3.0], [27.2025, 60.684722, 1.0], [27.205332, 33.803768, 3.0], [27.207501, 31.166733, 2.0], [27.218639, 14.61845, 1.0], [27.257896, 33.811607, 1.0], [27.352729, 62.34461, 1.0], [27.366279, 62.334945, 2.0], [27.36902, 62.331253, 1.0], [27.37043, 62.334996, 1.0], [27.3707, 62.3342, 4.0], [27.370794, 62.334035, 2.0], [27.370833, 62.334167, 1.0], [27.380763, 62.348337, 1.0], [27.458192, 17.567244, 1.0], [27.476968, 14.36197, 1.0], [27.479878, 60.602282, 1.0], [27.51141, 41.720824, 1.0], [27.527758, 60.642815, 1.0], [27.529991, 60.582068, 4.0], [27.529993, 60.582066, 1.0], [27.545029, 14.277712, 2.0], [27.591857, 21.610931, 1.0], [27.64683, 14.273643, 1.0], [27.648401, 14.263774, 1.0], [27.658915, 22.495108, 3.0], [27.669848, -8.145182, 1.0], [27.678525, 60.767109, 1.0], [27.776823, 30.781921, 1.0], [27.856389, 60.180556, 1.0], [27.859921, 30.730906, 1.0], [27.867261, -0.28533, 1.0], [27.915557, 34.329886, 1.0], [27.929867, 30.838026, 1.0], [27.983513, 16.912251, 1.0], [28.03129, 33.781681, 1.0], [28.052182, 9.556767, 1.0], [28.086801, 30.762019, 3.0], [28.087097, 30.76184, 5.0], [28.087219, 30.76186, 1.0], [28.087597, 30.761305, 1.0], [28.104333, 43.015529, 2.0], [28.22107, 61.21582, 1.0], [28.231423, 61.19276, 1.0], [28.239797, 33.622915, 1.0], [28.240884, 33.62257, 1.0], [28.245118, 33.622913, 1.0], [28.247855, 61.251891, 1.0], [28.309792, 30.708694, 1.0], [28.383333, 36.583333, 1.0], [28.416768, 45.971496, 1.0], [28.428016, 19.03665, 1.0], [28.509136, 34.513634, 1.0], [28.513127, 16.526176, 1.0], [28.546913, 17.535864, 3.0], [28.555556, 33.976111, 1.0], [28.55755, 33.975673, 2.0], [28.570698, 33.974544, 1.0], [28.572571, 17.712105, 1.0], [28.672312, 33.25267, 1.0], [28.679594, 33.306915, 1.0], [28.697896, 30.768123, 1.0], [28.712988, 33.663463, 1.0], [28.766622, 29.232078, 1.0], [28.766622, 29.232079, 2.0], [28.87717, 19.377125, 1.0], [28.888871, 10.026977, 2.0], [28.921436, 30.983749, 1.0], [28.949134, 58.884149, 2.0], [28.958196, 60.376118, 1.0], [28.995659, 17.49081, 2.0], [29.013931, 61.446529, 1.0], [29.037249, 21.520823, 1.0], [29.041111, 48.1375, 1.0], [29.046681, 21.856859, 1.0], [29.066013, 31.099776, 1.0], [29.066127, 31.099384, 1.0], [29.066844, 31.099588, 1.0], [29.068194, 31.099291, 1.0], [29.07335, 31.096894, 1.0], [29.074141, 31.098383, 1.0], [29.075656, 31.097145, 1.0], [29.07605, 31.094774, 6.0], [29.076732, 31.099753, 1.0], [29.088528, 2.212674, 1.0], [29.090883, 15.78021, 1.0], [29.091302, 48.12216, 1.0], [29.1187, 15.954073, 1.0], [29.122501, 34.683143, 1.0], [29.126222, 34.684259, 1.0], [29.151583, 21.292322, 1.0], [29.154917, 16.156118, 2.0], [29.158117, 16.143544, 1.0], [29.16784, 46.600029, 1.0], [29.202868, 19.217541, 2.0], [29.233803, 33.949759, 1.0], [29.238157, 30.797907, 3.0], [29.257506, 31.200826, 1.0], [29.284432, 31.148128, 1.0], [29.286537, 30.615231, 1.0], [29.289577, 48.049629, 1.0], [29.295837, 13.021298, 1.0], [29.307319, 30.846014, 1.0], [29.308327, 30.844256, 1.0], [29.308363, 30.842872, 2.0], [29.308393, 30.842839, 1.0], [29.308402, 30.84285, 1.0], [29.310183, 34.153195, 2.0], [29.31053, 30.84229, 1.0], [29.311529, 30.836503, 2.0], [29.311707, 30.838812, 29.0], [29.311745, 30.83781, 1.0], [29.311899, 30.842973, 1.0], [29.312292, 30.842129, 1.0], [29.31938, 30.870842, 1.0], [29.334104, 31.204954, 2.0], [29.347702, 47.94912, 5.0], [29.360998, 30.68244, 2.0], [29.362207, 19.205558, 1.0], [29.365421, 32.178526, 1.0], [29.368226, 32.174605, 1.0], [29.3715, 18.009662, 1.0], [29.37457, 32.177933, 1.0], [29.389289, 33.833762, 1.0], [29.413616, 30.865749, 1.0], [29.471151, 17.927935, 1.0], [29.474121, 30.959152, 3.0], [29.483576, 60.862701, 13.0], [29.490095, 34.899447, 1.0], [29.492057, 34.895225, 1.0], [29.492478, 34.896899, 1.0], [29.497747, 29.958638, 1.0], [29.531969, 35.007061, 2.0], [29.554548, 34.947533, 17.0], [29.55715, 30.930947, 1.0], [29.56805, 24.672987, 1.0], [29.590594, 32.713285, 1.0], [29.591325, 52.58361, 2.0], [29.591819, 32.703367, 1.0], [29.620234, 31.259504, 2.0], [29.620413, 31.259259, 1.0], [29.668961, 34.303909, 1.0], [29.691005, 33.8657, 1.0], [29.695749, 47.435412, 1.0], [29.732586, 31.303039, 1.0], [29.738689, 17.293203, 1.0], [29.738753, 17.291251, 1.0], [29.745461, 17.289375, 1.0], [29.789183, 17.553286, 1.0], [29.815773, 31.271519, 1.0], [29.816675, 31.266721, 1.0], [29.827227, 31.371168, 1.0], [29.829254, 31.253721, 2.0], [29.830748, 17.288151, 1.0], [29.831976, 31.337257, 15.0], [29.846905, 31.271999, 2.0], [29.849805, 31.335283, 1.0], [29.850425, 31.266833, 1.0], [29.864917, 32.655393, 2.0], [29.892022, 31.301557, 2.0], [29.902568, 30.634518, 2.0], [29.905309, 31.287139, 1.0], [29.905632, 33.749462, 4.0], [29.908825, 45.299141, 1.0], [29.929591, 31.185928, 1.0], [29.952739, 33.763632, 1.0], [29.964494, 32.528546, 1.0], [29.966111, 32.527968, 1.0], [29.966757, 32.549628, 2.0], [29.966834, 32.549628, 1.0], [29.966834, 32.549718, 1.0], [29.966834, 32.549807, 1.0], [29.969238, 32.55602, 1.0], [29.974001, 31.156275, 1.0], [29.976161, 48.471969, 1.0], [29.977461, 32.536682, 1.0], [29.981329, 14.24356, 1.0], [29.983583, 14.268476, 1.0], [29.997915, 30.963032, 25.0], [30.002778, 34.681667, 1.0], [30.004092, 47.937309, 1.0], [30.0075, 33.395, 1.0], [30.013056, 31.208853, 1.0], [30.014193, 31.287932, 1.0], [30.016894, 31.377034, 3.0], [30.022924, 31.185192, 61.0], [30.026531, 31.456419, 4.0], [30.030554, 31.110741, 4.0], [30.038057, 47.925789, 2.0], [30.044245, 31.235845, 1.0], [30.04442, 31.235712, 1.0], [30.044552, 31.235733, 1.0], [30.046109, 33.228604, 1.0], [30.047068, 31.130505, 1.0], [30.063242, 30.063242, 1.0], [30.076843, 31.158298, 4.0], [30.079226, 20.120623, 1.0], [30.084629, 31.334314, 131.0], [30.086821, 31.947627, 1.0], [30.088437, 33.738871, 1.0], [30.11385, 46.108814, 1.0], [30.116667, 47.716667, 2.0], [30.116775, 47.71924, 1.0], [30.118598, 31.246842, 1.0], [30.121344, 16.856104, 1.0], [30.122938, 31.135947, 1.0], [30.125427, 31.320609, 1.0], [30.135777, 31.26964, 7.0], [30.139763, 31.206674, 1.0], [30.144287, 16.786492, 2.0], [30.146909, 31.277878, 1.0], [30.148302, 17.007691, 1.0], [30.15003, 16.921525, 1.0], [30.15058, 16.912251, 12.0], [30.152935, 31.319418, 1.0], [30.163319, 48.379703, 2.0], [30.165667, 31.314045, 1.0], [30.168164, 16.490654, 1.0], [30.169854, 34.173178, 1.0], [30.171564, 16.481116, 1.0], [30.193108, 31.136799, 1.0], [30.194015, 35.733423, 1.0], [30.195645, 35.733423, 1.0], [30.207582, 31.467149, 1.0], [30.228341, 31.479895, 1.0], [30.230907, 31.395412, 1.0], [30.242052, 16.987644, 1.0], [30.248908, 31.354515, 1.0], [30.273654, 47.223712, 1.0], [30.275508, 57.079332, 1.0], [30.279669, 35.483011, 1.0], [30.280886, 47.614256, 1.0], [30.281462, 34.957573, 1.0], [30.282305, 47.36075, 1.0], [30.293114, 47.292389, 3.0], [30.3067, 31.730761, 3.0], [30.317415, 36.17517, 1.0], [30.318373, 36.177483, 1.0], [30.325062, 36.137757, 1.0], [30.327842, 31.218796, 1.0], [30.329237, 31.216847, 5.0], [30.345997, 48.287136, 1.0], [30.355781, 16.876631, 1.0], [30.358333, 34.651389, 1.0], [30.361125, 33.694858, 1.0], [30.367212, 47.102622, 1.0], [30.371206, 30.531452, 1.0], [30.374143, 47.262768, 1.0], [30.376924, 47.714458, 1.0], [30.383333, 47.7, 9.0], [30.388007, 47.713127, 2.0], [30.388814, 36.436436, 1.0], [30.389386, 36.411438, 1.0], [30.392788, 34.489788, 1.0], [30.40053, 19.606054, 5.0], [30.416963, 31.563298, 1.0], [30.426389, 33.148611, 1.0], [30.437778, 30.194722, 1.0], [30.439771, 47.574925, 2.0], [30.446524, 47.981791, 1.0], [30.446822, 48.752677, 1.0], [30.449667, 35.053592, 1.0], [30.45, 47.983333, 6.0], [30.450217, 47.982913, 1.0], [30.45066, 47.98326, 1.0], [30.451041, 47.981308, 1.0], [30.457385, 33.152163, 1.0], [30.4653, 33.785694, 7.0], [30.465685, 31.184652, 1.0], [30.465928, 30.93058, 1.0], [30.465985, 30.930646, 1.0], [30.465993, 31.184831, 3.0], [30.46632, 33.648028, 1.0], [30.470624, 33.613632, 5.0], [30.475543, 33.726127, 1.0], [30.480731, 16.820695, 1.0], [30.491551, 35.165443, 1.0], [30.491611, 47.831924, 1.0], [30.491793, 18.547119, 12.0], [30.495131, 34.559644, 1.0], [30.498423, 33.810298, 1.0], [30.5, 33.6, 1.0], [30.5, 47.816667, 2.0], [30.510054, 47.778095, 208.0], [30.51048, 31.345509, 1.0], [30.51284, 31.347135, 1.0], [30.514758, 30.343551, 1.0], [30.519208, 33.643307, 1.0], [30.5375, 31.678611, 1.0], [30.543211, 33.639568, 1.0], [30.543951, 31.135263, 1.0], [30.544004, 31.135254, 1.0], [30.54537, 33.611283, 1.0], [30.550808, 16.568765, 1.0], [30.551154, 31.013428, 1.0], [30.554492, 49.186735, 1.0], [30.55503, 33.77642, 1.0], [30.560456, 31.007948, 1.0], [30.562224, 32.111443, 1.0], [30.565576, 31.013082, 1.0], [30.566667, 2.883333, 1.0], [30.570085, 33.628685, 1.0], [30.576442, 31.503931, 1.0], [30.576491, 31.504178, 1.0], [30.576538, 31.504066, 4.0], [30.576563, 31.504058, 1.0], [30.576868, 31.503584, 1.0], [30.577371, 31.504635, 1.0], [30.577668, 31.503943, 1.0], [30.582209, 15.407966, 6.0], [30.583093, 32.265389, 1.0], [30.587291, 31.503016, 5.0], [30.587858, 20.340098, 1.0], [30.588468, 31.482826, 1.0], [30.58848, 33.584154, 1.0], [30.588551, 31.482634, 1.0], [30.589159, 31.503929, 2.0], [30.59241, 32.258606, 1.0], [30.593751, 32.263606, 1.0], [30.593786, 33.737959, 1.0], [30.594712, 32.302438, 1.0], [30.595366, 32.271942, 1.0], [30.596139, 32.271431, 1.0], [30.596353, 32.271324, 1.0], [30.596492, 32.271459, 6.0], [30.59703, 33.619489, 1.0], [30.597245, 30.987632, 3.0], [30.599508, 33.58176, 1.0], [30.600094, 33.606319, 1.0], [30.600094, 33.625975, 1.0], [30.603049, 32.277435, 1.0], [30.604231, 32.267849, 1.0], [30.604512, 32.273649, 2.0], [30.605228, 33.617842, 1.0], [30.605262, 32.276153, 1.0], [30.608472, 33.617577, 76.0], [30.608949, 33.618098, 1.0], [30.608955, 18.284563, 1.0], [30.610665, 33.638763, 1.0], [30.618391, 32.286753, 1.0], [30.622246, 33.6419, 1.0], [30.63179, 18.351568, 15.0], [30.638472, 47.506056, 1.0], [30.647354, 32.253088, 3.0], [30.652019, 33.645026, 1.0], [30.652376, 46.81062, 1.0], [30.65881, 33.717453, 2.0], [30.659786, 31.588371, 1.0], [30.66667, 34.83333, 17.0], [30.666689, 34.368584, 4.0], [30.667636, 31.692668, 1.0], [30.671648, 33.88896, 1.0], [30.675715, 33.611755, 2.0], [30.683774, 33.624076, 1.0], [30.685926, 31.774317, 1.0], [30.689888, 33.622742, 1.0], [30.692919, 33.824881, 1.0], [30.699335, 33.644714, 1.0], [30.701736, 33.850848, 2.0], [30.718645, 31.563543, 1.0], [30.72086, 31.67165, 1.0], [30.721449, 34.875657, 1.0], [30.725416, 31.669928, 1.0], [30.725516, 31.730288, 1.0], [30.725535, 31.669912, 1.0], [30.727154, 31.668627, 1.0], [30.727223, 18.215196, 1.0], [30.727675, 31.724866, 2.0], [30.730032, 31.717315, 2.0], [30.730038, 31.798835, 1.0], [30.730803, 31.742241, 1.0], [30.732393, 31.714354, 1.0], [30.732442, 31.720059, 3.0], [30.732662, 31.719546, 9.0], [30.733482, 31.967124, 1.0], [30.739099, 16.558668, 1.0], [30.747309, 31.130546, 2.0], [30.749721, 20.216595, 1.0], [30.753697, 31.443433, 1.0], [30.75711, 18.195799, 2.0], [30.757133, 20.237541, 46.0], [30.762296, 29.696268, 2.0], [30.762318, 20.233005, 1.0], [30.765961, 30.59391, 1.0], [30.779884, 17.833647, 1.0], [30.780207, 17.837408, 13.0], [30.783333, 34.05, 1.0], [30.787678, 30.999529, 12.0], [30.792205, 34.472404, 1.0], [30.795, 31.896667, 1.0], [30.80162, 18.086216, 7.0], [30.811078, 31.927718, 1.0], [30.81214, 34.172752, 1.0], [30.819122, 30.823359, 2.0], [30.824685, 34.921618, 1.0], [30.824734, 30.818955, 1.0], [30.829562, 35.038816, 29.0], [30.833017, 35.042271, 8.0], [30.848099, 30.343551, 3.0], [30.87394, 33.788052, 1.0], [30.87468, 17.550767, 1.0], [30.875356, 31.03351, 3.0], [30.8775, 34.381944, 1.0], [30.882597, 34.392049, 1.0], [30.885363, 46.467974, 2.0], [30.886219, 34.076081, 1.0], [30.886599, 30.665666, 1.0], [30.887489, 34.364319, 1.0], [30.891109, 16.560538, 1.0], [30.893889, 61.680278, 1.0], [30.907333, 17.749748, 2.0], [30.90807, 32.314716, 1.0], [30.908829, 30.291146, 1.0], [30.93436, 29.694039, 1.0], [30.941732, 31.293508, 1.0], [30.94929, 46.599043, 1.0], [30.951601, 20.118898, 3.0], [30.953911, 47.51038, 1.0], [30.967921, 17.575263, 1.0], [30.968153, 33.026352, 1.0], [30.968777, 31.170673, 9.0], [30.974198, 33.032319, 1.0], [30.976266, 41.018741, 1.0], [30.978895, 41.018, 1.0], [30.99614, 34.247173, 3.0], [31.005716, 17.466297, 1.0], [31.006923, 33.871746, 2.0], [31.015075, 47.429624, 1.0], [31.015833, 47.430556, 3.0], [31.016779, 33.008587, 10.0], [31.019476, 34.590935, 1.0], [31.021564, 31.394668, 1.0], [31.02314, 31.646348, 1.0], [31.027081, 28.43569, 1.0], [31.029024, 28.446384, 1.0], [31.034108, 33.490963, 1.0], [31.038039, 31.382121, 1.0], [31.03845, 61.496181, 1.0], [31.039105, 15.681658, 1.0], [31.039309, 31.379664, 1.0], [31.041021, 31.377196, 1.0], [31.041796, 31.358445, 1.0], [31.042457, 30.47275, 3.0], [31.042644, 30.472794, 1.0], [31.04359, 31.33423, 1.0], [31.044371, 46.261452, 46.0], [31.046051, 34.851612, 1.0], [31.05, 46.266667, 1.0], [31.050078, 33.408322, 1.0], [31.052045, 34.005281, 1.0], [31.05238, 16.661961, 12.0], [31.05397, 17.284967, 17.0], [31.061518, 33.827231, 1.0], [31.062082, 33.812483, 1.0], [31.0643, 33.808595, 1.0], [31.066526, 33.850052, 1.0], [31.068958, 16.316759, 1.0], [31.069604, 33.532727, 1.0], [31.070501, 35.030529, 4.0], [31.071688, 47.608913, 1.0], [31.072804, 33.835403, 1.0], [31.073358, 33.472405, 1.0], [31.07807, 33.836369, 1.0], [31.078089, 33.834471, 1.0], [31.078092, 33.836074, 1.0], [31.078333, 34.131668, 1.0], [31.080795, 33.638188, 2.0], [31.082872, 34.146267, 17.0], [31.083202, 31.491318, 2.0], [31.085764, 33.801481, 1.0], [31.087681, 33.83708, 2.0], [31.08794, 33.837488, 1.0], [31.091713, 31.488465, 1.0], [31.095022, 33.660885, 2.0], [31.097014, 30.311429, 1.0], [31.098334, 34.749311, 1.0], [31.099057, 33.812419, 2.0], [31.100028, 33.823922, 1.0], [31.103965, 33.901494, 1.0], [31.104073, 33.81304, 1.0], [31.104229, 46.362469, 3.0], [31.104444, 33.841528, 1.0], [31.104548, 46.362265, 1.0], [31.105773, 29.764839, 1.0], [31.10632, 30.941975, 1.0], [31.106367, 30.942002, 1.0], [31.106431, 33.800421, 1.0], [31.110285, 33.932247, 3.0], [31.111961, 30.942169, 3.0], [31.113592, 45.883691, 1.0], [31.114107, 33.907003, 1.0], [31.116554, 33.72472, 9.0], [31.117753, 34.080634, 1.0], [31.125883, 33.820059, 1.0], [31.126646, 33.800865, 513.0], [31.126944, 34.008056, 1.0], [31.127887, 34.163253, 1.0], [31.1279, 34.161843, 2.0], [31.13012, 29.77837, 1.0], [31.131111, 30.13, 1.0], [31.13169, 33.803276, 1.0], [31.131726, 33.855743, 1.0], [31.13194, 33.803232, 1.0], [31.132093, 33.803276, 7.0], [31.135535, 45.861207, 1.0], [31.138931, 17.046944, 14.0], [31.144444, 33.883611, 1.0], [31.145676, 33.880152, 1.0], [31.146263, 33.851883, 1.0], [31.148611, 34.241389, 2.0], [31.1489, 34.227465, 1.0], [31.149084, 33.903081, 1.0], [31.150532, 34.003844, 2.0], [31.152665, 34.022213, 1.0], [31.156389, 34.164167, 1.0], [31.1566, 34.1643, 1.0], [31.156792, 34.123059, 1.0], [31.163713, 33.955925, 9.0], [31.164289, 16.887761, 1.0], [31.164414, 33.964448, 1.0], [31.16754, 16.571126, 1.0], [31.167804, 44.368659, 1.0], [31.167936, 29.876452, 1.0], [31.169537, 34.006209, 1.0], [31.16983, 34.087421, 6.0], [31.172222, 34.196667, 2.0], [31.172319, 34.196793, 1.0], [31.172832, 34.222353, 1.0], [31.173071, 34.219944, 5.0], [31.17308, 34.136125, 1.0], [31.174071, 34.14131, 1.0], [31.174142, 33.96743, 1.0], [31.175401, 33.985587, 1.0], [31.180054, 16.553028, 1.0], [31.182045, 35.733574, 2.0], [31.182648, 30.525031, 1.0], [31.186066, 34.008556, 4.0], [31.186549, 16.583452, 1.0], [31.189301, 34.319347, 1.0], [31.189689, 16.570193, 2.0], [31.191312, 34.122179, 1.0], [31.191658, 34.054656, 1.0], [31.191675, 29.913424, 1.0], [31.191767, 34.040887, 1.0], [31.192114, 34.449473, 25.0], [31.193704, 29.917103, 1.0], [31.193954, 29.897987, 1.0], [31.196338, 34.067523, 1.0], [31.197348, 29.892957, 1.0], [31.197586, 16.586681, 175.0], [31.198056, 29.919167, 3.0], [31.19829, 29.899403, 1.0], [31.198561, 45.539242, 1.0], [31.19931, 34.839939, 1.0], [31.199595, 29.918559, 1.0], [31.199787, 29.91838, 1.0], [31.199901, 29.918739, 1.0], [31.2, 16.6, 1.0], [31.200016, 29.918828, 5.0], [31.200092, 29.918649, 5.0], [31.200092, 29.918739, 9.0], [31.200244, 16.574795, 3.0], [31.200335, 16.584611, 1.0], [31.201445, 34.080503, 1.0], [31.201967, 29.917284, 1.0], [31.202322, 34.464182, 1.0], [31.202345, 46.216352, 1.0], [31.202661, 34.466578, 1.0], [31.203173, 16.643446, 1.0], [31.203815, 16.531797, 1.0], [31.204293, 34.465897, 1.0], [31.204451, 16.585548, 1.0], [31.204881, 16.589452, 1.0], [31.204947, 34.465511, 1.0], [31.205159, 16.589121, 1.0], [31.205314, 16.588936, 2.0], [31.205791, 34.463728, 1.0], [31.205826, 34.462316, 1.0], [31.206242, 34.464335, 3.0], [31.206487, 34.068428, 1.0], [31.206525, 34.46519, 1.0], [31.20666, 34.46471, 1.0], [31.206808, 34.464185, 11.0], [31.206854, 16.546669, 1.0], [31.206961, 16.547762, 1.0], [31.207376, 34.082742, 1.0], [31.20772, 34.465326, 1.0], [31.207882, 34.068871, 4.0], [31.20798, 34.464449, 1.0], [31.20811, 34.464627, 1.0], [31.208759, 34.119579, 1.0], [31.208984, 16.587782, 1.0], [31.210685, 34.123383, 1.0], [31.210951, 29.946908, 2.0], [31.211297, 34.110022, 1.0], [31.211392, 15.494519, 1.0], [31.211645, 34.110425, 10.0], [31.211758, 34.109856, 1.0], [31.211786, 34.151035, 9.0], [31.211882, 34.124159, 1.0], [31.212225, 34.117065, 249.0], [31.213445, 34.12108, 1.0], [31.213676, 16.39732, 1.0], [31.213976, 34.17469, 1.0], [31.214772, 34.47893, 3.0], [31.215477, 16.285267, 1.0], [31.218267, 34.482787, 4.0], [31.218889, 34.183889, 1.0], [31.223425, 34.201193, 1.0], [31.223664, 29.941569, 1.0], [31.224418, 34.270414, 1.0], [31.224911, 34.270959, 1.0], [31.225078, 34.271231, 2.0], [31.228216, 34.23045, 2.0], [31.229699, 35.092813, 1.0], [31.229982, 34.228489, 1.0], [31.231411, 34.280243, 1.0], [31.23185, 34.240071, 1.0], [31.232155, 16.210763, 1.0], [31.235262, 34.280579, 1.0], [31.238023, 29.999354, 2.0], [31.238398, 29.967003, 1.0], [31.241078, 32.240958, 1.0], [31.2414, 34.194079, 1.0], [31.244561, 34.251727, 1.0], [31.246389, 34.276111, 2.0], [31.248222, 29.9748, 1.0], [31.248484, 34.787853, 31.0], [31.248595, 36.049142, 1.0], [31.250196, 34.24128, 194.0], [31.250535, 34.796031, 1.0], [31.250535, 34.796032, 1.0], [31.250535, 34.796033, 6.0], [31.250535, 34.796034, 1.0], [31.250535, 34.796035, 1.0], [31.250535, 34.796036, 1.0], [31.250535, 34.796037, 1.0], [31.250833, 34.175, 1.0], [31.252973, 34.791462, 1.0], [31.253554, 34.231465, 1.0], [31.255534, 29.9832, 1.0], [31.256169, 34.311722, 1.0], [31.256177, 34.317651, 1.0], [31.256876, 34.316767, 1.0], [31.260081, 34.324945, 1.0], [31.262022, 35.214586, 1.0], [31.262409, 34.321238, 2.0], [31.263388, 32.264418, 1.0], [31.265289, 32.301866, 7.0], [31.266208, 32.304858, 1.0], [31.267161, 32.301163, 1.0], [31.269161, 34.205718, 1.0], [31.274523, 34.233926, 1.0], [31.274655, 34.167938, 1.0], [31.27591, 34.217949, 2.0], [31.278791, 34.256435, 20.0], [31.279846, 34.168217, 1.0], [31.280267, 34.240191, 1.0], [31.281059, 34.449322, 1.0], [31.282654, 30.016884, 2.0], [31.285506, 48.643416, 8.0], [31.288554, 34.294659, 1.0], [31.29151, 34.263803, 1.0], [31.292222, 34.29054, 2.0], [31.293074, 34.252254, 1.0], [31.294462, 34.293284, 1.0], [31.295494, 34.250122, 1.0], [31.29668, 34.243631, 1.0], [31.297746, 34.292718, 1.0], [31.297749, 34.267371, 1.0], [31.297962, 48.56809, 1.0], [31.298613, 46.241665, 1.0], [31.29877, 34.24792, 1.0], [31.299865, 34.622695, 1.0], [31.300213, 45.277092, 14.0], [31.303121, 34.431501, 1.0], [31.303146, 34.431545, 1.0], [31.303342, 34.430881, 1.0], [31.303535, 30.0603, 1.0], [31.303614, 30.057511, 1.0], [31.303745, 34.285354, 1.0], [31.307638, 34.290001, 2.0], [31.307755, 34.490354, 1.0], [31.308194, 34.287996, 1.0], [31.310932, 34.402058, 6.0], [31.312067, 34.621792, 6.0], [31.315449, 34.229751, 5.0], [31.318327, 48.670619, 2.0], [31.319424, 34.277355, 1.0], [31.320446, 34.34573, 1.0], [31.321389, 34.251111, 1.0], [31.32609, 34.296074, 1.0], [31.327331, 34.364952, 1.0], [31.329815, 31.700946, 1.0], [31.332063, 41.44449, 1.0], [31.332243, 34.240841, 1.0], [31.333458, 34.266703, 1.0], [31.335899, 27.248632, 2.0], [31.337901, 34.274766, 1.0], [31.338371, 34.651915, 2.0], [31.338584, 34.349263, 1.0], [31.343994, 34.277683, 1.0], [31.345937, 34.361112, 1.0], [31.346964, 34.30143, 24.0], [31.348022, 34.491093, 39.0], [31.349244, 34.36038, 1.0], [31.353588, 34.323539, 1.0], [31.354601, 34.325991, 1.0], [31.354676, 34.308826, 3.0], [31.355579, 34.274364, 23.0], [31.356069, 34.328243, 1.0], [31.356382, 34.328607, 1.0], [31.356383, 34.328607, 1.0], [31.356455, 34.327355, 1.0], [31.356467, 34.327204, 1.0], [31.356476, 34.326068, 1.0], [31.356544, 34.325722, 1.0], [31.356557, 34.327033, 1.0], [31.356581, 34.326558, 6.0], [31.356586, 34.327339, 2.0], [31.357022, 34.326947, 3.0], [31.357597, 34.327379, 1.0], [31.35769, 34.328012, 2.0], [31.360265, 34.328958, 1.0], [31.362279, 34.362453, 1.0], [31.363882, 14.243301, 1.0], [31.365506, 34.334652, 1.0], [31.366664, 34.316674, 1.0], [31.366959, 34.316491, 2.0], [31.366962, 34.318109, 1.0], [31.371314, 34.335304, 1.0], [31.374567, 34.95705, 1.0], [31.374899, 34.398018, 16.0], [31.375046, 34.370024, 1.0], [31.376445, 34.369413, 3.0], [31.385317, 34.459335, 2.0], [31.385633, 34.373045, 1.0], [31.387446, 34.376728, 1.0], [31.387641, 31.678848, 1.0], [31.387693, 34.755146, 1.0], [31.392495, 41.460836, 2.0], [31.393674, 34.580231, 1.0], [31.393858, 34.360271, 1.0], [31.395836, 15.724736, 1.0], [31.39708, 34.555231, 3.0], [31.400744, 30.417069, 1.0], [31.400907, 34.35377, 2.0], [31.401389, 34.36, 2.0], [31.401486, 34.360052, 2.0], [31.401497, 34.359959, 1.0], [31.403091, 34.369053, 7.0], [31.403616, 34.35907, 1.0], [31.409824, 46.176178, 1.0], [31.410742, 34.346056, 1.0], [31.412511, 34.352024, 12.0], [31.413155, 34.641744, 2.0], [31.414053, 34.541946, 1.0], [31.414192, 34.541819, 2.0], [31.414448, 34.541762, 2.0], [31.415948, 34.365873, 1.0], [31.416304, 34.54327, 1.0], [31.41667, 34.33333, 1.0], [31.416771, 34.395165, 1.0], [31.416945, 34.351053, 1.0], [31.417206, 34.350892, 1.0], [31.417269, 34.350971, 1.0], [31.417321, 34.544657, 1.0], [31.417389, 34.350968, 1.0], [31.417539, 31.814443, 8.0], [31.417633, 34.350857, 1.0], [31.417651, 31.814312, 1.0], [31.418982, 34.607343, 8.0], [31.42029, 34.363958, 1.0], [31.420449, 31.799317, 1.0], [31.420467, 34.596879, 1.0], [31.421941, 34.385282, 1.0], [31.423022, 34.59711, 2.0], [31.423196, 34.595254, 6.0], [31.423198, 34.595254, 1.0], [31.423408, 34.594432, 1.0], [31.423724, 34.595442, 1.0], [31.424962, 34.593798, 4.0], [31.425209, 34.594326, 1.0], [31.427173, 34.376977, 1.0], [31.428898, 22.469463, 1.0], [31.428993, 34.460874, 1.0], [31.4315, 34.37374, 1.0], [31.433735, 34.388235, 1.0], [31.435217, 34.43649, 1.0], [31.438267, 34.402584, 3.0], [31.438812, 35.028163, 1.0], [31.438846, 35.028185, 1.0], [31.439873, 35.028966, 1.0], [31.441411, 31.536797, 1.0], [31.442578, 35.028573, 1.0], [31.444601, 35.091068, 3.0], [31.445328, 34.66842, 1.0], [31.445839, 12.989232, 3.0], [31.448914, 15.256008, 17.0], [31.449967, 34.392909, 2.0], [31.450085, 34.392877, 1.0], [31.450108, 34.392876, 1.0], [31.453035, 34.465514, 3.0], [31.461652, 34.413169, 1.0], [31.470322, 34.53545, 2.0], [31.472609, 34.497696, 10.0], [31.47268, 34.497675, 1.0], [31.476205, 34.553451, 2.0], [31.481277, 34.484451, 1.0], [31.482222, 35.0175, 1.0], [31.484053, 34.533436, 9.0], [31.491624, 46.375837, 1.0], [31.492863, 34.983321, 1.0], [31.493077, 34.983347, 1.0], [31.50127, 34.558428, 1.0], [31.502243, 34.466408, 1.0], [31.502407, 34.459743, 157.0], [31.503223, 34.632673, 1.0], [31.506441, 34.621699, 1.0], [31.50672, 34.632793, 13.0], [31.506981, 34.718904, 3.0], [31.507192, 34.634099, 1.0], [31.507726, 34.630337, 3.0], [31.510197, 34.61757, 2.0], [31.515226, 14.757057, 1.0], [31.518476, 35.162792, 2.0], [31.518614, 34.568104, 1.0], [31.519366, 34.599028, 1.0], [31.52176, 34.606106, 1.0], [31.522248, 34.597309, 2.0], [31.522561, 34.453593, 3.0], [31.522706, 34.555793, 1.0], [31.525155, 45.20232, 1.0], [31.526429, 45.204856, 1.0], [31.527423, 34.594996, 1.0], [31.5282, 34.596382, 148.0], [31.528323, 22.488488, 1.0], [31.529283, 35.115543, 1.0], [31.529326, 35.115625, 3.0], [31.529421, 35.115659, 1.0], [31.529734, 35.118225, 10.0], [31.530243, 35.094162, 80.0], [31.532587, 35.099625, 1.0], [31.53619, 34.539574, 11.0], [31.537834, 34.489532, 8.0], [31.544588, 34.842592, 1.0], [31.551514, 34.517419, 2.0], [31.552267, 35.017622, 1.0], [31.552428, 34.577011, 1.0], [31.552748, 34.508943, 1.0], [31.55302, 34.506348, 7.0], [31.556789, 34.538903, 1.0], [31.556845, 34.536339, 1.0], [31.557332, 34.979219, 1.0], [31.557578, 34.542934, 2.0], [31.558212, 34.543305, 10.0], [31.559425, 20.521546, 1.0], [31.562486, 34.530832, 3.0], [31.564107, 34.499499, 1.0], [31.564108, 35.126919, 4.0], [31.566133, 35.129595, 2.0], [31.566698, 34.990713, 1.0], [31.567295, 35.119256, 1.0], [31.573713, 34.489043, 5.0], [31.57578, 34.507479, 1.0], [31.577206, 34.527009, 1.0], [31.578413, 35.102066, 8.0], [31.580563, 15.542034, 1.0], [31.582085, 35.14642, 1.0], [31.583506, 34.502314, 1.0], [31.583585, 34.502604, 2.0], [31.584056, 34.503468, 1.0], [31.605568, 34.77177, 7.0], [31.608978, 35.099361, 4.0], [31.617778, -2.204722, 1.0], [31.621017, 35.138527, 3.0], [31.621211, 34.620359, 1.0], [31.621438, 34.61927, 4.0], [31.621589, 35.155041, 1.0], [31.621636, 35.154903, 1.0], [31.622304, 34.548407, 1.0], [31.622486, 34.553556, 1.0], [31.626705, 35.104969, 7.0], [31.633333, -8.0, 1.0], [31.634349, 34.555184, 2.0], [31.63661, 14.67643, 1.0], [31.640932, 35.143139, 1.0], [31.640942, 35.143139, 1.0], [31.640992, 35.143089, 1.0], [31.643549, 35.216297, 3.0], [31.645331, 35.244064, 1.0], [31.646102, 35.132118, 1.0], [31.646119, 35.132209, 1.0], [31.646125, 35.132181, 5.0], [31.646404, 35.13175, 1.0], [31.646569, 35.132192, 1.0], [31.646928, 35.131897, 2.0], [31.647329, 35.132364, 3.0], [31.647818, 35.131937, 1.0], [31.647985, 35.132149, 1.0], [31.649395, 35.11554, 1.0], [31.650626, 35.138346, 1.0], [31.6528, 35.229584, 7.0], [31.653589, 35.149934, 2.0], [31.653707, 35.149941, 3.0], [31.653765, 35.149654, 1.0], [31.654064, 35.125057, 8.0], [31.656774, 35.025652, 1.0], [31.657751, 35.101088, 1.0], [31.660066, 35.281932, 1.0], [31.664415, 14.654513, 1.0], [31.669186, 20.249641, 2.0], [31.669316, 34.570802, 5.0], [31.670149, 34.575153, 87.0], [31.670221, 34.576403, 1.0], [31.670529, 47.629813, 1.0], [31.672324, 35.237547, 1.0], [31.67546, 34.595312, 1.0], [31.67832, 35.143993, 4.0], [31.678761, 35.101288, 1.0], [31.685863, 35.121067, 3.0], [31.692923, 35.171749, 3.0], [31.695183, 35.114476, 5.0], [31.697046, 44.47716, 1.0], [31.70076, 35.112395, 1.0], [31.701002, 35.111925, 1.0], [31.701906, 35.22699, 3.0], [31.704338, 35.194355, 10.0], [31.705496, 35.169305, 1.0], [31.706881, 35.103825, 1.0], [31.708426, 35.133425, 1.0], [31.708439, 35.133436, 1.0], [31.713972, 34.649862, 8.0], [31.716644, 35.185665, 2.0], [31.717768, 35.200878, 1.0], [31.71817, 35.200464, 1.0], [31.719209, 35.201995, 1.0], [31.719308, 35.202004, 5.0], [31.71932, 35.202078, 1.0], [31.71951, 35.097483, 1.0], [31.719515, 35.202492, 1.0], [31.719814, 35.202375, 1.0], [31.722408, 35.169991, 1.0], [31.732119, 34.745651, 6.0], [31.737127, 34.72557, 3.0], [31.737312, 14.279443, 1.0], [31.741533, 34.988609, 3.0], [31.741956, 35.280563, 1.0], [31.752651, 34.712606, 1.0], [31.754255, 14.007956, 10.0], [31.7625, 35.265833, 1.0], [31.763582, 35.257722, 4.0], [31.76397, 35.25833, 1.0], [31.766347, 46.066036, 1.0], [31.76904, 35.271513, 1.0], [31.771599, 35.2034, 86.0], [31.77347, 35.298908, 8.0], [31.774722, 35.177778, 1.0], [31.77765, 35.23451, 1.0], [31.783136, 34.673102, 1.0], [31.783343, 35.266543, 1.0], [31.784838, 35.224613, 137.0], [31.784935, 49.218457, 1.0], [31.786405, 35.431532, 1.0], [31.788433, 34.791868, 1.0], [31.788639, 34.706757, 4.0], [31.793409, 44.983864, 1.0], [31.794243, 35.037788, 1.0], [31.796295, 36.211077, 1.0], [31.802069, 35.203125, 3.0], [31.811619, 34.78194, 1.0], [31.820538, 22.526968, 1.0], [31.821444, 34.665169, 39.0], [31.824501, 35.12966, 1.0], [31.825219, 35.129709, 1.0], [31.827216, 35.337189, 2.0], [31.82863, 44.436588, 1.0], [31.829455, 35.206107, 1.0], [31.832068, 35.296764, 1.0], [31.832264, 35.068523, 1.0], [31.833081, 35.296701, 1.0], [31.833256, 34.980827, 1.0], [31.833948, 15.039731, 1.0], [31.834286, 35.264009, 1.0], [31.845007, 35.235069, 1.0], [31.846124, 12.229722, 2.0], [31.848217, 47.145203, 23.0], [31.848341, 35.159382, 1.0], [31.849266, 35.276436, 2.0], [31.853195, 35.231167, 1.0], [31.853462, 22.534731, 5.0], [31.853918, 35.263051, 1.0], [31.855701, 35.166883, 1.0], [31.858971, 20.197524, 1.0], [31.859308, 35.131187, 1.0], [31.861471, 35.208427, 12.0], [31.862497, 35.46188, 5.0], [31.863092, 35.171032, 2.0], [31.865575, 35.261645, 1.0], [31.866026, 35.261985, 1.0], [31.872541, 35.178392, 1.0], [31.873198, 34.978411, 1.0], [31.8734, 47.136212, 2.0], [31.876497, 35.12522, 1.0], [31.8768, 23.921495, 1.0], [31.877429, 34.739142, 1.0], [31.877921, 34.739406, 1.0], [31.879218, 35.305983, 1.0], [31.879593, 35.124182, 1.0], [31.879929, 35.124097, 1.0], [31.879985, 35.12407, 1.0], [31.880152, 35.242773, 1.0], [31.880745, 20.303225, 1.0], [31.883075, 35.209649, 1.0], [31.884621, 44.48912, 1.0], [31.888201, 47.189812, 1.0], [31.889393, 34.809902, 3.0], [31.892497, 35.034202, 2.0], [31.892889, 35.944367, 1.0], [31.895101, 35.047814, 1.0], [31.895181, 35.083874, 1.0], [31.898909, 35.009003, 3.0], [31.900337, 35.22467, 4.0], [31.907141, 35.198219, 33.0], [31.908527, 35.325218, 1.0], [31.909247, 35.141358, 1.0], [31.91137, 45.962477, 1.0], [31.914264, 35.934998, 2.0], [31.91525, 35.232414, 1.0], [31.917246, 35.218594, 4.0], [31.918643, 22.429146, 1.0], [31.918644, 22.429146, 1.0], [31.918831, 22.599217, 1.0], [31.91914, -1.83848, 1.0], [31.919359, 22.398436, 1.0], [31.926022, 41.254482, 1.0], [31.92605, 35.146698, 1.0], [31.926798, 35.13261, 3.0], [31.927389, 12.251627, 10.0], [31.927683, 34.797672, 1.0], [31.928793, 34.866657, 1.0], [31.93246, 35.042391, 1.0], [31.932476, 35.042265, 1.0], [31.932572, 35.042252, 1.0], [31.935197, 34.907904, 1.0], [31.935387, 35.340437, 1.0], [31.939269, 34.922289, 2.0], [31.939577, 35.132549, 2.0], [31.940341, 22.63143, 1.0], [31.941439, 35.222393, 1.0], [31.941506, 35.222862, 1.0], [31.9416, 35.222377, 1.0], [31.9416, 35.222734, 5.0], [31.941632, 35.222596, 1.0], [31.94169, 35.22282, 1.0], [31.941861, 35.222767, 1.0], [31.942694, 35.103905, 1.0], [31.942817, 35.257178, 1.0], [31.943613, 35.222482, 1.0], [31.944417, 35.222758, 1.0], [31.944488, 20.025588, 1.0], [31.945363, 35.92839, 1.0], [31.945367, 35.928372, 1.0], [31.945864, 40.452624, 1.0], [31.94657, 35.302723, 2.0], [31.947501, 35.273924, 1.0], [31.947501, 45.021544, 1.0], [31.947545, 20.019994, 1.0], [31.949293, 35.212838, 1.0], [31.949799, 35.892506, 1.0], [31.950001, 35.933331, 11.0], [31.951312, 35.469022, 1.0], [31.951466, 34.887821, 1.0], [31.951612, 35.212517, 1.0], [31.952739, 35.212014, 1.0], [31.953324, 35.249867, 1.0], [31.95505, 35.260152, 1.0], [31.955101, 35.260324, 8.0], [31.955103, 35.260349, 1.0], [31.955556, 35.260278, 1.0], [31.958127, 34.843658, 1.0], [31.958247, 35.2603, 1.0], [31.95873, 5.346378, 1.0], [31.959954, 35.348933, 1.0], [31.960264, 35.349421, 2.0], [31.96298, 5.342011, 1.0], [31.963415, 35.04727, 1.0], [31.963959, 20.092233, 1.0], [31.970541, 34.791725, 6.0], [31.973439, 35.140341, 1.0], [31.973542, 35.140431, 1.0], [31.975353, 35.196208, 1.0], [31.975836, 35.038299, 1.0], [31.977092, 35.115483, 2.0], [31.978195, 22.518263, 1.0], [31.9793, 35.261948, 4.0], [31.985735, 35.280294, 1.0], [31.985793, 35.280136, 1.0], [31.985995, 35.279134, 2.0], [31.986149, 35.281401, 1.0], [31.986836, 35.279933, 1.0], [31.987783, 14.57524, 1.0], [31.98845, 35.335755, 1.0], [31.98958, 44.923775, 47.0], [31.990204, 44.924595, 1.0], [31.992317, 12.331853, 1.0], [31.994285, 12.081556, 1.0], [31.996018, 44.31461, 1.0], [31.998373, 35.177328, 1.0], [31.999685, 44.33099, 1.0], [31.99995, 44.330197, 1.0], [32.0, 44.33, 1.0], [32.00004, 35.070422, 1.0], [32.000185, 35.444569, 1.0], [32.000385, 44.330967, 1.0], [32.00048, 44.330839, 3.0], [32.000596, 44.330818, 19.0], [32.001373, 44.332069, 1.0], [32.001671, 44.33493, 1.0], [32.002823, 35.113728, 1.0], [32.002835, 44.33733, 1.0], [32.006058, 35.125931, 6.0], [32.006588, 20.07247, 6.0], [32.008313, 35.128876, 1.0], [32.00874, 35.165757, 1.0], [32.008941, 35.164403, 1.0], [32.01352, 35.302393, 1.0], [32.016219, 35.12453, 2.0], [32.016539, 35.068807, 2.0], [32.016588, 35.068798, 1.0], [32.018225, 35.043034, 1.0], [32.018556, 44.315987, 1.0], [32.018673, 35.344147, 2.0], [32.019609, 44.353351, 1.0], [32.02856, 44.334134, 1.0], [32.032726, 35.288375, 1.0], [32.032916, 44.399648, 16.0], [32.033607, 35.263935, 1.0], [32.033627, 35.263893, 1.0], [32.033656, 35.263999, 1.0], [32.036083, 35.038277, 1.0], [32.04298, 42.254261, 10.0], [32.049988, 35.289762, 1.0], [32.054999, 44.319854, 1.0], [32.055159, 35.31045, 1.0], [32.055556, 35.289528, 1.0], [32.056972, 35.299099, 1.0], [32.059555, 35.367733, 6.0], [32.062586, 45.242835, 1.0], [32.062722, 35.474306, 1.0], [32.063988, 12.691492, 2.0], [32.065735, 44.77261, 1.0], [32.066667, 20.35, 1.0], [32.069286, 20.151144, 828.0], [32.069647, 35.247517, 1.0], [32.07138, 20.34161, 1.0], [32.072227, 35.064135, 1.0], [32.072295, 35.064118, 1.0], [32.072815, 34.851299, 1.0], [32.073238, 23.944855, 21.0], [32.074456, 45.054549, 1.0], [32.077239, 35.26567, 1.0], [32.077528, 35.843213, 1.0], [32.082523, 35.331993, 3.0], [32.08297, 34.811886, 67.0], [32.084819, 35.181019, 1.0], [32.085094, 35.180832, 3.0], [32.085138, 35.180753, 1.0], [32.089161, 34.88382, 14.0], [32.092586, 34.84881, 1.0], [32.094952, 20.268871, 23.0], [32.09775, 20.10867, 1.0], [32.09792, 34.954537, 3.0], [32.099849, 35.494431, 1.0], [32.100242, 35.166667, 4.0], [32.102407, 35.246503, 1.0], [32.104637, 35.174514, 3.0], [32.105404, 35.175553, 1.0], [32.105525, 35.175757, 1.0], [32.105557, 35.174635, 1.0], [32.10706, 35.190361, 1.0], [32.107842, 34.968416, 1.0], [32.107965, 35.186364, 1.0], [32.108051, 35.007056, 1.0], [32.108142, 35.114197, 1.0], [32.109115, 35.268124, 1.0], [32.110182, 35.105986, 1.0], [32.110361, 35.10584, 1.0], [32.111791, 35.240388, 1.0], [32.111805, 35.490255, 1.0], [32.114093, 34.972767, 1.0], [32.11427, 34.976962, 1.0], [32.114722, 44.942778, 1.0], [32.115278, 35.257222, 1.0], [32.115542, 35.25746, 1.0], [32.116041, 35.257341, 1.0], [32.116086, 12.405822, 1.0], [32.116441, 35.257262, 1.0], [32.116652, 35.257143, 1.0], [32.116667, 20.066667, 1.0], [32.119816, 35.249802, 13.0], [32.120568, 35.027207, 1.0], [32.125412, 35.346478, 2.0], [32.125639, 35.310226, 1.0], [32.128942, 35.046516, 1.0], [32.130762, 35.140136, 2.0], [32.13467, 35.252957, 1.0], [32.136225, 44.932346, 2.0], [32.142296, 35.286388, 2.0], [32.144008, 37.572764, 1.0], [32.146027, 35.242875, 1.0], [32.146307, 35.244238, 1.0], [32.149831, 35.114631, 1.0], [32.154514, 35.258553, 18.0], [32.157597, 35.226288, 1.0], [32.160595, 22.283691, 2.0], [32.161864, 35.137217, 4.0], [32.164189, 35.423615, 1.0], [32.165406, 35.069744, 2.0], [32.165966, 13.016418, 5.0], [32.16616, 39.351804, 1.0], [32.168663, 35.236202, 3.0], [32.170631, 35.014858, 2.0], [32.171631, 35.097438, 1.0], [32.171833, 35.309437, 5.0], [32.172474, 35.097497, 1.0], [32.174307, 35.529958, 1.0], [32.175456, 35.336484, 1.0], [32.175476, 35.336456, 1.0], [32.175531, 35.336322, 1.0], [32.177101, 35.055957, 1.0], [32.177105, 35.056033, 1.0], [32.177162, 35.055881, 4.0], [32.178006, 35.273507, 1.0], [32.178344, 34.907985, 5.0], [32.181371, 34.870903, 2.0], [32.184659, 35.249229, 3.0], [32.184819, 35.016063, 1.0], [32.185059, 35.538986, 1.0], [32.185109, 35.01596, 1.0], [32.18665, 34.872788, 1.0], [32.187722, 34.868539, 1.0], [32.188774, 34.971682, 1.0], [32.188798, 34.971628, 1.0], [32.188809, 34.971725, 1.0], [32.188833, 34.971762, 1.0], [32.189083, 34.971905, 1.0], [32.18916, 35.255672, 1.0], [32.189283, 34.971503, 1.0], [32.189444, 34.970556, 2.0], [32.189719, 35.166692, 1.0], [32.190056, 20.596338, 2.0], [32.191098, 35.264674, 1.0], [32.193264, 35.264885, 1.0], [32.193339, 35.264836, 1.0], [32.196015, 34.981513, 2.0], [32.196077, 34.981465, 1.0], [32.196144, 34.981523, 1.0], [32.196187, 34.981488, 1.0], [32.196399, 34.981526, 1.0], [32.197318, 35.008912, 1.0], [32.199489, 35.437779, 2.0], [32.200053, 35.034019, 1.0], [32.201856, 34.824723, 1.0], [32.20306, 35.264153, 1.0], [32.203339, 20.170181, 5.0], [32.20411, 35.104284, 1.0], [32.209444, 35.191389, 1.0], [32.210541, 35.332098, 1.0], [32.210769, 34.88901, 1.0], [32.210992, 35.158162, 1.0], [32.21245, 35.157702, 1.0], [32.212865, 35.157424, 1.0], [32.213105, 35.157601, 1.0], [32.213184, 35.170689, 1.0], [32.213552, 35.157375, 1.0], [32.213566, 35.157384, 1.0], [32.21645, 35.158406, 1.0], [32.216674, 35.17679, 1.0], [32.220155, 35.340496, 1.0], [32.222271, 35.253506, 64.0], [32.22504, 35.260971, 1.0], [32.225225, 35.260889, 1.0], [32.230537, 44.381573, 1.0], [32.232101, 44.381809, 1.0], [32.234013, 35.333916, 5.0], [32.235402, 34.950496, 1.0], [32.235684, 35.269783, 1.0], [32.242589, 35.051258, 1.0], [32.243008, 35.456097, 5.0], [32.244837, 13.370305, 1.0], [32.247721, 34.935137, 1.0], [32.251411, 35.269363, 1.0], [32.258216, 15.050009, 1.0], [32.261583, 35.130306, 1.0], [32.263508, 35.184429, 3.0], [32.266734, 35.010478, 1.0], [32.273945, 34.965463, 1.0], [32.280556, 44.664444, 1.0], [32.283594, 35.125198, 1.0], [32.283664, 35.125205, 1.0], [32.283705, 35.125121, 1.0], [32.28442, 35.125972, 1.0], [32.284628, 35.074551, 1.0], [32.284631, 35.074533, 1.0], [32.290964, 35.135741, 1.0], [32.294722, 44.639722, 1.0], [32.301296, 35.194061, 1.0], [32.30301, 44.686532, 1.0], [32.305285, 35.004937, 1.0], [32.307253, 35.119478, 1.0], [32.308765, 35.191964, 1.0], [32.311558, 35.030257, 1.0], [32.311927, 35.026584, 2.0], [32.311945, 35.026548, 7.0], [32.311957, 35.026635, 2.0], [32.312052, 35.026458, 5.0], [32.314434, 12.571053, 1.0], [32.316039, 10.400328, 1.0], [32.316587, 34.932562, 1.0], [32.317451, 35.348627, 1.0], [32.31863, 10.395596, 1.0], [32.321458, 34.853196, 3.0], [32.321654, 34.852499, 1.0], [32.322245, 34.853039, 1.0], [32.323564, 34.92861, 1.0], [32.324662, 35.220856, 1.0], [32.325073, 34.854663, 8.0], [32.325195, 44.918747, 4.0], [32.329052, 34.849829, 1.0], [32.330281, 34.852969, 1.0], [32.330472, 34.851429, 1.0], [32.332612, 34.851529, 1.0], [32.334903, 44.254289, 1.0], [32.336812, 45.562939, 1.0], [32.341914, 14.579009, 1.0], [32.342805, 43.326302, 1.0], [32.347222, 20.308889, 1.0], [32.351826, 35.018543, 1.0], [32.354923, 15.105525, 35.0], [32.355795, 35.245321, 1.0], [32.357399, 35.245316, 1.0], [32.360641, 44.645146, 1.0], [32.362905, 15.028344, 1.0], [32.365302, 35.516025, 1.0], [32.365329, 35.516113, 1.0], [32.365517, 44.657825, 2.0], [32.365976, 44.665562, 1.0], [32.382038, 48.405238, 1.0], [32.382111, 44.620745, 1.0], [32.383078, 48.423584, 1.0], [32.385553, 35.036145, 1.0], [32.386375, 35.480835, 1.0], [32.386571, 35.480025, 1.0], [32.392528, 14.946144, 1.0], [32.404549, 43.867322, 2.0], [32.406111, 14.836944, 1.0], [32.407892, 14.622688, 1.0], [32.409659, 35.280105, 1.0], [32.409712, 35.280288, 1.0], [32.410085, 35.280149, 1.0], [32.411178, 35.071137, 1.0], [32.411216, 35.071053, 1.0], [32.416936, 14.813014, 1.0], [32.419325, 45.651986, 2.0], [32.420772, 35.173869, 1.0], [32.420785, 35.1742, 1.0], [32.420807, 35.173835, 1.0], [32.42202, 20.451099, 2.0], [32.422877, 35.302723, 1.0], [32.422891, 35.035764, 1.0], [32.423466, 36.623699, 1.0], [32.423605, 35.302923, 1.0], [32.423755, 35.11895, 1.0], [32.424376, 35.119051, 1.0], [32.430833, 47.171389, 1.0], [32.431385, 13.638332, 8.0], [32.434788, 34.92157, 9.0], [32.440186, 35.047702, 1.0], [32.441178, 35.484694, 1.0], [32.442482, 35.496686, 1.0], [32.446534, 35.168913, 1.0], [32.446537, 35.170425, 1.0], [32.450542, 43.857985, 1.0], [32.451717, 35.423474, 1.0], [32.453036, 34.949297, 1.0], [32.456143, 35.261709, 1.0], [32.460617, 35.301247, 23.0], [32.460862, 44.679825, 1.0], [32.466667, 46.133333, 1.0], [32.468191, 44.550193, 2.0], [32.468191, 44.550194, 19.0], [32.468399, 14.567225, 5.0], [32.469238, 44.416637, 141.0], [32.472147, 43.516361, 1.0], [32.473605, 34.975094, 2.0], [32.47377, 35.168458, 1.0], [32.473811, 35.168487, 1.0], [32.474434, 35.03046, 1.0], [32.477329, 44.551878, 1.0], [32.478395, 35.253719, 1.0], [32.484198, 35.343315, 1.0], [32.484409, 36.573143, 1.0], [32.486597, 44.548645, 1.0], [32.486667, 20.833889, 1.0], [32.48769, 20.831459, 1.0], [32.488056, 35.101944, 1.0], [32.488988, 3.678761, 1.0], [32.492146, 36.712543, 1.0], [32.492461, 35.052817, 1.0], [32.493507, 45.967051, 1.0], [32.495333, 35.325147, 1.0], [32.49553, 11.911736, 1.0], [32.496086, 35.498352, 4.0], [32.503611, 44.313056, 1.0], [32.505175, 35.077434, 1.0], [32.505556, 45.824722, 2.0], [32.507793, 35.306336, 1.0], [32.507984, 35.314251, 6.0], [32.509489, 41.644865, 1.0], [32.509904, 35.307883, 1.0], [32.512468, 44.659809, 1.0], [32.513837, 45.320914, 1.0], [32.517705, 41.920399, 1.0], [32.517818, 36.477322, 2.0], [32.519469, 34.949398, 1.0], [32.52021, 35.151958, 4.0], [32.520252, 35.220344, 1.0], [32.52081, 47.377166, 2.0], [32.521721, 11.916862, 1.0], [32.523575, 14.414111, 1.0], [32.526892, 35.208114, 1.0], [32.526944, 44.343889, 1.0], [32.529121, 13.219323, 1.0], [32.529674, 41.022517, 1.0], [32.529945, 13.025373, 3.0], [32.531145, 44.411396, 1.0], [32.533287, 45.829453, 62.0], [32.537552, 41.921997, 1.0], [32.539491, 12.529803, 2.0], [32.539668, 44.415685, 1.0], [32.539722, 44.414722, 2.0], [32.54286, 44.251455, 1.0], [32.543671, 35.223995, 1.0], [32.543715, 35.201409, 1.0], [32.544167, 44.219722, 1.0], [32.544442, 45.40746, 1.0], [32.544446, 12.691688, 1.0], [32.544931, 45.82271, 1.0], [32.544945, 36.195877, 2.0], [32.545592, 41.91939, 1.0], [32.547038, 12.938077, 1.0], [32.54737, 12.938059, 1.0], [32.548042, 41.919794, 21.0], [32.54855, 44.545441, 1.0], [32.5487, 45.416861, 1.0], [32.556074, 41.922112, 1.0], [32.556074, 41.92852, 1.0], [32.558612, 41.923092, 1.0], [32.559761, 41.919646, 1.0], [32.559761, 41.919647, 50.0], [32.559762, 41.919647, 11.0], [32.559835, 41.919696, 1.0], [32.561111, 13.253611, 1.0], [32.565084, 43.490958, 1.0], [32.565357, 35.565978, 1.0], [32.566667, 43.488056, 1.0], [32.568071, 36.009908, 1.0], [32.568502, 41.918785, 1.0], [32.568711, 35.827996, 1.0], [32.568889, 36.315278, 1.0], [32.571232, 34.951382, 2.0], [32.574866, 13.907141, 1.0], [32.575399, 36.048904, 1.0], [32.576876, 41.899174, 1.0], [32.579693, 36.576346, 1.0], [32.581387, 35.182465, 1.0], [32.583633, 14.036315, 1.0], [32.583849, 44.559631, 2.0], [32.584015, 22.76812, 2.0], [32.598736, 44.010626, 1.0], [32.601574, 13.520848, 1.0], [32.602409, 45.752098, 5.0], [32.602409, 45.752099, 1.0], [32.604025, 13.033539, 1.0], [32.604393, 44.007145, 124.0], [32.608879, 35.289967, 7.0], [32.609885, 35.290105, 1.0], [32.614261, 44.024993, 1.0], [32.616667, 44.55, 1.0], [32.621449, 44.025249, 1.0], [32.622334, 36.103756, 22.0], [32.622827, 12.369284, 1.0], [32.6245, 36.105221, 1.0], [32.625335, 44.025134, 1.0], [32.627695, 44.041367, 1.0], [32.630986, 35.349399, 1.0], [32.634992, 51.363212, 1.0], [32.638292, 45.201259, 1.0], [32.640802, 13.266348, 2.0], [32.640953, 44.618975, 1.0], [32.645926, 44.617051, 2.0], [32.646988, 14.260969, 7.0], [32.64915, 44.408735, 1.0], [32.652032, 44.625464, 4.0], [32.654751, 44.408989, 21.0], [32.654962, 51.668243, 1.0], [32.655756, 44.556669, 1.0], [32.658433, 44.615008, 1.0], [32.665246, 13.152509, 1.0], [32.666667, 44.583333, 1.0], [32.670351, 13.145826, 1.0], [32.67096, 13.142871, 1.0], [32.674366, 36.056892, 1.0], [32.675971, 22.600097, 1.0], [32.677233, 13.14416, 1.0], [32.677811, 35.24175, 2.0], [32.677952, 44.647629, 1.0], [32.680996, 44.282348, 1.0], [32.684536, 35.274509, 1.0], [32.686047, 41.081328, 1.0], [32.687344, 44.509415, 1.0], [32.68952, 44.417816, 1.0], [32.690019, 44.021819, 1.0], [32.691023, 35.975798, 1.0], [32.692555, 44.480467, 1.0], [32.693796, 35.055447, 1.0], [32.694332, 35.476697, 1.0], [32.696985, 36.398428, 1.0], [32.697177, 44.48596, 1.0], [32.697566, 41.458852, 2.0], [32.698885, 35.304068, 1.0], [32.698932, 35.304632, 1.0], [32.699169, 12.872308, 1.0], [32.699489, 45.751648, 1.0], [32.702274, 22.661357, 1.0], [32.706514, 36.417802, 1.0], [32.707739, 36.564823, 2.0], [32.709763, 36.567642, 4.0], [32.710699, 36.26059, 1.0], [32.711067, 36.026836, 1.0], [32.712669, 13.069796, 1.0], [32.721927, 13.232287, 1.0], [32.724444, 44.440278, 1.0], [32.737328, 22.603512, 1.0], [32.740127, 36.734833, 1.0], [32.740278, 22.644823, 1.0], [32.743379, 13.157198, 1.0], [32.743429, 39.011292, 1.0], [32.746059, 44.608257, 1.0], [32.747787, 44.611572, 2.0], [32.74815, 39.027969, 7.0], [32.748446, 44.609628, 1.0], [32.748529, 44.611562, 1.0], [32.748699, 44.614857, 1.0], [32.749005, 44.612996, 1.0], [32.750323, 41.94397, 1.0], [32.750743, 43.590208, 1.0], [32.751244, 36.304489, 1.0], [32.75194, 12.727845, 1.0], [32.751961, 22.385664, 3.0], [32.752723, 44.612936, 1.0], [32.755131, 22.637879, 1.0], [32.755269, 22.637626, 1.0], [32.755526, 12.919927, 1.0], [32.755613, 22.637743, 1.0], [32.755663, 22.637625, 1.0], [32.755688, 22.637754, 1.0], [32.755737, 12.723051, 17.0], [32.756493, 12.383292, 2.0], [32.757095, 12.573617, 1.0], [32.759562, 41.878052, 1.0], [32.760212, 45.172949, 1.0], [32.760422, 22.635265, 144.0], [32.760646, 22.636352, 1.0], [32.760742, 21.757212, 25.0], [32.761842, 40.816058, 1.0], [32.762238, 22.241188, 5.0], [32.763002, 12.747604, 1.0], [32.76371, 12.673241, 1.0], [32.76396, 12.673301, 1.0], [32.765373, 43.391655, 1.0], [32.765833, 43.390833, 1.0], [32.766214, 40.622348, 1.0], [32.766426, 43.389958, 1.0], [32.766667, 22.25, 2.0], [32.766667, 22.633333, 1.0], [32.769378, 44.300598, 1.0], [32.777105, 13.156587, 1.0], [32.777344, 44.289352, 81.0], [32.77959, 34.991175, 1.0], [32.780671, 12.449312, 1.0], [32.78094, 12.449507, 1.0], [32.782909, 22.144466, 5.0], [32.786882, 12.693405, 1.0], [32.787208, 22.412763, 2.0], [32.787509, 44.288128, 1.0], [32.78751, 44.288128, 1.0], [32.788338, 21.967283, 10.0], [32.788944, 36.349543, 1.0], [32.789396, 12.190877, 1.0], [32.791561, 12.489026, 9.0], [32.793921, 34.990615, 14.0], [32.794046, 34.989571, 1.0], [32.795677, 12.888114, 1.0], [32.797618, 13.141899, 1.0], [32.797784, 13.135768, 2.0], [32.798916, 36.781951, 1.0], [32.8, 12.9, 1.0], [32.800385, 13.157589, 1.0], [32.802937, 13.283291, 4.0], [32.803411, 13.158434, 1.0], [32.803624, 44.240832, 1.0], [32.804295, 21.868214, 4.0], [32.805236, 35.171742, 1.0], [32.805278, 44.236667, 1.0], [32.805696, 45.074665, 1.0], [32.8058, 35.851171, 1.0], [32.805833, 35.168891, 1.0], [32.806769, 13.215339, 1.0], [32.807335, 13.151223, 1.0], [32.807519, 13.14794, 1.0], [32.80821, 13.149527, 3.0], [32.808278, 44.417901, 1.0], [32.808412, 13.150967, 15.0], [32.80849, 13.150985, 19.0], [32.808546, 44.244883, 1.0], [32.808658, 13.150835, 1.0], [32.809144, 35.119773, 1.0], [32.809503, 13.139968, 8.0], [32.810168, 13.140454, 1.0], [32.811023, 35.119898, 1.0], [32.81126, 13.152026, 2.0], [32.811769, 13.151737, 7.0], [32.811787, 13.120282, 1.0], [32.813093, 13.103351, 1.0], [32.81331, 13.105086, 1.0], [32.813311, 13.104845, 4.0], [32.813421, 13.119172, 1.0], [32.816894, 13.011126, 1.0], [32.817222, 13.011111, 1.0], [32.817277, 13.011108, 1.0], [32.817287, 13.010505, 2.0], [32.819504, 44.252289, 1.0], [32.81967, 44.278909, 1.0], [32.821244, 13.17363, 3.0], [32.822895, 12.140318, 1.0], [32.823406, 44.431367, 1.0], [32.826518, 13.257229, 1.0], [32.826648, 22.16213, 1.0], [32.827778, 21.862222, 3.0], [32.831356, 13.211191, 1.0], [32.831712, 21.687634, 2.0], [32.832894, 13.174756, 1.0], [32.83333, 35.33333, 1.0], [32.834137, 36.156742, 2.0], [32.835648, 35.970169, 2.0], [32.839067, 35.080498, 1.0], [32.83926, 36.339558, 2.0], [32.840355, 44.233684, 4.0], [32.84325, 22.421034, 1.0], [32.846856, 12.229672, 1.0], [32.849154, 35.068172, 1.0], [32.849467, 35.069003, 1.0], [32.852269, 12.242451, 1.0], [32.853336, 12.058699, 1.0], [32.853922, 44.2204, 1.0], [32.857067, 13.338508, 9.0], [32.860988, 44.221344, 1.0], [32.861122, 44.506527, 1.0], [32.861749, 44.507763, 1.0], [32.861765, 44.507374, 1.0], [32.861838, 44.507578, 1.0], [32.861846, 44.507783, 1.0], [32.862574, 44.224777, 1.0], [32.8657, 44.21235, 15.0], [32.86581, 44.214286, 1.0], [32.867008, 44.220455, 53.0], [32.867294, 44.215806, 1.0], [32.867867, 13.189067, 264.0], [32.869428, 44.267043, 1.0], [32.870514, 44.29695, 1.0], [32.872169, 22.236643, 2.0], [32.873173, 35.549059, 1.0], [32.873611, 44.193611, 1.0], [32.874886, 44.281016, 1.0], [32.876421, 36.506168, 1.0], [32.879511, 44.395968, 1.0], [32.88018, 44.386963, 21.0], [32.881146, 13.18766, 1.0], [32.881848, 13.189736, 1.0], [32.883453, 35.307821, 2.0], [32.883938, 13.192019, 1.0], [32.885, 44.389167, 1.0], [32.887157, 44.341637, 101.0], [32.887189, 13.191306, 1.0], [32.887209, 13.191338, 2.0], [32.888534, 44.34812, 1.0], [32.889581, 44.347344, 1.0], [32.889677, 44.347238, 1.0], [32.88984, 35.40703, 3.0], [32.890083, 36.041847, 1.0], [32.896839, 21.965679, 2.0], [32.9, 35.33333, 1.0], [32.9, 41.6, 2.0], [32.901412, 45.077723, 1.0], [32.901872, 45.077846, 1.0], [32.90189, 45.077671, 1.0], [32.902177, 44.152694, 1.0], [32.903232, 42.466204, 1.0], [32.904772, 44.177959, 3.0], [32.906709, 44.168467, 1.0], [32.907695, 45.066404, 1.0], [32.907827, 45.086073, 1.0], [32.908383, 44.263295, 1.0], [32.90941, 45.06359, 1.0], [32.910708, 45.06299, 4.0], [32.91077, 44.151539, 1.0], [32.911181, 44.150665, 1.0], [32.911625, 44.150585, 1.0], [32.9149, 35.292006, 1.0], [32.921461, 36.236911, 1.0], [32.924881, 36.176261, 1.0], [32.92505, 44.770842, 1.0], [32.925266, 44.770956, 12.0], [32.925452, 44.773732, 1.0], [32.925666, 44.775526, 1.0], [32.925686, 12.086307, 3.0], [32.929936, 44.779564, 1.0], [32.93095, 35.083187, 2.0], [32.932407, 44.175888, 1.0], [32.932542, 10.451169, 1.0], [32.933333, 44.466667, 1.0], [32.93445, 35.268394, 1.0], [32.940799, 35.495406, 1.0], [32.944215, 35.341912, 1.0], [32.955818, 39.647278, 1.0], [32.956362, 35.165465, 1.0], [32.957351, 40.184929, 1.0], [32.961241, 44.339088, 1.0], [32.962402, 36.076488, 1.0], [32.966008, 35.592059, 1.0], [32.966179, 35.592029, 1.0], [32.966259, 35.591656, 1.0], [32.976209, 35.335794, 1.0], [32.980339, 44.463513, 1.0], [32.981558, 35.749457, 2.0], [32.981666, 35.750833, 1.0], [32.982933, 44.361595, 106.0], [32.98306, 44.83333, 1.0], [32.984659, 44.356629, 1.0], [32.984826, 44.356959, 2.0], [32.98499, 44.35676, 3.0], [32.984999, 44.356812, 1.0], [32.98634, 35.754636, 1.0], [32.98839, 44.83894, 1.0], [32.990236, 41.504631, 1.0], [32.990478, 44.841968, 2.0], [32.990785, 44.839572, 1.0], [32.990915, 44.83621, 1.0], [32.991785, 44.837585, 1.0], [32.99182, 35.68973, 1.0], [32.992722, 44.850572, 1.0], [32.998651, 35.41619, 1.0], [32.99945, 40.275021, 3.0], [33.004219, 35.092571, 10.0], [33.00583, 44.36735, 1.0], [33.005899, 39.811059, 1.0], [33.011465, 39.700424, 1.0], [33.014797, 35.275805, 2.0], [33.015246, 35.784183, 1.0], [33.015285, 35.78379, 1.0], [33.015585, 35.784183, 1.0], [33.015585, 35.784354, 1.0], [33.015959, 44.175053, 1.0], [33.018677, 44.209979, 1.0], [33.020432, 36.128204, 1.0], [33.023058, 44.447733, 1.0], [33.029837, 44.171106, 1.0], [33.032736, 43.81951, 1.0], [33.033996, 35.750091, 1.0], [33.036022, 40.288158, 43.0], [33.036027, 40.466367, 1.0], [33.036091, 40.284462, 1.0], [33.036116, 40.28564, 1.0], [33.03639, 40.283332, 36.0], [33.03639, 40.283926, 1.0], [33.036761, 40.283561, 1.0], [33.037637, 40.284139, 2.0], [33.038032, 40.284613, 1.0], [33.038056, 40.284444, 8.0], [33.038303, 40.286429, 1.0], [33.039267, 40.044459, 1.0], [33.043201, 44.641945, 7.0], [33.046868, 44.586965, 1.0], [33.04742, 44.358007, 1.0], [33.047836, 44.585146, 1.0], [33.048917, 44.257822, 1.0], [33.048944, 44.257763, 2.0], [33.050529, 35.408516, 1.0], [33.052378, 44.355408, 1.0], [33.052915, 35.895363, 1.0], [33.054191, 44.35653, 1.0], [33.054977, 44.352032, 1.0], [33.055448, 43.714248, 4.0], [33.057483, 44.410392, 1.0], [33.057991, 44.354839, 203.0], [33.06114, 44.355845, 1.0], [33.061563, 44.354167, 1.0], [33.06163, 44.35386, 1.0], [33.061667, 44.354167, 5.0], [33.061704, 44.35386, 2.0], [33.0625, 36.076645, 1.0], [33.063278, 40.280719, 1.0], [33.067303, 36.531029, 1.0], [33.070843, 36.182793, 1.0], [33.071006, 36.546198, 1.0], [33.072226, 44.567846, 1.0], [33.073335, 35.147579, 4.0], [33.074959, 35.146686, 1.0], [33.077632, 35.893414, 1.0], [33.07835, 44.254719, 161.0], [33.07891, 44.252837, 2.0], [33.079089, 44.253056, 2.0], [33.079167, 44.253056, 1.0], [33.079234, 44.253057, 1.0], [33.082341, 44.644382, 4.0], [33.084538, 44.616959, 6.0], [33.086006, 35.115343, 1.0], [33.091707, 45.977431, 1.0], [33.092049, 44.269378, 1.0], [33.096174, 35.149165, 2.0], [33.098946, 35.288591, 1.0], [33.09917, 44.26099, 1.0], [33.099345, 35.319856, 1.0], [33.099591, 44.583794, 1.0], [33.099819, 44.583174, 1.0], [33.099823, 44.583464, 1.0], [33.099834, 44.583465, 1.0], [33.099867, 44.582839, 1.0], [33.099883, 44.583436, 1.0], [33.099908, 44.583245, 1.0], [33.099982, 44.583509, 1.0], [33.09999, 44.583139, 1.0], [33.1, 44.583333, 3.0], [33.100011, 44.583299, 1.0], [33.100024, 44.583312, 1.0], [33.10008, 44.583279, 4.0], [33.100298, 44.583139, 5.0], [33.100529, 44.584492, 259.0], [33.100569, 44.58135, 1.0], [33.100627, 35.323317, 1.0], [33.1008, 44.584921, 1.0], [33.101129, 44.582534, 1.0], [33.101429, 44.584267, 1.0], [33.103483, 44.534157, 1.0], [33.105896, 44.564686, 16.0], [33.1068, 35.225132, 1.0], [33.10695, 44.570937, 1.0], [33.107707, 44.610397, 1.0], [33.114967, 44.559423, 1.0], [33.115648, 35.46871, 1.0], [33.116563, 44.598057, 3.0], [33.116711, 44.565931, 1.0], [33.117361, 44.366389, 2.0], [33.117741, 35.834972, 2.0], [33.117836, 44.369362, 14.0], [33.11829, 35.139866, 2.0], [33.118667, 44.47716, 2.0], [33.120685, 35.825365, 1.0], [33.121529, 41.48813, 1.0], [33.121665, 44.539161, 1.0], [33.122407, 35.903711, 1.0], [33.125877, 35.881973, 3.0], [33.126019, 44.685215, 24.0], [33.126944, 35.825796, 1.0], [33.128336, 44.393088, 1.0], [33.128586, 44.176772, 1.0], [33.129043, 44.370626, 1.0], [33.129326, 11.202468, 5.0], [33.133062, 44.477076, 1.0], [33.134167, 35.332778, 1.0], [33.136925, 44.075092, 5.0], [33.150106, 44.616755, 1.0], [33.152144, 44.205237, 1.0], [33.154997, 43.89061, 1.0], [33.159203, 36.126358, 1.0], [33.162096, 43.872258, 1.0], [33.163158, 35.926884, 1.0], [33.163559, 43.863106, 78.0], [33.164486, 43.864934, 1.0], [33.165089, 44.349022, 2.0], [33.16715, 44.554901, 1.0], [33.16758, 35.620633, 1.0], [33.170231, 44.558002, 17.0], [33.171089, 35.870358, 2.0], [33.172411, 43.878825, 1.0], [33.178302, 43.858593, 1.0], [33.178654, 35.944002, 1.0], [33.179825, 35.894279, 1.0], [33.184153, 44.611132, 1.0], [33.185299, 44.26778, 50.0], [33.18824, 40.042332, 14.0], [33.189897, 44.537901, 4.0], [33.190637, 44.597814, 1.0], [33.19171, 44.373614, 1.0], [33.192356, 44.001503, 11.0], [33.193563, 43.970952, 1.0], [33.19392, 44.408577, 47.0], [33.194407, 35.572112, 1.0], [33.194415, 44.587239, 1.0], [33.195556, 43.906667, 1.0], [33.196909, 44.37694, 1.0], [33.200558, 44.495018, 1.0], [33.201393, 41.698021, 5.0], [33.201535, 44.665354, 1.0], [33.202415, 44.526899, 1.0], [33.203018, 44.543728, 4.0], [33.203358, 44.586689, 8.0], [33.203366, 44.514582, 1.0], [33.204347, 42.462259, 1.0], [33.208509, 35.570348, 1.0], [33.208716, 35.572618, 2.0], [33.208781, 35.571337, 1.0], [33.209058, 35.516274, 3.0], [33.216646, 4.829178, 1.0], [33.22286, 44.451217, 1.0], [33.223114, 44.540776, 6.0], [33.223121, 44.540776, 4.0], [33.223203, 44.540806, 1.0], [33.223219, 44.540762, 1.0], [33.223889, 35.493056, 1.0], [33.227039, 44.527786, 10.0], [33.233311, 43.429535, 2.0], [33.234273, 35.77244, 1.0], [33.236444, 35.847348, 1.0], [33.236883, 44.527832, 1.0], [33.23867, 35.215256, 2.0], [33.238757, 44.339691, 2.0], [33.239768, 41.804937, 1.0], [33.241059, 43.325853, 1.0], [33.241378, 44.024673, 1.0], [33.241821, 44.600452, 5.0], [33.242447, 44.562172, 6.0], [33.243115, 44.332873, 1.0], [33.243442, 44.537459, 1.0], [33.244591, 43.851738, 2.0], [33.24585, 43.972927, 2.0], [33.246022, 44.596229, 1.0], [33.246259, 35.5001, 1.0], [33.24637, 44.02548, 10.0], [33.247181, 44.025452, 37.0], [33.248374, 44.156933, 1.0], [33.248908, 44.091479, 1.0], [33.250722, 44.129132, 1.0], [33.253353, 43.912338, 1.0], [33.25341, 44.607185, 4.0], [33.254428, 35.54246, 1.0], [33.254429, 35.542461, 1.0], [33.255924, 43.839542, 1.0], [33.259932, 44.117962, 1.0], [33.260223, 42.894081, 2.0], [33.263119, 44.554459, 1.0], [33.264934, 44.072294, 1.0], [33.266151, 35.214058, 9.0], [33.267556, 44.514029, 1.0], [33.267723, 35.773553, 1.0], [33.267906, 36.102062, 1.0], [33.269356, 43.775107, 1.0], [33.269406, 35.772117, 1.0], [33.269488, 44.046327, 2.0], [33.269662, 35.772348, 1.0], [33.271304, 44.493066, 1.0], [33.271403, 44.493661, 8.0], [33.272607, 35.623637, 3.0], [33.272866, 43.747861, 1.0], [33.2731, 35.2169, 1.0], [33.273301, 44.06701, 2.0], [33.27411, 43.969736, 2.0], [33.275808, 46.720555, 1.0], [33.276389, 44.517778, 1.0], [33.276763, 35.57891, 2.0], [33.276976, 35.686985, 2.0], [33.277232, 35.578235, 2.0], [33.278425, 43.946356, 1.0], [33.278993, 43.744882, 1.0], [33.279168, 44.49425, 1.0], [33.279209, 44.517148, 1.0], [33.28, 44.51958, 2.0], [33.280891, 35.829319, 1.0], [33.281576, 35.692878, 1.0], [33.281681, 43.981331, 2.0], [33.282396, 35.798466, 1.0], [33.283173, 45.244658, 1.0], [33.283359, 44.520464, 1.0], [33.283675, 43.966801, 2.0], [33.283866, 44.348877, 1.0], [33.284015, 35.688064, 1.0], [33.285389, 36.04073, 2.0], [33.285507, 35.5001, 1.0], [33.28604, -0.7521, 1.0], [33.28666, 44.480947, 1.0], [33.287345, 44.319487, 4.0], [33.290496, 44.067692, 1.0], [33.291251, 44.065372, 3.0], [33.291257, 44.06468, 1.0], [33.291512, 35.723404, 4.0], [33.291559, 44.06574, 1.0], [33.291849, 44.150578, 1.0], [33.291868, 44.065034, 2.0], [33.291944, 44.065511, 2.0], [33.291944, 44.065556, 15.0], [33.291969, 44.065328, 1.0], [33.291976, 44.06564, 1.0], [33.292039, 44.065623, 1.0], [33.292174, 44.065695, 2.0], [33.292552, 44.064975, 1.0], [33.293778, 35.31457, 1.0], [33.294159, 43.993221, 2.0], [33.29661, 43.811908, 1.0], [33.29711, 44.066897, 3.0], [33.297526, 44.081773, 1.0], [33.297611, 44.081769, 4.0], [33.298668, 44.423197, 2.0], [33.299011, 44.107604, 1.0], [33.3, 44.4, 7.0], [33.3, 44.633333, 1.0], [33.300137, 44.047455, 1.0], [33.300619, 44.105947, 1.0], [33.301637, 43.653488, 1.0], [33.302447, 44.048733, 2.0], [33.30356, 43.971984, 1.0], [33.303566, 44.371773, 7471.0], [33.30401, 44.111898, 2.0], [33.304733, 44.132883, 4.0], [33.305613, 2.942904, 1.0], [33.306959, 43.836332, 1.0], [33.3073, 42.417619, 1.0], [33.308975, 35.347884, 1.0], [33.309785, 43.771975, 1.0], [33.31065, 44.038208, 319.0], [33.311512, 35.918564, 2.0], [33.312738, 43.78092, 1.0], [33.31385, 44.186691, 2.0], [33.313874, 38.70215, 2.0], [33.314084, 44.095622, 1.0], [33.315633, 43.641564, 1.0], [33.315635, 38.702647, 1.0], [33.318331, 43.783602, 3.0], [33.318595, 44.513997, 3.0], [33.318736, 43.783643, 1.0], [33.318766, 44.415482, 1.0], [33.320323, 44.432576, 1.0], [33.32172, 36.217888, 1.0], [33.322121, 35.642361, 1.0], [33.322702, 35.466446, 1.0], [33.324167, 35.531944, 1.0], [33.324454, 44.422037, 1.0], [33.324758, 44.422289, 1.0], [33.324834, 43.782601, 1.0], [33.325, 44.422, 3.0], [33.325054, 38.659325, 1.0], [33.325354, 43.894886, 1.0], [33.325375, 44.421896, 3.0], [33.325812, 44.423112, 1.0], [33.326673, 44.208788, 1.0], [33.327676, 38.6559, 1.0], [33.327841, 43.883663, 1.0], [33.327904, 35.61126, 1.0], [33.328323, 38.658283, 3.0], [33.330088, 38.656352, 1.0], [33.331024, 44.129453, 1.0], [33.332394, 43.712822, 7.0], [33.333523, 36.203033, 1.0], [33.33397, 44.422417, 1.0], [33.336265, 44.388771, 1.0], [33.338363, 45.033978, 2.0], [33.339698, 43.666421, 2.0], [33.340261, 43.821902, 1.0], [33.34031, 43.862546, 2.0], [33.340336, 43.659054, 9.0], [33.34077, 43.821672, 1.0], [33.341072, 43.594949, 2.0], [33.342613, 43.857685, 1.0], [33.343627, 43.843468, 1.0], [33.344358, 43.781277, 2.0], [33.345658, 44.161177, 1.0], [33.346159, 43.952512, 1.0], [33.347492, 35.749159, 1.0], [33.349159, 43.784199, 562.0], [33.35, 43.29067, 1.0], [33.35, 43.783333, 5.0], [33.350017, 43.783285, 1.0], [33.350073, 43.783245, 1.0], [33.350259, 43.937214, 1.0], [33.351177, 44.205009, 4.0], [33.353333, 35.512778, 1.0], [33.354051, 43.845054, 1.0], [33.355139, 43.78942, 1.0], [33.355225, 43.823904, 1.0], [33.357971, 43.977643, 1.0], [33.358631, 36.23893, 1.0], [33.360344, 35.976593, 1.0], [33.361255, 43.807015, 1.0], [33.363747, 6.860582, 1.0], [33.364977, 43.959085, 1.0], [33.365604, 43.738495, 1.0], [33.365791, 43.95932, 12.0], [33.368418, 6.867525, 1.0], [33.369476, 35.997292, 1.0], [33.370833, 43.746111, 1.0], [33.374271, 36.114742, 1.0], [33.374808, 43.562134, 2.0], [33.375365, 43.891302, 1.0], [33.375759, 44.702866, 131.0], [33.376824, 44.702895, 1.0], [33.378156, 43.782572, 1.0], [33.378582, 43.767578, 1.0], [33.380455, 43.916641, 2.0], [33.382052, 43.899289, 1.0], [33.382431, 43.587631, 13.0], [33.383401, 43.899952, 2.0], [33.383505, 43.899288, 3.0], [33.383505, 43.899868, 7.0], [33.383576, 43.587153, 1.0], [33.383723, 43.879395, 1.0], [33.384232, 43.901028, 1.0], [33.384444, 43.525278, 1.0], [33.3875, 43.788611, 1.0], [33.388054, 43.5317, 78.0], [33.388171, 43.91743, 1.0], [33.389721, 44.235367, 3.0], [33.391567, 43.854069, 8.0], [33.391847, 43.449413, 1.0], [33.392891, 43.113628, 1.0], [33.393596, 44.506536, 1.0], [33.393642, 42.849487, 3.0], [33.393788, 43.449279, 1.0], [33.39531, 43.845825, 3.0], [33.395906, 43.667393, 2.0], [33.396009, 40.005078, 1.0], [33.396174, 43.298403, 1.0], [33.396389, 35.707778, 1.0], [33.396633, 43.62571, 20.0], [33.39686, 43.625549, 1.0], [33.397444, 43.661136, 1.0], [33.397812, 43.706276, 78.0], [33.39783, 43.314979, 1.0], [33.398952, 43.315814, 1.0], [33.399059, 43.483521, 2.0], [33.399299, 43.042926, 1.0], [33.399722, 43.908889, 1.0], [33.400876, 44.491304, 2.0], [33.400948, 36.131626, 1.0], [33.401492, 42.903514, 1.0], [33.401699, 44.357658, 3.0], [33.401792, 44.676839, 1.0], [33.40217, 44.288144, 1.0], [33.403057, 43.911865, 113.0], [33.403751, 43.9118, 1.0], [33.404028, 43.911634, 1.0], [33.406527, 35.865599, 2.0], [33.407053, 43.55381, 1.0], [33.407252, 43.287188, 1.0], [33.407327, 43.19936, 1.0], [33.408039, 44.303436, 2.0], [33.408254, 43.539178, 1.0], [33.409771, 43.198972, 1.0], [33.410692, 44.372589, 1.0], [33.410797, 43.561432, 4.0], [33.411998, 36.512489, 1.0], [33.412099, 43.855877, 1.0], [33.412674, 43.710224, 1.0], [33.4135, 44.519513, 1.0], [33.414598, 43.455254, 1.0], [33.415941, 43.050723, 1.0], [33.416378, 43.940945, 1.0], [33.416667, 43.3, 8.0], [33.416713, 43.299752, 2.0], [33.417033, 43.299737, 1.0], [33.41735, 43.623861, 1.0], [33.417362, 43.804871, 52.0], [33.419822, 43.298471, 1.0], [33.420948, 43.295662, 488.0], [33.42231, 43.546302, 2.0], [33.422901, 36.685071, 1.0], [33.423328, 41.125052, 1.0], [33.424888, 43.370858, 1.0], [33.425278, 44.221667, 1.0], [33.426248, 42.977081, 3.0], [33.426758, 44.228073, 20.0], [33.42767, 44.306255, 3.0], [33.428037, 43.494067, 1.0], [33.428314, 44.345453, 1.0], [33.428512, 44.345679, 1.0], [33.428553, 44.345488, 1.0], [33.428863, 43.305531, 1.0], [33.428879, 44.342047, 1.0], [33.428896, 43.292945, 1.0], [33.430324, 42.046832, 1.0], [33.431496, 43.384418, 4.0], [33.431831, 43.311501, 2.0], [33.431899, 43.311566, 1.0], [33.433317, 43.966658, 1.0], [33.433487, 43.367092, 1.0], [33.433795, 43.963635, 2.0], [33.433811, 38.922878, 9.0], [33.43407, 35.533752, 1.0], [33.434452, 43.236507, 1.0], [33.434907, 43.281191, 1.0], [33.435192, 43.964048, 1.0], [33.435272, 43.281148, 1.0], [33.435279, 43.281158, 4.0], [33.435344, 43.961565, 1.0], [33.435532, 36.295208, 1.0], [33.435667, 44.534135, 1.0], [33.436008, 43.961858, 1.0], [33.436124, 43.390334, 8.0], [33.436207, 36.080795, 2.0], [33.438056, 44.016667, 4.0], [33.438258, 43.962718, 5.0], [33.438443, 43.21015, 1.0], [33.438954, 44.020691, 1.0], [33.439376, 44.01832, 1.0], [33.439565, 44.019808, 1.0], [33.439594, 43.401226, 2.0], [33.439925, 43.773811, 1.0], [33.440228, 38.943455, 1.0], [33.440376, 43.328276, 1.0], [33.4405, 43.389833, 1.0], [33.440707, 43.969894, 1.0], [33.441045, 43.212631, 1.0], [33.443655, 44.304793, 1.0], [33.443794, 36.555637, 1.0], [33.445957, 43.355853, 1.0], [33.446476, 36.334499, 10.0], [33.446575, 43.274712, 1.0], [33.446805, 36.336213, 1.0], [33.447014, 41.059081, 1.0], [33.447155, 43.340736, 18.0], [33.448437, 43.26757, 5.0], [33.449772, 43.29578, 12.0], [33.449841, 70.064041, 1.0], [33.44986, 43.604732, 1.0], [33.45, 43.833333, 1.0], [33.45011, 43.604217, 1.0], [33.450127, 38.943352, 1.0], [33.450832, 44.321999, 2.0], [33.453312, 43.372253, 4.0], [33.453425, 43.859141, 2.0], [33.454317, 44.373095, 1.0], [33.454738, 35.297233, 2.0], [33.456025, 44.092024, 1.0], [33.456112, 43.345947, 8.0], [33.456443, 36.235963, 1.0], [33.456459, 43.392872, 14.0], [33.457123, 43.471428, 85.0], [33.45715, 36.233425, 3.0], [33.457222, 44.086389, 12.0], [33.457276, 43.250375, 1.0], [33.457532, 43.253987, 1.0], [33.460819, 44.157433, 96.0], [33.462707, 44.157787, 4.0], [33.462778, 44.420833, 1.0], [33.46446, 40.935025, 1.0], [33.466675, 43.950075, 1.0], [33.467331, 43.23251, 4.0], [33.468018, 43.327589, 2.0], [33.468541, 44.326517, 1.0], [33.468669, 43.286574, 1.0], [33.469038, 45.43953, 1.0], [33.469318, 43.224907, 1.0], [33.470512, 44.393494, 8.0], [33.470655, 43.302853, 2.0], [33.471111, 43.374167, 1.0], [33.47312, 36.30483, 1.0], [33.47327, 43.171093, 2.0], [33.476944, 43.111111, 1.0], [33.477229, 36.286131, 1.0], [33.477631, 43.300294, 1.0], [33.481813, 44.35395, 1.0], [33.483858, 43.278869, 1.0], [33.48407, 48.35252, 1.0], [33.484396, 36.268508, 1.0], [33.484444, 36.377289, 3.0], [33.486273, 44.24409, 1.0], [33.486706, 44.276806, 1.0], [33.487075, 43.604486, 1.0], [33.488425, 43.062457, 1.0], [33.488949, 44.439646, 1.0], [33.488998, 36.346882, 17.0], [33.489426, 43.263763, 1.0], [33.489437, 43.275142, 1.0], [33.489536, 43.22139, 2.0], [33.48975, 43.235231, 1.0], [33.49112, 44.487265, 1.0], [33.491568, 43.307136, 1.0], [33.49392, 44.7574, 1.0], [33.5009, 44.216648, 38.0], [33.503735, 35.839777, 1.0], [33.505797, 43.302971, 1.0], [33.506426, 44.381638, 1.0], [33.509014, 44.202484, 11.0], [33.509136, 44.234186, 2.0], [33.509167, 44.234167, 6.0], [33.509269, 44.235478, 1.0], [33.50932, 43.220707, 1.0], [33.509671, 44.20168, 1.0], [33.510273, 36.316961, 3.0], [33.5111, 36.3064, 5.0], [33.511475, 43.221115, 2.0], [33.512032, 44.217289, 2.0], [33.512043, 36.37204, 1.0], [33.512797, 43.251677, 1.0], [33.514722, 36.124722, 2.0], [33.515244, 36.292084, 348.0], [33.515724, 44.468603, 1.0], [33.516634, 43.100061, 1.0], [33.516648, 43.100075, 1.0], [33.516729, 36.954107, 1.0], [33.51856, 42.97426, 1.0], [33.520717, 44.024424, 1.0], [33.522137, 43.098385, 4.0], [33.525331, 42.93768, 1.0], [33.527649, 36.392296, 2.0], [33.528492, 36.386089, 2.0], [33.529194, 42.9123, 2.0], [33.530734, 44.274292, 33.0], [33.533333, -7.583333, 1.0], [33.536816, 36.704464, 1.0], [33.53865, 44.351657, 1.0], [33.539059, 36.366711, 4.0], [33.540672, 44.251266, 171.0], [33.541733, 44.605141, 1.0], [33.542004, 35.381153, 41.0], [33.542297, 35.391373, 2.0], [33.542351, 44.365334, 22.0], [33.543086, 9.970034, 1.0], [33.54459, 42.933247, 1.0], [33.547506, 44.624555, 1.0], [33.548004, 36.216972, 1.0], [33.548306, 44.415733, 110.0], [33.550137, 42.89888, 1.0], [33.550434, 35.370964, 28.0], [33.55191, 44.534209, 1.0], [33.553083, 44.325707, 1.0], [33.553439, 44.329861, 1.0], [33.555773, 44.599672, 1.0], [33.557301, 36.475063, 4.0], [33.5577, 35.384777, 1.0], [33.561429, 35.410688, 1.0], [33.561504, 36.368763, 10.0], [33.563416, 42.529159, 1.0], [33.566097, 36.485138, 2.0], [33.56637, 35.406025, 1.0], [33.566894, 35.719257, 1.0], [33.568333, 44.435556, 1.0], [33.568693, 44.436439, 1.0], [33.570359, 44.434224, 1.0], [33.571575, 36.40044, 6.0], [33.571707, 44.536015, 1.0], [33.571743, 44.536211, 1.0], [33.571802, 44.536181, 1.0], [33.571807, 44.536067, 23.0], [33.571826, 44.536093, 1.0], [33.57311, -7.589843, 1.0], [33.573486, 44.547424, 14.0], [33.58332, 43.933333, 1.0], [33.583333, 43.933333, 2.0], [33.583356, 43.933831, 1.0], [33.586185, 44.186894, 1.0], [33.586239, 44.187032, 1.0], [33.587431, 43.329466, 3.0], [33.589627, 44.267085, 1.0], [33.589786, 44.266976, 2.0], [33.59, -7.61, 9.0], [33.591352, 36.441051, 1.0], [33.592064, 42.618965, 14.0], [33.593056, 44.501111, 1.0], [33.594607, 36.238036, 1.0], [33.596133, 44.393084, 4.0], [33.596291, 44.679636, 1.0], [33.597591, 36.429264, 1.0], [33.598298, 36.918832, 1.0], [33.59993, 42.868916, 3.0], [33.60043, 35.398729, 1.0], [33.601181, 7.028761, 1.0], [33.6025, 44.563333, 1.0], [33.603494, 35.944573, 1.0], [33.604951, 44.512513, 1.0], [33.606209, 36.524719, 1.0], [33.606905, 44.667934, 1.0], [33.60722, 36.314327, 3.0], [33.611455, 36.75523, 1.0], [33.614848, 36.182095, 1.0], [33.615556, 44.338889, 1.0], [33.615683, 44.277372, 6.0], [33.616907, 42.765491, 1.0], [33.617965, 44.572428, 2.0], [33.621101, 41.421089, 1.0], [33.62235, 44.59332, 1.0], [33.622993, 36.11203, 2.0], [33.623299, 44.373049, 1.0], [33.625091, 44.607804, 1.0], [33.625652, 44.832838, 1.0], [33.627287, 42.719923, 1.0], [33.633158, 42.816583, 1.0], [33.633297, 42.816623, 1.0], [33.633333, 42.816667, 2.0], [33.633442, 42.816579, 1.0], [33.633509, 42.816625, 2.0], [33.633889, 42.825959, 1.0], [33.633896, 42.832081, 79.0], [33.634184, 44.285845, 1.0], [33.634773, 44.235244, 3.0], [33.63497, 44.235291, 2.0], [33.63503, 42.821453, 1.0], [33.635131, 42.826324, 1.0], [33.635913, 42.828811, 1.0], [33.636417, 42.82907, 1.0], [33.638563, 42.824117, 2.0], [33.638573, 36.293682, 1.0], [33.639521, 42.838015, 1.0], [33.640417, 42.824365, 1.0], [33.641222, 42.837057, 1.0], [33.641779, 44.611436, 1.0], [33.642502, 44.419117, 3.0], [33.6432, 36.690445, 3.0], [33.643328, 42.825383, 1.0], [33.64352, 42.825366, 4.0], [33.644492, 42.83807, 1.0], [33.644634, 42.826592, 1.0], [33.644722, 43.723611, 1.0], [33.644765, 42.826424, 1.0], [33.645278, 44.641944, 4.0], [33.645713, 44.4212, 1.0], [33.648611, 44.696111, 1.0], [33.649971, 44.261543, 68.0], [33.654085, 45.547435, 1.0], [33.656116, 42.632342, 1.0], [33.663116, 42.634892, 1.0], [33.663533, 44.378029, 1.0], [33.664076, 44.373231, 1.0], [33.664307, 44.37378, 1.0], [33.664354, 44.373779, 8.0], [33.66439, 44.373998, 1.0], [33.665284, 44.317469, 1.0], [33.666193, 44.375482, 1.0], [33.666667, 43.483333, 1.0], [33.666667, 44.3, 7.0], [33.666763, 43.906219, 2.0], [33.668115, 44.530509, 1.0], [33.668545, 39.967896, 6.0], [33.669112, 42.629345, 1.0], [33.669458, 44.381155, 1.0], [33.669531, 44.371136, 1.0], [33.669689, 44.381317, 210.0], [33.67002, 35.599548, 1.0], [33.670671, 44.399201, 4.0], [33.670874, 35.737327, 1.0], [33.671398, 36.121052, 1.0], [33.672477, 44.853947, 1.0], [33.67263, 44.85376, 6.0], [33.67263, 44.85395, 1.0], [33.673183, 44.358486, 1.0], [33.673248, 44.361488, 2.0], [33.674359, 44.238418, 1.0], [33.677995, 43.476313, 1.0], [33.678303, 35.965252, 4.0], [33.678912, 45.195475, 2.0], [33.678926, 44.853001, 1.0], [33.681198, 44.563663, 1.0], [33.683266, 43.473259, 20.0], [33.687627, 45.069995, 2.0], [33.688007, 45.06988, 1.0], [33.688056, 44.418889, 1.0], [33.688462, 42.758056, 1.0], [33.68889, 43.200454, 1.0], [33.68979, 45.06873, 1.0], [33.691582, 44.439841, 1.0], [33.691704, 36.100681, 2.0], [33.692394, 42.752779, 2.0], [33.692992, 35.426272, 1.0], [33.69313, 8.983199, 1.0], [33.693365, 44.435875, 1.0], [33.693409, 44.796085, 22.0], [33.693947, 45.067425, 73.0], [33.694397, 45.065133, 1.0], [33.695595, 45.160981, 1.0], [33.695694, 45.067169, 2.0], [33.695876, 42.739285, 1.0], [33.695923, 45.068171, 1.0], [33.698272, 45.083895, 1.0], [33.699554, 45.083422, 1.0], [33.7, 42.216667, 1.0], [33.7, 44.666667, 1.0], [33.7, 45.083333, 1.0], [33.703427, 42.74278, 3.0], [33.70455, 44.44868, 1.0], [33.710983, 35.914692, 2.0], [33.713436, 42.702915, 1.0], [33.715202, 44.77684, 1.0], [33.716995, 44.679516, 56.0], [33.71824, 35.85305, 1.0], [33.718946, 44.661114, 1.0], [33.725571, 36.104458, 3.0], [33.725761, 36.124786, 1.0], [33.727749, 44.130025, 2.0], [33.737061, 45.232285, 1.0], [33.737099, 44.490696, 6.0], [33.738818, 44.829067, 1.0], [33.740329, 44.573539, 1.0], [33.742374, 45.059066, 1.0], [33.742764, 45.214422, 1.0], [33.74324, 44.623825, 718.0], [33.744625, 44.959073, 1.0], [33.744999, 45.545616, 25.0], [33.74521, 45.545674, 1.0], [33.745285, 44.640072, 1.0], [33.745731, 35.458321, 2.0], [33.748569, 45.556266, 1.0], [33.749178, 44.764212, 1.0], [33.749271, 44.633333, 1.0], [33.749615, 44.644656, 1.0], [33.749892, 44.633421, 1.0], [33.749952, 44.682847, 1.0], [33.75, 44.633333, 6.0], [33.750459, 44.633333, 1.0], [33.751401, 44.589845, 1.0], [33.751536, 44.417285, 1.0], [33.752217, 44.69896, 2.0], [33.75371, 44.659, 1.0], [33.755295, 36.388622, 1.0], [33.755369, 44.613748, 1.0], [33.756709, 45.181175, 1.0], [33.757457, 45.555153, 1.0], [33.757577, 39.010445, 1.0], [33.758388, 44.396591, 3.0], [33.758617, 44.398327, 1.0], [33.759156, 45.155717, 3.0], [33.759484, 35.520464, 1.0], [33.759526, 44.666462, 1.0], [33.759641, 44.606658, 1.0], [33.759688, 45.551306, 1.0], [33.76, 44.670278, 1.0], [33.760481, 44.736636, 2.0], [33.761923, 45.156911, 1.0], [33.762867, 44.411274, 1.0], [33.763422, 45.131054, 1.0], [33.764472, 45.137779, 1.0], [33.764637, 44.252082, 1.0], [33.764671, 44.49743, 1.0], [33.765449, 45.15295, 1.0], [33.768044, 44.583221, 1.0], [33.770407, 45.07347, 1.0], [33.770897, 44.624748, 2.0], [33.771944, 44.621667, 1.0], [33.772815, 35.8979, 1.0], [33.773348, 45.14945, 1.0], [33.773349, 45.14945, 88.0], [33.773349, 45.149451, 2.0], [33.773533, 44.659943, 1.0], [33.773598, 45.14945, 1.0], [33.774444, 44.580556, 3.0], [33.774858, 35.899271, 1.0], [33.775055, 44.580349, 9.0], [33.776034, 44.018096, 1.0], [33.77631, 44.555672, 14.0], [33.778056, 44.655833, 1.0], [33.779541, 44.592678, 2.0], [33.780466, 44.791197, 1.0], [33.784248, 44.50972, 14.0], [33.787247, 44.667145, 1.0], [33.787562, 44.665761, 1.0], [33.787583, 44.668683, 2.0], [33.789033, 35.480735, 1.0], [33.790831, 44.576687, 1.0], [33.791517, 44.671698, 1.0], [33.7916, 35.557252, 1.0], [33.791719, 42.437722, 1.0], [33.79222, 42.444521, 2.0], [33.792582, 42.442936, 1.0], [33.792778, 44.605556, 1.0], [33.793336, 44.627997, 1.0], [33.793476, 42.441971, 1.0], [33.793896, 42.442989, 1.0], [33.794651, 44.892578, 10.0], [33.794725, 35.626981, 1.0], [33.79477, 44.599747, 1.0], [33.795835, 44.675348, 1.0], [33.795979, 45.247376, 3.0], [33.795982, 44.65456, 1.0], [33.796025, 44.626093, 1.0], [33.796263, 35.604315, 1.0], [33.798407, 44.710493, 1.0], [33.799108, 42.713515, 1.0], [33.799198, 42.707079, 2.0], [33.799683, 44.664364, 1.0], [33.8, 2.883333, 5.0], [33.8, 44.56667, 1.0], [33.801337, 42.544166, 1.0], [33.802006, 42.438267, 1.0], [33.803388, 35.869363, 1.0], [33.803935, 44.705565, 1.0], [33.806286, 44.367222, 1.0], [33.80658, 2.878025, 3.0], [33.807972, 36.741825, 1.0], [33.80882, 35.597921, 1.0], [33.809479, 35.774472, 1.0], [33.810054, 35.597375, 1.0], [33.810059, 35.597287, 5.0], [33.811906, 36.444846, 1.0], [33.81207, 44.774206, 1.0], [33.812235, 35.516327, 1.0], [33.812267, 36.159442, 1.0], [33.812465, 44.677301, 1.0], [33.813677, 44.56593, 1.0], [33.813793, 44.657238, 13.0], [33.815063, 42.723197, 1.0], [33.815146, 35.853264, 2.0], [33.816079, 35.860327, 2.0], [33.816111, 44.783524, 1.0], [33.816667, 44.2, 1.0], [33.81685, 35.864236, 2.0], [33.819136, 10.855024, 1.0], [33.819605, 44.767925, 2.0], [33.821182, 35.882412, 3.0], [33.821707, 44.412618, 1.0], [33.823027, 35.890925, 1.0], [33.824238, 35.510757, 2.0], [33.824244, 44.789265, 1.0], [33.82431, 42.714512, 1.0], [33.826254, 35.894454, 1.0], [33.828983, 44.674801, 2.0], [33.830535, 44.585358, 1.0], [33.833333, 36.0, 2.0], [33.834111, 44.761882, 1.0], [33.835629, 44.247406, 72.0], [33.837445, 44.250608, 1.0], [33.838966, 35.551331, 3.0], [33.839638, 35.527088, 2.0], [33.840937, 44.248499, 1.0], [33.843044, 44.521936, 4.0], [33.843471, 35.498738, 2.0], [33.843739, 36.547043, 4.0], [33.844769, 35.902874, 5.0], [33.845343, 45.299948, 1.0], [33.8456, 42.553495, 2.0], [33.848618, 44.522125, 80.0], [33.850011, 44.233342, 1.0], [33.850082, 35.987694, 1.0], [33.850109, 44.233377, 1.0], [33.850297, 42.55, 1.0], [33.850868, 44.519611, 1.0], [33.851043, 44.519491, 3.0], [33.851137, 43.820957, 1.0], [33.851166, 36.187733, 1.0], [33.851601, 35.511871, 4.0], [33.851825, 42.560502, 1.0], [33.852382, 44.524371, 1.0], [33.852383, 35.494852, 1.0], [33.854274, 44.166803, 1.0], [33.854451, 44.570739, 1.0], [33.855824, 44.760889, 1.0], [33.856203, 45.152391, 1.0], [33.856289, 35.497362, 1.0], [33.856355, 44.72213, 1.0], [33.856667, 44.654444, 2.0], [33.856876, 44.720768, 1.0], [33.857514, 44.720881, 1.0], [33.857969, 35.519713, 1.0], [33.858013, 35.5364, 1.0], [33.858442, 43.867993, 1.0], [33.860278, 44.685556, 3.0], [33.860659, 44.792119, 5.0], [33.860725, 44.683872, 3.0], [33.861984, 35.489986, 5.0], [33.8625, 45.287222, 1.0], [33.862531, 45.287155, 1.0], [33.862748, 45.288549, 2.0], [33.864799, 42.536385, 60.0], [33.865841, 36.413265, 1.0], [33.865996, 35.517536, 1.0], [33.869196, 44.630421, 1.0], [33.870416, 45.15295, 1.0], [33.871944, 44.813333, 1.0], [33.872532, 36.162872, 1.0], [33.872952, 36.202412, 2.0], [33.874397, 36.112118, 3.0], [33.877222, 44.959167, 1.0], [33.877384, 35.536163, 2.0], [33.879402, 36.083012, 1.0], [33.879803, 44.854084, 15.0], [33.880028, 35.560574, 1.0], [33.882822, 44.723953, 1.0], [33.88443, 44.761154, 1.0], [33.885963, 35.628685, 1.0], [33.887609, 44.86568, 1.0], [33.888016, 45.087186, 1.0], [33.888523, 35.503513, 59.0], [33.889561, 42.623253, 36.0], [33.890762, 42.621935, 1.0], [33.8925, 44.709722, 2.0], [33.894962, 42.637445, 1.0], [33.895, -5.554722, 1.0], [33.896361, 44.611724, 1.0], [33.8966, 44.811747, 1.0], [33.8973, 48.7516, 1.0], [33.897803, 44.813111, 8.0], [33.901485, 44.777998, 1.0], [33.902945, 44.85817, 3.0], [33.903908, 44.162858, 1.0], [33.904087, 44.852064, 1.0], [33.904509, 36.11998, 1.0], [33.904641, 44.781168, 1.0], [33.905005, 44.781168, 1.0], [33.906048, 44.724545, 10.0], [33.906473, 44.844621, 1.0], [33.906667, 44.724444, 2.0], [33.907707, 42.542435, 5.0], [33.908605, 44.550827, 1.0], [33.909798, 44.163391, 1.0], [33.910194, 36.48806, 2.0], [33.910318, 44.762091, 1.0], [33.911194, 44.735943, 5.0], [33.911454, 45.026608, 1.0], [33.911588, 44.73531, 1.0], [33.912177, 42.735384, 2.0], [33.916257, 44.246647, 3.0], [33.918583, 36.141312, 1.0], [33.918611, 44.921111, 1.0], [33.922043, 36.152743, 1.0], [33.922433, 35.591429, 1.0], [33.923559, 35.738059, 1.0], [33.926586, 44.772064, 40.0], [33.927413, 44.773241, 1.0], [33.927778, 35.620833, 1.0], [33.927779, 44.827433, 1.0], [33.929901, 2.143725, 1.0], [33.930061, 44.800024, 2.0], [33.930974, 44.92269, 1.0], [33.931667, 45.178889, 1.0], [33.93238, 44.859962, 1.0], [33.934212, 36.150745, 8.0], [33.934242, 44.985234, 1.0], [33.934245, 45.140991, 1.0], [33.93487, 35.597819, 1.0], [33.937461, 45.133543, 1.0], [33.942375, 42.489763, 1.0], [33.944794, 44.763939, 1.0], [33.945268, 44.341673, 1.0], [33.945848, 44.031816, 1.0], [33.94644, 44.916069, 1.0], [33.947478, 44.370941, 1.0], [33.948372, 44.916232, 2.0], [33.94857, 44.915994, 4.0], [33.948666, 44.917641, 1.0], [33.949776, 44.152668, 1.0], [33.95, 44.983333, 10.0], [33.950021, 44.983559, 1.0], [33.950143, 44.983201, 1.0], [33.951088, 43.973894, 1.0], [33.953167, 44.921906, 225.0], [33.953178, 44.206818, 1.0], [33.95724, 44.290323, 1.0], [33.958827, 40.890257, 1.0], [33.964455, 44.280661, 1.0], [33.967778, 44.384444, 1.0], [33.96842, 45.049009, 1.0], [33.970698, 44.043274, 1.0], [33.971279, 44.926682, 4.0], [33.971349, 44.926682, 1.0], [33.971565, 36.661087, 4.0], [33.971932, 44.930731, 1.0], [33.972541, 44.361294, 1.0], [33.976418, 44.336311, 4.0], [33.977519, 44.413457, 1.0], [33.977565, 44.936584, 1.0], [33.977946, 44.940257, 1.0], [33.978045, 44.93749, 3.0], [33.978277, 44.936944, 1.0], [33.978611, 44.936944, 5.0], [33.978697, 44.937106, 1.0], [33.97888, 45.047101, 1.0], [33.978886, 42.556753, 1.0], [33.979045, 44.936597, 1.0], [33.979057, 44.937532, 1.0], [33.979177, 44.936535, 1.0], [33.979876, 44.933789, 3.0], [33.981389, 45.023611, 1.0], [33.982013, 42.594834, 2.0], [33.983107, 35.618057, 1.0], [33.983148, 44.555813, 1.0], [33.983235, 42.612838, 1.0], [33.98333, 45.048731, 1.0], [33.983367, 44.350763, 1.0], [33.984079, 44.13752, 1.0], [33.986823, 44.726313, 1.0], [33.9877, 35.638924, 4.0], [33.987948, 44.953248, 1.0], [33.991667, 44.7775, 1.0], [33.994591, 44.357273, 43.0], [33.994724, 45.011933, 1.0], [33.997047, 44.866611, 1.0], [33.997793, 44.316629, 2.0], [33.997812, 44.316759, 1.0], [33.997998, 44.066633, 2.0], [33.998124, 44.276123, 2.0], [33.999921, 35.680558, 1.0], [34.001611, 44.868385, 1.0], [34.002559, 44.865628, 1.0], [34.002857, 36.212649, 1.0], [34.003712, 44.395378, 4.0], [34.004211, 44.16902, 1.0], [34.004584, 44.151221, 1.0], [34.006023, 42.421604, 2.0], [34.007509, 36.142378, 1.0], [34.008667, 44.962806, 1.0], [34.010097, 44.062745, 2.0], [34.010411, 44.893636, 1.0], [34.010471, 44.148235, 117.0], [34.010595, 44.062739, 1.0], [34.012545, 36.173733, 1.0], [34.013651, 44.192644, 1.0], [34.013846, 44.447698, 1.0], [34.014069, 35.794937, 1.0], [34.014665, 44.147759, 1.0], [34.014699, 45.001875, 1.0], [34.01548, 42.410526, 1.0], [34.015559, 45.192295, 1.0], [34.015622, 36.176261, 1.0], [34.016004, 36.178712, 1.0], [34.016053, 44.145347, 1.0], [34.016135, 44.145278, 1.0], [34.016207, 44.145278, 1.0], [34.016219, 44.914895, 1.0], [34.016389, 44.145278, 21.0], [34.016667, 36.716667, 1.0], [34.0175, 45.196389, 1.0], [34.018276, 44.96502, 1.0], [34.018591, 44.145117, 1.0], [34.018677, 36.269387, 2.0], [34.01918, 44.996505, 1.0], [34.020425, 44.345185, 1.0], [34.020805, 44.867285, 1.0], [34.021821, 44.933508, 2.0], [34.021822, 44.933508, 1.0], [34.02194, 44.136831, 2.0], [34.021955, 44.934911, 1.0], [34.023571, 44.031361, 25.0], [34.024785, 36.735271, 2.0], [34.025421, 36.734612, 1.0], [34.026893, 44.924357, 1.0], [34.028358, 44.754825, 2.0], [34.028727, 44.225901, 1.0], [34.029758, 36.584045, 2.0], [34.030712, 44.063866, 3.0], [34.030981, 35.696092, 1.0], [34.031331, 44.070106, 1.0], [34.031464, 44.069915, 1.0], [34.031587, 42.421608, 1.0], [34.034291, 44.134169, 1.0], [34.034916, 36.227844, 22.0], [34.035641, 45.440578, 8.0], [34.036102, 45.01273, 1.0], [34.0364, 45.012779, 2.0], [34.036461, 44.971806, 1.0], [34.036729, 36.136351, 1.0], [34.038266, 44.221479, 1.0], [34.039066, 44.179702, 1.0], [34.04, 44.82, 1.0], [34.040833, 45.005556, 1.0], [34.0425, 44.959167, 2.0], [34.04347, 44.224306, 1.0], [34.044694, 44.182677, 2.0], [34.045422, 43.988959, 9.0], [34.046667, 44.135556, 1.0], [34.047196, 43.984817, 1.0], [34.047272, 44.027783, 1.0], [34.047529, 44.029436, 1.0], [34.048268, 44.902082, 1.0], [34.049722, 44.100556, 1.0], [34.051489, 44.208915, 1.0], [34.05267, 44.93325, 3.0], [34.053467, 44.933075, 5.0], [34.054201, 44.893227, 3.0], [34.054686, 44.886825, 1.0], [34.055354, 44.548457, 2.0], [34.057114, 44.218292, 55.0], [34.057549, 44.260048, 2.0], [34.058099, 44.140717, 1.0], [34.05911, 44.215906, 1.0], [34.05911, 44.215907, 2.0], [34.05917, 44.215885, 1.0], [34.059613, 44.882057, 1.0], [34.065359, 44.574888, 1.0], [34.066643, 44.897517, 1.0], [34.067051, 44.89824, 1.0], [34.067101, 44.898501, 2.0], [34.067987, 44.946428, 1.0], [34.068889, 44.863056, 1.0], [34.06906, 44.861798, 1.0], [34.069953, 44.860306, 1.0], [34.071027, 44.15838, 1.0], [34.072219, 44.291382, 1.0], [34.072222, 44.291389, 1.0], [34.072381, 44.906386, 1.0], [34.072718, 44.287723, 4.0], [34.072883, 44.861742, 2.0], [34.073586, 44.862237, 1.0], [34.076828, 36.207649, 1.0], [34.077841, 44.06334, 2.0], [34.078571, 44.959305, 6.0], [34.079925, 44.16728, 1.0], [34.080837, 36.275066, 1.0], [34.082966, 36.665169, 1.0], [34.085258, 42.360344, 7.0], [34.08798, 3.848314, 1.0], [34.088192, 43.892833, 1.0], [34.09056, 44.34278, 1.0], [34.090979, 42.670056, 1.0], [34.092655, 42.385468, 10.0], [34.093739, 44.21817, 10.0], [34.095556, 43.958333, 1.0], [34.097931, 36.770164, 2.0], [34.098521, 44.880881, 1.0], [34.098991, 45.056404, 1.0], [34.099798, 42.36675, 1.0], [34.100723, 45.05196, 13.0], [34.10729, 43.895811, 1.0], [34.107896, 44.982357, 1.0], [34.108582, 44.968887, 1.0], [34.111364, 44.913513, 1.0], [34.111475, 43.878409, 1.0], [34.113883, 2.097262, 1.0], [34.113901, 43.891196, 1.0], [34.121764, 42.404034, 1.0], [34.124791, 43.888433, 1.0], [34.124986, 42.374877, 1.0], [34.125183, 42.374164, 1.0], [34.125561, 42.373707, 1.0], [34.125729, 45.003342, 78.0], [34.12866, 42.358, 1.0], [34.129853, 44.362278, 1.0], [34.129906, 44.218587, 1.0], [34.132647, 45.197844, 1.0], [34.133781, 44.221014, 2.0], [34.139278, 42.378056, 1.0], [34.139439, 42.378263, 2.0], [34.139687, 42.377838, 1.0], [34.139722, 42.378056, 6.0], [34.139822, 45.139174, 1.0], [34.140955, 42.375292, 1.0], [34.141944, 44.132778, 1.0], [34.145745, 42.48203, 1.0], [34.147392, 45.129864, 7.0], [34.154213, 41.572376, 14.0], [34.156841, 3.498381, 1.0], [34.157839, 3.528346, 1.0], [34.160587, 42.37254, 66.0], [34.16512, 43.905386, 1.0], [34.165216, 43.905367, 1.0], [34.165747, 43.905509, 1.0], [34.165748, 43.906209, 1.0], [34.166004, 43.905515, 5.0], [34.166004, 43.905516, 2.0], [34.166667, 45.283333, 1.0], [34.16838, 43.329466, 1.0], [34.17223, 44.444434, 1.0], [34.174564, 36.334869, 2.0], [34.175157, 36.428765, 1.0], [34.176847, 43.69915, 2.0], [34.17971, 42.252369, 4.0], [34.180469, 36.420811, 1.0], [34.183155, 36.442126, 1.0], [34.184605, 36.424011, 72.0], [34.18611, 45.125892, 1.0], [34.186255, 45.12633, 5.0], [34.186327, 45.126067, 2.0], [34.186336, 45.126056, 4.0], [34.18635, 45.126075, 1.0], [34.186546, 45.126057, 1.0], [34.186703, 43.854462, 1.0], [34.188843, 36.329475, 1.0], [34.190675, 43.887191, 1.0], [34.191865, 43.869169, 1.0], [34.192039, 42.497272, 3.0], [34.192306, 43.886237, 1.0], [34.19246, 43.88619, 1.0], [34.19246, 43.886889, 1.0], [34.192464, 43.88616, 1.0], [34.192504, 43.886392, 2.0], [34.192537, 43.886423, 5.0], [34.192768, 43.886516, 1.0], [34.192941, 43.889519, 1.0], [34.19421, 43.874931, 2.0], [34.19434, 43.874561, 1.0], [34.194717, 43.800671, 5.0], [34.196002, 43.883727, 1.0], [34.196331, 36.357601, 13.0], [34.198803, 43.873311, 2.0], [34.19899, 45.193089, 1.0], [34.200505, 43.887076, 1.0], [34.202414, 45.194151, 1.0], [34.202569, 45.194256, 1.0], [34.203949, 44.507398, 1.0], [34.206111, 44.006667, 3.0], [34.206191, 44.006638, 4.0], [34.208416, 43.890713, 257.0], [34.209771, 45.004063, 1.0], [34.210732, 45.090474, 1.0], [34.212222, 36.396389, 1.0], [34.215109, 44.490007, 2.0], [34.215272, 36.444364, 1.0], [34.216075, 44.452606, 1.0], [34.221798, 36.376812, 7.0], [34.224577, 43.915933, 1.0], [34.227745, 37.244217, 10.0], [34.228985, 43.638065, 2.0], [34.229914, 44.981345, 2.0], [34.239952, 44.510111, 5.0], [34.239965, 44.510157, 11.0], [34.240012, 44.503003, 1.0], [34.240378, 45.136952, 1.0], [34.240574, 44.502465, 1.0], [34.241562, 44.528622, 3.0], [34.241609, 44.516499, 1.0], [34.24189, 37.04668, 3.0], [34.24422, 45.207014, 1.0], [34.244834, 36.402761, 1.0], [34.245095, 45.126609, 2.0], [34.246111, 45.208821, 1.0], [34.250671, 38.298319, 1.0], [34.256642, 42.200714, 1.0], [34.256706, 38.317014, 1.0], [34.256712, 38.316572, 2.0], [34.256841, 38.317288, 3.0], [34.257294, 35.666948, 1.0], [34.25769, 44.638794, 1.0], [34.260719, 42.483326, 1.0], [34.262422, 44.185208, 1.0], [34.262681, 44.184814, 1.0], [34.263934, 42.530819, 1.0], [34.266661, 42.528929, 3.0], [34.267391, 7.724949, 1.0], [34.267394, 47.11118, 2.0], [34.271034, 45.163567, 111.0], [34.271765, 44.682169, 1.0], [34.271785, 45.166422, 1.0], [34.273704, 45.165826, 1.0], [34.275066, 44.537865, 63.0], [34.276091, 44.538484, 1.0], [34.276147, 44.538422, 2.0], [34.276815, 42.618626, 1.0], [34.276951, 43.801308, 1.0], [34.283333, 43.766667, 2.0], [34.28601, 44.546341, 1.0], [34.289224, 44.543094, 2.0], [34.2901, 43.852592, 2.0], [34.300802, 45.100047, 1.0], [34.303706, 42.067211, 1.0], [34.306833, 43.639857, 1.0], [34.307707, 45.180621, 2.0], [34.309413, 45.220885, 1.0], [34.316204, 43.868365, 3.0], [34.316858, 41.16026, 2.0], [34.31724, 44.556446, 1.0], [34.319722, 45.050278, 2.0], [34.319808, 45.05079, 1.0], [34.32183, 44.479528, 2.0], [34.321916, 38.596644, 1.0], [34.32587, 45.165485, 2.0], [34.326581, 45.054344, 1.0], [34.327011, 45.013553, 1.0], [34.32716, 44.726597, 6.0], [34.333224, 45.383289, 1.0], [34.333333, 44.733333, 1.0], [34.333333, 45.383333, 2.0], [34.333894, 45.382883, 1.0], [34.341104, 43.808135, 3.0], [34.341972, 36.478027, 7.0], [34.342749, 45.385068, 1.0], [34.343436, 45.27719, 1.0], [34.344291, 44.468521, 1.0], [34.347343, 45.383274, 41.0], [34.347915, 43.946574, 1.0], [34.351646, 41.093565, 1.0], [34.352695, 44.927653, 1.0], [34.353012, 36.511322, 2.0], [34.353209, 44.681446, 1.0], [34.355737, 45.383437, 1.0], [34.356944, 45.243333, 1.0], [34.357292, 45.198143, 1.0], [34.361907, 44.500208, 1.0], [34.363503, 41.115997, 43.0], [34.363979, 44.503483, 1.0], [34.365089, 43.74522, 8.0], [34.366667, 43.816667, 1.0], [34.367733, 41.985275, 26.0], [34.368788, 41.094136, 1.0], [34.368794, 41.094472, 1.0], [34.369167, 43.764167, 1.0], [34.372222, 41.9875, 2.0], [34.373209, 41.986585, 1.0], [34.373264, 43.76318, 6.0], [34.374994, 41.054763, 1.0], [34.376365, 36.025076, 1.0], [34.377976, 44.935498, 1.0], [34.378387, 41.035515, 3.0], [34.381339, 36.067396, 1.0], [34.382865, 36.069574, 1.0], [34.384521, 37.993464, 1.0], [34.386194, 35.782764, 1.0], [34.387235, 41.047971, 1.0], [34.392696, 45.003497, 1.0], [34.392989, 44.974233, 1.0], [34.394057, 41.079448, 1.0], [34.395153, 36.387466, 2.0], [34.396312, 35.89583, 1.0], [34.396358, 35.895833, 2.0], [34.396358, 36.38662, 1.0], [34.396936, 36.387763, 1.0], [34.397052, 36.387171, 25.0], [34.397491, 36.393486, 1.0], [34.399525, 45.142685, 2.0], [34.405209, 41.893338, 1.0], [34.410199, 41.004663, 1.0], [34.410422, 43.825001, 1.0], [34.416145, 41.960352, 1.0], [34.4167, 3.83333, 1.0], [34.416846, 35.826267, 1.0], [34.41688, 41.09998, 1.0], [34.417522, 3.831195, 1.0], [34.420096, 44.910773, 1.0], [34.424243, 36.412609, 1.0], [34.425036, 37.440548, 1.0], [34.42525, 41.653128, 1.0], [34.425826, 44.939787, 1.0], [34.425914, 35.842154, 2.0], [34.428501, 35.837965, 1.0], [34.429025, 41.90151, 1.0], [34.430824, 44.0191, 7.0], [34.430836, 44.93409, 46.0], [34.430986, 35.835675, 2.0], [34.432168, 44.935032, 1.0], [34.432587, 41.229725, 7.0], [34.433296, 44.172177, 2.0], [34.433601, 35.845879, 2.0], [34.434148, 35.837488, 1.0], [34.434262, 35.842166, 1.0], [34.434606, 35.842489, 1.0], [34.434935, 35.836282, 1.0], [34.435767, 35.851304, 1.0], [34.435775, 3.896768, 1.0], [34.435937, 35.851477, 1.0], [34.43608, 35.833084, 1.0], [34.436225, 35.846252, 1.0], [34.436654, 35.850851, 1.0], [34.436781, 44.178814, 1.0], [34.437114, 43.800526, 1.0], [34.437213, 35.830479, 1.0], [34.437376, 35.851879, 1.0], [34.437637, 35.836016, 1.0], [34.437773, 43.800411, 1.0], [34.43789, 35.832915, 1.0], [34.437921, 35.831296, 1.0], [34.437956, 35.83113, 2.0], [34.43806, 35.830823, 1.0], [34.438062, 35.830744, 2.0], [34.438077, 35.830869, 1.0], [34.438082, 35.836209, 1.0], [34.438087, 35.830777, 2.0], [34.438094, 35.830837, 51.0], [34.438136, 35.830683, 7.0], [34.438279, 35.832307, 6.0], [34.438345, 35.831539, 1.0], [34.438345, 35.832569, 1.0], [34.438539, 42.197165, 1.0], [34.438699, 35.831001, 1.0], [34.438844, 43.981389, 1.0], [34.438859, 35.836896, 1.0], [34.439089, 35.830829, 2.0], [34.439228, 35.831848, 1.0], [34.439258, 35.831683, 1.0], [34.439478, 35.833427, 1.0], [34.439731, 44.172027, 1.0], [34.439761, 43.868988, 4.0], [34.439901, 35.848004, 1.0], [34.439902, 35.848004, 5.0], [34.439939, 35.847904, 1.0], [34.439973, 35.830951, 1.0], [34.440817, 44.172027, 5.0], [34.443955, 35.854032, 1.0], [34.445492, 44.164839, 1.0], [34.446061, 35.826225, 1.0], [34.446728, 35.823712, 1.0], [34.447675, 35.868171, 1.0], [34.447887, 44.432913, 1.0], [34.45, 43.583333, 4.0], [34.451935, 40.91119, 4.0], [34.452466, 44.167737, 1.0], [34.452856, 35.864631, 1.0], [34.454582, 44.819679, 1.0], [34.455437, 43.797672, 1.0], [34.45725, 43.799344, 1.0], [34.4575, 43.798333, 1.0], [34.457623, 46.670534, 1.0], [34.458684, 43.795649, 100.0], [34.458889, 43.791004, 41.0], [34.460058, 45.294431, 1.0], [34.461111, 44.846389, 1.0], [34.461711, 43.839173, 1.0], [34.462704, 44.428081, 1.0], [34.463218, 35.899907, 1.0], [34.466549, 36.389971, 1.0], [34.466954, 44.424649, 1.0], [34.468799, 36.041834, 1.0], [34.469521, 44.494501, 1.0], [34.471082, 43.525348, 1.0], [34.471867, 44.457189, 1.0], [34.473236, 43.73362, 2.0], [34.473267, 36.195794, 1.0], [34.474993, 41.905622, 1.0], [34.477619, 41.920773, 32.0], [34.479675, 35.936031, 2.0], [34.480301, 7.522332, 1.0], [34.480383, 36.43939, 1.0], [34.48074, 36.441679, 1.0], [34.480786, 36.441669, 1.0], [34.481341, 43.743567, 1.0], [34.481937, 43.778867, 1.0], [34.483333, 44.633333, 1.0], [34.485267, 7.521852, 1.0], [34.485829, 7.518017, 1.0], [34.48593, 7.51865, 1.0], [34.486483, 43.780136, 1.0], [34.487181, 43.779864, 1.0], [34.487799, 44.17393, 1.0], [34.488312, 0.160684, 1.0], [34.497206, 35.994672, 1.0], [34.498226, 35.959849, 1.0], [34.500181, 44.047421, 1.0], [34.501541, 43.749444, 1.0], [34.50203, 43.532467, 1.0], [34.502129, 44.623301, 1.0], [34.503636, 43.757174, 1.0], [34.503893, 35.950765, 1.0], [34.505288, 43.614455, 1.0], [34.508196, 36.581794, 1.0], [34.509663, 36.580059, 6.0], [34.510595, 35.96949, 1.0], [34.512922, 36.57682, 1.0], [34.513333, 35.959722, 1.0], [34.513395, 43.481948, 1.0], [34.514806, 45.579741, 1.0], [34.519313, 43.724957, 1.0], [34.520092, 37.508011, 1.0], [34.520279, 37.630001, 1.0], [34.523129, 37.625414, 1.0], [34.524661, 43.515987, 1.0], [34.525, 36.241667, 1.0], [34.52601, 37.628807, 1.0], [34.526913, 43.708546, 11.0], [34.529187, 43.510494, 2.0], [34.529187, 43.576412, 1.0], [34.530573, 37.627651, 1.0], [34.530617, 44.907397, 1.0], [34.531391, 43.862242, 1.0], [34.532032, 36.059761, 1.0], [34.532876, 36.132813, 2.0], [34.533023, 8.366422, 1.0], [34.533712, 43.483028, 1.0], [34.533712, 43.488522, 1.0], [34.533712, 43.494015, 2.0], [34.533712, 43.499937, 1.0], [34.533712, 43.510494, 1.0], [34.533753, 43.483738, 80.0], [34.53584, 43.763918, 1.0], [34.535939, 44.505219, 3.0], [34.535975, 43.488922, 1.0], [34.536373, 43.489783, 1.0], [34.53774, 36.152568, 1.0], [34.538238, 43.483028, 1.0], [34.538238, 43.488522, 1.0], [34.5405, 43.51367, 2.0], [34.540786, 44.6472, 1.0], [34.542171, 43.468445, 1.0], [34.542762, 43.477478, 1.0], [34.542762, 43.494015, 1.0], [34.542762, 43.552122, 1.0], [34.54393, 36.080179, 1.0], [34.544034, 36.07983, 1.0], [34.547204, 36.422645, 1.0], [34.54906, 43.485533, 1.0], [34.549549, 43.63452, 1.0], [34.550609, 38.268826, 1.0], [34.550768, 38.268761, 1.0], [34.551442, 37.814298, 1.0], [34.554427, 38.282841, 1.0], [34.555575, 43.178722, 1.0], [34.557125, 38.290454, 1.0], [34.558525, 38.293671, 25.0], [34.562296, 36.670567, 1.0], [34.565, 44.515556, 2.0], [34.56667, 37.48333, 1.0], [34.567274, 44.513969, 1.0], [34.570353, 37.194397, 1.0], [34.575398, 36.089776, 1.0], [34.580192, 39.507971, 1.0], [34.581827, 36.788506, 1.0], [34.582001, 43.724945, 6.0], [34.582073, 37.280106, 1.0], [34.582778, 44.646111, 1.0], [34.582799, 43.606348, 2.0], [34.583687, 36.116741, 1.0], [34.590444, 43.56903, 1.0], [34.593026, 43.954452, 1.0], [34.593144, -0.547055, 1.0], [34.593498, -0.546559, 1.0], [34.595041, 43.919777, 1.0], [34.597494, 43.703468, 1.0], [34.598415, 36.552509, 1.0], [34.599167, -1.7825, 1.0], [34.599591, 43.683533, 1.0], [34.599706, 43.68369, 1.0], [34.599868, 3.195534, 2.0], [34.6, 43.683333, 6.0], [34.600037, 43.683333, 1.0], [34.600345, 43.683367, 2.0], [34.600737, 43.782225, 1.0], [34.600851, 43.924233, 1.0], [34.602982, 37.086327, 2.0], [34.60436, 43.719039, 1.0], [34.604447, 43.685789, 1.0], [34.608148, 38.430948, 1.0], [34.608564, 43.654323, 2.0], [34.610512, 43.673605, 1.0], [34.610827, 43.455734, 1.0], [34.612778, 44.620556, 1.0], [34.613045, 43.612453, 2.0], [34.615191, 43.593469, 1.0], [34.615637, 43.683781, 1.0], [34.615881, 43.717196, 1.0], [34.617528, 36.376405, 1.0], [34.617731, 43.703778, 1.0], [34.617864, 43.656741, 1.0], [34.61872, 43.656722, 1.0], [34.619365, 36.272343, 1.0], [34.619647, 43.488464, 1.0], [34.621521, 43.668377, 393.0], [34.621576, 43.676183, 1.0], [34.621709, 43.660843, 1.0], [34.624089, 43.668541, 1.0], [34.624168, 43.477478, 1.0], [34.629818, 45.309994, 1.0], [34.632646, -0.20508, 1.0], [34.633333, 45.3, 1.0], [34.634483, 36.2318, 1.0], [34.635273, 43.589817, 1.0], [34.64299, -1.56145, 1.0], [34.643338, 43.687728, 1.0], [34.644722, 43.7, 1.0], [34.646884, 43.714248, 2.0], [34.648056, -1.753056, 1.0], [34.648913, 44.654834, 1.0], [34.649167, 0.015833, 2.0], [34.657579, 42.943956, 1.0], [34.658697, 43.874931, 1.0], [34.662664, 44.948313, 1.0], [34.665988, 36.837354, 1.0], [34.666469, 43.700442, 1.0], [34.666667, 3.25, 3.0], [34.667608, 38.605832, 1.0], [34.671391, 36.259159, 5.0], [34.671752, 44.160869, 1.0], [34.673553, 37.816219, 1.0], [34.674221, 43.544418, 1.0], [34.675, 4.089444, 1.0], [34.675359, -0.620728, 1.0], [34.675551, 43.550642, 1.0], [34.675971, 43.5474, 1.0], [34.676135, 43.486204, 1.0], [34.680833, 4.096944, 3.0], [34.68245, 43.549927, 1.0], [34.683358, 44.966637, 2.0], [34.689444, 44.960556, 1.0], [34.689575, 44.066032, 1.0], [34.68975, 43.585547, 1.0], [34.691246, 43.718243, 4.0], [34.693892, 42.682317, 2.0], [34.703195, 43.777714, 1.0], [34.703497, 37.736956, 1.0], [34.705105, 45.564956, 1.0], [34.70514, 42.296644, 1.0], [34.705948, 43.697075, 9.0], [34.706559, 44.220998, 3.0], [34.707778, 38.790235, 1.0], [34.709277, 43.69508, 3.0], [34.710287, 44.286084, 1.0], [34.710743, 37.764854, 1.0], [34.711769, 44.22908, 10.0], [34.714135, 46.652317, 1.0], [34.715336, 36.255295, 1.0], [34.717705, 36.722824, 84.0], [34.718397, 43.184602, 1.0], [34.720554, 42.702378, 1.0], [34.720916, 44.606096, 4.0], [34.722992, 37.046791, 1.0], [34.724027, 36.716151, 1.0], [34.726269, 44.584908, 13.0], [34.727162, 44.585629, 1.0], [34.727722, 43.649687, 2.0], [34.727959, 37.707956, 1.0], [34.730833, 36.709444, 3.0], [34.73133, 36.710204, 1.0], [34.733713, 43.789902, 1.0], [34.733879, 36.71817, 1.0], [34.738251, 44.439114, 2.0], [34.738889, 44.513056, 2.0], [34.740353, 36.670589, 2.0], [34.743267, 43.663277, 2.0], [34.744444, 44.967778, 1.0], [34.745045, 1.994939, 1.0], [34.75, 43.65, 3.0], [34.751876, 44.321941, 1.0], [34.752182, 8.058859, 5.0], [34.752379, 44.324843, 1.0], [34.760859, 42.804933, 1.0], [34.76086, 42.804933, 1.0], [34.76228, 44.390701, 1.0], [34.762303, 37.553453, 2.0], [34.762748, 43.596413, 2.0], [34.763144, 44.570659, 2.0], [34.769786, 43.556419, 1.0], [34.772076, 43.797684, 1.0], [34.773461, 44.587727, 1.0], [34.780254, 8.151512, 1.0], [34.78111, 43.130579, 1.0], [34.784212, 44.709582, 1.0], [34.784906, -0.573178, 1.0], [34.786389, -0.341944, 1.0], [34.789675, -0.553424, 1.0], [34.789722, 7.816944, 1.0], [34.789731, 44.600111, 1.0], [34.790118, 43.611479, 1.0], [34.790665, 44.662151, 38.0], [34.792691, 44.666582, 4.0], [34.795467, 44.669154, 1.0], [34.801554, 43.424695, 1.0], [34.802703, -0.327917, 1.0], [34.80273, -0.3283, 1.0], [34.803309, 43.191128, 1.0], [34.803412, 44.625464, 4.0], [34.804722, 45.646667, 1.0], [34.806469, 44.495682, 3.0], [34.807835, 43.057959, 1.0], [34.808188, 44.48658, 1.0], [34.811733, 37.306316, 1.0], [34.811952, 44.522008, 2.0], [34.812582, 37.477768, 1.0], [34.814213, 44.057988, 1.0], [34.814651, 37.01833, 1.0], [34.814718, 1.682723, 2.0], [34.817328, -0.623319, 1.0], [34.820455, 43.550298, 3.0], [34.821555, 43.041724, 2.0], [34.823838, 43.066796, 1.0], [34.825424, 43.169026, 1.0], [34.829869, 43.518133, 2.0], [34.831081, 37.684139, 2.0], [34.831917, 36.857235, 1.0], [34.833996, 36.855545, 1.0], [34.834274, 37.324997, 1.0], [34.834415, 43.515133, 20.0], [34.836949, 5.720851, 1.0], [34.839107, 7.031391, 1.0], [34.840833, 6.041389, 1.0], [34.841236, 36.983627, 1.0], [34.841492, 37.939548, 1.0], [34.845033, 43.862096, 1.0], [34.845768, 36.672234, 1.0], [34.846589, 71.097317, 1.0], [34.847364, 43.921156, 1.0], [34.848177, 44.656766, 1.0], [34.848248, 7.866552, 1.0], [34.848299, 43.924511, 1.0], [34.849177, 36.885315, 1.0], [34.85, 5.733333, 1.0], [34.851306, 9.142848, 1.0], [34.851667, 36.869096, 1.0], [34.852949, 1.520862, 1.0], [34.856136, 44.569965, 2.0], [34.857655, 43.083708, 1.0], [34.857777, 40.575726, 1.0], [34.85925, 44.322065, 1.0], [34.870552, 36.6525, 1.0], [34.871514, 44.627427, 1.0], [34.874279, 36.919495, 1.0], [34.879991, 44.621049, 20.0], [34.880204, 38.873422, 1.0], [34.880277, 44.620645, 1.0], [34.880732, 44.619885, 1.0], [34.880926, 44.620868, 2.0], [34.880927, 44.620853, 2.0], [34.880944, 44.620837, 1.0], [34.880964, 44.620763, 12.0], [34.88105, 44.620697, 2.0], [34.881064, 44.625461, 1.0], [34.881301, 44.630574, 1.0], [34.881315, 44.621403, 11.0], [34.881348, 44.62513, 264.0], [34.881784, 43.895452, 1.0], [34.883135, 44.626893, 1.0], [34.883333, 35.883333, 1.0], [34.884201, 38.872517, 4.0], [34.884941, 43.492664, 5.0], [34.88562, 44.639339, 1.0], [34.88576, 44.639424, 3.0], [34.886917, 6.546221, 1.0], [34.88915, 6.17682, 1.0], [34.89165, 7.23539, 1.0], [34.892778, 36.876111, 1.0], [34.892883, 43.102278, 1.0], [34.894363, 36.493702, 1.0], [34.894387, 44.659142, 1.0], [34.895139, 43.810638, 1.0], [34.895538, 43.108642, 1.0], [34.89576, 43.545483, 3.0], [34.895928, 35.886652, 3.0], [34.896069, 43.463867, 1.0], [34.896112, 35.886553, 1.0], [34.8962, 43.808772, 1.0], [34.896351, 35.886443, 2.0], [34.89638, 3.48543, 1.0], [34.896537, 43.812777, 1.0], [34.896863, 43.498934, 1.0], [34.897027, 43.806586, 1.0], [34.897207, 44.689211, 1.0], [34.897607, 43.806947, 2.0], [34.898406, 43.809551, 1.0], [34.899761, 43.490101, 5.0], [34.899807, 43.80851, 1.0], [34.899861, 43.807063, 1.0], [34.900464, 43.807014, 1.0], [34.900948, 44.48682, 3.0], [34.900964, 43.809911, 1.0], [34.901822, 43.81035, 1.0], [34.902587, 43.808922, 1.0], [34.904414, -1.034689, 1.0], [34.904548, 36.769751, 1.0], [34.909019, 43.42271, 1.0], [34.914142, 43.405457, 1.0], [34.919812, 43.388185, 2.0], [34.920441, 43.810852, 1.0], [34.92065, 36.659538, 1.0], [34.921441, 43.811022, 2.0], [34.921836, 43.806527, 1.0], [34.922668, 43.456279, 2.0], [34.922718, 43.483088, 1.0], [34.923411, 43.811052, 2.0], [34.923742, 43.808691, 2.0], [34.923745, 43.809727, 1.0], [34.924488, 43.808836, 1.0], [34.924652, 43.809155, 1.0], [34.92485, 43.491413, 219.0], [34.924968, 43.808521, 1.0], [34.925064, 43.807106, 1.0], [34.925074, 43.809004, 7.0], [34.92662, 36.732517, 3.0], [34.92832, 43.501463, 1.0], [34.928401, 43.461612, 1.0], [34.928632, 43.495831, 1.0], [34.928807, 43.489827, 1.0], [34.928864, 43.492923, 3.0], [34.928947, 43.493056, 1.0], [34.929072, 43.493196, 1.0], [34.929095, 43.493056, 1.0], [34.929123, 43.493056, 1.0], [34.929164, 43.49292, 1.0], [34.929167, 43.493056, 16.0], [34.929169, 43.49326, 1.0], [34.929553, 43.492264, 1.0], [34.930077, 43.492846, 2.0], [34.930162, 43.491904, 1.0], [34.931046, 43.491145, 1.0], [34.931628, 43.177462, 1.0], [34.932454, 43.481063, 1.0], [34.933361, 43.412552, 36.0], [34.934021, 44.732433, 1.0], [34.934638, 43.444549, 1.0], [34.936233, 40.586269, 1.0], [34.939945, 8.566608, 1.0], [34.94083, 43.449726, 1.0], [34.94338, 5.996477, 1.0], [34.943422, 43.496511, 1.0], [34.949444, 6.003611, 2.0], [34.949694, 43.439056, 1.0], [34.951242, 43.346128, 1.0], [34.951523, 36.581963, 1.0], [34.966629, 43.702281, 1.0], [34.96725, 7.907657, 2.0], [34.967843, 43.444691, 1.0], [34.970222, 44.288788, 1.0], [34.974637, 36.50439, 1.0], [34.974928, 44.21583, 1.0], [34.975833, 4.1225, 1.0], [34.979444, 44.775278, 1.0], [34.982067, 40.53936, 1.0], [34.983882, 43.761533, 1.0], [34.986745, 43.925794, 2.0], [34.992645, 43.719736, 1.0], [34.99519, 7.301591, 2.0], [34.998618, 43.254581, 1.0], [34.998619, 7.308152, 1.0], [35.000636, 7.309944, 4.0], [35.00485, 43.491499, 1.0], [35.005104, 43.49686, 4.0], [35.007987, 43.503203, 1.0], [35.008038, 43.676112, 1.0], [35.008433, 43.502453, 1.0], [35.008781, 8.317676, 1.0], [35.009102, 43.356161, 1.0], [35.009722, 8.301111, 1.0], [35.010072, 43.728868, 1.0], [35.011197, 43.505267, 2.0], [35.011756, 43.502299, 1.0], [35.012104, 43.579542, 1.0], [35.012314, 43.562393, 1.0], [35.012791, 37.051506, 9.0], [35.012809, 43.501051, 1.0], [35.015777, 43.500912, 1.0], [35.015778, 40.455212, 11.0], [35.015846, 43.722516, 1.0], [35.016809, 43.445281, 1.0], [35.018003, 43.445215, 3.0], [35.023304, 43.370753, 1.0], [35.024167, 8.024722, 1.0], [35.025494, 43.645123, 1.0], [35.025769, 43.703602, 1.0], [35.026347, 43.643016, 1.0], [35.029195, 43.688809, 1.0], [35.030507, 43.646117, 2.0], [35.031751, 43.646966, 1.0], [35.031778, 43.622394, 1.0], [35.031981, 43.647452, 1.0], [35.032144, 43.647339, 1.0], [35.0325, 43.646389, 7.0], [35.03253, 43.646459, 1.0], [35.032788, 37.392071, 1.0], [35.032944, 36.938644, 1.0], [35.03415, 43.632833, 4.0], [35.035061, 43.646372, 1.0], [35.036841, 7.021988, 1.0], [35.037258, 7.009526, 2.0], [35.037411, 43.97273, 1.0], [35.038324, 7.008026, 1.0], [35.038333, -1.322778, 1.0], [35.038992, 36.007233, 1.0], [35.039704, 43.659398, 1.0], [35.04356, 46.359928, 1.0], [35.046007, 45.732851, 1.0], [35.046111, 40.4875, 1.0], [35.049127, 44.371914, 1.0], [35.049437, 43.558042, 1.0], [35.05, 0.783333, 1.0], [35.05017, 43.661864, 1.0], [35.050802, 43.558242, 1.0], [35.051001, 43.559456, 1.0], [35.064873, 43.551613, 15.0], [35.065278, 44.3875, 1.0], [35.065342, 36.342086, 2.0], [35.068056, 36.888889, 1.0], [35.073907, 39.072295, 1.0], [35.079486, 44.8571, 1.0], [35.080915, 8.660059, 2.0], [35.080975, 40.593259, 1.0], [35.082116, 44.321932, 1.0], [35.084302, 44.323967, 2.0], [35.084499, 44.323656, 6.0], [35.084764, 44.325106, 1.0], [35.085266, 44.324777, 1.0], [35.085501, 8.668789, 1.0], [35.087472, 44.324648, 1.0], [35.087589, 44.322023, 1.0], [35.090432, 44.321844, 1.0], [35.090833, 43.294722, 1.0], [35.098487, 44.207534, 1.0], [35.098535, 43.418528, 1.0], [35.099121, 40.459324, 1.0], [35.10208, 44.37134, 1.0], [35.104186, 43.393449, 1.0], [35.104691, 37.210419, 1.0], [35.105485, 44.297213, 1.0], [35.107778, 7.413056, 1.0], [35.108004, 43.34216, 3.0], [35.113013, 43.278567, 1.0], [35.113532, 44.458257, 1.0], [35.11431, 44.222439, 1.0], [35.117097, 44.308575, 1.0], [35.117592, 7.767333, 1.0], [35.118056, 7.767222, 1.0], [35.11821, 7.76722, 1.0], [35.119653, 44.086188, 1.0], [35.120334, 36.717506, 1.0], [35.126111, 0.445833, 1.0], [35.128894, 7.959137, 1.0], [35.129181, 36.760738, 16.0], [35.129299, 37.275085, 2.0], [35.131156, 43.427336, 2.0], [35.13451, 7.955246, 1.0], [35.134994, 44.089039, 1.0], [35.135251, 44.086719, 1.0], [35.135633, 7.961883, 1.0], [35.135667, 44.086625, 1.0], [35.135796, 37.020739, 1.0], [35.135849, 44.087593, 1.0], [35.135849, 44.087712, 12.0], [35.136031, 44.087539, 1.0], [35.136112, 43.4225, 1.0], [35.13636, 44.094088, 1.0], [35.136412, 44.08767, 1.0], [35.136629, 44.087225, 1.0], [35.137009, 44.44664, 11.0], [35.139015, 44.400004, 1.0], [35.139167, 6.308611, 1.0], [35.139668, 44.13372, 1.0], [35.140458, 44.211664, 1.0], [35.140888, 36.755199, 1.0], [35.142168, 44.447382, 1.0], [35.142468, 43.873897, 1.0], [35.143172, 44.446499, 9.0], [35.148073, 44.333556, 1.0], [35.149576, 43.924697, 1.0], [35.15, 36.516667, 1.0], [35.15147, 37.220161, 1.0], [35.152853, -1.091606, 1.0], [35.155735, 40.42632, 1.0], [35.157407, 8.809937, 1.0], [35.1575, 8.195556, 1.0], [35.158718, 43.457292, 1.0], [35.159471, 44.382218, 1.0], [35.159893, 44.30555, 1.0], [35.161325, 44.391842, 1.0], [35.162159, 36.731205, 1.0], [35.16277, 6.242289, 1.0], [35.16296, 44.422688, 2.0], [35.163462, 40.426102, 1.0], [35.165036, 44.343759, 1.0], [35.166361, 8.833522, 1.0], [35.166523, 8.83326, 1.0], [35.166667, 8.833333, 3.0], [35.167084, 8.42109, 1.0], [35.168476, 8.832268, 1.0], [35.170721, 8.829889, 1.0], [35.170721, 8.831264, 1.0], [35.172505, 43.377435, 1.0], [35.173493, 44.424202, 1.0], [35.175329, 43.393374, 1.0], [35.177754, 40.425148, 1.0], [35.1782, 43.375203, 1.0], [35.179533, 40.423017, 1.0], [35.182417, 43.389854, 3.0], [35.183333, 45.983333, 4.0], [35.183386, 44.311215, 1.0], [35.183727, 44.354172, 1.0], [35.183965, 44.302371, 1.0], [35.184164, 44.350036, 1.0], [35.184191, 8.806715, 1.0], [35.187442, 43.838134, 1.0], [35.188333, 44.143611, 2.0], [35.188696, -0.630761, 1.0], [35.188786, 37.211583, 4.0], [35.188787, 37.211583, 4.0], [35.189531, 44.120826, 1.0], [35.194012, 6.915436, 1.0], [35.194262, 37.491843, 1.0], [35.19533, 43.34209, 1.0], [35.196243, 44.19977, 1.0], [35.196285, 36.668919, 1.0], [35.197147, 44.897963, 1.0], [35.198963, 43.793133, 2.0], [35.19939, -0.632858, 2.0], [35.2, -0.633333, 1.0], [35.200928, 43.274925, 2.0], [35.202162, 8.69557, 1.0], [35.203569, 43.27367, 1.0], [35.206667, 8.682778, 1.0], [35.206705, 8.661579, 1.0], [35.207531, 8.682468, 1.0], [35.208519, 43.894985, 1.0], [35.209858, 8.660662, 1.0], [35.210234, 4.188366, 1.0], [35.212429, 43.411167, 1.0], [35.21462, 0.96719, 1.0], [35.21465, 44.15453, 1.0], [35.215491, 43.713711, 2.0], [35.216454, 37.16629, 1.0], [35.219386, 43.714248, 1.0], [35.222231, 44.362898, 1.0], [35.227327, 43.825115, 1.0], [35.22918, 9.12621, 2.0], [35.230349, 44.368411, 1.0], [35.232159, 6.239777, 1.0], [35.23615, 43.4391, 1.0], [35.236431, 43.466814, 1.0], [35.2378, 40.319072, 1.0], [35.238808, 43.510903, 1.0], [35.239591, 8.750597, 3.0], [35.239742, 44.206032, 1.0], [35.243327, 8.753624, 1.0], [35.244269, 43.566805, 1.0], [35.244444, 43.893056, 4.0], [35.244621, 44.275486, 44.0], [35.246756, 43.904853, 1.0], [35.247395, 37.505928, 4.0], [35.248444, 36.571445, 2.0], [35.250549, 40.360519, 1.0], [35.251243, 44.318079, 2.0], [35.252529, 43.906586, 2.0], [35.252605, 36.756168, 2.0], [35.255685, 37.568217, 1.0], [35.255712, 43.474789, 1.0], [35.256849, 44.365502, 1.0], [35.257854, 43.436784, 1.0], [35.258056, 43.4025, 1.0], [35.25881, 6.34706, 1.0], [35.260258, 43.40028, 3.0], [35.260414, 36.383118, 1.0], [35.260639, 36.606628, 1.0], [35.261612, 43.910198, 1.0], [35.262654, 36.606693, 2.0], [35.263184, 44.180478, 1.0], [35.263396, 40.28768, 1.0], [35.263863, 37.413395, 1.0], [35.265597, 44.31301, 1.0], [35.266373, 36.710999, 3.0], [35.266398, 44.384876, 1.0], [35.267582, 44.313382, 1.0], [35.267697, 7.750583, 2.0], [35.267746, 44.169822, 1.0], [35.269694, 0.356069, 1.0], [35.269941, 43.912673, 1.0], [35.269941, 43.912713, 1.0], [35.270832, 36.293419, 1.0], [35.270833, 43.846944, 1.0], [35.270888, 43.879224, 1.0], [35.271023, 43.458084, 28.0], [35.271255, 43.913791, 1.0], [35.272076, 43.915043, 52.0], [35.272259, 43.462072, 2.0], [35.27242, 43.92025, 1.0], [35.273309, 43.922168, 1.0], [35.274537, 43.952878, 1.0], [35.275533, 43.591875, 1.0], [35.276111, 43.591944, 1.0], [35.27615, 43.59217, 1.0], [35.277728, 43.59431, 1.0], [35.277773, 43.594326, 1.0], [35.277855, 43.59432, 1.0], [35.278431, 43.567577, 1.0], [35.278889, 43.994167, 1.0], [35.279077, 44.000564, 1.0], [35.279475, 44.00112, 1.0], [35.280111, 44.15082, 1.0], [35.280246, 43.996549, 1.0], [35.281712, 36.731991, 1.0], [35.283094, 40.170864, 2.0], [35.283095, 40.170864, 1.0], [35.283155, 40.170828, 1.0], [35.286536, 40.182669, 1.0], [35.287163, 43.99994, 1.0], [35.287704, 44.350642, 1.0], [35.28798, 40.308863, 2.0], [35.288069, 40.308863, 1.0], [35.288154, 36.741528, 1.0], [35.288593, 43.837578, 1.0], [35.289004, 43.452865, 1.0], [35.290356, 44.007872, 1.0], [35.290483, 36.345111, 1.0], [35.291111, 36.6625, 1.0], [35.291439, 36.748001, 3.0], [35.291923, 43.7958, 1.0], [35.293072, 40.169931, 1.0], [35.295399, 43.679208, 1.0], [35.296982, 40.202309, 2.0], [35.2976, 43.759377, 1.0], [35.29886, 43.627776, 1.0], [35.29937, 36.802521, 3.0], [35.3, 43.916667, 5.0], [35.3, 43.91667, 3.0], [35.301879, 44.329218, 1.0], [35.301975, 40.294624, 1.0], [35.302275, 46.035178, 2.0], [35.30254, 43.521938, 1.0], [35.303047, 44.329933, 46.0], [35.303992, 43.826155, 1.0], [35.304167, 6.284444, 1.0], [35.304217, 36.842386, 1.0], [35.30787, 44.148935, 1.0], [35.308311, 43.672309, 1.0], [35.309674, 43.736308, 1.0], [35.311037, 43.198927, 2.0], [35.311111, 44.840278, 1.0], [35.312046, 43.95185, 1.0], [35.313001, 43.181553, 1.0], [35.313056, 44.517222, 1.0], [35.313244, 44.517466, 1.0], [35.314053, 8.854157, 1.0], [35.314948, 44.510157, 2.0], [35.31495, 46.99883, 5.0], [35.315132, 44.510163, 1.0], [35.315286, 44.5099, 1.0], [35.316572, 43.766891, 1.0], [35.316633, 4.233336, 1.0], [35.316667, 43.766667, 19.0], [35.316703, 43.766448, 3.0], [35.31825, 8.852222, 1.0], [35.31957, 46.97547, 1.0], [35.319618, 43.747998, 1.0], [35.320671, 43.767281, 1.0], [35.321843, 40.041601, 1.0], [35.322994, 36.487899, 1.0], [35.323789, 43.772096, 17.0], [35.324134, 36.787612, 1.0], [35.324196, 43.767049, 1.0], [35.324367, 43.767261, 1.0], [35.324631, 43.76603, 1.0], [35.324778, 43.766922, 1.0], [35.324817, 43.766813, 1.0], [35.324825, 43.766922, 44.0], [35.325105, 43.767265, 1.0], [35.325116, 43.767041, 1.0], [35.326122, 43.780811, 102.0], [35.326164, 43.779353, 1.0], [35.32626, 43.7672, 1.0], [35.32633, 43.950348, 1.0], [35.326885, 44.244495, 4.0], [35.327313, 44.198146, 2.0], [35.327557, 8.840873, 1.0], [35.328571, 43.977871, 1.0], [35.328577, 43.943613, 1.0], [35.328582, 43.944722, 3.0], [35.328587, 43.950026, 4.0], [35.3289, 44.223724, 1.0], [35.329198, 43.943725, 1.0], [35.329201, 43.943679, 30.0], [35.330812, 43.944855, 1.0], [35.330812, 43.947601, 2.0], [35.330973, 40.113333, 1.0], [35.331341, 44.192681, 1.0], [35.331372, 44.285781, 2.0], [35.332015, 8.907482, 1.0], [35.333053, 43.936615, 1.0], [35.333061, 40.138737, 49.0], [35.3344, 40.144504, 3.0], [35.335293, 43.97192, 1.0], [35.335353, 44.422258, 1.0], [35.335611, 1.228357, 2.0], [35.335639, 43.953855, 5.0], [35.336, 40.145, 4.0], [35.336136, 40.145013, 1.0], [35.337487, 44.285178, 1.0], [35.339699, 37.984161, 1.0], [35.339774, 43.936615, 1.0], [35.339774, 43.942108, 2.0], [35.342015, 43.939362, 1.0], [35.346073, 40.178223, 1.0], [35.347661, 43.973247, 1.0], [35.348736, 43.969603, 7.0], [35.348841, 7.47169, 1.0], [35.348876, 44.078411, 1.0], [35.349159, 43.616886, 1.0], [35.350976, 44.387054, 1.0], [35.353604, 43.634348, 1.0], [35.356111, 44.311667, 1.0], [35.35763, 0.67115, 1.0], [35.357696, 43.953123, 2.0], [35.3578, 36.795525, 5.0], [35.358935, 44.145917, 3.0], [35.358949, 43.667673, 1.0], [35.359559, 43.667201, 2.0], [35.359687, 1.321803, 1.0], [35.36058, 44.471265, 1.0], [35.361572, 35.927155, 6.0], [35.364416, 44.084959, 1.0], [35.365051, 40.143057, 1.0], [35.366578, 37.784873, 1.0], [35.366656, 43.939362, 2.0], [35.366667, 44.133333, 4.0], [35.366957, 43.07065, 1.0], [35.367355, 1.322032, 1.0], [35.368895, 43.933868, 1.0], [35.371112, 40.140108, 1.0], [35.37157, 44.340825, 1.0], [35.372131, 36.692162, 1.0], [35.373611, 36.601667, 1.0], [35.375627, 5.905525, 2.0], [35.375638, 43.79545, 1.0], [35.376789, 36.53746, 1.0], [35.376865, 44.186796, 1.0], [35.37849, 1.32569, 7.0], [35.380061, 43.873292, 1.0], [35.38026, 44.122547, 1.0], [35.381111, 43.629444, 1.0], [35.381884, 43.941902, 1.0], [35.382304, 44.072132, 1.0], [35.383166, 1.056219, 1.0], [35.384586, 44.142969, 1.0], [35.384676, 44.006807, 1.0], [35.386699, 44.300289, 1.0], [35.386971, 40.088795, 2.0], [35.387245, 36.462536, 1.0], [35.387486, 44.175102, 1.0], [35.3875, 44.175278, 1.0], [35.387592, 44.175423, 1.0], [35.388979, 44.207696, 1.0], [35.38994, 44.217283, 1.0], [35.390412, 0.149499, 1.0], [35.391555, 0.588845, 1.0], [35.391899, 0.138188, 3.0], [35.393848, 43.259404, 3.0], [35.394318, 43.259367, 1.0], [35.395466, 9.197867, 1.0], [35.396305, 44.366372, 1.0], [35.398785, 44.370738, 1.0], [35.400169, 0.139852, 1.0], [35.400171, 0.139933, 1.0], [35.401174, 44.097525, 1.0], [35.401613, 8.125987, 1.0], [35.401883, 35.948314, 1.0], [35.402136, 9.206436, 1.0], [35.40225, 43.88447, 1.0], [35.40238, 8.128199, 1.0], [35.403101, 1.134674, 1.0], [35.403702, 44.001405, 1.0], [35.405506, 37.430546, 2.0], [35.406588, 44.677203, 1.0], [35.407086, 43.893465, 1.0], [35.407139, 8.120864, 11.0], [35.407278, 35.942679, 1.0], [35.408537, 43.684358, 1.0], [35.408611, 43.679444, 2.0], [35.409065, 36.4874, 1.0], [35.409901, 36.503838, 1.0], [35.41224, 43.111497, 1.0], [35.41292, 44.351126, 2.0], [35.413296, 36.33012, 1.0], [35.415855, 43.114769, 11.0], [35.416862, 44.272808, 1.0], [35.417222, 0.329722, 1.0], [35.418424, 44.193166, 12.0], [35.41907, 44.321702, 1.0], [35.421021, 40.051685, 1.0], [35.421111, 44.022778, 3.0], [35.421572, 43.124565, 1.0], [35.423363, 43.565338, 1.0], [35.425653, -0.313969, 1.0], [35.428684, 44.169233, 1.0], [35.428695, 44.082366, 1.0], [35.430138, 43.296707, 1.0], [35.43027, 43.988634, 1.0], [35.432298, 43.753804, 1.0], [35.432463, 9.214486, 1.0], [35.432724, 36.494053, 1.0], [35.433704, 44.260896, 1.0], [35.435909, 44.382034, 1.0], [35.436655, 44.395262, 1.0], [35.43811, 7.146648, 3.0], [35.438611, 44.164444, 1.0], [35.442745, 42.393838, 3.0], [35.44318, 36.650063, 3.0], [35.443204, 43.752504, 1.0], [35.445215, 44.282097, 3.0], [35.445314, 36.304043, 1.0], [35.446676, 44.343306, 1.0], [35.448272, 36.248169, 1.0], [35.450857, 0.418323, 1.0], [35.451722, 44.097407, 1.0], [35.45211, 44.375465, 903.0], [35.45341, 44.227363, 1.0], [35.454152, 43.260597, 1.0], [35.455077, 43.108764, 1.0], [35.455089, 42.395519, 1.0], [35.455377, 43.121244, 1.0], [35.455964, 36.059189, 1.0], [35.456432, 36.059241, 1.0], [35.456491, 36.058356, 1.0], [35.456645, 44.2159, 1.0], [35.457379, 36.059439, 1.0], [35.458981, 44.385064, 1.0], [35.463466, 44.276862, 1.0], [35.464344, 40.669575, 1.0], [35.465391, 44.382907, 1.0], [35.465576, 44.380392, 8.0], [35.465758, 44.377057, 1.0], [35.466275, 44.317002, 1.0], [35.466389, 43.783056, 1.0], [35.466611, 44.378409, 1.0], [35.466624, 43.238815, 1.0], [35.466633, 44.315808, 1.0], [35.466667, 44.316667, 14.0], [35.468763, 44.391003, 1.0], [35.46883, 44.39098, 4.0], [35.469596, 44.391235, 1.0], [35.469618, 43.118377, 1.0], [35.46979, 44.396337, 4.0], [35.469898, 44.127674, 2.0], [35.470616, 44.395746, 9.0], [35.470702, 43.284373, 1.0], [35.473077, 44.398121, 1.0], [35.474281, 43.146476, 1.0], [35.480704, 43.14091, 1.0], [35.485309, 43.24103, 1.0], [35.485666, 43.240378, 1.0], [35.485833, 43.240556, 5.0], [35.485901, 43.240965, 1.0], [35.485954, 43.1256, 1.0], [35.486772, 43.11298, 2.0], [35.487053, 43.113928, 1.0], [35.48727, 43.240556, 1.0], [35.488316, 43.267457, 1.0], [35.489091, 43.235535, 1.0], [35.490866, 43.097777, 2.0], [35.490866, 43.106017, 2.0], [35.491852, 43.239977, 1.0], [35.492336, 43.237241, 1.0], [35.492595, 43.240118, 1.0], [35.492627, 43.23736, 1.0], [35.492978, 43.242601, 1.0], [35.492997, 43.242478, 4.0], [35.493014, 43.23629, 1.0], [35.493072, 43.24237, 1.0], [35.493102, 43.097763, 1.0], [35.493102, 43.099136, 1.0], [35.493176, 44.639066, 1.0], [35.493212, 6.461728, 1.0], [35.493754, 43.097314, 1.0], [35.49422, 43.095016, 1.0], [35.49422, 43.096404, 1.0], [35.494573, 43.242373, 1.0], [35.494721, 43.097213, 3.0], [35.494846, 43.097162, 11.0], [35.494847, 43.097163, 1.0], [35.494865, 43.097162, 1.0], [35.495434, 44.402228, 1.0], [35.495468, 43.840836, 3.0], [35.496533, 43.095389, 2.0], [35.496667, 43.709167, 1.0], [35.496729, 43.13847, 1.0], [35.499439, 43.234894, 94.0], [35.5, 44.183333, 1.0], [35.502017, 43.866628, 1.0], [35.503611, 43.2325, 1.0], [35.503679, 43.112189, 1.0], [35.504722, 6.077778, 1.0], [35.504758, 43.237457, 1.0], [35.505731, 43.257433, 1.0], [35.513157, 43.272674, 2.0], [35.513207, 43.239973, 1.0], [35.515014, 43.237822, 1.0], [35.515016, 43.237822, 2.0], [35.518527, 43.831439, 1.0], [35.519444, -0.408333, 1.0], [35.520668, 35.794431, 1.0], [35.521104, 0.310564, 1.0], [35.521797, 46.183594, 6.0], [35.525556, 43.261111, 2.0], [35.525966, 6.229588, 1.0], [35.52832, -0.19369, 1.0], [35.528404, 35.79232, 11.0], [35.529722, 44.135556, 1.0], [35.529866, 43.840449, 1.0], [35.530457, 44.134772, 4.0], [35.532791, 44.827717, 2.0], [35.536944, 44.281944, 5.0], [35.537344, 44.281671, 1.0], [35.538646, 36.299847, 1.0], [35.54071, 35.795267, 1.0], [35.542674, 43.261805, 1.0], [35.545278, 44.068889, 1.0], [35.546145, 9.072172, 1.0], [35.546635, 45.300368, 1.0], [35.549128, 6.169825, 1.0], [35.549206, 51.366454, 1.0], [35.55, 6.166667, 7.0], [35.552179, 1.711274, 1.0], [35.555751, 43.209101, 1.0], [35.559468, 6.180464, 1.0], [35.560376, 44.524705, 1.0], [35.560755, 42.705866, 1.0], [35.561022, 6.173912, 1.0], [35.563069, 42.730889, 1.0], [35.563231, 6.228957, 1.0], [35.566772, 39.920612, 2.0], [35.567009, 45.385494, 24.0], [35.568057, 43.901621, 1.0], [35.569427, 42.723026, 16.0], [35.571859, 44.25402, 1.0], [35.572778, 42.733889, 1.0], [35.574122, 42.728694, 1.0], [35.574465, 42.73376, 1.0], [35.577645, 43.256273, 1.0], [35.581607, 43.829042, 1.0], [35.582375, 35.903152, 2.0], [35.584338, 5.860815, 1.0], [35.586488, 39.346406, 1.0], [35.587387, 42.71699, 1.0], [35.595943, 43.24268, 4.0], [35.597032, 36.057875, 1.0], [35.59901, 5.893085, 1.0], [35.599113, 36.92757, 2.0], [35.600121, 36.525667, 1.0], [35.600617, 42.88443, 1.0], [35.60176, 6.08408, 1.0], [35.60409, 0.58874, 1.0], [35.60986, -0.56448, 1.0], [35.610634, 43.24892, 4.0], [35.612213, 44.163273, 1.0], [35.612979, 36.002323, 1.0], [35.615623, 36.558395, 4.0], [35.616253, 36.655267, 1.0], [35.622445, 43.559293, 1.0], [35.623757, 43.939914, 2.0], [35.62392, 45.949173, 1.0], [35.624847, 36.136307, 1.0], [35.625256, 43.223236, 8.0], [35.628774, 5.909275, 1.0], [35.628849, 36.458794, 1.0], [35.630833, 5.911667, 1.0], [35.631248, 44.00856, 11.0], [35.631498, 43.631421, 1.0], [35.6325, 44.003889, 1.0], [35.633475, 51.362792, 1.0], [35.637707, 36.215786, 1.0], [35.644217, 36.701914, 1.0], [35.647797, 36.675259, 7.0], [35.65129, 9.05306, 1.0], [35.651733, 9.055869, 1.0], [35.652204, 36.19253, 1.0], [35.656355, 42.948453, 1.0], [35.66528, 6.64806, 1.0], [35.666161, 46.520821, 1.0], [35.668333, 8.007222, 1.0], [35.668801, 9.820374, 2.0], [35.669052, 43.542445, 4.0], [35.669381, 44.081777, 5.0], [35.670429, 44.073953, 3.0], [35.67089, 43.926105, 1.0], [35.672176, 36.137905, 1.0], [35.672348, 44.070008, 1.0], [35.672515, 44.073028, 1.0], [35.672932, 44.070145, 22.0], [35.673284, 44.073417, 2.0], [35.674722, 44.070556, 1.0], [35.675914, 10.091924, 1.0], [35.676876, 43.294392, 2.0], [35.677301, 44.074933, 1.0], [35.680713, 44.088389, 1.0], [35.681989, 43.880167, 1.0], [35.685794, 44.098424, 1.0], [35.686121, 43.897924, 1.0], [35.688611, 44.109167, 3.0], [35.688615, 44.099335, 1.0], [35.68862, 43.908949, 1.0], [35.688751, 36.135868, 1.0], [35.69, 42.548889, 2.0], [35.690206, 43.907375, 1.0], [35.69112, 43.876858, 1.0], [35.691268, 43.925109, 1.0], [35.69364, 6.187075, 1.0], [35.694598, 1.998181, 1.0], [35.694847, -0.633123, 1.0], [35.69487, 43.912573, 1.0], [35.694911, 1.92113, 1.0], [35.695601, 43.28399, 1.0], [35.695846, 36.150798, 1.0], [35.696111, 4.539313, 1.0], [35.696944, -0.633056, 2.0], [35.697778, 36.603333, 1.0], [35.698118, 43.280514, 1.0], [35.699462, 8.046773, 1.0], [35.699906, 43.536794, 4.0], [35.7, 44.1, 1.0], [35.700266, 44.09932, 1.0], [35.700397, 43.280434, 11.0], [35.701321, 43.9188, 3.0], [35.703845, 4.572282, 2.0], [35.704593, 43.893583, 1.0], [35.704616, -0.654332, 1.0], [35.70516, 43.89928, 1.0], [35.706398, 36.801571, 1.0], [35.709268, 43.302881, 1.0], [35.7131, 43.29924, 2.0], [35.713266, 41.760647, 1.0], [35.713863, 36.525666, 1.0], [35.713985, 36.525666, 1.0], [35.716623, 0.750045, 1.0], [35.720624, 36.133594, 1.0], [35.724218, 41.747131, 1.0], [35.724533, 51.40519, 25.0], [35.724758, 43.850193, 1.0], [35.729444, -0.465833, 2.0], [35.730154, 36.166786, 1.0], [35.730312, 36.197243, 1.0], [35.733333, 0.55, 5.0], [35.734162, 0.752626, 1.0], [35.73494, 37.103072, 1.0], [35.735539, 37.105288, 1.0], [35.735614, 37.093959, 1.0], [35.735658, 0.564675, 1.0], [35.73657, 37.103453, 1.0], [35.736772, 44.484363, 1.0], [35.737383, 36.683591, 1.0], [35.738613, 42.673346, 1.0], [35.739262, 43.321033, 6.0], [35.742269, 0.559458, 1.0], [35.742489, 36.165016, 4.0], [35.744282, 43.367317, 2.0], [35.745185, 36.171954, 1.0], [35.746944, 44.517222, 1.0], [35.7478, 1.546693, 1.0], [35.747993, 43.283745, 3.0], [35.748056, 2.381389, 1.0], [35.74922, 1.54778, 1.0], [35.75, 44.15, 1.0], [35.752293, 44.147743, 5.0], [35.755292, 43.264461, 1.0], [35.756298, 37.589466, 1.0], [35.758034, 43.285451, 1.0], [35.758367, 43.12946, 1.0], [35.759773, -0.072341, 1.0], [35.761303, 36.18048, 1.0], [35.764167, 35.980278, 1.0], [35.764795, 43.589718, 1.0], [35.76673, 43.585789, 1.0], [35.768353, 43.588966, 12.0], [35.769304, 43.123718, 1.0], [35.769846, 43.581292, 1.0], [35.770336, 36.536972, 1.0], [35.771057, 43.362682, 2.0], [35.771149, 10.827331, 1.0], [35.772012, 43.121196, 1.0], [35.773546, 43.581376, 1.0], [35.774379, 43.577381, 1.0], [35.774954, 43.58102, 3.0], [35.775418, 43.58102, 1.0], [35.775655, 43.579751, 1.0], [35.775783, 43.57989, 1.0], [35.77677, 10.825516, 1.0], [35.777515, 39.542835, 1.0], [35.778622, 43.265488, 3.0], [35.779978, 35.982145, 1.0], [35.781292, 37.499214, 4.0], [35.782814, 36.591231, 1.0], [35.78325, 43.26799, 1.0], [35.783611, 0.626667, 1.0], [35.785833, 36.038056, 1.0], [35.786944, 0.666667, 1.0], [35.788625, 46.120265, 1.0], [35.791215, 43.272015, 1.0], [35.791619, 43.271951, 1.0], [35.791836, 36.295017, 1.0], [35.79483, 43.290451, 1.0], [35.797443, 43.593756, 1.0], [35.79813, 43.294178, 86.0], [35.798724, 43.294952, 1.0], [35.803182, 35.938566, 1.0], [35.805906, 38.987674, 2.0], [35.806973, 36.496536, 1.0], [35.808565, 36.622323, 1.0], [35.811389, 36.475, 1.0], [35.811501, 36.198906, 1.0], [35.813396, 36.319939, 9.0], [35.813972, 36.609917, 6.0], [35.814105, 36.320511, 1.0], [35.814324, 36.614226, 4.0], [35.815556, 43.443889, 1.0], [35.816667, 43.266667, 1.0], [35.817816, 42.415961, 1.0], [35.818056, 37.058333, 1.0], [35.819584, 36.151386, 1.0], [35.821805, 43.151165, 1.0], [35.822324, 10.634542, 1.0], [35.822651, 36.48481, 1.0], [35.823377, 43.372935, 1.0], [35.824112, 36.586887, 1.0], [35.825429, 35.952128, 1.0], [35.825603, 10.608395, 1.0], [35.82688, 36.695722, 9.0], [35.82711, 50.98037, 1.0], [35.827229, 43.389652, 5.0], [35.827975, 43.389449, 2.0], [35.828045, 38.75032, 1.0], [35.831482, 38.545406, 1.0], [35.832549, 36.74704, 1.0], [35.832981, 10.63875, 2.0], [35.833056, 43.435833, 1.0], [35.833402, 36.696653, 2.0], [35.844665, 43.109738, 1.0], [35.852074, 43.211847, 1.0], [35.855245, 36.671186, 1.0], [35.855278, 1.332222, 2.0], [35.85531, 36.671555, 1.0], [35.863627, 36.634392, 1.0], [35.8638, 36.633761, 1.0], [35.863846, 43.192068, 3.0], [35.865833, 2.270278, 1.0], [35.866343, 7.883627, 1.0], [35.866613, 43.31855, 1.0], [35.867778, 1.111389, 1.0], [35.868511, 36.804665, 10.0], [35.868599, 36.719223, 1.0], [35.868891, 1.110266, 2.0], [35.868931, 1.110247, 1.0], [35.869444, 43.4275, 1.0], [35.870833, 2.028889, 4.0], [35.870968, 43.296768, 7.0], [35.871389, 10.569722, 1.0], [35.871964, 36.092751, 1.0], [35.873334, 2.025519, 1.0], [35.877158, 43.496022, 1.0], [35.880592, 43.388802, 2.0], [35.88097, 43.340214, 4.0], [35.881389, 42.469444, 2.0], [35.885095, 4.401621, 1.0], [35.885556, 2.750833, 1.0], [35.887909, 3.773506, 1.0], [35.893074, 10.59688, 1.0], [35.898382, 36.161843, 1.0], [35.89878, 36.633916, 1.0], [35.904236, 36.063469, 2.0], [35.904295, 43.058433, 1.0], [35.904835, 42.721089, 1.0], [35.905778, 0.774386, 1.0], [35.905811, 36.723057, 1.0], [35.907142, 2.387845, 1.0], [35.9078, 2.388369, 1.0], [35.909575, 43.316606, 1.0], [35.916713, 52.928621, 1.0], [35.917709, 36.149529, 1.0], [35.921169, 6.699328, 1.0], [35.921661, 2.077964, 1.0], [35.922222, 36.314444, 1.0], [35.924722, 6.695278, 1.0], [35.924803, 6.695967, 1.0], [35.92522, 35.988251, 2.0], [35.925894, 36.6519, 1.0], [35.927962, 42.565887, 3.0], [35.928802, 36.631451, 31.0], [35.929688, 43.348789, 1.0], [35.931027, 36.641778, 3.0], [35.931076, 36.634377, 1.0], [35.933332, 36.63345, 1.0], [35.933333, 36.633333, 4.0], [35.933706, 36.633296, 1.0], [35.933846, 43.035221, 2.0], [35.936077, 6.74758, 1.0], [35.942983, 43.318775, 1.0], [35.943376, 38.963154, 1.0], [35.944855, 42.564484, 2.0], [35.947979, 2.114687, 2.0], [35.951523, 39.009563, 33.0], [35.952356, 42.353912, 1.0], [35.956841, 36.714043, 1.0], [35.958805, 38.99829, 1.0], [35.958808, 38.999399, 1.0], [35.959198, 38.998018, 1.0], [35.959411, 38.998105, 1.0], [35.961568, 0.71962, 1.0], [35.964956, 40.902176, 1.0], [35.96545, 38.041325, 1.0], [35.96667, 43.61667, 2.0], [35.966718, 0.093298, 1.0], [35.967299, 2.031464, 1.0], [35.982029, 2.961707, 1.0], [35.982761, 36.704647, 15.0], [35.986389, 42.282778, 1.0], [35.988462, 39.029995, 1.0], [35.989616, 2.143525, 4.0], [35.990086, 36.677223, 9.0], [35.991705, 36.393812, 2.0], [35.992851, 36.512055, 1.0], [35.99353, 43.21973, 23.0], [35.993954, 36.998383, 2.0], [35.994934, 36.781231, 3.0], [35.99588, 42.829136, 5.0], [35.996597, 36.938999, 1.0], [35.998266, 42.826547, 1.0], [36.0, 42.466667, 1.0], [36.003422, 1.010164, 1.0], [36.003826, 1.621694, 3.0], [36.00461, 1.79603, 1.0], [36.00607, 2.80808, 1.0], [36.007364, 42.352469, 1.0], [36.01202, 41.357861, 1.0], [36.01313, 36.673443, 2.0], [36.015, 3.342778, 1.0], [36.019809, 37.196274, 1.0], [36.023, 4.1024, 1.0], [36.023731, 1.274586, 1.0], [36.028752, 43.28885, 1.0], [36.028938, 38.030869, 1.0], [36.03258, 45.008817, 1.0], [36.033333, 10.5, 1.0], [36.03415, 43.081531, 1.0], [36.035301, 36.838097, 1.0], [36.038455, 43.077635, 1.0], [36.039021, 43.08482, 1.0], [36.039263, 41.788574, 1.0], [36.039722, 37.3075, 1.0], [36.042008, 41.715349, 1.0], [36.043266, 43.49884, 9.0], [36.043509, 43.489394, 1.0], [36.043825, 41.715844, 1.0], [36.044126, 43.122779, 1.0], [36.045, 43.311667, 1.0], [36.045059, 41.716717, 16.0], [36.049722, 1.589444, 1.0], [36.04981, 1.58959, 1.0], [36.05, 41.716667, 1.0], [36.050779, 2.963169, 1.0], [36.052078, 43.126263, 1.0], [36.053486, 2.937574, 3.0], [36.054034, 42.401921, 1.0], [36.054962, 40.72496, 4.0], [36.05621, 42.796326, 1.0], [36.060044, 2.841283, 2.0], [36.06028, 41.29466, 2.0], [36.060707, 41.260052, 9.0], [36.060965, 42.398078, 1.0], [36.061018, 2.924832, 1.0], [36.064588, 37.007779, 1.0], [36.06541, 37.10502, 1.0], [36.066667, 1.133333, 2.0], [36.066667, 1.4, 1.0], [36.068785, 43.065456, 1.0], [36.068964, 42.689278, 1.0], [36.069432, 1.989646, 1.0], [36.072919, 1.988153, 1.0], [36.075323, 43.090675, 1.0], [36.077619, 2.096665, 1.0], [36.077754, 4.462888, 1.0], [36.07791, 1.10583, 1.0], [36.080182, 4.809036, 1.0], [36.081879, 37.368999, 2.0], [36.08363, 36.5031, 1.0], [36.083796, 42.377322, 1.0], [36.085, 35.980556, 1.0], [36.093884, 38.013538, 1.0], [36.096111, 43.329167, 1.0], [36.097681, 43.328367, 1.0], [36.098192, 43.328769, 2.0], [36.098627, 43.328475, 2.0], [36.099321, 41.735202, 1.0], [36.102605, 42.524547, 1.0], [36.10428, 42.96804, 1.0], [36.1044, 42.9686, 1.0], [36.106107, 41.361191, 1.0], [36.107877, 42.456381, 1.0], [36.113234, 2.303522, 2.0], [36.11418, 2.30438, 1.0], [36.114234, 1.50743, 1.0], [36.115444, 37.049343, 2.0], [36.116166, 43.090971, 1.0], [36.117653, 42.93469, 1.0], [36.11815, 2.306205, 1.0], [36.11863, 2.0106, 1.0], [36.121288, 37.343789, 1.0], [36.12141, 2.205412, 1.0], [36.12192, 41.295647, 1.0], [36.122439, 43.191092, 1.0], [36.122631, 37.340557, 1.0], [36.12744, 1.8684, 1.0], [36.132989, 42.572177, 1.0], [36.133317, 2.916647, 3.0], [36.133333, 2.916667, 5.0], [36.134558, 8.761107, 1.0], [36.138344, 43.000267, 3.0], [36.139762, 41.312916, 1.0], [36.140806, 2.895943, 1.0], [36.142311, 43.024778, 1.0], [36.144398, 43.310085, 3.0], [36.146913, 1.50603, 1.0], [36.148633, 42.989676, 1.0], [36.15037, 43.253711, 1.0], [36.150556, 41.848889, 1.0], [36.151326, 5.687229, 1.0], [36.152413, 41.71039, 1.0], [36.152778, 5.69, 1.0], [36.1534, 43.016567, 1.0], [36.153797, 43.201683, 1.0], [36.154457, 43.359215, 2.0], [36.155086, 37.035329, 1.0], [36.156528, 37.707882, 2.0], [36.156678, 43.359513, 1.0], [36.156944, 2.404167, 1.0], [36.158056, 43.259444, 2.0], [36.158167, 43.25326, 1.0], [36.158179, 43.253263, 6.0], [36.158405, 45.47599, 1.0], [36.158558, 43.2551, 51.0], [36.159589, 1.612265, 1.0], [36.160196, 43.106622, 1.0], [36.160224, 43.095931, 1.0], [36.161648, 0.969065, 1.0], [36.164211, 0.440826, 2.0], [36.165062, 1.336673, 1.0], [36.16525, 1.33452, 6.0], [36.165485, 37.099149, 1.0], [36.165493, 37.09912, 3.0], [36.165593, 1.339503, 1.0], [36.165874, 1.332239, 1.0], [36.166333, 1.333551, 3.0], [36.166337, 1.333373, 1.0], [36.166667, 1.162222, 1.0], [36.166667, 4.85, 1.0], [36.166679, 1.338768, 2.0], [36.168923, 43.087521, 1.0], [36.169083, 43.482407, 1.0], [36.169481, 36.580439, 1.0], [36.170666, 37.042728, 1.0], [36.171576, 42.294494, 1.0], [36.173932, 5.446425, 1.0], [36.175473, 45.13333, 1.0], [36.176443, 6.719083, 1.0], [36.176538, 42.322486, 1.0], [36.177341, 41.91016, 1.0], [36.177343, 41.864484, 1.0], [36.177653, 8.713261, 1.0], [36.178248, 5.458124, 1.0], [36.1789, 37.285795, 1.0], [36.180136, 40.916781, 1.0], [36.18057, 37.224296, 1.0], [36.181419, 43.233799, 1.0], [36.182222, 8.714722, 1.0], [36.182717, 37.219453, 1.0], [36.183165, 43.441671, 1.0], [36.183247, 41.591599, 1.0], [36.183333, 1.533333, 1.0], [36.183437, 37.579852, 1.0], [36.18375, 41.758739, 1.0], [36.184391, 45.13596, 1.0], [36.184412, 37.21835, 1.0], [36.184868, 43.207314, 3.0], [36.185009, 45.125839, 1.0], [36.185014, 37.216942, 1.0], [36.185334, 5.447498, 1.0], [36.186286, 43.201967, 1.0], [36.186579, 37.576486, 1.0], [36.186638, 37.583084, 1.0], [36.186786, 37.582915, 1.0], [36.187306, 42.224158, 1.0], [36.187628, 43.17308, 1.0], [36.188889, 42.8025, 1.0], [36.18898, 5.414416, 2.0], [36.192589, 44.004623, 27.0], [36.194027, 43.559466, 1.0], [36.194444, 43.208889, 1.0], [36.194946, 2.507604, 2.0], [36.195611, 2.513615, 1.0], [36.197262, 43.080324, 1.0], [36.1975, 43.591389, 1.0], [36.198573, 2.110527, 1.0], [36.19926, 37.638296, 1.0], [36.199722, 2.848611, 1.0], [36.199732, 36.162361, 1.0], [36.201205, 43.208785, 2.0], [36.201721, 37.14352, 373.0], [36.201965, 42.298298, 1.0], [36.202101, 36.873459, 1.0], [36.202105, 37.13426, 1.0], [36.202265, 2.080534, 1.0], [36.202354, 41.687168, 1.0], [36.203317, 43.207849, 1.0], [36.20403, 37.003542, 1.0], [36.204391, 42.263546, 1.0], [36.204751, 36.165597, 4.0], [36.205126, 8.49254, 1.0], [36.205222, 44.140906, 1.0], [36.20556, 2.0792, 1.0], [36.206371, 42.749943, 2.0], [36.2065, 37.160027, 2.0], [36.207174, 37.157227, 1.0], [36.207593, 43.19765, 1.0], [36.207647, 43.537663, 1.0], [36.208841, 36.71998, 1.0], [36.209095, 37.155763, 1.0], [36.209401, 42.916463, 1.0], [36.21, 1.670278, 1.0], [36.210163, 37.14417, 1.0], [36.210983, 37.148255, 1.0], [36.211478, 37.479057, 1.0], [36.212075, 37.146382, 1.0], [36.212253, 36.520262, 1.0], [36.212268, 37.147186, 1.0], [36.212818, 43.379642, 8.0], [36.212859, 37.158951, 1.0], [36.213078, 36.769512, 3.0], [36.213255, 42.285519, 1.0], [36.214444, 43.041111, 1.0], [36.215366, 37.022655, 1.0], [36.215455, 37.494354, 1.0], [36.215549, 37.159279, 2.0], [36.215833, 2.635833, 1.0], [36.216213, 37.163826, 1.0], [36.219876, 37.45358, 1.0], [36.219903, 37.473936, 1.0], [36.219903, 43.13736, 1.0], [36.220083, 42.241735, 2.0], [36.222563, 42.236953, 1.0], [36.2229, 8.355373, 1.0], [36.222938, 8.355381, 1.0], [36.223981, 37.468283, 1.0], [36.226239, 37.46814, 8.0], [36.227281, 37.467467, 1.0], [36.227658, 43.011246, 1.0], [36.228108, 4.334579, 1.0], [36.228561, 45.113972, 1.0], [36.228695, 43.105652, 3.0], [36.229574, 42.236244, 32.0], [36.230274, 36.692928, 3.0], [36.230497, 43.12749, 1.0], [36.23079, 1.138824, 1.0], [36.230981, 37.465696, 2.0], [36.230981, 42.219601, 1.0], [36.230981, 42.241516, 1.0], [36.230981, 42.241573, 1.0], [36.231527, 36.94813, 1.0], [36.231704, 36.696236, 1.0], [36.2319, 41.797912, 1.0], [36.232269, 42.236244, 1.0], [36.232504, 4.183216, 1.0], [36.233979, 43.106974, 1.0], [36.234963, 36.7612, 1.0], [36.235412, 42.236023, 1.0], [36.237222, 42.8425, 1.0], [36.238822, 42.869077, 1.0], [36.238889, 42.938056, 1.0], [36.239015, 36.652329, 1.0], [36.244273, 42.240829, 1.0], [36.24432, 2.93353, 1.0], [36.248703, 42.236023, 1.0], [36.249029, 0.759831, 1.0], [36.249216, 41.901909, 1.0], [36.252373, 37.082672, 2.0], [36.25341, 44.893169, 1.0], [36.254167, 2.847222, 2.0], [36.254525, 2.852621, 1.0], [36.254806, 37.160663, 1.0], [36.255244, 5.123664, 1.0], [36.257758, 42.017625, 1.0], [36.258523, 43.108132, 1.0], [36.258704, 43.281417, 1.0], [36.258878, 43.280969, 1.0], [36.260816, 2.209625, 1.0], [36.261021, 2.234312, 1.0], [36.262457, 42.280571, 1.0], [36.262832, 2.218016, 1.0], [36.263387, 42.454843, 1.0], [36.263832, 42.707668, 10.0], [36.26389, 2.16083, 1.0], [36.264221, 36.565708, 3.0], [36.26458, 3.03083, 1.0], [36.264699, 41.951887, 1.0], [36.265263, 2.753912, 4.0], [36.265348, 42.703945, 1.0], [36.266667, 1.966667, 1.0], [36.266667, 2.216667, 9.0], [36.266667, 2.75, 13.0], [36.266701, 37.203342, 2.0], [36.266752, 2.750468, 1.0], [36.266819, 2.216805, 1.0], [36.268688, 43.50526, 2.0], [36.269174, 43.377327, 2.0], [36.269463, 43.374397, 2.0], [36.269722, 43.3775, 1.0], [36.269743, 43.045578, 2.0], [36.270303, 4.846284, 1.0], [36.270825, 2.002808, 1.0], [36.270833, 43.3775, 1.0], [36.271854, 43.165359, 1.0], [36.27216, 1.12741, 1.0], [36.273106, 43.159374, 8.0], [36.273452, 37.000943, 1.0], [36.27396, 2.718093, 1.0], [36.274412, 43.37751, 2.0], [36.277226, 1.517241, 1.0], [36.2775, 4.035024, 1.0], [36.277508, 3.9864, 1.0], [36.278435, 37.085297, 1.0], [36.279275, 42.990708, 1.0], [36.279707, 43.074431, 1.0], [36.279934, 42.945995, 2.0], [36.280208, 41.817298, 1.0], [36.280699, 43.147488, 1.0], [36.280861, 36.855766, 1.0], [36.280948, 2.104961, 1.0], [36.281666, 42.40361, 1.0], [36.283446, 42.786286, 1.0], [36.28353, 3.987843, 3.0], [36.283566, 42.830044, 5.0], [36.28376, 7.955379, 1.0], [36.286099, 42.40774, 1.0], [36.28611, 5.60722, 1.0], [36.286801, 4.133157, 1.0], [36.287615, 4.129991, 1.0], [36.287804, 2.065822, 1.0], [36.287825, 2.065819, 1.0], [36.288139, 43.295368, 1.0], [36.288563, 42.912254, 1.0], [36.289167, 42.644167, 1.0], [36.289417, 42.411853, 1.0], [36.29137, 37.15876, 3.0], [36.293083, 37.047092, 2.0], [36.2947, 43.504702, 1.0], [36.296387, 3.66993, 1.0], [36.296795, 36.725594, 1.0], [36.299722, 8.768333, 1.0], [36.30257, 2.277702, 1.0], [36.303475, 42.971513, 1.0], [36.303611, 43.412778, 1.0], [36.310444, 36.689156, 4.0], [36.310699, 43.041472, 1.0], [36.311309, 42.63484, 1.0], [36.311774, 4.073378, 1.0], [36.311951, 43.54571, 1.0], [36.313854, 36.660312, 1.0], [36.314216, 41.862443, 2.0], [36.3144, 41.8625, 1.0], [36.315195, 44.149727, 1.0], [36.315199, 43.131098, 1.0], [36.317141, 43.161584, 1.0], [36.3175, 41.752222, 1.0], [36.318344, 42.21035, 5.0], [36.318764, 3.004659, 1.0], [36.318789, 6.832205, 1.0], [36.319386, 41.861473, 41.0], [36.319886, 41.859643, 1.0], [36.32, 41.86, 4.0], [36.321738, 41.865884, 1.0], [36.322256, 41.863909, 1.0], [36.322392, 41.860499, 1.0], [36.3225, 41.864167, 4.0], [36.322969, 41.874576, 1.0], [36.32396, 59.556959, 1.0], [36.325054, 42.840988, 5.0], [36.325846, 43.145785, 1.0], [36.328242, 43.084099, 1.0], [36.328286, 42.835975, 1.0], [36.3308, 4.3011, 3.0], [36.332734, 43.082809, 2.0], [36.33359, 36.198536, 1.0], [36.334016, 43.061793, 1.0], [36.33563, 4.262131, 1.0], [36.335638, 4.26218, 4.0], [36.335801, 4.262044, 1.0], [36.335803, 4.262044, 2.0], [36.33695, 43.137805, 1.0], [36.337666, 43.130369, 3.0], [36.338334, 43.088312, 1.0], [36.33852, 43.069674, 1.0], [36.338591, 42.428276, 1.0], [36.338889, 2.715, 1.0], [36.339751, 6.590612, 1.0], [36.34, 43.13, 9.0], [36.340001, 43.13, 1.0], [36.340212, 43.130209, 1.0], [36.341135, 8.585838, 1.0], [36.341501, 43.137222, 1.0], [36.344086, 43.327324, 1.0], [36.34686, 6.702963, 1.0], [36.347083, 43.413853, 1.0], [36.347214, 37.093266, 1.0], [36.347263, 43.129181, 1.0], [36.347902, 43.622338, 1.0], [36.349444, 42.265556, 1.0], [36.349663, 43.256431, 1.0], [36.349698, 42.980229, 1.0], [36.349991, 1.649999, 1.0], [36.35, 2.26667, 2.0], [36.35, 6.6, 6.0], [36.351409, 43.379063, 2.0], [36.352081, 43.379764, 1.0], [36.352145, 43.379663, 1.0], [36.352208, 43.379691, 2.0], [36.352222, 43.379722, 1.0], [36.352231, 2.390869, 1.0], [36.354145, 43.14357, 2244.0], [36.354808, 43.15669, 1.0], [36.355015, 42.447538, 1.0], [36.356111, 1.375, 1.0], [36.356648, 43.164, 1.0], [36.356963, 43.163984, 2.0], [36.357113, 42.722473, 1.0], [36.35714, 43.164038, 1.0], [36.35901, 42.303929, 1.0], [36.359535, 43.336533, 1.0], [36.359722, 1.631667, 1.0], [36.360059, 4.371838, 1.0], [36.360155, 6.642433, 1.0], [36.362663, 37.012653, 4.0], [36.363333, 1.422778, 2.0], [36.36552, 42.461802, 2.0], [36.366199, 37.512276, 14.0], [36.367051, 3.895445, 1.0], [36.367443, 43.188941, 1.0], [36.368633, 2.474318, 1.0], [36.368943, 6.619856, 1.0], [36.370056, 37.441063, 1.0], [36.370177, 42.979742, 1.0], [36.370446, 42.436213, 1.0], [36.3707, 2.4767, 1.0], [36.370963, 42.529426, 8.0], [36.371177, 42.384803, 2.0], [36.371977, 3.897403, 1.0], [36.372133, 37.516309, 1.0], [36.373056, 42.931389, 1.0], [36.373718, 42.451778, 2.0], [36.374029, 42.451435, 1.0], [36.374167, 42.45, 2.0], [36.374499, 3.884587, 1.0], [36.3745, 42.456056, 1.0], [36.37489, 3.902, 10.0], [36.375084, 3.892046, 1.0], [36.376666, 42.479503, 1.0], [36.376823, 42.448875, 121.0], [36.377024, 3.895739, 1.0], [36.377281, 36.993607, 4.0], [36.37763, 3.896235, 2.0], [36.378225, 3.89371, 1.0], [36.378478, 42.495752, 1.0], [36.378717, 43.00302, 1.0], [36.378853, 2.397214, 3.0], [36.379599, 41.718468, 1.0], [36.380554, 41.822912, 1.0], [36.380558, 6.474896, 1.0], [36.380825, 38.178571, 1.0], [36.381655, 3.893216, 1.0], [36.38207, 1.884415, 1.0], [36.3822, 1.2528, 1.0], [36.3825, 42.216667, 1.0], [36.382601, 6.633713, 1.0], [36.384257, 42.329205, 1.0], [36.385278, 42.888889, 1.0], [36.385515, 41.684051, 1.0], [36.38588, 38.863895, 3.0], [36.386667, 4.398611, 1.0], [36.387222, 5.413611, 1.0], [36.388819, 42.874607, 1.0], [36.391694, 41.833762, 1.0], [36.391727, 41.148346, 1.0], [36.393915, 43.124173, 1.0], [36.394905, 42.985837, 1.0], [36.395034, 36.352203, 1.0], [36.396652, 37.466217, 2.0], [36.397392, 6.658306, 1.0], [36.400202, 10.143981, 1.0], [36.401579, 0.916586, 1.0], [36.401849, 36.34981, 6.0], [36.402112, 36.387072, 1.0], [36.402222, 1.435, 1.0], [36.403056, 42.137778, 1.0], [36.403103, 42.97818, 1.0], [36.406742, 2.690234, 1.0], [36.407134, 2.438616, 1.0], [36.407343, 42.378841, 1.0], [36.407394, 42.964626, 10.0], [36.409167, 37.578056, 1.0], [36.41034, 44.387195, 1.0], [36.411472, 43.126129, 1.0], [36.411911, 43.042931, 4.0], [36.412593, 43.016234, 1.0], [36.412944, 3.309458, 1.0], [36.41618, 42.99951, 1.0], [36.417744, 1.195033, 2.0], [36.42087, 4.198719, 1.0], [36.423756, 41.224369, 1.0], [36.423756, 42.983494, 1.0], [36.425703, 43.221359, 1.0], [36.426097, 42.963296, 1.0], [36.426733, 2.876443, 1.0], [36.426944, 2.876389, 1.0], [36.428185, 42.602184, 1.0], [36.430278, 36.174167, 1.0], [36.43082, 4.07659, 1.0], [36.431483, 5.16226, 1.0], [36.432468, 37.566143, 2.0], [36.432888, 37.442127, 1.0], [36.432906, 32.465088, 1.0], [36.433239, 42.800674, 1.0], [36.433386, 3.427219, 1.0], [36.433522, 43.37275, 1.0], [36.433691, 43.27508, 1.0], [36.434167, 1.710833, 1.0], [36.434563, 43.158421, 5.0], [36.435112, 42.631466, 1.0], [36.44391, 42.951832, 2.0], [36.444209, 42.652359, 1.0], [36.445278, 37.627222, 1.0], [36.446694, 43.195267, 1.0], [36.447495, 43.351059, 20.0], [36.4488, 2.77596, 1.0], [36.448904, 43.19252, 1.0], [36.449268, 8.436416, 3.0], [36.451667, 43.342013, 1.0], [36.451707, 43.342042, 1.0], [36.45192, 43.341962, 1.0], [36.452878, 43.342136, 1.0], [36.455412, 42.485579, 1.0], [36.456111, 43.199444, 1.0], [36.460619, 43.204437, 1.0], [36.461408, 42.681916, 1.0], [36.461777, 2.744692, 1.0], [36.46293, 2.73873, 1.0], [36.46298, 2.81464, 1.0], [36.465278, 43.182778, 1.0], [36.465361, 2.636029, 1.0], [36.46666, 34.158826, 1.0], [36.466667, 2.683333, 1.0], [36.466727, 2.689879, 1.0], [36.46748, 2.622849, 1.0], [36.46806, 41.616802, 2.0], [36.469007, 3.011413, 1.0], [36.469269, 42.969372, 1.0], [36.469528, 42.670578, 5.0], [36.47053, 1.39015, 1.0], [36.471466, 42.102936, 2.0], [36.472029, 37.722439, 1.0], [36.472965, 37.09436, 2.0], [36.475804, 2.590101, 1.0], [36.475887, 2.566632, 1.0], [36.476389, 3.758611, 2.0], [36.477758, 3.756453, 1.0], [36.478, 5.5771, 1.0], [36.478172, 2.563933, 2.0], [36.478172, 43.218727, 1.0], [36.480332, 4.29553, 1.0], [36.480386, 42.453526, 1.0], [36.480453, 2.83388, 6.0], [36.48113, 2.837838, 1.0], [36.481153, 4.292309, 1.0], [36.4818, 5.7112, 1.0], [36.482036, 43.223534, 1.0], [36.482582, 37.197102, 10.0], [36.483182, 37.197754, 1.0], [36.483696, 37.246754, 1.0], [36.486149, 42.418186, 8.0], [36.487299, 2.84089, 1.0], [36.487519, 42.923672, 1.0], [36.488883, 43.093771, 1.0], [36.489444, 43.119167, 2.0], [36.48994, 5.5393, 2.0], [36.490555, 43.121437, 2.0], [36.491077, 37.684105, 1.0], [36.492277, 1.095742, 1.0], [36.492558, 3.574942, 1.0], [36.49341, 1.0942, 1.0], [36.493699, 3.78479, 1.0], [36.493768, 5.852022, 1.0], [36.494423, 3.773677, 1.0], [36.495, 42.938611, 1.0], [36.496536, 37.003462, 1.0], [36.498826, 3.104506, 1.0], [36.499292, 2.381362, 1.0], [36.500351, 3.773062, 1.0], [36.500431, 42.438282, 2.0], [36.500833, 3.773889, 3.0], [36.501, 3.77396, 9.0], [36.501024, 42.439744, 1.0], [36.502092, 2.580775, 1.0], [36.503056, 41.493889, 1.0], [36.503593, 40.740627, 35.0], [36.50378, 37.248268, 1.0], [36.505221, 2.375336, 1.0], [36.50589, 42.375995, 1.0], [36.507867, 40.746267, 1.0], [36.508209, 1.313252, 1.0], [36.508252, 1.312534, 2.0], [36.508533, 42.842224, 1.0], [36.508759, 42.671837, 1.0], [36.510153, 43.223476, 1.0], [36.510426, 36.86763, 2.0], [36.512165, 43.268906, 1.0], [36.513023, 42.738479, 1.0], [36.513781, 42.735193, 1.0], [36.51385, 2.409764, 1.0], [36.513889, 4.786667, 1.0], [36.516144, 37.483644, 1.0], [36.5175, 2.553056, 1.0], [36.518116, 43.007237, 1.0], [36.518291, 4.239624, 1.0], [36.51833, 2.90528, 1.0], [36.518608, 42.353477, 1.0], [36.519439, 4.146745, 1.0], [36.51965, 42.086067, 1.0], [36.521944, 37.041111, 1.0], [36.522222, 4.203056, 1.0], [36.524411, 4.205017, 1.0], [36.524836, 3.754936, 1.0], [36.526708, 2.344489, 1.0], [36.526829, 4.277452, 1.0], [36.528557, 37.954094, 12.0], [36.528881, 6.316472, 1.0], [36.52895, 2.975807, 1.0], [36.52915, 37.951031, 1.0], [36.532543, 3.684417, 8.0], [36.533147, 4.186909, 1.0], [36.533357, 37.95028, 1.0], [36.534229, 42.759068, 2.0], [36.534444, 3.682778, 1.0], [36.534743, 3.681965, 1.0], [36.535556, 3.690833, 1.0], [36.535577, 3.834176, 7.0], [36.536433, 3.421204, 1.0], [36.536834, 4.215102, 1.0], [36.538582, 43.237918, 1.0], [36.538596, 3.102655, 1.0], [36.539002, 37.21323, 1.0], [36.53956, 3.956814, 1.0], [36.540569, 3.957701, 1.0], [36.541206, 43.02297, 1.0], [36.541298, 36.795143, 1.0], [36.54178, 3.081, 3.0], [36.542194, 2.30415, 1.0], [36.54222, 3.95306, 6.0], [36.542592, 9.662453, 1.0], [36.543048, 3.668028, 1.0], [36.543773, 43.024066, 1.0], [36.545, 42.883611, 2.0], [36.546064, 43.06273, 1.0], [36.546276, 7.474629, 1.0], [36.546944, 4.333836, 1.0], [36.548206, 3.654598, 1.0], [36.54828, 3.89416, 1.0], [36.548747, 3.110045, 1.0], [36.549648, 1.707661, 1.0], [36.55, 3.95, 5.0], [36.553005, 36.852272, 1.0], [36.553405, 3.108938, 2.0], [36.554444, 40.748056, 1.0], [36.555085, 3.635345, 1.0], [36.55611, 4.08972, 1.0], [36.556603, 37.089563, 1.0], [36.556691, 1.801367, 1.0], [36.560278, 43.565278, 1.0], [36.560394, 8.765367, 1.0], [36.562222, 3.594444, 26.0], [36.563163, 3.59978, 1.0], [36.564444, 3.154167, 1.0], [36.564722, 5.305833, 1.0], [36.56522, 3.153934, 7.0], [36.566479, 37.216244, 3.0], [36.567428, 1.904928, 1.0], [36.568598, 2.093711, 1.0], [36.569004, 6.578187, 1.0], [36.569601, 5.98622, 1.0], [36.570036, 42.602204, 1.0], [36.570514, 4.310626, 1.0], [36.573106, 43.374465, 1.0], [36.573333, 2.675278, 1.0], [36.574353, 42.798651, 1.0], [36.574526, 2.09281, 1.0], [36.575333, 3.908492, 5.0], [36.576076, 3.413878, 1.0], [36.581433, 5.884953, 1.0], [36.581837, 4.302828, 1.0], [36.584045, 41.951962, 1.0], [36.585438, 37.046921, 9.0], [36.58609, 3.767982, 1.0], [36.586242, 5.580764, 2.0], [36.586614, 37.043348, 3.0], [36.586617, 37.42704, 1.0], [36.586863, 36.172571, 1.0], [36.587152, 2.44311, 4.0], [36.587465, 3.779068, 3.0], [36.58749, 38.301998, 2.0], [36.58882, 3.473738, 1.0], [36.589807, 36.172279, 1.0], [36.591221, 36.961853, 2.0], [36.591576, 42.704002, 1.0], [36.592364, 42.216808, 1.0], [36.592604, 4.487702, 1.0], [36.594099, 4.008551, 1.0], [36.595534, 37.149133, 1.0], [36.595686, 39.128318, 1.0], [36.595833, 41.866111, 1.0], [36.598701, 43.105648, 2.0], [36.601135, 42.643993, 1.0], [36.602598, 30.561011, 1.0], [36.604073, 3.699024, 3.0], [36.6059, 37.559427, 1.0], [36.606468, 8.003041, 1.0], [36.607122, 2.196789, 1.0], [36.607959, 7.57507, 1.0], [36.607971, 37.632305, 1.0], [36.607977, 4.73542, 1.0], [36.608339, 4.735848, 1.0], [36.608741, 4.671843, 1.0], [36.609017, 4.691548, 2.0], [36.609351, 4.780351, 1.0], [36.610556, 5.515, 1.0], [36.611068, 2.406022, 2.0], [36.612083, 3.98778, 1.0], [36.612083, 3.987781, 1.0], [36.612531, 40.754509, 1.0], [36.612778, 5.691667, 1.0], [36.612793, 37.449032, 3.0], [36.612875, 2.750401, 1.0], [36.615072, 3.987804, 1.0], [36.616143, 2.393382, 1.0], [36.616667, 3.216667, 1.0], [36.617409, 4.270127, 1.0], [36.617879, 2.391236, 1.0], [36.617964, 38.782846, 1.0], [36.618584, 37.076237, 2.0], [36.620209, 42.791828, 2.0], [36.620557, 4.081542, 1.0], [36.62148, 4.080853, 1.0], [36.621776, 4.986471, 1.0], [36.621944, 3.065, 1.0], [36.623229, 2.655147, 1.0], [36.624951, 2.405567, 1.0], [36.62503, 2.65747, 1.0], [36.625172, 5.298243, 2.0], [36.625247, 3.792489, 1.0], [36.625523, 38.754038, 1.0], [36.626314, 42.833867, 1.0], [36.626874, 3.479619, 1.0], [36.626889, 3.479503, 1.0], [36.626889, 3.479504, 3.0], [36.626999, 42.826911, 1.0], [36.62707, 6.634418, 2.0], [36.628995, 3.612916, 1.0], [36.63059, 4.289494, 1.0], [36.630637, 37.085353, 1.0], [36.631111, 4.198611, 1.0], [36.631692, 42.288247, 1.0], [36.632677, 43.256512, 1.0], [36.63333, 3.68333, 1.0], [36.633333, 3.7, 2.0], [36.633885, 4.034125, 1.0], [36.634712, 3.590419, 1.0], [36.635072, 3.590128, 5.0], [36.63533, 44.992888, 1.0], [36.63652, 37.47561, 1.0], [36.636944, 3.694722, 1.0], [36.63709, 3.69474, 6.0], [36.637716, 3.693584, 1.0], [36.63905, 2.765038, 1.0], [36.639167, 4.383889, 1.0], [36.639322, 40.356066, 1.0], [36.640833, 40.3675, 1.0], [36.641111, 3.888333, 2.0], [36.641111, 3.888334, 1.0], [36.641224, 2.716627, 1.0], [36.641883, 38.692552, 1.0], [36.642619, 2.696593, 2.0], [36.646735, 38.78416, 1.0], [36.646906, 4.043306, 1.0], [36.647268, 2.697987, 1.0], [36.651559, 3.328976, 1.0], [36.653482, 3.146929, 1.0], [36.653632, 3.644582, 1.0], [36.653889, 3.981389, 1.0], [36.654029, 10.079684, 1.0], [36.654051, 3.679096, 3.0], [36.655192, 6.088981, 1.0], [36.6552, 42.247009, 1.0], [36.655979, 39.758629, 1.0], [36.657269, 40.37056, 8.0], [36.658461, 37.212777, 1.0], [36.658628, 38.758781, 1.0], [36.660001, 2.920004, 1.0], [36.660866, 4.152155, 1.0], [36.660896, 42.605278, 5.0], [36.662321, 4.079895, 3.0], [36.662636, 5.789046, 1.0], [36.665278, 43.978333, 1.0], [36.666095, 3.588863, 1.0], [36.666667, 4.766667, 1.0], [36.66774, 3.59115, 3.0], [36.668015, 3.409778, 1.0], [36.67, 2.94444, 2.0], [36.672703, 3.809529, 1.0], [36.673056, 5.481111, 2.0], [36.673564, 5.481713, 2.0], [36.673926, 6.83876, 1.0], [36.67394, 37.751641, 1.0], [36.675086, 37.469106, 1.0], [36.67606, 44.373244, 1.0], [36.676847, 4.082468, 1.0], [36.677231, 6.831322, 1.0], [36.677231, 6.83464, 1.0], [36.677231, 42.219543, 1.0], [36.679444, 5.957222, 1.0], [36.679489, 6.38752, 1.0], [36.680349, 4.208192, 1.0], [36.680492, 38.748776, 1.0], [36.681667, 3.8475, 2.0], [36.681757, 37.029976, 1.0], [36.683333, 4.544722, 1.0], [36.683333, 4.666667, 2.0], [36.683333, 6.566667, 2.0], [36.683479, 4.851914, 1.0], [36.683889, 3.366389, 1.0], [36.684336, 38.802893, 1.0], [36.684583, 4.665693, 1.0], [36.684883, 4.657456, 1.0], [36.685278, 3.412778, 1.0], [36.685559, 3.855515, 1.0], [36.686703, 4.266169, 3.0], [36.686971, 3.686288, 1.0], [36.687435, 43.347866, 1.0], [36.688343, 40.196632, 1.0], [36.690984, 6.57471, 1.0], [36.691273, 3.588857, 3.0], [36.691938, 38.951152, 1.0], [36.692433, 3.588356, 1.0], [36.694674, 4.669579, 1.0], [36.695437, 38.415062, 1.0], [36.695513, 3.218148, 1.0], [36.695915, 38.946732, 6.0], [36.697842, 45.142467, 2.0], [36.698502, 38.277901, 1.0], [36.698601, 10.48866, 1.0], [36.700283, 37.446795, 2.0], [36.700556, 3.5525, 1.0], [36.70385, 4.038357, 1.0], [36.703866, 3.414648, 1.0], [36.704607, 5.894599, 1.0], [36.705685, 4.042094, 1.0], [36.709198, 3.89534, 1.0], [36.71143, 4.196908, 1.0], [36.713039, 10.209463, 1.0], [36.713379, 38.948792, 1.0], [36.713771, 37.113889, 1.0], [36.714164, 4.050111, 3.0], [36.714444, 3.341944, 1.0], [36.714483, 4.052099, 1.0], [36.71499, 3.05002, 2.0], [36.715487, 3.139306, 1.0], [36.716172, 3.15036, 4.0], [36.716365, 4.049834, 17.0], [36.716443, 4.050048, 1.0], [36.716477, 37.114661, 3.0], [36.716636, 38.944985, 1.0], [36.716666, 37.115311, 1.0], [36.716667, 2.85, 1.0], [36.716667, 4.05, 2.0], [36.716667, 5.558611, 1.0], [36.717083, 42.095003, 1.0], [36.717345, 3.201898, 1.0], [36.717797, 37.114617, 1.0], [36.71928, 37.11557, 46.0], [36.719553, 6.335506, 1.0], [36.720173, 5.985947, 1.0], [36.72051, 3.829882, 3.0], [36.721149, 3.584966, 1.0], [36.721257, 3.667394, 2.0], [36.721389, 3.402778, 1.0], [36.721944, 3.913056, 1.0], [36.723166, 3.914166, 2.0], [36.723534, 6.03629, 1.0], [36.72398, 3.670848, 7.0], [36.724419, 3.619247, 11.0], [36.724636, 6.049261, 1.0], [36.7247, 3.6153, 1.0], [36.72544, 3.55665, 1.0], [36.725459, 3.102219, 1.0], [36.726217, 3.570141, 1.0], [36.726779, 4.479601, 1.0], [36.72735, 3.40995, 2.0], [36.72749, 3.410165, 1.0], [36.727778, 3.553889, 15.0], [36.728056, 43.3425, 1.0], [36.729153, 5.866485, 2.0], [36.729435, 3.498687, 7.0], [36.731111, 42.448611, 1.0], [36.731594, 3.67843, 1.0], [36.732374, 3.964945, 1.0], [36.732778, 5.951667, 1.0], [36.733333, 3.966667, 2.0], [36.733498, 43.09758, 1.0], [36.734167, 3.962222, 1.0], [36.734757, 4.438648, 4.0], [36.735554, 3.971022, 1.0], [36.73576, 4.437769, 4.0], [36.736111, 3.431667, 1.0], [36.737011, 6.716271, 1.0], [36.73852, 3.279198, 1.0], [36.739125, 3.619198, 1.0], [36.739131, 3.621972, 1.0], [36.73914, 3.901676, 9.0], [36.74, 3.34, 3.0], [36.740312, 3.174597, 2.0], [36.740681, 3.72119, 1.0], [36.741667, 3.723056, 4.0], [36.742004, 3.726194, 4.0], [36.742186, 3.067875, 1.0], [36.742386, 3.722816, 8.0], [36.742736, 3.901863, 2.0], [36.743052, 2.843686, 1.0], [36.743889, 3.900278, 1.0], [36.743889, 6.400278, 1.0], [36.744022, 4.015914, 2.0], [36.74472, 4.37222, 2.0], [36.745632, 3.830243, 5.0], [36.746942, 6.034278, 1.0], [36.74704, 4.370063, 3.0], [36.747578, 3.051962, 1.0], [36.747687, 5.063721, 1.0], [36.747752, 3.773732, 1.0], [36.748247, 3.948864, 1.0], [36.748611, 3.683611, 2.0], [36.74871, 3.19248, 1.0], [36.749063, 4.889638, 1.0], [36.749678, 41.59673, 1.0], [36.75, 5.066667, 1.0], [36.75, 5.85, 2.0], [36.75, 6.266667, 1.0], [36.75237, 4.58327, 1.0], [36.752887, 3.15036, 1.0], [36.753331, 3.043741, 1.0], [36.754509, 2.88999, 1.0], [36.754722, 6.2725, 1.0], [36.755517, 3.441481, 2.0], [36.7565, 3.2637, 1.0], [36.757011, 3.482869, 1.0], [36.757831, 4.316504, 1.0], [36.758234, 3.484279, 1.0], [36.758573, 44.721736, 1.0], [36.759396, 3.470261, 1.0], [36.76029, 3.472395, 11.0], [36.762567, 3.703661, 1.0], [36.762758, 4.584531, 3.0], [36.762798, 42.064972, 1.0], [36.76321, 42.602535, 4.0], [36.763763, 3.055413, 24.0], [36.764834, 42.636048, 1.0], [36.7652, 45.722417, 1.0], [36.76667, 7.01667, 1.0], [36.767596, 3.7029, 6.0], [36.767847, 3.604741, 1.0], [36.767885, 3.712324, 1.0], [36.769069, 3.029683, 1.0], [36.769106, 3.258983, 5.0], [36.769987, 3.064535, 1.0], [36.770327, 42.18819, 2.0], [36.770538, 3.512263, 1.0], [36.771755, 5.606961, 3.0], [36.772158, 4.436217, 1.0], [36.772371, 5.610315, 2.0], [36.772462, 5.610087, 1.0], [36.772659, 5.958971, 2.0], [36.773786, 3.370281, 1.0], [36.774205, 4.321343, 1.0], [36.774689, 5.89891, 1.0], [36.77499, 42.645939, 2.0], [36.775, 5.599722, 1.0], [36.77513, 5.59993, 1.0], [36.779491, 3.534834, 1.0], [36.78, 4.591667, 1.0], [36.780075, 6.089291, 1.0], [36.780708, 6.202618, 1.0], [36.783333, 6.933333, 2.0], [36.783333, 34.6, 2.0], [36.783818, 6.01736, 1.0], [36.784031, 5.915431, 1.0], [36.786668, 3.603268, 1.0], [36.787175, 3.603996, 1.0], [36.789167, 3.677222, 2.0], [36.792005, 6.797074, 1.0], [36.794046, 5.784215, 1.0], [36.79637, 4.5836, 1.0], [36.797091, 42.10465, 1.0], [36.797769, 3.717578, 1.0], [36.79778, 3.7175, 3.0], [36.798611, 6.157222, 1.0], [36.79885, 6.15721, 2.0], [36.798864, 3.777798, 2.0], [36.799169, 4.420561, 1.0], [36.799377, 5.767013, 1.0], [36.799714, 44.234087, 1.0], [36.799721, 30.578428, 2.0], [36.8, 4.266667, 5.0], [36.8, 34.633333, 1.0], [36.800611, 3.8341, 1.0], [36.801382, 6.158903, 1.0], [36.801657, 6.158688, 1.0], [36.802253, 3.565254, 2.0], [36.802258, 4.322444, 1.0], [36.802461, 34.629759, 7.0], [36.802778, 4.746667, 1.0], [36.803036, 37.760888, 1.0], [36.803501, 3.563821, 17.0], [36.803982, 42.093945, 10.0], [36.804388, 42.078573, 1.0], [36.8046, 4.322139, 1.0], [36.805258, 3.813209, 4.0], [36.805609, 5.758065, 1.0], [36.805797, 3.813381, 2.0], [36.806495, 10.181532, 1.0], [36.806597, 5.955504, 1.0], [36.806667, 3.814444, 1.0], [36.806853, 34.628893, 1.0], [36.807444, 5.749972, 1.0], [36.8075, 6.1235, 1.0], [36.807582, 6.126425, 1.0], [36.807759, 10.101064, 1.0], [36.807907, 42.071414, 1.0], [36.809293, 10.13426, 1.0], [36.810384, 10.169506, 2.0], [36.811427, 10.184214, 1.0], [36.812104, 34.641481, 1.0], [36.81224, 6.23876, 4.0], [36.813267, 5.751706, 1.0], [36.814031, 10.140942, 1.0], [36.814496, 3.861964, 2.0], [36.815186, 3.862361, 1.0], [36.816366, 6.132818, 1.0], [36.816667, 3.85, 2.0], [36.81694, 3.85722, 9.0], [36.81863, 38.011127, 4.0], [36.818767, 10.165588, 1.0], [36.81881, 10.16596, 1.0], [36.819661, 4.428847, 1.0], [36.81983, 38.00806, 1.0], [36.821899, 5.766102, 6.0], [36.822363, 6.31053, 1.0], [36.82411, 6.50451, 1.0], [36.82568, 5.962771, 2.0], [36.831927, 6.27156, 1.0], [36.833333, 4.0, 1.0], [36.833508, 38.000553, 5.0], [36.835283, 37.998924, 1.0], [36.835434, 3.688386, 1.0], [36.835703, 6.645026, 1.0], [36.835813, 37.995306, 2.0], [36.835988, 6.1358, 1.0], [36.836111, 6.137778, 1.0], [36.83727, 6.637388, 1.0], [36.83763, 6.64018, 1.0], [36.83861, 3.73278, 1.0], [36.838611, 3.732778, 1.0], [36.838836, 42.946404, 1.0], [36.843274, 36.221921, 1.0], [36.844694, 4.098939, 1.0], [36.845, 4.573889, 2.0], [36.846693, 4.295931, 2.0], [36.847954, 40.070618, 6.0], [36.849971, 10.268827, 1.0], [36.85, 6.05, 1.0], [36.85, 7.1, 1.0], [36.851721, 40.053803, 1.0], [36.852998, 10.269302, 1.0], [36.853058, 40.047398, 1.0], [36.853067, 40.047375, 1.0], [36.85334, 40.047374, 1.0], [36.854646, 28.271809, 1.0], [36.854655, 6.052698, 1.0], [36.855006, 28.270349, 1.0], [36.855159, 28.271048, 1.0], [36.85583, 3.85667, 3.0], [36.856394, 6.051944, 1.0], [36.856944, 38.343333, 1.0], [36.857369, 34.397636, 1.0], [36.858889, 7.515556, 1.0], [36.859461, 6.141703, 1.0], [36.860813, 42.97646, 3.0], [36.860976, 4.359082, 1.0], [36.86252, 3.88151, 1.0], [36.863056, 3.880278, 1.0], [36.86318, 3.88035, 3.0], [36.864709, 4.058579, 2.0], [36.865589, 6.928954, 1.0], [36.866186, 34.486357, 1.0], [36.866618, 6.900388, 1.0], [36.866624, 4.249595, 2.0], [36.866667, 6.9, 3.0], [36.866882, 6.253827, 2.0], [36.867262, 6.904033, 1.0], [36.867311, 30.628045, 1.0], [36.867372, 7.38021, 1.0], [36.867905, 42.948857, 1.0], [36.868611, 43.784444, 2.0], [36.868887, 42.946404, 1.0], [36.869832, 10.341369, 1.0], [36.87152, 6.910181, 1.0], [36.871938, 4.013731, 1.0], [36.872311, 34.414797, 1.0], [36.875556, 3.716944, 1.0], [36.87617, 6.90921, 1.0], [36.87806, 3.72306, 3.0], [36.878312, 4.007625, 5.0], [36.8806, 7.489894, 1.0], [36.881337, 4.66188, 1.0], [36.8825, 4.661944, 5.0], [36.883333, 7.483333, 1.0], [36.88523, 3.737971, 3.0], [36.886497, 38.350204, 39.0], [36.886788, 30.706222, 4.0], [36.889621, 4.128186, 1.0], [36.890782, 38.352907, 1.0], [36.891243, 4.123217, 12.0], [36.89288, 4.421175, 1.0], [36.893792, 4.420652, 1.0], [36.894451, 4.419943, 5.0], [36.895269, 3.787962, 1.0], [36.89603, 3.818879, 2.0], [36.896891, 30.713323, 1.0], [36.897469, 7.428019, 1.0], [36.901314, 3.806076, 2.0], [36.902183, 42.251461, 1.0], [36.90261, 30.759718, 1.0], [36.90278, 7.7552, 2.0], [36.902849, 7.75499, 1.0], [36.902859, 7.755543, 1.0], [36.903619, 7.747242, 1.0], [36.903639, 3.844437, 3.0], [36.90463, 38.345312, 1.0], [36.905833, 44.138611, 2.0], [36.906389, 7.197778, 1.0], [36.9065, 7.19804, 1.0], [36.91129, 7.67718, 1.0], [36.916551, 7.667541, 1.0], [36.916561, 34.89521, 1.0], [36.919552, 3.891396, 11.0], [36.919586, 3.891396, 1.0], [36.92214, 6.313303, 1.0], [36.929481, 42.221034, 1.0], [36.930165, 6.584411, 5.0], [36.941277, 36.154722, 1.0], [36.9465, 36.512607, 1.0], [36.947541, 37.471095, 1.0], [36.950124, 6.403077, 1.0], [36.950128, 42.146324, 1.0], [36.950379, 6.401167, 1.0], [36.953782, 36.20513, 3.0], [36.96528, 6.61639, 1.0], [36.965343, 37.510709, 1.0], [36.967401, 35.258796, 1.0], [36.96786, 35.261983, 1.0], [36.97512, 38.424287, 1.0], [36.975594, 38.426399, 5.0], [36.976667, 36.738466, 1.0], [36.989722, 6.460278, 1.0], [36.99043, 44.32211, 1.0], [36.991245, 35.32782, 1.0], [36.991419, 35.330828, 3.0], [36.991419, 35.330829, 3.0], [36.99154, 35.331051, 3.0], [36.992054, 35.346512, 1.0], [36.993096, 35.274784, 1.0], [36.995567, 35.302888, 1.0], [36.99992, 35.321466, 1.0], [37.001079, 6.554711, 1.0], [37.001385, 6.55432, 3.0], [37.007854, 41.949924, 1.0], [37.015278, 42.556944, 1.0], [37.017948, 41.408279, 1.0], [37.025603, 36.630728, 1.0], [37.039669, 45.09822, 1.0], [37.044872, 37.371839, 1.0], [37.045289, 43.340346, 1.0], [37.05336, 41.227345, 25.0], [37.065953, 37.37811, 1.0], [37.067631, 37.37315, 12.0], [37.06819, 7.383333, 1.0], [37.069644, 41.213997, 5.0], [37.06979, 44.24157, 1.0], [37.070021, 41.213948, 1.0], [37.070296, 41.213785, 1.0], [37.070654, 36.282064, 1.0], [37.070876, 41.213344, 1.0], [37.071093, 41.215226, 1.0], [37.071777, 36.271529, 1.0], [37.074628, 36.2464, 4.0], [37.076523, 41.212998, 1.0], [37.078649, 41.214885, 1.0], [37.078792, 41.215599, 1.0], [37.079525, 44.308044, 2.0], [37.080181, 41.220196, 51.0], [37.080825, 41.215185, 2.0], [37.090393, 41.211633, 1.0], [37.0925, 43.487222, 1.0], [37.09897, 35.148879, 1.0], [37.103893, 35.52194, 1.0], [37.116055, 9.744171, 1.0], [37.123961, 44.063174, 1.0], [37.151137, 41.327711, 1.0], [37.154504, 41.339913, 1.0], [37.159149, 38.796909, 1.0], [37.164977, 41.388434, 1.0], [37.167404, 38.795515, 1.0], [37.173411, 38.817973, 1.0], [37.175321, 43.012291, 1.0], [37.177044, 38.794147, 5.0], [37.179054, 41.877727, 1.0], [37.184525, 43.298217, 1.0], [37.18945, 40.585312, 1.0], [37.190894, 40.58464, 2.0], [37.192069, 40.583705, 1.0], [37.192877, 40.581143, 1.0], [37.193111, 40.587036, 4.0], [37.1978, 42.118744, 1.0], [37.201517, 40.582483, 1.0], [37.202332, 36.426944, 1.0], [37.213026, 36.176262, 1.0], [37.216553, 43.376226, 1.0], [37.222085, 42.498922, 1.0], [37.230226, 43.439369, 1.0], [37.23301, 39.75998, 1.0], [37.235821, 39.762058, 1.0], [37.235867, 39.762378, 1.0], [37.239988, 44.659705, 1.0], [37.245402, 43.614584, 1.0], [37.246291, 44.650992, 1.0], [37.246358, 44.650062, 1.0], [37.246371, 42.478701, 1.0], [37.246584, 44.310866, 2.0], [37.246721, 43.613313, 1.0], [37.246734, 44.66326, 1.0], [37.246817, 43.611526, 2.0], [37.24705, 43.611573, 1.0], [37.247632, 42.471271, 1.0], [37.248553, 42.470552, 1.0], [37.248644, 42.469318, 6.0], [37.2487, 42.4713, 10.0], [37.2487, 42.471357, 1.0], [37.248723, 42.471501, 2.0], [37.248935, 42.470654, 1.0], [37.250261, 42.47123, 1.0], [37.250556, 43.616667, 2.0], [37.250923, 43.611323, 1.0], [37.251526, 42.47857, 1.0], [37.253172, 43.612234, 3.0], [37.253699, 43.528437, 1.0], [37.254976, 43.703785, 1.0], [37.25525, 42.474367, 1.0], [37.255558, 44.650574, 1.0], [37.2589, 43.612003, 1.0], [37.26371, 43.526225, 1.0], [37.268597, 44.383699, 1.0], [37.273333, 41.483889, 1.0], [37.275799, 44.50173, 1.0], [37.27986, 42.46589, 1.0], [37.289735, 42.067752, 1.0], [37.290025, 43.66982, 1.0], [37.291534, 36.481899, 1.0], [37.293709, 43.671189, 17.0], [37.294346, 43.673306, 3.0], [37.29678, 43.663625, 1.0], [37.29678, 43.663659, 1.0], [37.296816, 43.671592, 1.0], [37.297109, 44.520634, 2.0], [37.298986, 43.671515, 3.0], [37.299291, 44.572388, 1.0], [37.3, 44.566667, 4.0], [37.300035, 44.572792, 1.0], [37.30012, 44.571408, 5.0], [37.30039, 44.573785, 1.0], [37.301367, 41.521964, 2.0], [37.302193, 44.526936, 3.0], [37.302221, 44.57692, 1.0], [37.302545, 44.530952, 1.0], [37.302553, 44.531343, 1.0], [37.302708, 44.515607, 1.0], [37.302764, 44.574165, 1.0], [37.303236, 43.586085, 1.0], [37.303304, 44.575744, 1.0], [37.303442, 44.57696, 28.0], [37.303722, 44.575962, 5.0], [37.303733, 44.577849, 1.0], [37.305165, 42.498322, 1.0], [37.30543, 44.573637, 1.0], [37.305543, 42.498322, 1.0], [37.305965, 44.57082, 2.0], [37.306194, 42.498384, 1.0], [37.307539, 44.574562, 1.0], [37.311684, 44.569335, 1.0], [37.312903, 40.733951, 3.0], [37.314823, 40.733429, 1.0], [37.317202, 41.792458, 1.0], [37.318761, 40.718147, 1.0], [37.320095, 44.55611, 3.0], [37.321163, 40.724477, 1.0], [37.326888, 42.187659, 2.0], [37.3293, 43.383193, 1.0], [37.330074, 43.526169, 7.0], [37.33083, 42.184602, 7.0], [37.331164, 42.184047, 1.0], [37.331178, 43.379158, 1.0], [37.331264, 42.181782, 4.0], [37.331265, 42.184007, 2.0], [37.331301, 42.184074, 1.0], [37.331462, 42.182781, 3.0], [37.331478, 42.185897, 1.0], [37.331711, 42.184328, 1.0], [37.331886, 42.185903, 1.0], [37.332, 42.185225, 1.0], [37.332254, 43.379864, 1.0], [37.332255, 43.938926, 1.0], [37.332346, 42.185474, 16.0], [37.332695, 42.104851, 1.0], [37.333598, 42.183614, 1.0], [37.333802, 42.185436, 1.0], [37.338778, 40.269049, 1.0], [37.339302, 40.824976, 1.0], [37.3402, 41.8934, 6.0], [37.340288, 41.892628, 2.0], [37.3403, 41.8935, 1.0], [37.3404, 41.8936, 1.0], [37.340498, 40.821932, 1.0], [37.3405, 41.8937, 1.0], [37.3406, 41.8938, 1.0], [37.3407, 41.8939, 1.0], [37.3408, 41.894, 1.0], [37.341897, 41.893029, 2.0], [37.342787, 42.121717, 1.0], [37.354008, 40.805815, 1.0], [37.355533, 43.263228, 1.0], [37.356516, 43.308923, 1.0], [37.358607, 43.50465, 1.0], [37.361051, 42.019535, 1.0], [37.364394, 40.269345, 1.0], [37.364657, 40.267937, 4.0], [37.36496, 40.267802, 1.0], [37.365302, 40.268995, 1.0], [37.365833, 40.269722, 1.0], [37.366389, 44.085278, 1.0], [37.370458, 44.041046, 1.0], [37.372713, 41.93286, 1.0], [37.373357, 44.086287, 1.0], [37.373458, 44.085682, 2.0], [37.373857, 44.085046, 1.0], [37.373921, 44.086181, 1.0], [37.374774, 44.085309, 2.0], [37.375571, 44.087623, 2.0], [37.377382, 44.085035, 3.0], [37.377975, 44.085653, 1.0], [37.382435, 42.351095, 1.0], [37.385154, 44.085263, 1.0], [37.385218, 40.569641, 1.0], [37.393544, 43.534265, 1.0], [37.393615, 44.575126, 1.0], [37.400442, 43.499541, 1.0], [37.401493, 40.954371, 1.0], [37.402222, 40.953889, 1.0], [37.40706, 44.115763, 1.0], [37.408323, 44.540277, 1.0], [37.414914, 42.492975, 1.0], [37.414964, 44.110826, 1.0], [37.415148, 41.37343, 2.0], [37.415294, 44.110774, 1.0], [37.41544, 42.484191, 2.0], [37.415668, 41.371505, 5.0], [37.416363, 41.373253, 1.0], [37.416667, 42.9, 1.0], [37.416904, 42.487005, 1.0], [37.418099, 41.268707, 1.0], [37.418748, 42.491834, 12.0], [37.418783, 42.492197, 1.0], [37.420232, 41.366454, 1.0], [37.420683, 41.350359, 1.0], [37.421275, 42.513329, 1.0], [37.422046, 42.491682, 1.0], [37.422047, 42.489499, 1.0], [37.422971, 41.355907, 1.0], [37.425584, 34.873613, 1.0], [37.425772, 44.447462, 1.0], [37.429183, 42.883131, 9.0], [37.440736, 42.110754, 1.0], [37.442446, 42.110997, 1.0], [37.444869, 43.750247, 1.0], [37.44511, 42.856859, 2.0], [37.445184, 42.855231, 1.0], [37.445278, 42.856953, 2.0], [37.445596, 42.853016, 1.0], [37.445605, 42.85293, 1.0], [37.445932, 43.744984, 7.0], [37.446551, 43.741084, 1.0], [37.446694, 43.719778, 1.0], [37.449374, 43.746565, 1.0], [37.449444, 42.574444, 1.0], [37.449746, 42.856927, 1.0], [37.450192, 42.853728, 1.0], [37.453272, 42.856851, 1.0], [37.455428, 42.856557, 1.0], [37.458599, 44.308554, 2.0], [37.464842, 42.339598, 1.0], [37.466111, 44.064444, 1.0], [37.474477, 42.709427, 1.0], [37.476686, 41.939048, 1.0], [37.477305, 40.486657, 1.0], [37.477368, 40.486736, 1.0], [37.477907, 41.610437, 1.0], [37.478086, 40.487541, 1.0], [37.480597, 44.300722, 1.0], [37.481646, 43.116171, 2.0], [37.482628, 43.116848, 1.0], [37.494236, 42.531223, 1.0], [37.502887, 39.11395, 1.0], [37.50968, 44.585199, 1.0], [37.514976, 42.458445, 1.0], [37.516389, 42.461111, 1.0], [37.517549, 42.451647, 1.0], [37.518231, 42.456174, 2.0], [37.51873, 42.469761, 5.0], [37.518974, 42.453714, 7.0], [37.519074, 42.452282, 1.0], [37.521762, 42.44901, 1.0], [37.521764, 42.457798, 1.0], [37.521784, 42.455209, 1.0], [37.522125, 43.742763, 1.0], [37.522653, 42.452637, 4.0], [37.523315, 42.449206, 1.0], [37.524148, 42.454371, 1.0], [37.526388, 40.686077, 1.0], [37.527589, 42.455756, 1.0], [37.533928, 40.887089, 1.0], [37.536415, 40.887521, 1.0], [37.541288, 40.548766, 1.0], [37.54434, 41.716762, 1.0], [37.545765, 42.218885, 1.0], [37.546026, 41.720324, 3.0], [37.546151, 41.716455, 1.0], [37.546181, 41.719616, 1.0], [37.546184, 41.719601, 1.0], [37.546184, 41.720381, 3.0], [37.546586, 41.720699, 1.0], [37.54695, 44.137918, 1.0], [37.547059, 34.486508, 1.0], [37.547104, 41.718382, 1.0], [37.556494, 44.297162, 1.0], [37.558082, 44.543742, 1.0], [37.558905, 43.612458, 1.0], [37.562515, 44.293677, 7.0], [37.56477, 44.296322, 3.0], [37.565139, 42.041575, 1.0], [37.566133, 43.761488, 1.0], [37.566667, 44.283333, 2.0], [37.56837, 44.287501, 2.0], [37.568892, 44.29862, 1.0], [37.569387, 43.161557, 1.0], [37.569554, 44.259161, 1.0], [37.569603, 43.165798, 1.0], [37.569647, 43.162261, 1.0], [37.570035, 43.164264, 3.0], [37.570354, 44.282055, 4.0], [37.570506, 43.164092, 1.0], [37.571653, 44.283964, 1.0], [37.571716, 44.282299, 8.0], [37.572424, 44.284264, 1.0], [37.572674, 44.282892, 1.0], [37.573583, 44.285809, 4.0], [37.574109, 43.16433, 1.0], [37.574561, 43.752448, 1.0], [37.577039, 43.736096, 9.0], [37.577084, 43.737431, 1.0], [37.577427, 43.736782, 3.0], [37.578113, 43.738664, 1.0], [37.578115, 43.738664, 1.0], [37.579106, 43.734647, 1.0], [37.580414, 43.736707, 1.0], [37.582397, 43.736277, 1.0], [37.583333, 43.733333, 4.0], [37.589444, 43.565833, 1.0], [37.603309, 44.212768, 1.0], [37.603922, 44.212792, 1.0], [37.615869, 42.380787, 1.0], [37.616667, 43.166667, 1.0], [37.623208, 42.350676, 1.0], [37.623317, 41.389522, 1.0], [37.623633, 42.352792, 1.0], [37.653308, 43.182494, 1.0], [37.654147, 43.138712, 2.0], [37.661829, 43.106924, 5.0], [37.662446, 43.10823, 2.0], [37.708924, 42.003503, 3.0], [37.714618, 41.418412, 1.0], [37.714699, 44.603037, 1.0], [37.717732, 44.603199, 1.0], [37.719912, 44.049962, 1.0], [37.723074, 40.417115, 1.0], [37.724137, 40.413484, 2.0], [37.724184, 40.413603, 1.0], [37.739927, 39.31389, 1.0], [37.740382, 41.83564, 1.0], [37.745068, 27.290749, 1.0], [37.74941, 42.179228, 1.0], [37.7504, 42.180026, 1.0], [37.750517, 42.179877, 2.0], [37.754104, 39.317716, 1.0], [37.754151, 39.316765, 1.0], [37.762545, 30.554892, 1.0], [37.76365, 38.277259, 1.0], [37.764698, 42.798984, 1.0], [37.771791, 38.270646, 1.0], [37.786875, 44.230762, 1.0], [37.809293, 40.359749, 1.0], [37.817253, 42.916058, 1.0], [37.825009, 40.292953, 1.0], [37.837423, 41.365979, 1.0], [37.837778, 40.235278, 1.0], [37.838244, 27.845539, 1.0], [37.838619, 27.845543, 1.0], [37.84135, 42.260828, 1.0], [37.842628, 39.984228, 1.0], [37.846512, 40.661295, 1.0], [37.849694, 40.660986, 1.0], [37.849762, 40.668495, 1.0], [37.850055, 40.668688, 1.0], [37.850224, 40.669994, 1.0], [37.8651, 43.5291, 1.0], [37.8679, 38.4297, 1.0], [37.868056, 40.244167, 1.0], [37.869739, 40.242307, 1.0], [37.871045, 42.149452, 1.0], [37.880223, 42.623616, 2.0], [37.884617, 40.59416, 1.0], [37.885793, 41.130124, 3.0], [37.889235, 38.336155, 1.0], [37.889517, 41.129283, 3.0], [37.889736, 41.129244, 1.0], [37.891282, 42.623138, 1.0], [37.896318, 42.507576, 1.0], [37.91033, 40.240219, 1.0], [37.910706, 40.225989, 1.0], [37.912504, 40.2391, 2.0], [37.917104, 40.230629, 2.0], [37.920832, 42.776827, 1.0], [37.922218, 40.184376, 73.0], [37.923115, 41.944438, 2.0], [37.924973, 40.210983, 8.0], [37.927404, 41.941978, 3.0], [37.927563, 41.942155, 1.0], [37.928348, 40.225487, 1.0], [37.932647, 42.547608, 1.0], [37.932958, 42.550407, 1.0], [37.933612, 41.945397, 1.0], [37.934957, 42.547745, 1.0], [37.935377, 40.185566, 2.0], [37.936623, 42.547486, 1.0], [37.942229, 41.936729, 1.0], [37.956251, 39.924165, 1.0], [37.957864, 39.907231, 1.0], [37.985293, 44.045207, 1.0], [37.985825, 40.616933, 1.0], [38.007844, 43.05896, 2.0], [38.015743, 43.058949, 1.0], [38.016567, 43.059132, 1.0], [38.027838, 40.38515, 1.0], [38.037163, 38.234827, 1.0], [38.045, 44.016944, 1.0], [38.0476, 44.0149, 2.0], [38.0476, 44.015454, 1.0], [38.051977, 44.014885, 1.0], [38.053899, 40.375494, 1.0], [38.056042, 44.017248, 1.0], [38.059429, 41.976927, 1.0], [38.059761, 40.388604, 13.0], [38.059972, 42.032463, 1.0], [38.06219, 42.029423, 1.0], [38.064584, 40.381766, 13.0], [38.064766, 42.033468, 1.0], [38.078267, 40.443117, 1.0], [38.07926, 42.548993, 1.0], [38.079553, 40.253392, 1.0], [38.096772, 42.134388, 1.0], [38.101723, 40.434214, 1.0], [38.104604, 40.540997, 1.0], [38.106338, 40.540783, 1.0], [38.106637, 40.54269, 2.0], [38.126109, 42.805998, 1.0], [38.126597, 41.00556, 2.0], [38.128389, 42.804519, 1.0], [38.13064, 40.98331, 1.0], [38.135092, 39.456119, 1.0], [38.140796, 41.004625, 1.0], [38.141007, 41.009424, 1.0], [38.141225, 41.012807, 11.0], [38.141441, 41.294713, 1.0], [38.141497, 41.011491, 1.0], [38.142658, 41.012292, 3.0], [38.14274, 41.006623, 1.0], [38.142906, 41.007495, 2.0], [38.14524, 43.495006, 1.0], [38.146637, 41.005257, 1.0], [38.152095, 41.202793, 1.0], [38.159069, 41.732154, 1.0], [38.159999, 41.732466, 1.0], [38.178403, 41.495567, 1.0], [38.185846, 42.527418, 2.0], [38.18643, 42.527204, 1.0], [38.193758, 41.488861, 1.0], [38.194714, 41.48877, 1.0], [38.196609, 44.766659, 1.0], [38.2066, 44.2712, 1.0], [38.209894, 43.563268, 2.0], [38.220222, 27.646235, 3.0], [38.225522, 42.428113, 2.0], [38.228072, 40.3955, 1.0], [38.233626, 40.357421, 1.0], [38.249951, 40.764396, 1.0], [38.252338, 40.781574, 3.0], [38.253757, 40.780811, 1.0], [38.259688, 42.498693, 1.0], [38.261642, 41.028993, 1.0], [38.268035, 39.761729, 1.0], [38.273429, 40.765677, 1.0], [38.280506, 40.514469, 1.0], [38.28584, 43.208449, 1.0], [38.290124, 40.502997, 1.0], [38.2906, 40.503982, 1.0], [38.292876, 41.022436, 1.0], [38.294285, 39.696852, 1.0], [38.295858, 43.109403, 1.0], [38.296171, 43.107687, 1.0], [38.304289, 42.01293, 1.0], [38.310464, 40.716033, 1.0], [38.318819, 40.680463, 1.0], [38.320982, 43.3897, 1.0], [38.324368, 26.303357, 1.0], [38.324672, 43.409105, 1.0], [38.325593, 40.665117, 1.0], [38.329022, 27.288885, 1.0], [38.333679, 41.419873, 1.0], [38.333766, 41.420293, 1.0], [38.33424, 27.291203, 1.0], [38.347285, 36.819234, 1.0], [38.353182, 38.32083, 2.0], [38.355363, 38.333525, 1.0], [38.367179, 40.077246, 1.0], [38.367942, 43.718279, 2.0], [38.36848, 43.711883, 1.0], [38.373308, 40.075578, 3.0], [38.374489, 40.072937, 1.0], [38.374892, 40.075389, 1.0], [38.385354, 42.635719, 1.0], [38.385479, 27.174709, 2.0], [38.388477, 27.17293, 1.0], [38.39399, 42.122659, 1.0], [38.395649, 27.135641, 10.0], [38.396556, 40.107955, 1.0], [38.400403, 42.109195, 1.0], [38.400569, 42.109502, 5.0], [38.411175, 40.396162, 1.0], [38.411648, 40.39598, 1.0], [38.413027, 40.395512, 1.0], [38.414259, 40.39266, 1.0], [38.419527, 40.018504, 1.0], [38.420904, 43.249189, 1.0], [38.42248, 43.241642, 1.0], [38.422632, 43.244997, 1.0], [38.422858, 43.242292, 1.0], [38.423117, 43.241897, 1.0], [38.424951, 40.670409, 1.0], [38.425622, 40.671172, 1.0], [38.426625, 40.670188, 7.0], [38.427335, 27.420722, 1.0], [38.437833, 40.512145, 1.0], [38.444379, 40.840362, 1.0], [38.446138, 40.943147, 1.0], [38.45, 40.65, 1.0], [38.453188, 40.652057, 8.0], [38.453699, 40.651315, 1.0], [38.454944, 40.646808, 1.0], [38.455622, 40.647341, 1.0], [38.455659, 40.647401, 1.0], [38.456957, 40.645886, 1.0], [38.45721, 40.647462, 1.0], [38.457284, 40.652105, 1.0], [38.457329, 40.644468, 1.0], [38.457415, 40.652011, 1.0], [38.457543, 40.647071, 3.0], [38.458431, 40.648369, 1.0], [38.460168, 40.644826, 1.0], [38.461126, 40.401273, 1.0], [38.461736, 27.250953, 1.0], [38.461835, 39.861713, 1.0], [38.462655, 27.244096, 1.0], [38.471146, 27.217818, 1.0], [38.472356, 43.404122, 1.0], [38.478577, 27.139976, 1.0], [38.479587, 42.30915, 1.0], [38.487895, 42.236509, 1.0], [38.48914, 43.40889, 5.0], [38.490835, 42.293147, 1.0], [38.490844, 42.29493, 1.0], [38.490898, 42.294861, 2.0], [38.491659, 43.375882, 1.0], [38.494167, 43.38, 1.0], [38.495311, 39.20834, 1.0], [38.495462, 41.010105, 1.0], [38.496468, 41.958354, 1.0], [38.497881, 41.011091, 1.0], [38.498095, 44.319171, 1.0], [38.499275, 41.019232, 1.0], [38.49928, 43.373208, 2.0], [38.49983, 43.37655, 1.0], [38.500119, 41.009861, 1.0], [38.500222, 43.371102, 1.0], [38.50055, 42.195035, 1.0], [38.500718, 43.375591, 2.0], [38.500718, 43.375724, 1.0], [38.501209, 43.372979, 5.0], [38.501261, 43.375537, 2.0], [38.501549, 43.380512, 2.0], [38.501998, 42.281276, 4.0], [38.502045, 42.281308, 1.0], [38.502988, 43.375183, 1.0], [38.503224, 44.308009, 1.0], [38.503349, 39.220019, 1.0], [38.503639, 43.395029, 1.0], [38.504136, 43.375265, 3.0], [38.504662, 43.375732, 1.0], [38.507605, 43.376549, 1.0], [38.513095, 43.364735, 1.0], [38.514774, 40.482482, 1.0], [38.516018, 44.238423, 1.0], [38.516459, 40.545739, 1.0], [38.518103, 42.279839, 1.0], [38.518889, 40.635, 1.0], [38.525852, 41.142233, 1.0], [38.52945, 41.142165, 1.0], [38.529632, 41.142398, 1.0], [38.532293, 43.358902, 1.0], [38.550112, 40.097038, 1.0], [38.5503, 44.9521, 2.0], [38.555576, 41.172132, 1.0], [38.55843, 40.636172, 1.0], [38.572472, 39.836228, 1.0], [38.576708, 42.020709, 1.0], [38.577164, 40.31471, 1.0], [38.601846, 42.10122, 1.0], [38.602734, 43.377666, 1.0], [38.614979, 40.806745, 1.0], [38.623206, 40.536794, 1.0], [38.637677, 41.765699, 1.0], [38.647452, 42.355497, 1.0], [38.652313, 42.420203, 3.0], [38.653375, 44.171486, 2.0], [38.653478, 44.1694, 2.0], [38.654722, 40.728611, 1.0], [38.655192, 43.900716, 1.0], [38.656295, 41.229175, 1.0], [38.6583, 43.9893, 1.0], [38.664422, 40.575612, 1.0], [38.666111, 40.808722, 1.0], [38.667597, 40.807501, 2.0], [38.670426, 26.756945, 2.0], [38.670556, 40.570278, 1.0], [38.671127, 40.57633, 1.0], [38.67364, 40.807932, 1.0], [38.674816, 39.222515, 1.0], [38.681707, 40.685157, 1.0], [38.685904, 43.875794, 1.0], [38.692971, 40.498698, 1.0], [38.696321, 43.366072, 2.0], [38.720489, 35.482597, 1.0], [38.722017, 36.39132, 1.0], [38.724369, 44.031856, 1.0], [38.72967, 39.83604, 1.0], [38.734561, 41.491038, 2.0], [38.735556, 41.488137, 1.0], [38.736839, 41.49156, 1.0], [38.744954, 40.382582, 1.0], [38.748405, 40.553932, 1.0], [38.750384, 40.554192, 3.0], [38.778978, 41.321856, 1.0], [38.831606, 41.322148, 1.0], [38.83349, 39.661779, 1.0], [38.858721, 40.589609, 1.0], [38.862008, 40.591019, 1.0], [38.885349, 40.498291, 1.0], [38.885464, 40.496625, 2.0], [38.888447, 40.501144, 9.0], [38.915229, 42.244582, 1.0], [38.919025, 40.661031, 1.0], [38.93624, 39.612274, 1.0], [38.944648, 41.770442, 1.0], [38.946189, 41.753893, 3.0], [38.952786, 41.901701, 1.0], [38.955475, 42.273406, 1.0], [38.955652, 40.036222, 1.0], [38.966893, 39.960875, 1.0], [38.994542, 43.767263, 3.0], [39.002406, 40.601416, 1.0], [39.00914, 41.839591, 1.0], [39.018605, 40.574546, 2.0], [39.022974, 39.605467, 1.0], [39.028604, 43.358577, 1.0], [39.029039, 43.359125, 1.0], [39.029069, 43.359149, 1.0], [39.02928, 42.481012, 1.0], [39.029563, 43.357775, 1.0], [39.030402, 43.36192, 1.0], [39.031154, 43.359797, 1.0], [39.03643, 43.350422, 1.0], [39.053455, 39.422522, 1.0], [39.062635, 40.769609, 2.0], [39.062662, 40.780593, 2.0], [39.071231, 40.769663, 1.0], [39.075645, 40.768967, 1.0], [39.081582, 39.501838, 1.0], [39.087083, 39.384866, 1.0], [39.087403, 44.354528, 1.0], [39.092532, 42.266387, 1.0], [39.093999, 42.267616, 1.0], [39.105188, 42.266014, 1.0], [39.105825, 39.545517, 3.0], [39.10617, 39.548259, 8.0], [39.106466, 39.548121, 1.0], [39.106709, 39.545246, 14.0], [39.107878, 39.219159, 1.0], [39.108025, 39.21867, 2.0], [39.115273, 39.569023, 1.0], [39.121403, 44.021133, 1.0], [39.130901, 41.482063, 1.0], [39.13688, 39.216978, 1.0], [39.140058, 42.088242, 1.0], [39.141944, 43.913889, 1.0], [39.141959, 43.912439, 1.0], [39.142, 43.914, 2.0], [39.145471, 43.913528, 1.0], [39.146145, 42.54096, 1.0], [39.150285, 39.288367, 1.0], [39.153423, 39.563384, 1.0], [39.164922, 39.215773, 1.0], [39.16536, 39.383455, 1.0], [39.165522, 39.657665, 1.0], [39.173291, 41.455974, 1.0], [39.173794, 41.454878, 1.0], [39.174, 41.45619, 1.0], [39.179131, 39.828445, 4.0], [39.181189, 39.827674, 1.0], [39.182783, 27.606033, 2.0], [39.185497, 39.82716, 1.0], [39.191602, 40.372379, 1.0], [39.227978, 40.069525, 2.0], [39.232506, 39.725955, 1.0], [39.233866, 40.916873, 1.0], [39.236597, 39.221167, 1.0], [39.240351, 42.0969, 1.0], [39.245127, 40.571649, 1.0], [39.253286, 39.852928, 2.0], [39.260051, 39.484817, 1.0], [39.290278, 41.005833, 1.0], [39.296617, 39.430111, 1.0], [39.297996, 41.014368, 2.0], [39.303184, 44.514567, 1.0], [39.303758, 39.412422, 1.0], [39.307355, 39.438778, 4.0], [39.308329, 40.34954, 1.0], [39.309931, 40.34977, 1.0], [39.310059, 40.349048, 2.0], [39.322908, 39.478677, 1.0], [39.331293, 43.887692, 1.0], [39.349569, 39.209312, 1.0], [39.356322, 44.005112, 1.0], [39.357044, 39.216588, 1.0], [39.357084, 39.216527, 1.0], [39.35747, 39.216632, 1.0], [39.35808, 39.214564, 1.0], [39.358333, 39.216111, 1.0], [39.35922, 43.999668, 1.0], [39.363724, 39.215531, 1.0], [39.389674, 44.389953, 1.0], [39.391389, 44.3875, 1.0], [39.41427, 44.377483, 1.0], [39.414482, 44.375721, 1.0], [39.415638, 44.357624, 1.0], [39.421437, 39.428859, 2.0], [39.456603, 43.775649, 1.0], [39.468442, 40.043794, 1.0], [39.486249, 39.897895, 1.0], [39.486504, 39.895394, 1.0], [39.492335, 39.897452, 3.0], [39.514818, 39.871939, 1.0], [39.539783, 43.672074, 1.0], [39.540016, 43.677381, 1.0], [39.54037, 43.673608, 1.0], [39.541106, 43.685981, 1.0], [39.547074, 44.068778, 5.0], [39.547222, 44.083333, 2.0], [39.550266, 44.077301, 2.0], [39.563051, 44.01115, 4.0], [39.646156, 44.261475, 1.0], [39.654012, 44.79977, 1.0], [39.666531, 43.283176, 2.0], [39.672123, 44.05033, 1.0], [39.70276, 42.145555, 1.0], [39.732142, 43.097105, 2.0], [39.743108, 39.499248, 1.0], [39.744919, 39.744919, 1.0], [39.770854, 39.050085, 2.0], [39.776667, 30.520556, 1.0], [39.798045, 42.675429, 1.0], [39.798509, 32.805613, 2.0], [39.799948, 42.6768, 1.0], [39.82326, 42.674986, 1.0], [39.839784, 33.508878, 1.0], [39.888924, 44.001294, 1.0], [39.899515, 38.768195, 1.0], [39.903853, 44.015022, 1.0], [39.905499, 41.265824, 1.0], [39.906273, 41.26695, 1.0], [39.916839, 44.044637, 1.0], [39.9193, 44.065498, 1.0], [39.92006, 44.043615, 1.0], [39.930771, 32.76754, 44.0], [39.978529, 41.673673, 1.0], [40.040049, 42.168877, 1.0], [40.138807, 43.12285, 1.0], [40.140648, 43.119118, 3.0], [40.141479, 43.117828, 1.0], [40.141942, 43.11954, 1.0], [40.141954, 43.119885, 1.0], [40.183988, 29.061777, 1.0], [40.188528, 29.060964, 1.0], [40.189528, 39.127324, 1.0], [40.217894, 29.19372, 1.0], [40.273829, 42.490832, 1.0], [40.313993, 36.554347, 1.0], [40.333401, 42.590479, 3.0], [40.370761, 42.647372, 1.0], [40.394488, 36.094868, 1.0], [40.535556, 29.353611, 1.0], [40.55784, 39.293491, 1.0], [40.557866, 39.293279, 1.0], [40.612338, 42.976753, 1.0], [40.616667, 43.1, 1.0], [40.651661, 35.903797, 1.0], [40.663175, 42.380213, 2.0], [40.681854, 39.125883, 1.0], [40.740084, 38.449636, 1.0], [40.741706, 38.451811, 1.0], [40.766944, 29.916944, 2.0], [40.793352, 42.609534, 1.0], [40.81293, 39.611529, 1.0], [40.814141, 39.609069, 1.0], [40.814221, 39.610662, 1.0], [40.871254, 43.458685, 1.0], [40.894096, 38.808239, 1.0], [40.898307, 29.360361, 1.0], [40.901355, 29.356975, 1.0], [40.917374, 38.392738, 1.0], [40.932624, 29.53358, 1.0], [40.986166, 37.879721, 1.0], [41.002512, 39.717336, 1.0], [41.00527, 28.97696, 2.0], [41.0303, 29.1065, 1.0], [41.038457, 28.97006, 1.0], [41.045911, 29.034478, 1.0], [41.051806, 39.231571, 1.0], [41.091526, 29.061812, 1.0], [41.106178, 28.689863, 206.0], [41.125489, 28.871312, 1.0], [41.22646, 28.64864, 1.0], [41.252757, 42.354672, 1.0], [41.292758, 36.331211, 1.0], [41.378494, 33.776276, 1.0], [41.41061, 33.700055, 1.0]],\n",
       "                {\n",
       "  &quot;minOpacity&quot;: 0.5,\n",
       "  &quot;maxZoom&quot;: 18,\n",
       "  &quot;radius&quot;: 25,\n",
       "  &quot;blur&quot;: 15,\n",
       "}\n",
       "            );\n",
       "        \n",
       "    \n",
       "            heat_map_7d90b1f6313b26c7bdeb653a2f4b45a2.addTo(map_7c8d6c7b7aef3c428255925a6badfa25);\n",
       "        \n",
       "    \n",
       "            tile_layer_36d2872e1550faacc764bb88dd54d314.addTo(map_7c8d6c7b7aef3c428255925a6badfa25);\n",
       "        \n",
       "    \n",
       "            heat_map_7d90b1f6313b26c7bdeb653a2f4b45a2.addTo(map_7c8d6c7b7aef3c428255925a6badfa25);\n",
       "        \n",
       "&lt;/script&gt;\n",
       "&lt;/html&gt;\" style=\"position:absolute;width:100%;height:100%;left:0;top:0;border:none !important;\" allowfullscreen webkitallowfullscreen mozallowfullscreen></iframe></div></div>"
      ],
      "text/plain": [
       "<folium.folium.Map at 0x26c789aec10>"
      ]
     },
     "execution_count": 25,
     "metadata": {},
     "output_type": "execute_result"
    }
   ],
   "source": [
    "filtered_df = df[(df['region_txt'] == 'Middle East & North Africa') & (df['iyear'] >= 2000)]\n",
    "\n",
    "aggregated_df = filtered_df.groupby(['latitude', 'longitude']).size().reset_index(name='incident_count')\n",
    "\n",
    "aggregated_df['normalized_weight'] = (aggregated_df['incident_count'] - aggregated_df['incident_count'].min()) \n",
    "(aggregated_df['incident_count'].max() - aggregated_df['incident_count'].min())\n",
    "\n",
    "heat_data = aggregated_df[['latitude', 'longitude', 'incident_count']].values.tolist()\n",
    "\n",
    "m = folium.Map(location = [30, 40], zoom_start=4)\n",
    "\n",
    "HeatMap(heat_data).add_to(m)\n",
    "\n",
    "m.save('terrorism_heatmap.html')\n",
    "m"
   ]
  },
  {
   "cell_type": "code",
   "execution_count": null,
   "id": "db2d047a-5192-490a-a33a-4290778b1a18",
   "metadata": {},
   "outputs": [],
   "source": []
  },
  {
   "cell_type": "code",
   "execution_count": null,
   "id": "1e7eac6c-e449-4b42-906c-3d472952d7d4",
   "metadata": {},
   "outputs": [],
   "source": []
  },
  {
   "cell_type": "markdown",
   "id": "a3bcacac-1321-43a1-a2eb-478f340cd1a9",
   "metadata": {},
   "source": [
    "<h1>Insight 1: High-Casualty Bombings in the Middle East & North Africa since 2000</h1>"
   ]
  },
  {
   "cell_type": "code",
   "execution_count": 34,
   "id": "ed108df1-fd4e-4b17-a903-c7c42ecc7164",
   "metadata": {},
   "outputs": [],
   "source": [
    "filter1 = df[df['region_txt'] == 'Middle East & North Africa']\n"
   ]
  },
  {
   "cell_type": "code",
   "execution_count": 35,
   "id": "2d80d4e7-27f7-4cad-9741-379c2f7795e4",
   "metadata": {},
   "outputs": [],
   "source": [
    "filter2 = filter1[filter1['attacktype1_txt'] == 'Bombing/Explosion']\n"
   ]
  },
  {
   "cell_type": "code",
   "execution_count": 36,
   "id": "e0489937-3ca0-4533-95cd-cebed2674e3d",
   "metadata": {},
   "outputs": [],
   "source": [
    "filter3 = filter2[filter2['nkill'] >= 10]\n"
   ]
  },
  {
   "cell_type": "code",
   "execution_count": 37,
   "id": "b0ed9fd8-3842-4e26-a454-bdadfc9f4275",
   "metadata": {},
   "outputs": [],
   "source": [
    "filter4 = filter3[filter3['iyear'] >= 2000]\n"
   ]
  },
  {
   "cell_type": "code",
   "execution_count": 38,
   "id": "cfe97758-0138-4252-b28b-8245bd2d3bc2",
   "metadata": {},
   "outputs": [],
   "source": [
    "ME_terror = filter4.groupby(['longitude', 'latitude']).size().reset_index(name='incident_count')\n"
   ]
  },
  {
   "cell_type": "code",
   "execution_count": null,
   "id": "a712a9a8-e356-4ef0-a4a2-ed65b37a0cba",
   "metadata": {},
   "outputs": [],
   "source": []
  },
  {
   "cell_type": "code",
   "execution_count": 39,
   "id": "eac3e81b-317b-4dbf-b99e-fb9eed3960e6",
   "metadata": {},
   "outputs": [],
   "source": [
    "import folium\n",
    "from folium.plugins import HeatMap\n",
    "heat_df = ME_terror[['latitude', 'longitude', 'incident_count']].values.tolist()"
   ]
  },
  {
   "cell_type": "code",
   "execution_count": 40,
   "id": "ee920f98-9ee9-4afe-974a-88debc11d701",
   "metadata": {},
   "outputs": [],
   "source": [
    "m1 = folium.Map(location=[30, 40], zoom_start=4)"
   ]
  },
  {
   "cell_type": "code",
   "execution_count": 41,
   "id": "32a9f069-d91c-4939-9c63-7554dd963261",
   "metadata": {},
   "outputs": [
    {
     "data": {
      "text/plain": [
       "<folium.plugins.heat_map.HeatMap at 0x26c78ca4cd0>"
      ]
     },
     "execution_count": 41,
     "metadata": {},
     "output_type": "execute_result"
    }
   ],
   "source": [
    "HeatMap(heat_df).add_to(m1)\n"
   ]
  },
  {
   "cell_type": "code",
   "execution_count": 43,
   "id": "dddff81b-e086-4e93-aa88-a2201cd6ce08",
   "metadata": {},
   "outputs": [
    {
     "data": {
      "text/html": [
       "<div style=\"width:100%;\"><div style=\"position:relative;width:100%;height:0;padding-bottom:60%;\"><span style=\"color:#565656\">Make this Notebook Trusted to load map: File -> Trust Notebook</span><iframe srcdoc=\"&lt;!DOCTYPE html&gt;\n",
       "&lt;html&gt;\n",
       "&lt;head&gt;\n",
       "    \n",
       "    &lt;meta http-equiv=&quot;content-type&quot; content=&quot;text/html; charset=UTF-8&quot; /&gt;\n",
       "    \n",
       "        &lt;script&gt;\n",
       "            L_NO_TOUCH = false;\n",
       "            L_DISABLE_3D = false;\n",
       "        &lt;/script&gt;\n",
       "    \n",
       "    &lt;style&gt;html, body {width: 100%;height: 100%;margin: 0;padding: 0;}&lt;/style&gt;\n",
       "    &lt;style&gt;#map {position:absolute;top:0;bottom:0;right:0;left:0;}&lt;/style&gt;\n",
       "    &lt;script src=&quot;https://cdn.jsdelivr.net/npm/leaflet@1.9.3/dist/leaflet.js&quot;&gt;&lt;/script&gt;\n",
       "    &lt;script src=&quot;https://code.jquery.com/jquery-3.7.1.min.js&quot;&gt;&lt;/script&gt;\n",
       "    &lt;script src=&quot;https://cdn.jsdelivr.net/npm/bootstrap@5.2.2/dist/js/bootstrap.bundle.min.js&quot;&gt;&lt;/script&gt;\n",
       "    &lt;script src=&quot;https://cdnjs.cloudflare.com/ajax/libs/Leaflet.awesome-markers/2.0.2/leaflet.awesome-markers.js&quot;&gt;&lt;/script&gt;\n",
       "    &lt;link rel=&quot;stylesheet&quot; href=&quot;https://cdn.jsdelivr.net/npm/leaflet@1.9.3/dist/leaflet.css&quot;/&gt;\n",
       "    &lt;link rel=&quot;stylesheet&quot; href=&quot;https://cdn.jsdelivr.net/npm/bootstrap@5.2.2/dist/css/bootstrap.min.css&quot;/&gt;\n",
       "    &lt;link rel=&quot;stylesheet&quot; href=&quot;https://netdna.bootstrapcdn.com/bootstrap/3.0.0/css/bootstrap-glyphicons.css&quot;/&gt;\n",
       "    &lt;link rel=&quot;stylesheet&quot; href=&quot;https://cdn.jsdelivr.net/npm/@fortawesome/fontawesome-free@6.2.0/css/all.min.css&quot;/&gt;\n",
       "    &lt;link rel=&quot;stylesheet&quot; href=&quot;https://cdnjs.cloudflare.com/ajax/libs/Leaflet.awesome-markers/2.0.2/leaflet.awesome-markers.css&quot;/&gt;\n",
       "    &lt;link rel=&quot;stylesheet&quot; href=&quot;https://cdn.jsdelivr.net/gh/python-visualization/folium/folium/templates/leaflet.awesome.rotate.min.css&quot;/&gt;\n",
       "    \n",
       "            &lt;meta name=&quot;viewport&quot; content=&quot;width=device-width,\n",
       "                initial-scale=1.0, maximum-scale=1.0, user-scalable=no&quot; /&gt;\n",
       "            &lt;style&gt;\n",
       "                #map_30e7b6c86eab18700a360f3de9914f45 {\n",
       "                    position: relative;\n",
       "                    width: 100.0%;\n",
       "                    height: 100.0%;\n",
       "                    left: 0.0%;\n",
       "                    top: 0.0%;\n",
       "                }\n",
       "                .leaflet-container { font-size: 1rem; }\n",
       "            &lt;/style&gt;\n",
       "        \n",
       "    &lt;script src=&quot;https://cdn.jsdelivr.net/gh/python-visualization/folium@main/folium/templates/leaflet_heat.min.js&quot;&gt;&lt;/script&gt;\n",
       "&lt;/head&gt;\n",
       "&lt;body&gt;\n",
       "    \n",
       "    \n",
       "            &lt;div class=&quot;folium-map&quot; id=&quot;map_30e7b6c86eab18700a360f3de9914f45&quot; &gt;&lt;/div&gt;\n",
       "        \n",
       "&lt;/body&gt;\n",
       "&lt;script&gt;\n",
       "    \n",
       "    \n",
       "            var map_30e7b6c86eab18700a360f3de9914f45 = L.map(\n",
       "                &quot;map_30e7b6c86eab18700a360f3de9914f45&quot;,\n",
       "                {\n",
       "                    center: [30.0, 40.0],\n",
       "                    crs: L.CRS.EPSG3857,\n",
       "                    ...{\n",
       "  &quot;zoom&quot;: 4,\n",
       "  &quot;zoomControl&quot;: true,\n",
       "  &quot;preferCanvas&quot;: false,\n",
       "}\n",
       "\n",
       "                }\n",
       "            );\n",
       "\n",
       "            \n",
       "\n",
       "        \n",
       "    \n",
       "            var tile_layer_181cccc1b0052b6d275acfdef2a3c282 = L.tileLayer(\n",
       "                &quot;https://tile.openstreetmap.org/{z}/{x}/{y}.png&quot;,\n",
       "                {\n",
       "  &quot;minZoom&quot;: 0,\n",
       "  &quot;maxZoom&quot;: 19,\n",
       "  &quot;maxNativeZoom&quot;: 19,\n",
       "  &quot;noWrap&quot;: false,\n",
       "  &quot;attribution&quot;: &quot;\\u0026copy; \\u003ca href=\\&quot;https://www.openstreetmap.org/copyright\\&quot;\\u003eOpenStreetMap\\u003c/a\\u003e contributors&quot;,\n",
       "  &quot;subdomains&quot;: &quot;abc&quot;,\n",
       "  &quot;detectRetina&quot;: false,\n",
       "  &quot;tms&quot;: false,\n",
       "  &quot;opacity&quot;: 1,\n",
       "}\n",
       "\n",
       "            );\n",
       "        \n",
       "    \n",
       "            tile_layer_181cccc1b0052b6d275acfdef2a3c282.addTo(map_30e7b6c86eab18700a360f3de9914f45);\n",
       "        \n",
       "    \n",
       "            var heat_map_2399dea8b834b57031f80bb3492fed02 = L.heatLayer(\n",
       "                [[31.633333, -8.0, 1.0], [33.59, -7.61, 1.0], [35.391899, 0.138188, 1.0], [36.072919, 1.988153, 1.0], [36.526708, 2.344489, 1.0], [36.46298, 2.81464, 1.0], [36.763763, 3.055413, 3.0], [36.56522, 3.153934, 1.0], [36.562222, 3.594444, 2.0], [36.72398, 3.670848, 2.0], [36.672703, 3.809529, 1.0], [36.919552, 3.891396, 1.0], [36.37489, 3.902, 2.0], [36.716365, 4.049834, 1.0], [34.680833, 4.096944, 1.0], [36.077754, 4.462888, 1.0], [36.28611, 5.60722, 1.0], [36.813267, 5.751706, 1.0], [35.59901, 5.893085, 1.0], [35.55, 6.166667, 1.0], [36.673926, 6.83876, 1.0], [36.866618, 6.900388, 1.0], [35.43811, 7.146648, 1.0], [36.811427, 10.184214, 1.0], [33.819136, 10.855024, 1.0], [32.063988, 12.691492, 1.0], [32.8, 12.9, 1.0], [32.867867, 13.189067, 4.0], [32.407892, 14.622688, 1.0], [31.448914, 15.256008, 1.0], [31.395836, 15.724736, 1.0], [31.197586, 16.586681, 2.0], [32.069286, 20.151144, 7.0], [32.094952, 20.268871, 1.0], [32.42202, 20.451099, 1.0], [32.762238, 22.241188, 2.0], [27.058452, 27.969925, 1.0], [41.106178, 28.689863, 10.0], [30.762296, 29.696268, 1.0], [31.19829, 29.899403, 1.0], [30.787678, 30.999529, 1.0], [30.022924, 31.185192, 1.0], [30.084629, 31.334314, 2.0], [29.831976, 31.337257, 1.0], [31.039309, 31.379664, 1.0], [39.930771, 32.76754, 3.0], [39.798509, 32.805613, 1.0], [31.016779, 33.008587, 1.0], [30.608472, 33.617577, 1.0], [31.080795, 33.638188, 1.0], [30.699335, 33.644714, 1.0], [31.126646, 33.800865, 5.0], [30.886219, 34.076081, 1.0], [31.211645, 34.110425, 1.0], [31.212225, 34.117065, 3.0], [30.169854, 34.173178, 1.0], [31.250196, 34.24128, 1.0], [30.99614, 34.247173, 1.0], [27.915557, 34.329886, 1.0], [28.509136, 34.513634, 1.0], [31.821444, 34.665169, 1.0], [31.970541, 34.791725, 1.0], [32.08297, 34.811886, 3.0], [32.332612, 34.851529, 1.0], [32.325073, 34.854663, 1.0], [29.490095, 34.899447, 1.0], [32.473605, 34.975094, 1.0], [32.793921, 34.990615, 6.0], [32.161864, 35.137217, 1.0], [32.581387, 35.182465, 1.0], [31.771599, 35.2034, 9.0], [38.720489, 35.482597, 1.0], [33.861984, 35.489986, 2.0], [33.843471, 35.498738, 2.0], [33.888523, 35.503513, 3.0], [35.528404, 35.79232, 3.0], [33.126944, 35.825796, 1.0], [33.280891, 35.829319, 1.0], [34.438062, 35.830744, 2.0], [34.438094, 35.830837, 2.0], [34.443955, 35.854032, 1.0], [34.896351, 35.886443, 2.0], [34.896112, 35.886553, 1.0], [34.895928, 35.886652, 2.0], [35.361572, 35.927155, 4.0], [31.950001, 35.933331, 3.0], [32.835648, 35.970169, 1.0], [32.711067, 36.026836, 1.0], [32.674366, 36.056892, 1.0], [32.962402, 36.076488, 1.0], [33.436207, 36.080795, 1.0], [32.622334, 36.103756, 3.0], [33.622993, 36.11203, 1.0], [35.688751, 36.135868, 1.0], [32.834137, 36.156742, 1.0], [34.715336, 36.255295, 1.0], [33.484396, 36.268508, 1.0], [33.515244, 36.292084, 34.0], [33.435532, 36.295208, 1.0], [33.5111, 36.3064, 1.0], [33.60722, 36.314327, 1.0], [32.568889, 36.315278, 1.0], [35.813396, 36.319939, 1.0], [35.413296, 36.33012, 1.0], [33.446476, 36.334499, 6.0], [35.290483, 36.345111, 1.0], [33.488998, 36.346882, 4.0], [33.561504, 36.368763, 2.0], [33.484444, 36.377289, 1.0], [33.755295, 36.388622, 1.0], [33.527649, 36.392296, 1.0], [32.696985, 36.398428, 1.0], [35.713863, 36.525666, 1.0], [36.264221, 36.565708, 3.0], [32.709763, 36.567642, 1.0], [34.951523, 36.581963, 1.0], [35.813972, 36.609917, 2.0], [35.928802, 36.631451, 5.0], [35.933333, 36.633333, 1.0], [35.925894, 36.6519, 1.0], [36.313854, 36.660312, 1.0], [35.855245, 36.671186, 1.0], [36.01313, 36.673443, 1.0], [35.647797, 36.675259, 2.0], [35.990086, 36.677223, 1.0], [36.310444, 36.689156, 3.0], [33.6432, 36.690445, 1.0], [35.982761, 36.704647, 2.0], [34.717705, 36.722824, 21.0], [33.611455, 36.75523, 1.0], [35.129181, 36.760738, 2.0], [36.213078, 36.769512, 1.0], [34.097931, 36.770164, 1.0], [35.868511, 36.804665, 1.0], [35.068056, 36.888889, 1.0], [36.377281, 36.993607, 1.0], [35.993954, 36.998383, 1.0], [36.362663, 37.012653, 1.0], [34.814651, 37.01833, 1.0], [35.135796, 37.020739, 1.0], [36.521944, 37.041111, 1.0], [34.722992, 37.046791, 1.0], [36.585438, 37.046921, 2.0], [36.115444, 37.049343, 1.0], [35.012791, 37.051506, 1.0], [36.618584, 37.076237, 2.0], [36.278435, 37.085297, 1.0], [36.630637, 37.085353, 1.0], [36.472965, 37.09436, 1.0], [35.73494, 37.103072, 1.0], [36.201721, 37.14352, 44.0], [36.2065, 37.160027, 1.0], [36.216213, 37.163826, 1.0], [36.482582, 37.197102, 1.0], [36.266701, 37.203342, 1.0], [35.188786, 37.211583, 1.0], [36.658461, 37.212777, 1.0], [34.227745, 37.244217, 4.0], [36.1789, 37.285795, 1.0], [36.039722, 37.3075, 1.0], [34.834274, 37.324997, 1.0], [37.067631, 37.37315, 2.0], [35.405506, 37.430546, 2.0], [36.432888, 37.442127, 1.0], [35.781292, 37.499214, 1.0], [36.366199, 37.512276, 2.0], [36.186638, 37.583084, 1.0], [36.445278, 37.627222, 1.0], [36.52915, 37.951031, 1.0], [36.81863, 38.011127, 2.0], [35.96545, 38.041325, 1.0], [34.558525, 38.293671, 2.0], [36.58749, 38.301998, 1.0], [36.886497, 38.350204, 1.0], [36.975594, 38.426399, 1.0], [33.325054, 38.659325, 1.0], [36.38588, 38.863895, 1.0], [33.433811, 38.922878, 1.0], [36.695915, 38.946732, 1.0], [35.958808, 38.999399, 1.0], [35.951523, 39.009563, 2.0], [32.74815, 39.027969, 1.0], [33.668545, 39.967896, 1.0], [35.333061, 40.138737, 5.0], [35.283155, 40.170828, 1.0], [35.283094, 40.170864, 1.0], [37.922218, 40.184376, 1.0], [33.038056, 40.284444, 1.0], [33.036022, 40.288158, 3.0], [35.28798, 40.308863, 1.0], [36.657269, 40.37056, 1.0], [31.945864, 40.452624, 1.0], [35.015778, 40.455212, 1.0], [34.857777, 40.575726, 1.0], [35.464344, 40.669575, 1.0], [36.503593, 40.740627, 14.0], [36.554444, 40.748056, 1.0], [35.964956, 40.902176, 1.0], [34.41688, 41.09998, 1.0], [37.05336, 41.227345, 3.0], [36.06028, 41.29466, 1.0], [34.154213, 41.572376, 1.0], [36.183247, 41.591599, 1.0], [36.749678, 41.59673, 1.0], [36.202354, 41.687168, 1.0], [36.322392, 41.860499, 1.0], [36.319386, 41.861473, 4.0], [36.3144, 41.8625, 1.0], [36.322256, 41.863909, 1.0], [36.3225, 41.864167, 2.0], [34.405209, 41.893338, 1.0], [37.3402, 41.8934, 1.0], [34.474993, 41.905622, 1.0], [32.559761, 41.919647, 4.0], [34.477619, 41.920773, 1.0], [32.537552, 41.921997, 1.0], [34.367733, 41.985275, 2.0], [36.807907, 42.071414, 1.0], [36.804388, 42.078573, 1.0], [36.803982, 42.093945, 1.0], [37.332346, 42.185474, 1.0], [36.318344, 42.21035, 1.0], [33.7, 42.216667, 1.0], [36.3825, 42.216667, 1.0], [36.592364, 42.216808, 1.0], [36.187306, 42.224158, 1.0], [36.229574, 42.236244, 2.0], [36.902183, 42.251461, 1.0], [36.349444, 42.265556, 1.0], [34.085258, 42.360344, 1.0], [34.160587, 42.37254, 10.0], [36.50589, 42.375995, 1.0], [34.092655, 42.385468, 2.0], [35.442745, 42.393838, 1.0], [36.289417, 42.411853, 1.0], [34.006023, 42.421604, 1.0], [33.802006, 42.438267, 1.0], [36.500431, 42.438282, 1.0], [33.792582, 42.442936, 1.0], [36.376823, 42.448875, 20.0], [36.374029, 42.451435, 1.0], [35.881389, 42.469444, 1.0], [34.192039, 42.497272, 1.0], [18.223461, 42.526051, 1.0], [34.266661, 42.528929, 1.0], [33.864799, 42.536385, 10.0], [33.907707, 42.542435, 2.0], [33.8456, 42.553495, 1.0], [35.944855, 42.564484, 2.0], [33.982013, 42.594834, 2.0], [36.76321, 42.602535, 1.0], [33.592064, 42.618965, 2.0], [36.469528, 42.670578, 2.0], [37.474477, 42.709427, 1.0], [35.569427, 42.723026, 3.0], [35.574122, 42.728694, 1.0], [35.563069, 42.730889, 1.0], [36.513023, 42.738479, 1.0], [36.206371, 42.749943, 2.0], [33.644765, 42.826424, 1.0], [36.283566, 42.830044, 1.0], [33.633896, 42.832081, 6.0], [36.626314, 42.833867, 1.0], [36.508533, 42.842224, 1.0], [36.237222, 42.8425, 1.0], [33.393642, 42.849487, 1.0], [16.19005, 42.882414, 1.0], [14.781294, 42.972851, 1.0], [36.214444, 43.041111, 1.0], [35.904295, 43.058433, 1.0], [36.068785, 43.065456, 1.0], [33.522137, 43.098385, 1.0], [36.228695, 43.105652, 2.0], [35.415855, 43.114769, 2.0], [35.758367, 43.12946, 1.0], [36.341501, 43.137222, 1.0], [36.354145, 43.14357, 72.0], [36.434563, 43.158421, 4.0], [36.207593, 43.19765, 1.0], [33.469318, 43.224907, 1.0], [35.48727, 43.240556, 1.0], [36.632677, 43.256512, 1.0], [33.448437, 43.26757, 1.0], [33.489437, 43.275142, 1.0], [35.700397, 43.280434, 1.0], [33.435279, 43.281158, 1.0], [35.79813, 43.294178, 2.0], [33.420948, 43.295662, 63.0], [33.449772, 43.29578, 1.0], [33.419822, 43.298471, 1.0], [35.7131, 43.29924, 1.0], [33.416667, 43.3, 2.0], [33.431899, 43.311566, 1.0], [33.468018, 43.327589, 1.0], [36.359535, 43.336533, 1.0], [33.447155, 43.340736, 1.0], [36.451707, 43.342042, 1.0], [36.447495, 43.351059, 1.0], [35.009102, 43.356161, 1.0], [35.771057, 43.362682, 1.0], [35.023304, 43.370753, 1.0], [33.453312, 43.372253, 1.0], [35.1782, 43.375203, 1.0], [35.172505, 43.377435, 1.0], [36.274412, 43.37751, 1.0], [35.827229, 43.389652, 1.0], [33.456459, 43.392872, 3.0], [35.136112, 43.4225, 1.0], [33.414598, 43.455254, 1.0], [33.683266, 43.473259, 8.0], [34.533753, 43.483738, 2.0], [34.54906, 43.485533, 1.0], [32.565084, 43.490958, 1.0], [34.92485, 43.491413, 13.0], [34.943422, 43.496511, 1.0], [35.005104, 43.49686, 2.0], [34.92832, 43.501463, 1.0], [34.834415, 43.515133, 4.0], [32.472147, 43.516361, 1.0], [34.675551, 43.550642, 1.0], [33.382431, 43.587631, 2.0], [35.768353, 43.588966, 2.0], [35.797443, 43.593756, 1.0], [17.060139, 43.599369, 1.0], [33.41735, 43.623861, 1.0], [13.413319, 43.627508, 1.0], [35.631498, 43.631421, 1.0], [35.03415, 43.632833, 1.0], [13.413117, 43.637531, 1.0], [35.0325, 43.646389, 1.0], [34.621521, 43.668377, 19.0], [37.294346, 43.673306, 1.0], [34.705948, 43.697075, 1.0], [34.644722, 43.7, 1.0], [33.397812, 43.706276, 5.0], [33.412674, 43.710224, 1.0], [34.992645, 43.719736, 1.0], [34.582001, 43.724945, 1.0], [34.365089, 43.74522, 1.0], [16.917494, 43.762409, 1.0], [34.373264, 43.76318, 1.0], [34.369167, 43.764167, 1.0], [35.326122, 43.780811, 1.0], [33.312738, 43.78092, 1.0], [33.35, 43.783333, 1.0], [33.349159, 43.784199, 23.0], [34.458889, 43.791004, 2.0], [34.194717, 43.800671, 1.0], [33.417362, 43.804871, 1.0], [34.925064, 43.807106, 1.0], [34.8962, 43.808772, 1.0], [34.925074, 43.809004, 1.0], [34.896537, 43.812777, 1.0], [33.34077, 43.821672, 1.0], [33.255924, 43.839542, 1.0], [33.354051, 43.845054, 1.0], [34.2901, 43.852592, 1.0], [33.163559, 43.863106, 8.0], [34.198803, 43.873311, 1.0], [34.208416, 43.890713, 13.0], [33.375365, 43.891302, 1.0], [34.10729, 43.895811, 1.0], [34.166004, 43.905515, 1.0], [33.403057, 43.911865, 12.0], [33.380455, 43.916641, 1.0], [35.329201, 43.943679, 1.0], [33.278425, 43.946356, 1.0], [15.666667, 43.95, 1.0], [33.440707, 43.969894, 1.0], [36.192589, 44.004623, 6.0], [32.604393, 44.007145, 13.0], [13.574698, 44.010392, 1.0], [32.598736, 44.010626, 1.0], [13.586484, 44.024105, 8.0], [33.247181, 44.025452, 3.0], [33.31065, 44.038208, 9.0], [37.370458, 44.041046, 1.0], [39.916839, 44.044637, 1.0], [33.997998, 44.066633, 1.0], [35.672932, 44.070145, 1.0], [34.010471, 44.148235, 7.0], [33.460819, 44.157433, 1.0], [13.967151, 44.165426, 1.0], [15.325443, 44.211895, 20.0], [34.057114, 44.218292, 1.0], [32.867008, 44.220455, 2.0], [33.509269, 44.235478, 1.0], [33.835629, 44.247406, 2.0], [33.540672, 44.251266, 12.0], [33.07835, 44.254719, 1.0], [13.272575, 44.271331, 1.0], [33.530734, 44.274292, 1.0], [35.244621, 44.275486, 2.0], [32.874886, 44.281016, 1.0], [32.777344, 44.289352, 12.0], [33.287345, 44.319487, 4.0], [35.303047, 44.329933, 1.0], [32.000596, 44.330818, 4.0], [32.887157, 44.341637, 5.0], [33.428314, 44.345453, 1.0], [33.057991, 44.354839, 7.0], [33.401699, 44.357658, 1.0], [32.982933, 44.361595, 2.0], [33.542351, 44.365334, 1.0], [33.117836, 44.369362, 1.0], [33.303566, 44.371773, 393.0], [35.45211, 44.375465, 28.0], [33.669689, 44.381317, 1.0], [35.435909, 44.382034, 1.0], [33.470512, 44.393494, 1.0], [35.46979, 44.396337, 2.0], [33.758388, 44.396591, 1.0], [32.032916, 44.399648, 4.0], [33.3, 44.4, 1.0], [16.199874, 44.408998, 1.0], [33.548306, 44.415733, 2.0], [32.469238, 44.416637, 27.0], [33.642502, 44.419117, 1.0], [15.316891, 44.474802, 1.0], [34.900948, 44.48682, 1.0], [33.271403, 44.493661, 1.0], [33.784248, 44.50972, 2.0], [34.565, 44.515556, 1.0], [33.848618, 44.522125, 14.0], [34.275066, 44.537865, 1.0], [37.408323, 44.540277, 1.0], [33.223114, 44.540776, 1.0], [33.573486, 44.547424, 1.0], [34.055354, 44.548457, 1.0], [33.617965, 44.572428, 1.0], [37.303442, 44.57696, 1.0], [33.100529, 44.584492, 1.0], [34.726269, 44.584908, 1.0], [33.555773, 44.599672, 1.0], [33.771944, 44.621667, 1.0], [33.74324, 44.623825, 27.0], [33.770897, 44.624748, 1.0], [34.881348, 44.62513, 8.0], [34.790665, 44.662151, 1.0], [13.733333, 44.666667, 1.0], [33.716995, 44.679516, 2.0], [33.375759, 44.702866, 4.0], [13.703256, 44.733454, 1.0], [13.702663, 44.73357, 1.0], [13.206995, 44.758297, 1.0], [32.925266, 44.770956, 1.0], [33.926586, 44.772064, 2.0], [16.165407, 44.776897, 1.0], [32.929936, 44.779564, 1.0], [15.8275, 44.793889, 1.0], [33.693409, 44.796085, 1.0], [34.04, 44.82, 1.0], [14.413989, 44.837418, 2.0], [12.743795, 44.843678, 1.0], [12.825647, 44.846416, 12.0], [14.515319, 44.852594, 1.0], [33.879803, 44.854084, 1.0], [13.063399, 44.880882, 2.0], [13.057842, 44.883283, 1.0], [12.760069, 44.890266, 1.0], [33.794651, 44.892578, 1.0], [32.325195, 44.918747, 2.0], [33.918611, 44.921111, 1.0], [33.953167, 44.921906, 12.0], [31.98958, 44.923775, 2.0], [34.430836, 44.93409, 1.0], [12.867085, 44.981911, 6.0], [34.125729, 45.003342, 2.0], [12.832581, 45.027071, 1.0], [34.100723, 45.05196, 1.0], [32.910708, 45.06299, 1.0], [33.695694, 45.067169, 1.0], [33.693947, 45.067425, 7.0], [32.901872, 45.077846, 1.0], [15.416983, 45.081879, 2.0], [33.699554, 45.083422, 1.0], [34.147392, 45.129864, 1.0], [34.240378, 45.136952, 1.0], [33.773349, 45.14945, 1.0], [33.773349, 45.149451, 1.0], [34.271034, 45.163567, 4.0], [13.834537, 45.244948, 1.0], [31.300213, 45.277092, 2.0], [33.8625, 45.287222, 1.0], [13.219398, 45.307838, 3.0], [15.45639, 45.324871, 3.0], [34.347343, 45.383274, 5.0], [13.129726, 45.385571, 3.0], [15.515888, 45.449807, 1.0], [13.962564, 45.467466, 1.0], [16.249994, 45.478097, 1.0], [33.744999, 45.545616, 2.0], [13.985013, 45.558479, 1.0], [13.357599, 45.69648, 3.0], [36.7652, 45.722417, 1.0], [15.566652, 45.787139, 1.0], [32.533287, 45.829453, 4.0], [31.135535, 45.861207, 1.0], [13.887403, 45.863647, 4.0], [15.113846, 45.881134, 1.0], [31.113592, 45.883691, 1.0], [15.189627, 46.001341, 1.0], [31.044371, 46.261452, 4.0], [24.64732, 46.714581, 4.0], [30.652376, 46.81062, 1.0], [31.848217, 47.145203, 2.0], [16.133333, 47.233333, 1.0], [14.326655, 47.447216, 2.0], [30.376924, 47.714458, 1.0], [30.510054, 47.778095, 11.0], [29.347702, 47.94912, 1.0], [15.141161, 48.357219, 1.0], [15.840202, 48.45438, 1.0], [15.921257, 48.636382, 1.0], [14.54397, 49.12458, 8.0], [14.533333, 49.133333, 1.0], [14.881758, 49.146743, 1.0], [26.554785, 50.004524, 1.0], [35.724533, 51.40519, 1.0], [29.591325, 52.58361, 1.0], [29.483576, 60.862701, 3.0], [26.079255, 61.753754, 1.0]],\n",
       "                {\n",
       "  &quot;minOpacity&quot;: 0.5,\n",
       "  &quot;maxZoom&quot;: 18,\n",
       "  &quot;radius&quot;: 25,\n",
       "  &quot;blur&quot;: 15,\n",
       "}\n",
       "            );\n",
       "        \n",
       "    \n",
       "            heat_map_2399dea8b834b57031f80bb3492fed02.addTo(map_30e7b6c86eab18700a360f3de9914f45);\n",
       "        \n",
       "    \n",
       "            tile_layer_181cccc1b0052b6d275acfdef2a3c282.addTo(map_30e7b6c86eab18700a360f3de9914f45);\n",
       "        \n",
       "    \n",
       "            heat_map_2399dea8b834b57031f80bb3492fed02.addTo(map_30e7b6c86eab18700a360f3de9914f45);\n",
       "        \n",
       "&lt;/script&gt;\n",
       "&lt;/html&gt;\" style=\"position:absolute;width:100%;height:100%;left:0;top:0;border:none !important;\" allowfullscreen webkitallowfullscreen mozallowfullscreen></iframe></div></div>"
      ],
      "text/plain": [
       "<folium.folium.Map at 0x26c789af390>"
      ]
     },
     "execution_count": 43,
     "metadata": {},
     "output_type": "execute_result"
    }
   ],
   "source": [
    "m1\n"
   ]
  },
  {
   "cell_type": "code",
   "execution_count": null,
   "id": "76c785eb-5631-4b34-bda2-cffda3e1e84c",
   "metadata": {},
   "outputs": [],
   "source": []
  },
  {
   "cell_type": "code",
   "execution_count": null,
   "id": "cb5a0b6e-4d6e-45b1-bd1f-169aafc4a1a4",
   "metadata": {},
   "outputs": [],
   "source": []
  },
  {
   "cell_type": "markdown",
   "id": "49b01a11-c5aa-4770-869c-2225045d0745",
   "metadata": {},
   "source": [
    "<h1>Insight 2: Terrorist Attacks in South Asia with 5+ Fatalities Since 2010</h1>"
   ]
  },
  {
   "cell_type": "code",
   "execution_count": 47,
   "id": "01035f65-97e3-4d43-ab8e-7117dbf0ed58",
   "metadata": {},
   "outputs": [],
   "source": [
    "filter1 = df[df['region_txt'] == 'South Asia']"
   ]
  },
  {
   "cell_type": "code",
   "execution_count": 48,
   "id": "c17117aa-9c2a-4a7f-8215-02b5e21d80e7",
   "metadata": {},
   "outputs": [],
   "source": [
    "filter2 = filter1[filter1['nkill'] >= 5]"
   ]
  },
  {
   "cell_type": "code",
   "execution_count": 49,
   "id": "0eca0c9f-5d35-4fc6-8b4c-299dff32a6d5",
   "metadata": {},
   "outputs": [],
   "source": [
    "filter3 = filter2[filter2['iyear'] >= 2010]\n"
   ]
  },
  {
   "cell_type": "code",
   "execution_count": 50,
   "id": "974bd0b2-8769-4e60-816b-ae303b241924",
   "metadata": {},
   "outputs": [],
   "source": [
    "SA_terror = filter3.groupby(['longitude', 'latitude']).size().reset_index(name='incident_count')"
   ]
  },
  {
   "cell_type": "code",
   "execution_count": 51,
   "id": "9ae8df76-1734-47d4-a903-f97569577ad1",
   "metadata": {},
   "outputs": [
    {
     "data": {
      "text/plain": [
       "<folium.plugins.heat_map.HeatMap at 0x26c789faea0>"
      ]
     },
     "execution_count": 51,
     "metadata": {},
     "output_type": "execute_result"
    }
   ],
   "source": [
    "m2 = folium.Map(location=[25, 80], zoom_start=5)\n",
    "HeatMap(SA_terror[['latitude', 'longitude', 'incident_count']].values.tolist()).add_to(m2)\n"
   ]
  },
  {
   "cell_type": "code",
   "execution_count": 52,
   "id": "40e1b00d-3115-4da7-a7a0-4f370e25fb24",
   "metadata": {},
   "outputs": [
    {
     "data": {
      "text/html": [
       "<div style=\"width:100%;\"><div style=\"position:relative;width:100%;height:0;padding-bottom:60%;\"><span style=\"color:#565656\">Make this Notebook Trusted to load map: File -> Trust Notebook</span><iframe srcdoc=\"&lt;!DOCTYPE html&gt;\n",
       "&lt;html&gt;\n",
       "&lt;head&gt;\n",
       "    \n",
       "    &lt;meta http-equiv=&quot;content-type&quot; content=&quot;text/html; charset=UTF-8&quot; /&gt;\n",
       "    \n",
       "        &lt;script&gt;\n",
       "            L_NO_TOUCH = false;\n",
       "            L_DISABLE_3D = false;\n",
       "        &lt;/script&gt;\n",
       "    \n",
       "    &lt;style&gt;html, body {width: 100%;height: 100%;margin: 0;padding: 0;}&lt;/style&gt;\n",
       "    &lt;style&gt;#map {position:absolute;top:0;bottom:0;right:0;left:0;}&lt;/style&gt;\n",
       "    &lt;script src=&quot;https://cdn.jsdelivr.net/npm/leaflet@1.9.3/dist/leaflet.js&quot;&gt;&lt;/script&gt;\n",
       "    &lt;script src=&quot;https://code.jquery.com/jquery-3.7.1.min.js&quot;&gt;&lt;/script&gt;\n",
       "    &lt;script src=&quot;https://cdn.jsdelivr.net/npm/bootstrap@5.2.2/dist/js/bootstrap.bundle.min.js&quot;&gt;&lt;/script&gt;\n",
       "    &lt;script src=&quot;https://cdnjs.cloudflare.com/ajax/libs/Leaflet.awesome-markers/2.0.2/leaflet.awesome-markers.js&quot;&gt;&lt;/script&gt;\n",
       "    &lt;link rel=&quot;stylesheet&quot; href=&quot;https://cdn.jsdelivr.net/npm/leaflet@1.9.3/dist/leaflet.css&quot;/&gt;\n",
       "    &lt;link rel=&quot;stylesheet&quot; href=&quot;https://cdn.jsdelivr.net/npm/bootstrap@5.2.2/dist/css/bootstrap.min.css&quot;/&gt;\n",
       "    &lt;link rel=&quot;stylesheet&quot; href=&quot;https://netdna.bootstrapcdn.com/bootstrap/3.0.0/css/bootstrap-glyphicons.css&quot;/&gt;\n",
       "    &lt;link rel=&quot;stylesheet&quot; href=&quot;https://cdn.jsdelivr.net/npm/@fortawesome/fontawesome-free@6.2.0/css/all.min.css&quot;/&gt;\n",
       "    &lt;link rel=&quot;stylesheet&quot; href=&quot;https://cdnjs.cloudflare.com/ajax/libs/Leaflet.awesome-markers/2.0.2/leaflet.awesome-markers.css&quot;/&gt;\n",
       "    &lt;link rel=&quot;stylesheet&quot; href=&quot;https://cdn.jsdelivr.net/gh/python-visualization/folium/folium/templates/leaflet.awesome.rotate.min.css&quot;/&gt;\n",
       "    \n",
       "            &lt;meta name=&quot;viewport&quot; content=&quot;width=device-width,\n",
       "                initial-scale=1.0, maximum-scale=1.0, user-scalable=no&quot; /&gt;\n",
       "            &lt;style&gt;\n",
       "                #map_9c5f33959f2579a378ad22930764c95b {\n",
       "                    position: relative;\n",
       "                    width: 100.0%;\n",
       "                    height: 100.0%;\n",
       "                    left: 0.0%;\n",
       "                    top: 0.0%;\n",
       "                }\n",
       "                .leaflet-container { font-size: 1rem; }\n",
       "            &lt;/style&gt;\n",
       "        \n",
       "    &lt;script src=&quot;https://cdn.jsdelivr.net/gh/python-visualization/folium@main/folium/templates/leaflet_heat.min.js&quot;&gt;&lt;/script&gt;\n",
       "&lt;/head&gt;\n",
       "&lt;body&gt;\n",
       "    \n",
       "    \n",
       "            &lt;div class=&quot;folium-map&quot; id=&quot;map_9c5f33959f2579a378ad22930764c95b&quot; &gt;&lt;/div&gt;\n",
       "        \n",
       "&lt;/body&gt;\n",
       "&lt;script&gt;\n",
       "    \n",
       "    \n",
       "            var map_9c5f33959f2579a378ad22930764c95b = L.map(\n",
       "                &quot;map_9c5f33959f2579a378ad22930764c95b&quot;,\n",
       "                {\n",
       "                    center: [25.0, 80.0],\n",
       "                    crs: L.CRS.EPSG3857,\n",
       "                    ...{\n",
       "  &quot;zoom&quot;: 5,\n",
       "  &quot;zoomControl&quot;: true,\n",
       "  &quot;preferCanvas&quot;: false,\n",
       "}\n",
       "\n",
       "                }\n",
       "            );\n",
       "\n",
       "            \n",
       "\n",
       "        \n",
       "    \n",
       "            var tile_layer_7e2d776b4454a008c8848d14e0d32956 = L.tileLayer(\n",
       "                &quot;https://tile.openstreetmap.org/{z}/{x}/{y}.png&quot;,\n",
       "                {\n",
       "  &quot;minZoom&quot;: 0,\n",
       "  &quot;maxZoom&quot;: 19,\n",
       "  &quot;maxNativeZoom&quot;: 19,\n",
       "  &quot;noWrap&quot;: false,\n",
       "  &quot;attribution&quot;: &quot;\\u0026copy; \\u003ca href=\\&quot;https://www.openstreetmap.org/copyright\\&quot;\\u003eOpenStreetMap\\u003c/a\\u003e contributors&quot;,\n",
       "  &quot;subdomains&quot;: &quot;abc&quot;,\n",
       "  &quot;detectRetina&quot;: false,\n",
       "  &quot;tms&quot;: false,\n",
       "  &quot;opacity&quot;: 1,\n",
       "}\n",
       "\n",
       "            );\n",
       "        \n",
       "    \n",
       "            tile_layer_7e2d776b4454a008c8848d14e0d32956.addTo(map_9c5f33959f2579a378ad22930764c95b);\n",
       "        \n",
       "    \n",
       "            var heat_map_9d58113cfb3772cdb273c6b5a6027a54 = L.heatLayer(\n",
       "                [[34.654254, 61.198803, 1.0], [34.654013, 61.200728, 1.0], [33.013023, 61.226543, 1.0], [35.42358, 61.346191, 1.0], [35.429562, 61.347279, 1.0], [32.091308, 61.358999, 1.0], [32.087172, 61.364736, 1.0], [33.959804, 61.38226, 1.0], [31.766, 61.3947, 1.0], [31.457222, 61.499167, 1.0], [34.341415, 61.501926, 1.0], [35.133421, 61.542324, 1.0], [28.947237, 61.584763, 2.0], [32.141028, 61.620248, 1.0], [31.725003, 61.63853, 1.0], [32.777415, 61.658019, 1.0], [34.176874, 61.700565, 1.0], [32.244333, 61.770772, 1.0], [25.334595, 61.771954, 1.0], [32.571571, 61.822412, 1.0], [30.959932, 61.86895, 6.0], [32.109447, 61.883274, 1.0], [32.163699, 61.884839, 1.0], [30.305433, 61.895848, 1.0], [32.677851, 61.981391, 4.0], [33.671608, 61.981391, 1.0], [25.515258, 62.002984, 1.0], [32.480517, 62.027764, 1.0], [32.480918, 62.028239, 2.0], [32.482177, 62.028444, 1.0], [32.48161, 62.028658, 1.0], [32.501463, 62.032097, 1.0], [32.481664, 62.034942, 1.0], [26.115631, 62.037643, 2.0], [32.478078, 62.038891, 1.0], [32.398889, 62.040278, 1.0], [32.486807, 62.04039, 1.0], [30.284167, 62.044722, 1.0], [32.486945, 62.058891, 1.0], [32.486945, 62.058907, 1.0], [32.489167, 62.065, 1.0], [25.123611, 62.066667, 1.0], [32.494399, 62.070787, 1.0], [32.600196, 62.083508, 1.0], [32.585249, 62.100899, 1.0], [32.374802, 62.115719, 1.0], [33.184973, 62.120962, 1.0], [32.376765, 62.121344, 1.0], [32.37001, 62.128456, 11.0], [33.306953, 62.136392, 1.0], [33.307049, 62.136421, 1.0], [32.446464, 62.145413, 1.0], [33.301788, 62.148585, 1.0], [33.30506, 62.148785, 1.0], [32.493611, 62.151667, 1.0], [33.304379, 62.154194, 6.0], [33.305969, 62.156044, 1.0], [33.306127, 62.156823, 2.0], [33.304934, 62.157008, 1.0], [33.317511, 62.157069, 1.0], [34.046771, 62.168857, 1.0], [33.318998, 62.184034, 1.0], [34.346722, 62.197315, 6.0], [32.475288, 62.202118, 1.0], [34.203728, 62.21962, 1.0], [34.19829, 62.221617, 1.0], [34.331825, 62.239446, 1.0], [34.301232, 62.246301, 1.0], [32.49228, 62.256068, 2.0], [32.491389, 62.256111, 1.0], [33.391487, 62.258404, 1.0], [32.495328, 62.262663, 2.0], [33.63615, 62.266738, 1.0], [25.673815, 62.269993, 1.0], [33.6435, 62.270635, 1.0], [33.703136, 62.278654, 1.0], [33.246906, 62.282958, 1.0], [32.534309, 62.315231, 1.0], [25.1458, 62.326557, 3.0], [32.530882, 62.327872, 1.0], [33.34964, 62.333717, 1.0], [33.272479, 62.369341, 1.0], [26.100746, 62.37068, 1.0], [33.890556, 62.406389, 1.0], [31.026149, 62.450415, 1.0], [32.628919, 62.47395, 1.0], [32.630123, 62.476646, 1.0], [32.624739, 62.479651, 1.0], [32.625149, 62.479768, 2.0], [32.629753, 62.490807, 3.0], [34.87048, 62.50668, 2.0], [32.62347, 62.510082, 1.0], [32.6124, 62.525177, 1.0], [32.627778, 62.531111, 1.0], [32.749992, 62.586651, 1.0], [34.484219, 62.58844, 1.0], [34.821521, 62.591266, 1.0], [34.49112, 62.6031, 1.0], [34.277822, 62.614227, 1.0], [33.621068, 62.666998, 1.0], [34.510441, 62.669419, 1.0], [34.73479, 62.672309, 1.0], [32.726661, 62.680578, 1.0], [31.508707, 62.700645, 1.0], [26.073483, 62.720516, 1.0], [26.367809, 62.720616, 1.0], [32.689845, 62.732388, 5.0], [32.690243, 62.733092, 1.0], [32.686649, 62.734285, 1.0], [32.685043, 62.735241, 1.0], [32.704873, 62.737203, 1.0], [32.704877, 62.737203, 1.0], [32.710249, 62.738387, 1.0], [32.787478, 62.750543, 1.0], [32.771667, 62.753056, 1.0], [32.579722, 62.754722, 1.0], [31.617649, 62.759013, 1.0], [33.265051, 62.813123, 1.0], [34.894706, 62.906837, 1.0], [31.67063, 62.913019, 1.0], [32.230825, 62.920592, 4.0], [32.550934, 62.922222, 1.0], [32.241389, 62.949167, 1.0], [25.995334, 62.960135, 1.0], [31.664231, 63.003069, 1.0], [31.661526, 63.005497, 1.0], [26.156056, 63.014758, 1.0], [31.662674, 63.014758, 2.0], [31.662675, 63.014758, 1.0], [25.974582, 63.027215, 1.0], [26.00228, 63.04399, 1.0], [25.999413, 63.047451, 6.0], [35.207515, 63.059132, 1.0], [35.203944, 63.060902, 1.0], [32.180385, 63.068408, 1.0], [34.571845, 63.087259, 1.0], [31.88031, 63.088261, 1.0], [33.696641, 63.092771, 1.0], [33.696961, 63.093746, 1.0], [34.272818, 63.108966, 1.0], [34.990047, 63.132542, 1.0], [35.810528, 63.134632, 5.0], [25.393661, 63.143063, 1.0], [26.310764, 63.153522, 1.0], [34.372474, 63.176251, 1.0], [34.369722, 63.176389, 1.0], [34.386229, 63.176853, 1.0], [32.468604, 63.188778, 1.0], [34.376953, 63.213588, 1.0], [35.037587, 63.29248, 1.0], [35.037651, 63.29266, 1.0], [31.997362, 63.29867, 1.0], [35.650269, 63.303184, 1.0], [35.641094, 63.304499, 1.0], [35.640884, 63.309948, 1.0], [35.58105, 63.334979, 1.0], [35.5938, 63.335419, 1.0], [35.613767, 63.338699, 2.0], [34.878511, 63.340243, 1.0], [35.499504, 63.372609, 1.0], [35.413677, 63.387938, 1.0], [35.411504, 63.390869, 1.0], [32.156589, 63.410698, 1.0], [32.164205, 63.42427, 1.0], [32.164104, 63.424597, 1.0], [32.164997, 63.425297, 1.0], [32.154106, 63.427795, 1.0], [34.808333, 63.43, 1.0], [34.828406, 63.435427, 1.0], [35.412983, 63.436078, 1.0], [34.870895, 63.457943, 2.0], [35.120148, 63.462097, 1.0], [34.857764, 63.485656, 1.0], [34.855085, 63.486204, 2.0], [35.46911, 63.520311, 2.0], [34.868622, 63.53093, 1.0], [30.574171, 63.610859, 1.0], [34.9618, 63.620739, 2.0], [35.785172, 63.689539, 1.0], [30.568813, 63.707684, 2.0], [35.795084, 63.719027, 1.0], [34.339661, 63.738457, 1.0], [34.340772, 63.7524, 1.0], [34.413996, 63.760582, 1.0], [32.505129, 63.766966, 1.0], [32.507639, 63.769538, 2.0], [33.179276, 63.769538, 1.0], [35.167134, 63.769538, 2.0], [30.550638, 63.78141, 1.0], [30.551261, 63.781529, 1.0], [30.552623, 63.78312, 1.0], [30.550198, 63.78606, 4.0], [35.167073, 63.786163, 1.0], [30.55363, 63.78721, 1.0], [35.725556, 63.789444, 2.0], [30.550518, 63.79076, 1.0], [35.726615, 63.791087, 1.0], [31.583493, 63.791712, 1.0], [34.332082, 63.825486, 1.0], [34.881999, 63.837662, 1.0], [35.701718, 63.843238, 1.0], [31.597309, 63.848269, 1.0], [32.252233, 63.855853, 1.0], [32.248981, 63.85825, 2.0], [35.644383, 63.901004, 1.0], [35.649546, 63.91133, 2.0], [31.363647, 63.958611, 6.0], [30.19659, 63.965456, 1.0], [31.326196, 63.971177, 1.0], [35.598099, 64.027336, 1.0], [30.622013, 64.031136, 1.0], [31.488758, 64.051058, 1.0], [35.66957, 64.05133, 1.0], [31.543431, 64.073424, 1.0], [31.467463, 64.092445, 13.0], [35.710833, 64.100278, 1.0], [31.483653, 64.108435, 1.0], [31.517771, 64.114227, 4.0], [31.553875, 64.117058, 1.0], [30.944939, 64.127378, 1.0], [26.730893, 64.145994, 1.0], [34.925508, 64.147824, 2.0], [31.866667, 64.194167, 1.0], [31.859575, 64.200998, 1.0], [31.132534, 64.212871, 1.0], [31.132511, 64.212898, 2.0], [31.637821, 64.237801, 1.0], [31.63957, 64.239832, 1.0], [31.64, 64.24, 2.0], [31.640079, 64.240209, 1.0], [31.641156, 64.241344, 1.0], [31.635141, 64.243013, 1.0], [31.64052, 64.243549, 1.0], [31.62186, 64.248754, 1.0], [31.630932, 64.258698, 2.0], [31.305401, 64.2593, 1.0], [31.306599, 64.260358, 1.0], [31.662216, 64.260976, 1.0], [31.664218, 64.26615, 1.0], [35.649155, 64.266974, 1.0], [31.657277, 64.268052, 1.0], [31.365759, 64.275538, 1.0], [35.783056, 64.280278, 1.0], [35.922251, 64.284556, 1.0], [31.476899, 64.290297, 1.0], [31.47629, 64.291011, 1.0], [31.470081, 64.291832, 1.0], [35.684521, 64.292107, 2.0], [35.687416, 64.293102, 1.0], [35.686381, 64.295082, 1.0], [35.69206, 64.295739, 3.0], [35.691831, 64.295753, 1.0], [31.383046, 64.299565, 1.0], [31.429741, 64.303745, 1.0], [35.650827, 64.306806, 1.0], [31.387285, 64.306967, 3.0], [31.680202, 64.31221, 4.0], [31.409076, 64.313776, 1.0], [31.389315, 64.315166, 1.0], [35.645441, 64.315351, 1.0], [31.488245, 64.321492, 1.0], [31.589827, 64.337952, 3.0], [31.60624, 64.339056, 1.0], [31.6672, 64.354401, 2.0], [33.421389, 64.366667, 1.0], [34.941801, 64.368526, 1.0], [31.604685, 64.368945, 1.0], [31.583061, 64.369167, 1.0], [31.60063, 64.369652, 25.0], [31.589683, 64.374557, 1.0], [31.658611, 64.404444, 1.0], [33.516667, 64.416667, 1.0], [33.516424, 64.417054, 1.0], [33.519878, 64.417089, 1.0], [33.519822, 64.417115, 1.0], [33.51, 64.42, 1.0], [35.563831, 64.429999, 1.0], [32.400023, 64.431892, 2.0], [35.564601, 64.431892, 4.0], [32.409386, 64.454885, 1.0], [35.562483, 64.465371, 1.0], [32.405702, 64.470381, 1.0], [32.397381, 64.47316, 5.0], [32.413913, 64.497514, 1.0], [31.78703, 64.520652, 1.0], [32.358206, 64.52096, 1.0], [35.8464, 64.5333, 2.0], [35.857513, 64.538846, 1.0], [31.81468, 64.548236, 1.0], [35.856754, 64.549742, 1.0], [31.816636, 64.549892, 1.0], [35.857001, 64.550338, 1.0], [31.817678, 64.55125, 1.0], [35.862438, 64.554127, 1.0], [31.817767, 64.557478, 1.0], [31.823601, 64.564087, 2.0], [31.848836, 64.564219, 1.0], [31.823423, 64.56727, 1.0], [31.829949, 64.568109, 1.0], [31.820833, 64.57, 1.0], [31.841182, 64.571564, 1.0], [31.834693, 64.573536, 1.0], [31.830864, 64.574874, 1.0], [31.829931, 64.575536, 1.0], [31.825871, 64.576431, 15.0], [31.821648, 64.580721, 1.0], [31.825517, 64.594865, 1.0], [30.74371, 64.603943, 1.0], [31.766705, 64.618607, 1.0], [31.76147, 64.621428, 3.0], [31.692616, 64.653328, 1.0], [31.845619, 64.655811, 1.0], [31.76287, 64.684086, 1.0], [35.828398, 64.689908, 1.0], [31.765215, 64.694007, 1.0], [31.783843, 64.698619, 1.0], [31.853561, 64.712357, 2.0], [29.35045, 64.713712, 1.0], [35.988462, 64.720039, 1.0], [31.89864, 64.723813, 1.0], [31.8699, 64.727036, 1.0], [35.915304, 64.750752, 1.0], [31.889889, 64.750946, 2.0], [31.888571, 64.754417, 1.0], [35.598206, 64.763659, 4.0], [32.345101, 64.772181, 1.0], [32.348492, 64.772251, 1.0], [35.378056, 64.774444, 1.0], [35.921051, 64.774544, 4.0], [32.357992, 64.777245, 1.0], [32.351956, 64.779266, 1.0], [32.363889, 64.781443, 6.0], [32.361961, 64.78363, 3.0], [32.354621, 64.786564, 1.0], [32.181339, 64.790253, 1.0], [32.351697, 64.790688, 1.0], [32.317485, 64.802542, 1.0], [32.126107, 64.802867, 1.0], [31.606645, 64.80625, 1.0], [32.271489, 64.806897, 1.0], [32.363723, 64.807892, 1.0], [35.320678, 64.810495, 1.0], [32.311872, 64.811084, 2.0], [35.321392, 64.811084, 4.0], [32.260556, 64.815, 1.0], [35.315467, 64.815508, 1.0], [35.919167, 64.815833, 1.0], [32.349803, 64.818878, 1.0], [33.473069, 64.821179, 1.0], [32.184361, 64.824944, 1.0], [32.073259, 64.833276, 3.0], [32.073314, 64.833867, 1.0], [32.073333, 64.833889, 12.0], [32.073596, 64.834287, 1.0], [31.709332, 64.836257, 1.0], [32.073475, 64.837459, 1.0], [32.071776, 64.83825, 1.0], [32.071931, 64.838837, 1.0], [36.1072, 64.840287, 1.0], [32.073451, 64.840689, 1.0], [32.062143, 64.840785, 1.0], [32.071705, 64.842112, 1.0], [32.062646, 64.847633, 1.0], [36.232738, 64.8493, 1.0], [36.268806, 64.850914, 1.0], [32.071201, 64.852349, 1.0], [32.066014, 64.852646, 2.0], [32.070697, 64.852824, 5.0], [33.689444, 64.853056, 1.0], [36.092986, 64.853774, 1.0], [32.069193, 64.8545, 1.0], [36.094574, 64.854927, 1.0], [36.054167, 64.856111, 1.0], [32.049116, 64.861511, 3.0], [36.210026, 64.862505, 1.0], [36.238394, 64.863408, 1.0], [36.23828, 64.864445, 1.0], [36.23828, 64.864446, 1.0], [36.098459, 64.864461, 1.0], [36.237101, 64.865068, 1.0], [36.195294, 64.866337, 1.0], [36.238528, 64.868455, 1.0], [36.183876, 64.875046, 1.0], [36.231013, 64.875269, 1.0], [31.557064, 64.87709, 4.0], [36.142778, 64.884444, 1.0], [36.456168, 64.888459, 1.0], [36.411967, 64.894832, 1.0], [36.076589, 64.905702, 1.0], [34.099578, 64.905955, 1.0], [36.079561, 64.905955, 3.0], [32.08908, 64.937793, 1.0], [32.39, 64.94, 1.0], [36.055654, 64.946467, 1.0], [32.045642, 64.963348, 1.0], [36.058611, 64.965833, 1.0], [32.114535, 64.979041, 1.0], [32.137698, 64.98576, 1.0], [32.30451, 64.987751, 1.0], [32.118566, 64.988002, 1.0], [32.205466, 64.989581, 1.0], [32.118746, 64.990555, 1.0], [35.12915, 64.991592, 1.0], [33.580833, 64.995278, 1.0], [31.499713, 65.000854, 2.0], [32.011862, 65.000854, 1.0], [33.534235, 65.000854, 2.0], [31.544123, 65.015161, 1.0], [33.379089, 65.016518, 1.0], [31.582486, 65.020162, 1.0], [30.666266, 65.021667, 1.0], [36.424432, 65.02325, 1.0], [31.529886, 65.027962, 1.0], [34.068467, 65.030521, 1.0], [31.621871, 65.037881, 1.0], [31.62071, 65.048938, 1.0], [32.270435, 65.049315, 1.0], [32.270119, 65.049683, 5.0], [31.619314, 65.050156, 4.0], [31.621808, 65.053717, 1.0], [36.204722, 65.053889, 1.0], [31.619403, 65.054082, 1.0], [31.623036, 65.054246, 6.0], [36.20501, 65.054289, 1.0], [32.283846, 65.056694, 1.0], [36.959546, 65.062989, 1.0], [32.284569, 65.064875, 1.0], [36.845324, 65.075012, 1.0], [35.123449, 65.086416, 1.0], [32.321972, 65.086714, 1.0], [28.490733, 65.095779, 2.0], [35.66309, 65.099075, 1.0], [32.021965, 65.112605, 1.0], [36.947944, 65.116341, 1.0], [36.954998, 65.125449, 1.0], [31.733333, 65.133333, 1.0], [32.033333, 65.133889, 1.0], [32.031266, 65.135087, 1.0], [32.031263, 65.135092, 1.0], [33.595006, 65.139579, 1.0], [32.076694, 65.173805, 1.0], [35.636695, 65.177283, 1.0], [30.120278, 65.180833, 1.0], [30.119495, 65.181677, 1.0], [35.945558, 65.192786, 1.0], [35.707499, 65.211001, 1.0], [35.84, 65.230833, 1.0], [34.521317, 65.249245, 2.0], [34.108772, 65.25737, 1.0], [35.622415, 65.263396, 1.0], [35.631667, 65.279722, 2.0], [35.632451, 65.283012, 1.0], [30.094363, 65.285708, 1.0], [34.51495, 65.285708, 2.0], [34.835556, 65.316944, 1.0], [35.708393, 65.328697, 1.0], [36.193333, 65.3525, 1.0], [36.180506, 65.356493, 1.0], [36.001456, 65.359381, 1.0], [36.000691, 65.362659, 1.0], [36.001646, 65.362895, 6.0], [34.737151, 65.363284, 1.0], [36.038333, 65.3675, 1.0], [35.975346, 65.378044, 1.0], [32.553906, 65.39346, 1.0], [35.984106, 65.395146, 1.0], [31.640278, 65.3975, 1.0], [31.641306, 65.401251, 1.0], [36.174543, 65.404689, 1.0], [31.653943, 65.405033, 1.0], [36.101471, 65.407837, 1.0], [35.978245, 65.40889, 1.0], [35.98249, 65.411404, 1.0], [33.004864, 65.415633, 1.0], [36.122909, 65.42349, 1.0], [36.194736, 65.424771, 1.0], [31.498056, 65.425556, 1.0], [36.123497, 65.427252, 1.0], [36.143795, 65.444508, 1.0], [32.61881, 65.449498, 1.0], [31.550039, 65.45263, 1.0], [32.624014, 65.456016, 1.0], [32.624915, 65.456075, 1.0], [32.623813, 65.456374, 1.0], [32.623739, 65.456432, 1.0], [36.2182, 65.459403, 1.0], [30.986801, 65.467416, 2.0], [32.640881, 65.468183, 1.0], [31.985, 65.472778, 1.0], [32.920833, 65.473889, 1.0], [26.098269, 65.475736, 1.0], [30.996068, 65.475736, 1.0], [32.963605, 65.475902, 1.0], [36.303825, 65.482079, 1.0], [31.544476, 65.484566, 3.0], [26.949394, 65.492241, 1.0], [31.665015, 65.495156, 1.0], [32.960365, 65.507413, 1.0], [32.960653, 65.507755, 2.0], [31.913971, 65.514977, 1.0], [31.848906, 65.518686, 1.0], [32.959945, 65.5246, 1.0], [32.919996, 65.526307, 1.0], [32.952896, 65.535995, 1.0], [32.316162, 65.537857, 1.0], [32.284444, 65.538611, 1.0], [32.975956, 65.548849, 1.0], [32.921787, 65.548995, 1.0], [31.601524, 65.551823, 1.0], [32.920155, 65.554932, 1.0], [31.980761, 65.564515, 1.0], [32.640755, 65.570785, 3.0], [31.86123, 65.573044, 1.0], [32.29, 65.577222, 1.0], [32.96266, 65.597273, 1.0], [32.955207, 65.603337, 2.0], [32.391435, 65.643512, 1.0], [31.651445, 65.64992, 1.0], [31.65, 65.65, 1.0], [31.650027, 65.650018, 3.0], [31.563177, 65.664703, 1.0], [36.896969, 65.665857, 2.0], [31.71028, 65.680099, 1.0], [31.610966, 65.685223, 1.0], [32.370278, 65.688141, 1.0], [31.587778, 65.690278, 1.0], [31.717654, 65.690575, 1.0], [31.619182, 65.700932, 1.0], [32.36822, 65.703389, 1.0], [36.150292, 65.716003, 1.0], [31.617127, 65.718274, 1.0], [32.966616, 65.730626, 2.0], [37.34634, 65.735464, 2.0], [31.631083, 65.742226, 27.0], [36.669028, 65.746989, 1.0], [31.220671, 65.749791, 1.0], [36.665, 65.752, 1.0], [31.784801, 65.755234, 1.0], [33.022885, 65.75738, 1.0], [34.557369, 65.766258, 1.0], [35.97287, 65.798294, 2.0], [32.307927, 65.80755, 1.0], [27.892862, 65.808464, 1.0], [31.585088, 65.822786, 1.0], [36.062742, 65.83499, 1.0], [31.497145, 65.838674, 1.0], [31.499139, 65.842823, 1.0], [31.500673, 65.844997, 1.0], [35.986887, 65.852964, 1.0], [32.63983, 65.85726, 1.0], [32.708333, 65.863611, 1.0], [36.386884, 65.865516, 1.0], [32.626456, 65.870275, 1.0], [32.626277, 65.871556, 1.0], [32.61797, 65.872375, 13.0], [32.628228, 65.87576, 1.0], [32.627893, 65.877692, 1.0], [32.627893, 65.878367, 1.0], [32.548759, 65.891905, 1.0], [32.668056, 65.892778, 1.0], [32.634048, 65.893608, 1.0], [32.673669, 65.896335, 1.0], [32.689957, 65.897739, 1.0], [32.6562, 65.903198, 2.0], [32.666404, 65.903629, 5.0], [32.664911, 65.905525, 1.0], [32.120754, 65.919966, 1.0], [32.125717, 65.925926, 1.0], [32.709278, 65.930066, 1.0], [36.212742, 65.931084, 1.0], [36.217655, 65.933037, 5.0], [32.003746, 65.947528, 1.0], [35.403071, 65.951199, 1.0], [32.591159, 65.956724, 1.0], [31.645204, 65.98404, 1.0], [32.192778, 65.988333, 1.0], [37.067481, 65.990979, 1.0], [32.547035, 65.999489, 1.0], [32.1, 66.0, 2.0], [32.666667, 66.0, 1.0], [31.939701, 66.014444, 1.0], [29.551957, 66.019326, 1.0], [32.091793, 66.02512, 1.0], [35.672283, 66.043989, 1.0], [30.243821, 66.046353, 1.0], [30.24366, 66.047174, 1.0], [30.239655, 66.048234, 1.0], [32.847222, 66.05, 2.0], [32.845727, 66.050109, 1.0], [36.120026, 66.055367, 1.0], [32.859996, 66.060508, 1.0], [32.88216, 66.127197, 1.0], [32.537882, 66.131622, 1.0], [32.07005, 66.132969, 1.0], [32.918212, 66.134406, 1.0], [32.072171, 66.134506, 1.0], [30.869041, 66.141526, 3.0], [32.074078, 66.141526, 6.0], [32.927129, 66.141526, 4.0], [32.925707, 66.142731, 1.0], [32.689786, 66.150592, 1.0], [37.004408, 66.163062, 1.0], [30.956481, 66.168925, 1.0], [30.987947, 66.170385, 1.0], [36.911907, 66.185784, 1.0], [36.911389, 66.185833, 1.0], [36.899559, 66.186363, 1.0], [36.917126, 66.196493, 1.0], [33.428297, 66.214583, 3.0], [33.395618, 66.223015, 1.0], [32.935099, 66.232536, 1.0], [36.926913, 66.250196, 1.0], [31.458333, 66.301389, 1.0], [36.916325, 66.305929, 1.0], [32.373546, 66.314673, 1.0], [36.705628, 66.328073, 1.0], [32.378056, 66.335833, 1.0], [32.380833, 66.336389, 1.0], [36.814449, 66.341461, 1.0], [28.035556, 66.351111, 1.0], [35.888797, 66.352928, 1.0], [27.342552, 66.36792, 1.0], [36.781473, 66.373526, 1.0], [35.906302, 66.388035, 1.0], [31.00403, 66.391587, 1.0], [31.008066, 66.398042, 1.0], [31.008056, 66.398056, 1.0], [31.002735, 66.405617, 5.0], [30.996752, 66.415434, 1.0], [35.953406, 66.424068, 1.0], [30.974178, 66.437027, 2.0], [36.743125, 66.451436, 1.0], [35.919426, 66.459389, 1.0], [36.865762, 66.466237, 1.0], [36.929708, 66.478798, 1.0], [32.179884, 66.487863, 1.0], [32.179711, 66.491115, 1.0], [36.80907, 66.49606, 1.0], [31.577061, 66.517975, 2.0], [31.461224, 66.52239, 5.0], [32.781788, 66.546089, 1.0], [36.788889, 66.580278, 1.0], [29.037681, 66.581497, 1.0], [31.240393, 66.607925, 1.0], [27.809921, 66.620956, 1.0], [36.843338, 66.62202, 1.0], [36.556215, 66.629918, 1.0], [35.7642, 66.650932, 1.0], [36.540106, 66.656716, 1.0], [36.802744, 66.659887, 1.0], [32.342871, 66.685427, 1.0], [32.929848, 66.689096, 1.0], [32.930002, 66.689122, 2.0], [32.932938, 66.689238, 1.0], [33.0362, 66.713864, 1.0], [32.917796, 66.719635, 1.0], [36.755626, 66.722078, 1.0], [36.6975, 66.722222, 1.0], [32.525912, 66.748406, 1.0], [31.584073, 66.752498, 1.0], [29.90265, 66.753111, 1.0], [36.999313, 66.757426, 1.0], [32.633333, 66.766667, 1.0], [35.892595, 66.779397, 1.0], [36.678056, 66.803056, 1.0], [32.401287, 66.813451, 2.0], [36.989115, 66.815963, 1.0], [36.99033, 66.820961, 1.0], [36.98832, 66.824211, 1.0], [32.918575, 66.833758, 1.0], [32.39689, 66.838167, 1.0], [29.798417, 66.84691, 1.0], [32.475656, 66.847335, 1.0], [29.803965, 66.85099, 2.0], [25.044537, 66.874672, 1.0], [36.75506, 66.897537, 1.0], [32.100204, 66.901016, 5.0], [32.113148, 66.902552, 1.0], [32.106111, 66.906944, 1.0], [32.107743, 66.909754, 1.0], [30.048567, 66.924771, 1.0], [31.594155, 66.942812, 1.0], [30.354935, 66.944313, 1.0], [30.098261, 66.944481, 2.0], [32.090779, 66.975609, 1.0], [30.084515, 66.983437, 1.0], [32.551368, 66.990682, 1.0], [30.200819, 66.994354, 56.0], [30.183284, 66.998479, 1.0], [32.185841, 67.017548, 1.0], [30.209304, 67.018137, 1.0], [30.209078, 67.018388, 1.0], [25.776572, 67.019026, 1.0], [32.559055, 67.037879, 1.0], [31.578569, 67.039992, 1.0], [31.573838, 67.040911, 2.0], [32.550057, 67.041455, 1.0], [31.57276, 67.042618, 5.0], [30.689888, 67.091918, 1.0], [31.083333, 67.105556, 1.0], [36.70993, 67.1157, 5.0], [32.015556, 67.116667, 1.0], [24.891115, 67.143311, 40.0], [31.647876, 67.177831, 1.0], [32.192347, 67.186738, 1.0], [29.408737, 67.189449, 2.0], [32.191878, 67.189449, 3.0], [30.163218, 67.215942, 1.0], [33.529712, 67.216262, 1.0], [32.183083, 67.217704, 1.0], [33.529032, 67.218291, 2.0], [31.380893, 67.237117, 1.0], [31.383408, 67.239461, 1.0], [32.354408, 67.257683, 1.0], [35.96069, 67.272572, 1.0], [32.043132, 67.278618, 1.0], [30.133091, 67.284681, 1.0], [32.344866, 67.295268, 1.0], [29.855375, 67.339928, 6.0], [35.739928, 67.355242, 1.0], [32.301859, 67.368496, 1.0], [32.349622, 67.375147, 1.0], [29.808836, 67.398632, 1.0], [32.518362, 67.4145, 1.0], [32.49948, 67.414621, 1.0], [32.518653, 67.414785, 1.0], [32.504298, 67.415774, 1.0], [32.499057, 67.421144, 1.0], [32.500159, 67.423944, 1.0], [32.50368, 67.475491, 1.0], [32.489819, 67.476772, 1.0], [28.571019, 67.497086, 1.0], [31.515347, 67.521606, 1.0], [32.183145, 67.542867, 1.0], [32.234503, 67.543821, 1.0], [32.222202, 67.56371, 1.0], [32.216944, 67.567778, 1.0], [32.779785, 67.619591, 1.0], [32.727268, 67.635903, 1.0], [32.728135, 67.636729, 1.0], [31.908611, 67.646111, 1.0], [35.329753, 67.679718, 1.0], [32.708843, 67.683923, 1.0], [32.748993, 67.712624, 1.0], [32.705267, 67.712631, 1.0], [30.195354, 67.713219, 2.0], [32.676373, 67.713497, 1.0], [32.678372, 67.713573, 1.0], [32.675731, 67.71474, 1.0], [32.67596, 67.718822, 1.0], [32.76162, 67.722565, 1.0], [29.211389, 67.7325, 1.0], [32.666111, 67.755, 1.0], [33.498229, 67.761598, 4.0], [32.936397, 67.762237, 1.0], [32.806121, 67.773521, 1.0], [33.104444, 67.781111, 1.0], [35.641951, 67.792109, 1.0], [31.88482, 67.856979, 2.0], [26.421478, 67.860947, 1.0], [29.548279, 67.879189, 5.0], [28.95, 67.883333, 1.0], [32.899191, 67.901573, 2.0], [32.908415, 67.907639, 1.0], [35.360637, 67.951552, 1.0], [32.983558, 67.965358, 1.0], [32.9833, 67.9666, 1.0], [32.983333, 67.966667, 1.0], [32.979555, 67.978883, 1.0], [33.231963, 68.010855, 1.0], [36.266933, 68.019691, 2.0], [33.196123, 68.031068, 1.0], [34.904722, 68.031111, 1.0], [33.215335, 68.038597, 1.0], [28.59189, 68.039822, 1.0], [33.101242, 68.050506, 1.0], [32.914526, 68.06181, 1.0], [33.067612, 68.066948, 1.0], [32.916134, 68.07277, 1.0], [33.199051, 68.081661, 1.0], [34.916253, 68.09147, 1.0], [26.307306, 68.098451, 1.0], [28.670559, 68.098795, 1.0], [33.19613, 68.101128, 1.0], [33.194579, 68.101666, 1.0], [33.193142, 68.101852, 3.0], [33.193665, 68.102002, 3.0], [33.193628, 68.102046, 1.0], [33.191738, 68.102051, 3.0], [33.194977, 68.105303, 1.0], [33.150861, 68.133186, 1.0], [28.458421, 68.133223, 1.0], [33.34526, 68.163135, 1.0], [32.90586, 68.163364, 1.0], [33.535193, 68.170593, 1.0], [32.99165, 68.180703, 1.0], [28.340071, 68.188997, 2.0], [32.850819, 68.190837, 1.0], [33.408889, 68.211944, 1.0], [35.392248, 68.222884, 1.0], [32.683333, 68.233333, 1.0], [32.686425, 68.238278, 1.0], [32.684715, 68.238403, 2.0], [34.351349, 68.238534, 3.0], [34.347122, 68.241837, 1.0], [33.569309, 68.278697, 1.0], [32.302876, 68.28478, 1.0], [34.233231, 68.286231, 1.0], [33.42, 68.294, 2.0], [32.221243, 68.295515, 1.0], [33.084494, 68.311832, 1.0], [33.101176, 68.314099, 1.0], [32.689514, 68.327637, 2.0], [37.081327, 68.329101, 1.0], [28.86762, 68.33299, 1.0], [28.869226, 68.334419, 1.0], [33.11832, 68.336285, 1.0], [33.400384, 68.337858, 1.0], [33.665278, 68.340556, 1.0], [28.380661, 68.343147, 1.0], [32.197468, 68.347344, 1.0], [33.088066, 68.352762, 1.0], [33.80229, 68.35351, 1.0], [33.399635, 68.355148, 2.0], [33.217505, 68.357098, 1.0], [33.125069, 68.358094, 1.0], [32.192937, 68.361139, 4.0], [36.910905, 68.365954, 1.0], [32.109147, 68.381306, 1.0], [32.109295, 68.381624, 1.0], [33.34795, 68.384354, 1.0], [33.351088, 68.385044, 1.0], [33.555019, 68.385597, 2.0], [33.121559, 68.38761, 1.0], [33.390525, 68.3896, 1.0], [32.729749, 68.390119, 1.0], [31.662077, 68.40317, 1.0], [33.301018, 68.405014, 1.0], [33.542622, 68.415329, 17.0], [33.326099, 68.416649, 2.0], [37.0, 68.416667, 2.0], [33.545059, 68.417397, 2.0], [33.622478, 68.421639, 1.0], [37.001782, 68.426356, 1.0], [36.888175, 68.429321, 2.0], [33.367222, 68.431944, 1.0], [28.282935, 68.436488, 1.0], [33.326199, 68.437854, 1.0], [34.051667, 68.440556, 1.0], [33.320918, 68.445154, 1.0], [33.471699, 68.446018, 1.0], [33.305833, 68.446944, 2.0], [33.313068, 68.449698, 1.0], [33.316667, 68.45, 2.0], [33.316586, 68.450166, 1.0], [33.319571, 68.451297, 1.0], [33.337301, 68.454393, 1.0], [33.282788, 68.456807, 1.0], [33.373471, 68.457719, 1.0], [33.581484, 68.45795, 1.0], [33.579335, 68.459132, 1.0], [33.673249, 68.477018, 1.0], [32.668056, 68.48, 1.0], [35.900577, 68.483215, 1.0], [33.475039, 68.484315, 1.0], [33.370621, 68.495209, 1.0], [33.462054, 68.496247, 1.0], [32.824788, 68.504455, 1.0], [34.091829, 68.506744, 1.0], [33.464194, 68.512227, 1.0], [32.928757, 68.519955, 1.0], [32.264539, 68.524715, 1.0], [34.12092, 68.531117, 1.0], [32.263911, 68.531857, 1.0], [34.109772, 68.537709, 1.0], [35.923673, 68.538973, 1.0], [33.546065, 68.539883, 1.0], [36.91693, 68.54581, 1.0], [35.917147, 68.54744, 1.0], [32.082291, 68.560257, 1.0], [33.263079, 68.572411, 2.0], [33.26308, 68.572411, 2.0], [34.031203, 68.572411, 1.0], [34.08968, 68.57773, 1.0], [33.421827, 68.578186, 1.0], [36.060909, 68.593811, 1.0], [33.503654, 68.598741, 1.0], [30.370974, 68.599319, 1.0], [35.920147, 68.605631, 1.0], [33.844273, 68.616341, 1.0], [28.629159, 68.616381, 1.0], [33.875852, 68.616709, 1.0], [36.902748, 68.625397, 1.0], [35.925422, 68.631794, 1.0], [34.46925, 68.636274, 1.0], [27.956944, 68.637778, 1.0], [36.298439, 68.638029, 1.0], [36.036356, 68.642309, 1.0], [36.035538, 68.643112, 2.0], [32.921305, 68.647104, 1.0], [32.937172, 68.647247, 3.0], [32.936526, 68.647303, 1.0], [33.4917, 68.64863, 1.0], [33.473579, 68.650841, 2.0], [33.88629, 68.654051, 1.0], [33.472931, 68.65776, 1.0], [35.615278, 68.659444, 1.0], [33.656812, 68.660557, 1.0], [35.732648, 68.663983, 1.0], [34.479385, 68.664539, 6.0], [36.292834, 68.666506, 1.0], [34.472681, 68.667803, 9.0], [33.695278, 68.67, 1.0], [33.906194, 68.670501, 1.0], [33.677655, 68.670588, 1.0], [33.055892, 68.671704, 1.0], [33.90493, 68.672478, 2.0], [33.923306, 68.673447, 1.0], [36.820141, 68.682091, 2.0], [35.618427, 68.682707, 1.0], [36.161732, 68.686775, 2.0], [33.683499, 68.690284, 2.0], [32.568681, 68.694701, 1.0], [33.568068, 68.699679, 1.0], [35.95, 68.7, 1.0], [33.5687, 68.701766, 1.0], [36.855, 68.705833, 1.0], [35.943802, 68.709536, 1.0], [35.947552, 68.710327, 2.0], [34.007712, 68.714007, 3.0], [34.463333, 68.716944, 1.0], [34.00843, 68.717888, 1.0], [36.265987, 68.732997, 1.0], [33.188524, 68.736951, 1.0], [27.527306, 68.743559, 1.0], [34.996412, 68.744765, 1.0], [36.180147, 68.745389, 1.0], [36.176504, 68.749373, 1.0], [36.177311, 68.752136, 2.0], [33.1782, 68.752533, 1.0], [33.467535, 68.761261, 1.0], [33.463336, 68.761631, 1.0], [33.125658, 68.763192, 1.0], [33.468564, 68.763192, 1.0], [33.468565, 68.763192, 1.0], [33.895519, 68.763192, 2.0], [36.33092, 68.763667, 1.0], [36.330536, 68.764618, 1.0], [33.467369, 68.765569, 1.0], [33.469359, 68.767477, 1.0], [28.248983, 68.777084, 1.0], [36.247833, 68.778137, 1.0], [34.446111, 68.781667, 1.0], [34.14575, 68.78275, 1.0], [34.488023, 68.793766, 2.0], [36.697777, 68.79535, 1.0], [36.690258, 68.796774, 1.0], [34.366667, 68.8, 1.0], [36.694225, 68.801575, 1.0], [36.694511, 68.801575, 2.0], [36.225304, 68.802216, 1.0], [36.274798, 68.802483, 1.0], [32.104444, 68.804167, 1.0], [32.96851, 68.809753, 1.0], [36.630605, 68.810885, 1.0], [36.694138, 68.815025, 1.0], [36.701483, 68.815548, 1.0], [36.310452, 68.833878, 2.0], [34.367244, 68.840275, 1.0], [34.361059, 68.840693, 1.0], [36.703552, 68.847084, 1.0], [27.705415, 68.847513, 1.0], [37.110345, 68.849843, 1.0], [34.396797, 68.863945, 1.0], [34.988613, 68.864571, 1.0], [35.006076, 68.864629, 1.0], [36.733333, 68.866667, 1.0], [36.723554, 68.86785, 1.0], [32.910951, 68.868989, 1.0], [32.91123, 68.869175, 1.0], [36.512218, 68.875984, 2.0], [36.705776, 68.87706, 19.0], [32.910299, 68.882423, 1.0], [37.157843, 68.882423, 1.0], [33.453551, 68.887283, 1.0], [36.611544, 68.896453, 1.0], [36.536642, 68.898608, 1.0], [37.187111, 68.899246, 1.0], [37.177929, 68.899548, 1.0], [36.53678, 68.899957, 1.0], [36.512165, 68.901344, 1.0], [36.510918, 68.903288, 1.0], [37.188163, 68.905252, 1.0], [33.478245, 68.906258, 1.0], [36.704285, 68.907608, 1.0], [37.181767, 68.911301, 3.0], [33.308735, 68.912052, 1.0], [33.692575, 68.913277, 1.0], [37.181893, 68.913817, 1.0], [33.939649, 68.915235, 1.0], [37.183545, 68.915479, 1.0], [37.180194, 68.915823, 2.0], [35.766255, 68.919665, 1.0], [33.962224, 68.924973, 1.0], [33.93706, 68.925811, 2.0], [33.796525, 68.934049, 1.0], [33.796944, 68.934585, 1.0], [33.796963, 68.934585, 1.0], [33.797814, 68.935143, 1.0], [33.797419, 68.937473, 1.0], [32.391988, 68.942522, 1.0], [33.969167, 68.944722, 2.0], [32.389444, 68.945278, 1.0], [33.970342, 68.948637, 1.0], [33.970982, 68.94899, 2.0], [33.8148, 68.949419, 1.0], [33.967929, 68.949888, 1.0], [33.968747, 68.950205, 1.0], [33.969093, 68.950979, 2.0], [34.270024, 68.953959, 1.0], [34.591166, 68.956566, 1.0], [34.591139, 68.957643, 1.0], [36.666267, 68.986832, 1.0], [36.71872, 68.990458, 1.0], [34.047015, 68.991343, 1.0], [37.215806, 68.996048, 1.0], [33.971778, 68.996436, 1.0], [34.021194, 68.999535, 6.0], [32.434691, 69.00058, 1.0], [32.43483, 69.001649, 2.0], [35.037869, 69.004093, 1.0], [35.03924, 69.006331, 1.0], [34.013732, 69.010467, 1.0], [33.999938, 69.019532, 1.0], [34.016135, 69.024763, 1.0], [33.976259, 69.025561, 1.0], [28.620151, 69.027478, 1.0], [34.002321, 69.029744, 1.0], [34.010835, 69.031021, 1.0], [33.435888, 69.031454, 3.0], [33.436221, 69.031746, 1.0], [33.060556, 69.034167, 1.0], [33.448207, 69.041974, 1.0], [32.752489, 69.043922, 1.0], [37.116005, 69.044067, 1.0], [33.690814, 69.049616, 1.0], [34.55, 69.05, 1.0], [28.949467, 69.059311, 1.0], [36.674561, 69.062619, 1.0], [32.769667, 69.073398, 1.0], [36.71402, 69.091694, 1.0], [32.733056, 69.093611, 1.0], [33.499989, 69.098707, 1.0], [34.217806, 69.109316, 1.0], [36.680576, 69.111801, 1.0], [36.681449, 69.114905, 3.0], [36.987469, 69.115261, 1.0], [36.681551, 69.12168, 1.0], [32.861513, 69.126826, 1.0], [37.024589, 69.131362, 1.0], [37.1175, 69.136389, 1.0], [34.120278, 69.139167, 1.0], [34.127306, 69.1395, 1.0], [33.504722, 69.14, 1.0], [36.210295, 69.141061, 1.0], [36.225089, 69.14371, 1.0], [34.819393, 69.144205, 1.0], [34.516895, 69.147011, 96.0], [29.033333, 69.15, 1.0], [36.216667, 69.15, 1.0], [36.212542, 69.15249, 1.0], [36.966052, 69.154126, 1.0], [36.998709, 69.156859, 2.0], [29.034412, 69.158661, 2.0], [29.035158, 69.159609, 1.0], [36.995654, 69.159998, 1.0], [36.956597, 69.162425, 1.0], [37.038263, 69.16325, 1.0], [37.106111, 69.165278, 1.0], [36.969587, 69.166181, 1.0], [36.952174, 69.1662, 1.0], [36.211122, 69.1684, 1.0], [35.018158, 69.168991, 2.0], [28.919873, 69.170866, 1.0], [34.539369, 69.171181, 1.0], [36.956162, 69.171327, 1.0], [37.02524, 69.17459, 1.0], [37.030881, 69.175122, 1.0], [32.941339, 69.17551, 1.0], [32.946178, 69.176298, 1.0], [37.037092, 69.176681, 1.0], [37.035818, 69.179698, 2.0], [34.531618, 69.180059, 1.0], [34.066312, 69.183197, 1.0], [28.245169, 69.183701, 1.0], [36.219269, 69.186501, 1.0], [36.923421, 69.187589, 1.0], [28.633307, 69.190369, 1.0], [34.014552, 69.192392, 1.0], [32.487222, 69.198333, 1.0], [34.066312, 69.202423, 1.0], [37.032781, 69.202459, 1.0], [32.96341, 69.204521, 1.0], [32.965658, 69.204782, 1.0], [34.845705, 69.206797, 1.0], [37.083333, 69.216667, 1.0], [33.598633, 69.228996, 6.0], [34.994167, 69.230278, 1.0], [34.150753, 69.240073, 1.0], [37.027822, 69.240214, 1.0], [34.963067, 69.250085, 1.0], [34.94025, 69.254974, 2.0], [36.83, 69.256389, 1.0], [34.014117, 69.257784, 1.0], [34.940983, 69.257973, 1.0], [32.912468, 69.260803, 2.0], [35.046667, 69.261944, 1.0], [34.549298, 69.262899, 1.0], [34.944102, 69.273052, 1.0], [34.944168, 69.273331, 1.0], [35.180262, 69.279976, 1.0], [32.715785, 69.281793, 4.0], [35.812976, 69.287662, 1.0], [35.804295, 69.287754, 1.0], [32.515774, 69.289474, 1.0], [32.743538, 69.296856, 1.0], [33.158056, 69.312778, 2.0], [36.386339, 69.325231, 1.0], [33.155731, 69.3268, 1.0], [34.513279, 69.32814, 1.0], [32.707578, 69.33187, 1.0], [36.187977, 69.335432, 1.0], [36.187978, 69.335432, 1.0], [36.421797, 69.35713, 1.0], [36.371098, 69.358814, 1.0], [30.478008, 69.362853, 1.0], [36.417835, 69.365716, 1.0], [33.766792, 69.372666, 1.0], [32.922311, 69.373424, 1.0], [36.985233, 69.379383, 1.0], [33.698372, 69.382207, 1.0], [33.706199, 69.383108, 1.0], [37.014387, 69.395904, 1.0], [32.972924, 69.400105, 1.0], [32.986456, 69.401119, 1.0], [37.355321, 69.42026, 1.0], [37.065833, 69.421111, 1.0], [34.263007, 69.422838, 1.0], [37.067616, 69.425956, 1.0], [33.36598, 69.438231, 1.0], [30.171623, 69.447235, 1.0], [30.166667, 69.45, 1.0], [33.67825, 69.45112, 1.0], [37.38272, 69.451224, 1.0], [37.382557, 69.451639, 1.0], [32.592698, 69.465639, 1.0], [35.617699, 69.468254, 1.0], [37.359437, 69.494119, 2.0], [32.61651, 69.507725, 1.0], [34.513515, 69.508187, 1.0], [32.613707, 69.508426, 1.0], [32.615256, 69.50855, 1.0], [36.716667, 69.516667, 1.0], [37.459965, 69.523744, 1.0], [37.459966, 69.526124, 1.0], [34.520966, 69.536476, 1.0], [36.733459, 69.537758, 3.0], [35.31711, 69.549264, 1.0], [37.364167, 69.558889, 1.0], [34.96728, 69.569336, 1.0], [32.306099, 69.579956, 3.0], [33.163399, 69.597624, 1.0], [33.279501, 69.598588, 1.0], [34.108889, 69.624444, 1.0], [37.441729, 69.625185, 1.0], [35.035732, 69.627374, 1.0], [34.182398, 69.630457, 1.0], [34.133355, 69.63081, 1.0], [34.164626, 69.632485, 1.0], [34.171322, 69.635658, 1.0], [33.8475, 69.638612, 1.0], [33.819737, 69.642608, 1.0], [33.596167, 69.643977, 1.0], [34.173333, 69.645556, 2.0], [34.853301, 69.648161, 1.0], [34.855556, 69.649444, 5.0], [33.833333, 69.65, 1.0], [34.854492, 69.650247, 1.0], [34.126691, 69.654379, 1.0], [34.843041, 69.656859, 1.0], [34.796309, 69.6569, 1.0], [34.86375, 69.659143, 1.0], [32.40894, 69.669405, 1.0], [37.453683, 69.672894, 1.0], [33.97652, 69.706658, 1.0], [34.88338, 69.71741, 2.0], [32.64215, 69.71778, 1.0], [34.57152, 69.720377, 1.0], [33.549164, 69.727051, 1.0], [33.531667, 69.736033, 1.0], [32.908626, 69.748061, 1.0], [32.908776, 69.748795, 1.0], [32.901089, 69.749405, 2.0], [34.798017, 69.750609, 1.0], [34.289248, 69.770189, 1.0], [33.67231, 69.785437, 1.0], [33.668241, 69.787322, 1.0], [33.665374, 69.788415, 1.0], [32.519848, 69.789696, 1.0], [34.292883, 69.809734, 1.0], [32.964722, 69.813889, 1.0], [33.802314, 69.830516, 1.0], [33.637764, 69.830807, 1.0], [33.801764, 69.831118, 1.0], [32.56699, 69.831711, 3.0], [33.802183, 69.832937, 1.0], [33.802172, 69.833113, 1.0], [32.320237, 69.859741, 1.0], [32.667476, 69.859741, 2.0], [33.358508, 69.859741, 2.0], [37.425326, 69.859883, 1.0], [32.747876, 69.861777, 1.0], [34.284344, 69.877883, 1.0], [33.566561, 69.878354, 2.0], [34.283562, 69.883565, 1.0], [33.773048, 69.891967, 1.0], [34.613056, 69.898333, 2.0], [33.791877, 69.911399, 2.0], [33.806906, 69.911808, 1.0], [33.333056, 69.916944, 1.0], [32.96083, 69.91806, 1.0], [33.808779, 69.9193, 1.0], [33.816537, 69.925475, 1.0], [33.335258, 69.928467, 9.0], [32.960327, 69.932141, 1.0], [33.821951, 69.941614, 1.0], [32.442901, 69.95593, 1.0], [33.366843, 69.966903, 1.0], [32.812886, 69.969686, 1.0], [33.45715, 69.989929, 1.0], [36.58247, 69.997017, 1.0], [34.264456, 69.997179, 1.0], [34.24489, 70.00159, 1.0], [32.703582, 70.024262, 1.0], [32.51899, 70.025246, 1.0], [34.220096, 70.026176, 1.0], [33.133961, 70.034981, 2.0], [33.510297, 70.051889, 1.0], [32.5886, 70.062521, 1.0], [33.646745, 70.063534, 1.0], [33.449841, 70.064041, 2.0], [33.006516, 70.068253, 8.0], [34.273106, 70.074127, 2.0], [33.356667, 70.078333, 1.0], [33.45, 70.083333, 1.0], [33.646074, 70.087403, 1.0], [32.36956, 70.088177, 1.0], [33.465503, 70.089411, 1.0], [33.467621, 70.090885, 1.0], [33.465758, 70.091132, 1.0], [36.818111, 70.097702, 1.0], [34.809055, 70.097949, 1.0], [34.978559, 70.097949, 1.0], [33.899209, 70.100629, 1.0], [34.778099, 70.107482, 1.0], [33.897995, 70.107536, 10.0], [33.443889, 70.113889, 1.0], [33.639042, 70.125608, 1.0], [32.930482, 70.134407, 1.0], [32.974638, 70.14558, 2.0], [34.689769, 70.14558, 3.0], [32.974638, 70.145581, 1.0], [34.689769, 70.145581, 1.0], [34.226944, 70.146667, 1.0], [34.196436, 70.158061, 1.0], [34.195889, 70.158546, 1.0], [32.111514, 70.158579, 1.0], [34.199315, 70.16133, 1.0], [34.215267, 70.166862, 1.0], [33.392683, 70.170346, 1.0], [33.818581, 70.173424, 2.0], [34.238355, 70.183304, 1.0], [33.886093, 70.190277, 1.0], [34.229408, 70.1906, 1.0], [37.4138, 70.192924, 1.0], [34.229213, 70.193208, 2.0], [34.229906, 70.19416, 1.0], [34.674866, 70.21344, 10.0], [32.972402, 70.214145, 1.0], [34.177834, 70.215474, 1.0], [33.785873, 70.221453, 1.0], [34.704444, 70.239444, 1.0], [34.711389, 70.251944, 1.0], [34.121511, 70.262582, 1.0], [32.975433, 70.273735, 6.0], [34.204972, 70.277584, 1.0], [34.2, 70.278056, 1.0], [32.947655, 70.280266, 1.0], [34.2, 70.283333, 2.0], [34.073703, 70.284708, 1.0], [34.011595, 70.286571, 1.0], [36.465863, 70.291704, 1.0], [33.511486, 70.296379, 1.0], [33.380814, 70.323762, 1.0], [36.472222, 70.331667, 3.0], [33.712904, 70.332588, 1.0], [33.695975, 70.336069, 6.0], [33.700174, 70.336254, 1.0], [34.414277, 70.34224, 1.0], [34.816667, 70.35, 1.0], [33.532871, 70.351837, 1.0], [33.69013, 70.356187, 4.0], [34.824599, 70.359182, 1.0], [34.276531, 70.359371, 1.0], [34.406427, 70.359876, 1.0], [34.264167, 70.361944, 1.0], [33.194444, 70.362222, 1.0], [34.475151, 70.362976, 1.0], [34.427952, 70.366253, 1.0], [32.499731, 70.369447, 1.0], [34.800272, 70.372528, 1.0], [35.213611, 70.373333, 1.0], [34.277222, 70.375, 1.0], [34.885761, 70.380013, 1.0], [34.293728, 70.382794, 1.0], [37.32764, 70.38291, 1.0], [32.21665, 70.383326, 1.0], [34.838271, 70.385347, 1.0], [34.285278, 70.386111, 1.0], [34.957957, 70.38793, 1.0], [33.173752, 70.401909, 1.0], [33.430238, 70.4032, 1.0], [34.806052, 70.405695, 1.0], [34.322245, 70.424223, 1.0], [33.150724, 70.43233, 1.0], [34.417122, 70.449593, 24.0], [34.849305, 70.451013, 1.0], [31.932722, 70.460876, 1.0], [34.116944, 70.461111, 1.0], [34.115677, 70.463646, 1.0], [34.09263, 70.469224, 1.0], [34.09263, 70.469225, 1.0], [34.092682, 70.469264, 1.0], [35.05165, 70.469849, 1.0], [33.256111, 70.487289, 1.0], [37.18072, 70.493515, 1.0], [32.800575, 70.49556, 2.0], [34.202763, 70.501409, 1.0], [34.1057, 70.530431, 1.0], [34.043885, 70.538058, 2.0], [33.348384, 70.53988, 1.0], [33.370038, 70.54496, 1.0], [33.370043, 70.54496, 1.0], [33.366449, 70.546475, 1.0], [33.363258, 70.547846, 1.0], [33.924556, 70.549814, 1.0], [33.858529, 70.551407, 1.0], [34.038281, 70.573577, 1.0], [34.035533, 70.574089, 4.0], [34.078889, 70.577778, 1.0], [37.624012, 70.581866, 1.0], [34.140278, 70.596111, 1.0], [34.152646, 70.601094, 1.0], [32.987347, 70.602524, 4.0], [34.143281, 70.607179, 2.0], [34.15235, 70.609007, 1.0], [37.181372, 70.614918, 1.0], [34.162774, 70.617265, 1.0], [34.16993, 70.620088, 1.0], [34.170584, 70.620876, 1.0], [34.171831, 70.621679, 4.0], [34.165506, 70.621883, 1.0], [34.220887, 70.630188, 1.0], [30.034319, 70.639676, 1.0], [33.822794, 70.644326, 1.0], [33.818195, 70.644798, 2.0], [34.58947, 70.645126, 1.0], [33.956944, 70.646389, 1.0], [30.705992, 70.648447, 1.0], [33.860224, 70.662679, 1.0], [34.011066, 70.665604, 1.0], [34.081961, 70.666297, 2.0], [34.108611, 70.666667, 1.0], [34.082722, 70.666734, 1.0], [34.08218, 70.667035, 1.0], [34.081576, 70.667453, 1.0], [34.083761, 70.667489, 1.0], [34.082404, 70.66773, 1.0], [32.929773, 70.669266, 1.0], [36.016389, 70.676667, 1.0], [33.8125, 70.676944, 2.0], [33.730968, 70.680452, 2.0], [32.995865, 70.687074, 1.0], [34.091049, 70.69136, 1.0], [33.726945, 70.694618, 1.0], [33.558414, 70.696106, 1.0], [34.074979, 70.69829, 1.0], [34.070499, 70.699944, 1.0], [33.786886, 70.705311, 1.0], [33.780103, 70.706147, 1.0], [33.778545, 70.707228, 1.0], [34.262694, 70.707774, 1.0], [37.630599, 70.718038, 1.0], [36.982769, 70.720766, 1.0], [33.651388, 70.736111, 1.0], [33.42503, 70.737233, 1.0], [34.699954, 70.749935, 1.0], [34.9569, 70.750651, 1.0], [34.956583, 70.754129, 1.0], [34.720361, 70.759229, 1.0], [34.290737, 70.759587, 1.0], [34.290942, 70.760212, 1.0], [34.699182, 70.760904, 1.0], [33.35495, 70.761308, 1.0], [33.052855, 70.761615, 1.0], [34.063256, 70.763728, 1.0], [34.920175, 70.764424, 1.0], [34.920176, 70.764424, 1.0], [33.616111, 70.764722, 1.0], [34.670412, 70.76998, 1.0], [34.289704, 70.770203, 1.0], [34.693929, 70.771731, 1.0], [33.822302, 70.774356, 1.0], [33.64065, 70.775753, 1.0], [33.640689, 70.775759, 2.0], [32.823055, 70.783745, 2.0], [34.265501, 70.785125, 1.0], [34.195751, 70.786385, 2.0], [36.45166, 70.786638, 1.0], [34.195841, 70.787515, 1.0], [34.263149, 70.78821, 1.0], [36.427778, 70.797778, 1.0], [36.452733, 70.798311, 1.0], [36.680535, 70.79843, 1.0], [37.103658, 70.809921, 1.0], [36.734772, 70.811995, 2.0], [33.732, 70.813885, 1.0], [36.50637, 70.818241, 1.0], [33.718056, 70.821924, 1.0], [34.187222, 70.823056, 1.0], [36.794422, 70.827362, 2.0], [34.044527, 70.828014, 1.0], [37.207081, 70.832742, 1.0], [36.868631, 70.833882, 2.0], [36.866667, 70.834444, 1.0], [36.865218, 70.835138, 1.0], [34.69786, 70.835779, 1.0], [34.964444, 70.838333, 1.0], [33.825361, 70.847724, 1.0], [33.637909, 70.851324, 1.0], [33.638056, 70.851667, 1.0], [34.081873, 70.859562, 1.0], [34.631948, 70.859665, 1.0], [34.634167, 70.859873, 1.0], [33.647254, 70.86229, 1.0], [36.863099, 70.870393, 1.0], [33.733414, 70.871022, 1.0], [37.003821, 70.871322, 1.0], [37.004654, 70.871803, 1.0], [33.782222, 70.895278, 1.0], [31.831335, 70.901972, 1.0], [36.887452, 70.906242, 1.0], [33.443839, 70.907124, 1.0], [37.002778, 70.9075, 2.0], [34.975411, 70.908371, 1.0], [31.834328, 70.90905, 5.0], [34.979906, 70.910511, 1.0], [34.988941, 70.911217, 2.0], [33.439697, 70.912251, 1.0], [34.27455, 70.919636, 1.0], [34.039444, 70.93, 1.0], [34.03949, 70.930077, 1.0], [33.758833, 70.935708, 1.0], [33.874976, 70.938292, 1.0], [36.684256, 70.945402, 1.0], [34.232002, 70.948915, 1.0], [34.354238, 70.95468, 1.0], [34.352019, 70.954954, 1.0], [34.351851, 70.957542, 1.0], [32.431245, 70.965876, 1.0], [33.742381, 70.965883, 1.0], [34.063889, 70.976389, 1.0], [34.111254, 70.978915, 1.0], [34.841728, 70.980452, 1.0], [35.183083, 70.986575, 1.0], [35.190269, 70.994683, 1.0], [33.7075, 71.002222, 2.0], [33.707778, 71.0025, 1.0], [35.51078, 71.00575, 1.0], [33.925278, 71.018611, 1.0], [33.682835, 71.01955, 1.0], [33.758441, 71.052376, 1.0], [34.009722, 71.054722, 1.0], [33.533859, 71.055748, 1.0], [33.528893, 71.056122, 11.0], [34.325, 71.06083, 1.0], [33.988611, 71.069444, 1.0], [33.908578, 71.070055, 4.0], [33.546327, 71.0757, 1.0], [33.960767, 71.077739, 2.0], [34.128723, 71.085815, 1.0], [35.365356, 71.098517, 1.0], [34.120224, 71.101242, 1.0], [33.548657, 71.105605, 1.0], [34.79, 71.109444, 1.0], [34.600253, 71.11245, 1.0], [33.96999, 71.112535, 1.0], [34.696152, 71.126424, 1.0], [34.910931, 71.127397, 1.0], [34.910931, 71.127398, 3.0], [37.06663, 71.131616, 1.0], [33.697271, 71.144852, 5.0], [34.875656, 71.152008, 7.0], [34.110325, 71.163803, 4.0], [34.109802, 71.171071, 1.0], [34.891363, 71.179614, 1.0], [34.89, 71.18, 2.0], [34.889366, 71.180493, 1.0], [33.272529, 71.182087, 1.0], [36.7613, 71.1853, 2.0], [30.09477, 71.187182, 1.0], [34.599888, 71.20826, 1.0], [34.872827, 71.218253, 1.0], [36.722866, 71.225247, 1.0], [34.864687, 71.241043, 1.0], [35.039768, 71.242452, 1.0], [34.556396, 71.2575, 1.0], [34.398889, 71.264444, 1.0], [36.704403, 71.26626, 1.0], [34.011689, 71.267881, 1.0], [34.967379, 71.270315, 1.0], [34.935129, 71.272783, 1.0], [34.928284, 71.275542, 1.0], [34.021103, 71.287421, 1.0], [35.724448, 71.287421, 1.0], [35.725265, 71.288397, 1.0], [34.022975, 71.293773, 1.0], [33.646099, 71.301111, 1.0], [34.835555, 71.316111, 1.0], [35.718157, 71.316641, 1.0], [34.538611, 71.329167, 1.0], [35.233611, 71.330556, 1.0], [35.488612, 71.330855, 1.0], [35.436394, 71.334932, 1.0], [34.745799, 71.337399, 1.0], [34.744167, 71.338333, 1.0], [35.40976, 71.338548, 1.0], [35.409873, 71.338644, 5.0], [35.409749, 71.338923, 1.0], [35.410478, 71.339177, 1.0], [35.409482, 71.339417, 1.0], [33.982658, 71.339779, 1.0], [34.004017, 71.339912, 1.0], [36.545763, 71.340871, 1.0], [35.673406, 71.343089, 1.0], [35.673401, 71.343098, 1.0], [35.672778, 71.343333, 1.0], [35.216667, 71.35, 1.0], [35.030704, 71.352135, 2.0], [33.887759, 71.356697, 1.0], [35.040568, 71.360138, 1.0], [33.911742, 71.36195, 1.0], [34.452451, 71.362234, 1.0], [34.024823, 71.362781, 1.0], [35.2222, 71.363757, 1.0], [33.910832, 71.363895, 1.0], [34.476158, 71.363912, 1.0], [35.22768, 71.364181, 1.0], [34.002579, 71.382477, 9.0], [33.876196, 71.390786, 1.0], [34.320023, 71.399002, 2.0], [35.002193, 71.406188, 3.0], [35.001035, 71.406616, 1.0], [34.801494, 71.409609, 1.0], [34.957256, 71.416153, 1.0], [34.9925, 71.419167, 1.0], [34.810615, 71.423875, 1.0], [34.561389, 71.426389, 1.0], [34.855861, 71.429838, 1.0], [34.856902, 71.429936, 7.0], [33.976307, 71.437157, 1.0], [35.00083, 71.43791, 1.0], [33.590603, 71.44062, 12.0], [34.186944, 71.445278, 1.0], [34.968907, 71.450089, 1.0], [33.915234, 71.458679, 8.0], [35.167892, 71.461493, 1.0], [33.922054, 71.462588, 1.0], [33.920331, 71.462721, 1.0], [33.917778, 71.464444, 2.0], [33.908508, 71.473129, 1.0], [34.554875, 71.476933, 1.0], [34.565494, 71.477429, 4.0], [34.567793, 71.480221, 2.0], [33.93573, 71.487518, 2.0], [33.47483, 71.48759, 1.0], [34.759768, 71.490142, 1.0], [30.174344, 71.508834, 1.0], [34.775677, 71.50979, 1.0], [33.68745, 71.516037, 4.0], [34.733517, 71.519661, 2.0], [35.21218, 71.524915, 1.0], [35.208863, 71.525189, 1.0], [35.212807, 71.526148, 1.0], [34.866207, 71.526382, 1.0], [35.225369, 71.528625, 4.0], [35.254401, 71.531025, 1.0], [34.866667, 71.533333, 1.0], [34.006004, 71.53743, 44.0], [35.297979, 71.538181, 1.0], [35.297834, 71.53827, 1.0], [33.953468, 71.542061, 1.0], [34.004299, 71.54483, 2.0], [35.304444, 71.547222, 1.0], [35.31, 71.55, 1.0], [33.968178, 71.551622, 1.0], [34.406593, 71.55415, 1.0], [33.796459, 71.558487, 7.0], [34.217285, 71.561043, 2.0], [33.91758, 71.562035, 5.0], [33.957536, 71.573933, 1.0], [33.834489, 71.593166, 1.0], [34.745, 71.606667, 3.0], [34.920942, 71.623948, 2.0], [34.218174, 71.626259, 1.0], [34.164304, 71.627941, 1.0], [34.371917, 71.635014, 1.0], [34.939722, 71.648611, 1.0], [34.119318, 71.651019, 1.0], [35.162778, 71.660556, 1.0], [34.887684, 71.66341, 2.0], [29.395722, 71.683333, 1.0], [34.953611, 71.685833, 1.0], [35.490112, 71.724269, 1.0], [34.741676, 71.725639, 1.0], [33.836457, 71.736757, 1.0], [34.14658, 71.743538, 3.0], [35.090278, 71.764444, 1.0], [35.09, 71.765, 1.0], [35.038889, 71.788889, 1.0], [33.927608, 71.807838, 1.0], [34.136841, 71.83818, 1.0], [34.82925, 71.84145, 1.0], [34.830162, 71.842781, 1.0], [35.196559, 71.872616, 1.0], [35.202293, 71.873006, 1.0], [35.19766, 71.874921, 2.0], [34.503041, 71.904565, 1.0], [34.502784, 71.90478, 1.0], [34.851148, 71.919924, 1.0], [34.416681, 71.92459, 1.0], [34.007206, 71.983078, 4.0], [35.281485, 72.002878, 1.0], [34.659739, 72.033739, 1.0], [35.165524, 72.046816, 4.0], [34.200592, 72.048439, 4.0], [36.154988, 72.107319, 1.0], [34.046967, 72.32885, 1.0], [34.248245, 72.352425, 1.0], [34.774479, 72.364052, 2.0], [33.924563, 72.379948, 1.0], [33.857616, 72.393265, 1.0], [34.050208, 72.417627, 1.0], [34.279967, 72.516399, 1.0], [34.394322, 72.615117, 1.0], [34.399819, 72.627489, 1.0], [33.565437, 72.642901, 1.0], [34.743111, 72.684426, 1.0], [34.801508, 72.757002, 1.0], [34.62219, 72.799009, 1.0], [18.949506, 72.8305, 1.0], [19.018925, 72.840447, 1.0], [19.075984, 72.877656, 1.0], [33.995984, 72.936762, 1.0], [31.72, 72.9789, 1.0], [34.4992, 73.01754, 2.0], [33.671638, 73.056068, 4.0], [33.594013, 73.069077, 5.0], [31.408822, 73.083021, 1.0], [34.333333, 73.2, 1.0], [35.450276, 73.625473, 1.0], [30.776463, 73.698502, 1.0], [31.449918, 73.699847, 1.0], [18.52043, 73.856744, 1.0], [34.399646, 73.862489, 1.0], [32.479122, 73.981534, 1.0], [31.716662, 73.985024, 1.0], [31.717026, 73.985505, 1.0], [34.08811, 74.033929, 1.0], [34.088117, 74.033985, 1.0], [34.484194, 74.072291, 1.0], [33.767001, 74.092404, 1.0], [33.774655, 74.093469, 1.0], [31.681826, 74.101247, 1.0], [34.100845, 74.107846, 1.0], [32.44548, 74.111252, 1.0], [35.918057, 74.289269, 2.0], [35.918091, 74.289803, 1.0], [31.50547, 74.34288, 17.0], [31.410962, 74.363412, 1.0], [31.412935, 74.363546, 1.0], [34.513452, 74.415458, 1.0], [31.590166, 74.575894, 1.0], [34.08374, 74.789902, 2.0], [32.519224, 74.799533, 1.0], [35.334733, 74.8312, 1.0], [33.874027, 74.901505, 1.0], [34.031402, 74.905649, 1.0], [32.798325, 74.915164, 1.0], [34.025109, 74.917582, 1.0], [33.652018, 74.942575, 1.0], [33.966527, 74.964225, 1.0], [33.877635, 75.010362, 1.0], [32.553325, 75.110752, 1.0], [33.691617, 75.112724, 1.0], [33.756914, 75.118778, 1.0], [32.561111, 75.124722, 1.0], [33.689486, 75.219677, 1.0], [30.064585, 75.23174, 1.0], [32.126683, 75.463456, 1.0], [32.377503, 75.521757, 1.0], [32.371698, 75.522909, 1.0], [32.264338, 75.642112, 1.0], [28.585836, 77.153336, 1.0], [9.877102, 78.113679, 1.0], [17.376812, 78.487812, 2.0], [24.728837, 79.559957, 1.0], [20.181843, 80.006844, 3.0], [19.960998, 80.147584, 1.0], [20.384114, 80.610848, 1.0], [19.332017, 80.654195, 1.0], [18.79771, 80.812864, 1.0], [18.791667, 80.816667, 1.0], [18.755249, 80.816788, 1.0], [20.208052, 80.877724, 1.0], [18.708305, 80.995499, 2.0], [18.015097, 81.051056, 1.0], [17.938513, 81.133357, 1.0], [18.340368, 81.18164, 1.0], [19.723535, 81.242411, 2.0], [18.030192, 81.320864, 1.0], [18.9, 81.35, 1.0], [18.844024, 81.383619, 1.0], [18.727104, 81.440785, 1.0], [18.727528, 81.441632, 1.0], [18.555268, 81.537572, 1.0], [19.377765, 81.543187, 1.0], [18.813227, 81.579399, 1.0], [18.404645, 81.588419, 1.0], [18.351873, 81.6026, 1.0], [21.251384, 81.629641, 1.0], [22.086667, 81.655278, 1.0], [18.391012, 81.656929, 1.0], [18.391134, 81.659273, 2.0], [25.427402, 81.818337, 1.0], [21.278657, 81.866144, 1.0], [18.865511, 81.874222, 1.0], [18.932863, 81.882246, 1.0], [19.209141, 81.991659, 1.0], [18.815236, 82.712102, 1.0], [18.856056, 82.734714, 1.0], [18.965838, 83.451666, 1.0], [24.173149, 83.808662, 1.0], [24.830603, 84.086728, 1.0], [23.13583, 84.240173, 1.0], [26.583446, 84.279156, 2.0], [23.730198, 84.296522, 1.0], [24.749905, 84.370896, 1.0], [24.745719, 84.380489, 1.0], [24.442975, 84.394202, 1.0], [23.744186, 84.504429, 2.0], [22.938198, 84.521119, 1.0], [23.041512, 84.544486, 2.0], [26.828525, 84.560034, 1.0], [26.799257, 84.620533, 1.0], [24.977651, 84.655808, 1.0], [23.43, 84.68, 1.0], [23.1477, 84.702817, 1.0], [21.814946, 84.959777, 1.0], [26.517027, 85.099964, 1.0], [23.023638, 85.189404, 1.0], [23.266311, 85.307159, 1.0], [22.7429, 85.335867, 1.0], [26.73267, 85.924789, 1.0], [23.346597, 86.009606, 1.0], [25.167773, 86.094418, 1.0], [24.925432, 86.220954, 1.0], [24.129325, 86.31232, 1.0], [25.380634, 86.465382, 1.0], [22.616778, 86.818268, 1.0], [22.451393, 86.992203, 1.0], [24.316127, 87.261257, 1.0], [22.404193, 87.379866, 2.0], [24.361258, 87.418416, 1.0], [24.238543, 87.467394, 1.0], [26.522961, 88.719221, 1.0], [25.571734, 89.275942, 1.0], [25.329743, 89.555768, 1.0], [26.54028, 90.133119, 1.0], [26.401436, 90.266699, 1.0], [26.398022, 90.269415, 1.0], [25.224232, 90.376999, 1.0], [23.791275, 90.418205, 4.0], [23.63757, 90.48327, 1.0], [25.97258, 90.546861, 1.0], [25.330097, 90.563609, 1.0], [26.126337, 90.616701, 1.0], [25.193491, 90.634631, 1.0], [25.621309, 90.783707, 1.0], [26.654859, 90.989237, 1.0], [26.258028, 91.127389, 1.0], [23.225618, 91.313658, 1.0], [26.807354, 92.546435, 1.0], [26.63, 92.8, 1.0], [26.678779, 92.857672, 1.0], [26.673885, 92.85771, 1.0], [26.673885, 92.857711, 1.0], [26.200604, 92.937574, 1.0], [26.257281, 93.012702, 1.0], [24.984523, 93.503509, 1.0], [24.798346, 93.94043, 2.0], [24.328989, 93.986769, 1.0], [24.078081, 94.019729, 1.0], [24.211913, 94.104948, 1.0], [26.50296, 94.229491, 1.0], [25.095386, 94.361652, 1.0], [26.420131, 95.019992, 1.0]],\n",
       "                {\n",
       "  &quot;minOpacity&quot;: 0.5,\n",
       "  &quot;maxZoom&quot;: 18,\n",
       "  &quot;radius&quot;: 25,\n",
       "  &quot;blur&quot;: 15,\n",
       "}\n",
       "            );\n",
       "        \n",
       "    \n",
       "            heat_map_9d58113cfb3772cdb273c6b5a6027a54.addTo(map_9c5f33959f2579a378ad22930764c95b);\n",
       "        \n",
       "&lt;/script&gt;\n",
       "&lt;/html&gt;\" style=\"position:absolute;width:100%;height:100%;left:0;top:0;border:none !important;\" allowfullscreen webkitallowfullscreen mozallowfullscreen></iframe></div></div>"
      ],
      "text/plain": [
       "<folium.folium.Map at 0x26c789fb360>"
      ]
     },
     "execution_count": 52,
     "metadata": {},
     "output_type": "execute_result"
    }
   ],
   "source": [
    "m2"
   ]
  },
  {
   "cell_type": "code",
   "execution_count": null,
   "id": "c43117ac-51a3-4aaf-aca9-5d0a18c73f47",
   "metadata": {},
   "outputs": [],
   "source": []
  },
  {
   "cell_type": "code",
   "execution_count": null,
   "id": "13eeae82-49b5-4acf-aad5-0a6d502b1653",
   "metadata": {},
   "outputs": [],
   "source": []
  },
  {
   "cell_type": "markdown",
   "id": "6c834501-e0fe-4b45-a40d-c7ad6ec048d3",
   "metadata": {},
   "source": [
    "<h1>Insight 3: Kidnapping Incidents in Sub-Saharan Africa (2000–2020)\n",
    "</h1>"
   ]
  },
  {
   "cell_type": "code",
   "execution_count": 59,
   "id": "04b91fec-9cdd-471b-b842-cb1cebb37d7c",
   "metadata": {},
   "outputs": [],
   "source": [
    "filter1 = df[df['region_txt'] == 'Sub-Saharan Africa']\n"
   ]
  },
  {
   "cell_type": "code",
   "execution_count": 60,
   "id": "08df0fba-5ee3-41f3-898a-3e9828f8a82e",
   "metadata": {},
   "outputs": [],
   "source": [
    "filter2 = filter1[filter1['attacktype1_txt'] == 'Kidnapping']\n"
   ]
  },
  {
   "cell_type": "code",
   "execution_count": 61,
   "id": "0f081a41-1c62-46e4-aea1-9fe4f9ee427d",
   "metadata": {},
   "outputs": [],
   "source": [
    "filter3 = filter2[(filter2['iyear'] >= 2000) & (filter2['iyear'] <= 2020)]\n"
   ]
  },
  {
   "cell_type": "code",
   "execution_count": 62,
   "id": "72d56508-3502-46c9-b80c-4aedabef709b",
   "metadata": {},
   "outputs": [],
   "source": [
    "SSA_kidnapping = filter3.groupby(['longitude', 'latitude']).size().reset_index(name='incident_count')\n"
   ]
  },
  {
   "cell_type": "code",
   "execution_count": 63,
   "id": "bd0efe6b-61d4-4538-8a39-d7c880e75784",
   "metadata": {},
   "outputs": [
    {
     "data": {
      "text/plain": [
       "<folium.plugins.heat_map.HeatMap at 0x26c788decf0>"
      ]
     },
     "execution_count": 63,
     "metadata": {},
     "output_type": "execute_result"
    }
   ],
   "source": [
    "m3 = folium.Map(location=[0, 20], zoom_start=4)\n",
    "HeatMap(SSA_kidnapping[['latitude', 'longitude', 'incident_count']].values.tolist()).add_to(m3)\n"
   ]
  },
  {
   "cell_type": "code",
   "execution_count": 64,
   "id": "e78af780-ed49-41ca-8b80-f1f138a98dd8",
   "metadata": {},
   "outputs": [
    {
     "data": {
      "text/html": [
       "<div style=\"width:100%;\"><div style=\"position:relative;width:100%;height:0;padding-bottom:60%;\"><span style=\"color:#565656\">Make this Notebook Trusted to load map: File -> Trust Notebook</span><iframe srcdoc=\"&lt;!DOCTYPE html&gt;\n",
       "&lt;html&gt;\n",
       "&lt;head&gt;\n",
       "    \n",
       "    &lt;meta http-equiv=&quot;content-type&quot; content=&quot;text/html; charset=UTF-8&quot; /&gt;\n",
       "    \n",
       "        &lt;script&gt;\n",
       "            L_NO_TOUCH = false;\n",
       "            L_DISABLE_3D = false;\n",
       "        &lt;/script&gt;\n",
       "    \n",
       "    &lt;style&gt;html, body {width: 100%;height: 100%;margin: 0;padding: 0;}&lt;/style&gt;\n",
       "    &lt;style&gt;#map {position:absolute;top:0;bottom:0;right:0;left:0;}&lt;/style&gt;\n",
       "    &lt;script src=&quot;https://cdn.jsdelivr.net/npm/leaflet@1.9.3/dist/leaflet.js&quot;&gt;&lt;/script&gt;\n",
       "    &lt;script src=&quot;https://code.jquery.com/jquery-3.7.1.min.js&quot;&gt;&lt;/script&gt;\n",
       "    &lt;script src=&quot;https://cdn.jsdelivr.net/npm/bootstrap@5.2.2/dist/js/bootstrap.bundle.min.js&quot;&gt;&lt;/script&gt;\n",
       "    &lt;script src=&quot;https://cdnjs.cloudflare.com/ajax/libs/Leaflet.awesome-markers/2.0.2/leaflet.awesome-markers.js&quot;&gt;&lt;/script&gt;\n",
       "    &lt;link rel=&quot;stylesheet&quot; href=&quot;https://cdn.jsdelivr.net/npm/leaflet@1.9.3/dist/leaflet.css&quot;/&gt;\n",
       "    &lt;link rel=&quot;stylesheet&quot; href=&quot;https://cdn.jsdelivr.net/npm/bootstrap@5.2.2/dist/css/bootstrap.min.css&quot;/&gt;\n",
       "    &lt;link rel=&quot;stylesheet&quot; href=&quot;https://netdna.bootstrapcdn.com/bootstrap/3.0.0/css/bootstrap-glyphicons.css&quot;/&gt;\n",
       "    &lt;link rel=&quot;stylesheet&quot; href=&quot;https://cdn.jsdelivr.net/npm/@fortawesome/fontawesome-free@6.2.0/css/all.min.css&quot;/&gt;\n",
       "    &lt;link rel=&quot;stylesheet&quot; href=&quot;https://cdnjs.cloudflare.com/ajax/libs/Leaflet.awesome-markers/2.0.2/leaflet.awesome-markers.css&quot;/&gt;\n",
       "    &lt;link rel=&quot;stylesheet&quot; href=&quot;https://cdn.jsdelivr.net/gh/python-visualization/folium/folium/templates/leaflet.awesome.rotate.min.css&quot;/&gt;\n",
       "    \n",
       "            &lt;meta name=&quot;viewport&quot; content=&quot;width=device-width,\n",
       "                initial-scale=1.0, maximum-scale=1.0, user-scalable=no&quot; /&gt;\n",
       "            &lt;style&gt;\n",
       "                #map_6ca25407adbae203ad0c7aaedd52a7bc {\n",
       "                    position: relative;\n",
       "                    width: 100.0%;\n",
       "                    height: 100.0%;\n",
       "                    left: 0.0%;\n",
       "                    top: 0.0%;\n",
       "                }\n",
       "                .leaflet-container { font-size: 1rem; }\n",
       "            &lt;/style&gt;\n",
       "        \n",
       "    &lt;script src=&quot;https://cdn.jsdelivr.net/gh/python-visualization/folium@main/folium/templates/leaflet_heat.min.js&quot;&gt;&lt;/script&gt;\n",
       "&lt;/head&gt;\n",
       "&lt;body&gt;\n",
       "    \n",
       "    \n",
       "            &lt;div class=&quot;folium-map&quot; id=&quot;map_6ca25407adbae203ad0c7aaedd52a7bc&quot; &gt;&lt;/div&gt;\n",
       "        \n",
       "&lt;/body&gt;\n",
       "&lt;script&gt;\n",
       "    \n",
       "    \n",
       "            var map_6ca25407adbae203ad0c7aaedd52a7bc = L.map(\n",
       "                &quot;map_6ca25407adbae203ad0c7aaedd52a7bc&quot;,\n",
       "                {\n",
       "                    center: [0.0, 20.0],\n",
       "                    crs: L.CRS.EPSG3857,\n",
       "                    ...{\n",
       "  &quot;zoom&quot;: 4,\n",
       "  &quot;zoomControl&quot;: true,\n",
       "  &quot;preferCanvas&quot;: false,\n",
       "}\n",
       "\n",
       "                }\n",
       "            );\n",
       "\n",
       "            \n",
       "\n",
       "        \n",
       "    \n",
       "            var tile_layer_ecad6dab02189ca5687b35349dd1cc54 = L.tileLayer(\n",
       "                &quot;https://tile.openstreetmap.org/{z}/{x}/{y}.png&quot;,\n",
       "                {\n",
       "  &quot;minZoom&quot;: 0,\n",
       "  &quot;maxZoom&quot;: 19,\n",
       "  &quot;maxNativeZoom&quot;: 19,\n",
       "  &quot;noWrap&quot;: false,\n",
       "  &quot;attribution&quot;: &quot;\\u0026copy; \\u003ca href=\\&quot;https://www.openstreetmap.org/copyright\\&quot;\\u003eOpenStreetMap\\u003c/a\\u003e contributors&quot;,\n",
       "  &quot;subdomains&quot;: &quot;abc&quot;,\n",
       "  &quot;detectRetina&quot;: false,\n",
       "  &quot;tms&quot;: false,\n",
       "  &quot;opacity&quot;: 1,\n",
       "}\n",
       "\n",
       "            );\n",
       "        \n",
       "    \n",
       "            tile_layer_ecad6dab02189ca5687b35349dd1cc54.addTo(map_6ca25407adbae203ad0c7aaedd52a7bc);\n",
       "        \n",
       "    \n",
       "            var heat_map_600160e911a2acbd9d04a557537ac2ef = L.heatLayer(\n",
       "                [],\n",
       "                {\n",
       "  &quot;minOpacity&quot;: 0.5,\n",
       "  &quot;maxZoom&quot;: 18,\n",
       "  &quot;radius&quot;: 25,\n",
       "  &quot;blur&quot;: 15,\n",
       "}\n",
       "            );\n",
       "        \n",
       "    \n",
       "            heat_map_600160e911a2acbd9d04a557537ac2ef.addTo(map_6ca25407adbae203ad0c7aaedd52a7bc);\n",
       "        \n",
       "&lt;/script&gt;\n",
       "&lt;/html&gt;\" style=\"position:absolute;width:100%;height:100%;left:0;top:0;border:none !important;\" allowfullscreen webkitallowfullscreen mozallowfullscreen></iframe></div></div>"
      ],
      "text/plain": [
       "<folium.folium.Map at 0x26c788de8b0>"
      ]
     },
     "execution_count": 64,
     "metadata": {},
     "output_type": "execute_result"
    }
   ],
   "source": [
    "m3"
   ]
  },
  {
   "cell_type": "code",
   "execution_count": null,
   "id": "cf4f5411-3a2c-4054-af5c-5500ce24599e",
   "metadata": {},
   "outputs": [],
   "source": []
  },
  {
   "cell_type": "markdown",
   "id": "33282954-4494-419c-afe4-7a7871e92219",
   "metadata": {},
   "source": [
    "<h1>Insight 4: Armed Assaults in Europe (2010–2020)\n",
    "\n"
   ]
  },
  {
   "cell_type": "code",
   "execution_count": 70,
   "id": "31427bfb-b8eb-4930-a2ae-5b2d5ea3a643",
   "metadata": {},
   "outputs": [],
   "source": [
    "filter1 = df[df['region_txt'] == 'Europe']"
   ]
  },
  {
   "cell_type": "code",
   "execution_count": 71,
   "id": "c747f885-e259-4fff-88d1-9f8f7fbbbc83",
   "metadata": {},
   "outputs": [],
   "source": [
    "filter2 = filter1[filter1['attacktype1_txt'] == 'Armed Assault']\n"
   ]
  },
  {
   "cell_type": "code",
   "execution_count": 72,
   "id": "5ace5471-6786-4ca4-994e-6aa4f67b1c15",
   "metadata": {},
   "outputs": [],
   "source": [
    "filter2 = filter1[filter1['attacktype1_txt'] == 'Armed Assault']\n"
   ]
  },
  {
   "cell_type": "code",
   "execution_count": 73,
   "id": "c61968f9-6535-4e35-92d5-27229fc6654f",
   "metadata": {},
   "outputs": [],
   "source": [
    "EU_assault = filter3.groupby(['longitude', 'latitude']).size().reset_index(name='incident_count')\n"
   ]
  },
  {
   "cell_type": "code",
   "execution_count": 74,
   "id": "b41d419b-8785-4e23-bebf-bec4922c3af5",
   "metadata": {},
   "outputs": [
    {
     "data": {
      "text/plain": [
       "<folium.plugins.heat_map.HeatMap at 0x26c788df460>"
      ]
     },
     "execution_count": 74,
     "metadata": {},
     "output_type": "execute_result"
    }
   ],
   "source": [
    "m4 = folium.Map(location=[50, 10], zoom_start=4)\n",
    "HeatMap(EU_assault[['latitude', 'longitude', 'incident_count']].values.tolist()).add_to(m4)"
   ]
  },
  {
   "cell_type": "code",
   "execution_count": 75,
   "id": "8bf27622-3de2-4d50-a6f9-fc37bc4b20dd",
   "metadata": {},
   "outputs": [
    {
     "data": {
      "text/html": [
       "<div style=\"width:100%;\"><div style=\"position:relative;width:100%;height:0;padding-bottom:60%;\"><span style=\"color:#565656\">Make this Notebook Trusted to load map: File -> Trust Notebook</span><iframe srcdoc=\"&lt;!DOCTYPE html&gt;\n",
       "&lt;html&gt;\n",
       "&lt;head&gt;\n",
       "    \n",
       "    &lt;meta http-equiv=&quot;content-type&quot; content=&quot;text/html; charset=UTF-8&quot; /&gt;\n",
       "    \n",
       "        &lt;script&gt;\n",
       "            L_NO_TOUCH = false;\n",
       "            L_DISABLE_3D = false;\n",
       "        &lt;/script&gt;\n",
       "    \n",
       "    &lt;style&gt;html, body {width: 100%;height: 100%;margin: 0;padding: 0;}&lt;/style&gt;\n",
       "    &lt;style&gt;#map {position:absolute;top:0;bottom:0;right:0;left:0;}&lt;/style&gt;\n",
       "    &lt;script src=&quot;https://cdn.jsdelivr.net/npm/leaflet@1.9.3/dist/leaflet.js&quot;&gt;&lt;/script&gt;\n",
       "    &lt;script src=&quot;https://code.jquery.com/jquery-3.7.1.min.js&quot;&gt;&lt;/script&gt;\n",
       "    &lt;script src=&quot;https://cdn.jsdelivr.net/npm/bootstrap@5.2.2/dist/js/bootstrap.bundle.min.js&quot;&gt;&lt;/script&gt;\n",
       "    &lt;script src=&quot;https://cdnjs.cloudflare.com/ajax/libs/Leaflet.awesome-markers/2.0.2/leaflet.awesome-markers.js&quot;&gt;&lt;/script&gt;\n",
       "    &lt;link rel=&quot;stylesheet&quot; href=&quot;https://cdn.jsdelivr.net/npm/leaflet@1.9.3/dist/leaflet.css&quot;/&gt;\n",
       "    &lt;link rel=&quot;stylesheet&quot; href=&quot;https://cdn.jsdelivr.net/npm/bootstrap@5.2.2/dist/css/bootstrap.min.css&quot;/&gt;\n",
       "    &lt;link rel=&quot;stylesheet&quot; href=&quot;https://netdna.bootstrapcdn.com/bootstrap/3.0.0/css/bootstrap-glyphicons.css&quot;/&gt;\n",
       "    &lt;link rel=&quot;stylesheet&quot; href=&quot;https://cdn.jsdelivr.net/npm/@fortawesome/fontawesome-free@6.2.0/css/all.min.css&quot;/&gt;\n",
       "    &lt;link rel=&quot;stylesheet&quot; href=&quot;https://cdnjs.cloudflare.com/ajax/libs/Leaflet.awesome-markers/2.0.2/leaflet.awesome-markers.css&quot;/&gt;\n",
       "    &lt;link rel=&quot;stylesheet&quot; href=&quot;https://cdn.jsdelivr.net/gh/python-visualization/folium/folium/templates/leaflet.awesome.rotate.min.css&quot;/&gt;\n",
       "    \n",
       "            &lt;meta name=&quot;viewport&quot; content=&quot;width=device-width,\n",
       "                initial-scale=1.0, maximum-scale=1.0, user-scalable=no&quot; /&gt;\n",
       "            &lt;style&gt;\n",
       "                #map_3afd6c20320e87f6c4a03f836d53f3e3 {\n",
       "                    position: relative;\n",
       "                    width: 100.0%;\n",
       "                    height: 100.0%;\n",
       "                    left: 0.0%;\n",
       "                    top: 0.0%;\n",
       "                }\n",
       "                .leaflet-container { font-size: 1rem; }\n",
       "            &lt;/style&gt;\n",
       "        \n",
       "    &lt;script src=&quot;https://cdn.jsdelivr.net/gh/python-visualization/folium@main/folium/templates/leaflet_heat.min.js&quot;&gt;&lt;/script&gt;\n",
       "&lt;/head&gt;\n",
       "&lt;body&gt;\n",
       "    \n",
       "    \n",
       "            &lt;div class=&quot;folium-map&quot; id=&quot;map_3afd6c20320e87f6c4a03f836d53f3e3&quot; &gt;&lt;/div&gt;\n",
       "        \n",
       "&lt;/body&gt;\n",
       "&lt;script&gt;\n",
       "    \n",
       "    \n",
       "            var map_3afd6c20320e87f6c4a03f836d53f3e3 = L.map(\n",
       "                &quot;map_3afd6c20320e87f6c4a03f836d53f3e3&quot;,\n",
       "                {\n",
       "                    center: [50.0, 10.0],\n",
       "                    crs: L.CRS.EPSG3857,\n",
       "                    ...{\n",
       "  &quot;zoom&quot;: 4,\n",
       "  &quot;zoomControl&quot;: true,\n",
       "  &quot;preferCanvas&quot;: false,\n",
       "}\n",
       "\n",
       "                }\n",
       "            );\n",
       "\n",
       "            \n",
       "\n",
       "        \n",
       "    \n",
       "            var tile_layer_bafc961f6397edf1ad2232d6b8832f63 = L.tileLayer(\n",
       "                &quot;https://tile.openstreetmap.org/{z}/{x}/{y}.png&quot;,\n",
       "                {\n",
       "  &quot;minZoom&quot;: 0,\n",
       "  &quot;maxZoom&quot;: 19,\n",
       "  &quot;maxNativeZoom&quot;: 19,\n",
       "  &quot;noWrap&quot;: false,\n",
       "  &quot;attribution&quot;: &quot;\\u0026copy; \\u003ca href=\\&quot;https://www.openstreetmap.org/copyright\\&quot;\\u003eOpenStreetMap\\u003c/a\\u003e contributors&quot;,\n",
       "  &quot;subdomains&quot;: &quot;abc&quot;,\n",
       "  &quot;detectRetina&quot;: false,\n",
       "  &quot;tms&quot;: false,\n",
       "  &quot;opacity&quot;: 1,\n",
       "}\n",
       "\n",
       "            );\n",
       "        \n",
       "    \n",
       "            tile_layer_bafc961f6397edf1ad2232d6b8832f63.addTo(map_3afd6c20320e87f6c4a03f836d53f3e3);\n",
       "        \n",
       "    \n",
       "            var heat_map_bce92cebbe8b166fd10309672aa67b5e = L.heatLayer(\n",
       "                [],\n",
       "                {\n",
       "  &quot;minOpacity&quot;: 0.5,\n",
       "  &quot;maxZoom&quot;: 18,\n",
       "  &quot;radius&quot;: 25,\n",
       "  &quot;blur&quot;: 15,\n",
       "}\n",
       "            );\n",
       "        \n",
       "    \n",
       "            heat_map_bce92cebbe8b166fd10309672aa67b5e.addTo(map_3afd6c20320e87f6c4a03f836d53f3e3);\n",
       "        \n",
       "&lt;/script&gt;\n",
       "&lt;/html&gt;\" style=\"position:absolute;width:100%;height:100%;left:0;top:0;border:none !important;\" allowfullscreen webkitallowfullscreen mozallowfullscreen></iframe></div></div>"
      ],
      "text/plain": [
       "<folium.folium.Map at 0x26c788de470>"
      ]
     },
     "execution_count": 75,
     "metadata": {},
     "output_type": "execute_result"
    }
   ],
   "source": [
    "m4"
   ]
  },
  {
   "cell_type": "code",
   "execution_count": null,
   "id": "bf83931a-bd6e-42fb-b516-a795b2a7575a",
   "metadata": {},
   "outputs": [],
   "source": []
  },
  {
   "cell_type": "code",
   "execution_count": null,
   "id": "e77c5a07-1217-4f12-803c-833de91e69bb",
   "metadata": {},
   "outputs": [],
   "source": []
  },
  {
   "cell_type": "markdown",
   "id": "4fe98d85-045c-46ea-8c5b-57655df2eae2",
   "metadata": {},
   "source": [
    "<h1>Insight 5: Assassinations in Central America & Caribbean</h1>"
   ]
  },
  {
   "cell_type": "code",
   "execution_count": 76,
   "id": "75343e26-1fb1-43f9-a408-0017f0996afa",
   "metadata": {},
   "outputs": [],
   "source": [
    "filter1 = df[df['region_txt'] == 'Central America & Caribbean']"
   ]
  },
  {
   "cell_type": "code",
   "execution_count": 77,
   "id": "ee17fae5-b5c7-429b-8bd4-4db9837d4b70",
   "metadata": {},
   "outputs": [],
   "source": [
    "filter2 = filter1[filter1['attacktype1_txt'] == 'Assassination']"
   ]
  },
  {
   "cell_type": "code",
   "execution_count": 78,
   "id": "cb58b866-ef26-496d-b3bc-b434d5ea38e4",
   "metadata": {},
   "outputs": [],
   "source": [
    "filter3 = filter2[filter2['nkill'] > 0]"
   ]
  },
  {
   "cell_type": "code",
   "execution_count": 79,
   "id": "b23a663d-534d-44d7-bb35-809ba1f6b1b2",
   "metadata": {},
   "outputs": [],
   "source": [
    "CA_assassination = filter3.groupby(['longitude', 'latitude']).size().reset_index(name='incident_count')"
   ]
  },
  {
   "cell_type": "code",
   "execution_count": 80,
   "id": "e3cca06f-01e9-4dae-a672-3ca8010b4880",
   "metadata": {},
   "outputs": [
    {
     "data": {
      "text/plain": [
       "<folium.plugins.heat_map.HeatMap at 0x26c87564f50>"
      ]
     },
     "execution_count": 80,
     "metadata": {},
     "output_type": "execute_result"
    }
   ],
   "source": [
    "m5 = folium.Map(location=[15, -75], zoom_start=5)\n",
    "HeatMap(CA_assassination[['latitude', 'longitude', 'incident_count']].values.tolist()).add_to(m5)"
   ]
  },
  {
   "cell_type": "code",
   "execution_count": 81,
   "id": "ac7ab140-3643-42c4-8b35-743910012a98",
   "metadata": {},
   "outputs": [
    {
     "data": {
      "text/html": [
       "<div style=\"width:100%;\"><div style=\"position:relative;width:100%;height:0;padding-bottom:60%;\"><span style=\"color:#565656\">Make this Notebook Trusted to load map: File -> Trust Notebook</span><iframe srcdoc=\"&lt;!DOCTYPE html&gt;\n",
       "&lt;html&gt;\n",
       "&lt;head&gt;\n",
       "    \n",
       "    &lt;meta http-equiv=&quot;content-type&quot; content=&quot;text/html; charset=UTF-8&quot; /&gt;\n",
       "    \n",
       "        &lt;script&gt;\n",
       "            L_NO_TOUCH = false;\n",
       "            L_DISABLE_3D = false;\n",
       "        &lt;/script&gt;\n",
       "    \n",
       "    &lt;style&gt;html, body {width: 100%;height: 100%;margin: 0;padding: 0;}&lt;/style&gt;\n",
       "    &lt;style&gt;#map {position:absolute;top:0;bottom:0;right:0;left:0;}&lt;/style&gt;\n",
       "    &lt;script src=&quot;https://cdn.jsdelivr.net/npm/leaflet@1.9.3/dist/leaflet.js&quot;&gt;&lt;/script&gt;\n",
       "    &lt;script src=&quot;https://code.jquery.com/jquery-3.7.1.min.js&quot;&gt;&lt;/script&gt;\n",
       "    &lt;script src=&quot;https://cdn.jsdelivr.net/npm/bootstrap@5.2.2/dist/js/bootstrap.bundle.min.js&quot;&gt;&lt;/script&gt;\n",
       "    &lt;script src=&quot;https://cdnjs.cloudflare.com/ajax/libs/Leaflet.awesome-markers/2.0.2/leaflet.awesome-markers.js&quot;&gt;&lt;/script&gt;\n",
       "    &lt;link rel=&quot;stylesheet&quot; href=&quot;https://cdn.jsdelivr.net/npm/leaflet@1.9.3/dist/leaflet.css&quot;/&gt;\n",
       "    &lt;link rel=&quot;stylesheet&quot; href=&quot;https://cdn.jsdelivr.net/npm/bootstrap@5.2.2/dist/css/bootstrap.min.css&quot;/&gt;\n",
       "    &lt;link rel=&quot;stylesheet&quot; href=&quot;https://netdna.bootstrapcdn.com/bootstrap/3.0.0/css/bootstrap-glyphicons.css&quot;/&gt;\n",
       "    &lt;link rel=&quot;stylesheet&quot; href=&quot;https://cdn.jsdelivr.net/npm/@fortawesome/fontawesome-free@6.2.0/css/all.min.css&quot;/&gt;\n",
       "    &lt;link rel=&quot;stylesheet&quot; href=&quot;https://cdnjs.cloudflare.com/ajax/libs/Leaflet.awesome-markers/2.0.2/leaflet.awesome-markers.css&quot;/&gt;\n",
       "    &lt;link rel=&quot;stylesheet&quot; href=&quot;https://cdn.jsdelivr.net/gh/python-visualization/folium/folium/templates/leaflet.awesome.rotate.min.css&quot;/&gt;\n",
       "    \n",
       "            &lt;meta name=&quot;viewport&quot; content=&quot;width=device-width,\n",
       "                initial-scale=1.0, maximum-scale=1.0, user-scalable=no&quot; /&gt;\n",
       "            &lt;style&gt;\n",
       "                #map_23561c9b58b3a727a7e8e62c57606a72 {\n",
       "                    position: relative;\n",
       "                    width: 100.0%;\n",
       "                    height: 100.0%;\n",
       "                    left: 0.0%;\n",
       "                    top: 0.0%;\n",
       "                }\n",
       "                .leaflet-container { font-size: 1rem; }\n",
       "            &lt;/style&gt;\n",
       "        \n",
       "    &lt;script src=&quot;https://cdn.jsdelivr.net/gh/python-visualization/folium@main/folium/templates/leaflet_heat.min.js&quot;&gt;&lt;/script&gt;\n",
       "&lt;/head&gt;\n",
       "&lt;body&gt;\n",
       "    \n",
       "    \n",
       "            &lt;div class=&quot;folium-map&quot; id=&quot;map_23561c9b58b3a727a7e8e62c57606a72&quot; &gt;&lt;/div&gt;\n",
       "        \n",
       "&lt;/body&gt;\n",
       "&lt;script&gt;\n",
       "    \n",
       "    \n",
       "            var map_23561c9b58b3a727a7e8e62c57606a72 = L.map(\n",
       "                &quot;map_23561c9b58b3a727a7e8e62c57606a72&quot;,\n",
       "                {\n",
       "                    center: [15.0, -75.0],\n",
       "                    crs: L.CRS.EPSG3857,\n",
       "                    ...{\n",
       "  &quot;zoom&quot;: 5,\n",
       "  &quot;zoomControl&quot;: true,\n",
       "  &quot;preferCanvas&quot;: false,\n",
       "}\n",
       "\n",
       "                }\n",
       "            );\n",
       "\n",
       "            \n",
       "\n",
       "        \n",
       "    \n",
       "            var tile_layer_3cfdd6b5ec86275c98d5d99687d5b264 = L.tileLayer(\n",
       "                &quot;https://tile.openstreetmap.org/{z}/{x}/{y}.png&quot;,\n",
       "                {\n",
       "  &quot;minZoom&quot;: 0,\n",
       "  &quot;maxZoom&quot;: 19,\n",
       "  &quot;maxNativeZoom&quot;: 19,\n",
       "  &quot;noWrap&quot;: false,\n",
       "  &quot;attribution&quot;: &quot;\\u0026copy; \\u003ca href=\\&quot;https://www.openstreetmap.org/copyright\\&quot;\\u003eOpenStreetMap\\u003c/a\\u003e contributors&quot;,\n",
       "  &quot;subdomains&quot;: &quot;abc&quot;,\n",
       "  &quot;detectRetina&quot;: false,\n",
       "  &quot;tms&quot;: false,\n",
       "  &quot;opacity&quot;: 1,\n",
       "}\n",
       "\n",
       "            );\n",
       "        \n",
       "    \n",
       "            tile_layer_3cfdd6b5ec86275c98d5d99687d5b264.addTo(map_23561c9b58b3a727a7e8e62c57606a72);\n",
       "        \n",
       "    \n",
       "            var heat_map_7dcb0297044b32700de2076d1fdb7dad = L.heatLayer(\n",
       "                [[14.766667, -92.1, 1.0], [14.91157, -92.054893, 2.0], [14.932162, -92.005523, 1.0], [14.791944, -91.920556, 1.0], [14.930957, -91.909924, 2.0], [14.7, -91.866667, 5.0], [14.616667, -91.833333, 1.0], [14.965261, -91.795813, 3.0], [14.96833, -91.779497, 1.0], [15.492065, -91.76727, 1.0], [14.372734, -91.753882, 1.0], [14.78333, -91.75, 1.0], [14.791907, -91.71342, 3.0], [14.533333, -91.683333, 2.0], [15.587991, -91.676069, 3.0], [14.58177, -91.623867, 1.0], [14.916667, -91.616667, 4.0], [14.533333, -91.566667, 1.0], [14.041856, -91.527182, 3.0], [14.833333, -91.516667, 6.0], [14.545827, -91.514389, 1.0], [14.511189, -91.508761, 1.0], [14.533333, -91.5, 1.0], [15.319722, -91.47833, 1.0], [15.830597, -91.476114, 1.0], [14.449862, -91.422284, 1.0], [14.421598, -91.404825, 6.0], [14.979345, -91.400266, 1.0], [14.283333, -91.366667, 1.0], [14.912439, -91.359873, 1.0], [14.4, -91.3167, 1.0], [15.34356, -91.311667, 1.0], [14.552756, -91.305922, 1.0], [14.720907, -91.273457, 1.0], [14.70208, -91.2506, 1.0], [15.128333, -91.235556, 1.0], [14.638379, -91.230164, 1.0], [14.77312, -91.183037, 3.0], [14.740611, -91.159417, 1.0], [15.095278, -91.150833, 3.0], [15.03, -91.15, 2.0], [13.93, -91.146347, 1.0], [14.933333, -91.116667, 1.0], [15.289167, -91.089167, 2.0], [15.192778, -91.0775, 1.0], [15.487222, -91.034722, 2.0], [14.677811, -91.016696, 1.0], [14.333333, -91.016667, 1.0], [14.191091, -90.982067, 4.0], [14.563479, -90.982067, 1.0], [15.498381, -90.982067, 5.0], [14.5, -90.95, 1.0], [14.2308, -90.9472, 2.0], [15.925094, -90.914539, 1.0], [14.830935, -90.875799, 1.0], [14.38432, -90.872124, 1.0], [14.202778, -90.848889, 1.0], [13.925556, -90.824444, 1.0], [14.664657, -90.82171, 2.0], [14.781398, -90.792513, 1.0], [14.297778, -90.786944, 11.0], [14.526389, -90.759722, 1.0], [14.561111, -90.734444, 1.0], [14.403889, -90.698611, 1.0], [14.4875, -90.615278, 3.0], [14.526944, -90.5875, 2.0], [14.483333, -90.533333, 1.0], [14.622869, -90.529068, 253.0], [15.116667, -90.516667, 1.0], [14.568889, -90.495278, 1.0], [14.55, -90.45, 1.0], [14.546111, -90.411389, 1.0], [14.1928, -90.374835, 1.0], [15.4737, -90.372544, 4.0], [14.95, -90.366667, 1.0], [15.10336, -90.314079, 1.0], [14.277349, -90.303779, 3.0], [16.912033, -90.299578, 6.0], [14.38856, -90.295556, 1.0], [14.084167, -90.266111, 1.0], [15.398988, -90.229882, 1.0], [14.786319, -90.198581, 7.0], [16.525915, -90.189307, 1.0], [15.566667, -90.16667, 1.0], [13.87358, -90.093913, 1.0], [14.892164, -90.03732, 1.0], [16.8, -89.933333, 1.0], [16.916667, -89.9, 1.0], [14.292847, -89.899013, 2.0], [14.28418, -89.892811, 1.0], [13.921389, -89.845, 2.0], [16.8069, -89.8272, 1.0], [15.41705, -89.820602, 1.0], [14.449674, -89.742444, 1.0], [13.718889, -89.724167, 4.0], [13.703618, -89.715008, 1.0], [14.03333, -89.7, 1.0], [13.744722, -89.673556, 1.0], [15.046347, -89.584578, 1.0], [13.981479, -89.555717, 23.0], [14.8, -89.55, 2.0], [14.971912, -89.529025, 5.0], [13.945833, -89.525278, 1.0], [13.743611, -89.498889, 4.0], [13.902951, -89.496613, 1.0], [14.7515, -89.474218, 1.0], [16.141257, -89.465946, 1.0], [13.842778, -89.447222, 1.0], [14.331414, -89.442393, 3.0], [14.63558, -89.441467, 1.0], [14.411751, -89.434786, 1.0], [13.96174, -89.378229, 1.0], [13.732222, -89.374167, 1.0], [14.716106, -89.350899, 1.0], [13.488333, -89.322222, 1.0], [14.12458, -89.293171, 2.0], [13.58944, -89.28889, 1.0], [13.676944, -89.279722, 6.0], [13.835, -89.274444, 5.0], [13.66667, -89.26667, 1.0], [13.578556, -89.265278, 1.0], [13.58844, -89.236283, 2.0], [13.749722, -89.229722, 1.0], [13.808917, -89.228637, 2.0], [13.733353, -89.216671, 4.0], [13.749885, -89.199936, 2.0], [13.69288, -89.199161, 184.0], [13.957222, -89.189722, 4.0], [13.777778, -89.183611, 1.0], [13.79833, -89.17889, 3.0], [13.724167, -89.172778, 2.0], [14.191665, -89.1706, 3.0], [13.51667, -89.1667, 1.0], [13.701964, -89.147774, 7.0], [13.642778, -89.118333, 1.0], [13.607874, -89.095335, 3.0], [13.498952, -89.069988, 2.0], [13.866196, -89.056153, 1.0], [15.271814, -89.054968, 1.0], [13.738762, -89.054916, 1.0], [14.135781, -89.029769, 1.0], [13.933732, -89.025836, 2.0], [14.128582, -89.004787, 1.0], [13.8, -89.0, 1.0], [13.988966, -88.983862, 1.0], [13.738644, -88.979856, 1.0], [14.04111, -88.938568, 4.0], [13.716667, -88.933333, 2.0], [14.897797, -88.93153, 2.0], [14.176874, -88.920431, 1.0], [13.85077, -88.90406, 1.0], [13.888888, -88.901631, 1.0], [13.7, -88.9, 1.0], [13.505945, -88.897676, 2.0], [14.023538, -88.882685, 1.0], [13.5, -88.866667, 4.0], [13.886814, -88.858631, 1.0], [13.718815, -88.854604, 1.0], [13.85, -88.85, 2.0], [13.983333, -88.85, 1.0], [14.050173, -88.837704, 1.0], [15.708254, -88.829156, 1.0], [13.723215, -88.819097, 1.0], [13.649784, -88.808797, 2.0], [13.685155, -88.787642, 2.0], [13.64121, -88.785423, 8.0], [13.536835, -88.780584, 2.0], [13.755754, -88.73273, 1.0], [13.702621, -88.727772, 1.0], [13.833333, -88.716667, 1.0], [13.95, -88.633333, 1.0], [13.874575, -88.627779, 1.0], [13.316667, -88.583333, 1.0], [13.447063, -88.556531, 1.0], [13.49446, -88.530343, 1.0], [13.483333, -88.466667, 2.0], [13.344322, -88.437463, 2.0], [13.558889, -88.43, 1.0], [13.5, -88.35, 5.0], [15.050175, -88.307974, 1.0], [13.445104, -88.246118, 2.0], [13.916667, -88.233333, 1.0], [13.491242, -88.173134, 16.0], [13.663669, -88.172009, 1.0], [13.723925, -88.089839, 1.0], [13.772142, -88.07664, 1.0], [15.50167, -88.02774, 12.0], [13.697393, -88.007249, 2.0], [15.433, -87.917, 1.0], [13.624722, -87.893611, 1.0], [15.247344, -87.876903, 1.0], [13.336944, -87.843889, 1.0], [15.4, -87.8, 1.0], [13.791389, -87.716667, 1.0], [14.279014, -87.65688, 1.0], [14.454176, -87.643076, 1.0], [14.0833, -87.2167, 18.0], [12.62439, -87.129784, 1.0], [12.43257, -86.881204, 5.0], [13.42905, -86.804703, 1.0], [13.1355, -86.7855, 1.0], [12.051952, -86.70448, 1.0], [13.28841, -86.6554, 1.0], [14.0273, -86.568619, 1.0], [13.84316, -86.516276, 1.0], [13.4726, -86.459209, 1.0], [11.846315, -86.440233, 1.0], [13.41367, -86.398163, 1.0], [11.980467, -86.310774, 1.0], [12.57007, -86.27921, 1.0], [12.103822, -86.267014, 40.0], [14.666389, -86.218611, 2.0], [11.84962, -86.19903, 1.0], [12.931944, -86.195278, 1.0], [13.304902, -86.186265, 1.0], [13.31981, -86.14846, 1.0], [12.004722, -86.119444, 1.0], [11.96839, -86.094623, 1.0], [13.564251, -86.02984, 1.0], [13.564854, -86.028297, 1.0], [15.65397, -86.006172, 2.0], [15.657635, -85.996848, 1.0], [12.924807, -85.97294, 1.0], [12.919106, -85.916609, 1.0], [11.438887, -85.82685, 1.0], [13.62679, -85.8254, 1.0], [13.333325, -85.372013, 1.0], [14.066615, -85.299956, 1.0], [11.24243, -84.79098, 1.0], [14.446178, -84.575687, 1.0], [11.95697, -84.39476, 1.0], [11.132346, -84.355789, 1.0], [12.820224, -84.186631, 1.0], [9.933333, -84.083333, 1.0], [10.473523, -84.016742, 1.0], [14.233737, -83.538859, 1.0], [8.123103, -81.075466, 1.0], [8.994269, -79.518792, 3.0], [9.054911, -79.452106, 1.0], [18.466667, -77.916667, 1.0], [25.06, -77.345, 1.0], [18.021429, -76.798279, 6.0], [18.183333, -76.466667, 1.0], [18.225291, -73.822056, 1.0], [18.2, -73.75, 1.0], [19.883333, -72.833333, 1.0], [19.45, -72.683333, 1.0], [19.844442, -72.522701, 1.0], [18.495702, -72.473153, 2.0], [18.527716, -72.33284, 44.0], [19.677355, -72.269785, 1.0], [18.456792, -69.951164, 3.0], [18.454394, -69.301685, 1.0], [12.218537, -61.638107, 2.0], [10.666667, -61.516667, 2.0], [10.294609, -61.445818, 1.0], [10.783318, -61.388235, 1.0], [10.79765, -61.310408, 1.0], [16.304352, -61.072838, 1.0]],\n",
       "                {\n",
       "  &quot;minOpacity&quot;: 0.5,\n",
       "  &quot;maxZoom&quot;: 18,\n",
       "  &quot;radius&quot;: 25,\n",
       "  &quot;blur&quot;: 15,\n",
       "}\n",
       "            );\n",
       "        \n",
       "    \n",
       "            heat_map_7dcb0297044b32700de2076d1fdb7dad.addTo(map_23561c9b58b3a727a7e8e62c57606a72);\n",
       "        \n",
       "&lt;/script&gt;\n",
       "&lt;/html&gt;\" style=\"position:absolute;width:100%;height:100%;left:0;top:0;border:none !important;\" allowfullscreen webkitallowfullscreen mozallowfullscreen></iframe></div></div>"
      ],
      "text/plain": [
       "<folium.folium.Map at 0x26c87564c50>"
      ]
     },
     "execution_count": 81,
     "metadata": {},
     "output_type": "execute_result"
    }
   ],
   "source": [
    "m5"
   ]
  },
  {
   "cell_type": "code",
   "execution_count": null,
   "id": "8f2c6f11-ed37-4ffc-97f4-1b990458f8aa",
   "metadata": {},
   "outputs": [],
   "source": []
  },
  {
   "cell_type": "markdown",
   "id": "eb940578-f3bd-45d7-8f74-15efb597bda0",
   "metadata": {},
   "source": [
    "<h1>Insight 6: Terrorism in East Asia from 1995 to 2015\n",
    "\n",
    "</h1>"
   ]
  },
  {
   "cell_type": "code",
   "execution_count": 88,
   "id": "f4283327-fbbb-4677-a29a-1b92c654005c",
   "metadata": {},
   "outputs": [],
   "source": [
    "filter1 = df[df['region_txt'] == 'East Asia']"
   ]
  },
  {
   "cell_type": "code",
   "execution_count": 89,
   "id": "5a771f93-20b7-4467-bd42-0cec892b74ae",
   "metadata": {},
   "outputs": [],
   "source": [
    "filter2 = filter1[(filter1['iyear'] >= 1995) & (filter1['iyear'] <= 2015)]"
   ]
  },
  {
   "cell_type": "code",
   "execution_count": 90,
   "id": "41ed8dfb-986d-4f2d-8eef-851bfe7efd42",
   "metadata": {},
   "outputs": [],
   "source": [
    "EA_terror = filter2.groupby(['longitude', 'latitude']).size().reset_index(name='incident_count')"
   ]
  },
  {
   "cell_type": "code",
   "execution_count": 91,
   "id": "3d63938d-9807-48a4-8dd4-db0ff726a962",
   "metadata": {},
   "outputs": [
    {
     "data": {
      "text/plain": [
       "<folium.plugins.heat_map.HeatMap at 0x26c87533b60>"
      ]
     },
     "execution_count": 91,
     "metadata": {},
     "output_type": "execute_result"
    }
   ],
   "source": [
    "m6 = folium.Map(location=[35, 120], zoom_start=4)\n",
    "HeatMap(EA_terror[['latitude', 'longitude', 'incident_count']].values.tolist()).add_to(m6)"
   ]
  },
  {
   "cell_type": "code",
   "execution_count": 92,
   "id": "e4736d7d-1c47-4167-b552-f814c377fc28",
   "metadata": {},
   "outputs": [
    {
     "data": {
      "text/html": [
       "<div style=\"width:100%;\"><div style=\"position:relative;width:100%;height:0;padding-bottom:60%;\"><span style=\"color:#565656\">Make this Notebook Trusted to load map: File -> Trust Notebook</span><iframe srcdoc=\"&lt;!DOCTYPE html&gt;\n",
       "&lt;html&gt;\n",
       "&lt;head&gt;\n",
       "    \n",
       "    &lt;meta http-equiv=&quot;content-type&quot; content=&quot;text/html; charset=UTF-8&quot; /&gt;\n",
       "    \n",
       "        &lt;script&gt;\n",
       "            L_NO_TOUCH = false;\n",
       "            L_DISABLE_3D = false;\n",
       "        &lt;/script&gt;\n",
       "    \n",
       "    &lt;style&gt;html, body {width: 100%;height: 100%;margin: 0;padding: 0;}&lt;/style&gt;\n",
       "    &lt;style&gt;#map {position:absolute;top:0;bottom:0;right:0;left:0;}&lt;/style&gt;\n",
       "    &lt;script src=&quot;https://cdn.jsdelivr.net/npm/leaflet@1.9.3/dist/leaflet.js&quot;&gt;&lt;/script&gt;\n",
       "    &lt;script src=&quot;https://code.jquery.com/jquery-3.7.1.min.js&quot;&gt;&lt;/script&gt;\n",
       "    &lt;script src=&quot;https://cdn.jsdelivr.net/npm/bootstrap@5.2.2/dist/js/bootstrap.bundle.min.js&quot;&gt;&lt;/script&gt;\n",
       "    &lt;script src=&quot;https://cdnjs.cloudflare.com/ajax/libs/Leaflet.awesome-markers/2.0.2/leaflet.awesome-markers.js&quot;&gt;&lt;/script&gt;\n",
       "    &lt;link rel=&quot;stylesheet&quot; href=&quot;https://cdn.jsdelivr.net/npm/leaflet@1.9.3/dist/leaflet.css&quot;/&gt;\n",
       "    &lt;link rel=&quot;stylesheet&quot; href=&quot;https://cdn.jsdelivr.net/npm/bootstrap@5.2.2/dist/css/bootstrap.min.css&quot;/&gt;\n",
       "    &lt;link rel=&quot;stylesheet&quot; href=&quot;https://netdna.bootstrapcdn.com/bootstrap/3.0.0/css/bootstrap-glyphicons.css&quot;/&gt;\n",
       "    &lt;link rel=&quot;stylesheet&quot; href=&quot;https://cdn.jsdelivr.net/npm/@fortawesome/fontawesome-free@6.2.0/css/all.min.css&quot;/&gt;\n",
       "    &lt;link rel=&quot;stylesheet&quot; href=&quot;https://cdnjs.cloudflare.com/ajax/libs/Leaflet.awesome-markers/2.0.2/leaflet.awesome-markers.css&quot;/&gt;\n",
       "    &lt;link rel=&quot;stylesheet&quot; href=&quot;https://cdn.jsdelivr.net/gh/python-visualization/folium/folium/templates/leaflet.awesome.rotate.min.css&quot;/&gt;\n",
       "    \n",
       "            &lt;meta name=&quot;viewport&quot; content=&quot;width=device-width,\n",
       "                initial-scale=1.0, maximum-scale=1.0, user-scalable=no&quot; /&gt;\n",
       "            &lt;style&gt;\n",
       "                #map_6eb2d9679b1b12d42f0fa48f5e944b30 {\n",
       "                    position: relative;\n",
       "                    width: 100.0%;\n",
       "                    height: 100.0%;\n",
       "                    left: 0.0%;\n",
       "                    top: 0.0%;\n",
       "                }\n",
       "                .leaflet-container { font-size: 1rem; }\n",
       "            &lt;/style&gt;\n",
       "        \n",
       "    &lt;script src=&quot;https://cdn.jsdelivr.net/gh/python-visualization/folium@main/folium/templates/leaflet_heat.min.js&quot;&gt;&lt;/script&gt;\n",
       "&lt;/head&gt;\n",
       "&lt;body&gt;\n",
       "    \n",
       "    \n",
       "            &lt;div class=&quot;folium-map&quot; id=&quot;map_6eb2d9679b1b12d42f0fa48f5e944b30&quot; &gt;&lt;/div&gt;\n",
       "        \n",
       "&lt;/body&gt;\n",
       "&lt;script&gt;\n",
       "    \n",
       "    \n",
       "            var map_6eb2d9679b1b12d42f0fa48f5e944b30 = L.map(\n",
       "                &quot;map_6eb2d9679b1b12d42f0fa48f5e944b30&quot;,\n",
       "                {\n",
       "                    center: [35.0, 120.0],\n",
       "                    crs: L.CRS.EPSG3857,\n",
       "                    ...{\n",
       "  &quot;zoom&quot;: 4,\n",
       "  &quot;zoomControl&quot;: true,\n",
       "  &quot;preferCanvas&quot;: false,\n",
       "}\n",
       "\n",
       "                }\n",
       "            );\n",
       "\n",
       "            \n",
       "\n",
       "        \n",
       "    \n",
       "            var tile_layer_ad56df03ee8da624ef20b1182f9aa3e7 = L.tileLayer(\n",
       "                &quot;https://tile.openstreetmap.org/{z}/{x}/{y}.png&quot;,\n",
       "                {\n",
       "  &quot;minZoom&quot;: 0,\n",
       "  &quot;maxZoom&quot;: 19,\n",
       "  &quot;maxNativeZoom&quot;: 19,\n",
       "  &quot;noWrap&quot;: false,\n",
       "  &quot;attribution&quot;: &quot;\\u0026copy; \\u003ca href=\\&quot;https://www.openstreetmap.org/copyright\\&quot;\\u003eOpenStreetMap\\u003c/a\\u003e contributors&quot;,\n",
       "  &quot;subdomains&quot;: &quot;abc&quot;,\n",
       "  &quot;detectRetina&quot;: false,\n",
       "  &quot;tms&quot;: false,\n",
       "  &quot;opacity&quot;: 1,\n",
       "}\n",
       "\n",
       "            );\n",
       "        \n",
       "    \n",
       "            tile_layer_ad56df03ee8da624ef20b1182f9aa3e7.addTo(map_6eb2d9679b1b12d42f0fa48f5e944b30);\n",
       "        \n",
       "    \n",
       "            var heat_map_cb24096c32cf97aba4862e2ee405e48d = L.heatLayer(\n",
       "                [[39.702547, 75.187923, 1.0], [39.51953, 75.94243, 1.0], [39.463938, 75.987303, 1.0], [39.46616, 75.989641, 1.0], [39.4704, 75.989755, 5.0], [39.470107, 75.989761, 1.0], [39.469409, 75.990067, 1.0], [39.438028, 76.450035, 1.0], [38.414217, 77.245761, 2.0], [38.414079, 77.245805, 1.0], [38.41423, 77.245807, 4.0], [38.430134, 77.256216, 1.0], [38.709876, 77.370471, 1.0], [37.883071, 77.413693, 1.0], [37.882919, 77.413795, 1.0], [37.883132, 77.414109, 1.0], [37.880598, 77.417292, 1.0], [37.62145, 78.283669, 1.0], [39.795157, 78.56193, 1.0], [41.184255, 79.145401, 1.0], [41.244772, 79.342833, 1.0], [37.05852, 79.456966, 1.0], [37.1875, 79.607222, 1.0], [37.277499, 79.72932, 1.0], [37.11384, 79.922001, 1.0], [37.114157, 79.922211, 4.0], [37.114158, 79.922211, 1.0], [37.113704, 79.922407, 1.0], [37.114156, 79.92298, 1.0], [37.105643, 79.944234, 1.0], [41.276777, 80.238959, 1.0], [41.168779, 80.260605, 1.0], [41.168126, 80.26679, 1.0], [31.719386, 80.287588, 2.0], [43.910881, 81.318657, 1.0], [43.977138, 81.527454, 1.0], [42.000923, 81.532828, 1.0], [41.244772, 81.594601, 4.0], [41.717906, 82.962016, 1.0], [41.776387, 84.250957, 4.0], [45.579889, 84.889207, 1.0], [44.426529, 84.903267, 2.0], [43.801097, 87.595828, 1.0], [43.825645, 87.616823, 8.0], [43.825592, 87.616848, 1.0], [43.825427, 87.617762, 1.0], [43.793025, 87.627704, 1.0], [43.793028, 87.627812, 51.0], [42.864288, 90.218627, 1.0], [42.864291, 90.218627, 5.0], [29.657978, 91.1011, 2.0], [31.140969, 97.17202, 1.0], [31.622841, 99.992607, 1.0], [36.61606, 101.779142, 1.0], [25.046078, 102.653562, 1.0], [25.015306, 102.722004, 1.0], [25.037721, 102.722202, 3.0], [27.338257, 103.717465, 1.0], [30.658601, 104.064856, 5.0], [31.097665, 105.090611, 1.0], [38.487194, 106.230909, 1.0], [29.56301, 106.551557, 1.0], [26.581159, 107.981186, 1.0], [34.341104, 108.941203, 1.0], [34.264987, 108.944269, 3.0], [24.370416, 109.379601, 1.0], [39.564696, 109.747881, 1.0], [27.554978, 109.998488, 1.0], [22.636352, 110.165112, 1.0], [28.006343, 110.183928, 1.0], [25.273566, 110.290195, 1.0], [20.017378, 110.349229, 1.0], [21.270689, 110.359462, 2.0], [21.19172, 110.39807, 1.0], [40.824868, 111.757895, 1.0], [37.87059, 112.548879, 1.0], [31.16782, 112.588121, 1.0], [22.578738, 113.081901, 3.0], [23.126288, 113.262464, 1.0], [23.129192, 113.264206, 1.0], [23.129163, 113.264435, 2.0], [23.135618, 113.301859, 1.0], [22.192266, 113.547631, 31.0], [22.19328, 113.548296, 1.0], [22.156341, 113.552772, 1.0], [34.746611, 113.625355, 2.0], [22.39159, 113.97092, 1.0], [22.444469, 114.0258, 1.0], [22.542601, 114.057612, 1.0], [22.543099, 114.057868, 3.0], [22.281867, 114.161326, 5.0], [22.32047, 114.171905, 3.0], [22.315219, 114.172464, 1.0], [22.265228, 114.238384, 1.0], [30.593087, 114.305357, 3.0], [33.73426, 114.888501, 1.0], [35.23375, 115.480656, 1.0], [39.903948, 116.391805, 1.0], [39.905556, 116.395833, 10.0], [35.962798, 116.685184, 1.0], [28.292519, 117.245497, 1.0], [24.479836, 118.08942, 1.0], [24.436667, 118.318333, 1.0], [36.684528, 118.479622, 1.0], [39.935377, 119.600492, 2.0], [29.306841, 120.075058, 1.0], [22.983333, 120.183333, 1.0], [23.700122, 120.200283, 1.0], [22.617778, 120.301389, 3.0], [36.06722, 120.382504, 1.0], [37.646312, 120.478149, 1.0], [24.803596, 120.964398, 1.0], [24.25692, 121.262332, 2.0], [31.375602, 121.2653, 1.0], [28.562222, 121.428611, 1.0], [24.9667, 121.433, 1.0], [31.220379, 121.482907, 1.0], [31.231763, 121.484443, 3.0], [25.042141, 121.519872, 1.0], [25.091075, 121.559834, 6.0], [25.033333, 121.633333, 1.0], [46.412161, 125.331597, 1.0], [45.742012, 126.618326, 1.0], [37.456256, 126.705206, 1.0], [35.731566, 126.733465, 1.0], [35.159545, 126.852601, 1.0], [37.572525, 126.975643, 1.0], [37.566535, 126.977969, 4.0], [26.245816, 127.721799, 1.0], [35.871435, 128.601445, 1.0], [33.580412, 130.396361, 1.0], [33.559706, 133.531079, 1.0], [34.07027, 134.554844, 1.0], [35.181446, 136.906398, 1.0], [36.311364, 139.19677, 1.0], [35.73845, 139.326932, 2.0], [35.733193, 139.341805, 1.0], [35.493418, 139.397464, 1.0], [35.698414, 139.423391, 1.0], [35.700489, 139.487034, 1.0], [35.443708, 139.638026, 5.0], [35.281341, 139.6722, 1.0], [35.689125, 139.747742, 41.0], [35.680432, 140.026526, 2.0], [35.607221, 140.10627, 2.0], [35.979375, 140.149524, 1.0], [35.361088, 140.319273, 1.0], [35.772163, 140.321777, 4.0], [36.46667, 140.56667, 1.0], [41.768793, 140.72881, 1.0], [43.090751, 141.3402, 1.0], [43.090744, 141.340726, 2.0], [43.090982, 141.342221, 1.0], [43.096483, 141.342838, 1.0]],\n",
       "                {\n",
       "  &quot;minOpacity&quot;: 0.5,\n",
       "  &quot;maxZoom&quot;: 18,\n",
       "  &quot;radius&quot;: 25,\n",
       "  &quot;blur&quot;: 15,\n",
       "}\n",
       "            );\n",
       "        \n",
       "    \n",
       "            heat_map_cb24096c32cf97aba4862e2ee405e48d.addTo(map_6eb2d9679b1b12d42f0fa48f5e944b30);\n",
       "        \n",
       "&lt;/script&gt;\n",
       "&lt;/html&gt;\" style=\"position:absolute;width:100%;height:100%;left:0;top:0;border:none !important;\" allowfullscreen webkitallowfullscreen mozallowfullscreen></iframe></div></div>"
      ],
      "text/plain": [
       "<folium.folium.Map at 0x26c87565950>"
      ]
     },
     "execution_count": 92,
     "metadata": {},
     "output_type": "execute_result"
    }
   ],
   "source": [
    "m6"
   ]
  },
  {
   "cell_type": "code",
   "execution_count": null,
   "id": "1d4869b1-d37f-49cd-8e84-78362c2cab36",
   "metadata": {},
   "outputs": [],
   "source": []
  },
  {
   "cell_type": "code",
   "execution_count": null,
   "id": "9358e5eb-e167-4d0b-a62e-80a020b184be",
   "metadata": {},
   "outputs": [],
   "source": []
  },
  {
   "cell_type": "markdown",
   "id": "6e88a175-b7ea-4953-9307-7236717e032a",
   "metadata": {},
   "source": [
    "<h1>Insight 7: Hostage Incidents in South America\n",
    "</h1>"
   ]
  },
  {
   "cell_type": "code",
   "execution_count": 94,
   "id": "e23c5a82-bc35-404e-8a76-7acbc88ae789",
   "metadata": {},
   "outputs": [],
   "source": [
    "filter1 = df[df['region_txt'] == 'South America']\n"
   ]
  },
  {
   "cell_type": "code",
   "execution_count": 95,
   "id": "573aa710-3a17-4408-a698-fc947af57031",
   "metadata": {},
   "outputs": [],
   "source": [
    "filter2 = filter1[filter1['attacktype1_txt'].str.contains('Hostage')]"
   ]
  },
  {
   "cell_type": "code",
   "execution_count": 96,
   "id": "122fd9df-6413-4570-9cde-17477b93fcb1",
   "metadata": {},
   "outputs": [],
   "source": [
    "SA_hostage = filter2.groupby(['longitude', 'latitude']).size().reset_index(name='incident_count')"
   ]
  },
  {
   "cell_type": "code",
   "execution_count": 97,
   "id": "debca9b0-518f-4571-b3b9-d684126f20ab",
   "metadata": {},
   "outputs": [
    {
     "data": {
      "text/plain": [
       "<folium.plugins.heat_map.HeatMap at 0x26c8769af30>"
      ]
     },
     "execution_count": 97,
     "metadata": {},
     "output_type": "execute_result"
    }
   ],
   "source": [
    "m7 = folium.Map(location=[-10, -60], zoom_start=4)\n",
    "HeatMap(SA_hostage[['latitude', 'longitude', 'incident_count']].values.tolist()).add_to(m7)"
   ]
  },
  {
   "cell_type": "code",
   "execution_count": 98,
   "id": "6db11b35-40ee-4748-bd2e-b466cb57876f",
   "metadata": {},
   "outputs": [
    {
     "data": {
      "text/html": [
       "<div style=\"width:100%;\"><div style=\"position:relative;width:100%;height:0;padding-bottom:60%;\"><span style=\"color:#565656\">Make this Notebook Trusted to load map: File -> Trust Notebook</span><iframe srcdoc=\"&lt;!DOCTYPE html&gt;\n",
       "&lt;html&gt;\n",
       "&lt;head&gt;\n",
       "    \n",
       "    &lt;meta http-equiv=&quot;content-type&quot; content=&quot;text/html; charset=UTF-8&quot; /&gt;\n",
       "    \n",
       "        &lt;script&gt;\n",
       "            L_NO_TOUCH = false;\n",
       "            L_DISABLE_3D = false;\n",
       "        &lt;/script&gt;\n",
       "    \n",
       "    &lt;style&gt;html, body {width: 100%;height: 100%;margin: 0;padding: 0;}&lt;/style&gt;\n",
       "    &lt;style&gt;#map {position:absolute;top:0;bottom:0;right:0;left:0;}&lt;/style&gt;\n",
       "    &lt;script src=&quot;https://cdn.jsdelivr.net/npm/leaflet@1.9.3/dist/leaflet.js&quot;&gt;&lt;/script&gt;\n",
       "    &lt;script src=&quot;https://code.jquery.com/jquery-3.7.1.min.js&quot;&gt;&lt;/script&gt;\n",
       "    &lt;script src=&quot;https://cdn.jsdelivr.net/npm/bootstrap@5.2.2/dist/js/bootstrap.bundle.min.js&quot;&gt;&lt;/script&gt;\n",
       "    &lt;script src=&quot;https://cdnjs.cloudflare.com/ajax/libs/Leaflet.awesome-markers/2.0.2/leaflet.awesome-markers.js&quot;&gt;&lt;/script&gt;\n",
       "    &lt;link rel=&quot;stylesheet&quot; href=&quot;https://cdn.jsdelivr.net/npm/leaflet@1.9.3/dist/leaflet.css&quot;/&gt;\n",
       "    &lt;link rel=&quot;stylesheet&quot; href=&quot;https://cdn.jsdelivr.net/npm/bootstrap@5.2.2/dist/css/bootstrap.min.css&quot;/&gt;\n",
       "    &lt;link rel=&quot;stylesheet&quot; href=&quot;https://netdna.bootstrapcdn.com/bootstrap/3.0.0/css/bootstrap-glyphicons.css&quot;/&gt;\n",
       "    &lt;link rel=&quot;stylesheet&quot; href=&quot;https://cdn.jsdelivr.net/npm/@fortawesome/fontawesome-free@6.2.0/css/all.min.css&quot;/&gt;\n",
       "    &lt;link rel=&quot;stylesheet&quot; href=&quot;https://cdnjs.cloudflare.com/ajax/libs/Leaflet.awesome-markers/2.0.2/leaflet.awesome-markers.css&quot;/&gt;\n",
       "    &lt;link rel=&quot;stylesheet&quot; href=&quot;https://cdn.jsdelivr.net/gh/python-visualization/folium/folium/templates/leaflet.awesome.rotate.min.css&quot;/&gt;\n",
       "    \n",
       "            &lt;meta name=&quot;viewport&quot; content=&quot;width=device-width,\n",
       "                initial-scale=1.0, maximum-scale=1.0, user-scalable=no&quot; /&gt;\n",
       "            &lt;style&gt;\n",
       "                #map_720e528bb532b0f8053a6c1b007f2b4a {\n",
       "                    position: relative;\n",
       "                    width: 100.0%;\n",
       "                    height: 100.0%;\n",
       "                    left: 0.0%;\n",
       "                    top: 0.0%;\n",
       "                }\n",
       "                .leaflet-container { font-size: 1rem; }\n",
       "            &lt;/style&gt;\n",
       "        \n",
       "    &lt;script src=&quot;https://cdn.jsdelivr.net/gh/python-visualization/folium@main/folium/templates/leaflet_heat.min.js&quot;&gt;&lt;/script&gt;\n",
       "&lt;/head&gt;\n",
       "&lt;body&gt;\n",
       "    \n",
       "    \n",
       "            &lt;div class=&quot;folium-map&quot; id=&quot;map_720e528bb532b0f8053a6c1b007f2b4a&quot; &gt;&lt;/div&gt;\n",
       "        \n",
       "&lt;/body&gt;\n",
       "&lt;script&gt;\n",
       "    \n",
       "    \n",
       "            var map_720e528bb532b0f8053a6c1b007f2b4a = L.map(\n",
       "                &quot;map_720e528bb532b0f8053a6c1b007f2b4a&quot;,\n",
       "                {\n",
       "                    center: [-10.0, -60.0],\n",
       "                    crs: L.CRS.EPSG3857,\n",
       "                    ...{\n",
       "  &quot;zoom&quot;: 4,\n",
       "  &quot;zoomControl&quot;: true,\n",
       "  &quot;preferCanvas&quot;: false,\n",
       "}\n",
       "\n",
       "                }\n",
       "            );\n",
       "\n",
       "            \n",
       "\n",
       "        \n",
       "    \n",
       "            var tile_layer_188ffd90521f7a65da9d305018f3b0d9 = L.tileLayer(\n",
       "                &quot;https://tile.openstreetmap.org/{z}/{x}/{y}.png&quot;,\n",
       "                {\n",
       "  &quot;minZoom&quot;: 0,\n",
       "  &quot;maxZoom&quot;: 19,\n",
       "  &quot;maxNativeZoom&quot;: 19,\n",
       "  &quot;noWrap&quot;: false,\n",
       "  &quot;attribution&quot;: &quot;\\u0026copy; \\u003ca href=\\&quot;https://www.openstreetmap.org/copyright\\&quot;\\u003eOpenStreetMap\\u003c/a\\u003e contributors&quot;,\n",
       "  &quot;subdomains&quot;: &quot;abc&quot;,\n",
       "  &quot;detectRetina&quot;: false,\n",
       "  &quot;tms&quot;: false,\n",
       "  &quot;opacity&quot;: 1,\n",
       "}\n",
       "\n",
       "            );\n",
       "        \n",
       "    \n",
       "            tile_layer_188ffd90521f7a65da9d305018f3b0d9.addTo(map_720e528bb532b0f8053a6c1b007f2b4a);\n",
       "        \n",
       "    \n",
       "            var heat_map_0722cabae478a6b896ed8a349fb3832d = L.heatLayer(\n",
       "                [[-3.258795, -79.959485, 1.0], [-2.170832, -79.922359, 5.0], [-6.704125, -79.906227, 2.0], [-6.774056, -79.843559, 1.0], [-6.779131, -79.83942, 1.0], [0.968179, -79.65172, 2.0], [-8.111825, -79.02866, 1.0], [1.806831, -78.764395, 1.0], [0.06217, -78.68196, 1.0], [-9.0634, -78.583605, 1.0], [-9.06493, -78.579683, 1.0], [1.4, -78.566667, 1.0], [-0.211188, -78.522629, 13.0], [-7.159038, -78.513379, 1.0], [-9.147417, -78.280093, 1.0], [0.270278, -78.276667, 1.0], [1.932346, -78.2, 1.0], [1.67155, -78.14099, 3.0], [1.67304, -78.137385, 1.0], [-2.305106, -78.114687, 1.0], [1.210589, -77.993327, 1.0], [2.45051, -77.98001, 1.0], [-9.55916, -77.890553, 1.0], [1.642231, -77.816391, 1.0], [0.908611, -77.791389, 1.0], [7.10577, -77.76488, 1.0], [1.044818, -77.746594, 1.0], [1.637898, -77.745208, 4.0], [0.962302, -77.732459, 1.0], [-11.122722, -77.610568, 1.0], [-9.529924, -77.5288, 2.0], [1.29873, -77.4066, 1.0], [6.22592, -77.40383, 1.0], [1.869644, -77.370433, 1.0], [8.663611, -77.365, 1.0], [3.908223, -77.357743, 1.0], [2.243056, -77.278611, 1.0], [1.207787, -77.2772, 1.0], [1.907192, -77.263248, 1.0], [2.34071, -77.23162, 1.0], [2.03955, -77.21702, 1.0], [1.50312, -77.215513, 1.0], [-11.495531, -77.207192, 1.0], [-10.31697, -77.186477, 1.0], [-9.34736, -77.170903, 1.0], [1.801428, -77.168663, 1.0], [1.803799, -77.168663, 1.0], [6.067805, -77.164991, 1.0], [1.38245, -77.15621, 1.0], [1.47321, -77.137207, 1.0], [-12.050934, -77.126044, 1.0], [-12.050981, -77.125985, 1.0], [7.440534, -77.118906, 3.0], [1.42591, -77.09727, 1.0], [8.04053, -77.09336, 1.0], [3.88182, -77.07042, 3.0], [2.243589, -77.010385, 5.0], [1.14646, -77.00389, 1.0], [7.666672, -76.999989, 1.0], [5.52683, -76.99174, 1.0], [-11.967368, -76.978462, 65.0], [-6.034766, -76.973892, 1.0], [1.18963, -76.97333, 1.0], [7.653333, -76.960278, 1.0], [2.364966, -76.955889, 1.0], [-9.037801, -76.952581, 1.0], [1.2053, -76.91619, 1.0], [0.342871, -76.909656, 1.0], [0.42529, -76.90507, 1.0], [-12.00603, -76.904107, 1.0], [0.663285, -76.870705, 1.0], [1.914607, -76.856943, 1.0], [2.704981, -76.825965, 1.0], [5.252803, -76.825965, 6.0], [5.245764, -76.821361, 1.0], [2.44993, -76.80785, 1.0], [2.449942, -76.807846, 1.0], [2.449953, -76.807846, 1.0], [-11.975814, -76.7699, 1.0], [2.261312, -76.74142, 1.0], [-12.517373, -76.73399, 1.0], [8.09242, -76.72738, 2.0], [-7.180183, -76.726445, 1.0], [2.95258, -76.69297, 1.0], [3.656667, -76.688333, 2.0], [5.160743, -76.685161, 1.0], [2.35217, -76.68408, 1.0], [7.6676, -76.6803, 1.0], [5.7, -76.666667, 1.0], [5.69224, -76.658093, 3.0], [5.692272, -76.65809, 1.0], [5.054354, -76.649505, 1.0], [5.582507, -76.648491, 1.0], [-0.186449, -76.646968, 1.0], [7.46778, -76.64501, 1.0], [3.018782, -76.643934, 1.0], [3.800889, -76.641271, 5.0], [7.99221, -76.63719, 1.0], [2.633519, -76.632228, 1.0], [7.882318, -76.630626, 3.0], [2.756736, -76.629934, 3.0], [2.44532, -76.60791, 1.0], [4.955156, -76.607057, 1.0], [2.44186, -76.60617, 9.0], [1.233333, -76.6, 1.0], [3.382969, -76.586423, 1.0], [1.700854, -76.572882, 5.0], [2.62241, -76.56961, 1.0], [-7.294167, -76.568611, 1.0], [7.745807, -76.556143, 1.0], [3.684798, -76.530044, 1.0], [2.86001, -76.52746, 1.0], [3.420701, -76.522118, 1.0], [3.429344, -76.516037, 32.0], [0.49765, -76.49768, 1.0], [0.497603, -76.497567, 1.0], [2.206874, -76.497229, 1.0], [3.583748, -76.495727, 1.0], [3.579001, -76.495065, 1.0], [3.041097, -76.49379, 1.0], [3.00879, -76.4859, 1.0], [3.012639, -76.482881, 1.0], [3.010941, -76.481032, 1.0], [7.243889, -76.435556, 2.0], [-11.820833, -76.433333, 1.0], [8.85017, -76.42671, 1.0], [3.228717, -76.419306, 2.0], [5.31112, -76.415456, 1.0], [3.035795, -76.408327, 1.0], [4.983, -76.400181, 1.0], [4.45556, -76.38948, 1.0], [3.132777, -76.383991, 1.0], [8.283333, -76.383333, 1.0], [2.61091, -76.37917, 2.0], [6.908832, -76.359358, 1.0], [1.114769, -76.319946, 1.0], [4.21238, -76.31923, 1.0], [2.85, -76.316667, 2.0], [3.22425, -76.31368, 1.0], [3.68415, -76.31235, 1.0], [3.899723, -76.302032, 1.0], [3.529901, -76.298006, 1.0], [1.901309, -76.28312, 1.0], [-0.145228, -76.271083, 1.0], [2.95485, -76.26825, 1.0], [-10.680652, -76.259918, 3.0], [3.173882, -76.259454, 1.0], [6.80449, -76.24752, 1.0], [3.322222, -76.234722, 5.0], [4.966667, -76.233333, 1.0], [3.400074, -76.23285, 1.0], [3.253279, -76.228219, 1.0], [3.250582, -76.227643, 1.0], [4.76142, -76.221947, 1.0], [1.931356, -76.214635, 1.0], [4.086546, -76.199626, 1.0], [4.085809, -76.197188, 1.0], [6.898522, -76.17332, 3.0], [2.720015, -76.148408, 1.0], [8.25749, -76.14641, 1.0], [1.891667, -76.145556, 1.0], [5.898954, -76.141954, 1.0], [6.31609, -76.13397, 1.0], [4.72288, -76.11931, 1.0], [4.53581, -76.10659, 2.0], [-0.879091, -76.085601, 1.0], [2.55168, -76.06517, 1.0], [8.173611, -76.059167, 3.0], [2.728989, -76.050909, 1.0], [1.851988, -76.046976, 4.0], [4.522335, -76.036389, 1.0], [4.99243, -76.01866, 1.0], [5.004875, -76.003109, 1.0], [-9.297478, -75.996312, 2.0], [-11.161067, -75.99309, 1.0], [8.111382, -75.98551, 1.0], [1.3325, -75.97608, 1.0], [4.57432, -75.97467, 1.0], [-9.40947, -75.971723, 1.0], [4.74871, -75.91319, 1.0], [-12.563573, -75.907309, 1.0], [6.719613, -75.907029, 1.0], [8.402925, -75.899867, 7.0], [2.3889, -75.89255, 1.0], [8.749996, -75.883346, 2.0], [1.41608, -75.87266, 1.0], [9.781757, -75.872394, 1.0], [5.20115, -75.868, 1.0], [4.809979, -75.849038, 1.0], [5.657909, -75.837417, 1.0], [5.59931, -75.81935, 1.0], [6.67786, -75.81146, 1.0], [8.881792, -75.796192, 1.0], [4.2045, -75.79185, 1.0], [5.08414, -75.7903, 1.0], [5.31723, -75.78713, 1.0], [-0.2004, -75.771433, 1.0], [7.172043, -75.763873, 1.0], [7.058333, -75.76198, 1.0], [7.237485, -75.75883, 1.0], [5.337522, -75.729304, 1.0], [4.528694, -75.703846, 2.0], [6.97125, -75.69982, 1.0], [4.814278, -75.694558, 8.0], [5.927075, -75.671684, 1.0], [4.837712, -75.66807, 1.0], [4.5295, -75.64021, 2.0], [2.64934, -75.636802, 1.0], [6.09188, -75.63615, 1.0], [2.19673, -75.62909, 2.0], [-13.036977, -75.609233, 1.0], [1.61456, -75.6053, 8.0], [4.98457, -75.60488, 1.0], [2.936848, -75.586642, 1.0], [8.408869, -75.581913, 1.0], [6.270526, -75.572173, 4.0], [6.2675, -75.568611, 9.0], [6.242026, -75.564766, 42.0], [2.38855, -75.546796, 1.0], [1.72651, -75.54453, 1.0], [5.865618, -75.534273, 1.0], [10.413711, -75.533549, 3.0], [0.435951, -75.52767, 2.0], [2.535935, -75.52767, 3.0], [6.828333, -75.513056, 6.0], [8.50099, -75.50833, 2.0], [6.34593, -75.50811, 1.0], [1.28978, -75.50634, 1.0], [5.059097, -75.50596, 1.0], [5.25001, -75.50003, 2.0], [3.915374, -75.480427, 1.0], [3.91272, -75.47591, 1.0], [6.37728, -75.44612, 1.0], [1.47888, -75.43724, 2.0], [5.790365, -75.428333, 1.0], [4.442138, -75.426905, 1.0], [7.98092, -75.41919, 2.0], [6.96316, -75.41732, 2.0], [7.527234, -75.411744, 1.0], [7.579405, -75.400101, 1.0], [9.30535, -75.3978, 2.0], [7.289972, -75.392693, 1.0], [7.29117, -75.39215, 1.0], [6.153669, -75.37416, 5.0], [10.55, -75.366667, 1.0], [5.973652, -75.361345, 1.0], [7.57649, -75.350334, 1.0], [7.198606, -75.341218, 15.0], [6.885714, -75.335003, 1.0], [6.43711, -75.3313, 2.0], [-11.056033, -75.328236, 1.0], [5.88423, -75.31635, 1.0], [5.70905, -75.31102, 1.0], [7.44813, -75.31076, 1.0], [9.98161, -75.30104, 1.0], [6.978869, -75.296389, 1.0], [6.978951, -75.296249, 1.0], [2.925561, -75.290777, 3.0], [-12.061647, -75.287826, 1.0], [1.68448, -75.28659, 1.0], [9.37743, -75.26841, 2.0], [6.395033, -75.259437, 1.0], [2.77772, -75.25743, 1.0], [9.882081, -75.254469, 1.0], [6.40005, -75.25, 1.0], [10.744472, -75.241403, 1.0], [6.81429, -75.2406, 1.0], [4.43891, -75.23223, 1.0], [9.52358, -75.23069, 1.0], [-12.068636, -75.210298, 1.0], [-12.068306, -75.210163, 9.0], [7.987804, -75.197092, 1.0], [9.175967, -75.190353, 1.0], [6.05703, -75.18513, 2.0], [6.1429, -75.18417, 5.0], [6.47116, -75.164723, 1.0], [6.23384, -75.1617, 1.0], [5.384329, -75.161146, 1.0], [4.092517, -75.154538, 4.0], [10.39841, -75.14921, 1.0], [7.07386, -75.14591, 1.0], [8.312931, -75.142561, 1.0], [5.731036, -75.142048, 1.0], [9.71809, -75.12097, 1.0], [5.96478, -75.10166, 2.0], [4.71365, -75.09733, 1.0], [3.62122, -75.09282, 2.0], [6.19878, -75.09243, 1.0], [6.907503, -75.074961, 2.0], [-13.16015, -75.072161, 1.0], [-11.057148, -75.061115, 1.0], [3.15243, -75.05271, 1.0], [5.15203, -75.03656, 3.0], [6.485075, -75.019403, 1.0], [3.92948, -75.01439, 1.0], [6.598449, -75.011559, 2.0], [6.04278, -74.99493, 2.0], [6.1876, -74.99429, 5.0], [5.41255, -74.99229, 2.0], [4.42751, -74.975698, 1.0], [4.71854, -74.92843, 2.0], [5.19778, -74.89708, 1.0], [10.380159, -74.88082, 1.0], [7.491796, -74.868233, 1.0], [7.491752, -74.868183, 3.0], [-12.39929, -74.865942, 1.0], [-14.286415, -74.843105, 1.0], [6.6752, -74.84211, 3.0], [1.334366, -74.841392, 1.0], [7.594178, -74.811951, 2.0], [7.59417, -74.8119, 1.0], [3.375833, -74.801389, 1.0], [6.77467, -74.799707, 3.0], [4.516222, -74.790398, 1.0], [6.551944, -74.787222, 1.0], [10.981412, -74.778319, 5.0], [2.116667, -74.766667, 1.0], [9.24605, -74.7595, 4.0], [6.41082, -74.75641, 1.0], [7.709167, -74.753333, 1.0], [7.252404, -74.74053, 1.0], [5.20649, -74.73641, 1.0], [7.092702, -74.710145, 1.0], [7.07786, -74.70355, 4.0], [7.08071, -74.70101, 1.0], [8.8833, -74.7, 1.0], [4.376977, -74.670927, 1.0], [5.449497, -74.667911, 3.0], [5.4651, -74.65403, 1.0], [-11.254239, -74.63696, 1.0], [8.540112, -74.630384, 1.0], [8.809894, -74.616688, 1.0], [8.79996, -74.61666, 1.0], [5.0694, -74.598061, 1.0], [5.975153, -74.586142, 2.0], [6.18676, -74.58397, 1.0], [8.568451, -74.55436, 2.0], [8.46771, -74.53563, 1.0], [-14.533333, -74.516667, 1.0], [3.99759, -74.4995, 2.0], [8.296944, -74.473056, 2.0], [5.01126, -74.470196, 1.0], [9.240732, -74.424443, 1.0], [4.17871, -74.42302, 1.0], [3.86647, -74.417001, 1.0], [3.866667, -74.416667, 1.0], [10.411301, -74.405661, 3.0], [6.48927, -74.40176, 2.0], [-12.805587, -74.389904, 1.0], [4.40464, -74.38643, 1.0], [3.24114, -74.35539, 2.0], [4.99936, -74.33936, 1.0], [1.350129, -74.303021, 1.0], [-12.977778, -74.262222, 2.0], [-12.584645, -74.258444, 1.0], [11.01079, -74.25162, 1.0], [-12.939782, -74.247478, 4.0], [5.341765, -74.237861, 1.0], [4.582298, -74.219465, 1.0], [-13.152712, -74.218628, 13.0], [-12.992377, -74.208394, 1.0], [11.242035, -74.205384, 2.0], [11.24725, -74.20166, 1.0], [-13.557452, -74.195661, 2.0], [10.521402, -74.186707, 1.0], [11.3, -74.183333, 1.0], [-13.011242, -74.173447, 1.0], [5.13083, -74.15825, 1.0], [11.288242, -74.151651, 1.0], [10.950236, -74.11702, 1.0], [8.946054, -74.106972, 1.0], [4.667128, -74.106056, 129.0], [4.5981, -74.07603, 4.0], [8.570586, -74.075774, 1.0], [-13.752746, -74.066323, 1.0], [10.29895, -74.03993, 1.0], [8.530351, -74.036873, 1.0], [1.313507, -74.030012, 1.0], [5.026003, -74.030012, 1.0], [8.670438, -74.030012, 3.0], [3.52721, -74.02371, 1.0], [-13.012617, -73.980897, 1.0], [8.99733, -73.97286, 2.0], [10.195424, -73.972736, 1.0], [10.14864, -73.96144, 2.0], [-13.65311, -73.95396, 2.0], [6.313712, -73.950146, 7.0], [-12.728041, -73.947004, 1.0], [7.957151, -73.946404, 1.0], [7.95603, -73.94496, 2.0], [7.48008, -73.92076, 2.0], [4.669244, -73.916877, 1.0], [7.007022, -73.909401, 2.0], [4.486997, -73.893197, 1.0], [8.271877, -73.873991, 1.0], [11.278611, -73.871944, 1.0], [8.279405, -73.864075, 1.0], [4.330762, -73.862957, 1.0], [7.060051, -73.853115, 4.0], [0.869892, -73.841906, 7.0], [3.794155, -73.840728, 1.0], [8.85768, -73.81579, 1.0], [4.2157, -73.81476, 1.0], [6.21906, -73.81111, 1.0], [9.825589, -73.797793, 1.0], [2.183611, -73.784722, 1.0], [3.989773, -73.766963, 1.0], [3.123889, -73.751389, 2.0], [9.65945, -73.750579, 1.0], [2.742885, -73.747655, 1.0], [4.351697, -73.713362, 1.0], [6.83191, -73.71195, 1.0], [3.54434, -73.70781, 2.0], [3.69748, -73.69899, 1.0], [6.012715, -73.671896, 1.0], [6.643708, -73.653621, 11.0], [9.337295, -73.653621, 12.0], [8.103889, -73.639444, 1.0], [4.15127, -73.63872, 3.0], [8.95736, -73.62346, 4.0], [6.339722, -73.616944, 1.0], [8.308585, -73.613541, 8.0], [8.601686, -73.608184, 2.0], [5.71347, -73.60233, 1.0], [9.3625, -73.60158, 3.0], [9.621753, -73.591844, 2.0], [7.169722, -73.588611, 1.0], [10.416624, -73.583511, 1.0], [-13.308333, -73.583333, 1.0], [7.04275, -73.55587, 1.0], [9.19974, -73.5433, 6.0], [6.161808, -73.522011, 1.0], [7.39002, -73.50099, 5.0], [10.785085, -73.499038, 1.0], [4.26995, -73.48676, 1.0], [8.493055, -73.470565, 1.0], [8.510846, -73.447444, 1.0], [8.511375, -73.446796, 1.0], [6.88105, -73.41157, 3.0], [7.760833, -73.391944, 1.0], [-13.655933, -73.389704, 1.0], [8.292798, -73.385133, 1.0], [5.45394, -73.36205, 1.0], [10.023267, -73.358826, 1.0], [8.25205, -73.354232, 1.0], [8.23342, -73.35331, 7.0], [10.697758, -73.352731, 1.0], [4.51, -73.349722, 1.0], [8.233812, -73.349693, 2.0], [5.94601, -73.34458, 1.0], [9.56049, -73.33269, 4.0], [7.638588, -73.327328, 1.0], [8.212022, -73.325726, 1.0], [7.305909, -73.307494, 1.0], [7.26385, -73.30104, 1.0], [6.26467, -73.29838, 1.0], [8.43557, -73.28742, 1.0], [8.438299, -73.285869, 1.0], [9.70219, -73.27915, 2.0], [10.47692, -73.25049, 2.0], [10.0355, -73.23725, 2.0], [10.145663, -73.23638, 1.0], [8.083272, -73.224495, 3.0], [2.938353, -73.208333, 1.0], [8.833351, -73.200031, 2.0], [8.833333, -73.2, 1.0], [-13.487211, -73.190216, 1.0], [11.271111, -73.179167, 1.0], [10.3879, -73.1698, 3.0], [8.822653, -73.149934, 1.0], [8.322058, -73.144933, 1.0], [8.320451, -73.144755, 2.0], [5.22649, -73.1268, 1.0], [7.131202, -73.124973, 2.0], [7.116294, -73.120026, 13.0], [8.576, -73.094867, 2.0], [8.574275, -73.093584, 1.0], [8.57451, -73.09339, 4.0], [3.27199, -73.087749, 4.0], [7.062532, -73.085812, 1.0], [2.33056, -73.084077, 1.0], [6.98848, -73.05084, 1.0], [7.74002, -73.04889, 1.0], [-36.816006, -73.037659, 1.0], [5.82696, -73.03441, 2.0], [4.77837, -73.03359, 1.0], [7.32234, -73.01493, 1.0], [10.60485, -72.97948, 1.0], [7.280183, -72.967743, 1.0], [2.47973, -72.95746, 1.0], [4.08509, -72.9536, 1.0], [-11.717222, -72.945278, 1.0], [4.608699, -72.928854, 1.0], [5.714599, -72.927785, 1.0], [-12.08299, -72.92067, 1.0], [8.638953, -72.918372, 1.0], [11.544088, -72.90688, 1.0], [7.946283, -72.898807, 7.0], [8.998496, -72.897243, 1.0], [5.21389, -72.86952, 1.0], [10.8887, -72.85153, 1.0], [8.085092, -72.799937, 1.0], [8.612184, -72.781222, 1.0], [11.06561, -72.76391, 3.0], [7.204099, -72.757317, 1.0], [8.642356, -72.737733, 1.0], [8.63781, -72.73464, 7.0], [7.133333, -72.666667, 1.0], [7.13869, -72.66521, 2.0], [7.137932, -72.664123, 1.0], [7.376579, -72.64831, 1.0], [2.56426, -72.637985, 2.0], [2.33056, -72.6278, 1.0], [6.627921, -72.626774, 2.0], [7.93556, -72.60504, 1.0], [7.60799, -72.60038, 1.0], [-38.735902, -72.590374, 1.0], [-38.734133, -72.584651, 1.0], [8.35364, -72.54917, 1.0], [9.967492, -72.520483, 1.0], [11.354774, -72.520483, 2.0], [8.745803, -72.514315, 1.0], [7.893825, -72.50467, 1.0], [7.894195, -72.503885, 9.0], [6.552373, -72.499692, 1.0], [7.343103, -72.497653, 1.0], [8.313611, -72.485833, 1.0], [7.30986, -72.48288, 3.0], [7.83372, -72.474228, 1.0], [7.819853, -72.453906, 1.0], [7.919218, -72.442861, 1.0], [6.463034, -72.412035, 1.0], [5.339955, -72.401581, 2.0], [-38.948921, -72.331113, 1.0], [2.043924, -72.331113, 2.0], [7.602222, -72.315, 1.0], [5.621995, -72.300701, 1.0], [1.54256, -72.288688, 1.0], [6.098639, -72.248391, 1.0], [6.099066, -72.247791, 1.0], [7.929572, -72.246594, 1.0], [7.766716, -72.233333, 1.0], [-13.945695, -72.175696, 1.0], [12.194633, -72.14604, 1.0], [7.9137, -72.141613, 1.0], [2.89206, -72.135729, 1.0], [7.000556, -72.108333, 1.0], [4.31177, -72.07965, 1.0], [4.30499, -72.073603, 1.0], [7.532824, -71.999407, 1.0], [7.14266, -71.971627, 2.0], [-13.531688, -71.966924, 2.0], [1.212668, -71.965651, 1.0], [5.88054, -71.89239, 1.0], [6.959519, -71.88179, 2.0], [6.953691, -71.878846, 1.0], [6.957857, -71.878282, 1.0], [6.953724, -71.875302, 1.0], [6.95284, -71.87514, 3.0], [6.953344, -71.874966, 1.0], [6.952116, -71.874347, 1.0], [6.956107, -71.872595, 2.0], [6.955556, -71.872222, 1.0], [9.14764, -71.830646, 1.0], [6.938895, -71.810087, 1.0], [6.794367, -71.771549, 1.0], [2.901667, -71.74742, 1.0], [6.46052, -71.72989, 3.0], [10.54382, -71.692016, 1.0], [6.715532, -71.689924, 1.0], [10.632808, -71.632977, 1.0], [-33.050125, -71.612251, 2.0], [5.758927, -71.572395, 1.0], [-16.409501, -71.537384, 3.0], [-33.010693, -71.527794, 2.0], [-33.041836, -71.438461, 1.0], [7.027345, -71.428555, 1.0], [7.025909, -71.428275, 1.0], [7.027175, -71.427448, 1.0], [7.02664, -71.425576, 1.0], [-29.906897, -71.25103, 1.0], [5.348284, -71.083204, 1.0], [6.547306, -71.002231, 7.0], [6.54608, -70.984141, 1.0], [7.08582, -70.75779, 8.0], [-34.170331, -70.740822, 1.0], [7.246772, -70.729167, 4.0], [-33.469115, -70.641997, 1.0], [-33.366238, -70.505302, 42.0], [-15.042001, -70.367966, 1.0], [-3.781772, -70.364934, 1.0], [6.285955, -70.28343, 1.0], [8.62315, -70.237104, 1.0], [6.300593, -70.205356, 1.0], [-0.83081, -70.109444, 1.0], [8.313676, -70.050314, 1.0], [-4.231455, -69.936936, 1.0], [4.443287, -69.793424, 1.0], [9.782279, -69.79294, 1.0], [6.056944, -69.756389, 1.0], [-16.741855, -69.716499, 1.0], [6.09475, -69.39188, 1.0], [10.067772, -69.347351, 1.0], [10.063506, -69.334722, 2.0], [8.049953, -69.333365, 1.0], [7.915723, -69.314762, 1.0], [6.166667, -69.266667, 1.0], [8.366667, -69.266667, 2.0], [7.913611, -68.697222, 1.0], [6.926948, -68.524715, 3.0], [8.974091, -68.392815, 2.0], [-16.509317, -68.10434, 7.0], [10.156611, -67.99721, 1.0], [-18.802222, -67.890833, 1.0], [10.247054, -67.596335, 1.0], [6.25, -67.533333, 1.0], [10.227716, -67.333485, 2.0], [10.377202, -66.966843, 1.0], [10.482834, -66.962128, 10.0], [9.632536, -66.916357, 1.0], [-17.382789, -66.166439, 3.0], [10.233173, -65.927414, 2.0], [-24.782902, -65.412155, 1.0], [7.43334, -65.333135, 1.0], [-31.399301, -64.182129, 12.0], [-20.025146, -63.521492, 1.0], [9.325833, -63.4625, 1.0], [-17.783219, -63.182042, 4.0], [8.302296, -62.714989, 1.0], [-32.951052, -60.666365, 3.0], [-36.774967, -59.854038, 1.0], [-27.471473, -58.839955, 1.0], [-34.68631, -58.528473, 2.0], [-34.61768, -58.444435, 52.0], [6.821806, -58.159218, 1.0], [6.792893, -58.044561, 1.0], [-34.921295, -57.954333, 2.0], [-37.997567, -57.54823, 1.0], [-22.811926, -57.101319, 1.0], [-23.344702, -57.051517, 1.0], [-23.343832, -57.051071, 1.0], [-23.462606, -56.741909, 1.0], [-23.45868, -56.738212, 1.0], [-23.459532, -56.738168, 1.0], [-23.458064, -56.737975, 1.0], [-27.583246, -56.683334, 1.0], [-23.300349, -56.566982, 1.0], [-24.194867, -56.561647, 1.0], [-24.193926, -56.558551, 2.0], [-23.824397, -56.519311, 1.0], [-23.800845, -56.502802, 1.0], [-23.43903, -56.501362, 1.0], [-23.720249, -56.499901, 1.0], [-23.759724, -56.494923, 1.0], [-23.318849, -56.488096, 2.0], [-23.666957, -56.475654, 1.0], [-23.267285, -56.451678, 1.0], [-23.281812, -56.441454, 1.0], [-34.891151, -56.187214, 12.0], [-26.116667, -55.93, 1.0], [-22.666667, -55.916667, 1.0], [-27.362137, -55.900875, 1.0], [4.48953, -55.364196, 1.0], [5.144395, -54.997046, 1.0], [4.982475, -54.991935, 1.0], [-16.465735, -54.638748, 1.0], [-30.034108, -51.217839, 2.0], [-25.424354, -49.264884, 1.0], [-15.826088, -47.922322, 2.0], [-15.784282, -47.875568, 1.0], [-5.831159, -47.067679, 2.0], [-23.550711, -46.633475, 7.0], [-22.756618, -43.460742, 1.0], [-22.92251, -43.203199, 1.0], [-22.908278, -43.197026, 22.0], [-22.511325, -43.177908, 1.0], [-9.64979, -35.708976, 1.0], [-8.623186, -35.529075, 1.0], [-8.048021, -34.876338, 1.0]],\n",
       "                {\n",
       "  &quot;minOpacity&quot;: 0.5,\n",
       "  &quot;maxZoom&quot;: 18,\n",
       "  &quot;radius&quot;: 25,\n",
       "  &quot;blur&quot;: 15,\n",
       "}\n",
       "            );\n",
       "        \n",
       "    \n",
       "            heat_map_0722cabae478a6b896ed8a349fb3832d.addTo(map_720e528bb532b0f8053a6c1b007f2b4a);\n",
       "        \n",
       "&lt;/script&gt;\n",
       "&lt;/html&gt;\" style=\"position:absolute;width:100%;height:100%;left:0;top:0;border:none !important;\" allowfullscreen webkitallowfullscreen mozallowfullscreen></iframe></div></div>"
      ],
      "text/plain": [
       "<folium.folium.Map at 0x26c87565d50>"
      ]
     },
     "execution_count": 98,
     "metadata": {},
     "output_type": "execute_result"
    }
   ],
   "source": [
    "m7"
   ]
  },
  {
   "cell_type": "code",
   "execution_count": null,
   "id": "ed450d58-eece-4634-b0f0-b62d5a69c3fe",
   "metadata": {},
   "outputs": [],
   "source": []
  },
  {
   "cell_type": "code",
   "execution_count": null,
   "id": "f2b2a0a2-479a-4ce7-8515-d91767838380",
   "metadata": {},
   "outputs": [],
   "source": []
  },
  {
   "cell_type": "markdown",
   "id": "646c10d2-3472-4bb6-bdde-8ab7ec427d95",
   "metadata": {},
   "source": [
    "<h1>Insight 8: Explosions in Southeast Asia (Post-2005)\n",
    "</h1>"
   ]
  },
  {
   "cell_type": "code",
   "execution_count": 106,
   "id": "edd7165f-b17e-48e3-aee9-a47d98be7cfb",
   "metadata": {},
   "outputs": [],
   "source": [
    "filter1 = df[df['region_txt'] == 'Southeast Asia']"
   ]
  },
  {
   "cell_type": "code",
   "execution_count": 107,
   "id": "95f5710e-e32b-45d7-97a7-9c76e37c0be9",
   "metadata": {},
   "outputs": [],
   "source": [
    "filter2 = filter1[filter1['attacktype1_txt'] == 'Bombing/Explosion']"
   ]
  },
  {
   "cell_type": "code",
   "execution_count": 108,
   "id": "604fe424-e4ae-459f-ba46-3ee114bc4e60",
   "metadata": {},
   "outputs": [],
   "source": [
    "filter3 = filter2[filter2['iyear'] > 2005]"
   ]
  },
  {
   "cell_type": "code",
   "execution_count": 109,
   "id": "f2504000-f6bf-4c5b-8a15-d274809cb03d",
   "metadata": {},
   "outputs": [],
   "source": [
    "SEA_explosion = filter3.groupby(['longitude', 'latitude']).size().reset_index(name='incident_count')"
   ]
  },
  {
   "cell_type": "code",
   "execution_count": 110,
   "id": "8a47c24e-c887-4ec5-b0ee-7ba310381df3",
   "metadata": {},
   "outputs": [
    {
     "data": {
      "text/plain": [
       "<folium.plugins.heat_map.HeatMap at 0x26c87594f30>"
      ]
     },
     "execution_count": 110,
     "metadata": {},
     "output_type": "execute_result"
    }
   ],
   "source": [
    "m8 = folium.Map(location=[10, 120], zoom_start=5)\n",
    "HeatMap(SEA_explosion[['latitude', 'longitude', 'incident_count']].values.tolist()).add_to(m8)"
   ]
  },
  {
   "cell_type": "code",
   "execution_count": 111,
   "id": "b912936b-86a9-4dd1-ab49-41de29bd65d2",
   "metadata": {},
   "outputs": [
    {
     "data": {
      "text/html": [
       "<div style=\"width:100%;\"><div style=\"position:relative;width:100%;height:0;padding-bottom:60%;\"><span style=\"color:#565656\">Make this Notebook Trusted to load map: File -> Trust Notebook</span><iframe srcdoc=\"&lt;!DOCTYPE html&gt;\n",
       "&lt;html&gt;\n",
       "&lt;head&gt;\n",
       "    \n",
       "    &lt;meta http-equiv=&quot;content-type&quot; content=&quot;text/html; charset=UTF-8&quot; /&gt;\n",
       "    \n",
       "        &lt;script&gt;\n",
       "            L_NO_TOUCH = false;\n",
       "            L_DISABLE_3D = false;\n",
       "        &lt;/script&gt;\n",
       "    \n",
       "    &lt;style&gt;html, body {width: 100%;height: 100%;margin: 0;padding: 0;}&lt;/style&gt;\n",
       "    &lt;style&gt;#map {position:absolute;top:0;bottom:0;right:0;left:0;}&lt;/style&gt;\n",
       "    &lt;script src=&quot;https://cdn.jsdelivr.net/npm/leaflet@1.9.3/dist/leaflet.js&quot;&gt;&lt;/script&gt;\n",
       "    &lt;script src=&quot;https://code.jquery.com/jquery-3.7.1.min.js&quot;&gt;&lt;/script&gt;\n",
       "    &lt;script src=&quot;https://cdn.jsdelivr.net/npm/bootstrap@5.2.2/dist/js/bootstrap.bundle.min.js&quot;&gt;&lt;/script&gt;\n",
       "    &lt;script src=&quot;https://cdnjs.cloudflare.com/ajax/libs/Leaflet.awesome-markers/2.0.2/leaflet.awesome-markers.js&quot;&gt;&lt;/script&gt;\n",
       "    &lt;link rel=&quot;stylesheet&quot; href=&quot;https://cdn.jsdelivr.net/npm/leaflet@1.9.3/dist/leaflet.css&quot;/&gt;\n",
       "    &lt;link rel=&quot;stylesheet&quot; href=&quot;https://cdn.jsdelivr.net/npm/bootstrap@5.2.2/dist/css/bootstrap.min.css&quot;/&gt;\n",
       "    &lt;link rel=&quot;stylesheet&quot; href=&quot;https://netdna.bootstrapcdn.com/bootstrap/3.0.0/css/bootstrap-glyphicons.css&quot;/&gt;\n",
       "    &lt;link rel=&quot;stylesheet&quot; href=&quot;https://cdn.jsdelivr.net/npm/@fortawesome/fontawesome-free@6.2.0/css/all.min.css&quot;/&gt;\n",
       "    &lt;link rel=&quot;stylesheet&quot; href=&quot;https://cdnjs.cloudflare.com/ajax/libs/Leaflet.awesome-markers/2.0.2/leaflet.awesome-markers.css&quot;/&gt;\n",
       "    &lt;link rel=&quot;stylesheet&quot; href=&quot;https://cdn.jsdelivr.net/gh/python-visualization/folium/folium/templates/leaflet.awesome.rotate.min.css&quot;/&gt;\n",
       "    \n",
       "            &lt;meta name=&quot;viewport&quot; content=&quot;width=device-width,\n",
       "                initial-scale=1.0, maximum-scale=1.0, user-scalable=no&quot; /&gt;\n",
       "            &lt;style&gt;\n",
       "                #map_5bb3460a2c53949dff020e6d247c8d67 {\n",
       "                    position: relative;\n",
       "                    width: 100.0%;\n",
       "                    height: 100.0%;\n",
       "                    left: 0.0%;\n",
       "                    top: 0.0%;\n",
       "                }\n",
       "                .leaflet-container { font-size: 1rem; }\n",
       "            &lt;/style&gt;\n",
       "        \n",
       "    &lt;script src=&quot;https://cdn.jsdelivr.net/gh/python-visualization/folium@main/folium/templates/leaflet_heat.min.js&quot;&gt;&lt;/script&gt;\n",
       "&lt;/head&gt;\n",
       "&lt;body&gt;\n",
       "    \n",
       "    \n",
       "            &lt;div class=&quot;folium-map&quot; id=&quot;map_5bb3460a2c53949dff020e6d247c8d67&quot; &gt;&lt;/div&gt;\n",
       "        \n",
       "&lt;/body&gt;\n",
       "&lt;script&gt;\n",
       "    \n",
       "    \n",
       "            var map_5bb3460a2c53949dff020e6d247c8d67 = L.map(\n",
       "                &quot;map_5bb3460a2c53949dff020e6d247c8d67&quot;,\n",
       "                {\n",
       "                    center: [10.0, 120.0],\n",
       "                    crs: L.CRS.EPSG3857,\n",
       "                    ...{\n",
       "  &quot;zoom&quot;: 5,\n",
       "  &quot;zoomControl&quot;: true,\n",
       "  &quot;preferCanvas&quot;: false,\n",
       "}\n",
       "\n",
       "                }\n",
       "            );\n",
       "\n",
       "            \n",
       "\n",
       "        \n",
       "    \n",
       "            var tile_layer_7e00f1409d6c3f5596971892b66f3cf6 = L.tileLayer(\n",
       "                &quot;https://tile.openstreetmap.org/{z}/{x}/{y}.png&quot;,\n",
       "                {\n",
       "  &quot;minZoom&quot;: 0,\n",
       "  &quot;maxZoom&quot;: 19,\n",
       "  &quot;maxNativeZoom&quot;: 19,\n",
       "  &quot;noWrap&quot;: false,\n",
       "  &quot;attribution&quot;: &quot;\\u0026copy; \\u003ca href=\\&quot;https://www.openstreetmap.org/copyright\\&quot;\\u003eOpenStreetMap\\u003c/a\\u003e contributors&quot;,\n",
       "  &quot;subdomains&quot;: &quot;abc&quot;,\n",
       "  &quot;detectRetina&quot;: false,\n",
       "  &quot;tms&quot;: false,\n",
       "  &quot;opacity&quot;: 1,\n",
       "}\n",
       "\n",
       "            );\n",
       "        \n",
       "    \n",
       "            tile_layer_7e00f1409d6c3f5596971892b66f3cf6.addTo(map_5bb3460a2c53949dff020e6d247c8d67);\n",
       "        \n",
       "    \n",
       "            var heat_map_66f3e9dbb1e72908c2e52eea1186dda4 = L.heatLayer(\n",
       "                [[21.135665, 92.235507, 1.0], [21.153844, 92.244845, 1.0], [21.153926, 92.244903, 1.0], [20.823028, 92.366201, 1.0], [20.821983, 92.366651, 1.0], [20.821905, 92.366657, 1.0], [20.822117, 92.366922, 2.0], [20.822026, 92.366929, 1.0], [20.822004, 92.366935, 3.0], [20.821831, 92.36731, 1.0], [20.821552, 92.367318, 5.0], [20.822014, 92.367346, 2.0], [20.824382, 92.369375, 1.0], [20.823738, 92.370789, 5.0], [20.956111, 92.373333, 1.0], [20.815683, 92.402698, 3.0], [20.681629, 92.444156, 1.0], [20.669289, 92.47105, 1.0], [20.627733, 92.502669, 2.0], [21.008816, 92.503263, 2.0], [20.86929, 92.52728, 1.0], [20.866667, 92.533333, 1.0], [20.543873, 92.543902, 1.0], [20.91072, 92.556094, 1.0], [20.443653, 92.636603, 1.0], [20.574538, 92.669403, 1.0], [20.484908, 92.755582, 1.0], [20.481461, 92.757326, 1.0], [20.493005, 92.776092, 1.0], [20.152766, 92.867686, 1.0], [20.146059, 92.896376, 1.0], [20.103163, 93.001552, 1.0], [20.3335, 93.003812, 1.0], [20.365771, 93.044593, 1.0], [20.340291, 93.068819, 1.0], [20.366728, 93.266651, 1.0], [20.28933, 93.370452, 1.0], [19.538531, 93.506344, 1.0], [19.971497, 93.864578, 1.0], [19.782699, 94.030771, 1.0], [24.219884, 94.310288, 2.0], [24.21323, 94.314041, 1.0], [18.283333, 95.316667, 1.0], [5.545248, 95.32401, 1.0], [5.541471, 95.342957, 5.0], [5.512597, 95.793513, 1.0], [24.895483, 95.91027, 2.0], [17.016667, 95.983333, 1.0], [21.88071, 95.984511, 2.0], [21.975, 96.083333, 1.0], [21.974364, 96.083393, 1.0], [21.969793, 96.087402, 1.0], [4.143735, 96.128021, 1.0], [16.887781, 96.149559, 20.0], [21.31123, 96.214533, 1.0], [16.923858, 96.226976, 1.0], [25.708056, 96.2325, 1.0], [25.587659, 96.269833, 1.0], [25.61614, 96.296284, 1.0], [25.614595, 96.315363, 2.0], [25.616546, 96.316667, 1.0], [25.616667, 96.316667, 2.0], [25.615431, 96.317559, 1.0], [24.767805, 96.368718, 2.0], [25.63246, 96.372467, 1.0], [18.933333, 96.433333, 1.0], [18.942186, 96.437987, 1.0], [17.341231, 96.489684, 1.0], [17.786941, 96.678509, 1.0], [5.202074, 96.702147, 1.0], [24.311644, 96.726138, 2.0], [19.860278, 97.010278, 1.0], [22.543668, 97.033714, 1.0], [20.782928, 97.037214, 3.0], [23.078921, 97.118679, 1.0], [5.170075, 97.148727, 1.0], [4.771141, 97.198767, 1.0], [19.674167, 97.209167, 1.0], [22.618211, 97.294659, 1.0], [24.249997, 97.35, 1.0], [25.37915, 97.388069, 3.0], [25.379545, 97.388147, 1.0], [23.092961, 97.397584, 1.0], [25.351105, 97.43509, 1.0], [25.850904, 97.438136, 1.0], [18.064634, 97.444427, 1.0], [16.482735, 97.622191, 3.0], [25.641526, 97.623653, 1.0], [16.886416, 97.632883, 3.0], [16.875913, 97.643961, 1.0], [17.358785, 97.67389, 1.0], [23.83294, 97.68115, 1.0], [23.835957, 97.681652, 1.0], [23.834277, 97.682104, 1.0], [23.833199, 97.68401, 1.0], [16.257973, 97.716469, 1.0], [16.257766, 97.725203, 2.0], [22.933333, 97.75, 2.0], [17.474068, 97.802248, 1.0], [23.997579, 97.901447, 1.0], [23.980405, 97.904332, 1.0], [23.979447, 97.904676, 1.0], [23.979167, 97.904722, 2.0], [23.953166, 97.921531, 1.0], [23.459658, 97.936234, 2.0], [23.302087, 97.962011, 1.0], [23.300698, 97.962521, 1.0], [23.3, 97.966667, 1.0], [21.433353, 97.969203, 1.0], [22.036198, 98.133856, 2.0], [22.036199, 98.133856, 3.0], [22.021647, 98.136447, 1.0], [21.989766, 98.205888, 1.0], [16.56506, 98.223018, 1.0], [16.556038, 98.238881, 3.0], [8.655166, 98.251252, 2.0], [8.655151, 98.252151, 1.0], [7.897977, 98.296155, 2.0], [7.896696, 98.301877, 1.0], [7.896745, 98.302834, 1.0], [7.951264, 98.337419, 1.0], [7.880448, 98.39225, 1.0], [22.271667, 98.466389, 1.0], [16.687778, 98.508333, 3.0], [8.449349, 98.525241, 1.0], [23.741383, 98.580132, 2.0], [23.411113, 98.64381, 1.0], [23.416605, 98.650602, 1.0], [18.796464, 98.660059, 1.0], [3.595196, 98.672223, 1.0], [3.585242, 98.675598, 1.0], [23.693281, 98.772316, 2.0], [18.790977, 98.790977, 2.0], [18.790977, 98.960776, 3.0], [18.770873, 98.965403, 1.0], [18.783746, 98.971085, 1.0], [18.787742, 98.993108, 2.0], [18.787748, 98.993131, 1.0], [8.903405, 99.012893, 2.0], [18.753122, 99.015655, 1.0], [18.696112, 99.036542, 1.0], [18.748655, 99.167757, 1.0], [9.138274, 99.321859, 1.0], [9.132668, 99.326569, 1.0], [9.131127, 99.328308, 1.0], [9.150781, 99.560085, 1.0], [7.556772, 99.610684, 1.0], [20.45, 99.883333, 3.0], [20.448495, 99.884194, 1.0], [19.166447, 99.901989, 1.0], [12.765933, 99.95047, 1.0], [12.568375, 99.957689, 4.0], [14.021226, 99.980044, 1.0], [9.530896, 100.060844, 1.0], [13.824759, 100.293729, 1.0], [13.824812, 100.293756, 1.0], [6.666423, 100.322019, 1.0], [6.66714, 100.323161, 1.0], [13.774527, 100.363954, 1.0], [13.93547, 100.383479, 1.0], [5.433687, 100.385277, 1.0], [6.644775, 100.400328, 1.0], [6.637923, 100.421034, 1.0], [6.521919, 100.421115, 1.0], [6.522319, 100.421625, 2.0], [5.33822, 100.429195, 1.0], [13.7067, 100.438964, 1.0], [7.001944, 100.457222, 1.0], [7.013983, 100.471242, 10.0], [7.005743, 100.473641, 1.0], [7.008596, 100.474656, 1.0], [7.008597, 100.474656, 4.0], [7.008647, 100.474688, 2.0], [5.167968, 100.479398, 2.0], [5.263234, 100.484623, 1.0], [13.866642, 100.496338, 11.0], [13.862112, 100.514353, 1.0], [13.736667, 100.523333, 1.0], [13.727896, 100.524124, 23.0], [13.905661, 100.524436, 1.0], [13.727318, 100.529497, 1.0], [6.889992, 100.529612, 1.0], [13.714568, 100.532424, 1.0], [13.809722, 100.537722, 1.0], [13.899497, 100.542644, 1.0], [13.769722, 100.552778, 1.0], [13.72892, 100.553103, 1.0], [13.828611, 100.559722, 2.0], [13.785793, 100.560852, 68.0], [14.353236, 100.568968, 1.0], [13.708056, 100.583889, 2.0], [13.96518, 100.587966, 1.0], [13.913611, 100.589722, 1.0], [7.189766, 100.595381, 1.0], [13.614942, 100.600867, 1.0], [7.175604, 100.614316, 4.0], [7.1756, 100.614347, 2.0], [6.67244, 100.659671, 1.0], [6.844726, 100.66471, 2.0], [6.909565, 100.740085, 2.0], [6.919328, 100.749112, 1.0], [6.703139, 100.765028, 1.0], [13.964548, 100.766163, 1.0], [6.890563, 100.813054, 1.0], [6.503827, 100.845147, 1.0], [6.501635, 100.845173, 1.0], [6.862314, 100.884611, 1.0], [6.899241, 100.914563, 1.0], [6.799626, 100.917549, 5.0], [6.790689, 100.918146, 1.0], [6.789735, 100.91821, 1.0], [6.784625, 100.925171, 1.0], [6.787479, 100.930998, 2.0], [6.738698, 100.940531, 1.0], [6.830233, 100.9459, 1.0], [6.768434, 100.951054, 1.0], [13.27419, 100.961368, 2.0], [6.830903, 100.962253, 1.0], [6.529583, 100.965466, 1.0], [6.353473, 100.974834, 1.0], [6.81372, 100.98703, 1.0], [15.870032, 100.992541, 1.0], [6.39144, 100.992603, 1.0], [6.835733, 101.00135, 1.0], [6.437084, 101.003385, 1.0], [6.42729, 101.01925, 1.0], [6.429345, 101.021248, 1.0], [6.46958, 101.024671, 1.0], [6.332133, 101.025933, 1.0], [6.332404, 101.026101, 1.0], [5.779985, 101.037238, 1.0], [6.552129, 101.037238, 1.0], [6.493027, 101.04216, 1.0], [6.487717, 101.059862, 1.0], [6.488662, 101.059862, 1.0], [6.783047, 101.059862, 2.0], [6.48677, 101.059981, 1.0], [5.773611, 101.060556, 1.0], [13.68517, 101.06829, 1.0], [5.773056, 101.0725, 1.0], [5.773132, 101.07253, 1.0], [6.803337, 101.07254, 1.0], [5.773351, 101.074059, 1.0], [6.8248, 101.082236, 1.0], [6.824691, 101.082491, 3.0], [6.824569, 101.082614, 2.0], [6.728299, 101.084275, 7.0], [6.77305, 101.087086, 1.0], [6.770966, 101.088646, 1.0], [6.751508, 101.094803, 2.0], [6.729444, 101.096111, 3.0], [6.72949, 101.096111, 1.0], [6.729562, 101.096231, 4.0], [6.729906, 101.096653, 1.0], [6.72866, 101.09736, 1.0], [6.702698, 101.100798, 1.0], [6.451396, 101.103639, 1.0], [6.445731, 101.105126, 1.0], [4.611331, 101.113644, 1.0], [6.497395, 101.11529, 1.0], [6.496595, 101.115719, 1.0], [6.497523, 101.116282, 1.0], [6.497534, 101.116282, 1.0], [6.497905, 101.116445, 4.0], [6.734333, 101.11721, 2.0], [6.492153, 101.1185, 1.0], [6.470198, 101.120803, 1.0], [6.489301, 101.122863, 1.0], [6.823234, 101.12749, 1.0], [6.68078, 101.131499, 1.0], [6.48006, 101.13273, 1.0], [6.481294, 101.132752, 1.0], [6.478826, 101.13333, 1.0], [6.856099, 101.133989, 1.0], [6.478305, 101.134887, 1.0], [6.478672, 101.134937, 1.0], [6.478253, 101.135, 1.0], [6.478333, 101.135, 1.0], [6.477408, 101.135293, 3.0], [6.483702, 101.135553, 4.0], [6.350745, 101.139088, 1.0], [6.686475, 101.139088, 9.0], [6.686476, 101.139088, 1.0], [6.686479, 101.139088, 1.0], [6.6854, 101.139526, 1.0], [6.489086, 101.139606, 1.0], [6.693933, 101.140079, 1.0], [6.488789, 101.141313, 2.0], [6.679582, 101.142357, 4.0], [6.685293, 101.1424, 1.0], [6.678875, 101.146002, 1.0], [6.678769, 101.146028, 1.0], [6.679216, 101.146333, 1.0], [6.801629, 101.146852, 2.0], [6.245771, 101.147044, 1.0], [6.403581, 101.147301, 2.0], [6.456893, 101.147321, 1.0], [6.678882, 101.147424, 1.0], [6.786407, 101.14827, 4.0], [6.486667, 101.150411, 3.0], [6.801169, 101.150552, 1.0], [6.803014, 101.151062, 1.0], [6.801556, 101.151217, 1.0], [6.800925, 101.151444, 1.0], [6.801624, 101.151927, 1.0], [6.801624, 101.151928, 3.0], [6.805503, 101.153224, 1.0], [5.983333, 101.166667, 2.0], [6.520151, 101.175053, 1.0], [16.831165, 101.177975, 1.0], [6.650488, 101.178253, 1.0], [6.844444, 101.178611, 2.0], [6.711873, 101.178725, 2.0], [13.727896, 101.178976, 15.0], [6.712523, 101.179256, 1.0], [6.828201, 101.179719, 1.0], [6.167222, 101.18, 2.0], [6.167615, 101.180355, 1.0], [6.168865, 101.181128, 4.0], [6.834863, 101.181412, 1.0], [6.845238, 101.181615, 2.0], [6.165661, 101.18354, 1.0], [5.931919, 101.18359, 1.0], [6.811972, 101.183886, 1.0], [6.099197, 101.184389, 1.0], [6.811786, 101.184389, 1.0], [6.164856, 101.185665, 1.0], [6.811989, 101.188251, 1.0], [6.098961, 101.188574, 1.0], [6.618527, 101.188667, 3.0], [6.166991, 101.189567, 1.0], [6.162752, 101.189622, 1.0], [6.779398, 101.189925, 1.0], [6.166837, 101.190053, 1.0], [6.120717, 101.190216, 1.0], [6.121642, 101.190458, 1.0], [6.121666, 101.190958, 1.0], [6.574682, 101.199434, 1.0], [6.574715, 101.201382, 1.0], [6.8525, 101.206944, 1.0], [6.11468, 101.211095, 1.0], [6.869461, 101.214206, 1.0], [6.689244, 101.217113, 1.0], [6.681064, 101.220998, 1.0], [6.867792, 101.223138, 1.0], [6.674343, 101.223758, 1.0], [6.380375, 101.225292, 1.0], [6.398895, 101.229, 1.0], [6.399578, 101.229, 1.0], [6.390629, 101.22971, 3.0], [6.391464, 101.23069, 1.0], [6.554196, 101.231618, 1.0], [6.389858, 101.234429, 1.0], [6.354221, 101.234542, 1.0], [6.873954, 101.234711, 14.0], [6.826315, 101.235109, 1.0], [6.437624, 101.235377, 1.0], [6.202222, 101.237646, 1.0], [6.657939, 101.238622, 1.0], [6.660835, 101.239722, 1.0], [6.254463, 101.241044, 3.0], [6.673628, 101.241044, 1.0], [6.438798, 101.241127, 1.0], [6.56224, 101.244321, 1.0], [6.200825, 101.246042, 1.0], [6.531716, 101.246712, 2.0], [6.870347, 101.249405, 4.0], [6.868611, 101.25, 8.0], [6.870321, 101.250313, 1.0], [6.869484, 101.250483, 8.0], [6.8694, 101.250519, 3.0], [6.869401, 101.250519, 2.0], [6.867859, 101.252068, 41.0], [6.202025, 101.252379, 20.0], [6.207807, 101.25286, 1.0], [6.260623, 101.253677, 22.0], [6.880446, 101.256688, 1.0], [6.588388, 101.25684, 1.0], [6.683234, 101.257271, 1.0], [6.861454, 101.258744, 1.0], [6.876096, 101.259053, 2.0], [6.549335, 101.262939, 1.0], [6.265556, 101.263056, 3.0], [6.265537, 101.263082, 1.0], [6.589055, 101.263715, 1.0], [6.337574, 101.263716, 1.0], [6.589055, 101.263716, 1.0], [6.588965, 101.263747, 1.0], [6.586582, 101.263895, 1.0], [6.265297, 101.26394, 1.0], [6.562296, 101.266372, 1.0], [6.8795, 101.267377, 1.0], [6.54728, 101.267753, 1.0], [6.878175, 101.26923, 1.0], [6.846686, 101.269384, 2.0], [6.635746, 101.269742, 1.0], [6.258502, 101.270371, 2.0], [6.24807, 101.271919, 1.0], [6.682169, 101.272632, 1.0], [6.411111, 101.273333, 2.0], [6.821716, 101.273387, 1.0], [6.878992, 101.274922, 1.0], [6.874088, 101.276738, 2.0], [6.521008, 101.277537, 1.0], [6.83733, 101.278145, 1.0], [6.541341, 101.278822, 1.0], [6.545272, 101.278966, 1.0], [6.539757, 101.279322, 1.0], [6.54429, 101.27955, 1.0], [6.545499, 101.2799, 98.0], [6.541068, 101.280299, 1.0], [6.541147, 101.280395, 15.0], [6.541138, 101.280396, 8.0], [6.541102, 101.280408, 5.0], [6.740972, 101.280667, 1.0], [6.426137, 101.280708, 1.0], [6.741088, 101.280722, 1.0], [6.793731, 101.280722, 1.0], [6.740723, 101.281273, 1.0], [6.426134, 101.281344, 1.0], [6.741308, 101.281408, 1.0], [6.541425, 101.281621, 1.0], [6.546584, 101.282223, 1.0], [6.5425, 101.283056, 2.0], [6.542378, 101.283157, 1.0], [6.239538, 101.284225, 2.0], [6.244998, 101.284912, 1.0], [6.738062, 101.285792, 1.0], [6.211731, 101.286392, 2.0], [6.213599, 101.290314, 1.0], [6.762728, 101.292046, 2.0], [6.772404, 101.292062, 6.0], [6.238855, 101.293151, 1.0], [6.760278, 101.293333, 2.0], [6.760378, 101.293634, 1.0], [6.76371, 101.294111, 5.0], [6.758242, 101.294509, 2.0], [6.750552, 101.294748, 1.0], [6.760263, 101.295165, 1.0], [6.075992, 101.297732, 7.0], [6.242789, 101.297732, 3.0], [6.242799, 101.297732, 5.0], [6.073443, 101.297835, 1.0], [6.077091, 101.297985, 1.0], [6.241414, 101.298573, 1.0], [6.691603, 101.301106, 2.0], [6.673606, 101.301262, 1.0], [6.692944, 101.302295, 1.0], [6.715073, 101.302471, 1.0], [6.730037, 101.303403, 1.0], [6.66722, 101.30341, 1.0], [6.666654, 101.303501, 1.0], [6.669283, 101.304392, 1.0], [6.343474, 101.304675, 1.0], [6.548106, 101.305712, 2.0], [6.54812, 101.305714, 1.0], [6.547829, 101.305809, 1.0], [6.051113, 101.306884, 1.0], [6.669476, 101.307539, 1.0], [6.609132, 101.308381, 1.0], [6.691205, 101.308944, 1.0], [6.69309, 101.309074, 2.0], [6.819402, 101.309074, 1.0], [6.693592, 101.309685, 1.0], [6.692398, 101.309885, 2.0], [6.066735, 101.311055, 1.0], [6.69104, 101.313557, 1.0], [6.718889, 101.314722, 1.0], [6.729505, 101.317079, 1.0], [6.869267, 101.317581, 1.0], [6.159397, 101.32261, 1.0], [6.761831, 101.323255, 1.0], [6.157117, 101.325944, 1.0], [6.309841, 101.33633, 1.0], [6.745255, 101.337014, 1.0], [6.603948, 101.33857, 5.0], [6.740744, 101.343927, 1.0], [6.473609, 101.346077, 1.0], [6.869696, 101.353193, 2.0], [5.932709, 101.363419, 1.0], [5.930108, 101.365781, 1.0], [6.868669, 101.366, 1.0], [6.72878, 101.36647, 1.0], [6.859666, 101.367886, 1.0], [5.927953, 101.367907, 1.0], [6.866555, 101.368491, 1.0], [6.866295, 101.369102, 2.0], [6.853998, 101.370665, 1.0], [6.854807, 101.371475, 1.0], [6.747222, 101.375, 1.0], [6.545413, 101.376831, 1.0], [6.497722, 101.378449, 1.0], [6.748078, 101.378567, 1.0], [6.685706, 101.381393, 1.0], [6.822924, 101.382825, 1.0], [6.821705, 101.383384, 1.0], [6.490026, 101.387009, 1.0], [6.491822, 101.3885, 9.0], [6.828057, 101.3885, 2.0], [6.828063, 101.3885, 1.0], [6.494012, 101.388761, 1.0], [6.828819, 101.38926, 2.0], [6.826557, 101.389335, 1.0], [6.654207, 101.393152, 1.0], [6.817101, 101.407193, 1.0], [6.72079, 101.407437, 1.0], [6.718611, 101.41, 1.0], [6.722259, 101.411205, 1.0], [6.721893, 101.411651, 1.0], [6.718214, 101.412045, 1.0], [6.661541, 101.412722, 1.0], [6.717203, 101.414327, 1.0], [6.717207, 101.414327, 1.0], [6.487076, 101.414348, 1.0], [6.718515, 101.415795, 1.0], [6.716867, 101.416882, 2.0], [6.719201, 101.417104, 1.0], [6.71607, 101.417525, 1.0], [6.716422, 101.4189, 1.0], [6.478333, 101.424167, 1.0], [6.811968, 101.424606, 2.0], [6.478405, 101.425598, 6.0], [6.6175, 101.425833, 1.0], [6.73764, 101.428188, 1.0], [6.736775, 101.428253, 1.0], [6.737809, 101.428271, 1.0], [6.621249, 101.4308, 1.0], [6.621376, 101.433374, 1.0], [6.700696, 101.433915, 14.0], [6.764335, 101.434738, 1.0], [3.109089, 101.438086, 1.0], [6.612927, 101.441957, 1.0], [6.48018, 101.443375, 1.0], [6.60593, 101.44495, 1.0], [6.396289, 101.445162, 1.0], [6.396311, 101.445272, 1.0], [6.626886, 101.445272, 2.0], [6.40346, 101.446621, 1.0], [6.634973, 101.44797, 1.0], [6.761272, 101.447997, 1.0], [6.442748, 101.451308, 1.0], [6.446829, 101.452204, 1.0], [6.837082, 101.457446, 1.0], [6.338246, 101.46568, 1.0], [6.563395, 101.467989, 1.0], [6.626158, 101.470578, 1.0], [6.736251, 101.47471, 1.0], [6.400964, 101.477813, 1.0], [6.148013, 101.483016, 1.0], [6.851944, 101.483611, 1.0], [6.862661, 101.484832, 1.0], [6.841797, 101.485031, 2.0], [6.862243, 101.485316, 1.0], [6.865329, 101.488313, 1.0], [6.450843, 101.48905, 1.0], [6.864391, 101.490345, 1.0], [6.865427, 101.490525, 1.0], [6.865961, 101.490606, 1.0], [6.437143, 101.490712, 1.0], [6.86, 101.491389, 2.0], [6.437021, 101.491429, 1.0], [6.172186, 101.496092, 1.0], [6.860906, 101.496138, 1.0], [6.353119, 101.498386, 2.0], [6.353828, 101.499118, 1.0], [6.228538, 101.499199, 4.0], [6.231389, 101.5, 1.0], [6.384224, 101.501198, 1.0], [6.231605, 101.501419, 1.0], [6.175784, 101.502075, 3.0], [6.384576, 101.502075, 12.0], [6.804284, 101.502075, 4.0], [6.435744, 101.502134, 1.0], [6.230984, 101.502941, 1.0], [6.381892, 101.506227, 7.0], [6.297085, 101.508241, 1.0], [6.351144, 101.51267, 1.0], [6.353075, 101.513142, 1.0], [6.353953, 101.513234, 1.0], [6.352878, 101.513361, 1.0], [6.352957, 101.51344, 1.0], [6.352958, 101.51344, 1.0], [6.6253, 101.51344, 1.0], [6.625213, 101.513703, 1.0], [6.371259, 101.514931, 1.0], [6.173844, 101.516144, 1.0], [6.82941, 101.516904, 2.0], [6.390449, 101.51702, 2.0], [6.39146, 101.517296, 13.0], [6.394722, 101.518333, 1.0], [6.558981, 101.533123, 1.0], [6.559167, 101.534167, 2.0], [6.394265, 101.536173, 1.0], [6.580281, 101.538022, 1.0], [6.697667, 101.54104, 4.0], [6.682393, 101.541857, 1.0], [6.574589, 101.544014, 1.0], [6.593333, 101.546921, 1.0], [6.593021, 101.547541, 2.0], [6.286944, 101.548611, 1.0], [6.65313, 101.550868, 1.0], [6.152265, 101.552327, 1.0], [6.475681, 101.553047, 1.0], [6.650115, 101.553127, 1.0], [6.566726, 101.553282, 1.0], [6.205811, 101.55891, 1.0], [6.597899, 101.564362, 1.0], [6.597869, 101.564596, 1.0], [6.687615, 101.565272, 1.0], [6.715783, 101.566566, 1.0], [6.458258, 101.566842, 1.0], [6.048818, 101.567686, 1.0], [6.715779, 101.56858, 1.0], [5.987041, 101.570281, 1.0], [5.989846, 101.570559, 1.0], [5.986876, 101.570703, 2.0], [5.986534, 101.571097, 1.0], [5.980116, 101.572455, 1.0], [6.710641, 101.577473, 1.0], [5.987467, 101.578225, 2.0], [6.429197, 101.580052, 1.0], [6.428976, 101.580432, 2.0], [6.267888, 101.581653, 1.0], [6.268579, 101.582218, 1.0], [6.681602, 101.584113, 1.0], [6.681318, 101.58734, 1.0], [6.671722, 101.588992, 1.0], [6.717959, 101.593027, 13.0], [6.718483, 101.59367, 1.0], [6.717568, 101.594185, 1.0], [6.692635, 101.595942, 1.0], [6.730076, 101.595955, 1.0], [6.686943, 101.601548, 1.0], [6.602249, 101.6019, 1.0], [6.699109, 101.602578, 1.0], [6.701167, 101.60393, 1.0], [6.602183, 101.604401, 3.0], [6.673942, 101.61212, 1.0], [6.701289, 101.6175, 1.0], [6.701389, 101.6175, 4.0], [6.73323, 101.618286, 1.0], [3.032715, 101.618802, 1.0], [6.049511, 101.619841, 1.0], [6.729039, 101.620326, 2.0], [6.051078, 101.623822, 1.0], [6.700601, 101.625475, 1.0], [6.329506, 101.627154, 1.0], [6.517785, 101.627154, 2.0], [6.615869, 101.628471, 1.0], [6.511472, 101.629609, 1.0], [6.61047, 101.629622, 1.0], [6.656678, 101.629999, 1.0], [6.656459, 101.630193, 1.0], [6.690741, 101.632843, 1.0], [6.543436, 101.632844, 1.0], [6.575296, 101.632844, 2.0], [6.576023, 101.632968, 1.0], [6.546224, 101.633398, 1.0], [6.543382, 101.633948, 1.0], [6.514542, 101.634425, 1.0], [6.626108, 101.636824, 1.0], [6.691461, 101.63734, 1.0], [6.516347, 101.63761, 1.0], [6.545242, 101.637847, 1.0], [6.545856, 101.638533, 1.0], [6.548956, 101.638533, 1.0], [6.549229, 101.639871, 1.0], [6.545157, 101.640087, 1.0], [6.712826, 101.641819, 1.0], [6.549038, 101.643027, 2.0], [6.547427, 101.643762, 1.0], [6.543926, 101.645352, 1.0], [6.547905, 101.646337, 1.0], [6.541704, 101.646609, 1.0], [6.008017, 101.646698, 1.0], [6.523044, 101.648769, 1.0], [6.224196, 101.649513, 1.0], [6.142229, 101.649514, 1.0], [6.550481, 101.649822, 1.0], [6.142207, 101.650475, 1.0], [6.22625, 101.650492, 1.0], [6.141558, 101.650723, 1.0], [6.517049, 101.651538, 1.0], [6.516944, 101.651667, 4.0], [6.516981, 101.652499, 2.0], [6.517235, 101.652946, 1.0], [6.517953, 101.653112, 1.0], [6.517949, 101.653463, 7.0], [6.285951, 101.654724, 1.0], [6.223017, 101.655121, 1.0], [12.77827, 101.657461, 1.0], [13.723419, 101.658222, 4.0], [6.100274, 101.660507, 1.0], [6.068226, 101.661293, 2.0], [6.462991, 101.662281, 2.0], [6.37078, 101.664513, 1.0], [6.609877, 101.667211, 1.0], [6.158611, 101.669722, 2.0], [6.15879, 101.670437, 1.0], [6.453865, 101.67148, 1.0], [6.550942, 101.671859, 2.0], [6.621148, 101.672854, 1.0], [6.425859, 101.67306, 1.0], [6.605422, 101.673316, 1.0], [6.622399, 101.675186, 1.0], [6.20609, 101.678009, 2.0], [6.548133, 101.679288, 1.0], [6.559527, 101.679555, 1.0], [6.422269, 101.684059, 3.0], [6.527796, 101.688655, 2.0], [6.285827, 101.690104, 1.0], [3.138943, 101.691315, 2.0], [6.281351, 101.691705, 1.0], [6.271587, 101.692831, 1.0], [6.098333, 101.693333, 4.0], [5.95323, 101.695443, 1.0], [6.057088, 101.695443, 1.0], [5.95323, 101.695444, 3.0], [6.057088, 101.695444, 3.0], [6.28671, 101.695804, 1.0], [6.425556, 101.696107, 1.0], [6.425508, 101.696141, 1.0], [6.271301, 101.697074, 1.0], [6.128437, 101.697323, 1.0], [6.385399, 101.70105, 1.0], [6.385287, 101.701136, 3.0], [6.384902, 101.701182, 1.0], [6.398388, 101.702512, 1.0], [6.217012, 101.702757, 1.0], [6.387371, 101.702918, 1.0], [6.402743, 101.705966, 1.0], [6.403056, 101.706111, 1.0], [6.402834, 101.706188, 1.0], [6.40308, 101.707084, 1.0], [6.403712, 101.707727, 1.0], [6.291619, 101.710486, 1.0], [6.293646, 101.711434, 1.0], [6.292703, 101.71388, 1.0], [6.291717, 101.716101, 1.0], [6.293501, 101.716654, 1.0], [6.309281, 101.717883, 2.0], [6.306567, 101.718217, 4.0], [6.43194, 101.718217, 2.0], [6.294826, 101.719905, 1.0], [6.203333, 101.72, 3.0], [6.173936, 101.72017, 1.0], [6.1887, 101.720361, 1.0], [6.396124, 101.723403, 1.0], [6.295698, 101.723701, 3.0], [6.297706, 101.72406, 2.0], [6.250459, 101.726425, 1.0], [6.256331, 101.726469, 1.0], [6.29612, 101.728127, 7.0], [6.296389, 101.728333, 9.0], [6.296686, 101.728353, 1.0], [6.296525, 101.728714, 3.0], [6.29653, 101.729097, 1.0], [6.254148, 101.729605, 13.0], [6.254153, 101.729605, 5.0], [6.254393, 101.730703, 1.0], [6.294222, 101.73118, 1.0], [6.254823, 101.732106, 1.0], [6.281149, 101.733088, 1.0], [6.122292, 101.734402, 1.0], [6.129658, 101.734647, 1.0], [6.125833, 101.739167, 1.0], [6.520528, 101.744385, 1.0], [6.394643, 101.746964, 1.0], [5.900565, 101.752444, 2.0], [6.19824, 101.752571, 1.0], [6.07164, 101.754635, 1.0], [5.968889, 101.754722, 1.0], [6.2613, 101.761801, 1.0], [6.261429, 101.761875, 1.0], [6.493416, 101.763045, 1.0], [6.347289, 101.763777, 1.0], [6.493658, 101.763777, 1.0], [6.263806, 101.763778, 1.0], [6.345909, 101.764697, 1.0], [5.938889, 101.770556, 1.0], [6.094448, 101.772683, 4.0], [6.128024, 101.774963, 2.0], [5.985195, 101.779487, 1.0], [6.284165, 101.78666, 1.0], [6.190088, 101.797961, 21.0], [6.380278, 101.801944, 2.0], [6.38293, 101.80366, 1.0], [6.232584, 101.804434, 1.0], [6.229982, 101.804756, 1.0], [6.382026, 101.805247, 2.0], [6.232697, 101.805729, 1.0], [6.241925, 101.809358, 3.0], [6.325366, 101.809358, 1.0], [6.241956, 101.809503, 1.0], [6.242189, 101.809835, 1.0], [6.224945, 101.810643, 1.0], [6.2256, 101.811076, 1.0], [6.373608, 101.812825, 1.0], [6.303626, 101.813333, 1.0], [6.424834, 101.815028, 1.0], [6.424468, 101.815057, 1.0], [6.424408, 101.816398, 1.0], [6.419899, 101.817779, 1.0], [6.419986, 101.817818, 1.0], [6.21524, 101.818202, 1.0], [6.424641, 101.820154, 1.0], [6.211551, 101.820545, 1.0], [6.210408, 101.820757, 18.0], [6.541102, 101.820757, 1.0], [6.24053, 101.820943, 1.0], [6.426014, 101.823063, 2.0], [6.426823, 101.824288, 2.0], [6.254904, 101.824612, 1.0], [6.211932, 101.824703, 1.0], [6.425461, 101.825314, 9.0], [6.42541, 101.825331, 2.0], [6.421131, 101.82548, 1.0], [6.435806, 101.825806, 2.0], [6.179297, 101.828625, 1.0], [5.929554, 101.832156, 4.0], [6.012557, 101.832156, 1.0], [6.427236, 101.833652, 10.0], [6.201667, 101.841667, 3.0], [6.201951, 101.841909, 1.0], [6.168744, 101.843033, 1.0], [6.225778, 101.845189, 3.0], [6.407824, 101.855243, 1.0], [6.117611, 101.858213, 1.0], [6.050601, 101.859028, 1.0], [6.117556, 101.85907, 7.0], [6.247492, 101.861189, 1.0], [6.24534, 101.861748, 1.0], [5.91845, 101.866362, 3.0], [6.256675, 101.878105, 2.0], [6.085224, 101.879166, 5.0], [6.107313, 101.879548, 1.0], [6.08512, 101.879598, 1.0], [6.085278, 101.880278, 2.0], [6.086066, 101.880989, 1.0], [6.128949, 101.881614, 1.0], [5.928056, 101.883889, 5.0], [5.928028, 101.884184, 1.0], [5.928863, 101.884318, 1.0], [5.930043, 101.884556, 1.0], [5.927805, 101.884701, 1.0], [5.927877, 101.884806, 1.0], [5.927822, 101.884807, 2.0], [6.25911, 101.892703, 1.0], [6.028248, 101.894983, 1.0], [6.0116, 101.898827, 1.0], [6.073372, 101.900579, 2.0], [5.908305, 101.902197, 1.0], [6.125535, 101.903472, 1.0], [6.074641, 101.90417, 1.0], [6.074705, 101.904816, 1.0], [6.122121, 101.904953, 1.0], [6.150486, 101.908174, 1.0], [6.023932, 101.911044, 4.0], [6.023929, 101.911072, 1.0], [6.125094, 101.911987, 2.0], [6.166706, 101.911987, 9.0], [6.146342, 101.912079, 1.0], [6.166599, 101.912363, 2.0], [6.167326, 101.912393, 2.0], [6.153543, 101.913039, 2.0], [5.97185, 101.923607, 5.0], [6.029237, 101.924798, 1.0], [6.026201, 101.948617, 1.0], [6.013915, 101.950233, 29.0], [6.015119, 101.951925, 9.0], [6.015439, 101.952028, 1.0], [6.015231, 101.952085, 1.0], [6.022161, 101.953637, 1.0], [6.290663, 101.957632, 1.0], [6.289717, 101.958964, 1.0], [6.29086, 101.959528, 1.0], [6.252643, 101.96005, 1.0], [6.016241, 101.962919, 1.0], [5.993038, 101.966181, 8.0], [6.052214, 101.97088, 2.0], [6.038708, 101.983711, 9.0], [6.057982, 101.986001, 1.0], [6.245407, 101.997928, 1.0], [6.25158, 101.999135, 1.0], [6.2508, 102.000107, 1.0], [6.250466, 102.000663, 1.0], [6.249341, 102.00282, 2.0], [6.248334, 102.002849, 1.0], [6.248411, 102.002853, 1.0], [6.262062, 102.003136, 1.0], [6.246342, 102.003167, 1.0], [6.247924, 102.003296, 11.0], [6.248171, 102.004207, 1.0], [6.284209, 102.009041, 1.0], [6.094706, 102.04361, 1.0], [6.178484, 102.052154, 1.0], [6.259167, 102.053056, 1.0], [6.259489, 102.054394, 1.0], [6.251872, 102.054677, 1.0], [6.259342, 102.054824, 1.0], [6.258889, 102.055, 7.0], [6.188594, 102.056644, 1.0], [6.158143, 102.059608, 1.0], [6.157846, 102.060042, 1.0], [6.215369, 102.060403, 3.0], [6.253722, 102.061687, 3.0], [6.253156, 102.061892, 1.0], [6.137141, 102.066266, 1.0], [13.821834, 102.068248, 1.0], [6.244433, 102.069434, 1.0], [6.237554, 102.082001, 1.0], [13.643206, 102.483921, 1.0], [17.413841, 102.787232, 1.0], [16.440566, 102.829265, 1.0], [16.755498, 102.83998, 2.0], [-3.296667, 102.861667, 1.0], [18.944451, 102.946212, 1.0], [18.811618, 103.089592, 1.0], [18.9057, 103.092, 1.0], [17.565037, 103.55526, 1.0], [1.045626, 104.030454, 1.0], [-2.990934, 104.756556, 1.0], [11.558831, 104.917445, 2.0], [-6.202456, 106.652695, 1.0], [-6.170593, 106.757476, 1.0], [-6.59879, 106.799755, 1.0], [-6.243975, 106.800056, 1.0], [-6.187549, 106.823085, 2.0], [-6.392711, 106.823432, 1.0], [-6.21038, 106.845386, 1.0], [-6.566517, 106.845882, 1.0], [-6.208821, 106.846046, 11.0], [-6.229956, 106.866515, 2.0], [-6.226782, 106.900175, 1.0], [-6.296612, 107.025364, 1.0], [-6.909219, 107.593381, 1.0], [-6.914542, 107.607839, 1.0], [-7.327954, 108.214104, 1.0], [-6.715073, 108.563747, 1.0], [-7.484817, 108.7834, 1.0], [-7.766631, 110.233122, 1.0], [-7.463846, 110.259102, 1.0], [-7.716165, 110.335403, 1.0], [-7.26024, 110.396835, 1.0], [-6.966301, 110.416321, 1.0], [-6.966667, 110.416667, 1.0], [-7.556169, 110.823059, 4.0], [-8.094786, 112.172828, 1.0], [-7.976618, 112.622169, 1.0], [-7.2215, 112.732927, 1.0], [-7.751978, 113.215594, 1.0], [5.976474, 116.115777, 1.0], [8.535698, 117.433977, 1.0], [0.12459, 117.48625, 1.0], [8.656259, 117.510498, 1.0], [8.672499, 117.559443, 1.0], [8.666667, 117.616667, 1.0], [4.436335, 118.531842, 1.0], [9.967216, 118.78551, 1.0], [9.968008, 118.787631, 1.0], [10.17425, 118.871331, 1.0], [-5.130855, 119.416528, 1.0], [10.880225, 119.420898, 1.0], [11.209709, 119.462254, 1.0], [10.817626, 119.499057, 1.0], [-0.869369, 119.877142, 1.0], [15.528553, 119.9608, 1.0], [15.460241, 119.98972, 1.0], [16.821466, 120.405859, 1.0], [15.993004, 120.431352, 1.0], [-1.64788, 120.43861, 1.0], [17.080789, 120.450563, 1.0], [17.021916, 120.457568, 1.0], [-1.722887, 120.55342, 1.0], [15.979978, 120.569773, 1.0], [16.41717, 120.592659, 1.0], [18.195952, 120.592738, 2.0], [16.403702, 120.597924, 1.0], [18.253562, 120.610607, 1.0], [17.599649, 120.616913, 1.0], [15.148368, 120.618773, 1.0], [-1.49, 120.633333, 1.0], [18.358164, 120.681677, 1.0], [18.358247, 120.681708, 1.0], [17.130073, 120.699683, 1.0], [15.449107, 120.717496, 1.0], [16.991623, 120.735449, 1.0], [15.666245, 120.743049, 1.0], [16.969928, 120.748804, 1.0], [-1.394556, 120.754062, 1.0], [-1.393147, 120.754749, 6.0], [-1.40232, 120.758233, 7.0], [-1.402226, 120.758315, 1.0], [16.9192, 120.7623, 1.0], [16.8968, 120.7634, 1.0], [16.9146, 120.765421, 1.0], [-1.391922, 120.766998, 1.0], [16.866667, 120.783333, 1.0], [16.856811, 120.793674, 1.0], [-1.893291, 120.825798, 1.0], [15.5, 120.843889, 1.0], [15.22137, 120.86045, 1.0], [14.816326, 120.866163, 1.0], [14.788442, 120.882349, 1.0], [14.258881, 120.916081, 1.0], [13.883652, 120.916182, 1.0], [15.582889, 120.918424, 1.0], [5.942833, 120.923896, 1.0], [15.40505, 120.943216, 1.0], [6.033317, 120.947301, 1.0], [5.989145, 120.953212, 1.0], [14.672042, 120.957726, 1.0], [5.9735, 120.9698, 2.0], [14.218389, 120.972948, 1.0], [16.703499, 120.974849, 1.0], [14.704171, 120.982384, 1.0], [14.599512, 120.984219, 1.0], [14.599352, 120.984772, 16.0], [6.03111, 120.99194, 1.0], [14.442909, 120.993874, 1.0], [6.04343, 120.994263, 3.0], [14.593587, 120.994294, 1.0], [6.047448, 121.00131, 1.0], [6.05519, 121.001323, 2.0], [14.530948, 121.004257, 2.0], [17.582784, 121.005421, 1.0], [6.046506, 121.008375, 1.0], [6.050458, 121.012245, 30.0], [5.94255, 121.020864, 1.0], [5.93293, 121.025525, 1.0], [6.037169, 121.030406, 1.0], [6.037483, 121.031254, 1.0], [6.069434, 121.032351, 1.0], [14.724493, 121.03331, 1.0], [5.933636, 121.033467, 1.0], [14.549431, 121.033592, 6.0], [14.584232, 121.03904, 3.0], [5.969382, 121.044016, 1.0], [15.43669, 121.04746, 1.0], [5.980065, 121.054069, 1.0], [5.97972, 121.054829, 1.0], [6.056337, 121.055844, 1.0], [14.67428, 121.057495, 13.0], [6.068085, 121.059917, 1.0], [6.046389, 121.078056, 1.0], [14.58251, 121.084236, 3.0], [6.066667, 121.1, 2.0], [6.066693, 121.100042, 1.0], [6.067119, 121.100362, 1.0], [6.068013, 121.100433, 1.0], [6.087954, 121.105416, 1.0], [6.088221, 121.109329, 2.0], [5.977475, 121.115015, 1.0], [6.074574, 121.134326, 2.0], [6.052565, 121.146487, 1.0], [13.941987, 121.16272, 1.0], [13.941876, 121.16442, 1.0], [6.021834, 121.16568, 1.0], [5.956833, 121.196044, 1.0], [14.199323, 121.307245, 1.0], [5.9684, 121.3122, 1.0], [17.573341, 121.365767, 1.0], [17.614973, 121.406719, 1.0], [17.614145, 121.408867, 1.0], [17.411735, 121.43845, 1.0], [-1.479086, 121.454854, 1.0], [14.198272, 121.501047, 1.0], [18.408081, 121.514921, 1.0], [16.714983, 121.553715, 1.0], [18.226253, 121.555824, 1.0], [14.7425, 121.649444, 1.0], [16.314876, 121.659681, 1.0], [16.255919, 121.685341, 1.0], [17.03518, 121.718572, 1.0], [17.098021, 121.736774, 1.0], [16.512163, 121.747946, 1.0], [17.048783, 121.833487, 1.0], [17.048743, 121.834245, 1.0], [6.545399, 121.873756, 1.0], [18.249002, 121.878783, 1.0], [6.537964, 121.890414, 1.0], [7.096754, 121.903218, 1.0], [17.968716, 121.931521, 1.0], [10.747054, 121.942306, 1.0], [6.962057, 121.949013, 1.0], [6.688284, 121.950077, 1.0], [6.482311, 121.96159, 1.0], [6.441898, 121.963071, 1.0], [6.702702, 121.968766, 1.0], [6.71223, 121.968883, 1.0], [6.41871, 121.972443, 7.0], [6.700414, 121.972557, 21.0], [6.706642, 121.973673, 1.0], [6.487222, 121.978333, 2.0], [6.687595, 121.981334, 1.0], [6.681959, 121.985477, 10.0], [6.517465, 121.986405, 1.0], [6.426872, 122.011242, 1.0], [6.482905, 122.015549, 1.0], [16.983006, 122.016667, 1.0], [16.983333, 122.016667, 1.0], [6.939164, 122.017017, 1.0], [6.578069, 122.041484, 1.0], [6.697778, 122.049167, 1.0], [10.765019, 122.061017, 1.0], [6.498373, 122.069644, 1.0], [6.939317, 122.07818, 1.0], [6.929089, 122.07885, 44.0], [6.573504, 122.093866, 1.0], [6.645308, 122.10184, 2.0], [6.645556, 122.101944, 1.0], [6.652736, 122.10409, 1.0], [6.474417, 122.105078, 1.0], [6.497216, 122.105141, 2.0], [6.66164, 122.106423, 1.0], [6.553711, 122.110009, 1.0], [6.666573, 122.110539, 1.0], [6.563592, 122.116863, 1.0], [6.498904, 122.119897, 1.0], [6.654902, 122.124129, 1.0], [6.649968, 122.133342, 1.0], [6.649966, 122.133527, 1.0], [6.65877, 122.13411, 1.0], [7.703259, 122.134903, 1.0], [6.652975, 122.135651, 1.0], [6.642103, 122.136596, 1.0], [6.662166, 122.137866, 1.0], [6.660501, 122.138992, 20.0], [7.586897, 122.139213, 1.0], [7.798649, 122.139514, 1.0], [6.660097, 122.139846, 1.0], [6.665758, 122.14076, 1.0], [6.491326, 122.143443, 1.0], [6.656903, 122.14467, 1.0], [6.660596, 122.144832, 1.0], [6.535859, 122.145976, 1.0], [6.973009, 122.14654, 1.0], [6.663711, 122.153789, 1.0], [6.664973, 122.154736, 2.0], [6.665912, 122.154839, 1.0], [6.643853, 122.156371, 1.0], [6.642063, 122.156774, 1.0], [6.64104, 122.157744, 1.0], [6.669897, 122.160271, 1.0], [6.473787, 122.163853, 1.0], [6.482175, 122.165286, 1.0], [6.493148, 122.165911, 1.0], [6.533898, 122.166574, 1.0], [6.533689, 122.166731, 1.0], [6.536668, 122.167236, 2.0], [6.462973, 122.171072, 1.0], [6.605444, 122.171429, 1.0], [6.601768, 122.17325, 1.0], [6.588132, 122.178193, 1.0], [13.907845, 122.183119, 1.0], [7.024267, 122.188903, 1.0], [7.02449, 122.189302, 1.0], [6.606469, 122.192254, 2.0], [7.069538, 122.207161, 2.0], [7.205784, 122.232951, 1.0], [10.651836, 122.233357, 1.0], [7.237076, 122.254793, 1.0], [6.611512, 122.263054, 2.0], [6.643113, 122.273422, 1.0], [10.663984, 122.286655, 1.0], [10.783333, 122.3, 1.0], [10.78569, 122.304711, 1.0], [11.666329, 122.333319, 1.0], [7.65472, 122.3375, 1.0], [13.545925, 122.372556, 1.0], [11.712124, 122.37462, 1.0], [10.690601, 122.387355, 1.0], [7.590152, 122.401419, 1.0], [11.287818, 122.405893, 1.0], [14.137428, 122.411233, 1.0], [10.893, 122.434998, 1.0], [11.025189, 122.441258, 1.0], [9.947791, 122.449677, 1.0], [14.313193, 122.491356, 1.0], [8.059807, 122.506778, 2.0], [11.001601, 122.516703, 1.0], [10.71546, 122.531721, 1.0], [7.811214, 122.532324, 1.0], [10.71532, 122.532984, 1.0], [11.266468, 122.533349, 1.0], [7.812114, 122.533555, 1.0], [10.688228, 122.544345, 1.0], [10.695321, 122.544378, 2.0], [11.376115, 122.545184, 1.0], [10.725533, 122.55248, 1.0], [7.869831, 122.558579, 1.0], [7.886648, 122.565262, 1.0], [10.750793, 122.565555, 1.0], [10.714915, 122.565695, 1.0], [7.784172, 122.583282, 2.0], [10.789048, 122.590448, 1.0], [7.785306, 122.592856, 2.0], [11.34887, 122.60967, 1.0], [11.425203, 122.650761, 1.0], [14.148038, 122.650877, 1.0], [11.421688, 122.667188, 1.0], [14.276771, 122.705349, 1.0], [8.109069, 122.758094, 1.0], [7.80121, 122.759801, 2.0], [11.386903, 122.780944, 1.0], [13.816366, 122.781614, 1.0], [11.387, 122.781991, 1.0], [13.816667, 122.783333, 1.0], [14.182691, 122.784392, 1.0], [9.937655, 122.828535, 1.0], [7.473527, 122.845682, 1.0], [7.641745, 122.935095, 1.0], [7.652526, 122.947893, 2.0], [7.866111, 123.034444, 1.0], [13.694464, 123.060053, 1.0], [10.882292, 123.065066, 1.0], [7.733333, 123.066667, 3.0], [10.266401, 123.083366, 1.0], [10.934722, 123.118056, 1.0], [7.6576, 123.186, 1.0], [9.116669, 123.20015, 1.0], [12.031783, 123.214528, 1.0], [10.029756, 123.232416, 1.0], [9.295552, 123.281494, 2.0], [12.233896, 123.282912, 1.0], [7.836483, 123.30307, 1.0], [7.880224, 123.304267, 1.0], [10.926348, 123.309328, 1.0], [8.583665, 123.341176, 1.0], [12.511444, 123.397648, 1.0], [10.889425, 123.415368, 1.0], [7.839703, 123.434344, 1.0], [7.825203, 123.437378, 7.0], [13.705556, 123.444722, 1.0], [13.036508, 123.450033, 1.0], [10.801934, 123.488506, 1.0], [10.841287, 123.499336, 1.0], [12.426075, 123.507391, 1.0], [7.863889, 123.513889, 1.0], [8.067024, 123.53479, 1.0], [13.176892, 123.545037, 1.0], [8.258333, 123.605833, 1.0], [12.367627, 123.621646, 1.0], [12.369767, 123.626846, 2.0], [12.338, 123.658997, 1.0], [12.33687, 123.659981, 1.0], [12.51599, 123.666215, 1.0], [13.161956, 123.693955, 1.0], [13.077043, 123.701472, 1.0], [13.098262, 123.709857, 1.0], [8.615114, 123.7167, 1.0], [12.055794, 123.72942, 1.0], [13.318707, 123.738248, 1.0], [12.526593, 123.746564, 1.0], [12.408223, 123.753794, 1.0], [12.128029, 123.753972, 1.0], [12.483523, 123.758673, 1.0], [12.191633, 123.759328, 1.0], [12.4833, 123.7622, 1.0], [7.9248, 123.7715, 1.0], [7.923036, 123.771936, 1.0], [12.422, 123.78, 1.0], [12.420577, 123.780237, 1.0], [12.225309, 123.783225, 2.0], [12.225086, 123.783739, 1.0], [8.04415, 123.795403, 1.0], [12.21343, 123.805118, 1.0], [12.215028, 123.820561, 1.0], [12.221115, 123.823367, 4.0], [10.243998, 123.833281, 1.0], [12.856755, 123.894753, 1.0], [8.112765, 123.895483, 1.0], [6.923231, 123.969698, 1.0], [12.0741, 123.9706, 1.0], [12.072652, 123.970902, 1.0], [12.040278, 123.983056, 2.0], [11.999833, 123.98326, 1.0], [12.850032, 123.98328, 1.0], [10.413611, 123.985294, 1.0], [11.94284, 124.00737, 1.0], [12.99218, 124.011269, 1.0], [12.730556, 124.018889, 1.0], [11.904644, 124.032587, 1.0], [12.700386, 124.033245, 1.0], [8.155928, 124.033906, 1.0], [12.702007, 124.035435, 1.0], [11.745445, 124.038134, 1.0], [6.453607, 124.039766, 1.0], [8.193307, 124.044522, 1.0], [12.620952, 124.044771, 1.0], [12.703378, 124.045004, 1.0], [11.882344, 124.046159, 1.0], [6.553544, 124.051706, 2.0], [11.743293, 124.054892, 1.0], [6.539273, 124.057789, 1.0], [6.582166, 124.063018, 1.0], [6.633353, 124.066667, 2.0], [6.633354, 124.066667, 1.0], [6.634893, 124.067264, 1.0], [8.188783, 124.069413, 1.0], [7.98, 124.07, 1.0], [8.176509, 124.07578, 1.0], [12.935278, 124.082778, 1.0], [8.192046, 124.084995, 4.0], [12.824688, 124.088357, 1.0], [6.721638, 124.113104, 1.0], [8.144374, 124.127741, 2.0], [12.856113, 124.148018, 1.0], [8.157284, 124.158849, 1.0], [7.01, 124.1625, 1.0], [7.0425, 124.169444, 1.0], [7.031216, 124.16997, 1.0], [7.0171, 124.175444, 1.0], [7.077981, 124.177179, 2.0], [7.188889, 124.183932, 1.0], [7.189061, 124.184975, 1.0], [8.172524, 124.203927, 1.0], [7.18109, 124.21273, 5.0], [8.115805, 124.214161, 1.0], [7.159587, 124.214861, 1.0], [7.162217, 124.215133, 1.0], [8.121517, 124.217048, 1.0], [7.159972, 124.218699, 1.0], [7.179422, 124.219371, 1.0], [7.179762, 124.220882, 1.0], [7.182977, 124.225468, 1.0], [7.181656, 124.225701, 2.0], [7.172751, 124.229664, 2.0], [7.94989, 124.233141, 1.0], [8.22833, 124.237867, 2.0], [8.228119, 124.238754, 3.0], [7.209594, 124.241966, 76.0], [6.956804, 124.242556, 1.0], [8.22777, 124.244682, 1.0], [8.230454, 124.245145, 2.0], [8.228021, 124.245242, 2.0], [7.306375, 124.247989, 1.0], [7.233339, 124.250008, 1.0], [7.229589, 124.254898, 1.0], [7.987222, 124.255833, 1.0], [7.234423, 124.256137, 1.0], [8.268233, 124.258461, 1.0], [7.998818, 124.258606, 1.0], [7.340523, 124.260183, 1.0], [7.268402, 124.262427, 1.0], [7.235987, 124.264517, 1.0], [13.827547, 124.267638, 1.0], [7.375071, 124.267662, 2.0], [8.002912, 124.26825, 1.0], [7.288472, 124.269943, 1.0], [7.283587, 124.273646, 1.0], [12.510915, 124.283352, 1.0], [8.021316, 124.28424, 1.0], [8.001171, 124.284462, 1.0], [8.001172, 124.284462, 3.0], [8.011382, 124.285289, 1.0], [8.000585, 124.28695, 1.0], [8.00244, 124.287119, 2.0], [8.006934, 124.287598, 1.0], [8.003798, 124.288211, 1.0], [8.001327, 124.290291, 1.0], [8.004674, 124.2913, 3.0], [8.003291, 124.291336, 1.0], [8.002581, 124.292973, 1.0], [7.214182, 124.296159, 1.0], [8.000249, 124.29986, 2.0], [7.999981, 124.299937, 1.0], [8.000147, 124.299951, 3.0], [8.001047, 124.300038, 1.0], [7.999799, 124.300068, 1.0], [8.000178, 124.300179, 2.0], [7.277222, 124.307222, 1.0], [7.262213, 124.308826, 2.0], [7.122155, 124.308977, 1.0], [7.120194, 124.31689, 1.0], [7.008897, 124.326981, 1.0], [6.933333, 124.333333, 1.0], [7.286944, 124.340278, 1.0], [7.236242, 124.343416, 1.0], [7.993056, 124.344167, 1.0], [6.965996, 124.349538, 1.0], [7.967402, 124.349841, 1.0], [10.050188, 124.350372, 1.0], [6.983685, 124.355759, 1.0], [6.962814, 124.362645, 1.0], [6.767308, 124.364521, 1.0], [7.166937, 124.368333, 2.0], [8.239826, 124.370663, 1.0], [6.764005, 124.375441, 3.0], [7.98693, 124.37839, 1.0], [6.980556, 124.381944, 1.0], [7.141785, 124.382019, 1.0], [6.979245, 124.382941, 1.0], [6.983813, 124.384102, 1.0], [6.978114, 124.384297, 1.0], [6.954103, 124.386539, 1.0], [7.027034, 124.386539, 1.0], [7.027067, 124.386552, 1.0], [6.959764, 124.39708, 1.0], [6.922453, 124.40202, 1.0], [6.945171, 124.404513, 1.0], [6.991543, 124.407031, 1.0], [6.885039, 124.407472, 1.0], [6.884933, 124.407589, 1.0], [6.883351, 124.408236, 1.0], [6.863236, 124.40839, 1.0], [7.285664, 124.410877, 1.0], [6.813138, 124.413442, 2.0], [6.813381, 124.413498, 2.0], [6.926016, 124.413992, 1.0], [6.926648, 124.414942, 1.0], [6.926251, 124.414984, 1.0], [6.926258, 124.415014, 2.0], [6.94151, 124.41743, 2.0], [6.942258, 124.419824, 1.0], [7.823176, 124.419824, 1.0], [7.277259, 124.423553, 1.0], [6.933508, 124.424167, 1.0], [6.933676, 124.424221, 1.0], [7.27843, 124.424696, 1.0], [6.936669, 124.42565, 1.0], [6.934897, 124.427381, 1.0], [6.93485, 124.42801, 1.0], [6.889578, 124.432344, 1.0], [6.884419, 124.432354, 1.0], [7.283333, 124.433333, 1.0], [6.916991, 124.437178, 1.0], [6.865416, 124.440557, 1.0], [6.948344, 124.44111, 1.0], [6.927947, 124.441483, 1.0], [6.864778, 124.44162, 2.0], [6.860193, 124.442701, 1.0], [6.862806, 124.443649, 39.0], [6.864212, 124.444306, 1.0], [6.957222, 124.444444, 3.0], [6.860234, 124.445006, 1.0], [6.855208, 124.446175, 1.0], [6.955154, 124.446599, 1.0], [6.951292, 124.447787, 1.0], [6.950849, 124.448028, 1.0], [6.951768, 124.448395, 1.0], [6.992231, 124.448448, 1.0], [6.996272, 124.44938, 2.0], [6.90528, 124.45222, 1.0], [6.966834, 124.453097, 1.0], [6.920481, 124.453135, 1.0], [6.919932, 124.453267, 1.0], [6.920834, 124.453332, 1.0], [6.920833, 124.453333, 2.0], [7.00222, 124.453685, 1.0], [6.964911, 124.453883, 1.0], [6.93631, 124.454241, 1.0], [6.920296, 124.455954, 1.0], [6.920955, 124.456524, 1.0], [6.993225, 124.456869, 1.0], [6.961375, 124.457534, 1.0], [6.832987, 124.458858, 2.0], [6.117505, 124.462395, 1.0], [6.867004, 124.464393, 1.0], [6.805592, 124.466686, 1.0], [7.013493, 124.468822, 1.0], [6.873793, 124.469186, 1.0], [6.80636, 124.469728, 1.0], [6.966715, 124.469906, 1.0], [6.06132, 124.470025, 1.0], [6.901129, 124.473394, 1.0], [7.019503, 124.473724, 1.0], [7.018486, 124.473881, 1.0], [6.867985, 124.476389, 3.0], [6.988958, 124.477051, 1.0], [6.986543, 124.479103, 1.0], [6.976085, 124.481497, 1.0], [6.976348, 124.482066, 1.0], [6.980848, 124.482925, 3.0], [8.018492, 124.483303, 1.0], [7.025703, 124.483579, 1.0], [6.881951, 124.48393, 1.0], [6.88165, 124.484012, 1.0], [6.930046, 124.487183, 1.0], [7.038127, 124.488622, 1.0], [6.863785, 124.492755, 1.0], [6.060312, 124.495959, 1.0], [6.905985, 124.496485, 1.0], [7.01801, 124.497466, 1.0], [7.017805, 124.497511, 1.0], [7.154569, 124.497778, 1.0], [7.024942, 124.498444, 4.0], [7.028058, 124.49845, 1.0], [7.035527, 124.498828, 1.0], [6.880979, 124.49909, 1.0], [6.967536, 124.500067, 1.0], [7.017999, 124.500099, 5.0], [7.019161, 124.500643, 1.0], [7.029702, 124.500663, 1.0], [7.015484, 124.50523, 1.0], [7.062429, 124.510817, 1.0], [6.931122, 124.511117, 1.0], [7.020909, 124.512391, 1.0], [6.938487, 124.514228, 1.0], [6.900013, 124.516554, 2.0], [7.165741, 124.517508, 1.0], [7.06465, 124.518743, 1.0], [6.723221, 124.519698, 2.0], [6.72158, 124.520505, 1.0], [7.163575, 124.521675, 1.0], [7.242422, 124.523343, 1.0], [6.717929, 124.527306, 1.0], [6.727102, 124.529002, 1.0], [7.189181, 124.532497, 1.0], [7.187784, 124.53255, 1.0], [7.188545, 124.532575, 3.0], [7.191139, 124.532692, 1.0], [7.191667, 124.533333, 3.0], [7.191676, 124.533481, 1.0], [7.190358, 124.533892, 1.0], [7.190969, 124.534248, 1.0], [7.19479, 124.53475, 1.0], [7.190014, 124.535248, 1.0], [7.18664, 124.536195, 1.0], [6.928128, 124.536223, 1.0], [7.140922, 124.545651, 1.0], [6.909338, 124.547457, 1.0], [6.909836, 124.549214, 1.0], [6.908157, 124.550297, 1.0], [6.940622, 124.551469, 1.0], [7.350978, 124.555334, 1.0], [6.537, 124.562, 1.0], [7.47156, 124.563541, 1.0], [7.331847, 124.567154, 1.0], [7.15167, 124.56833, 3.0], [6.621954, 124.571637, 1.0], [6.541362, 124.588394, 1.0], [7.128146, 124.590444, 1.0], [6.644478, 124.596186, 1.0], [7.119217, 124.597207, 1.0], [7.119097, 124.597462, 1.0], [6.632111, 124.597764, 1.0], [6.632264, 124.597814, 2.0], [6.631542, 124.597875, 1.0], [6.637796, 124.599145, 1.0], [7.036581, 124.599275, 1.0], [6.631667, 124.599745, 3.0], [6.631996, 124.60181, 1.0], [6.634298, 124.602363, 1.0], [8.229316, 124.611832, 1.0], [12.0592, 124.61495, 1.0], [12.201111, 124.617222, 1.0], [7.053143, 124.61927, 1.0], [7.05296, 124.624261, 1.0], [8.036249, 124.626157, 1.0], [8.035507, 124.626297, 1.0], [7.040285, 124.626683, 1.0], [6.663066, 124.626741, 1.0], [5.989446, 124.629173, 3.0], [7.188705, 124.630266, 1.0], [7.188938, 124.630337, 2.0], [7.188319, 124.630411, 1.0], [6.97282, 124.630855, 1.0], [6.806943, 124.631206, 1.0], [7.188878, 124.631588, 1.0], [8.454236, 124.631898, 1.0], [8.454237, 124.631898, 1.0], [8.454241, 124.631964, 1.0], [7.190083, 124.632734, 1.0], [7.050281, 124.63361, 2.0], [7.046784, 124.634975, 1.0], [6.37378, 124.63818, 1.0], [6.023487, 124.644225, 1.0], [7.087946, 124.652081, 1.0], [7.074574, 124.668732, 1.0], [7.072722, 124.670132, 1.0], [7.071425, 124.670445, 1.0], [7.054, 124.672, 3.0], [7.054007, 124.672, 1.0], [7.053851, 124.672016, 2.0], [7.053765, 124.672095, 3.0], [7.0548, 124.672276, 2.0], [7.053861, 124.672472, 1.0], [7.053941, 124.672642, 1.0], [6.435997, 124.672939, 1.0], [6.431844, 124.67349, 1.0], [7.05372, 124.673587, 1.0], [7.054419, 124.673985, 1.0], [6.257165, 124.674124, 1.0], [7.052302, 124.674337, 1.0], [6.437151, 124.674441, 1.0], [7.054666, 124.674481, 1.0], [7.052832, 124.674882, 1.0], [6.689156, 124.675715, 1.0], [7.05441, 124.675925, 1.0], [6.688443, 124.676801, 1.0], [7.054944, 124.676876, 2.0], [7.055901, 124.678316, 1.0], [6.690122, 124.678582, 1.0], [6.688556, 124.678756, 1.0], [6.688453, 124.678773, 1.0], [6.687966, 124.678774, 8.0], [6.688606, 124.679962, 1.0], [7.056318, 124.680812, 1.0], [7.046425, 124.681815, 1.0], [7.050292, 124.68843, 1.0], [11.823425, 124.69506, 1.0], [7.03333, 124.7, 1.0], [7.056473, 124.700856, 2.0], [7.051888, 124.724129, 1.0], [7.051969, 124.724173, 1.0], [6.764201, 124.7313, 1.0], [6.700019, 124.733333, 1.0], [10.49241, 124.741302, 1.0], [6.702104, 124.741539, 2.0], [7.121111, 124.7425, 1.0], [6.373889, 124.746455, 1.0], [10.373363, 124.749222, 1.0], [7.750807, 124.749491, 1.0], [6.969691, 124.751026, 1.0], [6.571205, 124.760888, 1.0], [6.570984, 124.761071, 1.0], [7.147222, 124.764167, 1.0], [7.102509, 124.765038, 1.0], [7.1, 124.766667, 1.0], [6.700189, 124.783088, 1.0], [7.291291, 124.786023, 1.0], [7.28469, 124.786544, 1.0], [6.73058, 124.788544, 1.0], [7.265751, 124.788665, 1.0], [7.256043, 124.789938, 1.0], [7.249684, 124.790605, 1.0], [6.719264, 124.793365, 1.0], [6.810173, 124.793959, 1.0], [6.721616, 124.794109, 1.0], [6.3884, 124.796146, 1.0], [7.199509, 124.796982, 9.0], [7.17967, 124.799108, 1.0], [6.743267, 124.801695, 1.0], [6.743265, 124.801718, 1.0], [6.390069, 124.801899, 1.0], [7.11333, 124.805831, 1.0], [7.113008, 124.808432, 1.0], [7.11412, 124.808899, 2.0], [7.112214, 124.809737, 1.0], [7.833119, 124.813742, 1.0], [7.15139, 124.81583, 1.0], [7.151401, 124.81583, 1.0], [7.116489, 124.816659, 2.0], [7.116667, 124.816667, 2.0], [7.13333, 124.81667, 1.0], [7.382613, 124.818259, 1.0], [6.213642, 124.822629, 1.0], [7.108102, 124.824128, 1.0], [7.111828, 124.824596, 3.0], [7.65129, 124.824638, 1.0], [7.107996, 124.82476, 1.0], [7.109069, 124.824772, 1.0], [6.015738, 124.8252, 1.0], [7.109277, 124.825247, 2.0], [7.10756, 124.825512, 1.0], [7.105662, 124.825577, 1.0], [7.108048, 124.825722, 1.0], [7.10677, 124.825838, 1.0], [7.108539, 124.825905, 1.0], [7.107366, 124.825974, 2.0], [7.108473, 124.826464, 1.0], [7.108994, 124.826812, 3.0], [7.10728, 124.827031, 1.0], [7.108047, 124.827433, 1.0], [7.108959, 124.828119, 1.0], [6.733946, 124.834342, 1.0], [7.107192, 124.840341, 1.0], [1.491701, 124.842843, 1.0], [6.497656, 124.849655, 3.0], [6.766944, 124.85, 3.0], [6.744425, 124.867382, 1.0], [6.743615, 124.867594, 1.0], [6.83155, 124.874207, 1.0], [6.831276, 124.877009, 1.0], [6.83014, 124.877041, 1.0], [6.946148, 124.878082, 1.0], [6.946939, 124.87966, 1.0], [6.946661, 124.880331, 1.0], [6.947558, 124.880492, 1.0], [6.947169, 124.882766, 1.0], [6.947032, 124.882797, 1.0], [6.833333, 124.883333, 1.0], [6.950012, 124.883333, 3.0], [11.772923, 124.884424, 1.0], [12.321094, 124.892505, 1.0], [7.083386, 124.899953, 1.0], [7.084194, 124.900047, 2.0], [11.770234, 124.922361, 1.0], [6.445373, 124.924468, 1.0], [7.189447, 124.92525, 1.0], [6.684672, 124.961654, 1.0], [11.836268, 124.961687, 1.0], [6.654931, 124.979746, 1.0], [7.06, 124.98, 2.0], [8.05, 124.983333, 1.0], [8.266667, 124.983333, 1.0], [5.862281, 124.990597, 1.0], [5.86205, 124.996969, 1.0], [7.761217, 125.001825, 1.0], [7.763479, 125.003925, 1.0], [7.762916, 125.005822, 1.0], [6.473668, 125.006011, 1.0], [7.377685, 125.011862, 1.0], [7.632876, 125.016251, 1.0], [7.633114, 125.017002, 1.0], [7.800962, 125.017211, 1.0], [7.117042, 125.021423, 2.0], [6.902441, 125.028148, 1.0], [12.339712, 125.032066, 1.0], [7.067748, 125.033156, 1.0], [6.911132, 125.037632, 1.0], [7.108335, 125.038816, 2.0], [7.188152, 125.045421, 1.0], [7.130171, 125.049507, 1.0], [6.950561, 125.049593, 1.0], [6.95, 125.05, 4.0], [7.155758, 125.054344, 1.0], [7.248848, 125.055368, 1.0], [6.224513, 125.060841, 1.0], [6.198377, 125.061314, 1.0], [6.219802, 125.063851, 1.0], [6.218368, 125.064406, 1.0], [6.217648, 125.066793, 1.0], [12.340315, 125.069098, 1.0], [6.697343, 125.082779, 10.0], [6.965841, 125.084105, 1.0], [7.064015, 125.087258, 1.0], [6.962435, 125.087624, 1.0], [7.609688, 125.088363, 1.0], [7.365787, 125.088744, 1.0], [7.012493, 125.091051, 1.0], [7.020898, 125.091469, 10.0], [7.347222, 125.092222, 1.0], [7.345683, 125.09248, 1.0], [7.389535, 125.092564, 1.0], [7.184525, 125.095929, 1.0], [6.950745, 125.09852, 1.0], [7.729831, 125.098986, 2.0], [7.729753, 125.100227, 1.0], [7.1475, 125.103056, 1.0], [7.595785, 125.105121, 1.0], [7.609691, 125.113125, 1.0], [7.432821, 125.11983, 1.0], [7.101886, 125.122319, 1.0], [7.228518, 125.123224, 1.0], [7.100287, 125.125998, 1.0], [6.94389, 125.12944, 1.0], [7.104016, 125.130313, 1.0], [7.243473, 125.135475, 1.0], [7.238969, 125.142004, 1.0], [7.353767, 125.147445, 3.0], [11.41676, 125.166192, 1.0], [6.11622, 125.169395, 8.0], [7.602754, 125.169529, 1.0], [6.118881, 125.169533, 1.0], [7.86319, 125.170874, 1.0], [6.928333, 125.176389, 1.0], [7.318332, 125.184317, 1.0], [6.991315, 125.188379, 1.0], [6.923761, 125.190422, 1.0], [11.378541, 125.201582, 1.0], [6.742624, 125.204618, 1.0], [6.790861, 125.205552, 1.0], [6.790879, 125.20867, 2.0], [6.781093, 125.210871, 1.0], [6.784057, 125.217967, 1.0], [7.709312, 125.222853, 1.0], [5.803388, 125.224235, 1.0], [6.151738, 125.227198, 1.0], [6.752152, 125.243368, 1.0], [6.770441, 125.243406, 1.0], [7.946025, 125.244473, 1.0], [6.083364, 125.282522, 1.0], [5.966235, 125.285262, 1.0], [6.101481, 125.289746, 3.0], [12.382934, 125.29949, 1.0], [8.090201, 125.323546, 1.0], [7.391979, 125.324677, 1.0], [7.848097, 125.347133, 1.0], [6.759496, 125.350978, 1.0], [6.75235, 125.351378, 1.0], [6.755841, 125.351678, 1.0], [8.972516, 125.351846, 1.0], [6.752898, 125.356294, 1.0], [7.371944, 125.404722, 1.0], [9.613777, 125.411322, 1.0], [6.846821, 125.417152, 1.0], [6.094381, 125.418938, 1.0], [9.730278, 125.430833, 1.0], [7.267752, 125.440773, 1.0], [11.110724, 125.445758, 1.0], [11.995278, 125.447222, 1.0], [9.595122, 125.456352, 1.0], [7.32327, 125.459693, 1.0], [7.190952, 125.461578, 7.0], [7.323904, 125.461709, 1.0], [7.352012, 125.467153, 1.0], [7.351838, 125.467237, 1.0], [6.554114, 125.472715, 1.0], [6.96212, 125.475492, 1.0], [9.78472, 125.489693, 2.0], [7.185673, 125.492409, 1.0], [7.009218, 125.494197, 1.0], [7.371271, 125.49612, 1.0], [7.044866, 125.50293, 1.0], [7.273404, 125.53295, 1.0], [8.947626, 125.540529, 1.0], [8.947538, 125.540623, 1.0], [7.336844, 125.555317, 1.0], [7.661141, 125.55897, 2.0], [9.161206, 125.561011, 1.0], [7.400711, 125.571304, 1.0], [9.053414, 125.5866, 1.0], [7.123938, 125.598768, 1.0], [7.083241, 125.600998, 5.0], [8.113273, 125.607828, 1.0], [7.837468, 125.611574, 1.0], [7.616669, 125.616667, 1.0], [7.626124, 125.619165, 1.0], [9.420658, 125.620484, 1.0], [7.6246, 125.620494, 1.0], [9.6, 125.633333, 1.0], [7.095389, 125.638534, 1.0], [7.781691, 125.66863, 1.0], [8.816667, 125.7, 1.0], [7.360533, 125.706324, 1.0], [9.573838, 125.732754, 1.0], [9.5725, 125.73306, 2.0], [8.0525, 125.748611, 1.0], [8.450309, 125.752093, 1.0], [8.270833, 125.799722, 1.0], [7.6551, 125.803276, 1.0], [7.447922, 125.807877, 1.0], [7.448212, 125.809424, 2.0], [7.833053, 125.816497, 1.0], [7.83, 125.82, 1.0], [8.383212, 125.820122, 1.0], [7.494105, 125.826106, 1.0], [7.310036, 125.850589, 1.0], [8.187066, 125.852931, 1.0], [7.364962, 125.853401, 1.0], [7.363701, 125.85499, 1.0], [7.281763, 125.856773, 1.0], [7.28489, 125.857258, 1.0], [7.360681, 125.857343, 1.0], [7.282129, 125.857401, 3.0], [7.283526, 125.857527, 1.0], [7.357986, 125.857563, 1.0], [7.283512, 125.859656, 1.0], [7.416959, 125.860177, 1.0], [8.058913, 125.861375, 1.0], [7.232277, 125.862522, 1.0], [7.244258, 125.891141, 1.0], [7.17124, 125.894394, 1.0], [7.128161, 125.896379, 1.0], [7.508446, 125.921654, 1.0], [7.5, 125.933333, 2.0], [7.150026, 125.949867, 1.0], [7.15, 125.95, 1.0], [7.6, 125.95, 1.0], [7.446227, 125.95858, 1.0], [7.49596, 125.964158, 1.0], [9.216941, 125.965267, 1.0], [9.216819, 125.966701, 1.0], [7.601194, 125.966781, 1.0], [7.519444, 125.971667, 1.0], [8.617308, 125.984131, 1.0], [8.882988, 125.997348, 1.0], [7.285887, 125.99765, 1.0], [7.578889, 125.998056, 1.0], [8.883333, 126.0, 1.0], [7.396099, 126.000056, 1.0], [7.386914, 126.033273, 1.0], [7.387643, 126.033559, 1.0], [7.823071, 126.055367, 2.0], [8.683174, 126.06148, 1.0], [7.583611, 126.074167, 1.0], [7.674885, 126.08153, 1.0], [7.666185, 126.084369, 1.0], [7.665968, 126.084695, 2.0], [7.670653, 126.085624, 1.0], [7.677712, 126.088223, 1.0], [9.93694, 126.08861, 1.0], [8.632745, 126.095013, 1.0], [7.705628, 126.105552, 1.0], [7.706295, 126.106131, 1.0], [7.714445, 126.106622, 1.0], [7.352352, 126.125679, 1.0], [7.609376, 126.12583, 1.0], [8.52307, 126.126277, 1.0], [8.674814, 126.137768, 1.0], [7.638948, 126.153737, 1.0], [7.352189, 126.15454, 1.0], [7.255222, 126.156203, 1.0], [7.249165, 126.15822, 1.0], [9.234873, 126.165522, 1.0], [7.250822, 126.168169, 1.0], [7.106, 126.176643, 1.0], [7.51951, 126.216075, 1.0], [6.951876, 126.216168, 1.0], [8.246064, 126.229219, 1.0], [8.766104, 126.238398, 1.0], [8.82703, 126.294545, 1.0], [8.800893, 126.299836, 1.0], [7.042777, 126.449221, 1.0], [7.76931, 126.453049, 1.0], [7.317427, 126.547417, 1.0], [7.695505, 126.549117, 1.0], [0.781083, 127.38132, 2.0], [-3.707427, 128.169958, 1.0], [-3.679433, 128.2269, 1.0], [2.051914, 128.294517, 1.0], [-3.34111, 128.923529, 3.0], [-2.534382, 140.709304, 1.0], [-2.528781, 140.713463, 1.0], [-2.533, 140.717, 1.0]],\n",
       "                {\n",
       "  &quot;minOpacity&quot;: 0.5,\n",
       "  &quot;maxZoom&quot;: 18,\n",
       "  &quot;radius&quot;: 25,\n",
       "  &quot;blur&quot;: 15,\n",
       "}\n",
       "            );\n",
       "        \n",
       "    \n",
       "            heat_map_66f3e9dbb1e72908c2e52eea1186dda4.addTo(map_5bb3460a2c53949dff020e6d247c8d67);\n",
       "        \n",
       "&lt;/script&gt;\n",
       "&lt;/html&gt;\" style=\"position:absolute;width:100%;height:100%;left:0;top:0;border:none !important;\" allowfullscreen webkitallowfullscreen mozallowfullscreen></iframe></div></div>"
      ],
      "text/plain": [
       "<folium.folium.Map at 0x26c87566450>"
      ]
     },
     "execution_count": 111,
     "metadata": {},
     "output_type": "execute_result"
    }
   ],
   "source": [
    "m8"
   ]
  },
  {
   "cell_type": "code",
   "execution_count": null,
   "id": "a7f81cdc-6b9a-4692-a210-6eb7b5690858",
   "metadata": {},
   "outputs": [],
   "source": []
  },
  {
   "cell_type": "code",
   "execution_count": null,
   "id": "57c1f21e-bac6-4e98-94b8-4a18a457d143",
   "metadata": {},
   "outputs": [],
   "source": []
  },
  {
   "cell_type": "markdown",
   "id": "d5acd288-4ee6-4638-90a2-66e34a6a3c46",
   "metadata": {},
   "source": [
    "<h1>Insight 9: High-Fatality Attacks in North America"
   ]
  },
  {
   "cell_type": "code",
   "execution_count": 116,
   "id": "a401e2f5-4656-41c7-99e1-29a2ab4a70c2",
   "metadata": {},
   "outputs": [],
   "source": [
    "filter1 = df[df['region_txt'] == 'North America']"
   ]
  },
  {
   "cell_type": "code",
   "execution_count": 117,
   "id": "a55316ae-658f-4079-81c1-c453587e768e",
   "metadata": {},
   "outputs": [],
   "source": [
    "filter2 = filter1[filter1['nkill'] >= 5]"
   ]
  },
  {
   "cell_type": "code",
   "execution_count": 118,
   "id": "145880af-f24a-44e9-a01b-b0e492612fae",
   "metadata": {},
   "outputs": [],
   "source": [
    "NA_fatal = filter2.groupby(['longitude', 'latitude']).size().reset_index(name='incident_count')\n"
   ]
  },
  {
   "cell_type": "code",
   "execution_count": 119,
   "id": "5b85bd9c-b238-4921-b1db-b19c63ad6435",
   "metadata": {},
   "outputs": [
    {
     "data": {
      "text/plain": [
       "<folium.plugins.heat_map.HeatMap at 0x26c877036c0>"
      ]
     },
     "execution_count": 119,
     "metadata": {},
     "output_type": "execute_result"
    }
   ],
   "source": [
    "m10 = folium.Map(location=[40, -100], zoom_start=4)\n",
    "HeatMap(NA_fatal[['latitude', 'longitude', 'incident_count']].values.tolist()).add_to(m10)"
   ]
  },
  {
   "cell_type": "code",
   "execution_count": 120,
   "id": "cadca0cd-9342-4f76-9af0-2e05dcb11c6e",
   "metadata": {},
   "outputs": [
    {
     "data": {
      "text/html": [
       "<div style=\"width:100%;\"><div style=\"position:relative;width:100%;height:0;padding-bottom:60%;\"><span style=\"color:#565656\">Make this Notebook Trusted to load map: File -> Trust Notebook</span><iframe srcdoc=\"&lt;!DOCTYPE html&gt;\n",
       "&lt;html&gt;\n",
       "&lt;head&gt;\n",
       "    \n",
       "    &lt;meta http-equiv=&quot;content-type&quot; content=&quot;text/html; charset=UTF-8&quot; /&gt;\n",
       "    \n",
       "        &lt;script&gt;\n",
       "            L_NO_TOUCH = false;\n",
       "            L_DISABLE_3D = false;\n",
       "        &lt;/script&gt;\n",
       "    \n",
       "    &lt;style&gt;html, body {width: 100%;height: 100%;margin: 0;padding: 0;}&lt;/style&gt;\n",
       "    &lt;style&gt;#map {position:absolute;top:0;bottom:0;right:0;left:0;}&lt;/style&gt;\n",
       "    &lt;script src=&quot;https://cdn.jsdelivr.net/npm/leaflet@1.9.3/dist/leaflet.js&quot;&gt;&lt;/script&gt;\n",
       "    &lt;script src=&quot;https://code.jquery.com/jquery-3.7.1.min.js&quot;&gt;&lt;/script&gt;\n",
       "    &lt;script src=&quot;https://cdn.jsdelivr.net/npm/bootstrap@5.2.2/dist/js/bootstrap.bundle.min.js&quot;&gt;&lt;/script&gt;\n",
       "    &lt;script src=&quot;https://cdnjs.cloudflare.com/ajax/libs/Leaflet.awesome-markers/2.0.2/leaflet.awesome-markers.js&quot;&gt;&lt;/script&gt;\n",
       "    &lt;link rel=&quot;stylesheet&quot; href=&quot;https://cdn.jsdelivr.net/npm/leaflet@1.9.3/dist/leaflet.css&quot;/&gt;\n",
       "    &lt;link rel=&quot;stylesheet&quot; href=&quot;https://cdn.jsdelivr.net/npm/bootstrap@5.2.2/dist/css/bootstrap.min.css&quot;/&gt;\n",
       "    &lt;link rel=&quot;stylesheet&quot; href=&quot;https://netdna.bootstrapcdn.com/bootstrap/3.0.0/css/bootstrap-glyphicons.css&quot;/&gt;\n",
       "    &lt;link rel=&quot;stylesheet&quot; href=&quot;https://cdn.jsdelivr.net/npm/@fortawesome/fontawesome-free@6.2.0/css/all.min.css&quot;/&gt;\n",
       "    &lt;link rel=&quot;stylesheet&quot; href=&quot;https://cdnjs.cloudflare.com/ajax/libs/Leaflet.awesome-markers/2.0.2/leaflet.awesome-markers.css&quot;/&gt;\n",
       "    &lt;link rel=&quot;stylesheet&quot; href=&quot;https://cdn.jsdelivr.net/gh/python-visualization/folium/folium/templates/leaflet.awesome.rotate.min.css&quot;/&gt;\n",
       "    \n",
       "            &lt;meta name=&quot;viewport&quot; content=&quot;width=device-width,\n",
       "                initial-scale=1.0, maximum-scale=1.0, user-scalable=no&quot; /&gt;\n",
       "            &lt;style&gt;\n",
       "                #map_81b57c67401505db65ce242134562720 {\n",
       "                    position: relative;\n",
       "                    width: 100.0%;\n",
       "                    height: 100.0%;\n",
       "                    left: 0.0%;\n",
       "                    top: 0.0%;\n",
       "                }\n",
       "                .leaflet-container { font-size: 1rem; }\n",
       "            &lt;/style&gt;\n",
       "        \n",
       "    &lt;script src=&quot;https://cdn.jsdelivr.net/gh/python-visualization/folium@main/folium/templates/leaflet_heat.min.js&quot;&gt;&lt;/script&gt;\n",
       "&lt;/head&gt;\n",
       "&lt;body&gt;\n",
       "    \n",
       "    \n",
       "            &lt;div class=&quot;folium-map&quot; id=&quot;map_81b57c67401505db65ce242134562720&quot; &gt;&lt;/div&gt;\n",
       "        \n",
       "&lt;/body&gt;\n",
       "&lt;script&gt;\n",
       "    \n",
       "    \n",
       "            var map_81b57c67401505db65ce242134562720 = L.map(\n",
       "                &quot;map_81b57c67401505db65ce242134562720&quot;,\n",
       "                {\n",
       "                    center: [40.0, -100.0],\n",
       "                    crs: L.CRS.EPSG3857,\n",
       "                    ...{\n",
       "  &quot;zoom&quot;: 4,\n",
       "  &quot;zoomControl&quot;: true,\n",
       "  &quot;preferCanvas&quot;: false,\n",
       "}\n",
       "\n",
       "                }\n",
       "            );\n",
       "\n",
       "            \n",
       "\n",
       "        \n",
       "    \n",
       "            var tile_layer_a7971407ca14b38cfd91e0266e215801 = L.tileLayer(\n",
       "                &quot;https://tile.openstreetmap.org/{z}/{x}/{y}.png&quot;,\n",
       "                {\n",
       "  &quot;minZoom&quot;: 0,\n",
       "  &quot;maxZoom&quot;: 19,\n",
       "  &quot;maxNativeZoom&quot;: 19,\n",
       "  &quot;noWrap&quot;: false,\n",
       "  &quot;attribution&quot;: &quot;\\u0026copy; \\u003ca href=\\&quot;https://www.openstreetmap.org/copyright\\&quot;\\u003eOpenStreetMap\\u003c/a\\u003e contributors&quot;,\n",
       "  &quot;subdomains&quot;: &quot;abc&quot;,\n",
       "  &quot;detectRetina&quot;: false,\n",
       "  &quot;tms&quot;: false,\n",
       "  &quot;opacity&quot;: 1,\n",
       "}\n",
       "\n",
       "            );\n",
       "        \n",
       "    \n",
       "            tile_layer_a7971407ca14b38cfd91e0266e215801.addTo(map_81b57c67401505db65ce242134562720);\n",
       "        \n",
       "    \n",
       "            var heat_map_ad24e5b004e371105e0fb229f87ac63c = L.heatLayer(\n",
       "                [[43.288981, -123.333302, 1.0], [34.07577, -117.277924, 1.0], [32.493683, -116.95295, 1.0], [36.211296, -115.247536, 1.0], [36.082645, -115.135925, 1.0], [24.413892, -106.727641, 1.0], [39.616905, -105.014519, 1.0], [24.565195, -104.648269, 1.0], [20.673343, -103.344177, 1.0], [19.406383, -101.639973, 1.0], [19.700593, -101.186421, 2.0], [18.154182, -100.499655, 1.0], [18.158959, -100.390648, 1.0], [17.406262, -100.33632, 1.0], [25.673211, -100.309201, 1.0], [17.311791, -100.298095, 1.0], [16.816163, -99.66802, 1.0], [19.371887, -99.086624, 6.0], [24.26694, -98.836276, 1.0], [17.739294, -98.659317, 1.0], [31.13, -97.78, 1.0], [35.472015, -97.520354, 1.0], [31.816677, -97.087902, 1.0], [32.779578, -96.804259, 1.0], [17.054348, -96.712954, 2.0], [19.2, -96.133333, 1.0], [16.756932, -93.129235, 9.0], [16.782334, -93.106199, 1.0], [17.16028, -92.89976, 1.0], [16.784013, -92.689632, 1.0], [16.738601, -92.633229, 2.0], [16.893485, -92.626492, 2.0], [16.9878, -92.5186, 1.0], [17.400891, -92.463905, 1.0], [15.743255, -92.28566, 2.0], [29.954649, -90.074975, 1.0], [42.88585, -87.863136, 1.0], [21.156762, -86.842448, 1.0], [35.095083, -85.253424, 1.0], [28.519601, -81.376794, 1.0], [26.071231, -80.145668, 1.0], [32.787474, -79.933101, 1.0], [36.068994, -79.794704, 1.0], [43.666667, -79.416667, 1.0], [40.018464, -78.907197, 1.0], [38.878742, -77.100006, 1.0], [38.908642, -77.015381, 1.0], [40.697132, -73.931351, 5.0], [45.501675, -73.567215, 1.0], [46.777907, -71.305364, 1.0]],\n",
       "                {\n",
       "  &quot;minOpacity&quot;: 0.5,\n",
       "  &quot;maxZoom&quot;: 18,\n",
       "  &quot;radius&quot;: 25,\n",
       "  &quot;blur&quot;: 15,\n",
       "}\n",
       "            );\n",
       "        \n",
       "    \n",
       "            heat_map_ad24e5b004e371105e0fb229f87ac63c.addTo(map_81b57c67401505db65ce242134562720);\n",
       "        \n",
       "&lt;/script&gt;\n",
       "&lt;/html&gt;\" style=\"position:absolute;width:100%;height:100%;left:0;top:0;border:none !important;\" allowfullscreen webkitallowfullscreen mozallowfullscreen></iframe></div></div>"
      ],
      "text/plain": [
       "<folium.folium.Map at 0x26c87565f50>"
      ]
     },
     "execution_count": 120,
     "metadata": {},
     "output_type": "execute_result"
    }
   ],
   "source": [
    "m10"
   ]
  },
  {
   "cell_type": "code",
   "execution_count": null,
   "id": "b1b76f71-89ca-4b26-b727-5d1c771b8348",
   "metadata": {},
   "outputs": [],
   "source": []
  },
  {
   "cell_type": "code",
   "execution_count": null,
   "id": "9e2cf4b4-6f6e-4680-80d3-e6755fce8de2",
   "metadata": {},
   "outputs": [],
   "source": []
  },
  {
   "cell_type": "markdown",
   "id": "fb939319-f767-4b7f-92e5-4c2d4364a82a",
   "metadata": {},
   "source": [
    "<h1>Insight 10: Attacks in Western Europe with 3+ Fatalities</h1>"
   ]
  },
  {
   "cell_type": "code",
   "execution_count": 126,
   "id": "dd7cf2c2-fd16-4b4d-a26e-8998a834af11",
   "metadata": {},
   "outputs": [],
   "source": [
    "filter1 = df[(df['region_txt'] == 'Western Europe') & (df['nkill'] >= 3)]"
   ]
  },
  {
   "cell_type": "code",
   "execution_count": 127,
   "id": "1f8c40cc-64f9-4e3b-946c-40d807764ebf",
   "metadata": {},
   "outputs": [],
   "source": [
    "WE_fatal = filter1.groupby(['longitude', 'latitude']).size().reset_index(name='incident_count')"
   ]
  },
  {
   "cell_type": "code",
   "execution_count": 128,
   "id": "01b0c1a6-1f2b-4bc6-ac8b-fbe5eb2039eb",
   "metadata": {},
   "outputs": [
    {
     "data": {
      "text/plain": [
       "<folium.plugins.heat_map.HeatMap at 0x26c78e268d0>"
      ]
     },
     "execution_count": 128,
     "metadata": {},
     "output_type": "execute_result"
    }
   ],
   "source": [
    "m9 = folium.Map(location=[50, 5], zoom_start=5)\n",
    "HeatMap(WE_fatal[['latitude', 'longitude', 'incident_count']].values.tolist()).add_to(m9)\n"
   ]
  },
  {
   "cell_type": "code",
   "execution_count": 129,
   "id": "889928a5-56c7-445f-9209-d5fb9155b72f",
   "metadata": {},
   "outputs": [
    {
     "data": {
      "text/html": [
       "<div style=\"width:100%;\"><div style=\"position:relative;width:100%;height:0;padding-bottom:60%;\"><span style=\"color:#565656\">Make this Notebook Trusted to load map: File -> Trust Notebook</span><iframe srcdoc=\"&lt;!DOCTYPE html&gt;\n",
       "&lt;html&gt;\n",
       "&lt;head&gt;\n",
       "    \n",
       "    &lt;meta http-equiv=&quot;content-type&quot; content=&quot;text/html; charset=UTF-8&quot; /&gt;\n",
       "    \n",
       "        &lt;script&gt;\n",
       "            L_NO_TOUCH = false;\n",
       "            L_DISABLE_3D = false;\n",
       "        &lt;/script&gt;\n",
       "    \n",
       "    &lt;style&gt;html, body {width: 100%;height: 100%;margin: 0;padding: 0;}&lt;/style&gt;\n",
       "    &lt;style&gt;#map {position:absolute;top:0;bottom:0;right:0;left:0;}&lt;/style&gt;\n",
       "    &lt;script src=&quot;https://cdn.jsdelivr.net/npm/leaflet@1.9.3/dist/leaflet.js&quot;&gt;&lt;/script&gt;\n",
       "    &lt;script src=&quot;https://code.jquery.com/jquery-3.7.1.min.js&quot;&gt;&lt;/script&gt;\n",
       "    &lt;script src=&quot;https://cdn.jsdelivr.net/npm/bootstrap@5.2.2/dist/js/bootstrap.bundle.min.js&quot;&gt;&lt;/script&gt;\n",
       "    &lt;script src=&quot;https://cdnjs.cloudflare.com/ajax/libs/Leaflet.awesome-markers/2.0.2/leaflet.awesome-markers.js&quot;&gt;&lt;/script&gt;\n",
       "    &lt;link rel=&quot;stylesheet&quot; href=&quot;https://cdn.jsdelivr.net/npm/leaflet@1.9.3/dist/leaflet.css&quot;/&gt;\n",
       "    &lt;link rel=&quot;stylesheet&quot; href=&quot;https://cdn.jsdelivr.net/npm/bootstrap@5.2.2/dist/css/bootstrap.min.css&quot;/&gt;\n",
       "    &lt;link rel=&quot;stylesheet&quot; href=&quot;https://netdna.bootstrapcdn.com/bootstrap/3.0.0/css/bootstrap-glyphicons.css&quot;/&gt;\n",
       "    &lt;link rel=&quot;stylesheet&quot; href=&quot;https://cdn.jsdelivr.net/npm/@fortawesome/fontawesome-free@6.2.0/css/all.min.css&quot;/&gt;\n",
       "    &lt;link rel=&quot;stylesheet&quot; href=&quot;https://cdnjs.cloudflare.com/ajax/libs/Leaflet.awesome-markers/2.0.2/leaflet.awesome-markers.css&quot;/&gt;\n",
       "    &lt;link rel=&quot;stylesheet&quot; href=&quot;https://cdn.jsdelivr.net/gh/python-visualization/folium/folium/templates/leaflet.awesome.rotate.min.css&quot;/&gt;\n",
       "    \n",
       "            &lt;meta name=&quot;viewport&quot; content=&quot;width=device-width,\n",
       "                initial-scale=1.0, maximum-scale=1.0, user-scalable=no&quot; /&gt;\n",
       "            &lt;style&gt;\n",
       "                #map_fc335c943afba5d7714a330d41cb1d2b {\n",
       "                    position: relative;\n",
       "                    width: 100.0%;\n",
       "                    height: 100.0%;\n",
       "                    left: 0.0%;\n",
       "                    top: 0.0%;\n",
       "                }\n",
       "                .leaflet-container { font-size: 1rem; }\n",
       "            &lt;/style&gt;\n",
       "        \n",
       "    &lt;script src=&quot;https://cdn.jsdelivr.net/gh/python-visualization/folium@main/folium/templates/leaflet_heat.min.js&quot;&gt;&lt;/script&gt;\n",
       "&lt;/head&gt;\n",
       "&lt;body&gt;\n",
       "    \n",
       "    \n",
       "            &lt;div class=&quot;folium-map&quot; id=&quot;map_fc335c943afba5d7714a330d41cb1d2b&quot; &gt;&lt;/div&gt;\n",
       "        \n",
       "&lt;/body&gt;\n",
       "&lt;script&gt;\n",
       "    \n",
       "    \n",
       "            var map_fc335c943afba5d7714a330d41cb1d2b = L.map(\n",
       "                &quot;map_fc335c943afba5d7714a330d41cb1d2b&quot;,\n",
       "                {\n",
       "                    center: [50.0, 5.0],\n",
       "                    crs: L.CRS.EPSG3857,\n",
       "                    ...{\n",
       "  &quot;zoom&quot;: 5,\n",
       "  &quot;zoomControl&quot;: true,\n",
       "  &quot;preferCanvas&quot;: false,\n",
       "}\n",
       "\n",
       "                }\n",
       "            );\n",
       "\n",
       "            \n",
       "\n",
       "        \n",
       "    \n",
       "            var tile_layer_995aa8f6f8ee081774ee134cf7067a1e = L.tileLayer(\n",
       "                &quot;https://tile.openstreetmap.org/{z}/{x}/{y}.png&quot;,\n",
       "                {\n",
       "  &quot;minZoom&quot;: 0,\n",
       "  &quot;maxZoom&quot;: 19,\n",
       "  &quot;maxNativeZoom&quot;: 19,\n",
       "  &quot;noWrap&quot;: false,\n",
       "  &quot;attribution&quot;: &quot;\\u0026copy; \\u003ca href=\\&quot;https://www.openstreetmap.org/copyright\\&quot;\\u003eOpenStreetMap\\u003c/a\\u003e contributors&quot;,\n",
       "  &quot;subdomains&quot;: &quot;abc&quot;,\n",
       "  &quot;detectRetina&quot;: false,\n",
       "  &quot;tms&quot;: false,\n",
       "  &quot;opacity&quot;: 1,\n",
       "}\n",
       "\n",
       "            );\n",
       "        \n",
       "    \n",
       "            tile_layer_995aa8f6f8ee081774ee134cf7067a1e.addTo(map_fc335c943afba5d7714a330d41cb1d2b);\n",
       "        \n",
       "    \n",
       "            var heat_map_9dd6c781c340bf24d3a0fc6d60699791 = L.heatLayer(\n",
       "                [[28.124824, -15.430008, 1.0], [38.725299, -9.150036, 1.0], [42.880447, -8.546303, 1.0], [54.466769, -8.450077, 1.0], [43.311976, -8.365491, 1.0], [54.654487, -8.110714, 1.0], [54.482055, -8.088244, 1.0], [54.296399, -7.871465, 1.0], [54.345417, -7.636355, 1.0], [54.673252, -7.627484, 2.0], [54.452223, -7.486124, 1.0], [54.819164, -7.467909, 1.0], [55.033471, -7.357761, 1.0], [55.011562, -7.312045, 5.0], [54.600305, -7.298402, 6.0], [54.910864, -7.15523, 1.0], [54.462837, -7.026944, 1.0], [55.043617, -7.023927, 1.0], [54.24853, -6.96916, 1.0], [54.542956, -6.926293, 1.0], [54.927953, -6.925873, 1.0], [54.50853, -6.763131, 5.0], [54.645861, -6.745149, 1.0], [54.536706, -6.70361, 1.0], [54.441136, -6.685511, 1.0], [54.224159, -6.680845, 1.0], [55.129345, -6.663439, 1.0], [54.347539, -6.656108, 4.0], [54.62713, -6.655224, 1.0], [54.647865, -6.618718, 1.0], [54.6477, -6.6184, 1.0], [54.077313, -6.608787, 3.0], [54.411142, -6.600146, 1.0], [54.05966, -6.57688, 1.0], [54.192934, -6.576051, 1.0], [54.708191, -6.532497, 1.0], [54.101529, -6.526442, 1.0], [54.6197, -6.50612, 1.0], [54.239317, -6.502301, 1.0], [54.223033, -6.486782, 1.0], [54.081638, -6.448779, 1.0], [55.011103, -6.411225, 1.0], [54.194973, -6.397842, 2.0], [54.446968, -6.39292, 3.0], [54.417699, -6.36559, 1.0], [54.373521, -6.359509, 1.0], [54.183052, -6.341388, 7.0], [54.463367, -6.328597, 2.0], [54.102813, -6.259412, 1.0], [53.361675, -6.245485, 1.0], [54.180913, -6.229722, 1.0], [54.713382, -6.216761, 1.0], [54.41653, -6.148866, 1.0], [54.70333, -6.095585, 1.0], [54.515694, -6.055724, 1.0], [54.607712, -5.95621, 36.0], [54.255696, -5.948804, 1.0], [54.55008, -5.93306, 1.0], [54.336787, -5.825816, 1.0], [54.328629, -5.716669, 1.0], [43.46096, -3.807934, 1.0], [40.465595, -3.696263, 24.0], [55.120154, -3.355942, 1.0], [43.309635, -3.00694, 1.0], [43.297222, -2.991667, 1.0], [43.258434, -2.921819, 9.0], [43.230556, -2.845833, 1.0], [43.169068, -2.632655, 1.0], [42.841492, -2.513507, 1.0], [43.270604, -2.497155, 1.0], [43.032888, -2.411348, 1.0], [42.852442, -2.389455, 1.0], [43.178205, -2.31164, 1.0], [43.1839, -2.265466, 1.0], [53.488228, -2.244026, 1.0], [43.280364, -2.171588, 1.0], [43.291618, -1.977903, 8.0], [43.323348, -1.930432, 1.0], [43.311307, -1.900896, 1.0], [52.482961, -1.893592, 2.0], [42.695391, -1.676069, 1.0], [42.815372, -1.653616, 2.0], [53.717059, -1.635032, 1.0], [43.492949, -1.474841, 1.0], [41.656285, -0.876533, 2.0], [51.248429, -0.755979, 2.0], [51.236419, -0.570291, 1.0], [38.41235, -0.443241, 1.0], [51.504387, -0.140041, 11.0], [50.819522, -0.13642, 1.0], [41.066675, 1.060361, 1.0], [49.382753, 1.106722, 1.0], [45.833619, 1.261105, 1.0], [44.016079, 1.35295, 1.0], [51.22181, 1.402734, 1.0], [43.604652, 1.444209, 1.0], [48.969002, 1.684609, 1.0], [41.54862, 2.107421, 1.0], [41.400635, 2.150913, 6.0], [41.930291, 2.25435, 1.0], [48.856644, 2.34233, 16.0], [39.569505, 2.649965, 1.0], [50.9341, 4.04513, 1.0], [50.836426, 4.367415, 3.0], [51.219062, 4.40289, 1.0], [50.897758, 4.478382, 1.0], [45.072641, 4.847654, 1.0], [43.296482, 5.36978, 2.0], [43.302659, 5.380395, 1.0], [43.124228, 5.928, 1.0], [52.211157, 5.969923, 1.0], [52.85949, 6.517689, 1.0], [53.076694, 6.617635, 1.0], [50.940664, 6.959912, 1.0], [50.763756, 6.984697, 1.0], [43.693611, 7.255833, 1.0], [45.072731, 7.679541, 1.0], [49.008085, 8.403756, 1.0], [49.594876, 8.468759, 1.0], [47.174589, 8.513854, 1.0], [47.36865, 8.539182, 1.0], [50.11797, 8.644191, 1.0], [49.4019, 8.680285, 1.0], [41.930607, 8.742907, 2.0], [46.116667, 8.933333, 2.0], [45.469212, 9.174508, 1.0], [49.089814, 9.274567, 1.0], [45.539838, 10.222956, 1.0], [60.023268, 10.24768, 1.0], [53.630197, 10.691558, 1.0], [59.913869, 10.752245, 1.0], [43.768732, 11.256901, 1.0], [44.49419, 11.346518, 2.0], [48.183329, 11.531643, 1.0], [48.139126, 11.580186, 3.0], [58.283489, 12.285821, 1.0], [41.890961, 12.490069, 6.0], [41.640137, 13.351902, 1.0], [38.11564, 13.361406, 2.0], [52.50153, 13.401851, 4.0], [40.840097, 14.251636, 1.0], [47.29482, 16.19914, 1.0], [48.208174, 16.373819, 4.0], [59.332722, 18.062278, 1.0], [59.332788, 18.064488, 1.0], [38.254465, 21.737066, 1.0], [37.746798, 23.426758, 1.0], [37.99749, 23.762728, 6.0], [60.40393, 25.026451, 1.0], [33.6757, 28.7924, 1.0], [34.707332, 33.023397, 1.0], [35.166722, 33.367574, 1.0], [35.166729, 33.367581, 1.0], [35.166752, 33.367604, 1.0], [34.917861, 33.633003, 1.0]],\n",
       "                {\n",
       "  &quot;minOpacity&quot;: 0.5,\n",
       "  &quot;maxZoom&quot;: 18,\n",
       "  &quot;radius&quot;: 25,\n",
       "  &quot;blur&quot;: 15,\n",
       "}\n",
       "            );\n",
       "        \n",
       "    \n",
       "            heat_map_9dd6c781c340bf24d3a0fc6d60699791.addTo(map_fc335c943afba5d7714a330d41cb1d2b);\n",
       "        \n",
       "&lt;/script&gt;\n",
       "&lt;/html&gt;\" style=\"position:absolute;width:100%;height:100%;left:0;top:0;border:none !important;\" allowfullscreen webkitallowfullscreen mozallowfullscreen></iframe></div></div>"
      ],
      "text/plain": [
       "<folium.folium.Map at 0x26c87566e50>"
      ]
     },
     "execution_count": 129,
     "metadata": {},
     "output_type": "execute_result"
    }
   ],
   "source": [
    "m9"
   ]
  },
  {
   "cell_type": "code",
   "execution_count": null,
   "id": "fdd1b3dc-77a6-46e2-84df-409041c8458e",
   "metadata": {},
   "outputs": [],
   "source": []
  },
  {
   "cell_type": "code",
   "execution_count": null,
   "id": "228fd9b2-e24f-4fa5-b44a-0aaa07316935",
   "metadata": {},
   "outputs": [],
   "source": []
  },
  {
   "cell_type": "code",
   "execution_count": null,
   "id": "3af80f96-583d-4651-9019-415b2fe272a7",
   "metadata": {},
   "outputs": [],
   "source": []
  },
  {
   "cell_type": "code",
   "execution_count": null,
   "id": "2c9bdb5e-5db3-42d4-8a37-82fba04f2639",
   "metadata": {},
   "outputs": [],
   "source": []
  },
  {
   "cell_type": "code",
   "execution_count": null,
   "id": "39944e08-464b-4271-bfa2-5e1f2af08ab3",
   "metadata": {},
   "outputs": [],
   "source": []
  },
  {
   "cell_type": "code",
   "execution_count": null,
   "id": "efc7a064-7cdd-4f7c-a2e1-7c43db77d987",
   "metadata": {},
   "outputs": [],
   "source": []
  }
 ],
 "metadata": {
  "kernelspec": {
   "display_name": "Python 3 (ipykernel)",
   "language": "python",
   "name": "python3"
  },
  "language_info": {
   "codemirror_mode": {
    "name": "ipython",
    "version": 3
   },
   "file_extension": ".py",
   "mimetype": "text/x-python",
   "name": "python",
   "nbconvert_exporter": "python",
   "pygments_lexer": "ipython3",
   "version": "3.13.3"
  }
 },
 "nbformat": 4,
 "nbformat_minor": 5
}
